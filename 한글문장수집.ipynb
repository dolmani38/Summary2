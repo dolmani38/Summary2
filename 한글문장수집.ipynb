{
  "nbformat": 4,
  "nbformat_minor": 0,
  "metadata": {
    "colab": {
      "name": "Untitled22.ipynb",
      "provenance": [],
      "authorship_tag": "ABX9TyMMlCi51s39GBZBgtZ6SvVF",
      "include_colab_link": true
    },
    "kernelspec": {
      "name": "python3",
      "display_name": "Python 3"
    }
  },
  "cells": [
    {
      "cell_type": "markdown",
      "metadata": {
        "id": "view-in-github",
        "colab_type": "text"
      },
      "source": [
        "<a href=\"https://colab.research.google.com/github/dolmani38/Summary2/blob/main/%ED%95%9C%EA%B8%80%EB%AC%B8%EC%9E%A5%EC%88%98%EC%A7%91.ipynb\" target=\"_parent\"><img src=\"https://colab.research.google.com/assets/colab-badge.svg\" alt=\"Open In Colab\"/></a>"
      ]
    },
    {
      "cell_type": "markdown",
      "metadata": {
        "id": "20LUFunskl89"
      },
      "source": [
        "# 한글 뉴스 크롤러"
      ]
    },
    {
      "cell_type": "code",
      "metadata": {
        "id": "YbnthNhikpMA",
        "colab": {
          "base_uri": "https://localhost:8080/"
        },
        "outputId": "bf1a5db2-300b-4fb8-dfee-3446615297ff"
      },
      "source": [
        "if True:\n",
        "    from google.colab import drive\n",
        "    drive.mount('/content/drive')"
      ],
      "execution_count": 1,
      "outputs": [
        {
          "output_type": "stream",
          "text": [
            "Mounted at /content/drive\n"
          ],
          "name": "stdout"
        }
      ]
    },
    {
      "cell_type": "code",
      "metadata": {
        "id": "DbGS6FLsLml0"
      },
      "source": [
        "import sys\n",
        "import requests\n",
        "import pandas as pd\n",
        "import datetime\n",
        "import requests\n",
        "import re\n",
        "from bs4 import BeautifulSoup\n",
        "from tqdm import tqdm_notebook\n",
        "from multiprocessing import Pool\n",
        "\n",
        "client_id = \"waXxTjNdGjzj8xtT3nbF\" #1.에서 취득한 아이디 넣기\n",
        "client_secret = \"H6mejnkuYx\"  #1. 에서 취득한 키 넣기\n",
        "\n",
        "\n",
        "# 간단한 전처리\n",
        "def clean_text(txt):\n",
        "    txt = txt.replace('\\n',' ')\n",
        "    txt = txt.replace('\\r',' ')    \n",
        "    txt = txt.replace('=','')\n",
        "    txt = txt.replace('\\\"','')   \n",
        "    txt = txt.replace('\\'','')\n",
        "    txt = txt.replace(',','')\n",
        "    txt = txt.replace('..','')\n",
        "    txt = txt.replace('...','')\n",
        "    txt = txt.replace('”','')\n",
        "    txt = txt.replace('.','. ')\n",
        "    txt = txt.replace('  ',' ')\n",
        "    txt = txt.replace('  ',' ')    \n",
        "    txt = txt.replace('  ',' ')   \n",
        "    txt = txt.replace('  ',' ')           \n",
        "    txt = txt.replace('  ',' ')\n",
        "    txt = txt.replace('  ',' ')    \n",
        "    txt = txt.replace('  ',' ')   \n",
        "    txt = txt.replace('  ',' ')             \n",
        "    return txt.strip()\n",
        "\n",
        "def clean_html(x):\n",
        "    x = re.sub(\"\\&\\w*\\;\",\"\",x)\n",
        "    x = re.sub(\"<.*?>\",\"\",x)\n",
        "    return x\n",
        "\n",
        "def get_news_urls(search_word = '코로나',max_display = 100):\n",
        "    encode_type = 'json' #출력 방식 json 또는 xml\n",
        "    #max_display = 100 #출력 뉴스 수\n",
        "    sort = 'date' #결과값의 정렬기준 시간순 date, 관련도 순 sim\n",
        "    start = 1 # 출력 위치\n",
        "\n",
        "    url = f\"https://openapi.naver.com/v1/search/news.{encode_type}?query={search_word}&display={str(int(max_display))}&start={str(int(start))}&sort={sort}\"\n",
        "\n",
        "    #print(url)\n",
        "    #헤더에 아이디와 키 정보 넣기\n",
        "    headers = {'X-Naver-Client-Id' : client_id,\n",
        "            'X-Naver-Client-Secret':client_secret\n",
        "            }\n",
        "\n",
        "    df = None\n",
        "    #HTTP요청 보내기\n",
        "    r = requests.get(url, headers=headers)\n",
        "    if r.status_code == 200:\n",
        "        #요청 결과 보기 200 이면 정상적으로 요청 완료\n",
        "        df = pd.DataFrame(r.json()['items'])\n",
        "        df['title'] = df['title'].apply(lambda x: clean_html(x))\n",
        "        df['description'] = df['description'].apply(lambda x: clean_html(x))\n",
        "    return df\n",
        "\n",
        "def get_news_title_contents(url):\n",
        "    headers = {'User-Agent':'Chrome/66.0.3359.181'}\n",
        "    main_news = []\n",
        "    result = requests.get(url,headers=headers)\n",
        "    if result.status_code == 200:\n",
        "        bs_obj = BeautifulSoup(result.content, \"html.parser\")\n",
        "        #print(bs_obj)\n",
        "        try:\n",
        "            title = bs_obj.find(\"h3\",{\"id\":\"articleTitle\"}).text\n",
        "            body = bs_obj.find(\"div\",{\"class\":\"_article_body_contents\"}).get_text(\"\\n\").replace(\"// flash 오류를 우회하기 위한 함수 추가\",\"\").replace(\"function _flash_removeCallback() {}\",\"\")\n",
        "            #aid = bs_obj.find(\"div\",{\"class\":\"article_header\"}).find(\"img\")[\"title\"]\n",
        "            main_news = [clean_text(title),clean_text(body)]\n",
        "        except:\n",
        "            pass\n",
        "            #print(\"Unexpected error:\", sys.exc_info()[0])\n",
        "    return main_news    "
      ],
      "execution_count": 2,
      "outputs": []
    },
    {
      "cell_type": "code",
      "metadata": {
        "id": "I5_baFy0MA9c"
      },
      "source": [
        "def make_corpus(search_word = '코로나'):\n",
        "    f = open(\"/content/drive/MyDrive/Colab Notebooks/summary/korean_news_corpus.csv\", \"a\")\n",
        "    df = get_news_urls(search_word = search_word,max_display = 100)\n",
        "    if df is not None:\n",
        "        for url in df['link']:\n",
        "            if url.startswith('https://news.naver.com/'):\n",
        "                #print(url)\n",
        "                news = get_news_title_contents(url)\n",
        "                if (len(news) == 2):\n",
        "                    print('\\rtitle:',news[0],end=\"\", flush=True)\n",
        "                    f.write(news[0] + \",\" + news[1] + \"\\r\\n\")\n",
        "    f.close() "
      ],
      "execution_count": 3,
      "outputs": []
    },
    {
      "cell_type": "code",
      "metadata": {
        "id": "g7a1NgHR966E",
        "colab": {
          "base_uri": "https://localhost:8080/"
        },
        "outputId": "c3b050d8-5753-4fec-f541-782d5b0d21ac"
      },
      "source": [
        "import random\n",
        "source = \"\"\"\n",
        "영국 과학자들이 모든 신종 코로나바이러스 감염증(COVID-10·코로나19)을 유발하는 사스코로나바이러스-2(SARS-CoV-2)의 변이바이러스에 효과가 있는 항바이러스 치료제 후보물질을 개발했다영국 브리스톨대 과학자들이 설립한 바이오기업 헤일로쎄라퓨틱스는 모든 코로나19 변이바이러스에 효과가 있는 치료제 후보물질을 개발하고 조만간 임상에 나선다고 13일(현지시간) 밝혔다코로나바이러스가 인체에 침입할 때 인간 세포 수용체와 결합하는 스파이크 단백질의 모양을 변화시켜 바이러스의 감염 능력을 억제하는 분자를 활용한 항바이러스 치료 후보물질이다브리스톨대 연구진은 앞서 국제학술지 ‘사이언스’에 새로운 코로나19 치료전략을 제시한 논문을 발표했다. 불포화지방산의 일종인 ‘리놀레산’에 코로나바이러스를 노출시키면 바이러스 표면에 돌기 모양으로 생긴 스파이크 단백질이 닫히면서 감염되기 어려운 형태로 바뀐다는 사실을 발견한 연구논문이다임상을 진행하기 전 실험실에서 진행한 연구에서 연구진이 개발한 치료후보물질은 코와 인후, 폐의 세포에 코로나바이러스가 침투하는 것을 막는 것으로 나타났다. 특히 영국과 남아프리카공화국, 브라질 변이바이러스에서도 동일한 효과를 보였다. 헤일로쎄라퓨틱스는 비강 스프레이와 천식 환자들이 사용하는 흡입기 형태로도 치료제 임상을 진행할 계획이다새로운 치료전략을 토대로 한 코로나19 항바이러스 치료제 개발을 위해 브리스톨대 연구진은 생명공학기업 헤일로쎄라퓨틱스를 설립했다. 현재 헤일로쎄라퓨틱스는 치료후보물질의 임상시험을 준비중이다. 임상 승인에 이어 임상에 성공하게 되면 전세계 코로나19 환자가 사용할 수 있는 항바이러스 치료제가 나올 것으로 기대된다헤일로쎄라퓨틱스는 “임상에 성공할 경우 코로나19 환자의 바이러스 증식을 억제하는 것은 물론 감염자와 밀접 접촉한 사람들에 대한 바이러스 추가 전파를 막을 수 있는 항바이러스 치료제로 활용될 수 있을 것으로 예상된다”고 밝혔다치료제 개발 연구를 이끌고 있는 임레 버거 막스플랑크-브리스톨 소형생물학센터 교수는 “우리가 개발한 치료제의 목적은 체내로 유입되는 바이러스의 양을 크게 줄이고 억제하는 것”이라며 “바이러스에 노출되거나 감염돼도 바이러스가 폐나 다른 인체 장기로 증식하는 것을 막을 수 있다”고 말했다애덤 핀 브로스톨의과대학 교수는 “변이바이러스의 위협으로 현재 사용 가능한 백신의 예방 효과가 떨어지고 변이바이러스 재감염 사례가 늘어나는 실질적인 위험이 생길 수 있다”며 “모든 변이바이러스 균주에 걸쳐 효과가 있는 항바이러스 치료제로 백신을 보완할 수 있을 것”이라고 기대했다.\n",
        "[헤럴드경제=박세환 기자] 미국내 신종 코로나바이러스 감염증(코로나19)의 확산세가 수그러들면서 식당·상점이 문을 여는 등 일상으로의 복귀에 시동을 걸자 총기 난사도 함께 증가하고 있다는 진단이 나와 관심을 모으고 있다.\n",
        "16일(현지시간) CNN 방송에 따르면 비영리 연구단체 ‘총기폭력저장소(GVA)’의 데이터, 경찰 보고 등을 분석한 결과, 최근 한 달 새 미 전역에서 최소 45건의 총기 난사 사건이 발생한 것으로 집계됐다.\n",
        "한인 희생자가 4명이나 나온 조지아주(州) 애틀랜타 일원 마사지숍 총격 사건(3월 16일)을 시작으로 이후 44건의 무차별 총격 사건이 꼬리에 꼬리를 물고 벌어진 것이다.\n",
        "또 GVA에 따르면 올해 들어 미국에서는 147건의 총기 난사 사건이 벌어졌다.\n",
        "CNN은 총기 난사 사건을 총격범을 제외하고 4명 이상이 총에 맞아 사상한 사건으로 규정했다.\n",
        "미국에서는 전날인 15일 밤에도 인디애나주(州) 인디애나폴리스의 물류업체 페덱스 창고에서 총격 사건이 벌어져 최소 8명이 숨졌다.\n",
        "코로나19 사태로 자택 대피령이 내려지고 기업체·식당·가게가 문을 닫은 지난 1년간 비교적 잠잠했던 총기 난사 사건이 경제 정상화와 함께 다시 고개를 드는 것이다.\n",
        "CNN은 지난달 “미국인들은 1년간 ‘정상으로 돌아가고 싶다’고 말해왔다. 비극적이게도, 그들의 소원이 이뤄지고 있다”고 자조적으로 진단했다.\n",
        "그러면서 “공공장소로의 점진적 복귀와 함께 이 나라의 모두가 너무도 열렬히 옆으로 치워두고 싶었던 유령이 돌아오고 있다”며 “총기 난사가 신문의 머리기사를 다시 장식하고 있다”고 전했다.\n",
        "이 매체는 지난 12개월간 식료품점에 가서 감염을 피하기 위해 바짝 경계해야 했던 미국인들에게 총격 사건이 이제는 다른 이유로 여전히 경계해야 한다는 사실을 일깨워주고 있다고 지적했다.\n",
        "조 바이든 미국 대통령은 16일 성명을 내고 “너무 많은 미국인이 매일 총기 폭력으로 숨진다”며 “그것은 우리의 인격을 더럽히고, 우리나라의 영혼을 찌른다”고 말했다.\n",
        "그러면서 “우리는 생명을 구하기 위해 더 많은 일을 해야 하고 할 수 있다”며 “우리는 행동해야 한다”고 강조했다.\n",
        "CNN은 총기 폭력과 관련해 조치가 필요하다는 여론이 높은데도 의회가 총기 규제 강화 법안을 통과하는 데 미온적이라고 비판했다.\n",
        "퀴니피액대학이 벌인 최근 여론조사에 따르면 미국인의 89%가 모든 총기 구매자들을 상대로 신원 조회를 의무화하는 방안을 지지하는 것으로 나타났다.\n",
        "또 정신질환자 등 타인을 해코지하거나 자해할 가능성이 있어 위협으로 판단되는 개인으로부터 총기류를 일정 기간 법원이 압류하는 ‘적기법(red flag law)’에 찬성한다는 사람도 75%나 됐고, 과반인 51%는 총기 난사에 자주 쓰이는 고화력 무기인 돌격소총 금지를 지지하는 것으로 나왔다.\n",
        "크리스 머피(민주·코네티컷) 상원의원은 인디애나폴리스 총격이 벌어진 뒤 이날 트위터에 글을 올려 의회가 행동에 나설 것을 촉구했다.\n",
        "그는 “총격에 총격이 이어진 뒤에도 의회가 전적으로 아무것도 안 할 때 우리는 이 대량학살에 공모자가 된다”며 “우리의 침묵은 지지로 해석돼왔다”고 썼다.\n",
        "\"\"\"\n",
        "source = clean_text(source)\n",
        "source = source.replace(\" \",\"\")\n",
        "source = source.replace(\".\",\"\")\n",
        "while(True):\n",
        "    keyword = random.choice(source)+random.choice(source)\n",
        "    try:\n",
        "        make_corpus(search_word = keyword)\n",
        "    except KeyboardInterrupt as ki:\n",
        "        raise ki        \n",
        "    except:\n",
        "        print(\"Unexpected error:\", sys.exc_info()[0])        "
      ],
      "execution_count": null,
      "outputs": [
        {
          "output_type": "stream",
          "text": [
            "title: 이미선 임명 반대 47. 4%…후보 부적격 47. 1% -리얼미터"
          ],
          "name": "stdout"
        }
      ]
    },
    {
      "cell_type": "code",
      "metadata": {
        "id": "x2SVFolz3A3B",
        "colab": {
          "base_uri": "https://localhost:8080/",
          "height": 407
        },
        "outputId": "46198402-96f4-4ae6-d972-a641011569e1"
      },
      "source": [
        "df = pd.read_csv('/content/drive/MyDrive/Colab Notebooks/summary/korean_news_corpus.csv')\n",
        "df"
      ],
      "execution_count": null,
      "outputs": [
        {
          "output_type": "execute_result",
          "data": {
            "text/html": [
              "<div>\n",
              "<style scoped>\n",
              "    .dataframe tbody tr th:only-of-type {\n",
              "        vertical-align: middle;\n",
              "    }\n",
              "\n",
              "    .dataframe tbody tr th {\n",
              "        vertical-align: top;\n",
              "    }\n",
              "\n",
              "    .dataframe thead th {\n",
              "        text-align: right;\n",
              "    }\n",
              "</style>\n",
              "<table border=\"1\" class=\"dataframe\">\n",
              "  <thead>\n",
              "    <tr style=\"text-align: right;\">\n",
              "      <th></th>\n",
              "      <th>title</th>\n",
              "      <th>contents</th>\n",
              "    </tr>\n",
              "  </thead>\n",
              "  <tbody>\n",
              "    <tr>\n",
              "      <th>0</th>\n",
              "      <td>문 대통령 변창흠 국토장관 사의표명 사실상 수용</td>\n",
              "      <td>정만호 국민소통수석이 12일 오후 청와대 춘추관 대브리핑룸에서 변창흠 국토부 장관 ...</td>\n",
              "    </tr>\n",
              "    <tr>\n",
              "      <th>1</th>\n",
              "      <td>계급장 수여하는 문 대통령</td>\n",
              "      <td>(아산뉴스1) 이광호 기자 문재인 대통령이 12일 오후 충남 아산시 경찰대학에서 열...</td>\n",
              "    </tr>\n",
              "    <tr>\n",
              "      <th>2</th>\n",
              "      <td>계급장 수여하는 문 대통령</td>\n",
              "      <td>(아산뉴스1) 이광호 기자 문재인 대통령이 12일 오후 충남 아산시 경찰대학에서 열...</td>\n",
              "    </tr>\n",
              "    <tr>\n",
              "      <th>3</th>\n",
              "      <td>수상자 메달 걸어주는 문 대통령</td>\n",
              "      <td>(아산뉴스1) 이광호 기자 문재인 대통령이 12일 오후 충남 아산시 경찰대학에서 열...</td>\n",
              "    </tr>\n",
              "    <tr>\n",
              "      <th>4</th>\n",
              "      <td>정몽구 서울아산병원에 50억 쾌척</td>\n",
              "      <td>인재 양성·소외 계층 지원 등 계획 “부친 질병·가난 악순환 끊기 원해 국내 최고 ...</td>\n",
              "    </tr>\n",
              "    <tr>\n",
              "      <th>...</th>\n",
              "      <td>...</td>\n",
              "      <td>...</td>\n",
              "    </tr>\n",
              "    <tr>\n",
              "      <th>37227</th>\n",
              "      <td>이런 광경 얼마 만인지…쏟아진 中 관광객에 웃은 면세점</td>\n",
              "      <td>한한령 이후 최대 규모 5000명 인센티브 관광 중국인 관광객 증가 터닝포인트 되길...</td>\n",
              "    </tr>\n",
              "    <tr>\n",
              "      <th>37228</th>\n",
              "      <td>文 투기와의 전쟁에서 지지 않을 것… 고강도 규제 예고편?</td>\n",
              "      <td>부동산 시장 안정 실수요자 보호 투기 억제에 대한 정부의 의지는 확고 풍선효과 계속...</td>\n",
              "    </tr>\n",
              "    <tr>\n",
              "      <th>37229</th>\n",
              "      <td>그룹 신화 멤버 김동완씨 덕분에 만나게 된 외국인 독자</td>\n",
              "      <td>[내가 만난 독자] 소년의 레시피를 읽고 쓰고 일본어로 옮기는 기쿠치 미유키씨 [오...</td>\n",
              "    </tr>\n",
              "    <tr>\n",
              "      <th>37230</th>\n",
              "      <td>[여의도 사사건건] 내일부터 21대 총선 예비후보 등록…선거법 어디로?</td>\n",
              "      <td>- 낙후된 지역 SOC 신규 사업 예산 확보는 잘한 일…그래야 균형 발전 - 4+1...</td>\n",
              "    </tr>\n",
              "    <tr>\n",
              "      <th>37231</th>\n",
              "      <td>[여의도 사사건건] 박지원 “내가 비례 석패율로 올라간다? 있을 수 없어</td>\n",
              "      <td>- 낙후된 지역 SOC 신규 사업 예산 확보는 잘한 일…그래야 균형 발전 - 4+1...</td>\n",
              "    </tr>\n",
              "  </tbody>\n",
              "</table>\n",
              "<p>37232 rows × 2 columns</p>\n",
              "</div>"
            ],
            "text/plain": [
              "                                          title                                           contents\n",
              "0                    문 대통령 변창흠 국토장관 사의표명 사실상 수용  정만호 국민소통수석이 12일 오후 청와대 춘추관 대브리핑룸에서 변창흠 국토부 장관 ...\n",
              "1                                계급장 수여하는 문 대통령  (아산뉴스1) 이광호 기자 문재인 대통령이 12일 오후 충남 아산시 경찰대학에서 열...\n",
              "2                                계급장 수여하는 문 대통령  (아산뉴스1) 이광호 기자 문재인 대통령이 12일 오후 충남 아산시 경찰대학에서 열...\n",
              "3                             수상자 메달 걸어주는 문 대통령  (아산뉴스1) 이광호 기자 문재인 대통령이 12일 오후 충남 아산시 경찰대학에서 열...\n",
              "4                            정몽구 서울아산병원에 50억 쾌척  인재 양성·소외 계층 지원 등 계획 “부친 질병·가난 악순환 끊기 원해 국내 최고 ...\n",
              "...                                         ...                                                ...\n",
              "37227            이런 광경 얼마 만인지…쏟아진 中 관광객에 웃은 면세점  한한령 이후 최대 규모 5000명 인센티브 관광 중국인 관광객 증가 터닝포인트 되길...\n",
              "37228          文 투기와의 전쟁에서 지지 않을 것… 고강도 규제 예고편?  부동산 시장 안정 실수요자 보호 투기 억제에 대한 정부의 의지는 확고 풍선효과 계속...\n",
              "37229            그룹 신화 멤버 김동완씨 덕분에 만나게 된 외국인 독자  [내가 만난 독자] 소년의 레시피를 읽고 쓰고 일본어로 옮기는 기쿠치 미유키씨 [오...\n",
              "37230   [여의도 사사건건] 내일부터 21대 총선 예비후보 등록…선거법 어디로?  - 낙후된 지역 SOC 신규 사업 예산 확보는 잘한 일…그래야 균형 발전 - 4+1...\n",
              "37231  [여의도 사사건건] 박지원 “내가 비례 석패율로 올라간다? 있을 수 없어  - 낙후된 지역 SOC 신규 사업 예산 확보는 잘한 일…그래야 균형 발전 - 4+1...\n",
              "\n",
              "[37232 rows x 2 columns]"
            ]
          },
          "metadata": {
            "tags": []
          },
          "execution_count": 9
        }
      ]
    },
    {
      "cell_type": "code",
      "metadata": {
        "id": "SLd-yRUk7Zlc",
        "colab": {
          "base_uri": "https://localhost:8080/",
          "height": 139
        },
        "outputId": "f84ab7a9-c056-453d-c3e1-6d8907553285"
      },
      "source": [
        "df['contents'][100]"
      ],
      "execution_count": null,
      "outputs": [
        {
          "output_type": "execute_result",
          "data": {
            "application/vnd.google.colaboratory.intrinsic+json": {
              "type": "string"
            },
            "text/plain": [
              "'전북서 본부장으로 일할 때 바람직하지 않은 일 했다 3월3일 오후 경남 진주시 충무공동 한국토지주택공사(LH) 본사 앞에 빨간 신호등이 켜 있다. 문재인 대통령은 이날 LH 직원들의 100억원대 광명·시흥 신도시 투기 의혹에 대해 철저한 조사를 지시했다. ⓒ 연합뉴스 직원들의 광명·시흥 3기 신도시 지역 투기 의혹에 휩싸인 한국토지주택공사(LH)의\\xa0고위 간부가 12일 스스로 목숨을 끊었다. 경기남부경찰청 등에 따르면 이날 오전 9시40분께 경기도 성남시 분당의 한 아파트 화단에서 LH 현직 고위 간부 A씨가 쓰러진 채로 발견됐다. A씨는 병원으로 이송됐지만 사망했다. \\xa0 A씨는 전북에서 본부장으로 근무할 때 바람직하지 않은 일을 했다. 괴롭다. 국민에게 죄송하다는 내용의 유서를 남긴 것으로 전해졌다. 경찰은\\xa0아파트 주변 폐쇄(CCTV)회로 등을 조사한 결과 현재까지 범죄 혐의점은 발견되지 않았으며 사망 원인 등에 대한 추가 조사를 벌이고 있다고 밝혔다. \\xa0 ※ 우울감 등 말하기 어려운 고민이 있거나 주변에 이런 어려움을 겪는 가족·지인이 있으면 자살 예방 핫라인 ☎1577-0199 희망의 전화 ☎129 생명의 전화 ☎1588-9191 청소년 전화 ☎1388 등에서 24시간 전문가의 상담을 받을 수 있습니다. 이혜영 기자 zero@sisajournal. com <저작권자 ⓒ 시사저널 무단 전재 및 재배포 금지> ☞ 네이버에서 시사저널 뉴스를 받아 보세요 ▶ 시사저널 최신호 보기'"
            ]
          },
          "metadata": {
            "tags": []
          },
          "execution_count": 7
        }
      ]
    },
    {
      "cell_type": "code",
      "metadata": {
        "id": "OlsBVk2X1p2o"
      },
      "source": [
        "# 검사...\n",
        "pattens = [\"[34569][0-9]{3}[\\;.\\;-\\; ][0-9]{4}[\\;.\\;-\\; ][0-9]{4}[\\;.\\;-\\; ][0-9]{4}\",\n",
        "           \"[0-9]{2,3}[\\:\\s\\;.\\;,\\;-;)][0-9]{3,4}[\\:\\s\\;.\\;,\\;-][0-9]{4}\",\n",
        "           \"[0-9]{1}[0-9]{1}[\\W]?[0-1]{1}[0-9]{1}[\\W]?[0-3]{1}[\\W]?[0-9]{1}[\\W]?[1-4]{1}[\\W]?[0-9]{1}[\\W]?[0-9]{1}[\\W]?[0-9]{1}[\\W]?[0-9]{1}[\\W]?[0-9]{1}[\\W]?[0-9]{1}\",\n",
        "           \"[0-9]{2}[\\:\\s\\;.\\;,\\;-][0-9]{2}[\\:\\s\\;.\\;,\\;-][0-9]{6}|[0-9]{3}[\\:\\s\\;.\\;,\\;-]([0-9]{5,6}[\\:\\s\\;.\\;,\\;-][0-9]{3}|[0-9]{6}[\\:\\s\\;.\\;,\\;-][0-9]{5}|[0-9]{2,3}[\\:\\s\\;.\\;,\\;-][0-9]{6}|[0-9]{2}[\\:\\s\\;.\\;,\\;-][0-9]{7}|[0-9]{2}[\\:\\s\\;.\\;,\\;-][0-9]{4,6}[\\:\\s\\;.\\;,\\;-][0-9]|[0-9]{5}[\\:\\s\\;.\\;,\\;-][0-9]{3}[\\:\\s\\;.\\;,\\;-][0-9]{2}|[0-9]{2}[\\:\\s\\;.\\;,\\;-][0-9]{5}[\\:\\s\\;.\\;,\\;-][0-9]{3}|[0-9]{4}[\\:\\s\\;.\\;,\\;-][0-9]{4}[\\:\\s\\;.\\;,\\;-][0-9]{3}|[0-9]{6}[\\:\\s\\;.\\;,\\;-][0-9]{2}[\\:\\s\\;.\\;,\\;-][0-9]{3}|[0-9]{2}[\\:\\s\\;.\\;,\\;-][0-9]{2}[\\:\\s\\;.\\;,\\;-][0-9]{7})|[0-9]{4}[\\:\\s\\;.\\;,\\;-]([0-9]{3}[\\:\\s\\;.\\;,\\;-][0-9]{6}|[0-9]{2}[\\:\\s\\;.\\;,\\;-][0-9]{6}[\\:\\s\\;.\\;,\\;-][0-9])|[0-9]{5}[\\:\\s\\;.\\;,\\;-][0-9]{2}[\\:\\s\\;.\\;,\\;-][0-9]{6}|[0-9]{6}[\\:\\s\\;.\\;,\\;-][0-9]{2}[\\:\\s\\;.\\;,\\;-][0-9]{5,6}\"\n",
        "           ]\n",
        "\n",
        "filters = []\n",
        "for p in pattens:\n",
        "    filters.append(re.compile(p))\n"
      ],
      "execution_count": null,
      "outputs": []
    },
    {
      "cell_type": "code",
      "metadata": {
        "id": "mmfosYAiy7Md",
        "colab": {
          "base_uri": "https://localhost:8080/"
        },
        "outputId": "4f35f93f-47d5-4439-b09f-d17fcc88db52"
      },
      "source": [
        "sentences = []\n",
        "\n",
        "for raw_text in df['contents']:\n",
        "    try:\n",
        "        docs = nltk.sent_tokenize(clean_text(raw_text))\n",
        "        for txt in docs:\n",
        "            if txt.find('▶') > -1 or txt.find('@') > -1 or txt.find('ⓒ') > -1: \n",
        "                pass\n",
        "            else:\n",
        "                txt = txt.strip()\n",
        "                if len(txt) > 40:\n",
        "                    #ok = True\n",
        "                    #for f in filters:\n",
        "                    #    if len(f.findall(txt)) > 0:\n",
        "                    #        ok = False\n",
        "                    #        print('fitered:',txt)\n",
        "                    #if ok:\n",
        "                    if any(chr.isdigit() for chr in txt):\n",
        "                        pass\n",
        "                    else:\n",
        "                        sentences.append(txt)\n",
        "    except KeyboardInterrupt as ki:\n",
        "        raise ki        \n",
        "    except:\n",
        "        print(\"Unexpected error:\", sys.exc_info()[0])                         "
      ],
      "execution_count": null,
      "outputs": [
        {
          "output_type": "stream",
          "text": [
            "Unexpected error: <class 'AttributeError'>\n",
            "Unexpected error: <class 'AttributeError'>\n",
            "Unexpected error: <class 'AttributeError'>\n",
            "Unexpected error: <class 'AttributeError'>\n",
            "Unexpected error: <class 'AttributeError'>\n",
            "Unexpected error: <class 'AttributeError'>\n",
            "Unexpected error: <class 'AttributeError'>\n"
          ],
          "name": "stdout"
        }
      ]
    },
    {
      "cell_type": "code",
      "metadata": {
        "id": "v07gsWo88f2K",
        "colab": {
          "base_uri": "https://localhost:8080/"
        },
        "outputId": "0e8d50fd-3230-4a72-ba82-f84f61ded583"
      },
      "source": [
        "len(sentences)"
      ],
      "execution_count": null,
      "outputs": [
        {
          "output_type": "execute_result",
          "data": {
            "text/plain": [
              "407555"
            ]
          },
          "metadata": {
            "tags": []
          },
          "execution_count": 12
        }
      ]
    },
    {
      "cell_type": "code",
      "metadata": {
        "id": "F4COcJOH9cDu",
        "colab": {
          "base_uri": "https://localhost:8080/",
          "height": 34
        },
        "outputId": "113db0e5-a5f2-42ea-ae5c-a0fe55cba15b"
      },
      "source": [
        "sentences[254157]"
      ],
      "execution_count": null,
      "outputs": [
        {
          "output_type": "execute_result",
          "data": {
            "application/vnd.google.colaboratory.intrinsic+json": {
              "type": "string"
            },
            "text/plain": [
              "'축산물 공판장에서 무더기로 확진자가 나온 데다 어린이집 병원 목욕탕·사우나 제조업장 등에서도 신규 감염이 잇따르고 있습니다.'"
            ]
          },
          "metadata": {
            "tags": []
          },
          "execution_count": 13
        }
      ]
    },
    {
      "cell_type": "code",
      "metadata": {
        "id": "7oboUizDzKam"
      },
      "source": [
        "df1 = pd.DataFrame({'sentence':sentences})"
      ],
      "execution_count": null,
      "outputs": []
    },
    {
      "cell_type": "code",
      "metadata": {
        "colab": {
          "base_uri": "https://localhost:8080/",
          "height": 407
        },
        "id": "QSsIX7p74w1P",
        "outputId": "abdc98da-9155-4084-db59-3a16aa3cc6f6"
      },
      "source": [
        "df1"
      ],
      "execution_count": null,
      "outputs": [
        {
          "output_type": "execute_result",
          "data": {
            "text/html": [
              "<div>\n",
              "<style scoped>\n",
              "    .dataframe tbody tr th:only-of-type {\n",
              "        vertical-align: middle;\n",
              "    }\n",
              "\n",
              "    .dataframe tbody tr th {\n",
              "        vertical-align: top;\n",
              "    }\n",
              "\n",
              "    .dataframe thead th {\n",
              "        text-align: right;\n",
              "    }\n",
              "</style>\n",
              "<table border=\"1\" class=\"dataframe\">\n",
              "  <thead>\n",
              "    <tr style=\"text-align: right;\">\n",
              "      <th></th>\n",
              "      <th>sentence</th>\n",
              "    </tr>\n",
              "  </thead>\n",
              "  <tbody>\n",
              "    <tr>\n",
              "      <th>0</th>\n",
              "      <td>연합뉴스 문재인 대통령이 변창흠 국토교통부 장관의 사의 표명을 사실상 수용했다.</td>\n",
              "    </tr>\n",
              "    <tr>\n",
              "      <th>1</th>\n",
              "      <td>문 대통령은 변 장관의 사의 표명에 책임지는 모습을 보일 수밖에 없다고 밝혔다.</td>\n",
              "    </tr>\n",
              "    <tr>\n",
              "      <th>2</th>\n",
              "      <td>이에 앞서 변창흠 국토교통부 장관은 LH 땅 투기 의혹 사건과 관련한 책임론에 대해...</td>\n",
              "    </tr>\n",
              "    <tr>\n",
              "      <th>3</th>\n",
              "      <td>변 장관은 이날 국회 국토교통위원회 전체회의에 참석해 “LH 사태로 국민들이 걱정하...</td>\n",
              "    </tr>\n",
              "    <tr>\n",
              "      <th>4</th>\n",
              "      <td>인재 양성·소외 계층 지원 등 계획 “부친 질병·가난 악순환 끊기 원해 국내 최고 ...</td>\n",
              "    </tr>\n",
              "    <tr>\n",
              "      <th>...</th>\n",
              "      <td>...</td>\n",
              "    </tr>\n",
              "    <tr>\n",
              "      <th>407550</th>\n",
              "      <td>마무리를 해야 하는데 만약에 선거법 올린다고 해도 필리버스터가 있기 때문에 쉽지 않...</td>\n",
              "    </tr>\n",
              "    <tr>\n",
              "      <th>407551</th>\n",
              "      <td>의사 진행권은 의장한테 있기 때문에 회기 정하는 것은 필리버스터에 적용 안 된다고 ...</td>\n",
              "    </tr>\n",
              "    <tr>\n",
              "      <th>407552</th>\n",
              "      <td>JC 중앙회장도 하고 굉장히 똑똑한 친구인데 아버지 뒤를 이어서 자기가 아버지가 공...</td>\n",
              "    </tr>\n",
              "    <tr>\n",
              "      <th>407553</th>\n",
              "      <td>그리고 의정부에서 출마한다는데 의정부 시민들도 문희상 의장의 아들이 출마하는지 안 ...</td>\n",
              "    </tr>\n",
              "    <tr>\n",
              "      <th>407554</th>\n",
              "      <td>그런데 한국당에서 저렇게 이름을 알려주니까 의정부 시민들은 다 이제 문희상 의장 아...</td>\n",
              "    </tr>\n",
              "  </tbody>\n",
              "</table>\n",
              "<p>407555 rows × 1 columns</p>\n",
              "</div>"
            ],
            "text/plain": [
              "                                                 sentence\n",
              "0            연합뉴스 문재인 대통령이 변창흠 국토교통부 장관의 사의 표명을 사실상 수용했다.\n",
              "1            문 대통령은 변 장관의 사의 표명에 책임지는 모습을 보일 수밖에 없다고 밝혔다.\n",
              "2       이에 앞서 변창흠 국토교통부 장관은 LH 땅 투기 의혹 사건과 관련한 책임론에 대해...\n",
              "3       변 장관은 이날 국회 국토교통위원회 전체회의에 참석해 “LH 사태로 국민들이 걱정하...\n",
              "4       인재 양성·소외 계층 지원 등 계획 “부친 질병·가난 악순환 끊기 원해 국내 최고 ...\n",
              "...                                                   ...\n",
              "407550  마무리를 해야 하는데 만약에 선거법 올린다고 해도 필리버스터가 있기 때문에 쉽지 않...\n",
              "407551  의사 진행권은 의장한테 있기 때문에 회기 정하는 것은 필리버스터에 적용 안 된다고 ...\n",
              "407552  JC 중앙회장도 하고 굉장히 똑똑한 친구인데 아버지 뒤를 이어서 자기가 아버지가 공...\n",
              "407553  그리고 의정부에서 출마한다는데 의정부 시민들도 문희상 의장의 아들이 출마하는지 안 ...\n",
              "407554  그런데 한국당에서 저렇게 이름을 알려주니까 의정부 시민들은 다 이제 문희상 의장 아...\n",
              "\n",
              "[407555 rows x 1 columns]"
            ]
          },
          "metadata": {
            "tags": []
          },
          "execution_count": 15
        }
      ]
    },
    {
      "cell_type": "code",
      "metadata": {
        "id": "WPYyrpF531-i"
      },
      "source": [
        "df1.to_csv('/content/drive/MyDrive/Colab Notebooks/summary/korean_sentences.csv')"
      ],
      "execution_count": null,
      "outputs": []
    }
  ]
}