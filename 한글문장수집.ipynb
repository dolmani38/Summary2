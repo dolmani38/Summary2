{
  "nbformat": 4,
  "nbformat_minor": 0,
  "metadata": {
    "colab": {
      "name": "Untitled22.ipynb",
      "provenance": [],
      "authorship_tag": "ABX9TyNME26vZpF515S9q3zO65+9",
      "include_colab_link": true
    },
    "kernelspec": {
      "name": "python3",
      "display_name": "Python 3"
    }
  },
  "cells": [
    {
      "cell_type": "markdown",
      "metadata": {
        "id": "view-in-github",
        "colab_type": "text"
      },
      "source": [
        "<a href=\"https://colab.research.google.com/github/dolmani38/Summary2/blob/main/%ED%95%9C%EA%B8%80%EB%AC%B8%EC%9E%A5%EC%88%98%EC%A7%91.ipynb\" target=\"_parent\"><img src=\"https://colab.research.google.com/assets/colab-badge.svg\" alt=\"Open In Colab\"/></a>"
      ]
    },
    {
      "cell_type": "code",
      "metadata": {
        "colab": {
          "base_uri": "https://localhost:8080/"
        },
        "id": "_oxj7pivHf32",
        "outputId": "2fa9f1ac-0116-4e7c-9ea0-1e79ea4c525e"
      },
      "source": [
        "import urllib.request\r\n",
        "import nltk\r\n",
        "nltk.download('punkt')\r\n",
        "\r\n",
        "urls = ['https://raw.githubusercontent.com/dolmani38/Summary/master/data/%EC%95%A0%EA%B1%B0%EC%84%9C%ED%81%AC%EB%A6%AC%EC%8A%A4%ED%8B%B0-ABC%20%EC%82%B4%EC%9D%B8%EC%82%AC%EA%B1%B4.txt',\r\n",
        "        'https://raw.githubusercontent.com/dolmani38/Summary/master/data/%EC%95%A0%EA%B1%B0%EC%84%9C%ED%81%AC%EB%A6%AC%EC%8A%A4%ED%8B%B0-%EA%B7%B8%EB%A6%AC%EA%B3%A0%20%EC%95%84%EB%AC%B4%EB%8F%84%20%EC%97%86%EC%97%88%EB%8B%A4.txt',\r\n",
        "        'https://raw.githubusercontent.com/dolmani38/Summary/master/data/%EC%95%A0%EA%B1%B0%EC%84%9C%ED%81%AC%EB%A6%AC%EC%8A%A4%ED%8B%B0-%EB%82%98%EC%9D%BC%EA%B0%95%EC%9D%98%20%EC%A3%BD%EC%9D%8C.txt',\r\n",
        "        'https://raw.githubusercontent.com/dolmani38/Summary/master/data/%EC%95%A0%EA%B1%B0%EC%84%9C%ED%81%AC%EB%A6%AC%EC%8A%A4%ED%8B%B0-%EB%A7%8C%EC%B0%AC%ED%9A%8C%EC%9D%98%2013%EC%9D%B8.txt',\r\n",
        "        'https://raw.githubusercontent.com/dolmani38/Summary/master/data/%EC%95%A0%EA%B1%B0%EC%84%9C%ED%81%AC%EB%A6%AC%EC%8A%A4%ED%8B%B0-%EB%A9%94%EC%86%8C%ED%8F%AC%ED%83%80%EB%AF%B8%EC%95%84%EC%9D%98%20%EC%A3%BD%EC%9D%8C.txt',\r\n",
        "        'https://raw.githubusercontent.com/dolmani38/Summary/master/data/%EC%95%A0%EA%B1%B0%EC%84%9C%ED%81%AC%EB%A6%AC%EC%8A%A4%ED%8B%B0-%EB%AA%A9%EC%82%AC%EA%B4%80%EC%82%B4%EC%9D%B8.txt',\r\n",
        "        'https://raw.githubusercontent.com/dolmani38/Summary/master/data/%EC%95%A0%EA%B1%B0%EC%84%9C%ED%81%AC%EB%A6%AC%EC%8A%A4%ED%8B%B0-%EB%B2%99%EC%96%B4%EB%A6%AC%20%EB%AA%A9%EA%B2%A9%EC%9E%90.txt',\r\n",
        "        'https://raw.githubusercontent.com/dolmani38/Summary/master/data/%EC%95%A0%EA%B1%B0%EC%84%9C%ED%81%AC%EB%A6%AC%EC%8A%A4%ED%8B%B0-%EB%B9%84%EB%B0%80%20%EC%84%9C%EB%A5%98%EB%A5%BC%20%EB%85%B8%EB%A0%A4%EB%9D%BC.txt',\r\n",
        "        'https://raw.githubusercontent.com/dolmani38/Summary/master/data/%EC%95%A0%EA%B1%B0%EC%84%9C%ED%81%AC%EB%A6%AC%EC%8A%A4%ED%8B%B0-%EC%8A%A4%ED%8E%98%EC%9D%B8%EA%B6%A4%EC%A7%9D%EC%9D%98%20%EB%B9%84%EB%B0%80.txt',\r\n",
        "        'https://raw.githubusercontent.com/dolmani38/Summary/master/data/%EC%95%A0%EA%B1%B0%EC%84%9C%ED%81%AC%EB%A6%AC%EC%8A%A4%ED%8B%B0-%EC%95%84%ED%8C%8C%ED%8A%B8%EC%97%90%20%EB%82%98%ED%83%80%EB%82%9C%20%EC%9A%94%EC%A0%95.txt',\r\n",
        "        'https://raw.githubusercontent.com/dolmani38/Summary/master/data/%EC%95%A0%EA%B1%B0%EC%84%9C%ED%81%AC%EB%A6%AC%EC%8A%A4%ED%8B%B0-%EC%95%A0%ED%81%AC%EB%A1%9C%EC%9D%B4%EB%93%9C%20%EC%82%B4%EC%9D%B8%20%EC%82%AC%EA%B1%B4.txt',\r\n",
        "        'https://raw.githubusercontent.com/dolmani38/Summary/master/data/%EC%95%A0%EA%B1%B0%EC%84%9C%ED%81%AC%EB%A6%AC%EC%8A%A4%ED%8B%B0-%EC%98%88%EA%B3%A0%20%EC%82%B4%EC%9D%B8.txt',\r\n",
        "        'https://raw.githubusercontent.com/dolmani38/Summary/master/data/%EC%95%A0%EA%B1%B0%EC%84%9C%ED%81%AC%EB%A6%AC%EC%8A%A4%ED%8B%B0-%EC%A5%90%EB%8D%AB.txt',\r\n",
        "        'https://raw.githubusercontent.com/dolmani38/Summary/master/data/%EC%95%A0%EA%B1%B0%EC%84%9C%ED%81%AC%EB%A6%AC%EC%8A%A4%ED%8B%B0-%EC%BB%A4%ED%8A%BC.txt',\r\n",
        "        'https://raw.githubusercontent.com/dolmani38/Summary/master/data/%EC%95%A0%EA%B1%B0%EC%84%9C%ED%81%AC%EB%A6%AC%EC%8A%A4%ED%8B%B0-%ED%81%AC%EB%A6%AC%EC%8A%A4%EB%A7%88%EC%8A%A4%20%ED%91%B8%EB%94%A9%EC%9D%98%20%EB%AA%A8%ED%97%98.txt',\r\n",
        "        'https://raw.githubusercontent.com/dolmani38/Summary/master/data/%EC%95%A0%EA%B1%B0%EC%84%9C%ED%81%AC%EB%A6%AC%EC%8A%A4%ED%8B%B0-%ED%91%B8%EB%A5%B8%EC%97%B4%EC%B0%A8%EC%9D%98%EC%A3%BD%EC%9D%8C.txt',\r\n",
        "        'https://raw.githubusercontent.com/dolmani38/Summary/master/data/%EC%95%A0%EA%B1%B0%EC%84%9C%ED%81%AC%EB%A6%AC%EC%8A%A4%ED%8B%B0-%ED%99%94%EC%9A%94%EC%9D%BC%20%ED%81%B4%EB%9F%BD%EC%9D%98%20%EC%82%B4%EC%9D%B8.txt']\r\n",
        "\r\n",
        "# 간단한 전처리\r\n",
        "def clean_text(txt):\r\n",
        "    txt = txt.replace('\\n',' ')\r\n",
        "    txt = txt.replace('\\r',' ')    \r\n",
        "    txt = txt.replace('=','')\r\n",
        "    txt = txt.replace('\\\"','')   \r\n",
        "    txt = txt.replace('\\'','')\r\n",
        "    txt = txt.replace(',','')\r\n",
        "    txt = txt.replace('..','')\r\n",
        "    txt = txt.replace('...','')\r\n",
        "    #txt = txt.replace('.','. ')\r\n",
        "    txt = txt.replace('.','. ')\r\n",
        "    txt = txt.replace('  ',' ')\r\n",
        "    txt = txt.replace('  ',' ')    \r\n",
        "    txt = txt.replace('  ',' ')   \r\n",
        "    txt = txt.replace('  ',' ')           \r\n",
        "    txt = txt.replace('  ',' ')\r\n",
        "    txt = txt.replace('  ',' ')    \r\n",
        "    txt = txt.replace('  ',' ')   \r\n",
        "    txt = txt.replace('  ',' ')             \r\n",
        "    return txt.strip()\r\n",
        "\r\n",
        "def collect_korean_sentences(source_urls=[]):\r\n",
        "    ko_sentences_dataset = []\r\n",
        "    for url in source_urls:\r\n",
        "        raw_text = urllib.request.urlopen(url).read().decode('utf-8')\r\n",
        "        ko_sentences_dataset += nltk.sent_tokenize(clean_text(raw_text))\r\n",
        "\r\n",
        "    sentences = []\r\n",
        "    for txt in ko_sentences_dataset:\r\n",
        "        txt = txt.strip()\r\n",
        "        if len(txt) > 40:\r\n",
        "            sentences.append(txt)\r\n",
        "\r\n",
        "    return sentences"
      ],
      "execution_count": 1,
      "outputs": [
        {
          "output_type": "stream",
          "text": [
            "[nltk_data] Downloading package punkt to /root/nltk_data...\n",
            "[nltk_data]   Unzipping tokenizers/punkt.zip.\n"
          ],
          "name": "stdout"
        }
      ]
    },
    {
      "cell_type": "code",
      "metadata": {
        "id": "kCdexUUnI0fZ"
      },
      "source": [
        "korean_sentences = collect_korean_sentences(urls)"
      ],
      "execution_count": null,
      "outputs": []
    },
    {
      "cell_type": "code",
      "metadata": {
        "colab": {
          "base_uri": "https://localhost:8080/"
        },
        "id": "eOgR8yl2JJRc",
        "outputId": "7f8a6cf5-3332-4c69-9ceb-21690c3c0af4"
      },
      "source": [
        "len(korean_sentences)"
      ],
      "execution_count": null,
      "outputs": [
        {
          "output_type": "execute_result",
          "data": {
            "text/plain": [
              "18036"
            ]
          },
          "metadata": {
            "tags": []
          },
          "execution_count": 7
        }
      ]
    },
    {
      "cell_type": "code",
      "metadata": {
        "colab": {
          "base_uri": "https://localhost:8080/",
          "height": 36
        },
        "id": "gcWLGtO3JMqr",
        "outputId": "d164bbd9-0291-4347-d9d9-29748c011f37"
      },
      "source": [
        "korean_sentences[100]"
      ],
      "execution_count": null,
      "outputs": [
        {
          "output_type": "execute_result",
          "data": {
            "application/vnd.google.colaboratory.intrinsic+json": {
              "type": "string"
            },
            "text/plain": [
              "'그러나 당신이 받으셨다는 그 이상한 편지도 고려해 보고 싶습니다, 포아로 씨.'"
            ]
          },
          "metadata": {
            "tags": []
          },
          "execution_count": 8
        }
      ]
    },
    {
      "cell_type": "markdown",
      "metadata": {
        "id": "20LUFunskl89"
      },
      "source": [
        "# 한글 뉴스 크롤러"
      ]
    },
    {
      "cell_type": "code",
      "metadata": {
        "id": "YbnthNhikpMA",
        "colab": {
          "base_uri": "https://localhost:8080/"
        },
        "outputId": "9b38fd96-0d82-4814-c33e-a38b30d577e1"
      },
      "source": [
        "if True:\r\n",
        "    from google.colab import drive\r\n",
        "    drive.mount('/content/drive')"
      ],
      "execution_count": 2,
      "outputs": [
        {
          "output_type": "stream",
          "text": [
            "Mounted at /content/drive\n"
          ],
          "name": "stdout"
        }
      ]
    },
    {
      "cell_type": "code",
      "metadata": {
        "id": "E1gk6vJdoJHO"
      },
      "source": [
        "f = open(\"/content/drive/MyDrive/Colab Notebooks/summary/korean_news_corpus.csv\", \"a\")\r\n",
        "f.write(\"title,contents\\r\\n\")\r\n",
        "f.close() "
      ],
      "execution_count": null,
      "outputs": []
    },
    {
      "cell_type": "code",
      "metadata": {
        "id": "DbGS6FLsLml0"
      },
      "source": [
        "import sys\r\n",
        "import requests\r\n",
        "import pandas as pd\r\n",
        "import datetime\r\n",
        "import requests\r\n",
        "import re\r\n",
        "from bs4 import BeautifulSoup\r\n",
        "from tqdm import tqdm_notebook\r\n",
        "from multiprocessing import Pool\r\n",
        "\r\n",
        "client_id = \"waXxTjNdGjzj8xtT3nbF\" #1.에서 취득한 아이디 넣기\r\n",
        "client_secret = \"H6mejnkuYx\"  #1. 에서 취득한 키 넣기\r\n",
        "\r\n",
        "\r\n",
        "# 간단한 전처리\r\n",
        "def clean_text(txt):\r\n",
        "    txt = txt.replace('\\n',' ')\r\n",
        "    txt = txt.replace('\\r',' ')    \r\n",
        "    txt = txt.replace('=','')\r\n",
        "    txt = txt.replace('\\\"','')   \r\n",
        "    txt = txt.replace('\\'','')\r\n",
        "    txt = txt.replace(',','')\r\n",
        "    txt = txt.replace('..','')\r\n",
        "    txt = txt.replace('...','')\r\n",
        "    txt = txt.replace('”','')\r\n",
        "    txt = txt.replace('.','. ')\r\n",
        "    txt = txt.replace('  ',' ')\r\n",
        "    txt = txt.replace('  ',' ')    \r\n",
        "    txt = txt.replace('  ',' ')   \r\n",
        "    txt = txt.replace('  ',' ')           \r\n",
        "    txt = txt.replace('  ',' ')\r\n",
        "    txt = txt.replace('  ',' ')    \r\n",
        "    txt = txt.replace('  ',' ')   \r\n",
        "    txt = txt.replace('  ',' ')             \r\n",
        "    return txt.strip()\r\n",
        "\r\n",
        "def clean_html(x):\r\n",
        "    x = re.sub(\"\\&\\w*\\;\",\"\",x)\r\n",
        "    x = re.sub(\"<.*?>\",\"\",x)\r\n",
        "    return x\r\n",
        "\r\n",
        "def get_news_urls(search_word = '코로나',max_display = 100):\r\n",
        "    encode_type = 'json' #출력 방식 json 또는 xml\r\n",
        "    #max_display = 100 #출력 뉴스 수\r\n",
        "    sort = 'date' #결과값의 정렬기준 시간순 date, 관련도 순 sim\r\n",
        "    start = 1 # 출력 위치\r\n",
        "\r\n",
        "    url = f\"https://openapi.naver.com/v1/search/news.{encode_type}?query={search_word}&display={str(int(max_display))}&start={str(int(start))}&sort={sort}\"\r\n",
        "\r\n",
        "    #print(url)\r\n",
        "    #헤더에 아이디와 키 정보 넣기\r\n",
        "    headers = {'X-Naver-Client-Id' : client_id,\r\n",
        "            'X-Naver-Client-Secret':client_secret\r\n",
        "            }\r\n",
        "\r\n",
        "    df = None\r\n",
        "    #HTTP요청 보내기\r\n",
        "    r = requests.get(url, headers=headers)\r\n",
        "    if r.status_code == 200:\r\n",
        "        #요청 결과 보기 200 이면 정상적으로 요청 완료\r\n",
        "        df = pd.DataFrame(r.json()['items'])\r\n",
        "        df['title'] = df['title'].apply(lambda x: clean_html(x))\r\n",
        "        df['description'] = df['description'].apply(lambda x: clean_html(x))\r\n",
        "    return df\r\n",
        "\r\n",
        "def get_news_title_contents(url):\r\n",
        "    headers = {'User-Agent':'Chrome/66.0.3359.181'}\r\n",
        "    main_news = []\r\n",
        "    result = requests.get(url,headers=headers)\r\n",
        "    if result.status_code == 200:\r\n",
        "        bs_obj = BeautifulSoup(result.content, \"html.parser\")\r\n",
        "        #print(bs_obj)\r\n",
        "        try:\r\n",
        "            title = bs_obj.find(\"h3\",{\"id\":\"articleTitle\"}).text\r\n",
        "            body = bs_obj.find(\"div\",{\"class\":\"_article_body_contents\"}).get_text(\"\\n\").replace(\"// flash 오류를 우회하기 위한 함수 추가\",\"\").replace(\"function _flash_removeCallback() {}\",\"\")\r\n",
        "            #aid = bs_obj.find(\"div\",{\"class\":\"article_header\"}).find(\"img\")[\"title\"]\r\n",
        "            main_news = [clean_text(title),clean_text(body)]\r\n",
        "        except:\r\n",
        "            pass\r\n",
        "            #print(\"Unexpected error:\", sys.exc_info()[0])\r\n",
        "    return main_news    "
      ],
      "execution_count": 3,
      "outputs": []
    },
    {
      "cell_type": "code",
      "metadata": {
        "id": "I5_baFy0MA9c"
      },
      "source": [
        "def make_corpus(search_word = '코로나'):\r\n",
        "    f = open(\"/content/drive/MyDrive/Colab Notebooks/summary/korean_news_corpus.csv\", \"a\")\r\n",
        "    df = get_news_urls(search_word = search_word,max_display = 100)\r\n",
        "    if df is not None:\r\n",
        "        for url in df['link']:\r\n",
        "            if url.startswith('https://news.naver.com/'):\r\n",
        "                #print(url)\r\n",
        "                news = get_news_title_contents(url)\r\n",
        "                if (len(news) == 2):\r\n",
        "                    print('\\rtitle:',news[0],end=\"\", flush=True)\r\n",
        "                    f.write(news[0] + \",\" + news[1] + \"\\r\\n\")\r\n",
        "    f.close() "
      ],
      "execution_count": 4,
      "outputs": []
    },
    {
      "cell_type": "code",
      "metadata": {
        "id": "ZFBFu4kHonnE",
        "colab": {
          "base_uri": "https://localhost:8080/"
        },
        "outputId": "4e752c43-1755-4587-a450-c3528a662de3"
      },
      "source": [
        "keywords = ['뉴스','속보','스포츠','광명','금융','자동','인터뷰','대출','신도시','바이오','경쟁','공무원','재난','신도시','청약','주문','협력','교회','충성','요양','병원','백신']\r\n",
        "keywords += ['택시','유족','방치','DNA','중대본','공수처','검찰','서울','시장','단일화','시간표','야권','협상','여론','중도','특검','포비아','구토','수도권','증강현실','게임','선물','시계','장사','거리','허탈','IPO','상견례','결정','악재','외국계','희소식','배터리','질주']\r\n",
        "keywords += ['미세먼지','봄비','전국','소식','강원','우산','미나리','뉴욕','미국','출연','배우','아카네미','기생충','오스카','방탄','소년','BTS','앨범','판매','누리꾼','클릭','차트','음반','폭스바겐','아틀라스','유지','비용','세단','화사','궁궐','왕릉','유적','개화','절정','4월','문화재','조선','헤드','라인','국가','대표']\r\n",
        "keywords += ['접종','중단']\r\n",
        "keywords += ['유럽','국가','예방','선업','특정','태국','연기','혈전','관계','확인','차원','혈액','응고','총리','접종','취소','부작용','갈등','발화','홍콩','보고','입법부','인사','자리','선거','개편','배척','통과','투표','버튼','미소','시진핑']\r\n",
        "for word in keywords:\r\n",
        "    print('keyword:',word)\r\n",
        "    make_corpus(search_word = word)"
      ],
      "execution_count": null,
      "outputs": [
        {
          "output_type": "execute_result",
          "data": {
            "text/plain": [
              "131"
            ]
          },
          "metadata": {
            "tags": []
          },
          "execution_count": 94
        }
      ]
    },
    {
      "cell_type": "code",
      "metadata": {
        "id": "g7a1NgHR966E",
        "colab": {
          "base_uri": "https://localhost:8080/"
        },
        "outputId": "ee573df5-41f4-4476-c1f8-b4cfad06dfa7"
      },
      "source": [
        "import random\r\n",
        "source = \"사진 제공 ㈜플러스앤파트너스 신소재 미디어커머스 기업 ㈜플러스앤파트너스(대표이사 장형욱)가 중국 심천 소재 유통 전문기업인 심천 다은무역유한공사(深?市多恩?易有限公司)와 반영구적 항균 신물질(KDL-7)의 전용실시권 및 기술이전에 대한 양해각서를 체결하고 중국시장 진출을 추진한다고 1일 밝혔다. 이번 업무협약은 COVID-19의 영향으로 비대면 화상회의를 통해 진행되었으며 플러스앤파트너스가 보유한 항균 항바이러스 기술의 전용실시권 및 KDL-7과 KDL-7이 적용된 파생상품(제품)의 중국 내 영업권이 핵심 내용으로 알려졌다. 대상 물질인 KDL-7은 하이드록시 아파타이트(이하 HAP)를 주원료로 하는 신물질로 간단한 후 가공 처리로 기존 제품에 반영구적 항균 효과가 지속되는 것이 특징이다. 이는 항균 기능을 추가한 새 제품을 생산해야 하는 불필요한 요소를 없애고 기존 시판 중인 제품에 후가공 처리함으로써 항균 항바이러스 (99. 99%) 효과를 줄 수 있기 때문에 의류 잡화 자동차 내장재 등 다양한 산업군에 접목이 가능하다. 플러스앤파트너스 관계자는 이미 국내에 항균제품 브랜드 DEAR LIFE(디어라이프)를 출시하였으며 모든 제품에 해당 기술인 KDL-7이 적용될 예정이라고 말하면서 이번 중국 기업과의 협업을 통해 중국시장은 물론 글로벌 시장에 진출할 것이라고 밝혔다. 디지털전략부 ▶ 네이버 홈에서 [한국경제TV] 채널 구독하기 [생방송보기] ▶ 대한민국 재테크 총집결 ! - [증권 / 주식상담 / 부동산] ⓒ 한국경제TV 무단 전재 및 재배포 금지\"\r\n",
        "\r\n",
        "source = source.replace(\" \",\"\")\r\n",
        "source = source.replace(\".\",\"\")\r\n",
        "for i in range(1000):\r\n",
        "    keyword = random.choice(source)+random.choice(source)\r\n",
        "    try:\r\n",
        "        make_corpus(search_word = keyword)\r\n",
        "    except KeyboardInterrupt as ki:\r\n",
        "        raise ki        \r\n",
        "    except:\r\n",
        "        print(\"Unexpected error:\", sys.exc_info()[0])        "
      ],
      "execution_count": null,
      "outputs": [
        {
          "output_type": "stream",
          "text": [
            "title: 에어컨 무상점검 받으세요… 렉서스 세이프 스프링 실시Unexpected error: <class 'KeyError'>\n",
            "title: 시장털이범 2분만에 잡았다…경찰-CCTV관제센터 공조Unexpected error: <class 'KeyError'>\n",
            "Unexpected error: <class 'KeyError'>\n",
            "title: [오늘의 유통 단신] G마켓 정관장 선물세트 특가 판매 外Unexpected error: <class 'KeyError'>\n",
            "title: LG전자 `카메라·사운드` 성능 강화한 V30 공개Unexpected error: <class 'KeyError'>\n",
            "title: LG CNS가 `픽`했다…80대 1 경쟁 뚫은 스타트업 세 곳은?Unexpected error: <class 'KeyError'>\n",
            "title: [니하오 중국증시] 고점대비 7% 떨어진 중국지수··· 양회 결과에 촉각"
          ],
          "name": "stdout"
        }
      ]
    },
    {
      "cell_type": "code",
      "metadata": {
        "id": "x2SVFolz3A3B",
        "colab": {
          "base_uri": "https://localhost:8080/",
          "height": 407
        },
        "outputId": "ad66c5ad-acf2-4677-c643-8df9e1f2470c"
      },
      "source": [
        "df = pd.read_csv('/content/drive/MyDrive/Colab Notebooks/summary/korean_news_corpus.csv')\r\n",
        "df"
      ],
      "execution_count": 5,
      "outputs": [
        {
          "output_type": "execute_result",
          "data": {
            "text/html": [
              "<div>\n",
              "<style scoped>\n",
              "    .dataframe tbody tr th:only-of-type {\n",
              "        vertical-align: middle;\n",
              "    }\n",
              "\n",
              "    .dataframe tbody tr th {\n",
              "        vertical-align: top;\n",
              "    }\n",
              "\n",
              "    .dataframe thead th {\n",
              "        text-align: right;\n",
              "    }\n",
              "</style>\n",
              "<table border=\"1\" class=\"dataframe\">\n",
              "  <thead>\n",
              "    <tr style=\"text-align: right;\">\n",
              "      <th></th>\n",
              "      <th>title</th>\n",
              "      <th>contents</th>\n",
              "    </tr>\n",
              "  </thead>\n",
              "  <tbody>\n",
              "    <tr>\n",
              "      <th>0</th>\n",
              "      <td>문 대통령 변창흠 국토장관 사의표명 사실상 수용</td>\n",
              "      <td>정만호 국민소통수석이 12일 오후 청와대 춘추관 대브리핑룸에서 변창흠 국토부 장관 ...</td>\n",
              "    </tr>\n",
              "    <tr>\n",
              "      <th>1</th>\n",
              "      <td>계급장 수여하는 문 대통령</td>\n",
              "      <td>(아산뉴스1) 이광호 기자 문재인 대통령이 12일 오후 충남 아산시 경찰대학에서 열...</td>\n",
              "    </tr>\n",
              "    <tr>\n",
              "      <th>2</th>\n",
              "      <td>계급장 수여하는 문 대통령</td>\n",
              "      <td>(아산뉴스1) 이광호 기자 문재인 대통령이 12일 오후 충남 아산시 경찰대학에서 열...</td>\n",
              "    </tr>\n",
              "    <tr>\n",
              "      <th>3</th>\n",
              "      <td>수상자 메달 걸어주는 문 대통령</td>\n",
              "      <td>(아산뉴스1) 이광호 기자 문재인 대통령이 12일 오후 충남 아산시 경찰대학에서 열...</td>\n",
              "    </tr>\n",
              "    <tr>\n",
              "      <th>4</th>\n",
              "      <td>정몽구 서울아산병원에 50억 쾌척</td>\n",
              "      <td>인재 양성·소외 계층 지원 등 계획 “부친 질병·가난 악순환 끊기 원해 국내 최고 ...</td>\n",
              "    </tr>\n",
              "    <tr>\n",
              "      <th>...</th>\n",
              "      <td>...</td>\n",
              "      <td>...</td>\n",
              "    </tr>\n",
              "    <tr>\n",
              "      <th>22831</th>\n",
              "      <td>한기영 더불어민주당 서울시당 청년위원장 ‘더불어민주당 서울지역 청년특보단 발대식’ 참석</td>\n",
              "      <td>4월 7일 서울시장 보궐선거에서 서울지역 청년특보단의 역할을 기대 청년들이 정치참여...</td>\n",
              "    </tr>\n",
              "    <tr>\n",
              "      <th>22832</th>\n",
              "      <td>강원랜드 차기 대표이사에 이삼걸 후보자 선정</td>\n",
              "      <td>제184차 이사회-코로나 적자로 배당 0원 [홍춘봉 기자(정선)(casinohong...</td>\n",
              "    </tr>\n",
              "    <tr>\n",
              "      <th>22833</th>\n",
              "      <td>강원랜드 차기 대표에 이삼걸 후보자 선정</td>\n",
              "      <td>강원랜드 184차 이사회 /사진강원랜드 [파이낸셜뉴스] 강원랜드는 9일 본사사옥 7...</td>\n",
              "    </tr>\n",
              "    <tr>\n",
              "      <th>22834</th>\n",
              "      <td>경기 안성시 축산물공판장 관련 누적 확진자 77명으로 증가</td>\n",
              "      <td>신종 코로나바이러스 감염증(코로나19) 에 따라 곳곳에서 확진자가 끊이지 않고 있습...</td>\n",
              "    </tr>\n",
              "    <tr>\n",
              "      <th>22835</th>\n",
              "      <td>부산 밤사이 7명 추가 확진…공동어시장 감염 지속</td>\n",
              "      <td>경남 양산 부산대병원 내 영남권역 코로나19 예방접종센터에서 의료진이 화이자 백신을...</td>\n",
              "    </tr>\n",
              "  </tbody>\n",
              "</table>\n",
              "<p>22836 rows × 2 columns</p>\n",
              "</div>"
            ],
            "text/plain": [
              "                                                  title                                           contents\n",
              "0                            문 대통령 변창흠 국토장관 사의표명 사실상 수용  정만호 국민소통수석이 12일 오후 청와대 춘추관 대브리핑룸에서 변창흠 국토부 장관 ...\n",
              "1                                        계급장 수여하는 문 대통령  (아산뉴스1) 이광호 기자 문재인 대통령이 12일 오후 충남 아산시 경찰대학에서 열...\n",
              "2                                        계급장 수여하는 문 대통령  (아산뉴스1) 이광호 기자 문재인 대통령이 12일 오후 충남 아산시 경찰대학에서 열...\n",
              "3                                     수상자 메달 걸어주는 문 대통령  (아산뉴스1) 이광호 기자 문재인 대통령이 12일 오후 충남 아산시 경찰대학에서 열...\n",
              "4                                    정몽구 서울아산병원에 50억 쾌척  인재 양성·소외 계층 지원 등 계획 “부친 질병·가난 악순환 끊기 원해 국내 최고 ...\n",
              "...                                                 ...                                                ...\n",
              "22831  한기영 더불어민주당 서울시당 청년위원장 ‘더불어민주당 서울지역 청년특보단 발대식’ 참석  4월 7일 서울시장 보궐선거에서 서울지역 청년특보단의 역할을 기대 청년들이 정치참여...\n",
              "22832                          강원랜드 차기 대표이사에 이삼걸 후보자 선정  제184차 이사회-코로나 적자로 배당 0원 [홍춘봉 기자(정선)(casinohong...\n",
              "22833                            강원랜드 차기 대표에 이삼걸 후보자 선정  강원랜드 184차 이사회 /사진강원랜드 [파이낸셜뉴스] 강원랜드는 9일 본사사옥 7...\n",
              "22834                  경기 안성시 축산물공판장 관련 누적 확진자 77명으로 증가  신종 코로나바이러스 감염증(코로나19) 에 따라 곳곳에서 확진자가 끊이지 않고 있습...\n",
              "22835                       부산 밤사이 7명 추가 확진…공동어시장 감염 지속  경남 양산 부산대병원 내 영남권역 코로나19 예방접종센터에서 의료진이 화이자 백신을...\n",
              "\n",
              "[22836 rows x 2 columns]"
            ]
          },
          "metadata": {
            "tags": []
          },
          "execution_count": 5
        }
      ]
    },
    {
      "cell_type": "code",
      "metadata": {
        "id": "SLd-yRUk7Zlc",
        "colab": {
          "base_uri": "https://localhost:8080/",
          "height": 122
        },
        "outputId": "b7a35f99-22f6-46af-a94b-803bb536ed1c"
      },
      "source": [
        "df['contents'][9]"
      ],
      "execution_count": 12,
      "outputs": [
        {
          "output_type": "execute_result",
          "data": {
            "application/vnd.google.colaboratory.intrinsic+json": {
              "type": "string"
            },
            "text/plain": [
              "'[서울뉴시스]조수정 기자 과학기술정보통신부와 한국산업기술진흥협회가 12일 오후 서울 서초구 한국산업기술진흥협회에서 센서분야 선도기업 간담회 를 개최했다. 김성수 과학기술정보통신부 과학기술혁신본부장이 간담회 참석자들과 기념촬영 하고 있다. 왼쪽부터 오대현 과학기술정보통신부 연구예산총괄과장 서경춘 과학기술정보통신부 기계정보통신조정과장 고영석 현대모비스 상무 하만륜 DB하이텍 상무 이일남 현대케피코 상무 이지용 코리포항 대표 마창환 한국산업기술진흥협회 부회장 손경곤 세종공업 상무 김성수 과학기술정보통신부 과학기술혁신본부장 길영준 휴이노 대표 강민석 LG이노텍 부사장 권진현 삼성전자 상무 임장미 KT 상무 김성혁 LG전자 연구위원 이도영 옵토레인 대표. (사진한국산업기술진흥협회 제공) 2021. 03. 12. photo@newsis. com *재판매 및 DB 금지 [사진 영상 제보받습니다] 공감언론 뉴시스가 독자 여러분의 소중한 제보를 기다립니다. 뉴스 가치나 화제성이 있다고 판단되는 사진 또는 영상을 뉴시스 사진영상부(n-photo@newsis. com)로 보내주시면 적극 반영하겠습니다. <ⓒ 공감언론 뉴시스통신사. 무단전재-재배포 금지>'"
            ]
          },
          "metadata": {
            "tags": []
          },
          "execution_count": 12
        }
      ]
    },
    {
      "cell_type": "code",
      "metadata": {
        "id": "OlsBVk2X1p2o"
      },
      "source": [
        "# 검사...\r\n",
        "pattens = [\"[34569][0-9]{3}[\\;.\\;-\\; ][0-9]{4}[\\;.\\;-\\; ][0-9]{4}[\\;.\\;-\\; ][0-9]{4}\",\r\n",
        "           \"[0-9]{2,3}[\\:\\s\\;.\\;,\\;-;)][0-9]{3,4}[\\:\\s\\;.\\;,\\;-][0-9]{4}\",\r\n",
        "           \"[0-9]{1}[0-9]{1}[\\W]?[0-1]{1}[0-9]{1}[\\W]?[0-3]{1}[\\W]?[0-9]{1}[\\W]?[1-4]{1}[\\W]?[0-9]{1}[\\W]?[0-9]{1}[\\W]?[0-9]{1}[\\W]?[0-9]{1}[\\W]?[0-9]{1}[\\W]?[0-9]{1}\",\r\n",
        "           \"[0-9]{2}[\\:\\s\\;.\\;,\\;-][0-9]{2}[\\:\\s\\;.\\;,\\;-][0-9]{6}|[0-9]{3}[\\:\\s\\;.\\;,\\;-]([0-9]{5,6}[\\:\\s\\;.\\;,\\;-][0-9]{3}|[0-9]{6}[\\:\\s\\;.\\;,\\;-][0-9]{5}|[0-9]{2,3}[\\:\\s\\;.\\;,\\;-][0-9]{6}|[0-9]{2}[\\:\\s\\;.\\;,\\;-][0-9]{7}|[0-9]{2}[\\:\\s\\;.\\;,\\;-][0-9]{4,6}[\\:\\s\\;.\\;,\\;-][0-9]|[0-9]{5}[\\:\\s\\;.\\;,\\;-][0-9]{3}[\\:\\s\\;.\\;,\\;-][0-9]{2}|[0-9]{2}[\\:\\s\\;.\\;,\\;-][0-9]{5}[\\:\\s\\;.\\;,\\;-][0-9]{3}|[0-9]{4}[\\:\\s\\;.\\;,\\;-][0-9]{4}[\\:\\s\\;.\\;,\\;-][0-9]{3}|[0-9]{6}[\\:\\s\\;.\\;,\\;-][0-9]{2}[\\:\\s\\;.\\;,\\;-][0-9]{3}|[0-9]{2}[\\:\\s\\;.\\;,\\;-][0-9]{2}[\\:\\s\\;.\\;,\\;-][0-9]{7})|[0-9]{4}[\\:\\s\\;.\\;,\\;-]([0-9]{3}[\\:\\s\\;.\\;,\\;-][0-9]{6}|[0-9]{2}[\\:\\s\\;.\\;,\\;-][0-9]{6}[\\:\\s\\;.\\;,\\;-][0-9])|[0-9]{5}[\\:\\s\\;.\\;,\\;-][0-9]{2}[\\:\\s\\;.\\;,\\;-][0-9]{6}|[0-9]{6}[\\:\\s\\;.\\;,\\;-][0-9]{2}[\\:\\s\\;.\\;,\\;-][0-9]{5,6}\"\r\n",
        "           ]\r\n",
        "\r\n",
        "filters = []\r\n",
        "for p in pattens:\r\n",
        "    filters.append(re.compile(p))\r\n"
      ],
      "execution_count": 36,
      "outputs": []
    },
    {
      "cell_type": "code",
      "metadata": {
        "id": "mmfosYAiy7Md",
        "colab": {
          "base_uri": "https://localhost:8080/"
        },
        "outputId": "f6a4b2c7-b099-4755-9186-ae19e4348de3"
      },
      "source": [
        "sentences = []\r\n",
        "\r\n",
        "for raw_text in df['contents']:\r\n",
        "    try:\r\n",
        "        docs = nltk.sent_tokenize(clean_text(raw_text))\r\n",
        "        for txt in docs:\r\n",
        "            if txt.find('▶') > -1 or txt.find('@') > -1 or txt.find('ⓒ') > -1: \r\n",
        "                pass\r\n",
        "            else:\r\n",
        "                txt = txt.strip()\r\n",
        "                if len(txt) > 40:\r\n",
        "                    #ok = True\r\n",
        "                    #for f in filters:\r\n",
        "                    #    if len(f.findall(txt)) > 0:\r\n",
        "                    #        ok = False\r\n",
        "                    #        print('fitered:',txt)\r\n",
        "                    #if ok:\r\n",
        "                    if any(chr.isdigit() for chr in txt):\r\n",
        "                        pass\r\n",
        "                    else:\r\n",
        "                        sentences.append(txt)\r\n",
        "    except KeyboardInterrupt as ki:\r\n",
        "        raise ki        \r\n",
        "    except:\r\n",
        "        print(\"Unexpected error:\", sys.exc_info()[0])                         "
      ],
      "execution_count": 56,
      "outputs": [
        {
          "output_type": "stream",
          "text": [
            "Unexpected error: <class 'AttributeError'>\n",
            "Unexpected error: <class 'AttributeError'>\n",
            "Unexpected error: <class 'AttributeError'>\n",
            "Unexpected error: <class 'AttributeError'>\n",
            "Unexpected error: <class 'AttributeError'>\n"
          ],
          "name": "stdout"
        }
      ]
    },
    {
      "cell_type": "code",
      "metadata": {
        "id": "v07gsWo88f2K",
        "colab": {
          "base_uri": "https://localhost:8080/"
        },
        "outputId": "244e43cc-2e0a-45cd-8934-ba8126291e6c"
      },
      "source": [
        "len(sentences)"
      ],
      "execution_count": 57,
      "outputs": [
        {
          "output_type": "execute_result",
          "data": {
            "text/plain": [
              "254158"
            ]
          },
          "metadata": {
            "tags": []
          },
          "execution_count": 57
        }
      ]
    },
    {
      "cell_type": "code",
      "metadata": {
        "id": "F4COcJOH9cDu",
        "colab": {
          "base_uri": "https://localhost:8080/",
          "height": 34
        },
        "outputId": "4202f1a7-ef7e-40da-d2ee-f192ffc943e8"
      },
      "source": [
        "sentences[254157]"
      ],
      "execution_count": 60,
      "outputs": [
        {
          "output_type": "execute_result",
          "data": {
            "application/vnd.google.colaboratory.intrinsic+json": {
              "type": "string"
            },
            "text/plain": [
              "'축산물 공판장에서 무더기로 확진자가 나온 데다 어린이집 병원 목욕탕·사우나 제조업장 등에서도 신규 감염이 잇따르고 있습니다.'"
            ]
          },
          "metadata": {
            "tags": []
          },
          "execution_count": 60
        }
      ]
    },
    {
      "cell_type": "code",
      "metadata": {
        "id": "7oboUizDzKam"
      },
      "source": [
        "df1 = pd.DataFrame({'sentence':sentences})"
      ],
      "execution_count": 61,
      "outputs": []
    },
    {
      "cell_type": "code",
      "metadata": {
        "id": "QSsIX7p74w1P",
        "outputId": "ce18e94b-9803-4f8d-cc4f-d2fefcf9899e",
        "colab": {
          "base_uri": "https://localhost:8080/",
          "height": 407
        }
      },
      "source": [
        "df1"
      ],
      "execution_count": 62,
      "outputs": [
        {
          "output_type": "execute_result",
          "data": {
            "text/html": [
              "<div>\n",
              "<style scoped>\n",
              "    .dataframe tbody tr th:only-of-type {\n",
              "        vertical-align: middle;\n",
              "    }\n",
              "\n",
              "    .dataframe tbody tr th {\n",
              "        vertical-align: top;\n",
              "    }\n",
              "\n",
              "    .dataframe thead th {\n",
              "        text-align: right;\n",
              "    }\n",
              "</style>\n",
              "<table border=\"1\" class=\"dataframe\">\n",
              "  <thead>\n",
              "    <tr style=\"text-align: right;\">\n",
              "      <th></th>\n",
              "      <th>sentence</th>\n",
              "    </tr>\n",
              "  </thead>\n",
              "  <tbody>\n",
              "    <tr>\n",
              "      <th>0</th>\n",
              "      <td>연합뉴스 문재인 대통령이 변창흠 국토교통부 장관의 사의 표명을 사실상 수용했다.</td>\n",
              "    </tr>\n",
              "    <tr>\n",
              "      <th>1</th>\n",
              "      <td>문 대통령은 변 장관의 사의 표명에 책임지는 모습을 보일 수밖에 없다고 밝혔다.</td>\n",
              "    </tr>\n",
              "    <tr>\n",
              "      <th>2</th>\n",
              "      <td>이에 앞서 변창흠 국토교통부 장관은 LH 땅 투기 의혹 사건과 관련한 책임론에 대해...</td>\n",
              "    </tr>\n",
              "    <tr>\n",
              "      <th>3</th>\n",
              "      <td>변 장관은 이날 국회 국토교통위원회 전체회의에 참석해 “LH 사태로 국민들이 걱정하...</td>\n",
              "    </tr>\n",
              "    <tr>\n",
              "      <th>4</th>\n",
              "      <td>인재 양성·소외 계층 지원 등 계획 “부친 질병·가난 악순환 끊기 원해 국내 최고 ...</td>\n",
              "    </tr>\n",
              "    <tr>\n",
              "      <th>...</th>\n",
              "      <td>...</td>\n",
              "    </tr>\n",
              "    <tr>\n",
              "      <th>254153</th>\n",
              "      <td>그러면서 “우리는 정권교체에 뜻을 같이하는 분들은 모두 모여야 한다고 생각한다며 “...</td>\n",
              "    </tr>\n",
              "    <tr>\n",
              "      <th>254154</th>\n",
              "      <td>문재인 정권과 민주주의 파괴 내로남불 후안무치 이런 데 역정을 내는 국민들이 일시에...</td>\n",
              "    </tr>\n",
              "    <tr>\n",
              "      <th>254155</th>\n",
              "      <td>이에 국민의힘 지지층이 윤 전 총장을 대선 후보로 밀고 있다는 해석이 나왔다.</td>\n",
              "    </tr>\n",
              "    <tr>\n",
              "      <th>254156</th>\n",
              "      <td>또한 한기영 부위원장은 “서울지역 청년들의 일자리 주거 결혼 등 청년문제가 사회문제...</td>\n",
              "    </tr>\n",
              "    <tr>\n",
              "      <th>254157</th>\n",
              "      <td>축산물 공판장에서 무더기로 확진자가 나온 데다 어린이집 병원 목욕탕·사우나 제조업장...</td>\n",
              "    </tr>\n",
              "  </tbody>\n",
              "</table>\n",
              "<p>254158 rows × 1 columns</p>\n",
              "</div>"
            ],
            "text/plain": [
              "                                                 sentence\n",
              "0            연합뉴스 문재인 대통령이 변창흠 국토교통부 장관의 사의 표명을 사실상 수용했다.\n",
              "1            문 대통령은 변 장관의 사의 표명에 책임지는 모습을 보일 수밖에 없다고 밝혔다.\n",
              "2       이에 앞서 변창흠 국토교통부 장관은 LH 땅 투기 의혹 사건과 관련한 책임론에 대해...\n",
              "3       변 장관은 이날 국회 국토교통위원회 전체회의에 참석해 “LH 사태로 국민들이 걱정하...\n",
              "4       인재 양성·소외 계층 지원 등 계획 “부친 질병·가난 악순환 끊기 원해 국내 최고 ...\n",
              "...                                                   ...\n",
              "254153  그러면서 “우리는 정권교체에 뜻을 같이하는 분들은 모두 모여야 한다고 생각한다며 “...\n",
              "254154  문재인 정권과 민주주의 파괴 내로남불 후안무치 이런 데 역정을 내는 국민들이 일시에...\n",
              "254155        이에 국민의힘 지지층이 윤 전 총장을 대선 후보로 밀고 있다는 해석이 나왔다.\n",
              "254156  또한 한기영 부위원장은 “서울지역 청년들의 일자리 주거 결혼 등 청년문제가 사회문제...\n",
              "254157  축산물 공판장에서 무더기로 확진자가 나온 데다 어린이집 병원 목욕탕·사우나 제조업장...\n",
              "\n",
              "[254158 rows x 1 columns]"
            ]
          },
          "metadata": {
            "tags": []
          },
          "execution_count": 62
        }
      ]
    },
    {
      "cell_type": "code",
      "metadata": {
        "id": "WPYyrpF531-i"
      },
      "source": [
        "df1.to_csv('/content/drive/MyDrive/Colab Notebooks/summary/korean_sentences.csv')"
      ],
      "execution_count": 63,
      "outputs": []
    }
  ]
}