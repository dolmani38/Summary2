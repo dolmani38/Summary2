{
  "nbformat": 4,
  "nbformat_minor": 0,
  "metadata": {
    "kernelspec": {
      "display_name": "Python 3",
      "language": "python",
      "name": "python3"
    },
    "language_info": {
      "codemirror_mode": {
        "name": "ipython",
        "version": 3
      },
      "file_extension": ".py",
      "mimetype": "text/x-python",
      "name": "python",
      "nbconvert_exporter": "python",
      "pygments_lexer": "ipython3",
      "version": "3.8.5"
    },
    "colab": {
      "name": "6 - Attention is All You Need.ipynb",
      "provenance": [],
      "include_colab_link": true
    },
    "accelerator": "GPU",
    "widgets": {
      "application/vnd.jupyter.widget-state+json": {
        "394d9e5e451e43379b88369b5de96ae5": {
          "model_module": "@jupyter-widgets/controls",
          "model_name": "HBoxModel",
          "state": {
            "_view_name": "HBoxView",
            "_dom_classes": [],
            "_model_name": "HBoxModel",
            "_view_module": "@jupyter-widgets/controls",
            "_model_module_version": "1.5.0",
            "_view_count": null,
            "_view_module_version": "1.5.0",
            "box_style": "",
            "layout": "IPY_MODEL_51060843a3a14294b772103d28bfe2c1",
            "_model_module": "@jupyter-widgets/controls",
            "children": [
              "IPY_MODEL_ee393e5c39f1417bbfb09031da2fa67c",
              "IPY_MODEL_5c10c2aa91e8476dafb5a6bfa131b259"
            ]
          }
        },
        "51060843a3a14294b772103d28bfe2c1": {
          "model_module": "@jupyter-widgets/base",
          "model_name": "LayoutModel",
          "state": {
            "_view_name": "LayoutView",
            "grid_template_rows": null,
            "right": null,
            "justify_content": null,
            "_view_module": "@jupyter-widgets/base",
            "overflow": null,
            "_model_module_version": "1.2.0",
            "_view_count": null,
            "flex_flow": null,
            "width": null,
            "min_width": null,
            "border": null,
            "align_items": null,
            "bottom": null,
            "_model_module": "@jupyter-widgets/base",
            "top": null,
            "grid_column": null,
            "overflow_y": null,
            "overflow_x": null,
            "grid_auto_flow": null,
            "grid_area": null,
            "grid_template_columns": null,
            "flex": null,
            "_model_name": "LayoutModel",
            "justify_items": null,
            "grid_row": null,
            "max_height": null,
            "align_content": null,
            "visibility": null,
            "align_self": null,
            "height": null,
            "min_height": null,
            "padding": null,
            "grid_auto_rows": null,
            "grid_gap": null,
            "max_width": null,
            "order": null,
            "_view_module_version": "1.2.0",
            "grid_template_areas": null,
            "object_position": null,
            "object_fit": null,
            "grid_auto_columns": null,
            "margin": null,
            "display": null,
            "left": null
          }
        },
        "ee393e5c39f1417bbfb09031da2fa67c": {
          "model_module": "@jupyter-widgets/controls",
          "model_name": "FloatProgressModel",
          "state": {
            "_view_name": "ProgressView",
            "style": "IPY_MODEL_0bc77a924fb0446c89094bf1f3c1f974",
            "_dom_classes": [],
            "description": "Downloading: 100%",
            "_model_name": "FloatProgressModel",
            "bar_style": "success",
            "max": 371391,
            "_view_module": "@jupyter-widgets/controls",
            "_model_module_version": "1.5.0",
            "value": 371391,
            "_view_count": null,
            "_view_module_version": "1.5.0",
            "orientation": "horizontal",
            "min": 0,
            "description_tooltip": null,
            "_model_module": "@jupyter-widgets/controls",
            "layout": "IPY_MODEL_286368e71b8f4c2dad266f7c66dbcdae"
          }
        },
        "5c10c2aa91e8476dafb5a6bfa131b259": {
          "model_module": "@jupyter-widgets/controls",
          "model_name": "HTMLModel",
          "state": {
            "_view_name": "HTMLView",
            "style": "IPY_MODEL_50fe3c100f0d41c7a93351b156af1d3c",
            "_dom_classes": [],
            "description": "",
            "_model_name": "HTMLModel",
            "placeholder": "​",
            "_view_module": "@jupyter-widgets/controls",
            "_model_module_version": "1.5.0",
            "value": " 371k/371k [00:00&lt;00:00, 2.28MB/s]",
            "_view_count": null,
            "_view_module_version": "1.5.0",
            "description_tooltip": null,
            "_model_module": "@jupyter-widgets/controls",
            "layout": "IPY_MODEL_adcfe6829552437fafbe0c6d5e629b2f"
          }
        },
        "0bc77a924fb0446c89094bf1f3c1f974": {
          "model_module": "@jupyter-widgets/controls",
          "model_name": "ProgressStyleModel",
          "state": {
            "_view_name": "StyleView",
            "_model_name": "ProgressStyleModel",
            "description_width": "initial",
            "_view_module": "@jupyter-widgets/base",
            "_model_module_version": "1.5.0",
            "_view_count": null,
            "_view_module_version": "1.2.0",
            "bar_color": null,
            "_model_module": "@jupyter-widgets/controls"
          }
        },
        "286368e71b8f4c2dad266f7c66dbcdae": {
          "model_module": "@jupyter-widgets/base",
          "model_name": "LayoutModel",
          "state": {
            "_view_name": "LayoutView",
            "grid_template_rows": null,
            "right": null,
            "justify_content": null,
            "_view_module": "@jupyter-widgets/base",
            "overflow": null,
            "_model_module_version": "1.2.0",
            "_view_count": null,
            "flex_flow": null,
            "width": null,
            "min_width": null,
            "border": null,
            "align_items": null,
            "bottom": null,
            "_model_module": "@jupyter-widgets/base",
            "top": null,
            "grid_column": null,
            "overflow_y": null,
            "overflow_x": null,
            "grid_auto_flow": null,
            "grid_area": null,
            "grid_template_columns": null,
            "flex": null,
            "_model_name": "LayoutModel",
            "justify_items": null,
            "grid_row": null,
            "max_height": null,
            "align_content": null,
            "visibility": null,
            "align_self": null,
            "height": null,
            "min_height": null,
            "padding": null,
            "grid_auto_rows": null,
            "grid_gap": null,
            "max_width": null,
            "order": null,
            "_view_module_version": "1.2.0",
            "grid_template_areas": null,
            "object_position": null,
            "object_fit": null,
            "grid_auto_columns": null,
            "margin": null,
            "display": null,
            "left": null
          }
        },
        "50fe3c100f0d41c7a93351b156af1d3c": {
          "model_module": "@jupyter-widgets/controls",
          "model_name": "DescriptionStyleModel",
          "state": {
            "_view_name": "StyleView",
            "_model_name": "DescriptionStyleModel",
            "description_width": "",
            "_view_module": "@jupyter-widgets/base",
            "_model_module_version": "1.5.0",
            "_view_count": null,
            "_view_module_version": "1.2.0",
            "_model_module": "@jupyter-widgets/controls"
          }
        },
        "adcfe6829552437fafbe0c6d5e629b2f": {
          "model_module": "@jupyter-widgets/base",
          "model_name": "LayoutModel",
          "state": {
            "_view_name": "LayoutView",
            "grid_template_rows": null,
            "right": null,
            "justify_content": null,
            "_view_module": "@jupyter-widgets/base",
            "overflow": null,
            "_model_module_version": "1.2.0",
            "_view_count": null,
            "flex_flow": null,
            "width": null,
            "min_width": null,
            "border": null,
            "align_items": null,
            "bottom": null,
            "_model_module": "@jupyter-widgets/base",
            "top": null,
            "grid_column": null,
            "overflow_y": null,
            "overflow_x": null,
            "grid_auto_flow": null,
            "grid_area": null,
            "grid_template_columns": null,
            "flex": null,
            "_model_name": "LayoutModel",
            "justify_items": null,
            "grid_row": null,
            "max_height": null,
            "align_content": null,
            "visibility": null,
            "align_self": null,
            "height": null,
            "min_height": null,
            "padding": null,
            "grid_auto_rows": null,
            "grid_gap": null,
            "max_width": null,
            "order": null,
            "_view_module_version": "1.2.0",
            "grid_template_areas": null,
            "object_position": null,
            "object_fit": null,
            "grid_auto_columns": null,
            "margin": null,
            "display": null,
            "left": null
          }
        },
        "0496fc7b8c4e4b7184a5b82baa08227d": {
          "model_module": "@jupyter-widgets/controls",
          "model_name": "HBoxModel",
          "state": {
            "_view_name": "HBoxView",
            "_dom_classes": [],
            "_model_name": "HBoxModel",
            "_view_module": "@jupyter-widgets/controls",
            "_model_module_version": "1.5.0",
            "_view_count": null,
            "_view_module_version": "1.5.0",
            "box_style": "",
            "layout": "IPY_MODEL_b06430fc2414459c80244930a5870451",
            "_model_module": "@jupyter-widgets/controls",
            "children": [
              "IPY_MODEL_b6abf203187840b9a2da7d79b22e12d1",
              "IPY_MODEL_a688966fccad4485b7db6e4099e93788"
            ]
          }
        },
        "b06430fc2414459c80244930a5870451": {
          "model_module": "@jupyter-widgets/base",
          "model_name": "LayoutModel",
          "state": {
            "_view_name": "LayoutView",
            "grid_template_rows": null,
            "right": null,
            "justify_content": null,
            "_view_module": "@jupyter-widgets/base",
            "overflow": null,
            "_model_module_version": "1.2.0",
            "_view_count": null,
            "flex_flow": null,
            "width": null,
            "min_width": null,
            "border": null,
            "align_items": null,
            "bottom": null,
            "_model_module": "@jupyter-widgets/base",
            "top": null,
            "grid_column": null,
            "overflow_y": null,
            "overflow_x": null,
            "grid_auto_flow": null,
            "grid_area": null,
            "grid_template_columns": null,
            "flex": null,
            "_model_name": "LayoutModel",
            "justify_items": null,
            "grid_row": null,
            "max_height": null,
            "align_content": null,
            "visibility": null,
            "align_self": null,
            "height": null,
            "min_height": null,
            "padding": null,
            "grid_auto_rows": null,
            "grid_gap": null,
            "max_width": null,
            "order": null,
            "_view_module_version": "1.2.0",
            "grid_template_areas": null,
            "object_position": null,
            "object_fit": null,
            "grid_auto_columns": null,
            "margin": null,
            "display": null,
            "left": null
          }
        },
        "b6abf203187840b9a2da7d79b22e12d1": {
          "model_module": "@jupyter-widgets/controls",
          "model_name": "FloatProgressModel",
          "state": {
            "_view_name": "ProgressView",
            "style": "IPY_MODEL_2b05e900fa764d108f7d67044c5e4b52",
            "_dom_classes": [],
            "description": "Downloading: 100%",
            "_model_name": "FloatProgressModel",
            "bar_style": "success",
            "max": 77779,
            "_view_module": "@jupyter-widgets/controls",
            "_model_module_version": "1.5.0",
            "value": 77779,
            "_view_count": null,
            "_view_module_version": "1.5.0",
            "orientation": "horizontal",
            "min": 0,
            "description_tooltip": null,
            "_model_module": "@jupyter-widgets/controls",
            "layout": "IPY_MODEL_2dc8566a3c034310882aa4dd299ec192"
          }
        },
        "a688966fccad4485b7db6e4099e93788": {
          "model_module": "@jupyter-widgets/controls",
          "model_name": "HTMLModel",
          "state": {
            "_view_name": "HTMLView",
            "style": "IPY_MODEL_41b6f239130840c88c60978e8b7c0198",
            "_dom_classes": [],
            "description": "",
            "_model_name": "HTMLModel",
            "placeholder": "​",
            "_view_module": "@jupyter-widgets/controls",
            "_model_module_version": "1.5.0",
            "value": " 77.8k/77.8k [00:29&lt;00:00, 2.67kB/s]",
            "_view_count": null,
            "_view_module_version": "1.5.0",
            "description_tooltip": null,
            "_model_module": "@jupyter-widgets/controls",
            "layout": "IPY_MODEL_0ef71542687942b98164054dfe10afe3"
          }
        },
        "2b05e900fa764d108f7d67044c5e4b52": {
          "model_module": "@jupyter-widgets/controls",
          "model_name": "ProgressStyleModel",
          "state": {
            "_view_name": "StyleView",
            "_model_name": "ProgressStyleModel",
            "description_width": "initial",
            "_view_module": "@jupyter-widgets/base",
            "_model_module_version": "1.5.0",
            "_view_count": null,
            "_view_module_version": "1.2.0",
            "bar_color": null,
            "_model_module": "@jupyter-widgets/controls"
          }
        },
        "2dc8566a3c034310882aa4dd299ec192": {
          "model_module": "@jupyter-widgets/base",
          "model_name": "LayoutModel",
          "state": {
            "_view_name": "LayoutView",
            "grid_template_rows": null,
            "right": null,
            "justify_content": null,
            "_view_module": "@jupyter-widgets/base",
            "overflow": null,
            "_model_module_version": "1.2.0",
            "_view_count": null,
            "flex_flow": null,
            "width": null,
            "min_width": null,
            "border": null,
            "align_items": null,
            "bottom": null,
            "_model_module": "@jupyter-widgets/base",
            "top": null,
            "grid_column": null,
            "overflow_y": null,
            "overflow_x": null,
            "grid_auto_flow": null,
            "grid_area": null,
            "grid_template_columns": null,
            "flex": null,
            "_model_name": "LayoutModel",
            "justify_items": null,
            "grid_row": null,
            "max_height": null,
            "align_content": null,
            "visibility": null,
            "align_self": null,
            "height": null,
            "min_height": null,
            "padding": null,
            "grid_auto_rows": null,
            "grid_gap": null,
            "max_width": null,
            "order": null,
            "_view_module_version": "1.2.0",
            "grid_template_areas": null,
            "object_position": null,
            "object_fit": null,
            "grid_auto_columns": null,
            "margin": null,
            "display": null,
            "left": null
          }
        },
        "41b6f239130840c88c60978e8b7c0198": {
          "model_module": "@jupyter-widgets/controls",
          "model_name": "DescriptionStyleModel",
          "state": {
            "_view_name": "StyleView",
            "_model_name": "DescriptionStyleModel",
            "description_width": "",
            "_view_module": "@jupyter-widgets/base",
            "_model_module_version": "1.5.0",
            "_view_count": null,
            "_view_module_version": "1.2.0",
            "_model_module": "@jupyter-widgets/controls"
          }
        },
        "0ef71542687942b98164054dfe10afe3": {
          "model_module": "@jupyter-widgets/base",
          "model_name": "LayoutModel",
          "state": {
            "_view_name": "LayoutView",
            "grid_template_rows": null,
            "right": null,
            "justify_content": null,
            "_view_module": "@jupyter-widgets/base",
            "overflow": null,
            "_model_module_version": "1.2.0",
            "_view_count": null,
            "flex_flow": null,
            "width": null,
            "min_width": null,
            "border": null,
            "align_items": null,
            "bottom": null,
            "_model_module": "@jupyter-widgets/base",
            "top": null,
            "grid_column": null,
            "overflow_y": null,
            "overflow_x": null,
            "grid_auto_flow": null,
            "grid_area": null,
            "grid_template_columns": null,
            "flex": null,
            "_model_name": "LayoutModel",
            "justify_items": null,
            "grid_row": null,
            "max_height": null,
            "align_content": null,
            "visibility": null,
            "align_self": null,
            "height": null,
            "min_height": null,
            "padding": null,
            "grid_auto_rows": null,
            "grid_gap": null,
            "max_width": null,
            "order": null,
            "_view_module_version": "1.2.0",
            "grid_template_areas": null,
            "object_position": null,
            "object_fit": null,
            "grid_auto_columns": null,
            "margin": null,
            "display": null,
            "left": null
          }
        }
      }
    }
  },
  "cells": [
    {
      "cell_type": "markdown",
      "metadata": {
        "id": "view-in-github",
        "colab_type": "text"
      },
      "source": [
        "<a href=\"https://colab.research.google.com/github/dolmani38/Summary2/blob/main/6_Attention_is_All_You_Need.ipynb\" target=\"_parent\"><img src=\"https://colab.research.google.com/assets/colab-badge.svg\" alt=\"Open In Colab\"/></a>"
      ]
    },
    {
      "cell_type": "markdown",
      "metadata": {
        "id": "WozwLd-3_4WO"
      },
      "source": [
        "# 6 - Attention is All You Need\n",
        "\n",
        "In this notebook we will be implementing a (slightly modified version) of the Transformer model from the [Attention is All You Need](https://arxiv.org/abs/1706.03762) paper. All images in this notebook will be taken from the Transformer paper. For more information about the Transformer, [see](https://www.mihaileric.com/posts/transformers-attention-in-disguise/) [these](https://jalammar.github.io/illustrated-transformer/) [three](http://nlp.seas.harvard.edu/2018/04/03/attention.html) articles.\n",
        "\n",
        "![](https://github.com/bentrevett/pytorch-seq2seq/blob/master/assets/transformer1.png?raw=1)\n",
        "\n",
        "## Introduction\n",
        "\n",
        "Similar to the Convolutional Sequence-to-Sequence model, the Transformer does not use any recurrence. It also does not use any convolutional layers. Instead the model is entirely made up of linear layers, attention mechanisms and normalization. \n",
        "\n",
        "As of January 2020, Transformers are the dominant architecture in NLP and are used to achieve state-of-the-art results for many tasks and it appears as if they will be for the near future. \n",
        "\n",
        "The most popular Transformer variant is [BERT](https://arxiv.org/abs/1810.04805) (**B**idirectional **E**ncoder **R**epresentations from **T**ransformers) and pre-trained versions of BERT are commonly used to replace the embedding layers - if not more - in NLP models. \n",
        "\n",
        "A common library used when dealing with pre-trained transformers is the [Transformers](https://huggingface.co/transformers/) library, see [here](https://huggingface.co/transformers/pretrained_models.html) for a list of all pre-trained models available.\n",
        "\n",
        "The differences between the implementation in this notebook and the paper are:\n",
        "- we use a learned positional encoding instead of a static one\n",
        "- we use the standard Adam optimizer with a static learning rate instead of one with warm-up and cool-down steps\n",
        "- we do not use label smoothing\n",
        "\n",
        "We make all of these changes as they closely follow BERT's set-up and the majority of Transformer variants use a similar set-up."
      ]
    },
    {
      "cell_type": "markdown",
      "metadata": {
        "id": "MQFMZDAg_4WY"
      },
      "source": [
        "## Preparing the Data\n",
        "\n",
        "As always, let's import all the required modules and set the random seeds for reproducability."
      ]
    },
    {
      "cell_type": "code",
      "metadata": {
        "colab": {
          "base_uri": "https://localhost:8080/"
        },
        "id": "POmGIkvKHoy8",
        "outputId": "f882158b-f977-4594-c040-581765301d73"
      },
      "source": [
        "!pip3 install https://github.com/explosion/spacy-models/releases/download/en_core_web_sm-2.2.0/en_core_web_sm-2.2.0.tar.gz\r\n",
        "!pip3 install https://github.com/explosion/spacy-models/releases/download/de_core_news_sm-2.2.0/de_core_news_sm-2.2.0.tar.gz"
      ],
      "execution_count": 1,
      "outputs": [
        {
          "output_type": "stream",
          "text": [
            "Collecting https://github.com/explosion/spacy-models/releases/download/en_core_web_sm-2.2.0/en_core_web_sm-2.2.0.tar.gz\n",
            "\u001b[?25l  Downloading https://github.com/explosion/spacy-models/releases/download/en_core_web_sm-2.2.0/en_core_web_sm-2.2.0.tar.gz (12.0MB)\n",
            "\u001b[K     |████████████████████████████████| 12.0MB 260kB/s \n",
            "\u001b[?25hRequirement already satisfied: spacy>=2.2.0 in /usr/local/lib/python3.7/dist-packages (from en-core-web-sm==2.2.0) (2.2.4)\n",
            "Requirement already satisfied: cymem<2.1.0,>=2.0.2 in /usr/local/lib/python3.7/dist-packages (from spacy>=2.2.0->en-core-web-sm==2.2.0) (2.0.5)\n",
            "Requirement already satisfied: numpy>=1.15.0 in /usr/local/lib/python3.7/dist-packages (from spacy>=2.2.0->en-core-web-sm==2.2.0) (1.19.5)\n",
            "Requirement already satisfied: wasabi<1.1.0,>=0.4.0 in /usr/local/lib/python3.7/dist-packages (from spacy>=2.2.0->en-core-web-sm==2.2.0) (0.8.2)\n",
            "Requirement already satisfied: preshed<3.1.0,>=3.0.2 in /usr/local/lib/python3.7/dist-packages (from spacy>=2.2.0->en-core-web-sm==2.2.0) (3.0.5)\n",
            "Requirement already satisfied: plac<1.2.0,>=0.9.6 in /usr/local/lib/python3.7/dist-packages (from spacy>=2.2.0->en-core-web-sm==2.2.0) (1.1.3)\n",
            "Requirement already satisfied: murmurhash<1.1.0,>=0.28.0 in /usr/local/lib/python3.7/dist-packages (from spacy>=2.2.0->en-core-web-sm==2.2.0) (1.0.5)\n",
            "Requirement already satisfied: tqdm<5.0.0,>=4.38.0 in /usr/local/lib/python3.7/dist-packages (from spacy>=2.2.0->en-core-web-sm==2.2.0) (4.41.1)\n",
            "Requirement already satisfied: srsly<1.1.0,>=1.0.2 in /usr/local/lib/python3.7/dist-packages (from spacy>=2.2.0->en-core-web-sm==2.2.0) (1.0.5)\n",
            "Requirement already satisfied: setuptools in /usr/local/lib/python3.7/dist-packages (from spacy>=2.2.0->en-core-web-sm==2.2.0) (53.0.0)\n",
            "Requirement already satisfied: requests<3.0.0,>=2.13.0 in /usr/local/lib/python3.7/dist-packages (from spacy>=2.2.0->en-core-web-sm==2.2.0) (2.23.0)\n",
            "Requirement already satisfied: thinc==7.4.0 in /usr/local/lib/python3.7/dist-packages (from spacy>=2.2.0->en-core-web-sm==2.2.0) (7.4.0)\n",
            "Requirement already satisfied: catalogue<1.1.0,>=0.0.7 in /usr/local/lib/python3.7/dist-packages (from spacy>=2.2.0->en-core-web-sm==2.2.0) (1.0.0)\n",
            "Requirement already satisfied: blis<0.5.0,>=0.4.0 in /usr/local/lib/python3.7/dist-packages (from spacy>=2.2.0->en-core-web-sm==2.2.0) (0.4.1)\n",
            "Requirement already satisfied: certifi>=2017.4.17 in /usr/local/lib/python3.7/dist-packages (from requests<3.0.0,>=2.13.0->spacy>=2.2.0->en-core-web-sm==2.2.0) (2020.12.5)\n",
            "Requirement already satisfied: chardet<4,>=3.0.2 in /usr/local/lib/python3.7/dist-packages (from requests<3.0.0,>=2.13.0->spacy>=2.2.0->en-core-web-sm==2.2.0) (3.0.4)\n",
            "Requirement already satisfied: idna<3,>=2.5 in /usr/local/lib/python3.7/dist-packages (from requests<3.0.0,>=2.13.0->spacy>=2.2.0->en-core-web-sm==2.2.0) (2.10)\n",
            "Requirement already satisfied: urllib3!=1.25.0,!=1.25.1,<1.26,>=1.21.1 in /usr/local/lib/python3.7/dist-packages (from requests<3.0.0,>=2.13.0->spacy>=2.2.0->en-core-web-sm==2.2.0) (1.24.3)\n",
            "Requirement already satisfied: importlib-metadata>=0.20; python_version < \"3.8\" in /usr/local/lib/python3.7/dist-packages (from catalogue<1.1.0,>=0.0.7->spacy>=2.2.0->en-core-web-sm==2.2.0) (3.7.0)\n",
            "Requirement already satisfied: zipp>=0.5 in /usr/local/lib/python3.7/dist-packages (from importlib-metadata>=0.20; python_version < \"3.8\"->catalogue<1.1.0,>=0.0.7->spacy>=2.2.0->en-core-web-sm==2.2.0) (3.4.0)\n",
            "Requirement already satisfied: typing-extensions>=3.6.4; python_version < \"3.8\" in /usr/local/lib/python3.7/dist-packages (from importlib-metadata>=0.20; python_version < \"3.8\"->catalogue<1.1.0,>=0.0.7->spacy>=2.2.0->en-core-web-sm==2.2.0) (3.7.4.3)\n",
            "Building wheels for collected packages: en-core-web-sm\n",
            "  Building wheel for en-core-web-sm (setup.py) ... \u001b[?25l\u001b[?25hdone\n",
            "  Created wheel for en-core-web-sm: filename=en_core_web_sm-2.2.0-cp37-none-any.whl size=12019125 sha256=9fd65c7de58d0506fda620056e88577e5f8a121ffadce86b130821a3314db98e\n",
            "  Stored in directory: /root/.cache/pip/wheels/48/5c/1c/15f9d02afc8221a668d2172446dd8467b20cdb9aef80a172a4\n",
            "Successfully built en-core-web-sm\n",
            "Installing collected packages: en-core-web-sm\n",
            "  Found existing installation: en-core-web-sm 2.2.5\n",
            "    Uninstalling en-core-web-sm-2.2.5:\n",
            "      Successfully uninstalled en-core-web-sm-2.2.5\n",
            "Successfully installed en-core-web-sm-2.2.0\n",
            "Collecting https://github.com/explosion/spacy-models/releases/download/de_core_news_sm-2.2.0/de_core_news_sm-2.2.0.tar.gz\n",
            "\u001b[?25l  Downloading https://github.com/explosion/spacy-models/releases/download/de_core_news_sm-2.2.0/de_core_news_sm-2.2.0.tar.gz (14.9MB)\n",
            "\u001b[K     |████████████████████████████████| 14.9MB 210kB/s \n",
            "\u001b[?25hRequirement already satisfied: spacy>=2.2.0 in /usr/local/lib/python3.7/dist-packages (from de-core-news-sm==2.2.0) (2.2.4)\n",
            "Requirement already satisfied: srsly<1.1.0,>=1.0.2 in /usr/local/lib/python3.7/dist-packages (from spacy>=2.2.0->de-core-news-sm==2.2.0) (1.0.5)\n",
            "Requirement already satisfied: preshed<3.1.0,>=3.0.2 in /usr/local/lib/python3.7/dist-packages (from spacy>=2.2.0->de-core-news-sm==2.2.0) (3.0.5)\n",
            "Requirement already satisfied: plac<1.2.0,>=0.9.6 in /usr/local/lib/python3.7/dist-packages (from spacy>=2.2.0->de-core-news-sm==2.2.0) (1.1.3)\n",
            "Requirement already satisfied: tqdm<5.0.0,>=4.38.0 in /usr/local/lib/python3.7/dist-packages (from spacy>=2.2.0->de-core-news-sm==2.2.0) (4.41.1)\n",
            "Requirement already satisfied: requests<3.0.0,>=2.13.0 in /usr/local/lib/python3.7/dist-packages (from spacy>=2.2.0->de-core-news-sm==2.2.0) (2.23.0)\n",
            "Requirement already satisfied: setuptools in /usr/local/lib/python3.7/dist-packages (from spacy>=2.2.0->de-core-news-sm==2.2.0) (53.0.0)\n",
            "Requirement already satisfied: cymem<2.1.0,>=2.0.2 in /usr/local/lib/python3.7/dist-packages (from spacy>=2.2.0->de-core-news-sm==2.2.0) (2.0.5)\n",
            "Requirement already satisfied: catalogue<1.1.0,>=0.0.7 in /usr/local/lib/python3.7/dist-packages (from spacy>=2.2.0->de-core-news-sm==2.2.0) (1.0.0)\n",
            "Requirement already satisfied: wasabi<1.1.0,>=0.4.0 in /usr/local/lib/python3.7/dist-packages (from spacy>=2.2.0->de-core-news-sm==2.2.0) (0.8.2)\n",
            "Requirement already satisfied: thinc==7.4.0 in /usr/local/lib/python3.7/dist-packages (from spacy>=2.2.0->de-core-news-sm==2.2.0) (7.4.0)\n",
            "Requirement already satisfied: murmurhash<1.1.0,>=0.28.0 in /usr/local/lib/python3.7/dist-packages (from spacy>=2.2.0->de-core-news-sm==2.2.0) (1.0.5)\n",
            "Requirement already satisfied: numpy>=1.15.0 in /usr/local/lib/python3.7/dist-packages (from spacy>=2.2.0->de-core-news-sm==2.2.0) (1.19.5)\n",
            "Requirement already satisfied: blis<0.5.0,>=0.4.0 in /usr/local/lib/python3.7/dist-packages (from spacy>=2.2.0->de-core-news-sm==2.2.0) (0.4.1)\n",
            "Requirement already satisfied: chardet<4,>=3.0.2 in /usr/local/lib/python3.7/dist-packages (from requests<3.0.0,>=2.13.0->spacy>=2.2.0->de-core-news-sm==2.2.0) (3.0.4)\n",
            "Requirement already satisfied: certifi>=2017.4.17 in /usr/local/lib/python3.7/dist-packages (from requests<3.0.0,>=2.13.0->spacy>=2.2.0->de-core-news-sm==2.2.0) (2020.12.5)\n",
            "Requirement already satisfied: idna<3,>=2.5 in /usr/local/lib/python3.7/dist-packages (from requests<3.0.0,>=2.13.0->spacy>=2.2.0->de-core-news-sm==2.2.0) (2.10)\n",
            "Requirement already satisfied: urllib3!=1.25.0,!=1.25.1,<1.26,>=1.21.1 in /usr/local/lib/python3.7/dist-packages (from requests<3.0.0,>=2.13.0->spacy>=2.2.0->de-core-news-sm==2.2.0) (1.24.3)\n",
            "Requirement already satisfied: importlib-metadata>=0.20; python_version < \"3.8\" in /usr/local/lib/python3.7/dist-packages (from catalogue<1.1.0,>=0.0.7->spacy>=2.2.0->de-core-news-sm==2.2.0) (3.7.0)\n",
            "Requirement already satisfied: typing-extensions>=3.6.4; python_version < \"3.8\" in /usr/local/lib/python3.7/dist-packages (from importlib-metadata>=0.20; python_version < \"3.8\"->catalogue<1.1.0,>=0.0.7->spacy>=2.2.0->de-core-news-sm==2.2.0) (3.7.4.3)\n",
            "Requirement already satisfied: zipp>=0.5 in /usr/local/lib/python3.7/dist-packages (from importlib-metadata>=0.20; python_version < \"3.8\"->catalogue<1.1.0,>=0.0.7->spacy>=2.2.0->de-core-news-sm==2.2.0) (3.4.0)\n",
            "Building wheels for collected packages: de-core-news-sm\n",
            "  Building wheel for de-core-news-sm (setup.py) ... \u001b[?25l\u001b[?25hdone\n",
            "  Created wheel for de-core-news-sm: filename=de_core_news_sm-2.2.0-cp37-none-any.whl size=14912286 sha256=07035dbe81f12106164a36087da184f1bed1912d7dd82b89aacc700491832720\n",
            "  Stored in directory: /root/.cache/pip/wheels/71/3d/6c/0e841e5195cedb751569abff1815e5d890f2c44e72849d3da8\n",
            "Successfully built de-core-news-sm\n",
            "Installing collected packages: de-core-news-sm\n",
            "Successfully installed de-core-news-sm-2.2.0\n"
          ],
          "name": "stdout"
        }
      ]
    },
    {
      "cell_type": "code",
      "metadata": {
        "id": "PGeoDn7R_4WZ"
      },
      "source": [
        "import torch\n",
        "import torch.nn as nn\n",
        "import torch.optim as optim\n",
        "\n",
        "import torchtext\n",
        "from torchtext.datasets import Multi30k\n",
        "from torchtext.data import Field, BucketIterator\n",
        "\n",
        "import matplotlib.pyplot as plt\n",
        "import matplotlib.ticker as ticker\n",
        "\n",
        "import spacy\n",
        "import numpy as np\n",
        "\n",
        "import random\n",
        "import math\n",
        "import time"
      ],
      "execution_count": 1,
      "outputs": []
    },
    {
      "cell_type": "code",
      "metadata": {
        "id": "LUJnlH5U_4Wa"
      },
      "source": [
        "SEED = 1234\n",
        "\n",
        "random.seed(SEED)\n",
        "np.random.seed(SEED)\n",
        "torch.manual_seed(SEED)\n",
        "torch.cuda.manual_seed(SEED)\n",
        "torch.backends.cudnn.deterministic = True"
      ],
      "execution_count": 2,
      "outputs": []
    },
    {
      "cell_type": "markdown",
      "metadata": {
        "id": "1YP6qvkr_4Wb"
      },
      "source": [
        "We'll then create our tokenizers as before."
      ]
    },
    {
      "cell_type": "code",
      "metadata": {
        "id": "6wTyUYlz_4Wc"
      },
      "source": [
        "import de_core_news_sm\n",
        "import en_core_web_sm\n",
        "\n",
        "spacy_de = de_core_news_sm.load()\n",
        "spacy_en = en_core_web_sm.load()"
      ],
      "execution_count": 4,
      "outputs": []
    },
    {
      "cell_type": "code",
      "metadata": {
        "id": "ZkRA5w7B_4Wd"
      },
      "source": [
        "def tokenize_de(text):\n",
        "    \"\"\"\n",
        "    Tokenizes German text from a string into a list of strings\n",
        "    \"\"\"\n",
        "    return [tok.text for tok in spacy_de.tokenizer(text)]\n",
        "\n",
        "def tokenize_en(text):\n",
        "    \"\"\"\n",
        "    Tokenizes English text from a string into a list of strings\n",
        "    \"\"\"\n",
        "    return [tok.text for tok in spacy_en.tokenizer(text)]"
      ],
      "execution_count": 5,
      "outputs": []
    },
    {
      "cell_type": "markdown",
      "metadata": {
        "id": "rKLuClYg_4Wd"
      },
      "source": [
        "Our fields are the same as the previous notebook. The model expects data to be fed in with the batch dimension first, so we use `batch_first = True`. "
      ]
    },
    {
      "cell_type": "code",
      "metadata": {
        "id": "7y6ncMTP_4We"
      },
      "source": [
        "SRC = Field(tokenize = tokenize_de, \n",
        "            init_token = '<sos>', \n",
        "            eos_token = '<eos>', \n",
        "            lower = True, \n",
        "            batch_first = True)\n",
        "\n",
        "TRG = Field(tokenize = tokenize_en, \n",
        "            init_token = '<sos>', \n",
        "            eos_token = '<eos>', \n",
        "            lower = True, \n",
        "            batch_first = True)"
      ],
      "execution_count": 6,
      "outputs": []
    },
    {
      "cell_type": "markdown",
      "metadata": {
        "id": "AM3bKo5G_4Wi"
      },
      "source": [
        "We then load the Multi30k dataset and build the vocabulary."
      ]
    },
    {
      "cell_type": "code",
      "metadata": {
        "id": "DAZ9rHXN_4Wi",
        "colab": {
          "base_uri": "https://localhost:8080/"
        },
        "outputId": "96412ed6-a707-4fbb-ef99-64d88e01a5b2"
      },
      "source": [
        "train_data, valid_data, test_data = Multi30k.splits(exts = ('.de', '.en'), \n",
        "                                                    fields = (SRC, TRG))"
      ],
      "execution_count": 7,
      "outputs": [
        {
          "output_type": "stream",
          "text": [
            "downloading training.tar.gz\n"
          ],
          "name": "stdout"
        },
        {
          "output_type": "stream",
          "text": [
            "training.tar.gz: 100%|██████████| 1.21M/1.21M [00:02<00:00, 597kB/s]\n"
          ],
          "name": "stderr"
        },
        {
          "output_type": "stream",
          "text": [
            "downloading validation.tar.gz\n"
          ],
          "name": "stdout"
        },
        {
          "output_type": "stream",
          "text": [
            "validation.tar.gz: 100%|██████████| 46.3k/46.3k [00:00<00:00, 174kB/s]\n"
          ],
          "name": "stderr"
        },
        {
          "output_type": "stream",
          "text": [
            "downloading mmt_task1_test2016.tar.gz\n"
          ],
          "name": "stdout"
        },
        {
          "output_type": "stream",
          "text": [
            "mmt_task1_test2016.tar.gz: 100%|██████████| 66.2k/66.2k [00:00<00:00, 166kB/s]\n"
          ],
          "name": "stderr"
        }
      ]
    },
    {
      "cell_type": "code",
      "metadata": {
        "id": "F_feIcpq_4Wj"
      },
      "source": [
        "SRC.build_vocab(train_data, min_freq = 2)\n",
        "TRG.build_vocab(train_data, min_freq = 2)"
      ],
      "execution_count": 8,
      "outputs": []
    },
    {
      "cell_type": "markdown",
      "metadata": {
        "id": "kjv2x5KJ_4Wk"
      },
      "source": [
        "Finally, we define the device and the data iterator."
      ]
    },
    {
      "cell_type": "code",
      "metadata": {
        "id": "NP_eM4lv_4Wl"
      },
      "source": [
        "device = torch.device('cuda' if torch.cuda.is_available() else 'cpu')"
      ],
      "execution_count": 9,
      "outputs": []
    },
    {
      "cell_type": "code",
      "metadata": {
        "id": "hBoBUPWQ_4Wm"
      },
      "source": [
        "BATCH_SIZE = 128\n",
        "\n",
        "train_iterator, valid_iterator, test_iterator = BucketIterator.splits(\n",
        "    (train_data, valid_data, test_data), \n",
        "     batch_size = BATCH_SIZE,\n",
        "     device = device)"
      ],
      "execution_count": 10,
      "outputs": []
    },
    {
      "cell_type": "code",
      "metadata": {
        "colab": {
          "base_uri": "https://localhost:8080/"
        },
        "id": "tOsrGWyoS_N5",
        "outputId": "bbecb717-1f14-4e43-f5da-8d96ab50620a"
      },
      "source": [
        "for i, batch in list(enumerate(train_iterator))[0:1]:\r\n",
        "    src = batch.src\r\n",
        "\r\n",
        "    print(src)\r\n",
        "    trg = batch.trg\r\n",
        "    print(src.shape)\r\n",
        "    print(trg.shape)\r\n",
        "    for s,t in zip(src,trg):\r\n",
        "        #.detach().cpu().numpy()\r\n",
        "        print([SRC.vocab.itos[int(i.detach().cpu().numpy())] for i in s])\r\n",
        "        print([TRG.vocab.itos[int(i.detach().cpu().numpy())] for i in t])"
      ],
      "execution_count": 33,
      "outputs": [
        {
          "output_type": "stream",
          "text": [
            "tensor([[   2,    8,   16,  ...,    1,    1,    1],\n",
            "        [   2,   73,   52,  ...,    1,    1,    1],\n",
            "        [   2,    5,   13,  ...,    1,    1,    1],\n",
            "        ...,\n",
            "        [   2, 3456,   65,  ...,    1,    1,    1],\n",
            "        [   2,    5, 1010,  ...,    1,    1,    1],\n",
            "        [   2,   18,   30,  ...,    1,    1,    1]], device='cuda:0')\n",
            "torch.Size([128, 31])\n",
            "torch.Size([128, 37])\n",
            "['<sos>', 'eine', 'frau', 'in', 'einem', 'roten', 'oberteil', ',', 'befindet', 'sich', 'unter', 'einer', 'decke', 'in', 'einem', 'fahrzeug', 'und', 'schläft', '.', '<eos>', '<pad>', '<pad>', '<pad>', '<pad>', '<pad>', '<pad>', '<pad>', '<pad>', '<pad>', '<pad>', '<pad>']\n",
            "['<sos>', 'a', 'woman', 'in', 'a', 'red', 'shirt', 'is', 'under', 'a', 'blanket', 'and', 'sleeping', 'in', 'a', 'vehicle', '.', '<eos>', '<pad>', '<pad>', '<pad>', '<pad>', '<pad>', '<pad>', '<pad>', '<pad>', '<pad>', '<pad>', '<pad>', '<pad>', '<pad>', '<pad>', '<pad>', '<pad>', '<pad>', '<pad>', '<pad>']\n",
            "['<sos>', 'leute', 'stehen', 'und', 'gehen', 'in', 'der', 'nähe', 'von', 'bahngleisen', '.', '<eos>', '<pad>', '<pad>', '<pad>', '<pad>', '<pad>', '<pad>', '<pad>', '<pad>', '<pad>', '<pad>', '<pad>', '<pad>', '<pad>', '<pad>', '<pad>', '<pad>', '<pad>', '<pad>', '<pad>']\n",
            "['<sos>', 'people', 'are', 'standing', 'or', 'walking', 'near', 'railroad', 'tracks', '.', '<eos>', '<pad>', '<pad>', '<pad>', '<pad>', '<pad>', '<pad>', '<pad>', '<pad>', '<pad>', '<pad>', '<pad>', '<pad>', '<pad>', '<pad>', '<pad>', '<pad>', '<pad>', '<pad>', '<pad>', '<pad>', '<pad>', '<pad>', '<pad>', '<pad>', '<pad>', '<pad>']\n",
            "['<sos>', 'ein', 'mann', 'mit', 'sandalen', 'setzt', 'sich', 'hin', 'und', 'liest', 'zeitung', 'im', 'freien', '.', '<eos>', '<pad>', '<pad>', '<pad>', '<pad>', '<pad>', '<pad>', '<pad>', '<pad>', '<pad>', '<pad>', '<pad>', '<pad>', '<pad>', '<pad>', '<pad>', '<pad>']\n",
            "['<sos>', 'a', 'man', 'in', 'sandals', 'sits', 'down', 'while', 'reading', 'the', 'newspaper', 'outside', '.', '<eos>', '<pad>', '<pad>', '<pad>', '<pad>', '<pad>', '<pad>', '<pad>', '<pad>', '<pad>', '<pad>', '<pad>', '<pad>', '<pad>', '<pad>', '<pad>', '<pad>', '<pad>', '<pad>', '<pad>', '<pad>', '<pad>', '<pad>', '<pad>']\n",
            "['<sos>', 'ein', 'paar', 'in', 'wintermänteln', 'posiert', 'zusammen', '.', '<eos>', '<pad>', '<pad>', '<pad>', '<pad>', '<pad>', '<pad>', '<pad>', '<pad>', '<pad>', '<pad>', '<pad>', '<pad>', '<pad>', '<pad>', '<pad>', '<pad>', '<pad>', '<pad>', '<pad>', '<pad>', '<pad>', '<pad>']\n",
            "['<sos>', 'a', 'couple', 'wearing', 'winter', 'coats', 'posing', 'together', '.', '<eos>', '<pad>', '<pad>', '<pad>', '<pad>', '<pad>', '<pad>', '<pad>', '<pad>', '<pad>', '<pad>', '<pad>', '<pad>', '<pad>', '<pad>', '<pad>', '<pad>', '<pad>', '<pad>', '<pad>', '<pad>', '<pad>', '<pad>', '<pad>', '<pad>', '<pad>', '<pad>', '<pad>']\n",
            "['<sos>', 'hunde', 'rennen', 'an', 'einem', 'kalten', ',', 'aber', 'sonnigen', 'morgen', '.', '<eos>', '<pad>', '<pad>', '<pad>', '<pad>', '<pad>', '<pad>', '<pad>', '<pad>', '<pad>', '<pad>', '<pad>', '<pad>', '<pad>', '<pad>', '<pad>', '<pad>', '<pad>', '<pad>', '<pad>']\n",
            "['<sos>', 'dogs', 'running', 'on', 'a', 'cold', 'but', 'sunny', 'morning', '<eos>', '<pad>', '<pad>', '<pad>', '<pad>', '<pad>', '<pad>', '<pad>', '<pad>', '<pad>', '<pad>', '<pad>', '<pad>', '<pad>', '<pad>', '<pad>', '<pad>', '<pad>', '<pad>', '<pad>', '<pad>', '<pad>', '<pad>', '<pad>', '<pad>', '<pad>', '<pad>', '<pad>']\n",
            "['<sos>', 'eine', '<unk>', 'in', 'einem', 'schwarzen', 'und', 'weißen', 'kleid', 'überquert', 'die', 'straße', '.', '<eos>', '<pad>', '<pad>', '<pad>', '<pad>', '<pad>', '<pad>', '<pad>', '<pad>', '<pad>', '<pad>', '<pad>', '<pad>', '<pad>', '<pad>', '<pad>', '<pad>', '<pad>']\n",
            "['<sos>', 'a', 'busy', 'women', 'in', 'black', 'and', 'white', 'color', 'dress', 'is', 'crossing', 'the', 'road', '.', '<eos>', '<pad>', '<pad>', '<pad>', '<pad>', '<pad>', '<pad>', '<pad>', '<pad>', '<pad>', '<pad>', '<pad>', '<pad>', '<pad>', '<pad>', '<pad>', '<pad>', '<pad>', '<pad>', '<pad>', '<pad>', '<pad>']\n",
            "['<sos>', 'zwei', 'sportler', ',', 'von', 'denen', 'einer', 'ein', '<unk>', 'gestreiftes', 'trikot', 'und', 'der', 'andere', 'ein', 'blau-weiß', 'gestreiftes', 'trikot', 'trägt', ',', 'spielen', 'auf', 'einem', 'feld', 'fußball', '.', '<eos>', '<pad>', '<pad>', '<pad>', '<pad>']\n",
            "['<sos>', 'two', 'athletes', ',', 'one', 'wearing', 'purple', 'and', 'blue', 'stripes', 'and', 'the', 'other', 'wearing', 'blue', 'and', 'white', 'stripes', ',', 'are', 'playing', 'soccer', 'on', 'a', 'field', '.', '<eos>', '<pad>', '<pad>', '<pad>', '<pad>', '<pad>', '<pad>', '<pad>', '<pad>', '<pad>', '<pad>']\n",
            "['<sos>', 'zwei', 'männer', 'hacken', 'in', 'ihrem', 'hof', 'unkraut', 'weg', '.', '<eos>', '<pad>', '<pad>', '<pad>', '<pad>', '<pad>', '<pad>', '<pad>', '<pad>', '<pad>', '<pad>', '<pad>', '<pad>', '<pad>', '<pad>', '<pad>', '<pad>', '<pad>', '<pad>', '<pad>', '<pad>']\n",
            "['<sos>', 'two', 'men', 'are', 'chopping', 'down', 'weeds', 'in', 'their', 'yard', '.', '<eos>', '<pad>', '<pad>', '<pad>', '<pad>', '<pad>', '<pad>', '<pad>', '<pad>', '<pad>', '<pad>', '<pad>', '<pad>', '<pad>', '<pad>', '<pad>', '<pad>', '<pad>', '<pad>', '<pad>', '<pad>', '<pad>', '<pad>', '<pad>', '<pad>', '<pad>']\n",
            "['<sos>', 'ein', 'mann', 'in', 'einem', 'schwarzen', 'hemd', 'spielt', 'gitarre', '.', '<eos>', '<pad>', '<pad>', '<pad>', '<pad>', '<pad>', '<pad>', '<pad>', '<pad>', '<pad>', '<pad>', '<pad>', '<pad>', '<pad>', '<pad>', '<pad>', '<pad>', '<pad>', '<pad>', '<pad>', '<pad>']\n",
            "['<sos>', 'a', 'man', 'in', 'a', 'black', 'shirt', 'plays', 'guitar', '.', '<eos>', '<pad>', '<pad>', '<pad>', '<pad>', '<pad>', '<pad>', '<pad>', '<pad>', '<pad>', '<pad>', '<pad>', '<pad>', '<pad>', '<pad>', '<pad>', '<pad>', '<pad>', '<pad>', '<pad>', '<pad>', '<pad>', '<pad>', '<pad>', '<pad>', '<pad>', '<pad>']\n",
            "['<sos>', 'drei', 'polizisten', ',', 'ein', 'polizist', 'auf', 'seinem', 'motorrad', ',', 'tragen', 'schwarze', 'uniformen', 'mit', 'schwarzen', 'stiefeln', '.', '<eos>', '<pad>', '<pad>', '<pad>', '<pad>', '<pad>', '<pad>', '<pad>', '<pad>', '<pad>', '<pad>', '<pad>', '<pad>', '<pad>']\n",
            "['<sos>', 'three', 'policemen', ',', 'one', 'on', 'his', 'cop', 'bike', ',', 'wearing', 'black', 'uniforms', 'with', 'black', 'boots', '.', '<eos>', '<pad>', '<pad>', '<pad>', '<pad>', '<pad>', '<pad>', '<pad>', '<pad>', '<pad>', '<pad>', '<pad>', '<pad>', '<pad>', '<pad>', '<pad>', '<pad>', '<pad>', '<pad>', '<pad>']\n",
            "['<sos>', 'ein', 'kind', 'trägt', 'einen', 'papierhut', 'und', 'isst', 'in', 'einem', 'lokal', '.', '<eos>', '<pad>', '<pad>', '<pad>', '<pad>', '<pad>', '<pad>', '<pad>', '<pad>', '<pad>', '<pad>', '<pad>', '<pad>', '<pad>', '<pad>', '<pad>', '<pad>', '<pad>', '<pad>']\n",
            "['<sos>', 'a', 'child', 'is', 'wearing', 'a', 'paper', 'hat', 'and', 'eating', 'at', 'a', 'diner', '.', '<eos>', '<pad>', '<pad>', '<pad>', '<pad>', '<pad>', '<pad>', '<pad>', '<pad>', '<pad>', '<pad>', '<pad>', '<pad>', '<pad>', '<pad>', '<pad>', '<pad>', '<pad>', '<pad>', '<pad>', '<pad>', '<pad>', '<pad>']\n",
            "['<sos>', 'ein', 'kleines', 'mädchen', 'in', 'einem', 'rosa', 'kleid', 'hat', 'etwas', 'in', 'seiner', 'hand', '.', '<eos>', '<pad>', '<pad>', '<pad>', '<pad>', '<pad>', '<pad>', '<pad>', '<pad>', '<pad>', '<pad>', '<pad>', '<pad>', '<pad>', '<pad>', '<pad>', '<pad>']\n",
            "['<sos>', 'a', 'young', 'girl', 'in', 'a', 'pink', 'dress', 'with', 'something', 'in', 'her', 'hand', '.', '<eos>', '<pad>', '<pad>', '<pad>', '<pad>', '<pad>', '<pad>', '<pad>', '<pad>', '<pad>', '<pad>', '<pad>', '<pad>', '<pad>', '<pad>', '<pad>', '<pad>', '<pad>', '<pad>', '<pad>', '<pad>', '<pad>', '<pad>']\n",
            "['<sos>', 'eine', 'frau', 'sitzt', 'an', 'einem', 'tisch', 'vor', 'einem', 'laden', ',', 'in', 'dessen', 'fenster', '\"', '<unk>', '\"', 'steht', '.', '<eos>', '<pad>', '<pad>', '<pad>', '<pad>', '<pad>', '<pad>', '<pad>', '<pad>', '<pad>', '<pad>', '<pad>']\n",
            "['<sos>', 'a', 'woman', 'sitting', 'at', 'a', 'table', 'outside', 'of', 'a', 'store', 'that', 'says', 'parking', 'in', 'the', 'window', '.', '<eos>', '<pad>', '<pad>', '<pad>', '<pad>', '<pad>', '<pad>', '<pad>', '<pad>', '<pad>', '<pad>', '<pad>', '<pad>', '<pad>', '<pad>', '<pad>', '<pad>', '<pad>', '<pad>']\n",
            "['<sos>', 'ein', 'kleiner', 'junge', 'macht', 'im', 'park', 'ein', 'foto', '.', '<eos>', '<pad>', '<pad>', '<pad>', '<pad>', '<pad>', '<pad>', '<pad>', '<pad>', '<pad>', '<pad>', '<pad>', '<pad>', '<pad>', '<pad>', '<pad>', '<pad>', '<pad>', '<pad>', '<pad>', '<pad>']\n",
            "['<sos>', 'a', 'little', 'boy', 'takes', 'a', 'picture', 'at', 'the', 'park', '.', '<eos>', '<pad>', '<pad>', '<pad>', '<pad>', '<pad>', '<pad>', '<pad>', '<pad>', '<pad>', '<pad>', '<pad>', '<pad>', '<pad>', '<pad>', '<pad>', '<pad>', '<pad>', '<pad>', '<pad>', '<pad>', '<pad>', '<pad>', '<pad>', '<pad>', '<pad>']\n",
            "['<sos>', 'mehrere', 'inder', 'stehen', 'tagsüber', 'neben', 'einer', 'straßenlaterne', ',', 'über', 'ihnen', 'wolken', '.', '<eos>', '<pad>', '<pad>', '<pad>', '<pad>', '<pad>', '<pad>', '<pad>', '<pad>', '<pad>', '<pad>', '<pad>', '<pad>', '<pad>', '<pad>', '<pad>', '<pad>', '<pad>']\n",
            "['<sos>', 'a', 'group', 'of', 'indians', 'stand', 'next', 'to', 'a', 'streetlight', 'in', 'the', 'daytime', 'with', 'clouds', 'above', 'them', 'all', '.', '<eos>', '<pad>', '<pad>', '<pad>', '<pad>', '<pad>', '<pad>', '<pad>', '<pad>', '<pad>', '<pad>', '<pad>', '<pad>', '<pad>', '<pad>', '<pad>', '<pad>', '<pad>']\n",
            "['<sos>', 'ein', 'mann', ',', 'der', 'einen', 'lila', 'hut', 'und', '<unk>', 'trägt', ',', 'jubelt', 'einer', 'menschenmenge', 'zu', '.', '<eos>', '<pad>', '<pad>', '<pad>', '<pad>', '<pad>', '<pad>', '<pad>', '<pad>', '<pad>', '<pad>', '<pad>', '<pad>', '<pad>']\n",
            "['<sos>', 'a', 'man', 'wearing', 'a', 'purple', 'hat', 'and', 'clown', 'makeup', 'is', 'cheering', 'to', 'a', 'crowd', '.', '<eos>', '<pad>', '<pad>', '<pad>', '<pad>', '<pad>', '<pad>', '<pad>', '<pad>', '<pad>', '<pad>', '<pad>', '<pad>', '<pad>', '<pad>', '<pad>', '<pad>', '<pad>', '<pad>', '<pad>', '<pad>']\n",
            "['<sos>', 'eine', 'asiatische', 'frau', 'in', 'der', 'menschenmenge', 'trägt', 'eine', 'schwarze', 'tasche', ',', 'auf', 'die', 'der', 'schriftzug', '„', 'pain', '“', 'und', 'eine', 'hand', 'mit', 'aufgesetztem', '<unk>', 'gedruckt', 'ist', '.', '<eos>', '<pad>', '<pad>']\n",
            "['<sos>', 'asian', 'woman', 'in', 'crowd', ',', 'carrying', 'black', 'bag', 'with', '\"', 'pain', '\"', 'and', 'spiked', '<unk>', 'graphic', '.', '<eos>', '<pad>', '<pad>', '<pad>', '<pad>', '<pad>', '<pad>', '<pad>', '<pad>', '<pad>', '<pad>', '<pad>', '<pad>', '<pad>', '<pad>', '<pad>', '<pad>', '<pad>', '<pad>']\n",
            "['<sos>', 'ein', 'afroamerikanischer', 'mann', 'mit', 'einer', 'einkaufstüte', ',', 'der', 'in', 'einer', 'blauen', '<unk>', 'steht', '.', '<eos>', '<pad>', '<pad>', '<pad>', '<pad>', '<pad>', '<pad>', '<pad>', '<pad>', '<pad>', '<pad>', '<pad>', '<pad>', '<pad>', '<pad>', '<pad>']\n",
            "['<sos>', 'african', 'american', 'man', 'with', 'shopping', 'bag', 'standing', 'in', 'a', 'blue', 'phone', 'booth', '.', '<eos>', '<pad>', '<pad>', '<pad>', '<pad>', '<pad>', '<pad>', '<pad>', '<pad>', '<pad>', '<pad>', '<pad>', '<pad>', '<pad>', '<pad>', '<pad>', '<pad>', '<pad>', '<pad>', '<pad>', '<pad>', '<pad>', '<pad>']\n",
            "['<sos>', 'ein', 'baseballspieler', 'holt', 'zum', 'wurf', 'aus', ',', 'der', 'fänger', 'des', 'gegnerischen', 'teams', 'geht', 'in', 'position', 'für', 'den', 'ball', '.', '<eos>', '<pad>', '<pad>', '<pad>', '<pad>', '<pad>', '<pad>', '<pad>', '<pad>', '<pad>', '<pad>']\n",
            "['<sos>', 'a', 'baseball', 'player', 'swings', 'at', 'the', 'pitch', 'while', 'the', 'opposing', 'team', \"'s\", 'catcher', 'is', 'ready', 'for', 'the', 'ball', '.', '<eos>', '<pad>', '<pad>', '<pad>', '<pad>', '<pad>', '<pad>', '<pad>', '<pad>', '<pad>', '<pad>', '<pad>', '<pad>', '<pad>', '<pad>', '<pad>', '<pad>']\n",
            "['<sos>', 'eine', 'frau', 'in', 'einem', 'hübschen', 'pullover', 'fertigt', 'etwas', 'mit', 'ihren', 'händen', '.', '<eos>', '<pad>', '<pad>', '<pad>', '<pad>', '<pad>', '<pad>', '<pad>', '<pad>', '<pad>', '<pad>', '<pad>', '<pad>', '<pad>', '<pad>', '<pad>', '<pad>', '<pad>']\n",
            "['<sos>', 'a', 'female', 'in', 'a', 'nice', 'sweater', 'hand', 'making', 'something', 'creative', '.', '<eos>', '<pad>', '<pad>', '<pad>', '<pad>', '<pad>', '<pad>', '<pad>', '<pad>', '<pad>', '<pad>', '<pad>', '<pad>', '<pad>', '<pad>', '<pad>', '<pad>', '<pad>', '<pad>', '<pad>', '<pad>', '<pad>', '<pad>', '<pad>', '<pad>']\n",
            "['<sos>', 'männer', 'mit', '<unk>', 'stehen', 'in', 'einem', '<unk>', '.', '<eos>', '<pad>', '<pad>', '<pad>', '<pad>', '<pad>', '<pad>', '<pad>', '<pad>', '<pad>', '<pad>', '<pad>', '<pad>', '<pad>', '<pad>', '<pad>', '<pad>', '<pad>', '<pad>', '<pad>', '<pad>', '<pad>']\n",
            "['<sos>', 'men', 'with', 'crowns', 'of', 'leaves', 'stand', 'in', 'a', '<unk>', '.', '<eos>', '<pad>', '<pad>', '<pad>', '<pad>', '<pad>', '<pad>', '<pad>', '<pad>', '<pad>', '<pad>', '<pad>', '<pad>', '<pad>', '<pad>', '<pad>', '<pad>', '<pad>', '<pad>', '<pad>', '<pad>', '<pad>', '<pad>', '<pad>', '<pad>', '<pad>']\n",
            "['<sos>', 'zwei', 'jungs', 'spielen', 'fußball', 'und', 'jagen', 'beide', 'dem', 'ball', 'nach', '.', '<eos>', '<pad>', '<pad>', '<pad>', '<pad>', '<pad>', '<pad>', '<pad>', '<pad>', '<pad>', '<pad>', '<pad>', '<pad>', '<pad>', '<pad>', '<pad>', '<pad>', '<pad>', '<pad>']\n",
            "['<sos>', 'you', 'have', 'two', 'boys', 'playing', 'soccer', 'with', 'each', 'other', 'who', 'are', 'both', 'going', 'after', 'the', 'ball', '.', '<eos>', '<pad>', '<pad>', '<pad>', '<pad>', '<pad>', '<pad>', '<pad>', '<pad>', '<pad>', '<pad>', '<pad>', '<pad>', '<pad>', '<pad>', '<pad>', '<pad>', '<pad>', '<pad>']\n",
            "['<sos>', 'eine', 'frau', 'in', 'rosa', 'hält', 'vor', 'einer', '<unk>', 'für', 'die', '<unk>', 'ein', 'buch', 'in', 'der', 'hand', '.', '<eos>', '<pad>', '<pad>', '<pad>', '<pad>', '<pad>', '<pad>', '<pad>', '<pad>', '<pad>', '<pad>', '<pad>', '<pad>']\n",
            "['<sos>', 'a', 'woman', 'dressed', 'in', 'pink', 'is', 'holding', 'a', 'book', 'in', 'front', 'of', 'a', 'veteran', 'memorial', '.', '<eos>', '<pad>', '<pad>', '<pad>', '<pad>', '<pad>', '<pad>', '<pad>', '<pad>', '<pad>', '<pad>', '<pad>', '<pad>', '<pad>', '<pad>', '<pad>', '<pad>', '<pad>', '<pad>', '<pad>']\n",
            "['<sos>', 'zwei', 'fußballspieler', 'gehen', 'auf', 'dem', 'fußballfeld', '.', '<eos>', '<pad>', '<pad>', '<pad>', '<pad>', '<pad>', '<pad>', '<pad>', '<pad>', '<pad>', '<pad>', '<pad>', '<pad>', '<pad>', '<pad>', '<pad>', '<pad>', '<pad>', '<pad>', '<pad>', '<pad>', '<pad>', '<pad>']\n",
            "['<sos>', 'two', 'soccer', 'players', 'walk', 'on', 'the', 'soccer', 'field', '.', '<eos>', '<pad>', '<pad>', '<pad>', '<pad>', '<pad>', '<pad>', '<pad>', '<pad>', '<pad>', '<pad>', '<pad>', '<pad>', '<pad>', '<pad>', '<pad>', '<pad>', '<pad>', '<pad>', '<pad>', '<pad>', '<pad>', '<pad>', '<pad>', '<pad>', '<pad>', '<pad>']\n",
            "['<sos>', 'eine', 'frau', 'in', 'einem', 'kurzen', ',', 'ärmellosen', 'orangen', 'kleid', 'und', 'schwarzen', 'leggings', 'sitzt', 'auf', 'einer', 'betonbank', 'und', 'schaut', 'nach', 'unten', ',', 'und', 'hinter', 'ihr', 'sind', '<unk>', 'fahrräder', 'geparkt', '.', '<eos>']\n",
            "['<sos>', 'a', 'woman', 'in', 'a', 'short', ',', 'sleeveless', 'bright', 'orange', 'dress', 'and', 'black', 'leggings', 'sits', 'on', 'a', 'cement', 'bench', 'looking', 'down', ',', 'with', 'numerous', 'bicycles', 'parked', 'behind', 'her', '.', '<eos>', '<pad>', '<pad>', '<pad>', '<pad>', '<pad>', '<pad>', '<pad>']\n",
            "['<sos>', 'ein', 'mitglied', 'eines', 'afrikanischen', '<unk>', 'in', 'stammeskleidung', 'blickt', 'konzentriert', 'in', 'die', 'kamera', '.', '<eos>', '<pad>', '<pad>', '<pad>', '<pad>', '<pad>', '<pad>', '<pad>', '<pad>', '<pad>', '<pad>', '<pad>', '<pad>', '<pad>', '<pad>', '<pad>', '<pad>']\n",
            "['<sos>', 'a', 'member', 'of', 'an', 'african', 'tribe', 'is', 'watching', 'the', 'camera', 'intently', 'in', 'tribal', 'dress', '.', '<eos>', '<pad>', '<pad>', '<pad>', '<pad>', '<pad>', '<pad>', '<pad>', '<pad>', '<pad>', '<pad>', '<pad>', '<pad>', '<pad>', '<pad>', '<pad>', '<pad>', '<pad>', '<pad>', '<pad>', '<pad>']\n",
            "['<sos>', 'ein', 'bärtiger', 'mann', 'in', 'blauen', 'jeans', 'auf', 'einem', 'skateboard', 'springt', 'über', 'einen', 'einkaufswagen', '.', '<eos>', '<pad>', '<pad>', '<pad>', '<pad>', '<pad>', '<pad>', '<pad>', '<pad>', '<pad>', '<pad>', '<pad>', '<pad>', '<pad>', '<pad>', '<pad>']\n",
            "['<sos>', 'a', 'bearded', 'man', 'in', 'blue', 'jeans', 'on', 'a', 'skateboard', 'is', 'jumping', 'over', 'a', 'shopping', 'cart', '.', '<eos>', '<pad>', '<pad>', '<pad>', '<pad>', '<pad>', '<pad>', '<pad>', '<pad>', '<pad>', '<pad>', '<pad>', '<pad>', '<pad>', '<pad>', '<pad>', '<pad>', '<pad>', '<pad>', '<pad>']\n",
            "['<sos>', 'zwei', 'schwarz', 'gekleidete', 'asiatische', 'männer', 'sitzen', 'im', 'freien', 'und', 'unterhalten', 'sich', '.', '<eos>', '<pad>', '<pad>', '<pad>', '<pad>', '<pad>', '<pad>', '<pad>', '<pad>', '<pad>', '<pad>', '<pad>', '<pad>', '<pad>', '<pad>', '<pad>', '<pad>', '<pad>']\n",
            "['<sos>', 'two', 'asian', 'men', 'wearing', 'black', 'are', 'sitting', 'outside', 'and', 'talking', '.', '<eos>', '<pad>', '<pad>', '<pad>', '<pad>', '<pad>', '<pad>', '<pad>', '<pad>', '<pad>', '<pad>', '<pad>', '<pad>', '<pad>', '<pad>', '<pad>', '<pad>', '<pad>', '<pad>', '<pad>', '<pad>', '<pad>', '<pad>', '<pad>', '<pad>']\n",
            "['<sos>', 'ein', '<unk>', 'basketballspieler', 'landet', 'von', 'einem', 'dunk', '.', '<eos>', '<pad>', '<pad>', '<pad>', '<pad>', '<pad>', '<pad>', '<pad>', '<pad>', '<pad>', '<pad>', '<pad>', '<pad>', '<pad>', '<pad>', '<pad>', '<pad>', '<pad>', '<pad>', '<pad>', '<pad>', '<pad>']\n",
            "['<sos>', 'an', 'athletic', 'basketball', 'player', 'is', 'coming', 'down', 'from', 'dunking', 'the', 'ball', '.', '<eos>', '<pad>', '<pad>', '<pad>', '<pad>', '<pad>', '<pad>', '<pad>', '<pad>', '<pad>', '<pad>', '<pad>', '<pad>', '<pad>', '<pad>', '<pad>', '<pad>', '<pad>', '<pad>', '<pad>', '<pad>', '<pad>', '<pad>', '<pad>']\n",
            "['<sos>', 'ein', 'blonde', 'frau', 'in', 'einem', 'blauen', 'oberteil', 'wirft', 'einen', 'blick', 'auf', 'eine', 'unbekannte', 'figur', 'vor', 'der', 'kamera', '.', '<eos>', '<pad>', '<pad>', '<pad>', '<pad>', '<pad>', '<pad>', '<pad>', '<pad>', '<pad>', '<pad>', '<pad>']\n",
            "['<sos>', 'a', 'blond', 'woman', 'in', 'a', 'blue', 'tank', 'top', 'glances', 'at', 'an', 'unidentified', 'figure', 'in', 'front', 'of', 'the', 'camera', '.', '<eos>', '<pad>', '<pad>', '<pad>', '<pad>', '<pad>', '<pad>', '<pad>', '<pad>', '<pad>', '<pad>', '<pad>', '<pad>', '<pad>', '<pad>', '<pad>', '<pad>']\n",
            "['<sos>', 'zwei', 'personen', 'schwimmen', 'neben', 'einer', 'roten', 'boje', '.', '<eos>', '<pad>', '<pad>', '<pad>', '<pad>', '<pad>', '<pad>', '<pad>', '<pad>', '<pad>', '<pad>', '<pad>', '<pad>', '<pad>', '<pad>', '<pad>', '<pad>', '<pad>', '<pad>', '<pad>', '<pad>', '<pad>']\n",
            "['<sos>', 'two', 'people', 'are', 'swimming', 'in', 'water', 'next', 'to', 'a', 'red', 'buoy', '.', '<eos>', '<pad>', '<pad>', '<pad>', '<pad>', '<pad>', '<pad>', '<pad>', '<pad>', '<pad>', '<pad>', '<pad>', '<pad>', '<pad>', '<pad>', '<pad>', '<pad>', '<pad>', '<pad>', '<pad>', '<pad>', '<pad>', '<pad>', '<pad>']\n",
            "['<sos>', 'ein', 'bus', 'öffnet', 'die', 'tür', ',', 'um', 'fahrgäste', 'ein-', 'und', 'aussteigen', 'zu', 'lassen', '.', '<eos>', '<pad>', '<pad>', '<pad>', '<pad>', '<pad>', '<pad>', '<pad>', '<pad>', '<pad>', '<pad>', '<pad>', '<pad>', '<pad>', '<pad>', '<pad>']\n",
            "['<sos>', 'a', 'bus', 'opens', 'its', 'door', 'to', 'let', 'people', 'on', 'and', 'off', '.', '<eos>', '<pad>', '<pad>', '<pad>', '<pad>', '<pad>', '<pad>', '<pad>', '<pad>', '<pad>', '<pad>', '<pad>', '<pad>', '<pad>', '<pad>', '<pad>', '<pad>', '<pad>', '<pad>', '<pad>', '<pad>', '<pad>', '<pad>', '<pad>']\n",
            "['<sos>', 'eine', 'frau', 'in', 'einem', 'schwarzen', 'badeanzug', 'hält', 'sich', 'am', 'rand', 'des', 'im', 'boden', 'eingelassenen', 'schwimmbeckens', 'fest', '.', '<eos>', '<pad>', '<pad>', '<pad>', '<pad>', '<pad>', '<pad>', '<pad>', '<pad>', '<pad>', '<pad>', '<pad>', '<pad>']\n",
            "['<sos>', 'a', 'woman', 'in', 'a', 'black', 'swimming', 'suit', 'is', 'holding', 'onto', 'the', 'edge', 'of', 'a', 'in', 'ground', 'pool', '.', '<eos>', '<pad>', '<pad>', '<pad>', '<pad>', '<pad>', '<pad>', '<pad>', '<pad>', '<pad>', '<pad>', '<pad>', '<pad>', '<pad>', '<pad>', '<pad>', '<pad>', '<pad>']\n",
            "['<sos>', 'ein', 'paar', 'führt', 'seinen', '<unk>', 'an', 'einer', 'mit', 'graffiti', 'bemalten', 'mauer', 'entlang', '.', '<eos>', '<pad>', '<pad>', '<pad>', '<pad>', '<pad>', '<pad>', '<pad>', '<pad>', '<pad>', '<pad>', '<pad>', '<pad>', '<pad>', '<pad>', '<pad>', '<pad>']\n",
            "['<sos>', 'a', 'couple', 'walk', 'their', 'dachshund', 'past', 'a', 'wall', 'with', 'graffiti', 'on', 'it', '.', '<eos>', '<pad>', '<pad>', '<pad>', '<pad>', '<pad>', '<pad>', '<pad>', '<pad>', '<pad>', '<pad>', '<pad>', '<pad>', '<pad>', '<pad>', '<pad>', '<pad>', '<pad>', '<pad>', '<pad>', '<pad>', '<pad>', '<pad>']\n",
            "['<sos>', 'ein', 'mann', 'steht', 'in', 'der', 'mitte', 'des', 'sees', 'in', 'seinem', 'kleinen', 'boot', '.', '<eos>', '<pad>', '<pad>', '<pad>', '<pad>', '<pad>', '<pad>', '<pad>', '<pad>', '<pad>', '<pad>', '<pad>', '<pad>', '<pad>', '<pad>', '<pad>', '<pad>']\n",
            "['<sos>', 'a', 'man', 'stands', 'in', 'his', 'small', 'boat', 'in', 'the', 'middle', 'of', 'the', 'lake', '.', '<eos>', '<pad>', '<pad>', '<pad>', '<pad>', '<pad>', '<pad>', '<pad>', '<pad>', '<pad>', '<pad>', '<pad>', '<pad>', '<pad>', '<pad>', '<pad>', '<pad>', '<pad>', '<pad>', '<pad>', '<pad>', '<pad>']\n",
            "['<sos>', 'ältere', 'paare', 'tanzen', 'in', 'der', 'nacht', ',', '<unk>', 'sind', 'im', 'hintergrund', '.', '<eos>', '<pad>', '<pad>', '<pad>', '<pad>', '<pad>', '<pad>', '<pad>', '<pad>', '<pad>', '<pad>', '<pad>', '<pad>', '<pad>', '<pad>', '<pad>', '<pad>', '<pad>']\n",
            "['<sos>', 'elderly', 'couples', 'dance', 'at', 'night', ',', 'with', 'strings', 'of', 'lights', 'in', 'the', 'background', '.', '<eos>', '<pad>', '<pad>', '<pad>', '<pad>', '<pad>', '<pad>', '<pad>', '<pad>', '<pad>', '<pad>', '<pad>', '<pad>', '<pad>', '<pad>', '<pad>', '<pad>', '<pad>', '<pad>', '<pad>', '<pad>', '<pad>']\n",
            "['<sos>', 'ein', 'bauarbeiter', 'legt', 'eine', 'pause', 'ein', 'und', 'lehnt', 'sich', 'dabei', 'gegen', 'einen', 'gelben', 'balken', '.', '<eos>', '<pad>', '<pad>', '<pad>', '<pad>', '<pad>', '<pad>', '<pad>', '<pad>', '<pad>', '<pad>', '<pad>', '<pad>', '<pad>', '<pad>']\n",
            "['<sos>', 'a', 'construction', 'worker', 'is', 'taking', 'a', 'break', 'while', 'leaning', 'on', 'a', 'yellow', 'bar', '.', '<eos>', '<pad>', '<pad>', '<pad>', '<pad>', '<pad>', '<pad>', '<pad>', '<pad>', '<pad>', '<pad>', '<pad>', '<pad>', '<pad>', '<pad>', '<pad>', '<pad>', '<pad>', '<pad>', '<pad>', '<pad>', '<pad>']\n",
            "['<sos>', 'kinder', 'sitzen', 'unter', 'der', 'anweisung', 'des', '<unk>', 'vor', 'einem', 'computer', '.', '<eos>', '<pad>', '<pad>', '<pad>', '<pad>', '<pad>', '<pad>', '<pad>', '<pad>', '<pad>', '<pad>', '<pad>', '<pad>', '<pad>', '<pad>', '<pad>', '<pad>', '<pad>', '<pad>']\n",
            "['<sos>', 'children', 'sit', 'in', 'front', 'of', 'a', 'computer', 'while', 'their', 'teacher', '<unk>', 'them', '.', '<eos>', '<pad>', '<pad>', '<pad>', '<pad>', '<pad>', '<pad>', '<pad>', '<pad>', '<pad>', '<pad>', '<pad>', '<pad>', '<pad>', '<pad>', '<pad>', '<pad>', '<pad>', '<pad>', '<pad>', '<pad>', '<pad>', '<pad>']\n",
            "['<sos>', 'eine', 'frau', 'mit', 'schmutzigen', 'blonden', 'haaren', 'und', 'brille', 'schneidet', 'etwas', '.', '<eos>', '<pad>', '<pad>', '<pad>', '<pad>', '<pad>', '<pad>', '<pad>', '<pad>', '<pad>', '<pad>', '<pad>', '<pad>', '<pad>', '<pad>', '<pad>', '<pad>', '<pad>', '<pad>']\n",
            "['<sos>', 'a', 'woman', 'with', 'dirty', 'blond', '-', 'hair', 'and', 'glasses', 'is', 'cutting', 'something', '.', '<eos>', '<pad>', '<pad>', '<pad>', '<pad>', '<pad>', '<pad>', '<pad>', '<pad>', '<pad>', '<pad>', '<pad>', '<pad>', '<pad>', '<pad>', '<pad>', '<pad>', '<pad>', '<pad>', '<pad>', '<pad>', '<pad>', '<pad>']\n",
            "['<sos>', 'ein', 'mann', 'mit', 'einem', 'cowboyhut', 'reitet', 'auf', 'einem', '<unk>', ',', 'während', 'ihm', 'ein', 'anderer', 'mann', 'im', 'weißen', 'oberteil', 'zu', 'hilfe', 'kommt', '.', '<eos>', '<pad>', '<pad>', '<pad>', '<pad>', '<pad>', '<pad>', '<pad>']\n",
            "['<sos>', 'a', 'man', 'wearing', 'a', 'cowboy', 'hat', ',', 'riding', 'on', 'a', 'bronco', 'while', 'another', 'man', 'in', 'a', 'white', 'shirt', 'comes', 'to', 'his', 'aid', '.', '<eos>', '<pad>', '<pad>', '<pad>', '<pad>', '<pad>', '<pad>', '<pad>', '<pad>', '<pad>', '<pad>', '<pad>', '<pad>']\n",
            "['<sos>', 'ein', 'motorradfahrer', 'fährt', 'auf', 'einer', 'langen', ',', 'von', 'grünen', 'bäumen', 'gesäumten', '<unk>', '.', '<eos>', '<pad>', '<pad>', '<pad>', '<pad>', '<pad>', '<pad>', '<pad>', '<pad>', '<pad>', '<pad>', '<pad>', '<pad>', '<pad>', '<pad>', '<pad>', '<pad>']\n",
            "['<sos>', 'a', 'motorbike', 'rider', 'travels', 'along', 'a', 'long', 'dirt', 'road', 'lined', 'with', 'green', 'trees', '.', '<eos>', '<pad>', '<pad>', '<pad>', '<pad>', '<pad>', '<pad>', '<pad>', '<pad>', '<pad>', '<pad>', '<pad>', '<pad>', '<pad>', '<pad>', '<pad>', '<pad>', '<pad>', '<pad>', '<pad>', '<pad>', '<pad>']\n",
            "['<sos>', 'zwei', 'frauen', ',', 'eine', 'mit', 'einer', 'sonnenbrille', 'mit', 'weißem', 'rahmen', 'und', 'einem', 'grünen', 'kleid', ',', 'die', 'andere', 'in', 'einem', '<unk>', 'marineblauen', 'kleid', ',', 'unterhalten', 'sich', 'miteinander', '.', '<eos>', '<pad>', '<pad>']\n",
            "['<sos>', 'two', 'women', ',', 'one', 'in', 'white', '-', 'rimmed', 'sunglasses', 'and', 'a', 'green', 'skirt', ',', 'the', 'other', 'in', 'a', '<unk>', 'navy', 'skirt', ',', 'converse', 'with', 'each', 'other', '.', '<eos>', '<pad>', '<pad>', '<pad>', '<pad>', '<pad>', '<pad>', '<pad>', '<pad>']\n",
            "['<sos>', 'ein', 'mann', 'hilft', 'einem', 'kleinen', 'kind', 'beim', '<unk>', 'in', 'einen', 'zug', '.', '<eos>', '<pad>', '<pad>', '<pad>', '<pad>', '<pad>', '<pad>', '<pad>', '<pad>', '<pad>', '<pad>', '<pad>', '<pad>', '<pad>', '<pad>', '<pad>', '<pad>', '<pad>']\n",
            "['<sos>', 'a', 'man', 'is', 'helping', 'a', 'small', 'child', 'get', 'on', 'a', 'train', '.', '<eos>', '<pad>', '<pad>', '<pad>', '<pad>', '<pad>', '<pad>', '<pad>', '<pad>', '<pad>', '<pad>', '<pad>', '<pad>', '<pad>', '<pad>', '<pad>', '<pad>', '<pad>', '<pad>', '<pad>', '<pad>', '<pad>', '<pad>', '<pad>']\n",
            "['<sos>', 'eine', 'gruppe', 'von', 'personen', 'marschiert', 'mit', 'streikschildern', ',', 'die', 'auf', 'den', '<unk>', 'von', 'schulen', '<unk>', '.', '<eos>', '<pad>', '<pad>', '<pad>', '<pad>', '<pad>', '<pad>', '<pad>', '<pad>', '<pad>', '<pad>', '<pad>', '<pad>', '<pad>']\n",
            "['<sos>', 'a', 'group', 'of', 'people', 'march', 'with', 'picket', 'signs', '<unk>', 'school', '<unk>', '.', '<eos>', '<pad>', '<pad>', '<pad>', '<pad>', '<pad>', '<pad>', '<pad>', '<pad>', '<pad>', '<pad>', '<pad>', '<pad>', '<pad>', '<pad>', '<pad>', '<pad>', '<pad>', '<pad>', '<pad>', '<pad>', '<pad>', '<pad>', '<pad>']\n",
            "['<sos>', 'ein', 'mann', 'mit', 'einer', 'roten', 'jacke', ',', 'der', 'sich', 'vor', 'der', 'sonne', 'schützt', 'und', 'versucht', ',', 'ein', 'stück', 'papier', 'zu', 'lesen', '.', '<eos>', '<pad>', '<pad>', '<pad>', '<pad>', '<pad>', '<pad>', '<pad>']\n",
            "['<sos>', 'a', 'man', 'with', 'a', 'red', 'jacket', 'is', 'shielding', 'himself', 'from', 'the', 'sun', 'trying', 'to', 'read', 'a', 'piece', 'of', 'paper', '.', '<eos>', '<pad>', '<pad>', '<pad>', '<pad>', '<pad>', '<pad>', '<pad>', '<pad>', '<pad>', '<pad>', '<pad>', '<pad>', '<pad>', '<pad>', '<pad>']\n",
            "['<sos>', 'mehrere', 'männer', 'auf', 'dem', 'deck', 'eines', 'schiffes', 'lassen', 'einen', 'anderen', 'mann', 'ins', 'wasser', 'herab', '.', '<eos>', '<pad>', '<pad>', '<pad>', '<pad>', '<pad>', '<pad>', '<pad>', '<pad>', '<pad>', '<pad>', '<pad>', '<pad>', '<pad>', '<pad>']\n",
            "['<sos>', 'several', 'men', 'on', 'the', 'deck', 'of', 'a', 'ship', 'are', 'lowering', 'another', 'man', 'into', 'the', 'water', '.', '<eos>', '<pad>', '<pad>', '<pad>', '<pad>', '<pad>', '<pad>', '<pad>', '<pad>', '<pad>', '<pad>', '<pad>', '<pad>', '<pad>', '<pad>', '<pad>', '<pad>', '<pad>', '<pad>', '<pad>']\n",
            "['<sos>', 'eine', 'gruppe', 'leute', 'sitzt', 'in', 'einem', 'rosa', 'zimmer', 'mit', 'kerzen', '.', '<eos>', '<pad>', '<pad>', '<pad>', '<pad>', '<pad>', '<pad>', '<pad>', '<pad>', '<pad>', '<pad>', '<pad>', '<pad>', '<pad>', '<pad>', '<pad>', '<pad>', '<pad>', '<pad>']\n",
            "['<sos>', 'a', 'group', 'of', 'people', 'sitting', 'in', 'a', 'pink', 'room', 'with', 'candles', '.', '<eos>', '<pad>', '<pad>', '<pad>', '<pad>', '<pad>', '<pad>', '<pad>', '<pad>', '<pad>', '<pad>', '<pad>', '<pad>', '<pad>', '<pad>', '<pad>', '<pad>', '<pad>', '<pad>', '<pad>', '<pad>', '<pad>', '<pad>', '<pad>']\n",
            "['<sos>', 'drei', 'fensterputzer', 'in', 'blauen', 'uniformen', 'arbeiten', 'auf', 'einem', 'gerüst', '.', '<eos>', '<pad>', '<pad>', '<pad>', '<pad>', '<pad>', '<pad>', '<pad>', '<pad>', '<pad>', '<pad>', '<pad>', '<pad>', '<pad>', '<pad>', '<pad>', '<pad>', '<pad>', '<pad>', '<pad>']\n",
            "['<sos>', 'three', 'window', 'washers', 'in', 'blue', 'uniforms', 'work', 'on', 'scaffolding', '.', '<eos>', '<pad>', '<pad>', '<pad>', '<pad>', '<pad>', '<pad>', '<pad>', '<pad>', '<pad>', '<pad>', '<pad>', '<pad>', '<pad>', '<pad>', '<pad>', '<pad>', '<pad>', '<pad>', '<pad>', '<pad>', '<pad>', '<pad>', '<pad>', '<pad>', '<pad>']\n",
            "['<sos>', 'ein', 'mann', 'fliegt', 'durch', 'die', 'luft', ',', 'während', 'ein', 'mädchen', ',', 'das', 'auf', 'einer', 'couch', 'steht', ',', 'ihn', 'in', 'den', 'bauch', 'zu', 'schlagen', 'scheint', '.', '<eos>', '<pad>', '<pad>', '<pad>', '<pad>']\n",
            "['<sos>', 'a', 'man', 'flies', 'through', 'the', 'air', 'as', 'a', 'young', 'girl', 'standing', 'on', 'a', 'couch', 'appears', 'to', 'bunch', 'him', 'in', 'the', 'stomach', '.', '<eos>', '<pad>', '<pad>', '<pad>', '<pad>', '<pad>', '<pad>', '<pad>', '<pad>', '<pad>', '<pad>', '<pad>', '<pad>', '<pad>']\n",
            "['<sos>', 'ein', 'mann', 'mit', 'hut', 'dreht', 'sich', 'um', 'und', 'schaut', 'sich', 'karten', 'an', '.', '<eos>', '<pad>', '<pad>', '<pad>', '<pad>', '<pad>', '<pad>', '<pad>', '<pad>', '<pad>', '<pad>', '<pad>', '<pad>', '<pad>', '<pad>', '<pad>', '<pad>']\n",
            "['<sos>', 'a', 'man', 'with', 'a', 'hat', 'is', 'turned', 'around', 'looking', 'at', 'cards', '.', '<eos>', '<pad>', '<pad>', '<pad>', '<pad>', '<pad>', '<pad>', '<pad>', '<pad>', '<pad>', '<pad>', '<pad>', '<pad>', '<pad>', '<pad>', '<pad>', '<pad>', '<pad>', '<pad>', '<pad>', '<pad>', '<pad>', '<pad>', '<pad>']\n",
            "['<sos>', 'ein', 'japanisches', 'paar', 'geht', 'an', 'einem', 'regnerischen', 'tag', 'die', 'straße', 'entlang', '.', '<eos>', '<pad>', '<pad>', '<pad>', '<pad>', '<pad>', '<pad>', '<pad>', '<pad>', '<pad>', '<pad>', '<pad>', '<pad>', '<pad>', '<pad>', '<pad>', '<pad>', '<pad>']\n",
            "['<sos>', 'a', 'japanese', 'couple', 'in', 'kimonos', 'walk', 'down', 'the', 'street', 'on', 'a', 'rainy', 'day', '.', '<eos>', '<pad>', '<pad>', '<pad>', '<pad>', '<pad>', '<pad>', '<pad>', '<pad>', '<pad>', '<pad>', '<pad>', '<pad>', '<pad>', '<pad>', '<pad>', '<pad>', '<pad>', '<pad>', '<pad>', '<pad>', '<pad>']\n",
            "['<sos>', 'eine', 'frau', 'mit', 'einer', '<unk>', 'und', 'kopfhörern', 'vor', 'einem', 'mann', ',', 'draußen', 'im', 'schnee', '.', '<eos>', '<pad>', '<pad>', '<pad>', '<pad>', '<pad>', '<pad>', '<pad>', '<pad>', '<pad>', '<pad>', '<pad>', '<pad>', '<pad>', '<pad>']\n",
            "['<sos>', 'a', 'woman', 'with', 'a', 'panda', 'hat', 'and', 'headphones', 'is', 'in', 'front', 'of', 'a', 'man', 'outside', 'in', 'the', 'snow', '.', '<eos>', '<pad>', '<pad>', '<pad>', '<pad>', '<pad>', '<pad>', '<pad>', '<pad>', '<pad>', '<pad>', '<pad>', '<pad>', '<pad>', '<pad>', '<pad>', '<pad>']\n",
            "['<sos>', 'ein', 'mann', 'und', 'ein', 'junge', 'sitzen', 'mit', 'überkreuzten', 'beinen', 'auf', 'dem', 'boden', 'und', 'inspizieren', 'einen', 'grill', '.', '<eos>', '<pad>', '<pad>', '<pad>', '<pad>', '<pad>', '<pad>', '<pad>', '<pad>', '<pad>', '<pad>', '<pad>', '<pad>']\n",
            "['<sos>', 'a', 'man', 'and', 'boy', 'sitting', 'cross', '-', 'legged', 'on', 'ground', 'inspecting', 'barbecue', 'grill', '.', '<eos>', '<pad>', '<pad>', '<pad>', '<pad>', '<pad>', '<pad>', '<pad>', '<pad>', '<pad>', '<pad>', '<pad>', '<pad>', '<pad>', '<pad>', '<pad>', '<pad>', '<pad>', '<pad>', '<pad>', '<pad>', '<pad>']\n",
            "['<sos>', '@@', '<eos>', '<pad>', '<pad>', '<pad>', '<pad>', '<pad>', '<pad>', '<pad>', '<pad>', '<pad>', '<pad>', '<pad>', '<pad>', '<pad>', '<pad>', '<pad>', '<pad>', '<pad>', '<pad>', '<pad>', '<pad>', '<pad>', '<pad>', '<pad>', '<pad>', '<pad>', '<pad>', '<pad>', '<pad>']\n",
            "['<sos>', 'young', 'girls', 'weave', 'corn', 'stalks', 'into', 'elaborate', 'designs', '.', '<eos>', '<pad>', '<pad>', '<pad>', '<pad>', '<pad>', '<pad>', '<pad>', '<pad>', '<pad>', '<pad>', '<pad>', '<pad>', '<pad>', '<pad>', '<pad>', '<pad>', '<pad>', '<pad>', '<pad>', '<pad>', '<pad>', '<pad>', '<pad>', '<pad>', '<pad>', '<pad>']\n",
            "['<sos>', 'ein', 'baby', 'mit', 'braunen', 'locken', 'trinkt', 'etwas', '.', '<eos>', '<pad>', '<pad>', '<pad>', '<pad>', '<pad>', '<pad>', '<pad>', '<pad>', '<pad>', '<pad>', '<pad>', '<pad>', '<pad>', '<pad>', '<pad>', '<pad>', '<pad>', '<pad>', '<pad>', '<pad>', '<pad>']\n",
            "['<sos>', 'a', 'baby', 'with', 'brown', 'curly', 'hair', 'enjoying', 'a', 'drink', '.', '<eos>', '<pad>', '<pad>', '<pad>', '<pad>', '<pad>', '<pad>', '<pad>', '<pad>', '<pad>', '<pad>', '<pad>', '<pad>', '<pad>', '<pad>', '<pad>', '<pad>', '<pad>', '<pad>', '<pad>', '<pad>', '<pad>', '<pad>', '<pad>', '<pad>', '<pad>']\n",
            "['<sos>', 'zwei', 'typen', 'klettern', 'auf', 'einen', 'baum', ',', 'damit', 'sie', 'einen', 'besseren', 'blick', 'auf', 'das', 'wasser', 'haben', '.', '<eos>', '<pad>', '<pad>', '<pad>', '<pad>', '<pad>', '<pad>', '<pad>', '<pad>', '<pad>', '<pad>', '<pad>', '<pad>']\n",
            "['<sos>', 'two', 'guys', 'climb', 'a', 'tree', 'for', 'a', 'better', 'view', 'of', 'the', 'water', '.', '<eos>', '<pad>', '<pad>', '<pad>', '<pad>', '<pad>', '<pad>', '<pad>', '<pad>', '<pad>', '<pad>', '<pad>', '<pad>', '<pad>', '<pad>', '<pad>', '<pad>', '<pad>', '<pad>', '<pad>', '<pad>', '<pad>', '<pad>']\n",
            "['<sos>', 'eine', 'frau', 'und', 'ein', 'kind', 'gehen', 'im', 'wald', 'spazieren', '.', '<eos>', '<pad>', '<pad>', '<pad>', '<pad>', '<pad>', '<pad>', '<pad>', '<pad>', '<pad>', '<pad>', '<pad>', '<pad>', '<pad>', '<pad>', '<pad>', '<pad>', '<pad>', '<pad>', '<pad>']\n",
            "['<sos>', 'a', 'woman', 'and', 'a', 'younger', 'child', 'are', 'walking', 'in', 'the', 'woods', '.', '<eos>', '<pad>', '<pad>', '<pad>', '<pad>', '<pad>', '<pad>', '<pad>', '<pad>', '<pad>', '<pad>', '<pad>', '<pad>', '<pad>', '<pad>', '<pad>', '<pad>', '<pad>', '<pad>', '<pad>', '<pad>', '<pad>', '<pad>', '<pad>']\n",
            "['<sos>', 'ein', 'asiatischer', 'mann', 'mit', 'weißem', 'hemd', 'und', 'grauer', 'hose', 'steht', 'mit', 'einem', 'mikrofon', 'neben', 'einem', 'lautsprecher', '.', '<eos>', '<pad>', '<pad>', '<pad>', '<pad>', '<pad>', '<pad>', '<pad>', '<pad>', '<pad>', '<pad>', '<pad>', '<pad>']\n",
            "['<sos>', 'asian', 'man', 'wearing', 'a', 'white', 'shirt', 'and', 'gray', 'pants', 'standing', 'with', 'a', 'microphone', 'near', 'a', 'loudspeaker', '.', '<eos>', '<pad>', '<pad>', '<pad>', '<pad>', '<pad>', '<pad>', '<pad>', '<pad>', '<pad>', '<pad>', '<pad>', '<pad>', '<pad>', '<pad>', '<pad>', '<pad>', '<pad>', '<pad>']\n",
            "['<sos>', 'zwei', 'männer', 'arbeiten', 'an', 'einem', 'kreisförmigen', 'fenster', 'und', 'stehen', 'dabei', 'auf', 'stühlen', '.', '<eos>', '<pad>', '<pad>', '<pad>', '<pad>', '<pad>', '<pad>', '<pad>', '<pad>', '<pad>', '<pad>', '<pad>', '<pad>', '<pad>', '<pad>', '<pad>', '<pad>']\n",
            "['<sos>', 'two', 'men', 'are', 'working', 'on', 'a', 'circular', 'window', 'by', 'standing', 'on', 'chairs', '.', '<eos>', '<pad>', '<pad>', '<pad>', '<pad>', '<pad>', '<pad>', '<pad>', '<pad>', '<pad>', '<pad>', '<pad>', '<pad>', '<pad>', '<pad>', '<pad>', '<pad>', '<pad>', '<pad>', '<pad>', '<pad>', '<pad>', '<pad>']\n",
            "['<sos>', 'arbeiter', 'legen', '<unk>', 'in', '<unk>', 'wasser', '.', '<eos>', '<pad>', '<pad>', '<pad>', '<pad>', '<pad>', '<pad>', '<pad>', '<pad>', '<pad>', '<pad>', '<pad>', '<pad>', '<pad>', '<pad>', '<pad>', '<pad>', '<pad>', '<pad>', '<pad>', '<pad>', '<pad>', '<pad>']\n",
            "['<sos>', 'workers', 'are', 'putting', 'linens', 'in', 'colored', 'water', '.', '<eos>', '<pad>', '<pad>', '<pad>', '<pad>', '<pad>', '<pad>', '<pad>', '<pad>', '<pad>', '<pad>', '<pad>', '<pad>', '<pad>', '<pad>', '<pad>', '<pad>', '<pad>', '<pad>', '<pad>', '<pad>', '<pad>', '<pad>', '<pad>', '<pad>', '<pad>', '<pad>', '<pad>']\n",
            "['<sos>', 'drei', 'frauen', 'blicken', 'nach', 'hinten', 'in', 'die', 'kamera', ',', 'die', 'sich', 'auf', 'dem', 'rücksitz', 'eines', '<unk>', 'befindet', ',', 'während', 'der', 'fahrer', 'die', 'straße', 'entlangfährt', '.', '<eos>', '<pad>', '<pad>', '<pad>', '<pad>']\n",
            "['<sos>', 'three', 'woman', 'look', 'back', 'at', 'the', 'camera', 'that', \"'s\", 'in', 'the', 'rear', 'seat', 'of', 'a', 'van', 'as', 'the', 'driver', 'drives', 'down', 'the', 'road', '.', '<eos>', '<pad>', '<pad>', '<pad>', '<pad>', '<pad>', '<pad>', '<pad>', '<pad>', '<pad>', '<pad>', '<pad>']\n",
            "['<sos>', 'spieler', 'machen', 'ihr', '<unk>', 'training', '.', '<eos>', '<pad>', '<pad>', '<pad>', '<pad>', '<pad>', '<pad>', '<pad>', '<pad>', '<pad>', '<pad>', '<pad>', '<pad>', '<pad>', '<pad>', '<pad>', '<pad>', '<pad>', '<pad>', '<pad>', '<pad>', '<pad>', '<pad>', '<pad>']\n",
            "['<sos>', 'the', 'players', 'are', 'in', 'their', 'daily', 'routine', 'workout', '.', '<eos>', '<pad>', '<pad>', '<pad>', '<pad>', '<pad>', '<pad>', '<pad>', '<pad>', '<pad>', '<pad>', '<pad>', '<pad>', '<pad>', '<pad>', '<pad>', '<pad>', '<pad>', '<pad>', '<pad>', '<pad>', '<pad>', '<pad>', '<pad>', '<pad>', '<pad>', '<pad>']\n",
            "['<sos>', 'eine', 'frau', 'steht', 'mit', 'einem', '<unk>', 'und', 'einem', 'hund', 'da', '.', '<eos>', '<pad>', '<pad>', '<pad>', '<pad>', '<pad>', '<pad>', '<pad>', '<pad>', '<pad>', '<pad>', '<pad>', '<pad>', '<pad>', '<pad>', '<pad>', '<pad>', '<pad>', '<pad>']\n",
            "['<sos>', 'a', 'woman', 'stands', 'with', 'a', '<unk>', 'and', 'a', 'dog', '.', '<eos>', '<pad>', '<pad>', '<pad>', '<pad>', '<pad>', '<pad>', '<pad>', '<pad>', '<pad>', '<pad>', '<pad>', '<pad>', '<pad>', '<pad>', '<pad>', '<pad>', '<pad>', '<pad>', '<pad>', '<pad>', '<pad>', '<pad>', '<pad>', '<pad>', '<pad>']\n",
            "['<sos>', 'mutter', 'und', 'tochter', 'gehen', 'zum', 'einkaufen', 'in', 'die', 'stadt', '.', '<eos>', '<pad>', '<pad>', '<pad>', '<pad>', '<pad>', '<pad>', '<pad>', '<pad>', '<pad>', '<pad>', '<pad>', '<pad>', '<pad>', '<pad>', '<pad>', '<pad>', '<pad>', '<pad>', '<pad>']\n",
            "['<sos>', 'mother', 'and', 'daughter', 'going', 'up', 'town', 'to', 'go', 'shopping', '<eos>', '<pad>', '<pad>', '<pad>', '<pad>', '<pad>', '<pad>', '<pad>', '<pad>', '<pad>', '<pad>', '<pad>', '<pad>', '<pad>', '<pad>', '<pad>', '<pad>', '<pad>', '<pad>', '<pad>', '<pad>', '<pad>', '<pad>', '<pad>', '<pad>', '<pad>', '<pad>']\n",
            "['<sos>', 'eine', 'frau', 'in', 'grau', 'sitzt', 'neben', 'einem', 'kinderwagen', 'an', 'einem', 'picknicktisch', '.', '<eos>', '<pad>', '<pad>', '<pad>', '<pad>', '<pad>', '<pad>', '<pad>', '<pad>', '<pad>', '<pad>', '<pad>', '<pad>', '<pad>', '<pad>', '<pad>', '<pad>', '<pad>']\n",
            "['<sos>', 'a', 'woman', 'wearing', 'gray', ',', 'sitting', 'on', 'a', 'picnic', 'table', 'by', 'a', 'baby', 'stroller', '.', '<eos>', '<pad>', '<pad>', '<pad>', '<pad>', '<pad>', '<pad>', '<pad>', '<pad>', '<pad>', '<pad>', '<pad>', '<pad>', '<pad>', '<pad>', '<pad>', '<pad>', '<pad>', '<pad>', '<pad>', '<pad>']\n",
            "['<sos>', 'mädchen', 'und', 'jungen', 'sitzen', 'an', 'einem', 'picknicktisch', 'aus', 'stein', 'im', 'hof', 'und', 'essen', 'ihr', 'mittagessen', '.', '<eos>', '<pad>', '<pad>', '<pad>', '<pad>', '<pad>', '<pad>', '<pad>', '<pad>', '<pad>', '<pad>', '<pad>', '<pad>', '<pad>']\n",
            "['<sos>', 'coeds', 'sit', 'on', 'a', 'stone', 'picnic', 'table', 'and', 'eat', 'lunch', 'in', 'the', 'courtyard', '.', '<eos>', '<pad>', '<pad>', '<pad>', '<pad>', '<pad>', '<pad>', '<pad>', '<pad>', '<pad>', '<pad>', '<pad>', '<pad>', '<pad>', '<pad>', '<pad>', '<pad>', '<pad>', '<pad>', '<pad>', '<pad>', '<pad>']\n",
            "['<sos>', 'zwei', 'männer', 'auf', 'einer', 'straße', ',', 'einer', 'hält', 'eine', 'rote', 'fahne', '.', '<eos>', '<pad>', '<pad>', '<pad>', '<pad>', '<pad>', '<pad>', '<pad>', '<pad>', '<pad>', '<pad>', '<pad>', '<pad>', '<pad>', '<pad>', '<pad>', '<pad>', '<pad>']\n",
            "['<sos>', 'two', 'men', 'on', 'a', 'street', ',', 'one', 'holding', 'a', 'red', 'flag', '.', '<eos>', '<pad>', '<pad>', '<pad>', '<pad>', '<pad>', '<pad>', '<pad>', '<pad>', '<pad>', '<pad>', '<pad>', '<pad>', '<pad>', '<pad>', '<pad>', '<pad>', '<pad>', '<pad>', '<pad>', '<pad>', '<pad>', '<pad>', '<pad>']\n",
            "['<sos>', 'ein', 'vollständig', 'in', 'schwarz', 'gekleideter', 'mann', 'mit', 'einem', 'schwarzen', 'hut', 'gießt', 'ein', 'getränk', 'in', 'eine', 'tasse', '.', '<eos>', '<pad>', '<pad>', '<pad>', '<pad>', '<pad>', '<pad>', '<pad>', '<pad>', '<pad>', '<pad>', '<pad>', '<pad>']\n",
            "['<sos>', 'a', 'man', 'wearing', 'all', 'black', 'and', 'a', 'black', 'hat', 'is', 'pouring', 'a', 'beverage', 'into', 'a', 'cup', '.', '<eos>', '<pad>', '<pad>', '<pad>', '<pad>', '<pad>', '<pad>', '<pad>', '<pad>', '<pad>', '<pad>', '<pad>', '<pad>', '<pad>', '<pad>', '<pad>', '<pad>', '<pad>', '<pad>']\n",
            "['<sos>', 'leute', 'benutzen', 'den', 'zebrastreifen', 'in', 'einer', '<unk>', '.', '<eos>', '<pad>', '<pad>', '<pad>', '<pad>', '<pad>', '<pad>', '<pad>', '<pad>', '<pad>', '<pad>', '<pad>', '<pad>', '<pad>', '<pad>', '<pad>', '<pad>', '<pad>', '<pad>', '<pad>', '<pad>', '<pad>']\n",
            "['<sos>', 'people', 'using', 'crosswalk', 'on', 'big', 'city', 'street', '.', '<eos>', '<pad>', '<pad>', '<pad>', '<pad>', '<pad>', '<pad>', '<pad>', '<pad>', '<pad>', '<pad>', '<pad>', '<pad>', '<pad>', '<pad>', '<pad>', '<pad>', '<pad>', '<pad>', '<pad>', '<pad>', '<pad>', '<pad>', '<pad>', '<pad>', '<pad>', '<pad>', '<pad>']\n",
            "['<sos>', 'ein', 'mann', 'und', 'eine', 'frau', 'lächeln', '.', '<eos>', '<pad>', '<pad>', '<pad>', '<pad>', '<pad>', '<pad>', '<pad>', '<pad>', '<pad>', '<pad>', '<pad>', '<pad>', '<pad>', '<pad>', '<pad>', '<pad>', '<pad>', '<pad>', '<pad>', '<pad>', '<pad>', '<pad>']\n",
            "['<sos>', 'a', 'man', 'and', 'a', 'woman', 'are', 'smiling', '<eos>', '<pad>', '<pad>', '<pad>', '<pad>', '<pad>', '<pad>', '<pad>', '<pad>', '<pad>', '<pad>', '<pad>', '<pad>', '<pad>', '<pad>', '<pad>', '<pad>', '<pad>', '<pad>', '<pad>', '<pad>', '<pad>', '<pad>', '<pad>', '<pad>', '<pad>', '<pad>', '<pad>', '<pad>']\n",
            "['<sos>', 'dutzende', 'von', 'menschen', 'sind', 'zu', 'fuß', 'auf', 'einem', 'riesigen', 'platz', 'vor', 'einem', '<unk>', 'treppenhaus', 'unterwegs', '.', '<eos>', '<pad>', '<pad>', '<pad>', '<pad>', '<pad>', '<pad>', '<pad>', '<pad>', '<pad>', '<pad>', '<pad>', '<pad>', '<pad>']\n",
            "['<sos>', 'dozens', 'of', 'people', 'are', 'walking', 'on', 'a', 'huge', 'plaza', 'in', 'front', 'of', 'a', 'massive', 'staircase', '.', '<eos>', '<pad>', '<pad>', '<pad>', '<pad>', '<pad>', '<pad>', '<pad>', '<pad>', '<pad>', '<pad>', '<pad>', '<pad>', '<pad>', '<pad>', '<pad>', '<pad>', '<pad>', '<pad>', '<pad>']\n",
            "['<sos>', 'ein', 'mann', 'auf', 'dem', 'gehweg', '.', '<eos>', '<pad>', '<pad>', '<pad>', '<pad>', '<pad>', '<pad>', '<pad>', '<pad>', '<pad>', '<pad>', '<pad>', '<pad>', '<pad>', '<pad>', '<pad>', '<pad>', '<pad>', '<pad>', '<pad>', '<pad>', '<pad>', '<pad>', '<pad>']\n",
            "['<sos>', 'there', 'is', 'a', 'man', 'walking', 'on', 'the', 'sidewalk', '.', '<eos>', '<pad>', '<pad>', '<pad>', '<pad>', '<pad>', '<pad>', '<pad>', '<pad>', '<pad>', '<pad>', '<pad>', '<pad>', '<pad>', '<pad>', '<pad>', '<pad>', '<pad>', '<pad>', '<pad>', '<pad>', '<pad>', '<pad>', '<pad>', '<pad>', '<pad>', '<pad>']\n",
            "['<sos>', 'ein', 'mann', 'kocht', 'in', 'einer', 'küche', '.', '<eos>', '<pad>', '<pad>', '<pad>', '<pad>', '<pad>', '<pad>', '<pad>', '<pad>', '<pad>', '<pad>', '<pad>', '<pad>', '<pad>', '<pad>', '<pad>', '<pad>', '<pad>', '<pad>', '<pad>', '<pad>', '<pad>', '<pad>']\n",
            "['<sos>', 'a', 'man', 'cooking', 'in', 'a', 'kitchen', '.', '<eos>', '<pad>', '<pad>', '<pad>', '<pad>', '<pad>', '<pad>', '<pad>', '<pad>', '<pad>', '<pad>', '<pad>', '<pad>', '<pad>', '<pad>', '<pad>', '<pad>', '<pad>', '<pad>', '<pad>', '<pad>', '<pad>', '<pad>', '<pad>', '<pad>', '<pad>', '<pad>', '<pad>', '<pad>']\n",
            "['<sos>', 'ein', 'blondhaariges', 'männliches', 'kleinkind', 'blickt', 'nach', 'vorne', ',', 'während', 'eine', 'blondhaarige', 'frau', 'seinen', 'kragen', 'richtet', '.', '<eos>', '<pad>', '<pad>', '<pad>', '<pad>', '<pad>', '<pad>', '<pad>', '<pad>', '<pad>', '<pad>', '<pad>', '<pad>', '<pad>']\n",
            "['<sos>', 'a', 'blond', '-', 'haired', 'toddler', 'boy', 'looks', 'ahead', 'while', 'a', 'blond', '-', 'haired', 'woman', 'adjusts', 'his', 'collar', '.', '<eos>', '<pad>', '<pad>', '<pad>', '<pad>', '<pad>', '<pad>', '<pad>', '<pad>', '<pad>', '<pad>', '<pad>', '<pad>', '<pad>', '<pad>', '<pad>', '<pad>', '<pad>']\n",
            "['<sos>', 'eine', 'junge', 'frau', 'mit', 'gestreiftem', 't-shirt', 'klettert', 'einen', 'fels', 'hoch', '.', '<eos>', '<pad>', '<pad>', '<pad>', '<pad>', '<pad>', '<pad>', '<pad>', '<pad>', '<pad>', '<pad>', '<pad>', '<pad>', '<pad>', '<pad>', '<pad>', '<pad>', '<pad>', '<pad>']\n",
            "['<sos>', 'young', 'woman', 'wearing', 'striped', 'shirt', 'rock', 'climbing', '.', '<eos>', '<pad>', '<pad>', '<pad>', '<pad>', '<pad>', '<pad>', '<pad>', '<pad>', '<pad>', '<pad>', '<pad>', '<pad>', '<pad>', '<pad>', '<pad>', '<pad>', '<pad>', '<pad>', '<pad>', '<pad>', '<pad>', '<pad>', '<pad>', '<pad>', '<pad>', '<pad>', '<pad>']\n",
            "['<sos>', 'der', 'junge', 'springt', 'im', 'wald', '.', '<eos>', '<pad>', '<pad>', '<pad>', '<pad>', '<pad>', '<pad>', '<pad>', '<pad>', '<pad>', '<pad>', '<pad>', '<pad>', '<pad>', '<pad>', '<pad>', '<pad>', '<pad>', '<pad>', '<pad>', '<pad>', '<pad>', '<pad>', '<pad>']\n",
            "['<sos>', 'the', 'boy', 'is', 'jumping', 'in', 'the', 'woods', '.', '<eos>', '<pad>', '<pad>', '<pad>', '<pad>', '<pad>', '<pad>', '<pad>', '<pad>', '<pad>', '<pad>', '<pad>', '<pad>', '<pad>', '<pad>', '<pad>', '<pad>', '<pad>', '<pad>', '<pad>', '<pad>', '<pad>', '<pad>', '<pad>', '<pad>', '<pad>', '<pad>', '<pad>']\n",
            "['<sos>', 'ein', 'blau', 'gekleideter', 'fußballspieler', ',', 'der', 'einen', 'fußball', 'hält', ',', 'um', 'ihn', 'zu', 'werden', '.', '<eos>', '<pad>', '<pad>', '<pad>', '<pad>', '<pad>', '<pad>', '<pad>', '<pad>', '<pad>', '<pad>', '<pad>', '<pad>', '<pad>', '<pad>']\n",
            "['<sos>', 'a', 'soccer', 'player', 'dressed', 'in', 'blue', 'holding', 'a', 'soccer', 'ball', 'preparing', 'to', 'throw', 'it', '.', '<eos>', '<pad>', '<pad>', '<pad>', '<pad>', '<pad>', '<pad>', '<pad>', '<pad>', '<pad>', '<pad>', '<pad>', '<pad>', '<pad>', '<pad>', '<pad>', '<pad>', '<pad>', '<pad>', '<pad>', '<pad>']\n",
            "['<sos>', 'eine', 'frau', 'in', 'einer', 'roten', 'bluse', 'und', 'jeans', 'streitet', 'scheinbar', 'mit', 'einem', 'rot', 'gekleideten', 'mann', 'mit', 'einem', 'großen', '<unk>', '.', '<eos>', '<pad>', '<pad>', '<pad>', '<pad>', '<pad>', '<pad>', '<pad>', '<pad>', '<pad>']\n",
            "['<sos>', 'a', 'woman', 'in', 'a', 'red', 'shirt', 'and', 'some', 'jeans', 'looks', 'like', 'she', 'is', 'arguing', 'with', 'a', 'man', 'in', 'red', 'and', 'a', 'great', 'satchel', '.', '<eos>', '<pad>', '<pad>', '<pad>', '<pad>', '<pad>', '<pad>', '<pad>', '<pad>', '<pad>', '<pad>', '<pad>']\n",
            "['<sos>', 'ein', '<unk>', 'mann', 'mit', 'rotem', 'hemd', ',', 'der', 'bei', 'der', '<unk>', 'tennis', 'spielt', '.', '<eos>', '<pad>', '<pad>', '<pad>', '<pad>', '<pad>', '<pad>', '<pad>', '<pad>', '<pad>', '<pad>', '<pad>', '<pad>', '<pad>', '<pad>', '<pad>']\n",
            "['<sos>', 'a', 'japanese', 'man', 'in', 'a', 'red', 'shirt', ',', 'at', 'the', 'olympics', 'playing', 'tennis', '.', '<eos>', '<pad>', '<pad>', '<pad>', '<pad>', '<pad>', '<pad>', '<pad>', '<pad>', '<pad>', '<pad>', '<pad>', '<pad>', '<pad>', '<pad>', '<pad>', '<pad>', '<pad>', '<pad>', '<pad>', '<pad>', '<pad>']\n",
            "['<sos>', 'ein', 'braunes', 'pferd', 'tritt', 'auf', 'einen', 'mann', 'mit', 'cowboyhut', '.', '<eos>', '<pad>', '<pad>', '<pad>', '<pad>', '<pad>', '<pad>', '<pad>', '<pad>', '<pad>', '<pad>', '<pad>', '<pad>', '<pad>', '<pad>', '<pad>', '<pad>', '<pad>', '<pad>', '<pad>']\n",
            "['<sos>', 'a', 'man', 'in', 'a', 'cowboy', 'hat', 'being', '<unk>', 'on', 'by', 'a', 'brown', 'horse', '<eos>', '<pad>', '<pad>', '<pad>', '<pad>', '<pad>', '<pad>', '<pad>', '<pad>', '<pad>', '<pad>', '<pad>', '<pad>', '<pad>', '<pad>', '<pad>', '<pad>', '<pad>', '<pad>', '<pad>', '<pad>', '<pad>', '<pad>']\n",
            "['<sos>', 'drei', 'personen', 'in', 'kompletter', '<unk>', 'und', 'mit', 'helmen', 'fahren', 'auf', 'ihren', '<unk>', 'einen', 'berg', 'hinunter', '.', '<eos>', '<pad>', '<pad>', '<pad>', '<pad>', '<pad>', '<pad>', '<pad>', '<pad>', '<pad>', '<pad>', '<pad>', '<pad>', '<pad>']\n",
            "['<sos>', 'three', 'people', 'are', 'riding', '<unk>', 'down', 'a', 'hill', 'in', 'full', 'leather', 'suits', 'and', 'helmets', '.', '<eos>', '<pad>', '<pad>', '<pad>', '<pad>', '<pad>', '<pad>', '<pad>', '<pad>', '<pad>', '<pad>', '<pad>', '<pad>', '<pad>', '<pad>', '<pad>', '<pad>', '<pad>', '<pad>', '<pad>', '<pad>']\n",
            "['<sos>', 'ein', 'afrikanisches', 'kind', 'hat', 'einen', 'fuß', 'auf', 'dem', 'pedal', 'seines', 'fahrrads', ',', 'und', 'hat', 'angehalten', ',', 'um', 'nach', 'links', 'zu', 'gucken', '.', '<eos>', '<pad>', '<pad>', '<pad>', '<pad>', '<pad>', '<pad>', '<pad>']\n",
            "['<sos>', 'an', 'african', 'child', 'has', 'one', 'foot', 'on', 'the', 'pedal', 'of', 'his', 'bicycle', ',', 'stopping', 'to', 'look', 'to', 'his', 'left', '.', '<eos>', '<pad>', '<pad>', '<pad>', '<pad>', '<pad>', '<pad>', '<pad>', '<pad>', '<pad>', '<pad>', '<pad>', '<pad>', '<pad>', '<pad>', '<pad>']\n",
            "['<sos>', 'ein', 'hund', 'hält', 'im', 'wald', 'einen', 'großen', 'stock', 'in', 'seiner', 'schnauze', '.', '<eos>', '<pad>', '<pad>', '<pad>', '<pad>', '<pad>', '<pad>', '<pad>', '<pad>', '<pad>', '<pad>', '<pad>', '<pad>', '<pad>', '<pad>', '<pad>', '<pad>', '<pad>']\n",
            "['<sos>', 'a', 'dog', 'holds', 'a', 'large', 'stick', 'in', 'its', 'mouth', 'in', 'the', 'woods', '.', '<eos>', '<pad>', '<pad>', '<pad>', '<pad>', '<pad>', '<pad>', '<pad>', '<pad>', '<pad>', '<pad>', '<pad>', '<pad>', '<pad>', '<pad>', '<pad>', '<pad>', '<pad>', '<pad>', '<pad>', '<pad>', '<pad>', '<pad>']\n",
            "['<sos>', 'eine', 'frau', 'sitzt', 'auf', 'einer', 'bank', 'in', 'einem', 'café', 'und', 'schreibt', 'in', 'einem', 'tagebuch', '.', '<eos>', '<pad>', '<pad>', '<pad>', '<pad>', '<pad>', '<pad>', '<pad>', '<pad>', '<pad>', '<pad>', '<pad>', '<pad>', '<pad>', '<pad>']\n",
            "['<sos>', 'a', 'woman', 'is', 'writing', 'in', 'a', 'journal', ',', 'while', 'sitting', 'on', 'a', 'bench', 'at', 'a', 'coffee', 'shop', '.', '<eos>', '<pad>', '<pad>', '<pad>', '<pad>', '<pad>', '<pad>', '<pad>', '<pad>', '<pad>', '<pad>', '<pad>', '<pad>', '<pad>', '<pad>', '<pad>', '<pad>', '<pad>']\n",
            "['<sos>', 'ein', 'alter', 'mann', 'grillt', 'in', 'einem', 'hinterhof', '.', '<eos>', '<pad>', '<pad>', '<pad>', '<pad>', '<pad>', '<pad>', '<pad>', '<pad>', '<pad>', '<pad>', '<pad>', '<pad>', '<pad>', '<pad>', '<pad>', '<pad>', '<pad>', '<pad>', '<pad>', '<pad>', '<pad>']\n",
            "['<sos>', 'an', 'old', 'man', 'is', 'grilling', 'food', 'in', 'a', 'backyard', '.', '<eos>', '<pad>', '<pad>', '<pad>', '<pad>', '<pad>', '<pad>', '<pad>', '<pad>', '<pad>', '<pad>', '<pad>', '<pad>', '<pad>', '<pad>', '<pad>', '<pad>', '<pad>', '<pad>', '<pad>', '<pad>', '<pad>', '<pad>', '<pad>', '<pad>', '<pad>']\n",
            "['<sos>', 'ein', 'mann', 'spielt', 'frisbee', 'im', 'park', '.', '<eos>', '<pad>', '<pad>', '<pad>', '<pad>', '<pad>', '<pad>', '<pad>', '<pad>', '<pad>', '<pad>', '<pad>', '<pad>', '<pad>', '<pad>', '<pad>', '<pad>', '<pad>', '<pad>', '<pad>', '<pad>', '<pad>', '<pad>']\n",
            "['<sos>', 'a', 'man', 'is', 'playing', 'frisbee', 'in', 'the', 'park', '.', '<eos>', '<pad>', '<pad>', '<pad>', '<pad>', '<pad>', '<pad>', '<pad>', '<pad>', '<pad>', '<pad>', '<pad>', '<pad>', '<pad>', '<pad>', '<pad>', '<pad>', '<pad>', '<pad>', '<pad>', '<pad>', '<pad>', '<pad>', '<pad>', '<pad>', '<pad>', '<pad>']\n",
            "['<sos>', 'ein', 'mann', 'surft', 'auf', 'einem', 'surfboard', ',', 'während', 'eine', 'lange', 'welle', 'bricht', '.', '<eos>', '<pad>', '<pad>', '<pad>', '<pad>', '<pad>', '<pad>', '<pad>', '<pad>', '<pad>', '<pad>', '<pad>', '<pad>', '<pad>', '<pad>', '<pad>', '<pad>']\n",
            "['<sos>', 'a', 'man', 'on', 'a', 'surfboard', 'is', 'surfing', ',', 'while', 'a', 'large', 'wave', 'is', 'crashing', '.', '<eos>', '<pad>', '<pad>', '<pad>', '<pad>', '<pad>', '<pad>', '<pad>', '<pad>', '<pad>', '<pad>', '<pad>', '<pad>', '<pad>', '<pad>', '<pad>', '<pad>', '<pad>', '<pad>', '<pad>', '<pad>']\n",
            "['<sos>', 'ein', 'kleiner', 'junge', 'isst', 'schokoladeneis', 'mit', 'einem', 'löffel', '.', '<eos>', '<pad>', '<pad>', '<pad>', '<pad>', '<pad>', '<pad>', '<pad>', '<pad>', '<pad>', '<pad>', '<pad>', '<pad>', '<pad>', '<pad>', '<pad>', '<pad>', '<pad>', '<pad>', '<pad>', '<pad>']\n",
            "['<sos>', 'a', 'young', 'boy', 'eating', 'chocolate', 'ice', 'cream', 'with', 'a', 'spoon', '.', '<eos>', '<pad>', '<pad>', '<pad>', '<pad>', '<pad>', '<pad>', '<pad>', '<pad>', '<pad>', '<pad>', '<pad>', '<pad>', '<pad>', '<pad>', '<pad>', '<pad>', '<pad>', '<pad>', '<pad>', '<pad>', '<pad>', '<pad>', '<pad>', '<pad>']\n",
            "['<sos>', 'personen', 'reden', 'miteinander', 'und', 'machen', '<unk>', 'aus', 'bäumen', '.', '<eos>', '<pad>', '<pad>', '<pad>', '<pad>', '<pad>', '<pad>', '<pad>', '<pad>', '<pad>', '<pad>', '<pad>', '<pad>', '<pad>', '<pad>', '<pad>', '<pad>', '<pad>', '<pad>', '<pad>', '<pad>']\n",
            "['<sos>', 'walking', 'and', 'talking', 'and', 'turning', 'trees', 'to', 'mulch', '.', '<eos>', '<pad>', '<pad>', '<pad>', '<pad>', '<pad>', '<pad>', '<pad>', '<pad>', '<pad>', '<pad>', '<pad>', '<pad>', '<pad>', '<pad>', '<pad>', '<pad>', '<pad>', '<pad>', '<pad>', '<pad>', '<pad>', '<pad>', '<pad>', '<pad>', '<pad>', '<pad>']\n",
            "['<sos>', 'zwei', 'stadtarbeiter', 'in', 'orangefarbener', 'kleidung', 'entfernen', 'brennende', 'überreste', 'von', 'einer', 'straße', 'und', 'vom', '<unk>', '.', '<eos>', '<pad>', '<pad>', '<pad>', '<pad>', '<pad>', '<pad>', '<pad>', '<pad>', '<pad>', '<pad>', '<pad>', '<pad>', '<pad>', '<pad>']\n",
            "['<sos>', 'two', 'city', 'workers', 'dressed', 'is', 'orange', 'is', 'cleaning', 'up', 'a', 'burning', 'mess', 'on', 'a', 'city', 'street', 'and', 'curb', '.', '<eos>', '<pad>', '<pad>', '<pad>', '<pad>', '<pad>', '<pad>', '<pad>', '<pad>', '<pad>', '<pad>', '<pad>', '<pad>', '<pad>', '<pad>', '<pad>', '<pad>']\n",
            "['<sos>', 'fünf', 'kleine', 'kinder', 'spielen', 'fußball', '.', '<eos>', '<pad>', '<pad>', '<pad>', '<pad>', '<pad>', '<pad>', '<pad>', '<pad>', '<pad>', '<pad>', '<pad>', '<pad>', '<pad>', '<pad>', '<pad>', '<pad>', '<pad>', '<pad>', '<pad>', '<pad>', '<pad>', '<pad>', '<pad>']\n",
            "['<sos>', 'five', 'young', 'children', 'are', 'engaged', 'in', 'a', 'game', 'of', 'soccer', '.', '<eos>', '<pad>', '<pad>', '<pad>', '<pad>', '<pad>', '<pad>', '<pad>', '<pad>', '<pad>', '<pad>', '<pad>', '<pad>', '<pad>', '<pad>', '<pad>', '<pad>', '<pad>', '<pad>', '<pad>', '<pad>', '<pad>', '<pad>', '<pad>', '<pad>']\n",
            "['<sos>', 'eine', 'frau', 'in', 'einer', 'dunklen', 'türöffnung', 'wartet', 'darauf', ',', 'in', 'das', 'gebäude', 'gelassen', 'zu', 'werden', '.', '<eos>', '<pad>', '<pad>', '<pad>', '<pad>', '<pad>', '<pad>', '<pad>', '<pad>', '<pad>', '<pad>', '<pad>', '<pad>', '<pad>']\n",
            "['<sos>', 'a', 'woman', 'standing', 'in', 'a', 'dark', 'doorway', ',', 'waiting', 'to', 'be', 'let', 'into', 'the', 'building', '.', '<eos>', '<pad>', '<pad>', '<pad>', '<pad>', '<pad>', '<pad>', '<pad>', '<pad>', '<pad>', '<pad>', '<pad>', '<pad>', '<pad>', '<pad>', '<pad>', '<pad>', '<pad>', '<pad>', '<pad>']\n",
            "['<sos>', 'ein', 'kleines', 'mädchen', 'geht', 'an', 'einem', 'sonnigen', 'tag', 'mit', 'blumen', 'einen', 'pfad', 'entlang', '.', '<eos>', '<pad>', '<pad>', '<pad>', '<pad>', '<pad>', '<pad>', '<pad>', '<pad>', '<pad>', '<pad>', '<pad>', '<pad>', '<pad>', '<pad>', '<pad>']\n",
            "['<sos>', 'a', 'little', 'girl', 'holding', 'flowers', 'is', 'walking', 'away', 'down', 'a', 'path', 'on', 'a', 'sunny', 'day', '.', '<eos>', '<pad>', '<pad>', '<pad>', '<pad>', '<pad>', '<pad>', '<pad>', '<pad>', '<pad>', '<pad>', '<pad>', '<pad>', '<pad>', '<pad>', '<pad>', '<pad>', '<pad>', '<pad>', '<pad>']\n",
            "['<sos>', 'eine', 'frau', 'mit', 'langem', 'haar', ',', 'brille', 'und', 'einem', 'langärmeligen', 'hemd', 'sitzt', 'an', 'einem', 'tisch', 'und', 'lächelt', '.', '<eos>', '<pad>', '<pad>', '<pad>', '<pad>', '<pad>', '<pad>', '<pad>', '<pad>', '<pad>', '<pad>', '<pad>']\n",
            "['<sos>', 'a', 'woman', 'with', 'long', 'hair', ',', 'glasses', 'and', 'a', 'long', '-', 'sleeve', 'shirt', 'is', 'sitting', 'at', 'a', 'table', ',', 'smiling', '.', '<eos>', '<pad>', '<pad>', '<pad>', '<pad>', '<pad>', '<pad>', '<pad>', '<pad>', '<pad>', '<pad>', '<pad>', '<pad>', '<pad>', '<pad>']\n",
            "['<sos>', 'ein', 'paar', 'bauarbeiter', 'arbeiten', 'auf', 'einer', 'plattform', 'an', 'einem', 'gebäude', '.', '<eos>', '<pad>', '<pad>', '<pad>', '<pad>', '<pad>', '<pad>', '<pad>', '<pad>', '<pad>', '<pad>', '<pad>', '<pad>', '<pad>', '<pad>', '<pad>', '<pad>', '<pad>', '<pad>']\n",
            "['<sos>', 'some', 'construction', 'workers', 'are', 'on', 'a', 'platform', 'doing', 'work', 'to', 'a', 'building', '.', '<eos>', '<pad>', '<pad>', '<pad>', '<pad>', '<pad>', '<pad>', '<pad>', '<pad>', '<pad>', '<pad>', '<pad>', '<pad>', '<pad>', '<pad>', '<pad>', '<pad>', '<pad>', '<pad>', '<pad>', '<pad>', '<pad>', '<pad>']\n",
            "['<sos>', 'eine', 'junge', 'asiatin', 'betrachtet', 'in', 'einem', 'weißen', 'mantel', 'den', 'bildschirm', 'ihres', '<unk>', '.', '<eos>', '<pad>', '<pad>', '<pad>', '<pad>', '<pad>', '<pad>', '<pad>', '<pad>', '<pad>', '<pad>', '<pad>', '<pad>', '<pad>', '<pad>', '<pad>', '<pad>']\n",
            "['<sos>', 'a', 'young', 'asian', 'woman', 'looks', 'at', 'the', 'screen', 'of', 'her', 'cellphone', 'in', 'a', 'white', 'coat', '.', '<eos>', '<pad>', '<pad>', '<pad>', '<pad>', '<pad>', '<pad>', '<pad>', '<pad>', '<pad>', '<pad>', '<pad>', '<pad>', '<pad>', '<pad>', '<pad>', '<pad>', '<pad>', '<pad>', '<pad>']\n",
            "['<sos>', 'ein', 'baby', 'in', 'einem', 'weißen', 'hemd', 'sitzt', '<unk>', 'in', 'einer', 'schaukel', 'vor', 'einer', 'waschmaschine', '.', '<eos>', '<pad>', '<pad>', '<pad>', '<pad>', '<pad>', '<pad>', '<pad>', '<pad>', '<pad>', '<pad>', '<pad>', '<pad>', '<pad>', '<pad>']\n",
            "['<sos>', 'a', 'baby', 'in', 'a', 'white', 'shirt', 'is', 'slumped', 'over', 'in', 'a', 'swing', 'in', 'front', 'of', 'the', 'washing', 'machine', '.', '<eos>', '<pad>', '<pad>', '<pad>', '<pad>', '<pad>', '<pad>', '<pad>', '<pad>', '<pad>', '<pad>', '<pad>', '<pad>', '<pad>', '<pad>', '<pad>', '<pad>']\n",
            "['<sos>', 'eine', 'schwarz', 'gekleidete', 'person', 'sitzt', 'auf', 'einer', 'brücke', '.', '<eos>', '<pad>', '<pad>', '<pad>', '<pad>', '<pad>', '<pad>', '<pad>', '<pad>', '<pad>', '<pad>', '<pad>', '<pad>', '<pad>', '<pad>', '<pad>', '<pad>', '<pad>', '<pad>', '<pad>', '<pad>']\n",
            "['<sos>', 'dressing', 'in', 'black', ',', 'a', 'person', 'sits', 'on', 'a', 'bridge', '.', '<eos>', '<pad>', '<pad>', '<pad>', '<pad>', '<pad>', '<pad>', '<pad>', '<pad>', '<pad>', '<pad>', '<pad>', '<pad>', '<pad>', '<pad>', '<pad>', '<pad>', '<pad>', '<pad>', '<pad>', '<pad>', '<pad>', '<pad>', '<pad>', '<pad>']\n",
            "['<sos>', 'ein', 'stark', '<unk>', 'strand', 'mit', 'klarem', 'wasser', '<eos>', '<pad>', '<pad>', '<pad>', '<pad>', '<pad>', '<pad>', '<pad>', '<pad>', '<pad>', '<pad>', '<pad>', '<pad>', '<pad>', '<pad>', '<pad>', '<pad>', '<pad>', '<pad>', '<pad>', '<pad>', '<pad>', '<pad>']\n",
            "['<sos>', 'there', 'is', 'a', 'highly', 'populated', 'beach', 'with', 'clear', 'water', '.', '<eos>', '<pad>', '<pad>', '<pad>', '<pad>', '<pad>', '<pad>', '<pad>', '<pad>', '<pad>', '<pad>', '<pad>', '<pad>', '<pad>', '<pad>', '<pad>', '<pad>', '<pad>', '<pad>', '<pad>', '<pad>', '<pad>', '<pad>', '<pad>', '<pad>', '<pad>']\n",
            "['<sos>', 'ein', 'junge', 'mit', 'grünem', 'hut', 'reagiert', 'auf', 'einen', 'historischen', 'ort', '.', '<eos>', '<pad>', '<pad>', '<pad>', '<pad>', '<pad>', '<pad>', '<pad>', '<pad>', '<pad>', '<pad>', '<pad>', '<pad>', '<pad>', '<pad>', '<pad>', '<pad>', '<pad>', '<pad>']\n",
            "['<sos>', 'boy', 'in', 'green', 'hat', '<unk>', 'to', 'historical', 'spot', '.', '<eos>', '<pad>', '<pad>', '<pad>', '<pad>', '<pad>', '<pad>', '<pad>', '<pad>', '<pad>', '<pad>', '<pad>', '<pad>', '<pad>', '<pad>', '<pad>', '<pad>', '<pad>', '<pad>', '<pad>', '<pad>', '<pad>', '<pad>', '<pad>', '<pad>', '<pad>', '<pad>']\n",
            "['<sos>', 'personen', 'in', 'blauer', 'kleidung', 'stehen', 'auf', 'der', 'straße', ',', 'während', 'zuschauer', 'vom', 'gehweg', 'aus', 'zusehen', '.', '<eos>', '<pad>', '<pad>', '<pad>', '<pad>', '<pad>', '<pad>', '<pad>', '<pad>', '<pad>', '<pad>', '<pad>', '<pad>', '<pad>']\n",
            "['<sos>', 'people', 'in', 'blue', 'uniforms', 'stand', 'on', 'the', 'street', 'as', 'observers', 'watch', 'from', 'the', 'sidewalk', '.', '<eos>', '<pad>', '<pad>', '<pad>', '<pad>', '<pad>', '<pad>', '<pad>', '<pad>', '<pad>', '<pad>', '<pad>', '<pad>', '<pad>', '<pad>', '<pad>', '<pad>', '<pad>', '<pad>', '<pad>', '<pad>']\n",
            "['<sos>', 'ein', 'kind', 'in', 'einer', '<unk>', 'schaufelt', 'den', 'schnee', 'von', 'der', 'treppe', 'vor', 'einem', 'haus', '.', '<eos>', '<pad>', '<pad>', '<pad>', '<pad>', '<pad>', '<pad>', '<pad>', '<pad>', '<pad>', '<pad>', '<pad>', '<pad>', '<pad>', '<pad>']\n",
            "['<sos>', 'a', 'child', 'in', 'a', 'usa', 'jacket', 'shovels', 'snow', 'off', 'the', 'stairs', 'in', 'front', 'of', 'a', 'house', '.', '<eos>', '<pad>', '<pad>', '<pad>', '<pad>', '<pad>', '<pad>', '<pad>', '<pad>', '<pad>', '<pad>', '<pad>', '<pad>', '<pad>', '<pad>', '<pad>', '<pad>', '<pad>', '<pad>']\n",
            "['<sos>', 'ein', 'mann', 'in', 'einer', 'hellbraunen', 'jacke', 'und', 'blauen', 'jeans', 'sitzt', 'auf', 'einer', 'bank', 'in', 'der', 'nähe', 'eines', 'anderen', 'mannes', 'und', 'spielt', 'gitarre', '.', '<eos>', '<pad>', '<pad>', '<pad>', '<pad>', '<pad>', '<pad>']\n",
            "['<sos>', 'a', 'man', 'in', 'a', 'tan', 'jacket', 'and', 'blue', 'jeans', 'is', 'sitting', 'on', 'a', 'bench', 'playing', 'the', 'guitar', ',', 'with', 'another', 'man', 'close', '-', 'by', '.', '<eos>', '<pad>', '<pad>', '<pad>', '<pad>', '<pad>', '<pad>', '<pad>', '<pad>', '<pad>', '<pad>']\n",
            "['<sos>', 'ein', 'junger', 'weißer', 'mann', 'mit', 'dunklen', 'hosen', 'und', 'einem', 'hellen', 't-shirt', 'spielt', 'in', 'einer', 'band', 'waldhorn', '.', '<eos>', '<pad>', '<pad>', '<pad>', '<pad>', '<pad>', '<pad>', '<pad>', '<pad>', '<pad>', '<pad>', '<pad>', '<pad>']\n",
            "['<sos>', 'a', 'young', 'white', 'man', ',', 'wearing', 'dark', 'pants', 'and', 'a', 'light', 'colored', 't', '-', 'shirt', 'playing', 'a', 'french', 'horn', 'in', 'a', 'band', '.', '<eos>', '<pad>', '<pad>', '<pad>', '<pad>', '<pad>', '<pad>', '<pad>', '<pad>', '<pad>', '<pad>', '<pad>', '<pad>']\n",
            "['<sos>', 'kinder', 'spielen', 'mit', 'einem', 'fahrrad', 'im', 'sand', '.', '<eos>', '<pad>', '<pad>', '<pad>', '<pad>', '<pad>', '<pad>', '<pad>', '<pad>', '<pad>', '<pad>', '<pad>', '<pad>', '<pad>', '<pad>', '<pad>', '<pad>', '<pad>', '<pad>', '<pad>', '<pad>', '<pad>']\n",
            "['<sos>', 'children', 'playing', 'with', 'a', 'bike', 'in', 'the', 'sand', '.', '<eos>', '<pad>', '<pad>', '<pad>', '<pad>', '<pad>', '<pad>', '<pad>', '<pad>', '<pad>', '<pad>', '<pad>', '<pad>', '<pad>', '<pad>', '<pad>', '<pad>', '<pad>', '<pad>', '<pad>', '<pad>', '<pad>', '<pad>', '<pad>', '<pad>', '<pad>', '<pad>']\n",
            "['<sos>', 'football-spieler', ',', 'der', 'den', 'ball', 'hält', ',', 'wird', 'von', 'einem', 'anderen', 'football-spieler', 'der', 'gegnerischen', 'mannschaft', 'gejagt', '.', '<eos>', '<pad>', '<pad>', '<pad>', '<pad>', '<pad>', '<pad>', '<pad>', '<pad>', '<pad>', '<pad>', '<pad>', '<pad>']\n",
            "['<sos>', 'one', 'football', 'player', 'holding', 'the', 'ball', 'is', 'chased', 'by', 'another', 'football', 'player', 'from', 'the', 'opposing', 'team', '<eos>', '<pad>', '<pad>', '<pad>', '<pad>', '<pad>', '<pad>', '<pad>', '<pad>', '<pad>', '<pad>', '<pad>', '<pad>', '<pad>', '<pad>', '<pad>', '<pad>', '<pad>', '<pad>', '<pad>']\n",
            "['<sos>', 'zwei', 'frauen', 'bleiben', 'stehen', ',', 'um', 'ein', 'foto', 'vor', 'der', '<unk>', 'zu', 'machen', '.', '<eos>', '<pad>', '<pad>', '<pad>', '<pad>', '<pad>', '<pad>', '<pad>', '<pad>', '<pad>', '<pad>', '<pad>', '<pad>', '<pad>', '<pad>', '<pad>']\n",
            "['<sos>', 'two', 'women', 'stop', 'to', 'have', 'their', 'picture', 'taken', 'outside', 'the', 'chocolate', 'factory', '.', '<eos>', '<pad>', '<pad>', '<pad>', '<pad>', '<pad>', '<pad>', '<pad>', '<pad>', '<pad>', '<pad>', '<pad>', '<pad>', '<pad>', '<pad>', '<pad>', '<pad>', '<pad>', '<pad>', '<pad>', '<pad>', '<pad>', '<pad>']\n",
            "['<sos>', 'ein', 'mädchen', 'in', 'einem', 'lila', 'kleid', 'und', 'ein', 'mädchen', 'in', 'einem', 'roten', 'kleid', 'laufen', 'lächelnd', 'draußen', 'herum', '.', '<eos>', '<pad>', '<pad>', '<pad>', '<pad>', '<pad>', '<pad>', '<pad>', '<pad>', '<pad>', '<pad>', '<pad>']\n",
            "['<sos>', 'a', 'girl', 'wearing', 'a', 'purple', 'dress', 'and', 'a', 'girl', 'wearing', 'a', 'red', 'dress', 'run', 'around', 'outside', 'smiling', '.', '<eos>', '<pad>', '<pad>', '<pad>', '<pad>', '<pad>', '<pad>', '<pad>', '<pad>', '<pad>', '<pad>', '<pad>', '<pad>', '<pad>', '<pad>', '<pad>', '<pad>', '<pad>']\n",
            "['<sos>', 'ein', 'mann', 'in', 'kurzen', 'hosen', 'klettert', 'an', 'einer', 'felswand', '.', '<eos>', '<pad>', '<pad>', '<pad>', '<pad>', '<pad>', '<pad>', '<pad>', '<pad>', '<pad>', '<pad>', '<pad>', '<pad>', '<pad>', '<pad>', '<pad>', '<pad>', '<pad>', '<pad>', '<pad>']\n",
            "['<sos>', 'a', 'man', 'in', 'shorts', 'climbs', 'a', 'rock', 'face', '.', '<eos>', '<pad>', '<pad>', '<pad>', '<pad>', '<pad>', '<pad>', '<pad>', '<pad>', '<pad>', '<pad>', '<pad>', '<pad>', '<pad>', '<pad>', '<pad>', '<pad>', '<pad>', '<pad>', '<pad>', '<pad>', '<pad>', '<pad>', '<pad>', '<pad>', '<pad>', '<pad>']\n",
            "['<sos>', 'ein', 'mann', 'beobachtet', 'ein', 'kind', ',', 'das', 'mit', '<unk>', 'etwas', '<unk>', '.', '<eos>', '<pad>', '<pad>', '<pad>', '<pad>', '<pad>', '<pad>', '<pad>', '<pad>', '<pad>', '<pad>', '<pad>', '<pad>', '<pad>', '<pad>', '<pad>', '<pad>', '<pad>']\n",
            "['<sos>', 'a', 'man', 'watches', 'a', 'young', 'child', 'coloring', 'with', 'her', 'crayola', 'crayons', '.', '<eos>', '<pad>', '<pad>', '<pad>', '<pad>', '<pad>', '<pad>', '<pad>', '<pad>', '<pad>', '<pad>', '<pad>', '<pad>', '<pad>', '<pad>', '<pad>', '<pad>', '<pad>', '<pad>', '<pad>', '<pad>', '<pad>', '<pad>', '<pad>']\n",
            "['<sos>', 'eine', 'gruppe', 'von', 'kindern', 'spielt', 'in', 'der', 'straße', ',', 'wo', 'wasser', 'verspritzt', 'wird', '.', '<eos>', '<pad>', '<pad>', '<pad>', '<pad>', '<pad>', '<pad>', '<pad>', '<pad>', '<pad>', '<pad>', '<pad>', '<pad>', '<pad>', '<pad>', '<pad>']\n",
            "['<sos>', 'a', 'group', 'of', 'children', 'play', 'in', 'the', 'street', 'where', 'water', 'is', 'sprayed', '.', '<eos>', '<pad>', '<pad>', '<pad>', '<pad>', '<pad>', '<pad>', '<pad>', '<pad>', '<pad>', '<pad>', '<pad>', '<pad>', '<pad>', '<pad>', '<pad>', '<pad>', '<pad>', '<pad>', '<pad>', '<pad>', '<pad>', '<pad>']\n",
            "['<sos>', 'ein', 'mann', 'in', 'einem', '<unk>', 'und', 'blau-weißen', 'shorts', 'lenkt', 'sein', 'gelbes', 'board', 'mit', 'dem', 'bunten', 'segel', 'über', 'den', 'scheitelpunkt', 'einer', 'welle', 'und', 'macht', 'dabei', 'einen', 'salto', '.', '<eos>', '<pad>', '<pad>']\n",
            "['<sos>', 'a', 'man', 'dressed', 'in', 'a', 'surfing', 'shirt', 'and', 'blue', 'and', 'white', 'shorts', 'skillfully', 'guides', 'his', 'yellow', 'board', 'with', 'its', 'multicolored', 'sail', 'over', 'the', 'crest', 'of', 'an', 'ocean', 'wave', ',', 'flipping', 'over', 'in', 'the', 'process', '.', '<eos>']\n",
            "['<sos>', 'eine', 'dame', 'geht', 'am', 'strand', 'an', 'einem', 'mann', 'vorbei', ',', 'der', 'sie', 'beobachtet', '.', '<eos>', '<pad>', '<pad>', '<pad>', '<pad>', '<pad>', '<pad>', '<pad>', '<pad>', '<pad>', '<pad>', '<pad>', '<pad>', '<pad>', '<pad>', '<pad>']\n",
            "['<sos>', 'lady', 'walking', 'past', 'a', 'man', 'on', 'a', 'bench', 'who', 'is', 'watching', 'her', '.', '<eos>', '<pad>', '<pad>', '<pad>', '<pad>', '<pad>', '<pad>', '<pad>', '<pad>', '<pad>', '<pad>', '<pad>', '<pad>', '<pad>', '<pad>', '<pad>', '<pad>', '<pad>', '<pad>', '<pad>', '<pad>', '<pad>', '<pad>']\n",
            "['<sos>', 'der', 'mann', ',', 'der', 'viele', 'medaillen', 'um', 'den', 'hals', 'trägt', ',', 'schaut', 'das', 'mädchen', 'mit', 'dem', 'gelben', 'bikinioberteil', 'an', '.', '<eos>', '<pad>', '<pad>', '<pad>', '<pad>', '<pad>', '<pad>', '<pad>', '<pad>', '<pad>']\n",
            "['<sos>', 'the', 'man', 'wearing', 'lots', 'of', 'medals', 'is', 'watching', 'the', 'girl', 'in', 'the', 'yellow', 'bikini', 'top', '.', '<eos>', '<pad>', '<pad>', '<pad>', '<pad>', '<pad>', '<pad>', '<pad>', '<pad>', '<pad>', '<pad>', '<pad>', '<pad>', '<pad>', '<pad>', '<pad>', '<pad>', '<pad>', '<pad>', '<pad>']\n",
            "['<sos>', 'zwei', 'männer', 'schießen', 'fußbälle', 'an', 'einem', 'strand', '.', '<eos>', '<pad>', '<pad>', '<pad>', '<pad>', '<pad>', '<pad>', '<pad>', '<pad>', '<pad>', '<pad>', '<pad>', '<pad>', '<pad>', '<pad>', '<pad>', '<pad>', '<pad>', '<pad>', '<pad>', '<pad>', '<pad>']\n",
            "['<sos>', 'two', 'men', 'are', 'kicking', 'soccer', 'balls', 'on', 'a', 'beach', '.', '<eos>', '<pad>', '<pad>', '<pad>', '<pad>', '<pad>', '<pad>', '<pad>', '<pad>', '<pad>', '<pad>', '<pad>', '<pad>', '<pad>', '<pad>', '<pad>', '<pad>', '<pad>', '<pad>', '<pad>', '<pad>', '<pad>', '<pad>', '<pad>', '<pad>', '<pad>']\n",
            "['<sos>', 'ein', 'junge', 'springt', 'von', 'einer', 'schaukel', '.', '<eos>', '<pad>', '<pad>', '<pad>', '<pad>', '<pad>', '<pad>', '<pad>', '<pad>', '<pad>', '<pad>', '<pad>', '<pad>', '<pad>', '<pad>', '<pad>', '<pad>', '<pad>', '<pad>', '<pad>', '<pad>', '<pad>', '<pad>']\n",
            "['<sos>', 'a', 'boy', 'is', 'jumping', 'off', 'a', 'swing', '<eos>', '<pad>', '<pad>', '<pad>', '<pad>', '<pad>', '<pad>', '<pad>', '<pad>', '<pad>', '<pad>', '<pad>', '<pad>', '<pad>', '<pad>', '<pad>', '<pad>', '<pad>', '<pad>', '<pad>', '<pad>', '<pad>', '<pad>', '<pad>', '<pad>', '<pad>', '<pad>', '<pad>', '<pad>']\n",
            "['<sos>', 'zwei', 'männer', 'hängen', 'auf', 'einer', 'baustelle', 'herum', '.', '<eos>', '<pad>', '<pad>', '<pad>', '<pad>', '<pad>', '<pad>', '<pad>', '<pad>', '<pad>', '<pad>', '<pad>', '<pad>', '<pad>', '<pad>', '<pad>', '<pad>', '<pad>', '<pad>', '<pad>', '<pad>', '<pad>']\n",
            "['<sos>', 'two', 'men', 'hanging', 'around', 'a', 'construction', 'site', '.', '<eos>', '<pad>', '<pad>', '<pad>', '<pad>', '<pad>', '<pad>', '<pad>', '<pad>', '<pad>', '<pad>', '<pad>', '<pad>', '<pad>', '<pad>', '<pad>', '<pad>', '<pad>', '<pad>', '<pad>', '<pad>', '<pad>', '<pad>', '<pad>', '<pad>', '<pad>', '<pad>', '<pad>']\n",
            "['<sos>', 'eine', 'junge', 'frau', 'in', 'einem', 'tanktop', 'raucht', 'eine', 'zigarette', 'und', 'hält', 'zwei', '<unk>', '.', '<eos>', '<pad>', '<pad>', '<pad>', '<pad>', '<pad>', '<pad>', '<pad>', '<pad>', '<pad>', '<pad>', '<pad>', '<pad>', '<pad>', '<pad>', '<pad>']\n",
            "['<sos>', 'a', 'young', 'woman', 'in', 'a', 'tank', 'top', 'is', 'smoking', 'a', 'cigarette', 'while', 'holding', 'two', '<unk>', 'balls', '.', '<eos>', '<pad>', '<pad>', '<pad>', '<pad>', '<pad>', '<pad>', '<pad>', '<pad>', '<pad>', '<pad>', '<pad>', '<pad>', '<pad>', '<pad>', '<pad>', '<pad>', '<pad>', '<pad>']\n",
            "['<sos>', 'ein', 'junges', 'mädchen', 'in', 'einem', 'park', '<unk>', 'sich', 'laut', ',', 'of', 'das', 'wasser', 'im', 'brunnen', 'wieder', '<unk>', 'wasser', 'ist', '.', '<eos>', '<pad>', '<pad>', '<pad>', '<pad>', '<pad>', '<pad>', '<pad>', '<pad>', '<pad>']\n",
            "['<sos>', 'a', 'young', 'girl', 'at', 'a', 'park', '<unk>', '<unk>', 'if', 'the', 'water', 'at', 'the', 'fountain', 'is', '<unk>', 'water', '.', '<eos>', '<pad>', '<pad>', '<pad>', '<pad>', '<pad>', '<pad>', '<pad>', '<pad>', '<pad>', '<pad>', '<pad>', '<pad>', '<pad>', '<pad>', '<pad>', '<pad>', '<pad>']\n",
            "['<sos>', 'ein', 'mann', 'in', 'blauen', 'jeans', 'und', 'einem', 'blauen', 'oberteil', 'arbeitet', 'an', '<unk>', '.', '<eos>', '<pad>', '<pad>', '<pad>', '<pad>', '<pad>', '<pad>', '<pad>', '<pad>', '<pad>', '<pad>', '<pad>', '<pad>', '<pad>', '<pad>', '<pad>', '<pad>']\n",
            "['<sos>', 'a', 'male', 'in', 'blue', 'jeans', 'and', 'blue', 'shirt', 'working', 'on', 'some', 'indoor', 'seats', '.', '<eos>', '<pad>', '<pad>', '<pad>', '<pad>', '<pad>', '<pad>', '<pad>', '<pad>', '<pad>', '<pad>', '<pad>', '<pad>', '<pad>', '<pad>', '<pad>', '<pad>', '<pad>', '<pad>', '<pad>', '<pad>', '<pad>']\n",
            "['<sos>', 'drei', '<unk>', 'männer', 'in', 'geschäftskleidung', 'sitzen', 'um', 'einen', 'tisch', '.', '<eos>', '<pad>', '<pad>', '<pad>', '<pad>', '<pad>', '<pad>', '<pad>', '<pad>', '<pad>', '<pad>', '<pad>', '<pad>', '<pad>', '<pad>', '<pad>', '<pad>', '<pad>', '<pad>', '<pad>']\n",
            "['<sos>', 'three', 'middle', 'eastern', 'men', 'in', 'business', 'attire', 'sit', 'around', 'a', 'table', '.', '<eos>', '<pad>', '<pad>', '<pad>', '<pad>', '<pad>', '<pad>', '<pad>', '<pad>', '<pad>', '<pad>', '<pad>', '<pad>', '<pad>', '<pad>', '<pad>', '<pad>', '<pad>', '<pad>', '<pad>', '<pad>', '<pad>', '<pad>', '<pad>']\n",
            "['<sos>', 'menschen', 'arbeiten', 'mit', 'blumen', 'an', 'einem', '<unk>', '.', '<eos>', '<pad>', '<pad>', '<pad>', '<pad>', '<pad>', '<pad>', '<pad>', '<pad>', '<pad>', '<pad>', '<pad>', '<pad>', '<pad>', '<pad>', '<pad>', '<pad>', '<pad>', '<pad>', '<pad>', '<pad>', '<pad>']\n",
            "['<sos>', 'people', 'working', 'on', 'flowers', 'at', 'a', 'flower', 'stand', '.', '<eos>', '<pad>', '<pad>', '<pad>', '<pad>', '<pad>', '<pad>', '<pad>', '<pad>', '<pad>', '<pad>', '<pad>', '<pad>', '<pad>', '<pad>', '<pad>', '<pad>', '<pad>', '<pad>', '<pad>', '<pad>', '<pad>', '<pad>', '<pad>', '<pad>', '<pad>', '<pad>']\n",
            "['<sos>', 'eine', 'frau', 'in', 'einem', 'gewand', 'und', 'bikini', 'mit', 'absätzen', 'steht', 'auf', 'einer', 'bühne', 'neben', 'einem', 'blumentopf', '.', '<eos>', '<pad>', '<pad>', '<pad>', '<pad>', '<pad>', '<pad>', '<pad>', '<pad>', '<pad>', '<pad>', '<pad>', '<pad>']\n",
            "['<sos>', 'a', 'woman', 'wears', 'a', 'robe', 'and', 'bikini', 'with', 'heels', 'as', 'she', 'stands', 'on', 'stage', 'next', 'to', 'a', 'flower', 'pot', '.', '<eos>', '<pad>', '<pad>', '<pad>', '<pad>', '<pad>', '<pad>', '<pad>', '<pad>', '<pad>', '<pad>', '<pad>', '<pad>', '<pad>', '<pad>', '<pad>']\n",
            "['<sos>', 'bauarbeiter', 'arbeiten', 'an', 'einem', 'großen', 'gebäude', '.', '<eos>', '<pad>', '<pad>', '<pad>', '<pad>', '<pad>', '<pad>', '<pad>', '<pad>', '<pad>', '<pad>', '<pad>', '<pad>', '<pad>', '<pad>', '<pad>', '<pad>', '<pad>', '<pad>', '<pad>', '<pad>', '<pad>', '<pad>']\n",
            "['<sos>', 'construction', 'workers', 'working', 'on', 'a', 'large', 'building', '.', '<eos>', '<pad>', '<pad>', '<pad>', '<pad>', '<pad>', '<pad>', '<pad>', '<pad>', '<pad>', '<pad>', '<pad>', '<pad>', '<pad>', '<pad>', '<pad>', '<pad>', '<pad>', '<pad>', '<pad>', '<pad>', '<pad>', '<pad>', '<pad>', '<pad>', '<pad>', '<pad>', '<pad>']\n",
            "['<sos>', 'zwei', 'hunde', 'spielen', 'im', 'gras', '.', '<eos>', '<pad>', '<pad>', '<pad>', '<pad>', '<pad>', '<pad>', '<pad>', '<pad>', '<pad>', '<pad>', '<pad>', '<pad>', '<pad>', '<pad>', '<pad>', '<pad>', '<pad>', '<pad>', '<pad>', '<pad>', '<pad>', '<pad>', '<pad>']\n",
            "['<sos>', 'two', 'dogs', 'are', 'playing', 'on', 'the', 'grass', '.', '<eos>', '<pad>', '<pad>', '<pad>', '<pad>', '<pad>', '<pad>', '<pad>', '<pad>', '<pad>', '<pad>', '<pad>', '<pad>', '<pad>', '<pad>', '<pad>', '<pad>', '<pad>', '<pad>', '<pad>', '<pad>', '<pad>', '<pad>', '<pad>', '<pad>', '<pad>', '<pad>', '<pad>']\n",
            "['<sos>', 'spielende', 'kinder', 'auf', 'einem', 'spielplatz', '.', '<eos>', '<pad>', '<pad>', '<pad>', '<pad>', '<pad>', '<pad>', '<pad>', '<pad>', '<pad>', '<pad>', '<pad>', '<pad>', '<pad>', '<pad>', '<pad>', '<pad>', '<pad>', '<pad>', '<pad>', '<pad>', '<pad>', '<pad>', '<pad>']\n",
            "['<sos>', 'children', 'are', 'playing', 'on', 'a', 'playground', 'set', 'with', 'one', 'another', '.', '<eos>', '<pad>', '<pad>', '<pad>', '<pad>', '<pad>', '<pad>', '<pad>', '<pad>', '<pad>', '<pad>', '<pad>', '<pad>', '<pad>', '<pad>', '<pad>', '<pad>', '<pad>', '<pad>', '<pad>', '<pad>', '<pad>', '<pad>', '<pad>', '<pad>']\n",
            "['<sos>', 'ein', 'koch', 'in', 'einem', 'schwarzen', 'hemd', 'und', 'mit', 'kariertem', 'bandana', 'kocht', 'an', 'einem', '<unk>', '.', '<eos>', '<pad>', '<pad>', '<pad>', '<pad>', '<pad>', '<pad>', '<pad>', '<pad>', '<pad>', '<pad>', '<pad>', '<pad>', '<pad>', '<pad>']\n",
            "['<sos>', 'a', 'cook', 'in', 'a', 'black', 'shirt', 'and', 'checkered', 'bandanna', 'cooks', 'on', 'an', 'industrial', 'style', 'stove', '.', '<eos>', '<pad>', '<pad>', '<pad>', '<pad>', '<pad>', '<pad>', '<pad>', '<pad>', '<pad>', '<pad>', '<pad>', '<pad>', '<pad>', '<pad>', '<pad>', '<pad>', '<pad>', '<pad>', '<pad>']\n",
            "['<sos>', 'zwei', 'männer', 'in', 'schwarzen', 'jacken', 'sitzen', 'auf', 'einem', 'objekt', 'und', 'unterhalten', 'sich', '.', '<eos>', '<pad>', '<pad>', '<pad>', '<pad>', '<pad>', '<pad>', '<pad>', '<pad>', '<pad>', '<pad>', '<pad>', '<pad>', '<pad>', '<pad>', '<pad>', '<pad>']\n",
            "['<sos>', 'two', 'men', 'in', 'black', 'jackets', 'sitting', 'on', 'object', 'talking', '.', '<eos>', '<pad>', '<pad>', '<pad>', '<pad>', '<pad>', '<pad>', '<pad>', '<pad>', '<pad>', '<pad>', '<pad>', '<pad>', '<pad>', '<pad>', '<pad>', '<pad>', '<pad>', '<pad>', '<pad>', '<pad>', '<pad>', '<pad>', '<pad>', '<pad>', '<pad>']\n"
          ],
          "name": "stdout"
        }
      ]
    },
    {
      "cell_type": "code",
      "metadata": {
        "id": "8sjts3n0OGyA",
        "outputId": "3db55af7-4fd6-4a75-a6aa-767001976500",
        "colab": {
          "base_uri": "https://localhost:8080/"
        }
      },
      "source": [
        "len(TRG.vocab)"
      ],
      "execution_count": 13,
      "outputs": [
        {
          "output_type": "execute_result",
          "data": {
            "text/plain": [
              "5893"
            ]
          },
          "metadata": {
            "tags": []
          },
          "execution_count": 13
        }
      ]
    },
    {
      "cell_type": "markdown",
      "metadata": {
        "id": "ycNCKpUB_4Wq"
      },
      "source": [
        "## Building the Model\n",
        "\n",
        "Next, we'll build the model. Like previous notebooks it is made up of an *encoder* and a *decoder*, with the encoder *encoding* the input/source sentence (in German) into *context vector* and the decoder then *decoding* this context vector to output our output/target sentence (in English). \n",
        "\n",
        "### Encoder\n",
        "\n",
        "Similar to the ConvSeq2Seq model, the Transformer's encoder does not attempt to compress the entire source sentence, $X = (x_1, ... ,x_n)$, into a single context vector, $z$. Instead it produces a sequence of context vectors, $Z = (z_1, ... , z_n)$. So, if our input sequence was 5 tokens long we would have $Z = (z_1, z_2, z_3, z_4, z_5)$. Why do we call this a sequence of context vectors and not a sequence of hidden states? A hidden state at time $t$ in an RNN has only seen tokens $x_t$ and all the tokens before it. However, each context vector here has seen all tokens at all positions within the input sequence.\n",
        "\n",
        "![](https://github.com/bentrevett/pytorch-seq2seq/blob/master/assets/transformer-encoder.png?raw=1)\n",
        "\n",
        "First, the tokens are passed through a standard embedding layer. Next, as the model has no recurrent it has no idea about the order of the tokens within the sequence. We solve this by using a second embedding layer called a *positional embedding layer*. This is a standard embedding layer where the input is not the token itself but the position of the token within the sequence, starting with the first token, the `<sos>` (start of sequence) token, in position 0. The position embedding has a \"vocabulary\" size of 100, which means our model can accept sentences up to 100 tokens long. This can be increased if we want to handle longer sentences.\n",
        "\n",
        "The original Transformer implementation from the Attention is All You Need paper does not learn positional embeddings. Instead it uses a fixed static embedding. Modern Transformer architectures, like BERT, use positional embeddings instead, hence we have decided to use them in these tutorials. Check out [this](http://nlp.seas.harvard.edu/2018/04/03/attention.html#positional-encoding) section to read more about the positional embeddings used in the original Transformer model.\n",
        "\n",
        "Next, the token and positional embeddings are elementwise summed together to get a vector which contains information about the token and also its position with in the sequence. However, before they are summed, the token embeddings are multiplied by a scaling factor which is $\\sqrt{d_{model}}$, where $d_{model}$ is the hidden dimension size, `hid_dim`. This supposedly reduces variance in the embeddings and the model is difficult to train reliably without this scaling factor. Dropout is then applied to the combined embeddings.\n",
        "\n",
        "The combined embeddings are then passed through $N$ *encoder layers* to get $Z$, which is then output and can be used by the decoder.\n",
        "\n",
        "The source mask, `src_mask`, is simply the same shape as the source sentence but has a value of 1 when the token in the source sentence is not a `<pad>` token and 0 when it is a `<pad>` token. This is used in the encoder layers to mask the multi-head attention mechanisms, which are used to calculate and apply attention over the source sentence, so the model does not pay attention to `<pad>` tokens, which contain no useful information."
      ]
    },
    {
      "cell_type": "code",
      "metadata": {
        "id": "Felp2faK_4Wt"
      },
      "source": [
        "class Encoder(nn.Module):\n",
        "    def __init__(self, \n",
        "                 input_dim, \n",
        "                 hid_dim, \n",
        "                 n_layers, \n",
        "                 n_heads, \n",
        "                 pf_dim,\n",
        "                 dropout, \n",
        "                 device,\n",
        "                 max_length = 100):\n",
        "        super().__init__()\n",
        "\n",
        "        self.device = device\n",
        "        \n",
        "        self.tok_embedding = nn.Embedding(input_dim, hid_dim)\n",
        "        self.pos_embedding = nn.Embedding(max_length, hid_dim)\n",
        "        \n",
        "        self.layers = nn.ModuleList([EncoderLayer(hid_dim, \n",
        "                                                  n_heads, \n",
        "                                                  pf_dim,\n",
        "                                                  dropout, \n",
        "                                                  device) \n",
        "                                     for _ in range(n_layers)])\n",
        "        \n",
        "        self.dropout = nn.Dropout(dropout)\n",
        "        \n",
        "        self.scale = torch.sqrt(torch.FloatTensor([hid_dim])).to(device)\n",
        "        \n",
        "    def forward(self, src, src_mask):\n",
        "        \n",
        "        #src = [batch size, src len]\n",
        "        #src_mask = [batch size, 1, 1, src len]\n",
        "        \n",
        "        batch_size = src.shape[0]\n",
        "        src_len = src.shape[1]\n",
        "        \n",
        "        pos = torch.arange(0, src_len).unsqueeze(0).repeat(batch_size, 1).to(self.device)\n",
        "        \n",
        "        #pos = [batch size, src len]\n",
        "        \n",
        "        src = self.dropout((self.tok_embedding(src) * self.scale) + self.pos_embedding(pos))\n",
        "        \n",
        "        #src = [batch size, src len, hid dim]\n",
        "        \n",
        "        for layer in self.layers:\n",
        "            src = layer(src, src_mask)\n",
        "            \n",
        "        #src = [batch size, src len, hid dim]\n",
        "            \n",
        "        return src"
      ],
      "execution_count": 17,
      "outputs": []
    },
    {
      "cell_type": "markdown",
      "metadata": {
        "id": "ysq5TvyS_4Wy"
      },
      "source": [
        "### Encoder Layer\n",
        "\n",
        "The encoder layers are where all of the \"meat\" of the encoder is contained. We first pass the source sentence and its mask into the *multi-head attention layer*, then perform dropout on it, apply a residual connection and pass it through a [Layer Normalization](https://arxiv.org/abs/1607.06450) layer. We then pass it through a *position-wise feedforward* layer and then, again, apply dropout, a residual connection and then layer normalization to get the output of this layer which is fed into the next layer. The parameters are not shared between layers. \n",
        "\n",
        "The mutli head attention layer is used by the encoder layer to attend to the source sentence, i.e. it is calculating and applying attention over itself instead of another sequence, hence we call it *self attention*.\n",
        "\n",
        "[This](https://mlexplained.com/2018/01/13/weight-normalization-and-layer-normalization-explained-normalization-in-deep-learning-part-2/) article goes into more detail about layer normalization, but the gist is that it normalizes the values of the features, i.e. across the hidden dimension, so each feature has a mean of 0 and a standard deviation of 1. This allows neural networks with a larger number of layers, like the Transformer, to be trained easier."
      ]
    },
    {
      "cell_type": "code",
      "metadata": {
        "id": "yDXzxjjf_4W1"
      },
      "source": [
        "class EncoderLayer(nn.Module):\n",
        "    def __init__(self, \n",
        "                 hid_dim, \n",
        "                 n_heads, \n",
        "                 pf_dim,  \n",
        "                 dropout, \n",
        "                 device):\n",
        "        super().__init__()\n",
        "        \n",
        "        self.self_attn_layer_norm = nn.LayerNorm(hid_dim)\n",
        "        self.ff_layer_norm = nn.LayerNorm(hid_dim)\n",
        "        self.self_attention = MultiHeadAttentionLayer(hid_dim, n_heads, dropout, device)\n",
        "        self.positionwise_feedforward = PositionwiseFeedforwardLayer(hid_dim, \n",
        "                                                                     pf_dim, \n",
        "                                                                     dropout)\n",
        "        self.dropout = nn.Dropout(dropout)\n",
        "        \n",
        "    def forward(self, src, src_mask):\n",
        "        \n",
        "        #src = [batch size, src len, hid dim]\n",
        "        #src_mask = [batch size, 1, 1, src len] \n",
        "                \n",
        "        #self attention\n",
        "        _src, _ = self.self_attention(src, src, src, src_mask)\n",
        "        \n",
        "        #dropout, residual connection and layer norm\n",
        "        src = self.self_attn_layer_norm(src + self.dropout(_src))\n",
        "        \n",
        "        #src = [batch size, src len, hid dim]\n",
        "        \n",
        "        #positionwise feedforward\n",
        "        _src = self.positionwise_feedforward(src)\n",
        "        \n",
        "        #dropout, residual and layer norm\n",
        "        src = self.ff_layer_norm(src + self.dropout(_src))\n",
        "        \n",
        "        #src = [batch size, src len, hid dim]\n",
        "        \n",
        "        return src"
      ],
      "execution_count": 18,
      "outputs": []
    },
    {
      "cell_type": "markdown",
      "metadata": {
        "id": "n3Ly1Ndc_4W4"
      },
      "source": [
        "### Mutli Head Attention Layer\n",
        "\n",
        "One of the key, novel concepts introduced by the Transformer paper is the *multi-head attention layer*. \n",
        "\n",
        "![](https://github.com/bentrevett/pytorch-seq2seq/blob/master/assets/transformer-attention.png?raw=1)\n",
        "\n",
        "Attention can be though of as *queries*, *keys* and *values* - where the query is used with the key to get an attention vector (usually the output of a *softmax* operation and has all values between 0 and 1 which sum to 1) which is then used to get a weighted sum of the values.\n",
        "\n",
        "The Transformer uses *scaled dot-product attention*, where the query and key are combined by taking the dot product between them, then applying the softmax operation and scaling by $d_k$ before finally then multiplying by the value. $d_k$ is the *head dimension*, `head_dim`, which we will shortly explain further.\n",
        "\n",
        "$$ \\text{Attention}(Q, K, V) = \\text{Softmax} \\big( \\frac{QK^T}{\\sqrt{d_k}} \\big)V $$ \n",
        "\n",
        "This is similar to standard *dot product attention* but is scaled by $d_k$, which the paper states is used to stop the results of the dot products growing large, causing gradients to become too small.\n",
        "\n",
        "However, the scaled dot-product attention isn't simply applied to the queries, keys and values. Instead of doing a single attention application the queries, keys and values have their `hid_dim` split into $h$ *heads* and the scaled dot-product attention is calculated over all heads in parallel. This means instead of paying attention to one concept per attention application, we pay attention to $h$. We then re-combine the heads into their `hid_dim` shape, thus each `hid_dim` is potentially paying attention to $h$ different concepts.\n",
        "\n",
        "$$ \\text{MultiHead}(Q, K, V) = \\text{Concat}(\\text{head}_1,...,\\text{head}_h)W^O $$\n",
        "\n",
        "$$\\text{head}_i = \\text{Attention}(QW_i^Q, KW_i^K, VW_i^V) $$\n",
        "\n",
        "$W^O$ is the linear layer applied at the end of the multi-head attention layer, `fc`. $W^Q, W^K, W^V$ are the linear layers `fc_q`, `fc_k` and `fc_v`.\n",
        "\n",
        "Walking through the module, first we calculate $QW^Q$, $KW^K$ and $VW^V$ with the linear layers, `fc_q`, `fc_k` and `fc_v`, to give us `Q`, `K` and `V`. Next, we split the `hid_dim` of the query, key and value into `n_heads` using `.view` and correctly permute them so they can be multiplied together. We then calculate the `energy` (the un-normalized attention) by multiplying `Q` and `K` together and scaling it by the square root of `head_dim`, which is calulated as `hid_dim // n_heads`. We then mask the energy so we do not pay attention over any elements of the sequeuence we shouldn't, then apply the softmax and dropout. We then apply the attention to the value heads, `V`, before combining the `n_heads` together. Finally, we multiply this $W^O$, represented by `fc_o`. \n",
        "\n",
        "Note that in our implementation the lengths of the keys and values are always the same, thus when matrix multiplying the output of the softmax, `attention`, with `V` we will always have valid dimension sizes for matrix multiplication. This multiplication is carried out using `torch.matmul` which, when both tensors are >2-dimensional, does a batched matrix multiplication over the last two dimensions of each tensor. This will be a **[query len, key len] x [value len, head dim]** batched matrix multiplication over the batch size and each head which provides the **[batch size, n heads, query len, head dim]** result.\n",
        "\n",
        "One thing that looks strange at first is that dropout is applied directly to the attention. This means that our attention vector will most probably not sum to 1 and we may pay full attention to a token but the attention over that token is set to 0 by dropout. This is never explained, or even mentioned, in the paper however is used by the [official implementation](https://github.com/tensorflow/tensor2tensor/) and every Transformer implementation since, [including BERT](https://github.com/google-research/bert/)."
      ]
    },
    {
      "cell_type": "code",
      "metadata": {
        "id": "bflevcTH_4W5"
      },
      "source": [
        "class MultiHeadAttentionLayer(nn.Module):\n",
        "    def __init__(self, hid_dim, n_heads, dropout, device):\n",
        "        super().__init__()\n",
        "        \n",
        "        assert hid_dim % n_heads == 0\n",
        "        \n",
        "        self.hid_dim = hid_dim\n",
        "        self.n_heads = n_heads\n",
        "        self.head_dim = hid_dim // n_heads\n",
        "        \n",
        "        self.fc_q = nn.Linear(hid_dim, hid_dim)\n",
        "        self.fc_k = nn.Linear(hid_dim, hid_dim)\n",
        "        self.fc_v = nn.Linear(hid_dim, hid_dim)\n",
        "        \n",
        "        self.fc_o = nn.Linear(hid_dim, hid_dim)\n",
        "        \n",
        "        self.dropout = nn.Dropout(dropout)\n",
        "        \n",
        "        self.scale = torch.sqrt(torch.FloatTensor([self.head_dim])).to(device)\n",
        "        \n",
        "    def forward(self, query, key, value, mask = None):\n",
        "        \n",
        "        batch_size = query.shape[0]\n",
        "        \n",
        "        #query = [batch size, query len, hid dim]\n",
        "        #key = [batch size, key len, hid dim]\n",
        "        #value = [batch size, value len, hid dim]\n",
        "                \n",
        "        Q = self.fc_q(query)\n",
        "        K = self.fc_k(key)\n",
        "        V = self.fc_v(value)\n",
        "        \n",
        "        #Q = [batch size, query len, hid dim]\n",
        "        #K = [batch size, key len, hid dim]\n",
        "        #V = [batch size, value len, hid dim]\n",
        "                \n",
        "        Q = Q.view(batch_size, -1, self.n_heads, self.head_dim).permute(0, 2, 1, 3)\n",
        "        K = K.view(batch_size, -1, self.n_heads, self.head_dim).permute(0, 2, 1, 3)\n",
        "        V = V.view(batch_size, -1, self.n_heads, self.head_dim).permute(0, 2, 1, 3)\n",
        "        \n",
        "        #Q = [batch size, n heads, query len, head dim]\n",
        "        #K = [batch size, n heads, key len, head dim]\n",
        "        #V = [batch size, n heads, value len, head dim]\n",
        "                \n",
        "        energy = torch.matmul(Q, K.permute(0, 1, 3, 2)) / self.scale\n",
        "        \n",
        "        #energy = [batch size, n heads, query len, key len]\n",
        "        \n",
        "        if mask is not None:\n",
        "            energy = energy.masked_fill(mask == 0, -1e10)\n",
        "        \n",
        "        attention = torch.softmax(energy, dim = -1)\n",
        "                \n",
        "        #attention = [batch size, n heads, query len, key len]\n",
        "                \n",
        "        x = torch.matmul(self.dropout(attention), V)\n",
        "        \n",
        "        #x = [batch size, n heads, query len, head dim]\n",
        "        \n",
        "        x = x.permute(0, 2, 1, 3).contiguous()\n",
        "        \n",
        "        #x = [batch size, query len, n heads, head dim]\n",
        "        \n",
        "        x = x.view(batch_size, -1, self.hid_dim)\n",
        "        \n",
        "        #x = [batch size, query len, hid dim]\n",
        "        \n",
        "        x = self.fc_o(x)\n",
        "        \n",
        "        #x = [batch size, query len, hid dim]\n",
        "        \n",
        "        return x, attention"
      ],
      "execution_count": 19,
      "outputs": []
    },
    {
      "cell_type": "markdown",
      "metadata": {
        "id": "qTs37fuU_4W5"
      },
      "source": [
        "### Position-wise Feedforward Layer\n",
        "\n",
        "The other main block inside the encoder layer is the *position-wise feedforward layer* This is relatively simple compared to the multi-head attention layer. The input is transformed from `hid_dim` to `pf_dim`, where `pf_dim` is usually a lot larger than `hid_dim`. The original Transformer used a `hid_dim` of 512 and a `pf_dim` of 2048. The ReLU activation function and dropout are applied before it is transformed back into a `hid_dim` representation. \n",
        "\n",
        "Why is this used? Unfortunately, it is never explained in the paper.\n",
        "\n",
        "BERT uses the [GELU](https://arxiv.org/abs/1606.08415) activation function, which can be used by simply switching `torch.relu` for `F.gelu`. Why did they use GELU? Again, it is never explained."
      ]
    },
    {
      "cell_type": "code",
      "metadata": {
        "id": "fncgDPdN_4W6"
      },
      "source": [
        "class PositionwiseFeedforwardLayer(nn.Module):\n",
        "    def __init__(self, hid_dim, pf_dim, dropout):\n",
        "        super().__init__()\n",
        "        \n",
        "        self.fc_1 = nn.Linear(hid_dim, pf_dim)\n",
        "        self.fc_2 = nn.Linear(pf_dim, hid_dim)\n",
        "        \n",
        "        self.dropout = nn.Dropout(dropout)\n",
        "        \n",
        "    def forward(self, x):\n",
        "        \n",
        "        #x = [batch size, seq len, hid dim]\n",
        "        \n",
        "        x = self.dropout(torch.relu(self.fc_1(x)))\n",
        "        \n",
        "        #x = [batch size, seq len, pf dim]\n",
        "        \n",
        "        x = self.fc_2(x)\n",
        "        \n",
        "        #x = [batch size, seq len, hid dim]\n",
        "        \n",
        "        return x"
      ],
      "execution_count": 20,
      "outputs": []
    },
    {
      "cell_type": "markdown",
      "metadata": {
        "id": "5-SASASQ_4W6"
      },
      "source": [
        "### Decoder\n",
        "\n",
        "The objective of the decoder is to take the encoded representation of the source sentence, $Z$, and convert it into predicted tokens in the target sentence, $\\hat{Y}$. We then compare $\\hat{Y}$ with the actual tokens in the target sentence, $Y$, to calculate our loss, which will be used to calculate the gradients of our parameters and then use our optimizer to update our weights in order to improve our predictions. \n",
        "\n",
        "![](https://github.com/bentrevett/pytorch-seq2seq/blob/master/assets/transformer-decoder.png?raw=1)\n",
        "\n",
        "The decoder is similar to encoder, however it now has two multi-head attention layers. A *masked multi-head attention layer* over the target sequence, and a multi-head attention layer which uses the decoder representation as the query and the encoder representation as the key and value.\n",
        "\n",
        "The decoder uses positional embeddings and combines - via an elementwise sum - them with the scaled embedded target tokens, followed by dropout. Again, our positional encodings have a \"vocabulary\" of 100, which means they can accept sequences up to 100 tokens long. This can be increased if desired.\n",
        "\n",
        "The combined embeddings are then passed through the $N$ decoder layers, along with the encoded source, `enc_src`, and the source and target masks. Note that the number of layers in the encoder does not have to be equal to the number of layers in the decoder, even though they are both denoted by $N$.\n",
        "\n",
        "The decoder representation after the $N^{th}$ layer is then passed through a linear layer, `fc_out`. In PyTorch, the softmax operation is contained within our loss function, so we do not explicitly need to use a softmax layer here.\n",
        "\n",
        "As well as using the source mask, as we did in the encoder to prevent our model attending to `<pad>` tokens, we also use a target mask. This will be explained further in the `Seq2Seq` model which encapsulates both the encoder and decoder, but the gist of it is that it performs a similar operation as the decoder padding in the convolutional sequence-to-sequence model. As we are processing all of the target tokens at once in parallel we need a method of stopping the decoder from \"cheating\" by simply \"looking\" at what the next token in the target sequence is and outputting it. \n",
        "\n",
        "Our decoder layer also outputs the normalized attention values so we can later plot them to see what our model is actually paying attention to."
      ]
    },
    {
      "cell_type": "code",
      "metadata": {
        "id": "YeBNzmVS_4W6"
      },
      "source": [
        "class Decoder(nn.Module):\n",
        "    def __init__(self, \n",
        "                 output_dim, \n",
        "                 hid_dim, \n",
        "                 n_layers, \n",
        "                 n_heads, \n",
        "                 pf_dim, \n",
        "                 dropout, \n",
        "                 device,\n",
        "                 max_length = 100):\n",
        "        super().__init__()\n",
        "        \n",
        "        self.device = device\n",
        "        \n",
        "        self.tok_embedding = nn.Embedding(output_dim, hid_dim)\n",
        "        self.pos_embedding = nn.Embedding(max_length, hid_dim)\n",
        "        \n",
        "        self.layers = nn.ModuleList([DecoderLayer(hid_dim, \n",
        "                                                  n_heads, \n",
        "                                                  pf_dim, \n",
        "                                                  dropout, \n",
        "                                                  device)\n",
        "                                     for _ in range(n_layers)])\n",
        "        \n",
        "        self.fc_out = nn.Linear(hid_dim, output_dim)\n",
        "        \n",
        "        self.dropout = nn.Dropout(dropout)\n",
        "        \n",
        "        self.scale = torch.sqrt(torch.FloatTensor([hid_dim])).to(device)\n",
        "        \n",
        "    def forward(self, trg, enc_src, trg_mask, src_mask):\n",
        "        \n",
        "        #trg = [batch size, trg len]\n",
        "        #enc_src = [batch size, src len, hid dim]\n",
        "        #trg_mask = [batch size, 1, trg len, trg len]\n",
        "        #src_mask = [batch size, 1, 1, src len]\n",
        "                \n",
        "        batch_size = trg.shape[0]\n",
        "        trg_len = trg.shape[1]\n",
        "        \n",
        "        pos = torch.arange(0, trg_len).unsqueeze(0).repeat(batch_size, 1).to(self.device)\n",
        "                            \n",
        "        #pos = [batch size, trg len]\n",
        "            \n",
        "        trg = self.dropout((self.tok_embedding(trg) * self.scale) + self.pos_embedding(pos))\n",
        "                \n",
        "        #trg = [batch size, trg len, hid dim]\n",
        "        \n",
        "        for layer in self.layers:\n",
        "            trg, attention = layer(trg, enc_src, trg_mask, src_mask)\n",
        "        \n",
        "        #trg = [batch size, trg len, hid dim]\n",
        "        #attention = [batch size, n heads, trg len, src len]\n",
        "        \n",
        "        output = self.fc_out(trg)\n",
        "        \n",
        "        #output = [batch size, trg len, output dim]\n",
        "            \n",
        "        return output, attention"
      ],
      "execution_count": 21,
      "outputs": []
    },
    {
      "cell_type": "markdown",
      "metadata": {
        "id": "dwWMH3gC_4W7"
      },
      "source": [
        "### Decoder Layer\n",
        "\n",
        "As mentioned previously, the decoder layer is similar to the encoder layer except that it now has two multi-head attention layers, `self_attention` and `encoder_attention`. \n",
        "\n",
        "The first performs self-attention, as in the encoder, by using the decoder representation so far as the query, key and value. This is followed by dropout, residual connection and layer normalization. This `self_attention` layer uses the target sequence mask, `trg_mask`, in order to prevent the decoder from \"cheating\" by paying attention to tokens that are \"ahead\" of the one it is currently processing as it processes all tokens in the target sentence in parallel.\n",
        "\n",
        "The second is how we actually feed the encoded source sentence, `enc_src`, into our decoder. In this multi-head attention layer the queries are the decoder representations and the keys and values are the encoder representations. Here, the source mask, `src_mask` is used to prevent the multi-head attention layer from attending to `<pad>` tokens within the source sentence. This is then followed by the dropout, residual connection and layer normalization layers. \n",
        "\n",
        "Finally, we pass this through the position-wise feedforward layer and yet another sequence of dropout, residual connection and layer normalization.\n",
        "\n",
        "The decoder layer isn't introducing any new concepts, just using the same set of layers as the encoder in a slightly different way."
      ]
    },
    {
      "cell_type": "code",
      "metadata": {
        "id": "Day2IUTA_4W7"
      },
      "source": [
        "class DecoderLayer(nn.Module):\n",
        "    def __init__(self, \n",
        "                 hid_dim, \n",
        "                 n_heads, \n",
        "                 pf_dim, \n",
        "                 dropout, \n",
        "                 device):\n",
        "        super().__init__()\n",
        "        \n",
        "        self.self_attn_layer_norm = nn.LayerNorm(hid_dim)\n",
        "        self.enc_attn_layer_norm = nn.LayerNorm(hid_dim)\n",
        "        self.ff_layer_norm = nn.LayerNorm(hid_dim)\n",
        "        self.self_attention = MultiHeadAttentionLayer(hid_dim, n_heads, dropout, device)\n",
        "        self.encoder_attention = MultiHeadAttentionLayer(hid_dim, n_heads, dropout, device)\n",
        "        self.positionwise_feedforward = PositionwiseFeedforwardLayer(hid_dim, \n",
        "                                                                     pf_dim, \n",
        "                                                                     dropout)\n",
        "        self.dropout = nn.Dropout(dropout)\n",
        "        \n",
        "    def forward(self, trg, enc_src, trg_mask, src_mask):\n",
        "        \n",
        "        #trg = [batch size, trg len, hid dim]\n",
        "        #enc_src = [batch size, src len, hid dim]\n",
        "        #trg_mask = [batch size, 1, trg len, trg len]\n",
        "        #src_mask = [batch size, 1, 1, src len]\n",
        "        \n",
        "        #self attention\n",
        "        _trg, _ = self.self_attention(trg, trg, trg, trg_mask)\n",
        "        \n",
        "        #dropout, residual connection and layer norm\n",
        "        trg = self.self_attn_layer_norm(trg + self.dropout(_trg))\n",
        "            \n",
        "        #trg = [batch size, trg len, hid dim]\n",
        "            \n",
        "        #encoder attention\n",
        "        _trg, attention = self.encoder_attention(trg, enc_src, enc_src, src_mask)\n",
        "        \n",
        "        #dropout, residual connection and layer norm\n",
        "        trg = self.enc_attn_layer_norm(trg + self.dropout(_trg))\n",
        "                    \n",
        "        #trg = [batch size, trg len, hid dim]\n",
        "        \n",
        "        #positionwise feedforward\n",
        "        _trg = self.positionwise_feedforward(trg)\n",
        "        \n",
        "        #dropout, residual and layer norm\n",
        "        trg = self.ff_layer_norm(trg + self.dropout(_trg))\n",
        "        \n",
        "        #trg = [batch size, trg len, hid dim]\n",
        "        #attention = [batch size, n heads, trg len, src len]\n",
        "        \n",
        "        return trg, attention"
      ],
      "execution_count": 22,
      "outputs": []
    },
    {
      "cell_type": "markdown",
      "metadata": {
        "id": "9Besd0HH_4W7"
      },
      "source": [
        "### Seq2Seq\n",
        "\n",
        "Finally, we have the `Seq2Seq` module which encapsulates the encoder and decoder, as well as handling the creation of the masks.\n",
        "\n",
        "The source mask is created by checking where the source sequence is not equal to a `<pad>` token. It is 1 where the token is not a `<pad>` token and 0 when it is. It is then unsqueezed so it can be correctly broadcast when applying the mask to the `energy`, which of shape **_[batch size, n heads, seq len, seq len]_**.\n",
        "\n",
        "The target mask is slightly more complicated. First, we create a mask for the `<pad>` tokens, as we did for the source mask. Next, we create a \"subsequent\" mask, `trg_sub_mask`, using `torch.tril`. This creates a diagonal matrix where the elements above the diagonal will be zero and the elements below the diagonal will be set to whatever the input tensor is. In this case, the input tensor will be a tensor filled with ones. So this means our `trg_sub_mask` will look something like this (for a target with 5 tokens):\n",
        "\n",
        "$$\\begin{matrix}\n",
        "1 & 0 & 0 & 0 & 0\\\\\n",
        "1 & 1 & 0 & 0 & 0\\\\\n",
        "1 & 1 & 1 & 0 & 0\\\\\n",
        "1 & 1 & 1 & 1 & 0\\\\\n",
        "1 & 1 & 1 & 1 & 1\\\\\n",
        "\\end{matrix}$$\n",
        "\n",
        "This shows what each target token (row) is allowed to look at (column). The first target token has a mask of **_[1, 0, 0, 0, 0]_** which means it can only look at the first target token. The second target token has a mask of **_[1, 1, 0, 0, 0]_** which it means it can look at both the first and second target tokens. \n",
        "\n",
        "The \"subsequent\" mask is then logically anded with the padding mask, this combines the two masks ensuring both the subsequent tokens and the padding tokens cannot be attended to. For example if the last two tokens were `<pad>` tokens the mask would look like:\n",
        "\n",
        "$$\\begin{matrix}\n",
        "1 & 0 & 0 & 0 & 0\\\\\n",
        "1 & 1 & 0 & 0 & 0\\\\\n",
        "1 & 1 & 1 & 0 & 0\\\\\n",
        "1 & 1 & 1 & 0 & 0\\\\\n",
        "1 & 1 & 1 & 0 & 0\\\\\n",
        "\\end{matrix}$$\n",
        "\n",
        "After the masks are created, they used with the encoder and decoder along with the source and target sentences to get our predicted target sentence, `output`, along with the decoder's attention over the source sequence."
      ]
    },
    {
      "cell_type": "code",
      "metadata": {
        "id": "y1H9XoBL_4W7"
      },
      "source": [
        "class Seq2Seq(nn.Module):\n",
        "    def __init__(self, \n",
        "                 encoder, \n",
        "                 decoder, \n",
        "                 src_pad_idx, \n",
        "                 trg_pad_idx, \n",
        "                 device):\n",
        "        super().__init__()\n",
        "        \n",
        "        self.encoder = encoder\n",
        "        self.decoder = decoder\n",
        "        self.src_pad_idx = src_pad_idx\n",
        "        self.trg_pad_idx = trg_pad_idx\n",
        "        self.device = device\n",
        "        \n",
        "    def make_src_mask(self, src):\n",
        "        \n",
        "        #src = [batch size, src len]\n",
        "        \n",
        "        src_mask = (src != self.src_pad_idx).unsqueeze(1).unsqueeze(2)\n",
        "\n",
        "        #src_mask = [batch size, 1, 1, src len]\n",
        "\n",
        "        return src_mask\n",
        "    \n",
        "    def make_trg_mask(self, trg):\n",
        "        \n",
        "        #trg = [batch size, trg len]\n",
        "        \n",
        "        trg_pad_mask = (trg != self.trg_pad_idx).unsqueeze(1).unsqueeze(2)\n",
        "        \n",
        "        #trg_pad_mask = [batch size, 1, 1, trg len]\n",
        "        \n",
        "        trg_len = trg.shape[1]\n",
        "        \n",
        "        trg_sub_mask = torch.tril(torch.ones((trg_len, trg_len), device = self.device)).bool()\n",
        "        \n",
        "        #trg_sub_mask = [trg len, trg len]\n",
        "            \n",
        "        trg_mask = trg_pad_mask & trg_sub_mask\n",
        "        \n",
        "        #trg_mask = [batch size, 1, trg len, trg len]\n",
        "        \n",
        "        return trg_mask\n",
        "\n",
        "    def forward(self, src, trg):\n",
        "        \n",
        "        #src = [batch size, src len]\n",
        "        #trg = [batch size, trg len]\n",
        "                \n",
        "        src_mask = self.make_src_mask(src)\n",
        "        trg_mask = self.make_trg_mask(trg)\n",
        "        \n",
        "        #src_mask = [batch size, 1, 1, src len]\n",
        "        #trg_mask = [batch size, 1, trg len, trg len]\n",
        "        \n",
        "        enc_src = self.encoder(src, src_mask)\n",
        "        \n",
        "        #enc_src = [batch size, src len, hid dim]\n",
        "                \n",
        "        output, attention = self.decoder(trg, enc_src, trg_mask, src_mask)\n",
        "        \n",
        "        #output = [batch size, trg len, output dim]\n",
        "        #attention = [batch size, n heads, trg len, src len]\n",
        "        \n",
        "        return output, attention"
      ],
      "execution_count": 23,
      "outputs": []
    },
    {
      "cell_type": "markdown",
      "metadata": {
        "id": "BEwfJJYI_4W8"
      },
      "source": [
        "## Training the Seq2Seq Model\n",
        "\n",
        "We can now define our encoder and decoders. This model is significantly smaller than Transformers used in research today, but is able to be run on a single GPU quickly."
      ]
    },
    {
      "cell_type": "code",
      "metadata": {
        "id": "VGe5YOcA_4W8"
      },
      "source": [
        "INPUT_DIM = len(SRC.vocab)\n",
        "OUTPUT_DIM = len(TRG.vocab)\n",
        "HID_DIM = 256\n",
        "ENC_LAYERS = 3\n",
        "DEC_LAYERS = 3\n",
        "ENC_HEADS = 8\n",
        "DEC_HEADS = 8\n",
        "ENC_PF_DIM = 512\n",
        "DEC_PF_DIM = 512\n",
        "ENC_DROPOUT = 0.1\n",
        "DEC_DROPOUT = 0.1\n",
        "\n",
        "enc = Encoder(INPUT_DIM, \n",
        "              HID_DIM, \n",
        "              ENC_LAYERS, \n",
        "              ENC_HEADS, \n",
        "              ENC_PF_DIM, \n",
        "              ENC_DROPOUT, \n",
        "              device)\n",
        "\n",
        "dec = Decoder(OUTPUT_DIM, \n",
        "              HID_DIM, \n",
        "              DEC_LAYERS, \n",
        "              DEC_HEADS, \n",
        "              DEC_PF_DIM, \n",
        "              DEC_DROPOUT, \n",
        "              device)"
      ],
      "execution_count": 20,
      "outputs": []
    },
    {
      "cell_type": "markdown",
      "metadata": {
        "id": "MNdw8HtU_4W8"
      },
      "source": [
        "Then, use them to define our whole sequence-to-sequence encapsulating model."
      ]
    },
    {
      "cell_type": "code",
      "metadata": {
        "id": "DVXAGen6_4W8"
      },
      "source": [
        "SRC_PAD_IDX = SRC.vocab.stoi[SRC.pad_token]\n",
        "TRG_PAD_IDX = TRG.vocab.stoi[TRG.pad_token]\n",
        "\n",
        "model = Seq2Seq(enc, dec, SRC_PAD_IDX, TRG_PAD_IDX, device).to(device)"
      ],
      "execution_count": 21,
      "outputs": []
    },
    {
      "cell_type": "markdown",
      "metadata": {
        "id": "xw0KMhQR_4W8"
      },
      "source": [
        "We can check the number of parameters, noticing it is significantly less than the 37M for the convolutional sequence-to-sequence model."
      ]
    },
    {
      "cell_type": "code",
      "metadata": {
        "id": "YlsXIO5i_4W9",
        "colab": {
          "base_uri": "https://localhost:8080/"
        },
        "outputId": "375475e2-9e89-49ec-c311-75ebaa6993ca"
      },
      "source": [
        "def count_parameters(model):\n",
        "    return sum(p.numel() for p in model.parameters() if p.requires_grad)\n",
        "\n",
        "print(f'The model has {count_parameters(model):,} trainable parameters')"
      ],
      "execution_count": 22,
      "outputs": [
        {
          "output_type": "stream",
          "text": [
            "The model has 9,038,853 trainable parameters\n"
          ],
          "name": "stdout"
        }
      ]
    },
    {
      "cell_type": "markdown",
      "metadata": {
        "id": "DGURpXzd_4W9"
      },
      "source": [
        "The paper does not mention which weight initialization scheme was used, however Xavier uniform seems to be common amongst Transformer models, so we use it here."
      ]
    },
    {
      "cell_type": "code",
      "metadata": {
        "id": "jkySTwWG_4W9"
      },
      "source": [
        "def initialize_weights(m):\n",
        "    if hasattr(m, 'weight') and m.weight.dim() > 1:\n",
        "        nn.init.xavier_uniform_(m.weight.data)"
      ],
      "execution_count": 23,
      "outputs": []
    },
    {
      "cell_type": "code",
      "metadata": {
        "id": "C2l44Gs1_4W9"
      },
      "source": [
        "model.apply(initialize_weights);"
      ],
      "execution_count": 24,
      "outputs": []
    },
    {
      "cell_type": "markdown",
      "metadata": {
        "id": "J9g-Pq7Z_4W-"
      },
      "source": [
        "The optimizer used in the original Transformer paper uses Adam with a learning rate that has a \"warm-up\" and then a \"cool-down\" period. BERT and other Transformer models use Adam with a fixed learning rate, so we will implement that. Check [this](http://nlp.seas.harvard.edu/2018/04/03/attention.html#optimizer) link for more details about the original Transformer's learning rate schedule.\n",
        "\n",
        "Note that the learning rate needs to be lower than the default used by Adam or else learning is unstable."
      ]
    },
    {
      "cell_type": "code",
      "metadata": {
        "id": "bDlnQjZz_4W-"
      },
      "source": [
        "LEARNING_RATE = 0.0005\n",
        "\n",
        "optimizer = torch.optim.Adam(model.parameters(), lr = LEARNING_RATE)"
      ],
      "execution_count": 25,
      "outputs": []
    },
    {
      "cell_type": "markdown",
      "metadata": {
        "id": "1qXAB_24_4W-"
      },
      "source": [
        "Next, we define our loss function, making sure to ignore losses calculated over `<pad>` tokens."
      ]
    },
    {
      "cell_type": "code",
      "metadata": {
        "id": "shuBrpXG_4W_"
      },
      "source": [
        "criterion = nn.CrossEntropyLoss(ignore_index = TRG_PAD_IDX)"
      ],
      "execution_count": 26,
      "outputs": []
    },
    {
      "cell_type": "markdown",
      "metadata": {
        "id": "mFYvAJrF_4W_"
      },
      "source": [
        "Then, we'll define our training loop. This is the exact same as the one used in the previous tutorial.\n",
        "\n",
        "As we want our model to predict the `<eos>` token but not have it be an input into our model we simply slice the `<eos>` token off the end of the sequence. Thus:\n",
        "\n",
        "$$\\begin{align*}\n",
        "\\text{trg} &= [sos, x_1, x_2, x_3, eos]\\\\\n",
        "\\text{trg[:-1]} &= [sos, x_1, x_2, x_3]\n",
        "\\end{align*}$$\n",
        "\n",
        "$x_i$ denotes actual target sequence element. We then feed this into the model to get a predicted sequence that should hopefully predict the `<eos>` token:\n",
        "\n",
        "$$\\begin{align*}\n",
        "\\text{output} &= [y_1, y_2, y_3, eos]\n",
        "\\end{align*}$$\n",
        "\n",
        "$y_i$ denotes predicted target sequence element. We then calculate our loss using the original `trg` tensor with the `<sos>` token sliced off the front, leaving the `<eos>` token:\n",
        "\n",
        "$$\\begin{align*}\n",
        "\\text{output} &= [y_1, y_2, y_3, eos]\\\\\n",
        "\\text{trg[1:]} &= [x_1, x_2, x_3, eos]\n",
        "\\end{align*}$$\n",
        "\n",
        "We then calculate our losses and update our parameters as is standard."
      ]
    },
    {
      "cell_type": "code",
      "metadata": {
        "id": "xNRi7X0N_4W_"
      },
      "source": [
        "def train(model, iterator, optimizer, criterion, clip):\n",
        "    \n",
        "    model.train()\n",
        "    \n",
        "    epoch_loss = 0\n",
        "    \n",
        "    for i, batch in enumerate(iterator):\n",
        "        \n",
        "        src = batch.src\n",
        "        trg = batch.trg\n",
        "        \n",
        "        optimizer.zero_grad()\n",
        "        \n",
        "        output, _ = model(src, trg[:,:-1])\n",
        "                \n",
        "        #output = [batch size, trg len - 1, output dim]\n",
        "        #trg = [batch size, trg len]\n",
        "            \n",
        "        output_dim = output.shape[-1]\n",
        "            \n",
        "        output = output.contiguous().view(-1, output_dim)\n",
        "        trg = trg[:,1:].contiguous().view(-1)\n",
        "                \n",
        "        #output = [batch size * trg len - 1, output dim]\n",
        "        #trg = [batch size * trg len - 1]\n",
        "            \n",
        "        loss = criterion(output, trg)\n",
        "        \n",
        "        loss.backward()\n",
        "        \n",
        "        torch.nn.utils.clip_grad_norm_(model.parameters(), clip)\n",
        "        \n",
        "        optimizer.step()\n",
        "        \n",
        "        epoch_loss += loss.item()\n",
        "        \n",
        "    return epoch_loss / len(iterator)"
      ],
      "execution_count": 27,
      "outputs": []
    },
    {
      "cell_type": "markdown",
      "metadata": {
        "id": "1IzFHaV__4W_"
      },
      "source": [
        "The evaluation loop is the same as the training loop, just without the gradient calculations and parameter updates."
      ]
    },
    {
      "cell_type": "code",
      "metadata": {
        "id": "uj5ujt1i_4XA"
      },
      "source": [
        "def evaluate(model, iterator, criterion):\n",
        "    \n",
        "    model.eval()\n",
        "    \n",
        "    epoch_loss = 0\n",
        "    \n",
        "    with torch.no_grad():\n",
        "    \n",
        "        for i, batch in enumerate(iterator):\n",
        "\n",
        "            src = batch.src\n",
        "            trg = batch.trg\n",
        "\n",
        "            output, _ = model(src, trg[:,:-1])\n",
        "            \n",
        "            #output = [batch size, trg len - 1, output dim]\n",
        "            #trg = [batch size, trg len]\n",
        "            \n",
        "            output_dim = output.shape[-1]\n",
        "            \n",
        "            output = output.contiguous().view(-1, output_dim)\n",
        "            trg = trg[:,1:].contiguous().view(-1)\n",
        "            \n",
        "            #output = [batch size * trg len - 1, output dim]\n",
        "            #trg = [batch size * trg len - 1]\n",
        "            \n",
        "            loss = criterion(output, trg)\n",
        "\n",
        "            epoch_loss += loss.item()\n",
        "        \n",
        "    return epoch_loss / len(iterator)"
      ],
      "execution_count": 28,
      "outputs": []
    },
    {
      "cell_type": "markdown",
      "metadata": {
        "id": "_FifXr5c_4XA"
      },
      "source": [
        "We then define a small function that we can use to tell us how long an epoch takes."
      ]
    },
    {
      "cell_type": "code",
      "metadata": {
        "id": "JjkRtVhl_4XA"
      },
      "source": [
        "def epoch_time(start_time, end_time):\n",
        "    elapsed_time = end_time - start_time\n",
        "    elapsed_mins = int(elapsed_time / 60)\n",
        "    elapsed_secs = int(elapsed_time - (elapsed_mins * 60))\n",
        "    return elapsed_mins, elapsed_secs"
      ],
      "execution_count": 29,
      "outputs": []
    },
    {
      "cell_type": "markdown",
      "metadata": {
        "id": "4PS6o6hg_4XA"
      },
      "source": [
        "Finally, we train our actual model. This model is almost 3x faster than the convolutional sequence-to-sequence model and also achieves a lower validation perplexity!"
      ]
    },
    {
      "cell_type": "code",
      "metadata": {
        "id": "flQ4Zozv_4XA",
        "colab": {
          "base_uri": "https://localhost:8080/"
        },
        "outputId": "38b8dc86-5d5e-488f-8ee3-967ad851ae63"
      },
      "source": [
        "N_EPOCHS = 10\n",
        "CLIP = 1\n",
        "\n",
        "best_valid_loss = float('inf')\n",
        "\n",
        "for epoch in range(N_EPOCHS):\n",
        "    \n",
        "    start_time = time.time()\n",
        "    \n",
        "    train_loss = train(model, train_iterator, optimizer, criterion, CLIP)\n",
        "    valid_loss = evaluate(model, valid_iterator, criterion)\n",
        "    \n",
        "    end_time = time.time()\n",
        "    \n",
        "    epoch_mins, epoch_secs = epoch_time(start_time, end_time)\n",
        "    \n",
        "    if valid_loss < best_valid_loss:\n",
        "        best_valid_loss = valid_loss\n",
        "        torch.save(model.state_dict(), 'tut6-model.pt')\n",
        "    \n",
        "    print(f'Epoch: {epoch+1:02} | Time: {epoch_mins}m {epoch_secs}s')\n",
        "    print(f'\\tTrain Loss: {train_loss:.3f} | Train PPL: {math.exp(train_loss):7.3f}')\n",
        "    print(f'\\t Val. Loss: {valid_loss:.3f} |  Val. PPL: {math.exp(valid_loss):7.3f}')"
      ],
      "execution_count": 30,
      "outputs": [
        {
          "output_type": "stream",
          "text": [
            "Epoch: 01 | Time: 0m 18s\n",
            "\tTrain Loss: 4.235 | Train PPL:  69.067\n",
            "\t Val. Loss: 3.003 |  Val. PPL:  20.154\n",
            "Epoch: 02 | Time: 0m 18s\n",
            "\tTrain Loss: 2.802 | Train PPL:  16.477\n",
            "\t Val. Loss: 2.291 |  Val. PPL:   9.883\n",
            "Epoch: 03 | Time: 0m 19s\n",
            "\tTrain Loss: 2.224 | Train PPL:   9.246\n",
            "\t Val. Loss: 1.955 |  Val. PPL:   7.065\n",
            "Epoch: 04 | Time: 0m 19s\n",
            "\tTrain Loss: 1.877 | Train PPL:   6.532\n",
            "\t Val. Loss: 1.797 |  Val. PPL:   6.033\n",
            "Epoch: 05 | Time: 0m 19s\n",
            "\tTrain Loss: 1.633 | Train PPL:   5.118\n",
            "\t Val. Loss: 1.718 |  Val. PPL:   5.574\n",
            "Epoch: 06 | Time: 0m 19s\n",
            "\tTrain Loss: 1.446 | Train PPL:   4.244\n",
            "\t Val. Loss: 1.651 |  Val. PPL:   5.214\n",
            "Epoch: 07 | Time: 0m 19s\n",
            "\tTrain Loss: 1.295 | Train PPL:   3.651\n",
            "\t Val. Loss: 1.631 |  Val. PPL:   5.107\n",
            "Epoch: 08 | Time: 0m 19s\n",
            "\tTrain Loss: 1.173 | Train PPL:   3.231\n",
            "\t Val. Loss: 1.629 |  Val. PPL:   5.098\n",
            "Epoch: 09 | Time: 0m 19s\n",
            "\tTrain Loss: 1.063 | Train PPL:   2.894\n",
            "\t Val. Loss: 1.620 |  Val. PPL:   5.051\n",
            "Epoch: 10 | Time: 0m 19s\n",
            "\tTrain Loss: 0.968 | Train PPL:   2.633\n",
            "\t Val. Loss: 1.654 |  Val. PPL:   5.229\n"
          ],
          "name": "stdout"
        }
      ]
    },
    {
      "cell_type": "markdown",
      "metadata": {
        "id": "A3-x-z_e_4XB"
      },
      "source": [
        "We load our \"best\" parameters and manage to achieve a better test perplexity than all previous models."
      ]
    },
    {
      "cell_type": "code",
      "metadata": {
        "id": "ILaUV6A0_4XB",
        "colab": {
          "base_uri": "https://localhost:8080/"
        },
        "outputId": "b44f403c-f524-4743-f89a-6cce8005771a"
      },
      "source": [
        "model.load_state_dict(torch.load('tut6-model.pt'))\n",
        "\n",
        "test_loss = evaluate(model, test_iterator, criterion)\n",
        "\n",
        "print(f'| Test Loss: {test_loss:.3f} | Test PPL: {math.exp(test_loss):7.3f} |')"
      ],
      "execution_count": 32,
      "outputs": [
        {
          "output_type": "stream",
          "text": [
            "| Test Loss: 1.685 | Test PPL:   5.394 |\n"
          ],
          "name": "stdout"
        }
      ]
    },
    {
      "cell_type": "markdown",
      "metadata": {
        "id": "SEx_07uP_4XB"
      },
      "source": [
        "## Inference\n",
        "\n",
        "Now we can can translations from our model with the `translate_sentence` function below.\n",
        "\n",
        "The steps taken are:\n",
        "- tokenize the source sentence if it has not been tokenized (is a string)\n",
        "- append the `<sos>` and `<eos>` tokens\n",
        "- numericalize the source sentence\n",
        "- convert it to a tensor and add a batch dimension\n",
        "- create the source sentence mask\n",
        "- feed the source sentence and mask into the encoder\n",
        "- create a list to hold the output sentence, initialized with an `<sos>` token\n",
        "- while we have not hit a maximum length\n",
        "  - convert the current output sentence prediction into a tensor with a batch dimension\n",
        "  - create a target sentence mask\n",
        "  - place the current output, encoder output and both masks into the decoder\n",
        "  - get next output token prediction from decoder along with attention\n",
        "  - add prediction to current output sentence prediction\n",
        "  - break if the prediction was an `<eos>` token\n",
        "- convert the output sentence from indexes to tokens\n",
        "- return the output sentence (with the `<sos>` token removed) and the attention from the last layer"
      ]
    },
    {
      "cell_type": "code",
      "metadata": {
        "id": "2eZVELIg_4XC"
      },
      "source": [
        "def translate_sentence(sentence, src_field, trg_field, model, device, max_len = 50):\n",
        "    \n",
        "    model.eval()\n",
        "        \n",
        "    if isinstance(sentence, str):\n",
        "        nlp = spacy.load('de_core_news_sm')\n",
        "        tokens = [token.text.lower() for token in nlp(sentence)]\n",
        "    else:\n",
        "        tokens = [token.lower() for token in sentence]\n",
        "\n",
        "    tokens = [src_field.init_token] + tokens + [src_field.eos_token]\n",
        "        \n",
        "    src_indexes = [src_field.vocab.stoi[token] for token in tokens]\n",
        "\n",
        "    src_tensor = torch.LongTensor(src_indexes).unsqueeze(0).to(device)\n",
        "    \n",
        "    src_mask = model.make_src_mask(src_tensor)\n",
        "    \n",
        "    with torch.no_grad():\n",
        "        enc_src = model.encoder(src_tensor, src_mask)\n",
        "\n",
        "    trg_indexes = [trg_field.vocab.stoi[trg_field.init_token]]\n",
        "\n",
        "    for i in range(max_len):\n",
        "\n",
        "        trg_tensor = torch.LongTensor(trg_indexes).unsqueeze(0).to(device)\n",
        "\n",
        "        trg_mask = model.make_trg_mask(trg_tensor)\n",
        "        \n",
        "        with torch.no_grad():\n",
        "            output, attention = model.decoder(trg_tensor, enc_src, trg_mask, src_mask)\n",
        "        \n",
        "        pred_token = output.argmax(2)[:,-1].item()\n",
        "        \n",
        "        trg_indexes.append(pred_token)\n",
        "\n",
        "        if pred_token == trg_field.vocab.stoi[trg_field.eos_token]:\n",
        "            break\n",
        "    \n",
        "    trg_tokens = [trg_field.vocab.itos[i] for i in trg_indexes]\n",
        "    \n",
        "    return trg_tokens[1:], attention"
      ],
      "execution_count": 33,
      "outputs": []
    },
    {
      "cell_type": "markdown",
      "metadata": {
        "id": "EwtI9JhL_4XC"
      },
      "source": [
        "We'll now define a function that displays the attention over the source sentence for each step of the decoding. As this model has 8 heads our model we can view the attention for each of the heads."
      ]
    },
    {
      "cell_type": "code",
      "metadata": {
        "id": "ljvY5AIa_4XC"
      },
      "source": [
        "def display_attention(sentence, translation, attention, n_heads = 8, n_rows = 4, n_cols = 2):\n",
        "    \n",
        "    assert n_rows * n_cols == n_heads\n",
        "    \n",
        "    fig = plt.figure(figsize=(15,25))\n",
        "    \n",
        "    for i in range(n_heads):\n",
        "        \n",
        "        ax = fig.add_subplot(n_rows, n_cols, i+1)\n",
        "        \n",
        "        _attention = attention.squeeze(0)[i].cpu().detach().numpy()\n",
        "\n",
        "        cax = ax.matshow(_attention, cmap='bone')\n",
        "\n",
        "        ax.tick_params(labelsize=12)\n",
        "        ax.set_xticklabels(['']+['<sos>']+[t.lower() for t in sentence]+['<eos>'], \n",
        "                           rotation=45)\n",
        "        ax.set_yticklabels(['']+translation)\n",
        "\n",
        "        ax.xaxis.set_major_locator(ticker.MultipleLocator(1))\n",
        "        ax.yaxis.set_major_locator(ticker.MultipleLocator(1))\n",
        "\n",
        "    plt.show()\n",
        "    plt.close()"
      ],
      "execution_count": 34,
      "outputs": []
    },
    {
      "cell_type": "markdown",
      "metadata": {
        "id": "lwvWMOJF_4XC"
      },
      "source": [
        "First, we'll get an example from the training set."
      ]
    },
    {
      "cell_type": "code",
      "metadata": {
        "id": "5HlVsiOv_4XC",
        "colab": {
          "base_uri": "https://localhost:8080/"
        },
        "outputId": "37393b06-cb7c-462d-c227-62f64db226c3"
      },
      "source": [
        "example_idx = 8\n",
        "\n",
        "src = vars(train_data.examples[example_idx])['src']\n",
        "trg = vars(train_data.examples[example_idx])['trg']\n",
        "\n",
        "print(f'src = {src}')\n",
        "print(f'trg = {trg}')"
      ],
      "execution_count": 35,
      "outputs": [
        {
          "output_type": "stream",
          "text": [
            "src = ['eine', 'frau', 'mit', 'einer', 'großen', 'geldbörse', 'geht', 'an', 'einem', 'tor', 'vorbei', '.']\n",
            "trg = ['a', 'woman', 'with', 'a', 'large', 'purse', 'is', 'walking', 'by', 'a', 'gate', '.']\n"
          ],
          "name": "stdout"
        }
      ]
    },
    {
      "cell_type": "markdown",
      "metadata": {
        "id": "935dngPR_4XD"
      },
      "source": [
        "Our translation looks pretty good, although our model changes *is walking by* to *walks by*. The meaning is still the same."
      ]
    },
    {
      "cell_type": "code",
      "metadata": {
        "id": "MV4JjMFL_4XD",
        "colab": {
          "base_uri": "https://localhost:8080/"
        },
        "outputId": "a4594450-5894-4bc1-e461-2340f0b0f9c7"
      },
      "source": [
        "translation, attention = translate_sentence(src, SRC, TRG, model, device)\n",
        "\n",
        "print(f'predicted trg = {translation}')"
      ],
      "execution_count": 36,
      "outputs": [
        {
          "output_type": "stream",
          "text": [
            "predicted trg = ['a', 'woman', 'with', 'a', 'large', 'purse', 'walks', 'past', 'a', 'gate', '.', '<eos>']\n"
          ],
          "name": "stdout"
        }
      ]
    },
    {
      "cell_type": "markdown",
      "metadata": {
        "id": "WHO3cv6z_4XD"
      },
      "source": [
        "We can see the attention from each head below. Each is certainly different, but it's difficult (perhaps impossible) to reason about what head has actually learned to pay attention to. Some heads pay full attention to \"eine\" when translating \"a\", some don't at all, and some do a little. They all seem to follow the similar \"downward staircase\" pattern and the attention when outputting the last two tokens is equally spread over the final two tokens in the input sentence."
      ]
    },
    {
      "cell_type": "code",
      "metadata": {
        "id": "2WWZk8iB_4XD",
        "colab": {
          "base_uri": "https://localhost:8080/",
          "height": 1000
        },
        "outputId": "0720597c-2851-44ad-b536-9b361e889807"
      },
      "source": [
        "display_attention(src, translation, attention)"
      ],
      "execution_count": 37,
      "outputs": [
        {
          "output_type": "display_data",
          "data": {
            "image/png": "[encoded data removed]",
            "text/plain": [
              "<Figure size 1080x1800 with 8 Axes>"
            ]
          },
          "metadata": {
            "tags": [],
            "needs_background": "light"
          }
        }
      ]
    },
    {
      "cell_type": "markdown",
      "metadata": {
        "id": "_nioK9Lf_4XE"
      },
      "source": [
        "Next, let's get an example the model has not been trained on from the validation set."
      ]
    },
    {
      "cell_type": "code",
      "metadata": {
        "id": "JhHr3hLH_4XE",
        "colab": {
          "base_uri": "https://localhost:8080/"
        },
        "outputId": "d7f878b3-ed0e-48b5-81a8-4dc68b51388a"
      },
      "source": [
        "example_idx = 6\n",
        "\n",
        "src = vars(valid_data.examples[example_idx])['src']\n",
        "trg = vars(valid_data.examples[example_idx])['trg']\n",
        "\n",
        "print(f'src = {src}')\n",
        "print(f'trg = {trg}')"
      ],
      "execution_count": 38,
      "outputs": [
        {
          "output_type": "stream",
          "text": [
            "src = ['ein', 'brauner', 'hund', 'rennt', 'dem', 'schwarzen', 'hund', 'hinterher', '.']\n",
            "trg = ['a', 'brown', 'dog', 'is', 'running', 'after', 'the', 'black', 'dog', '.']\n"
          ],
          "name": "stdout"
        }
      ]
    },
    {
      "cell_type": "markdown",
      "metadata": {
        "id": "2MRenkYh_4XF"
      },
      "source": [
        "The model translates it by switching *is running* to just *runs*, but it is an acceptable swap."
      ]
    },
    {
      "cell_type": "code",
      "metadata": {
        "id": "xIunOpni_4XF",
        "colab": {
          "base_uri": "https://localhost:8080/"
        },
        "outputId": "934850c6-1f4a-49c4-da85-a0f3240eea3e"
      },
      "source": [
        "translation, attention = translate_sentence(src, SRC, TRG, model, device)\n",
        "\n",
        "print(f'predicted trg = {translation}')"
      ],
      "execution_count": 39,
      "outputs": [
        {
          "output_type": "stream",
          "text": [
            "predicted trg = ['a', 'brown', 'dog', 'runs', 'after', 'the', 'black', 'dog', '.', '<eos>']\n"
          ],
          "name": "stdout"
        }
      ]
    },
    {
      "cell_type": "markdown",
      "metadata": {
        "id": "lJSn8z3r_4XF"
      },
      "source": [
        "Again, some heads pay full attention to \"ein\" whilst some pay no attention to it. Again, most of the heads seem to spread their attention over both the period and `<eos>` tokens in the source sentence when outputting the period and `<eos>` sentence in the predicted target sentence, though some seem to pay attention to tokens from near the start of the sentence."
      ]
    },
    {
      "cell_type": "code",
      "metadata": {
        "id": "IEZsiX4l_4XG",
        "colab": {
          "base_uri": "https://localhost:8080/",
          "height": 1000
        },
        "outputId": "93dc6db3-7300-4ded-ac84-8874d9cc162c"
      },
      "source": [
        "display_attention(src, translation, attention)"
      ],
      "execution_count": 40,
      "outputs": [
        {
          "output_type": "display_data",
          "data": {
            "image/png": "[encoded data removed]",
            "text/plain": [
              "<Figure size 1080x1800 with 8 Axes>"
            ]
          },
          "metadata": {
            "tags": [],
            "needs_background": "light"
          }
        }
      ]
    },
    {
      "cell_type": "markdown",
      "metadata": {
        "id": "qFhEPUee_4XG"
      },
      "source": [
        "Finally, we'll look at an example from the test data."
      ]
    },
    {
      "cell_type": "code",
      "metadata": {
        "id": "z2ffTCjb_4XG",
        "colab": {
          "base_uri": "https://localhost:8080/"
        },
        "outputId": "9ca15c82-f524-494f-ae9d-b70867d38e26"
      },
      "source": [
        "example_idx = 10\n",
        "\n",
        "src = vars(test_data.examples[example_idx])['src']\n",
        "trg = vars(test_data.examples[example_idx])['trg']\n",
        "\n",
        "print(f'src = {src}')\n",
        "print(f'trg = {trg}')"
      ],
      "execution_count": 41,
      "outputs": [
        {
          "output_type": "stream",
          "text": [
            "src = ['eine', 'mutter', 'und', 'ihr', 'kleiner', 'sohn', 'genießen', 'einen', 'schönen', 'tag', 'im', 'freien', '.']\n",
            "trg = ['a', 'mother', 'and', 'her', 'young', 'song', 'enjoying', 'a', 'beautiful', 'day', 'outside', '.']\n"
          ],
          "name": "stdout"
        }
      ]
    },
    {
      "cell_type": "markdown",
      "metadata": {
        "id": "m1oLV34U_4XH"
      },
      "source": [
        "A perfect translation!"
      ]
    },
    {
      "cell_type": "code",
      "metadata": {
        "id": "50GoUEoE_4XH",
        "colab": {
          "base_uri": "https://localhost:8080/"
        },
        "outputId": "a686459b-514a-41b4-c2e0-919725492cce"
      },
      "source": [
        "translation, attention = translate_sentence(src, SRC, TRG, model, device)\n",
        "\n",
        "print(f'predicted trg = {translation}')"
      ],
      "execution_count": 42,
      "outputs": [
        {
          "output_type": "stream",
          "text": [
            "predicted trg = ['a', 'mother', 'and', 'her', 'small', 'son', 'enjoying', 'a', 'beautiful', 'day', '.', '<eos>']\n"
          ],
          "name": "stdout"
        }
      ]
    },
    {
      "cell_type": "code",
      "metadata": {
        "id": "7wY4VFBZ_4XH",
        "colab": {
          "base_uri": "https://localhost:8080/",
          "height": 1000
        },
        "outputId": "5ecda7f6-1a20-493e-9b11-909601680e37"
      },
      "source": [
        "display_attention(src, translation, attention)"
      ],
      "execution_count": 46,
      "outputs": [
        {
          "output_type": "display_data",
          "data": {
            "image/png": "[encoded data removed]",
            "text/plain": [
              "<Figure size 1080x1800 with 8 Axes>"
            ]
          },
          "metadata": {
            "tags": [],
            "needs_background": "light"
          }
        }
      ]
    },
    {
      "cell_type": "markdown",
      "metadata": {
        "id": "erh8_h1Y_4XI"
      },
      "source": [
        "## BLEU\n",
        "\n",
        "Finally we calculate the BLEU score for the Transformer."
      ]
    },
    {
      "cell_type": "code",
      "metadata": {
        "colab": {
          "base_uri": "https://localhost:8080/"
        },
        "id": "K3ggZ9dYO90F",
        "outputId": "541f1786-9113-45fc-c7c7-5670f80e99aa"
      },
      "source": [
        "!pip install torchtext==0.6.0"
      ],
      "execution_count": 47,
      "outputs": [
        {
          "output_type": "stream",
          "text": [
            "Requirement already satisfied: torchtext==0.6.0 in /usr/local/lib/python3.7/dist-packages (0.6.0)\n",
            "Requirement already satisfied: torch in /usr/local/lib/python3.7/dist-packages (from torchtext==0.6.0) (1.7.1+cu101)\n",
            "Requirement already satisfied: six in /usr/local/lib/python3.7/dist-packages (from torchtext==0.6.0) (1.15.0)\n",
            "Requirement already satisfied: tqdm in /usr/local/lib/python3.7/dist-packages (from torchtext==0.6.0) (4.41.1)\n",
            "Requirement already satisfied: numpy in /usr/local/lib/python3.7/dist-packages (from torchtext==0.6.0) (1.19.5)\n",
            "Requirement already satisfied: requests in /usr/local/lib/python3.7/dist-packages (from torchtext==0.6.0) (2.23.0)\n",
            "Requirement already satisfied: sentencepiece in /usr/local/lib/python3.7/dist-packages (from torchtext==0.6.0) (0.1.95)\n",
            "Requirement already satisfied: typing-extensions in /usr/local/lib/python3.7/dist-packages (from torch->torchtext==0.6.0) (3.7.4.3)\n",
            "Requirement already satisfied: urllib3!=1.25.0,!=1.25.1,<1.26,>=1.21.1 in /usr/local/lib/python3.7/dist-packages (from requests->torchtext==0.6.0) (1.24.3)\n",
            "Requirement already satisfied: idna<3,>=2.5 in /usr/local/lib/python3.7/dist-packages (from requests->torchtext==0.6.0) (2.10)\n",
            "Requirement already satisfied: chardet<4,>=3.0.2 in /usr/local/lib/python3.7/dist-packages (from requests->torchtext==0.6.0) (3.0.4)\n",
            "Requirement already satisfied: certifi>=2017.4.17 in /usr/local/lib/python3.7/dist-packages (from requests->torchtext==0.6.0) (2020.12.5)\n"
          ],
          "name": "stdout"
        }
      ]
    },
    {
      "cell_type": "code",
      "metadata": {
        "id": "VmYmLNNl_4XI",
        "colab": {
          "base_uri": "https://localhost:8080/",
          "height": 503
        },
        "outputId": "149f66b5-ed2a-4f24-be70-5afc0e0a950b"
      },
      "source": [
        "from torchtext.data.metrics import bleu_score\n",
        "\n",
        "def calculate_bleu(data, src_field, trg_field, model, device, max_len = 50):\n",
        "    \n",
        "    trgs = []\n",
        "    pred_trgs = []\n",
        "    \n",
        "    for datum in data:\n",
        "        \n",
        "        src = vars(datum)['src']\n",
        "        trg = vars(datum)['trg']\n",
        "        \n",
        "        pred_trg, _ = translate_sentence(src, src_field, trg_field, model, device, max_len)\n",
        "        \n",
        "        #cut off <eos> token\n",
        "        pred_trg = pred_trg[:-1]\n",
        "        \n",
        "        pred_trgs.append(pred_trg)\n",
        "        trgs.append([trg])\n",
        "        \n",
        "    return bleu_score(pred_trgs, trgs)"
      ],
      "execution_count": 48,
      "outputs": [
        {
          "output_type": "error",
          "ename": "ImportError",
          "evalue": "ignored",
          "traceback": [
            "\u001b[0;31m---------------------------------------------------------------------------\u001b[0m",
            "\u001b[0;31mImportError\u001b[0m                               Traceback (most recent call last)",
            "\u001b[0;32m<ipython-input-48-7d9d8b176fbd>\u001b[0m in \u001b[0;36m<module>\u001b[0;34m()\u001b[0m\n\u001b[0;32m----> 1\u001b[0;31m \u001b[0;32mfrom\u001b[0m \u001b[0mtorchtext\u001b[0m\u001b[0;34m.\u001b[0m\u001b[0mdata\u001b[0m\u001b[0;34m.\u001b[0m\u001b[0mmetrics\u001b[0m \u001b[0;32mimport\u001b[0m \u001b[0mbleu_score\u001b[0m\u001b[0;34m\u001b[0m\u001b[0;34m\u001b[0m\u001b[0m\n\u001b[0m\u001b[1;32m      2\u001b[0m \u001b[0;34m\u001b[0m\u001b[0m\n\u001b[1;32m      3\u001b[0m \u001b[0;32mdef\u001b[0m \u001b[0mcalculate_bleu\u001b[0m\u001b[0;34m(\u001b[0m\u001b[0mdata\u001b[0m\u001b[0;34m,\u001b[0m \u001b[0msrc_field\u001b[0m\u001b[0;34m,\u001b[0m \u001b[0mtrg_field\u001b[0m\u001b[0;34m,\u001b[0m \u001b[0mmodel\u001b[0m\u001b[0;34m,\u001b[0m \u001b[0mdevice\u001b[0m\u001b[0;34m,\u001b[0m \u001b[0mmax_len\u001b[0m \u001b[0;34m=\u001b[0m \u001b[0;36m50\u001b[0m\u001b[0;34m)\u001b[0m\u001b[0;34m:\u001b[0m\u001b[0;34m\u001b[0m\u001b[0;34m\u001b[0m\u001b[0m\n\u001b[1;32m      4\u001b[0m \u001b[0;34m\u001b[0m\u001b[0m\n\u001b[1;32m      5\u001b[0m     \u001b[0mtrgs\u001b[0m \u001b[0;34m=\u001b[0m \u001b[0;34m[\u001b[0m\u001b[0;34m]\u001b[0m\u001b[0;34m\u001b[0m\u001b[0;34m\u001b[0m\u001b[0m\n",
            "\u001b[0;32m/usr/local/lib/python3.7/dist-packages/torchtext/data/metrics.py\u001b[0m in \u001b[0;36m<module>\u001b[0;34m()\u001b[0m\n\u001b[1;32m      2\u001b[0m \u001b[0;32mimport\u001b[0m \u001b[0mcollections\u001b[0m\u001b[0;34m\u001b[0m\u001b[0;34m\u001b[0m\u001b[0m\n\u001b[1;32m      3\u001b[0m \u001b[0;32mimport\u001b[0m \u001b[0mtorch\u001b[0m\u001b[0;34m\u001b[0m\u001b[0;34m\u001b[0m\u001b[0m\n\u001b[0;32m----> 4\u001b[0;31m \u001b[0;32mfrom\u001b[0m \u001b[0mtorchtext\u001b[0m\u001b[0;34m.\u001b[0m\u001b[0mdata\u001b[0m\u001b[0;34m.\u001b[0m\u001b[0mutils\u001b[0m \u001b[0;32mimport\u001b[0m \u001b[0mngrams_iterator\u001b[0m\u001b[0;34m\u001b[0m\u001b[0;34m\u001b[0m\u001b[0m\n\u001b[0m\u001b[1;32m      5\u001b[0m \u001b[0;34m\u001b[0m\u001b[0m\n\u001b[1;32m      6\u001b[0m \u001b[0;34m\u001b[0m\u001b[0m\n",
            "\u001b[0;31mImportError\u001b[0m: cannot import name 'ngrams_iterator' from 'torchtext.data.utils' (/usr/local/lib/python3.7/dist-packages/torchtext/data/utils.py)",
            "",
            "\u001b[0;31m---------------------------------------------------------------------------\u001b[0;32m\nNOTE: If your import is failing due to a missing package, you can\nmanually install dependencies using either !pip or !apt.\n\nTo view examples of installing some common dependencies, click the\n\"Open Examples\" button below.\n\u001b[0;31m---------------------------------------------------------------------------\u001b[0m\n"
          ]
        }
      ]
    },
    {
      "cell_type": "markdown",
      "metadata": {
        "id": "6NnQ12Dx_4XI"
      },
      "source": [
        "We get a BLEU score of 36.52, which beats the ~34 of the convolutional sequence-to-sequence model and ~28 of the attention based RNN model. All this whilst having the least amount of parameters and the fastest training time!"
      ]
    },
    {
      "cell_type": "code",
      "metadata": {
        "id": "R4JuDlVk_4XI",
        "colab": {
          "base_uri": "https://localhost:8080/",
          "height": 204
        },
        "outputId": "7a4f1dde-f007-4555-f3a5-83c98ddb7036"
      },
      "source": [
        "bleu_score = calculate_bleu(test_data, SRC, TRG, model, device)\n",
        "\n",
        "print(f'BLEU score = {bleu_score*100:.2f}')"
      ],
      "execution_count": 45,
      "outputs": [
        {
          "output_type": "error",
          "ename": "NameError",
          "evalue": "ignored",
          "traceback": [
            "\u001b[0;31m---------------------------------------------------------------------------\u001b[0m",
            "\u001b[0;31mNameError\u001b[0m                                 Traceback (most recent call last)",
            "\u001b[0;32m<ipython-input-45-fdbcc13fd3c5>\u001b[0m in \u001b[0;36m<module>\u001b[0;34m()\u001b[0m\n\u001b[0;32m----> 1\u001b[0;31m \u001b[0mbleu_score\u001b[0m \u001b[0;34m=\u001b[0m \u001b[0mcalculate_bleu\u001b[0m\u001b[0;34m(\u001b[0m\u001b[0mtest_data\u001b[0m\u001b[0;34m,\u001b[0m \u001b[0mSRC\u001b[0m\u001b[0;34m,\u001b[0m \u001b[0mTRG\u001b[0m\u001b[0;34m,\u001b[0m \u001b[0mmodel\u001b[0m\u001b[0;34m,\u001b[0m \u001b[0mdevice\u001b[0m\u001b[0;34m)\u001b[0m\u001b[0;34m\u001b[0m\u001b[0;34m\u001b[0m\u001b[0m\n\u001b[0m\u001b[1;32m      2\u001b[0m \u001b[0;34m\u001b[0m\u001b[0m\n\u001b[1;32m      3\u001b[0m \u001b[0mprint\u001b[0m\u001b[0;34m(\u001b[0m\u001b[0;34mf'BLEU score = {bleu_score*100:.2f}'\u001b[0m\u001b[0;34m)\u001b[0m\u001b[0;34m\u001b[0m\u001b[0;34m\u001b[0m\u001b[0m\n",
            "\u001b[0;31mNameError\u001b[0m: name 'calculate_bleu' is not defined"
          ]
        }
      ]
    },
    {
      "cell_type": "markdown",
      "metadata": {
        "id": "7icX60Ts_4XI"
      },
      "source": [
        "Congratulations for finishing these tutorials! I hope you've found them useful.\n",
        "\n",
        "If you find any mistakes or want to ask any questions about any of the code or explanations used, feel free to submit a GitHub issue and I will try to correct it ASAP.\n",
        "\n",
        "## Appendix\n",
        "\n",
        "The `calculate_bleu` function above is unoptimized. Below is a significantly faster, vectorized version of it that should be used if needed. Credit for the implementation goes to [@azadyasar](https://github.com/azadyasar)."
      ]
    },
    {
      "cell_type": "code",
      "metadata": {
        "id": "HwNkqWX7_4XJ"
      },
      "source": [
        "def translate_sentence_vectorized(src_tensor, src_field, trg_field, model, device, max_len=50):\n",
        "    assert isinstance(src_tensor, torch.Tensor)\n",
        "\n",
        "    model.eval()\n",
        "    src_mask = model.make_src_mask(src_tensor)\n",
        "\n",
        "    with torch.no_grad():\n",
        "        enc_src = model.encoder(src_tensor, src_mask)\n",
        "    # enc_src = [batch_sz, src_len, hid_dim]\n",
        "\n",
        "    trg_indexes = [[trg_field.vocab.stoi[trg_field.init_token]] for _ in range(len(src_tensor))]\n",
        "    # Even though some examples might have been completed by producing a <eos> token\n",
        "    # we still need to feed them through the model because other are not yet finished\n",
        "    # and all examples act as a batch. Once every single sentence prediction encounters\n",
        "    # <eos> token, then we can stop predicting.\n",
        "    translations_done = [0] * len(src_tensor)\n",
        "    for i in range(max_len):\n",
        "        trg_tensor = torch.LongTensor(trg_indexes).to(device)\n",
        "        trg_mask = model.make_trg_mask(trg_tensor)\n",
        "        with torch.no_grad():\n",
        "            output, attention = model.decoder(trg_tensor, enc_src, trg_mask, src_mask)\n",
        "        pred_tokens = output.argmax(2)[:,-1]\n",
        "        for i, pred_token_i in enumerate(pred_tokens):\n",
        "            trg_indexes[i].append(pred_token_i)\n",
        "            if pred_token_i == trg_field.vocab.stoi[trg_field.eos_token]:\n",
        "                translations_done[i] = 1\n",
        "        if all(translations_done):\n",
        "            break\n",
        "\n",
        "    # Iterate through each predicted example one by one;\n",
        "    # Cut-off the portion including the after the <eos> token\n",
        "    pred_sentences = []\n",
        "    for trg_sentence in trg_indexes:\n",
        "        pred_sentence = []\n",
        "        for i in range(1, len(trg_sentence)):\n",
        "            if trg_sentence[i] == trg_field.vocab.stoi[trg_field.eos_token]:\n",
        "                break\n",
        "            pred_sentence.append(trg_field.vocab.itos[trg_sentence[i]])\n",
        "        pred_sentences.append(pred_sentence)\n",
        "\n",
        "    return pred_sentences, attention"
      ],
      "execution_count": 49,
      "outputs": []
    },
    {
      "cell_type": "code",
      "metadata": {
        "id": "HKxzaafS_4XJ",
        "colab": {
          "base_uri": "https://localhost:8080/",
          "height": 503
        },
        "outputId": "3445ded9-c04c-4ed9-c93c-d0fa1985fb06"
      },
      "source": [
        "from torchtext.data.metrics import bleu_score\n",
        "\n",
        "def calculate_bleu_alt(iterator, src_field, trg_field, model, device, max_len = 50):\n",
        "    trgs = []\n",
        "    pred_trgs = []\n",
        "    with torch.no_grad():\n",
        "        for batch in iterator:\n",
        "            src = batch.src\n",
        "            trg = batch.trg\n",
        "            _trgs = []\n",
        "            for sentence in trg:\n",
        "                tmp = []\n",
        "                # Start from the first token which skips the <start> token\n",
        "                for i in sentence[1:]:\n",
        "                    # Targets are padded. So stop appending as soon as a padding or eos token is encountered\n",
        "                    if i == trg_field.vocab.stoi[trg_field.eos_token] or i == trg_field.vocab.stoi[trg_field.pad_token]:\n",
        "                        break\n",
        "                    tmp.append(trg_field.vocab.itos[i])\n",
        "                _trgs.append([tmp])\n",
        "            trgs += _trgs\n",
        "            pred_trg, _ = translate_sentence_vectorized(src, src_field, trg_field, model, device)\n",
        "            pred_trgs += pred_trg\n",
        "    return pred_trgs, trgs, bleu_score(pred_trgs, trgs)"
      ],
      "execution_count": 51,
      "outputs": [
        {
          "output_type": "error",
          "ename": "ImportError",
          "evalue": "ignored",
          "traceback": [
            "\u001b[0;31m---------------------------------------------------------------------------\u001b[0m",
            "\u001b[0;31mImportError\u001b[0m                               Traceback (most recent call last)",
            "\u001b[0;32m<ipython-input-51-f73b8e937593>\u001b[0m in \u001b[0;36m<module>\u001b[0;34m()\u001b[0m\n\u001b[0;32m----> 1\u001b[0;31m \u001b[0;32mfrom\u001b[0m \u001b[0mtorchtext\u001b[0m\u001b[0;34m.\u001b[0m\u001b[0mdata\u001b[0m\u001b[0;34m.\u001b[0m\u001b[0mmetrics\u001b[0m \u001b[0;32mimport\u001b[0m \u001b[0mbleu_score\u001b[0m\u001b[0;34m\u001b[0m\u001b[0;34m\u001b[0m\u001b[0m\n\u001b[0m\u001b[1;32m      2\u001b[0m \u001b[0;34m\u001b[0m\u001b[0m\n\u001b[1;32m      3\u001b[0m \u001b[0;32mdef\u001b[0m \u001b[0mcalculate_bleu_alt\u001b[0m\u001b[0;34m(\u001b[0m\u001b[0miterator\u001b[0m\u001b[0;34m,\u001b[0m \u001b[0msrc_field\u001b[0m\u001b[0;34m,\u001b[0m \u001b[0mtrg_field\u001b[0m\u001b[0;34m,\u001b[0m \u001b[0mmodel\u001b[0m\u001b[0;34m,\u001b[0m \u001b[0mdevice\u001b[0m\u001b[0;34m,\u001b[0m \u001b[0mmax_len\u001b[0m \u001b[0;34m=\u001b[0m \u001b[0;36m50\u001b[0m\u001b[0;34m)\u001b[0m\u001b[0;34m:\u001b[0m\u001b[0;34m\u001b[0m\u001b[0;34m\u001b[0m\u001b[0m\n\u001b[1;32m      4\u001b[0m     \u001b[0mtrgs\u001b[0m \u001b[0;34m=\u001b[0m \u001b[0;34m[\u001b[0m\u001b[0;34m]\u001b[0m\u001b[0;34m\u001b[0m\u001b[0;34m\u001b[0m\u001b[0m\n\u001b[1;32m      5\u001b[0m     \u001b[0mpred_trgs\u001b[0m \u001b[0;34m=\u001b[0m \u001b[0;34m[\u001b[0m\u001b[0;34m]\u001b[0m\u001b[0;34m\u001b[0m\u001b[0;34m\u001b[0m\u001b[0m\n",
            "\u001b[0;32m/usr/local/lib/python3.7/dist-packages/torchtext/data/metrics.py\u001b[0m in \u001b[0;36m<module>\u001b[0;34m()\u001b[0m\n\u001b[1;32m      2\u001b[0m \u001b[0;32mimport\u001b[0m \u001b[0mcollections\u001b[0m\u001b[0;34m\u001b[0m\u001b[0;34m\u001b[0m\u001b[0m\n\u001b[1;32m      3\u001b[0m \u001b[0;32mimport\u001b[0m \u001b[0mtorch\u001b[0m\u001b[0;34m\u001b[0m\u001b[0;34m\u001b[0m\u001b[0m\n\u001b[0;32m----> 4\u001b[0;31m \u001b[0;32mfrom\u001b[0m \u001b[0mtorchtext\u001b[0m\u001b[0;34m.\u001b[0m\u001b[0mdata\u001b[0m\u001b[0;34m.\u001b[0m\u001b[0mutils\u001b[0m \u001b[0;32mimport\u001b[0m \u001b[0mngrams_iterator\u001b[0m\u001b[0;34m\u001b[0m\u001b[0;34m\u001b[0m\u001b[0m\n\u001b[0m\u001b[1;32m      5\u001b[0m \u001b[0;34m\u001b[0m\u001b[0m\n\u001b[1;32m      6\u001b[0m \u001b[0;34m\u001b[0m\u001b[0m\n",
            "\u001b[0;31mImportError\u001b[0m: cannot import name 'ngrams_iterator' from 'torchtext.data.utils' (/usr/local/lib/python3.7/dist-packages/torchtext/data/utils.py)",
            "",
            "\u001b[0;31m---------------------------------------------------------------------------\u001b[0;32m\nNOTE: If your import is failing due to a missing package, you can\nmanually install dependencies using either !pip or !apt.\n\nTo view examples of installing some common dependencies, click the\n\"Open Examples\" button below.\n\u001b[0;31m---------------------------------------------------------------------------\u001b[0m\n"
          ]
        }
      ]
    },
    {
      "cell_type": "markdown",
      "metadata": {
        "id": "dTKaX6slIIAy"
      },
      "source": [
        "# 여기서부터 TEST"
      ]
    },
    {
      "cell_type": "code",
      "metadata": {
        "colab": {
          "base_uri": "https://localhost:8080/"
        },
        "id": "z8G99UP3gzA-",
        "outputId": "c58d6a0a-b562-4792-cc84-b100510a32d6"
      },
      "source": [
        "import urllib.request\r\n",
        "import nltk\r\n",
        "nltk.download('punkt')\r\n",
        "\r\n",
        "# 간단한 전처리\r\n",
        "def clean_text(txt):\r\n",
        "    txt = txt.replace('\\n',' ')\r\n",
        "    txt = txt.replace('\\r',' ')    \r\n",
        "    txt = txt.replace('=','')\r\n",
        "    txt = txt.replace('\\\"','')   \r\n",
        "    txt = txt.replace('\\'','')\r\n",
        "    #txt = txt.replace(',','')\r\n",
        "    txt = txt.replace('..','')\r\n",
        "    txt = txt.replace('...','')\r\n",
        "    #txt = txt.replace('.','. ')\r\n",
        "    txt = txt.replace('.','. ')\r\n",
        "    txt = txt.replace('  ',' ')\r\n",
        "    txt = txt.replace('  ',' ')    \r\n",
        "    txt = txt.replace('  ',' ')   \r\n",
        "    txt = txt.replace('  ',' ')           \r\n",
        "    txt = txt.replace('  ',' ')\r\n",
        "    txt = txt.replace('  ',' ')    \r\n",
        "    txt = txt.replace('  ',' ')   \r\n",
        "    txt = txt.replace('  ',' ')             \r\n",
        "    return txt.strip()\r\n",
        "\r\n",
        "def collect_training_dataset_for_s2s_generator(source_urls=[]):\r\n",
        "    ko_sentences_dataset = []\r\n",
        "    for url in source_urls:\r\n",
        "        raw_text = urllib.request.urlopen(url).read().decode('utf-8')\r\n",
        "        ko_sentences_dataset += nltk.sent_tokenize(clean_text(raw_text))\r\n",
        "\r\n",
        "    sentences = []\r\n",
        "    for txt in ko_sentences_dataset:\r\n",
        "        txt = txt.strip()\r\n",
        "        if len(txt) > 40 and txt.endswith('다.'):\r\n",
        "            #ko_grammar_dataset.append([txt,1])\r\n",
        "            txt = txt.replace('.','')\r\n",
        "            sentences.append(txt)\r\n",
        "\r\n",
        "    return sentences"
      ],
      "execution_count": 3,
      "outputs": [
        {
          "output_type": "stream",
          "text": [
            "[nltk_data] Downloading package punkt to /root/nltk_data...\n",
            "[nltk_data]   Unzipping tokenizers/punkt.zip.\n"
          ],
          "name": "stdout"
        }
      ]
    },
    {
      "cell_type": "code",
      "metadata": {
        "id": "_i8PFwfEhXle"
      },
      "source": [
        "urls = ['https://raw.githubusercontent.com/dolmani38/Summary/master/data/korean_sample.txt',\r\n",
        "        'https://raw.githubusercontent.com/dolmani38/Summary/master/data/%EC%95%A0%EA%B1%B0%EC%84%9C%ED%81%AC%EB%A6%AC%EC%8A%A4%ED%8B%B0-ABC%20%EC%82%B4%EC%9D%B8%EC%82%AC%EA%B1%B4.txt',\r\n",
        "        'https://raw.githubusercontent.com/dolmani38/Summary/master/data/%EC%95%A0%EA%B1%B0%EC%84%9C%ED%81%AC%EB%A6%AC%EC%8A%A4%ED%8B%B0-%EA%B7%B8%EB%A6%AC%EA%B3%A0%20%EC%95%84%EB%AC%B4%EB%8F%84%20%EC%97%86%EC%97%88%EB%8B%A4.txt',\r\n",
        "        'https://raw.githubusercontent.com/dolmani38/Summary/master/data/%EC%95%A0%EA%B1%B0%EC%84%9C%ED%81%AC%EB%A6%AC%EC%8A%A4%ED%8B%B0-%EB%82%98%EC%9D%BC%EA%B0%95%EC%9D%98%20%EC%A3%BD%EC%9D%8C.txt',\r\n",
        "        'https://raw.githubusercontent.com/dolmani38/Summary/master/data/%EC%95%A0%EA%B1%B0%EC%84%9C%ED%81%AC%EB%A6%AC%EC%8A%A4%ED%8B%B0-%EB%A7%8C%EC%B0%AC%ED%9A%8C%EC%9D%98%2013%EC%9D%B8.txt',\r\n",
        "        'https://raw.githubusercontent.com/dolmani38/Summary/master/data/%EC%95%A0%EA%B1%B0%EC%84%9C%ED%81%AC%EB%A6%AC%EC%8A%A4%ED%8B%B0-%EB%A9%94%EC%86%8C%ED%8F%AC%ED%83%80%EB%AF%B8%EC%95%84%EC%9D%98%20%EC%A3%BD%EC%9D%8C.txt',\r\n",
        "        'https://raw.githubusercontent.com/dolmani38/Summary/master/data/%EC%95%A0%EA%B1%B0%EC%84%9C%ED%81%AC%EB%A6%AC%EC%8A%A4%ED%8B%B0-%EB%AA%A9%EC%82%AC%EA%B4%80%EC%82%B4%EC%9D%B8.txt',\r\n",
        "        'https://raw.githubusercontent.com/dolmani38/Summary/master/data/%EC%95%A0%EA%B1%B0%EC%84%9C%ED%81%AC%EB%A6%AC%EC%8A%A4%ED%8B%B0-%EB%B2%99%EC%96%B4%EB%A6%AC%20%EB%AA%A9%EA%B2%A9%EC%9E%90.txt',\r\n",
        "        'https://raw.githubusercontent.com/dolmani38/Summary/master/data/%EC%95%A0%EA%B1%B0%EC%84%9C%ED%81%AC%EB%A6%AC%EC%8A%A4%ED%8B%B0-%EB%B9%84%EB%B0%80%20%EC%84%9C%EB%A5%98%EB%A5%BC%20%EB%85%B8%EB%A0%A4%EB%9D%BC.txt',\r\n",
        "        'https://raw.githubusercontent.com/dolmani38/Summary/master/data/%EC%95%A0%EA%B1%B0%EC%84%9C%ED%81%AC%EB%A6%AC%EC%8A%A4%ED%8B%B0-%EC%8A%A4%ED%8E%98%EC%9D%B8%EA%B6%A4%EC%A7%9D%EC%9D%98%20%EB%B9%84%EB%B0%80.txt',\r\n",
        "        'https://raw.githubusercontent.com/dolmani38/Summary/master/data/%EC%95%A0%EA%B1%B0%EC%84%9C%ED%81%AC%EB%A6%AC%EC%8A%A4%ED%8B%B0-%EC%95%84%ED%8C%8C%ED%8A%B8%EC%97%90%20%EB%82%98%ED%83%80%EB%82%9C%20%EC%9A%94%EC%A0%95.txt',\r\n",
        "        'https://raw.githubusercontent.com/dolmani38/Summary/master/data/%EC%95%A0%EA%B1%B0%EC%84%9C%ED%81%AC%EB%A6%AC%EC%8A%A4%ED%8B%B0-%EC%95%A0%ED%81%AC%EB%A1%9C%EC%9D%B4%EB%93%9C%20%EC%82%B4%EC%9D%B8%20%EC%82%AC%EA%B1%B4.txt',\r\n",
        "        'https://raw.githubusercontent.com/dolmani38/Summary/master/data/%EC%95%A0%EA%B1%B0%EC%84%9C%ED%81%AC%EB%A6%AC%EC%8A%A4%ED%8B%B0-%EC%98%88%EA%B3%A0%20%EC%82%B4%EC%9D%B8.txt',\r\n",
        "        'https://raw.githubusercontent.com/dolmani38/Summary/master/data/%EC%95%A0%EA%B1%B0%EC%84%9C%ED%81%AC%EB%A6%AC%EC%8A%A4%ED%8B%B0-%EC%A5%90%EB%8D%AB.txt',\r\n",
        "        'https://raw.githubusercontent.com/dolmani38/Summary/master/data/%EC%95%A0%EA%B1%B0%EC%84%9C%ED%81%AC%EB%A6%AC%EC%8A%A4%ED%8B%B0-%EC%BB%A4%ED%8A%BC.txt',\r\n",
        "        'https://raw.githubusercontent.com/dolmani38/Summary/master/data/%EC%95%A0%EA%B1%B0%EC%84%9C%ED%81%AC%EB%A6%AC%EC%8A%A4%ED%8B%B0-%ED%81%AC%EB%A6%AC%EC%8A%A4%EB%A7%88%EC%8A%A4%20%ED%91%B8%EB%94%A9%EC%9D%98%20%EB%AA%A8%ED%97%98.txt',\r\n",
        "        'https://raw.githubusercontent.com/dolmani38/Summary/master/data/%EC%95%A0%EA%B1%B0%EC%84%9C%ED%81%AC%EB%A6%AC%EC%8A%A4%ED%8B%B0-%ED%91%B8%EB%A5%B8%EC%97%B4%EC%B0%A8%EC%9D%98%EC%A3%BD%EC%9D%8C.txt',\r\n",
        "        'https://raw.githubusercontent.com/dolmani38/Summary/master/data/%EC%95%A0%EA%B1%B0%EC%84%9C%ED%81%AC%EB%A6%AC%EC%8A%A4%ED%8B%B0-%ED%99%94%EC%9A%94%EC%9D%BC%20%ED%81%B4%EB%9F%BD%EC%9D%98%20%EC%82%B4%EC%9D%B8.txt']\r\n",
        "sentences = collect_training_dataset_for_s2s_generator(source_urls=urls)"
      ],
      "execution_count": 4,
      "outputs": []
    },
    {
      "cell_type": "code",
      "metadata": {
        "colab": {
          "base_uri": "https://localhost:8080/"
        },
        "id": "pFoSKILDiVDE",
        "outputId": "e0e43890-4fe3-45b9-ec14-255f442f27d2"
      },
      "source": [
        "len(sentences)"
      ],
      "execution_count": 5,
      "outputs": [
        {
          "output_type": "execute_result",
          "data": {
            "text/plain": [
              "23365"
            ]
          },
          "metadata": {
            "tags": []
          },
          "execution_count": 5
        }
      ]
    },
    {
      "cell_type": "code",
      "metadata": {
        "colab": {
          "base_uri": "https://localhost:8080/"
        },
        "id": "tQDZ-X6iiT1U",
        "outputId": "3e04f338-8baa-42f3-9ec8-b77e5a0147cb"
      },
      "source": [
        "!pip install keybert\r\n",
        "!pip install sentence-transformers==0.3.0\r\n",
        "!pip install transformers==3.0.2"
      ],
      "execution_count": 6,
      "outputs": [
        {
          "output_type": "stream",
          "text": [
            "Collecting keybert\n",
            "  Downloading https://files.pythonhosted.org/packages/5d/f4/65853bfc2ded495af3341a3f8938f17799d15a65be0150cb57774e1fb59f/keybert-0.2.0.tar.gz\n",
            "Collecting sentence-transformers>=0.3.8\n",
            "\u001b[?25l  Downloading https://files.pythonhosted.org/packages/6a/e2/84d6acfcee2d83164149778a33b6bdd1a74e1bcb59b2b2cd1b861359b339/sentence-transformers-0.4.1.2.tar.gz (64kB)\n",
            "\u001b[K     |████████████████████████████████| 71kB 6.6MB/s \n",
            "\u001b[?25hRequirement already satisfied: scikit-learn>=0.22.2 in /usr/local/lib/python3.7/dist-packages (from keybert) (0.22.2.post1)\n",
            "Requirement already satisfied: numpy>=1.18.5 in /usr/local/lib/python3.7/dist-packages (from keybert) (1.19.5)\n",
            "Collecting transformers<5.0.0,>=3.1.0\n",
            "\u001b[?25l  Downloading https://files.pythonhosted.org/packages/f9/54/5ca07ec9569d2f232f3166de5457b63943882f7950ddfcc887732fc7fb23/transformers-4.3.3-py3-none-any.whl (1.9MB)\n",
            "\u001b[K     |████████████████████████████████| 1.9MB 18.9MB/s \n",
            "\u001b[?25hRequirement already satisfied: tqdm in /usr/local/lib/python3.7/dist-packages (from sentence-transformers>=0.3.8->keybert) (4.41.1)\n",
            "Requirement already satisfied: torch>=1.6.0 in /usr/local/lib/python3.7/dist-packages (from sentence-transformers>=0.3.8->keybert) (1.7.1+cu101)\n",
            "Requirement already satisfied: scipy in /usr/local/lib/python3.7/dist-packages (from sentence-transformers>=0.3.8->keybert) (1.4.1)\n",
            "Requirement already satisfied: nltk in /usr/local/lib/python3.7/dist-packages (from sentence-transformers>=0.3.8->keybert) (3.2.5)\n",
            "Collecting sentencepiece\n",
            "\u001b[?25l  Downloading https://files.pythonhosted.org/packages/f5/99/e0808cb947ba10f575839c43e8fafc9cc44e4a7a2c8f79c60db48220a577/sentencepiece-0.1.95-cp37-cp37m-manylinux2014_x86_64.whl (1.2MB)\n",
            "\u001b[K     |████████████████████████████████| 1.2MB 52.7MB/s \n",
            "\u001b[?25hRequirement already satisfied: joblib>=0.11 in /usr/local/lib/python3.7/dist-packages (from scikit-learn>=0.22.2->keybert) (1.0.1)\n",
            "Requirement already satisfied: filelock in /usr/local/lib/python3.7/dist-packages (from transformers<5.0.0,>=3.1.0->sentence-transformers>=0.3.8->keybert) (3.0.12)\n",
            "Requirement already satisfied: packaging in /usr/local/lib/python3.7/dist-packages (from transformers<5.0.0,>=3.1.0->sentence-transformers>=0.3.8->keybert) (20.9)\n",
            "Requirement already satisfied: regex!=2019.12.17 in /usr/local/lib/python3.7/dist-packages (from transformers<5.0.0,>=3.1.0->sentence-transformers>=0.3.8->keybert) (2019.12.20)\n",
            "Collecting sacremoses\n",
            "\u001b[?25l  Downloading https://files.pythonhosted.org/packages/7d/34/09d19aff26edcc8eb2a01bed8e98f13a1537005d31e95233fd48216eed10/sacremoses-0.0.43.tar.gz (883kB)\n",
            "\u001b[K     |████████████████████████████████| 890kB 54.6MB/s \n",
            "\u001b[?25hCollecting tokenizers<0.11,>=0.10.1\n",
            "\u001b[?25l  Downloading https://files.pythonhosted.org/packages/71/23/2ddc317b2121117bf34dd00f5b0de194158f2a44ee2bf5e47c7166878a97/tokenizers-0.10.1-cp37-cp37m-manylinux2010_x86_64.whl (3.2MB)\n",
            "\u001b[K     |████████████████████████████████| 3.2MB 49.6MB/s \n",
            "\u001b[?25hRequirement already satisfied: requests in /usr/local/lib/python3.7/dist-packages (from transformers<5.0.0,>=3.1.0->sentence-transformers>=0.3.8->keybert) (2.23.0)\n",
            "Requirement already satisfied: importlib-metadata; python_version < \"3.8\" in /usr/local/lib/python3.7/dist-packages (from transformers<5.0.0,>=3.1.0->sentence-transformers>=0.3.8->keybert) (3.7.0)\n",
            "Requirement already satisfied: typing-extensions in /usr/local/lib/python3.7/dist-packages (from torch>=1.6.0->sentence-transformers>=0.3.8->keybert) (3.7.4.3)\n",
            "Requirement already satisfied: six in /usr/local/lib/python3.7/dist-packages (from nltk->sentence-transformers>=0.3.8->keybert) (1.15.0)\n",
            "Requirement already satisfied: pyparsing>=2.0.2 in /usr/local/lib/python3.7/dist-packages (from packaging->transformers<5.0.0,>=3.1.0->sentence-transformers>=0.3.8->keybert) (2.4.7)\n",
            "Requirement already satisfied: click in /usr/local/lib/python3.7/dist-packages (from sacremoses->transformers<5.0.0,>=3.1.0->sentence-transformers>=0.3.8->keybert) (7.1.2)\n",
            "Requirement already satisfied: idna<3,>=2.5 in /usr/local/lib/python3.7/dist-packages (from requests->transformers<5.0.0,>=3.1.0->sentence-transformers>=0.3.8->keybert) (2.10)\n",
            "Requirement already satisfied: chardet<4,>=3.0.2 in /usr/local/lib/python3.7/dist-packages (from requests->transformers<5.0.0,>=3.1.0->sentence-transformers>=0.3.8->keybert) (3.0.4)\n",
            "Requirement already satisfied: certifi>=2017.4.17 in /usr/local/lib/python3.7/dist-packages (from requests->transformers<5.0.0,>=3.1.0->sentence-transformers>=0.3.8->keybert) (2020.12.5)\n",
            "Requirement already satisfied: urllib3!=1.25.0,!=1.25.1,<1.26,>=1.21.1 in /usr/local/lib/python3.7/dist-packages (from requests->transformers<5.0.0,>=3.1.0->sentence-transformers>=0.3.8->keybert) (1.24.3)\n",
            "Requirement already satisfied: zipp>=0.5 in /usr/local/lib/python3.7/dist-packages (from importlib-metadata; python_version < \"3.8\"->transformers<5.0.0,>=3.1.0->sentence-transformers>=0.3.8->keybert) (3.4.0)\n",
            "Building wheels for collected packages: keybert, sentence-transformers, sacremoses\n",
            "  Building wheel for keybert (setup.py) ... \u001b[?25l\u001b[?25hdone\n",
            "  Created wheel for keybert: filename=keybert-0.2.0-cp37-none-any.whl size=10599 sha256=83e078a2270b95402526607823474300e441273126b839c7d2881ad6fc56875c\n",
            "  Stored in directory: /root/.cache/pip/wheels/59/d7/16/04bab6677a4dfa9fd8ab2b350bac915d60f5378b83d6f5a372\n",
            "  Building wheel for sentence-transformers (setup.py) ... \u001b[?25l\u001b[?25hdone\n",
            "  Created wheel for sentence-transformers: filename=sentence_transformers-0.4.1.2-cp37-none-any.whl size=103068 sha256=235eced9047f8a5678f430a6ff57ba56d4c88fef2f9d55fbfd4b39d466322094\n",
            "  Stored in directory: /root/.cache/pip/wheels/3d/33/d1/5703dd56199c09d4a1b41e0c07fb4e7765a84d787cbdc48ac3\n",
            "  Building wheel for sacremoses (setup.py) ... \u001b[?25l\u001b[?25hdone\n",
            "  Created wheel for sacremoses: filename=sacremoses-0.0.43-cp37-none-any.whl size=893262 sha256=ac9f0091cafc15802b8f0c137a6b0418a012530032cc1428f79c6d54a34637b8\n",
            "  Stored in directory: /root/.cache/pip/wheels/29/3c/fd/7ce5c3f0666dab31a50123635e6fb5e19ceb42ce38d4e58f45\n",
            "Successfully built keybert sentence-transformers sacremoses\n",
            "Installing collected packages: sacremoses, tokenizers, transformers, sentencepiece, sentence-transformers, keybert\n",
            "Successfully installed keybert-0.2.0 sacremoses-0.0.43 sentence-transformers-0.4.1.2 sentencepiece-0.1.95 tokenizers-0.10.1 transformers-4.3.3\n",
            "Collecting sentence-transformers==0.3.0\n",
            "\u001b[?25l  Downloading https://files.pythonhosted.org/packages/d5/23/833e0620753a36cb2f18e2e4a4f72fd8c49c123c3f07744b69f8a592e083/sentence-transformers-0.3.0.tar.gz (61kB)\n",
            "\u001b[K     |████████████████████████████████| 71kB 8.5MB/s \n",
            "\u001b[?25hRequirement already satisfied: transformers>=3.0.2 in /usr/local/lib/python3.7/dist-packages (from sentence-transformers==0.3.0) (4.3.3)\n",
            "Requirement already satisfied: tqdm in /usr/local/lib/python3.7/dist-packages (from sentence-transformers==0.3.0) (4.41.1)\n",
            "Requirement already satisfied: torch>=1.0.1 in /usr/local/lib/python3.7/dist-packages (from sentence-transformers==0.3.0) (1.7.1+cu101)\n",
            "Requirement already satisfied: numpy in /usr/local/lib/python3.7/dist-packages (from sentence-transformers==0.3.0) (1.19.5)\n",
            "Requirement already satisfied: scikit-learn in /usr/local/lib/python3.7/dist-packages (from sentence-transformers==0.3.0) (0.22.2.post1)\n",
            "Requirement already satisfied: scipy in /usr/local/lib/python3.7/dist-packages (from sentence-transformers==0.3.0) (1.4.1)\n",
            "Requirement already satisfied: nltk in /usr/local/lib/python3.7/dist-packages (from sentence-transformers==0.3.0) (3.2.5)\n",
            "Requirement already satisfied: sacremoses in /usr/local/lib/python3.7/dist-packages (from transformers>=3.0.2->sentence-transformers==0.3.0) (0.0.43)\n",
            "Requirement already satisfied: importlib-metadata; python_version < \"3.8\" in /usr/local/lib/python3.7/dist-packages (from transformers>=3.0.2->sentence-transformers==0.3.0) (3.7.0)\n",
            "Requirement already satisfied: packaging in /usr/local/lib/python3.7/dist-packages (from transformers>=3.0.2->sentence-transformers==0.3.0) (20.9)\n",
            "Requirement already satisfied: filelock in /usr/local/lib/python3.7/dist-packages (from transformers>=3.0.2->sentence-transformers==0.3.0) (3.0.12)\n",
            "Requirement already satisfied: regex!=2019.12.17 in /usr/local/lib/python3.7/dist-packages (from transformers>=3.0.2->sentence-transformers==0.3.0) (2019.12.20)\n",
            "Requirement already satisfied: requests in /usr/local/lib/python3.7/dist-packages (from transformers>=3.0.2->sentence-transformers==0.3.0) (2.23.0)\n",
            "Requirement already satisfied: tokenizers<0.11,>=0.10.1 in /usr/local/lib/python3.7/dist-packages (from transformers>=3.0.2->sentence-transformers==0.3.0) (0.10.1)\n",
            "Requirement already satisfied: typing-extensions in /usr/local/lib/python3.7/dist-packages (from torch>=1.0.1->sentence-transformers==0.3.0) (3.7.4.3)\n",
            "Requirement already satisfied: joblib>=0.11 in /usr/local/lib/python3.7/dist-packages (from scikit-learn->sentence-transformers==0.3.0) (1.0.1)\n",
            "Requirement already satisfied: six in /usr/local/lib/python3.7/dist-packages (from nltk->sentence-transformers==0.3.0) (1.15.0)\n",
            "Requirement already satisfied: click in /usr/local/lib/python3.7/dist-packages (from sacremoses->transformers>=3.0.2->sentence-transformers==0.3.0) (7.1.2)\n",
            "Requirement already satisfied: zipp>=0.5 in /usr/local/lib/python3.7/dist-packages (from importlib-metadata; python_version < \"3.8\"->transformers>=3.0.2->sentence-transformers==0.3.0) (3.4.0)\n",
            "Requirement already satisfied: pyparsing>=2.0.2 in /usr/local/lib/python3.7/dist-packages (from packaging->transformers>=3.0.2->sentence-transformers==0.3.0) (2.4.7)\n",
            "Requirement already satisfied: chardet<4,>=3.0.2 in /usr/local/lib/python3.7/dist-packages (from requests->transformers>=3.0.2->sentence-transformers==0.3.0) (3.0.4)\n",
            "Requirement already satisfied: urllib3!=1.25.0,!=1.25.1,<1.26,>=1.21.1 in /usr/local/lib/python3.7/dist-packages (from requests->transformers>=3.0.2->sentence-transformers==0.3.0) (1.24.3)\n",
            "Requirement already satisfied: idna<3,>=2.5 in /usr/local/lib/python3.7/dist-packages (from requests->transformers>=3.0.2->sentence-transformers==0.3.0) (2.10)\n",
            "Requirement already satisfied: certifi>=2017.4.17 in /usr/local/lib/python3.7/dist-packages (from requests->transformers>=3.0.2->sentence-transformers==0.3.0) (2020.12.5)\n",
            "Building wheels for collected packages: sentence-transformers\n",
            "  Building wheel for sentence-transformers (setup.py) ... \u001b[?25l\u001b[?25hdone\n",
            "  Created wheel for sentence-transformers: filename=sentence_transformers-0.3.0-cp37-none-any.whl size=86754 sha256=aadfb8996533a1cfdab1b4c9e4448fdf3330ecc554447fcd718e2eda70a578de\n",
            "  Stored in directory: /root/.cache/pip/wheels/b8/23/85/85d6a9a6c68f0625a1ecdaad903bb0a78df058c10cf74f9de4\n",
            "Successfully built sentence-transformers\n",
            "\u001b[31mERROR: keybert 0.2.0 has requirement sentence-transformers>=0.3.8, but you'll have sentence-transformers 0.3.0 which is incompatible.\u001b[0m\n",
            "Installing collected packages: sentence-transformers\n",
            "  Found existing installation: sentence-transformers 0.4.1.2\n",
            "    Uninstalling sentence-transformers-0.4.1.2:\n",
            "      Successfully uninstalled sentence-transformers-0.4.1.2\n",
            "Successfully installed sentence-transformers-0.3.0\n",
            "Collecting transformers==3.0.2\n",
            "\u001b[?25l  Downloading https://files.pythonhosted.org/packages/27/3c/91ed8f5c4e7ef3227b4119200fc0ed4b4fd965b1f0172021c25701087825/transformers-3.0.2-py3-none-any.whl (769kB)\n",
            "\u001b[K     |████████████████████████████████| 778kB 21.2MB/s \n",
            "\u001b[?25hRequirement already satisfied: numpy in /usr/local/lib/python3.7/dist-packages (from transformers==3.0.2) (1.19.5)\n",
            "Requirement already satisfied: tqdm>=4.27 in /usr/local/lib/python3.7/dist-packages (from transformers==3.0.2) (4.41.1)\n",
            "Collecting tokenizers==0.8.1.rc1\n",
            "\u001b[?25l  Downloading https://files.pythonhosted.org/packages/02/59/68c7e3833f535615fb97d33ffcb7b30bbf62bc7477a9c59cd19ad8535d72/tokenizers-0.8.1rc1-cp37-cp37m-manylinux1_x86_64.whl (3.0MB)\n",
            "\u001b[K     |████████████████████████████████| 3.0MB 48.1MB/s \n",
            "\u001b[?25hRequirement already satisfied: filelock in /usr/local/lib/python3.7/dist-packages (from transformers==3.0.2) (3.0.12)\n",
            "Requirement already satisfied: requests in /usr/local/lib/python3.7/dist-packages (from transformers==3.0.2) (2.23.0)\n",
            "Requirement already satisfied: packaging in /usr/local/lib/python3.7/dist-packages (from transformers==3.0.2) (20.9)\n",
            "Requirement already satisfied: sentencepiece!=0.1.92 in /usr/local/lib/python3.7/dist-packages (from transformers==3.0.2) (0.1.95)\n",
            "Requirement already satisfied: sacremoses in /usr/local/lib/python3.7/dist-packages (from transformers==3.0.2) (0.0.43)\n",
            "Requirement already satisfied: regex!=2019.12.17 in /usr/local/lib/python3.7/dist-packages (from transformers==3.0.2) (2019.12.20)\n",
            "Requirement already satisfied: certifi>=2017.4.17 in /usr/local/lib/python3.7/dist-packages (from requests->transformers==3.0.2) (2020.12.5)\n",
            "Requirement already satisfied: idna<3,>=2.5 in /usr/local/lib/python3.7/dist-packages (from requests->transformers==3.0.2) (2.10)\n",
            "Requirement already satisfied: urllib3!=1.25.0,!=1.25.1,<1.26,>=1.21.1 in /usr/local/lib/python3.7/dist-packages (from requests->transformers==3.0.2) (1.24.3)\n",
            "Requirement already satisfied: chardet<4,>=3.0.2 in /usr/local/lib/python3.7/dist-packages (from requests->transformers==3.0.2) (3.0.4)\n",
            "Requirement already satisfied: pyparsing>=2.0.2 in /usr/local/lib/python3.7/dist-packages (from packaging->transformers==3.0.2) (2.4.7)\n",
            "Requirement already satisfied: six in /usr/local/lib/python3.7/dist-packages (from sacremoses->transformers==3.0.2) (1.15.0)\n",
            "Requirement already satisfied: click in /usr/local/lib/python3.7/dist-packages (from sacremoses->transformers==3.0.2) (7.1.2)\n",
            "Requirement already satisfied: joblib in /usr/local/lib/python3.7/dist-packages (from sacremoses->transformers==3.0.2) (1.0.1)\n",
            "\u001b[31mERROR: keybert 0.2.0 has requirement sentence-transformers>=0.3.8, but you'll have sentence-transformers 0.3.0 which is incompatible.\u001b[0m\n",
            "Installing collected packages: tokenizers, transformers\n",
            "  Found existing installation: tokenizers 0.10.1\n",
            "    Uninstalling tokenizers-0.10.1:\n",
            "      Successfully uninstalled tokenizers-0.10.1\n",
            "  Found existing installation: transformers 4.3.3\n",
            "    Uninstalling transformers-4.3.3:\n",
            "      Successfully uninstalled transformers-4.3.3\n",
            "Successfully installed tokenizers-0.8.1rc1 transformers-3.0.2\n"
          ],
          "name": "stdout"
        }
      ]
    },
    {
      "cell_type": "code",
      "metadata": {
        "colab": {
          "base_uri": "https://localhost:8080/"
        },
        "id": "pLXE7zoSieJg",
        "outputId": "a8f223b2-6b55-4cb7-bc19-039b800df73a"
      },
      "source": [
        "from keybert import KeyBERT\r\n",
        "from sentence_transformers import SentenceTransformer\r\n",
        "\r\n",
        "sentence_model = SentenceTransformer(\"xlm-r-large-en-ko-nli-ststb\")"
      ],
      "execution_count": 7,
      "outputs": [
        {
          "output_type": "stream",
          "text": [
            "100%|██████████| 1.80G/1.80G [00:58<00:00, 30.9MB/s]\n"
          ],
          "name": "stderr"
        }
      ]
    },
    {
      "cell_type": "code",
      "metadata": {
        "id": "i7q8egfDPoTU"
      },
      "source": [
        "key_model = KeyBERT(model=sentence_model)"
      ],
      "execution_count": 8,
      "outputs": []
    },
    {
      "cell_type": "code",
      "metadata": {
        "id": "S9eKRmmQjr6z"
      },
      "source": [
        "# Copyright 2018 Google AI, Google Brain and Carnegie Mellon University Authors and the HuggingFace Inc. team and Jangwon Park\r\n",
        "#\r\n",
        "# Licensed under the Apache License, Version 2.0 (the \"License\");\r\n",
        "# you may not use this file except in compliance with the License.\r\n",
        "# You may obtain a copy of the License at\r\n",
        "#\r\n",
        "#     http://www.apache.org/licenses/LICENSE-2.0\r\n",
        "#\r\n",
        "# Unless required by applicable law or agreed to in writing, software\r\n",
        "# distributed under the License is distributed on an \"AS IS\" BASIS,\r\n",
        "# WITHOUT WARRANTIES OR CONDITIONS OF ANY KIND, either express or implied.\r\n",
        "# See the License for the specific language governing permissions and\r\n",
        "# limitations under the License.\r\n",
        "\"\"\" Tokenization classes for KoBert model.\"\"\"\r\n",
        "\r\n",
        "\r\n",
        "import logging\r\n",
        "import os\r\n",
        "import unicodedata\r\n",
        "from shutil import copyfile\r\n",
        "\r\n",
        "from transformers import PreTrainedTokenizer\r\n",
        "\r\n",
        "\r\n",
        "logger = logging.getLogger(__name__)\r\n",
        "\r\n",
        "VOCAB_FILES_NAMES = {\"vocab_file\": \"tokenizer_78b3253a26.model\",\r\n",
        "                     \"vocab_txt\": \"vocab.txt\"}\r\n",
        "\r\n",
        "PRETRAINED_VOCAB_FILES_MAP = {\r\n",
        "    \"vocab_file\": {\r\n",
        "        \"monologg/kobert\": \"https://s3.amazonaws.com/models.huggingface.co/bert/monologg/kobert/tokenizer_78b3253a26.model\",\r\n",
        "        \"monologg/kobert-lm\": \"https://s3.amazonaws.com/models.huggingface.co/bert/monologg/kobert-lm/tokenizer_78b3253a26.model\",\r\n",
        "        \"monologg/distilkobert\": \"https://s3.amazonaws.com/models.huggingface.co/bert/monologg/distilkobert/tokenizer_78b3253a26.model\"\r\n",
        "    },\r\n",
        "    \"vocab_txt\": {\r\n",
        "        \"monologg/kobert\": \"https://s3.amazonaws.com/models.huggingface.co/bert/monologg/kobert/vocab.txt\",\r\n",
        "        \"monologg/kobert-lm\": \"https://s3.amazonaws.com/models.huggingface.co/bert/monologg/kobert-lm/vocab.txt\",\r\n",
        "        \"monologg/distilkobert\": \"https://s3.amazonaws.com/models.huggingface.co/bert/monologg/distilkobert/vocab.txt\"\r\n",
        "    }\r\n",
        "}\r\n",
        "\r\n",
        "PRETRAINED_POSITIONAL_EMBEDDINGS_SIZES = {\r\n",
        "    \"monologg/kobert\": 512,\r\n",
        "    \"monologg/kobert-lm\": 512,\r\n",
        "    \"monologg/distilkobert\": 512\r\n",
        "}\r\n",
        "\r\n",
        "PRETRAINED_INIT_CONFIGURATION = {\r\n",
        "    \"monologg/kobert\": {\"do_lower_case\": False},\r\n",
        "    \"monologg/kobert-lm\": {\"do_lower_case\": False},\r\n",
        "    \"monologg/distilkobert\": {\"do_lower_case\": False}\r\n",
        "}\r\n",
        "\r\n",
        "SPIECE_UNDERLINE = u'▁'\r\n",
        "\r\n",
        "\r\n",
        "class KoBertTokenizer(PreTrainedTokenizer):\r\n",
        "    \"\"\"\r\n",
        "        SentencePiece based tokenizer. Peculiarities:\r\n",
        "            - requires `SentencePiece <https://github.com/google/sentencepiece>`_\r\n",
        "    \"\"\"\r\n",
        "    vocab_files_names = VOCAB_FILES_NAMES\r\n",
        "    pretrained_vocab_files_map = PRETRAINED_VOCAB_FILES_MAP\r\n",
        "    pretrained_init_configuration = PRETRAINED_INIT_CONFIGURATION\r\n",
        "    max_model_input_sizes = PRETRAINED_POSITIONAL_EMBEDDINGS_SIZES\r\n",
        "\r\n",
        "    def __init__(\r\n",
        "            self,\r\n",
        "            vocab_file,\r\n",
        "            vocab_txt,\r\n",
        "            do_lower_case=False,\r\n",
        "            remove_space=True,\r\n",
        "            keep_accents=False,\r\n",
        "            bos_token=\"[SOS]\",\r\n",
        "            eos_token=\"[EOS]\",\r\n",
        "            unk_token=\"[UNK]\",\r\n",
        "            sep_token=\"[SEP]\",\r\n",
        "            pad_token=\"[PAD]\",\r\n",
        "            cls_token=\"[CLS]\",\r\n",
        "            mask_token=\"[MASK]\",\r\n",
        "            **kwargs):\r\n",
        "        super().__init__(\r\n",
        "            bos_token=bos_token,\r\n",
        "            eos_token=eos_token,\r\n",
        "            unk_token=unk_token,\r\n",
        "            sep_token=sep_token,\r\n",
        "            pad_token=pad_token,\r\n",
        "            cls_token=cls_token,\r\n",
        "            mask_token=mask_token,\r\n",
        "            **kwargs\r\n",
        "        )\r\n",
        "\r\n",
        "        # Build vocab\r\n",
        "        self.token2idx = dict()\r\n",
        "        self.idx2token = []\r\n",
        "        with open(vocab_txt, 'r', encoding='utf-8') as f:\r\n",
        "            for idx, token in enumerate(f):\r\n",
        "                token = token.strip()\r\n",
        "                self.token2idx[token] = idx\r\n",
        "                self.idx2token.append(token)\r\n",
        "\r\n",
        "        try:\r\n",
        "            import sentencepiece as spm\r\n",
        "        except ImportError:\r\n",
        "            logger.warning(\"You need to install SentencePiece to use KoBertTokenizer: https://github.com/google/sentencepiece\"\r\n",
        "                           \"pip install sentencepiece\")\r\n",
        "\r\n",
        "        self.do_lower_case = do_lower_case\r\n",
        "        self.remove_space = remove_space\r\n",
        "        self.keep_accents = keep_accents\r\n",
        "        self.vocab_file = vocab_file\r\n",
        "        self.vocab_txt = vocab_txt\r\n",
        "\r\n",
        "        self.sp_model = spm.SentencePieceProcessor()\r\n",
        "        self.sp_model.Load(vocab_file)\r\n",
        "\r\n",
        "        self.token2idx[bos_token] = len(self.token2idx)\r\n",
        "        self.idx2token.append(bos_token)\r\n",
        "        self.token2idx[eos_token] = len(self.token2idx)\r\n",
        "        self.idx2token.append(eos_token)   \r\n",
        "\r\n",
        "    @property\r\n",
        "    def vocab_size(self):\r\n",
        "        return len(self.idx2token)\r\n",
        "\r\n",
        "    def get_vocab(self):\r\n",
        "        return dict(self.token2idx, **self.added_tokens_encoder)\r\n",
        "\r\n",
        "    def __getstate__(self):\r\n",
        "        state = self.__dict__.copy()\r\n",
        "        state[\"sp_model\"] = None\r\n",
        "        return state\r\n",
        "\r\n",
        "    def __setstate__(self, d):\r\n",
        "        self.__dict__ = d\r\n",
        "        try:\r\n",
        "            import sentencepiece as spm\r\n",
        "        except ImportError:\r\n",
        "            logger.warning(\"You need to install SentencePiece to use KoBertTokenizer: https://github.com/google/sentencepiece\"\r\n",
        "                           \"pip install sentencepiece\")\r\n",
        "        self.sp_model = spm.SentencePieceProcessor()\r\n",
        "        self.sp_model.Load(self.vocab_file)\r\n",
        "\r\n",
        "    def preprocess_text(self, inputs):\r\n",
        "        if self.remove_space:\r\n",
        "            outputs = \" \".join(inputs.strip().split())\r\n",
        "        else:\r\n",
        "            outputs = inputs\r\n",
        "        outputs = outputs.replace(\"``\", '\"').replace(\"''\", '\"')\r\n",
        "\r\n",
        "        if not self.keep_accents:\r\n",
        "            outputs = unicodedata.normalize('NFKD', outputs)\r\n",
        "            outputs = \"\".join([c for c in outputs if not unicodedata.combining(c)])\r\n",
        "        if self.do_lower_case:\r\n",
        "            outputs = outputs.lower()\r\n",
        "\r\n",
        "        return outputs\r\n",
        "\r\n",
        "    def _tokenize(self, text, return_unicode=True, sample=False):\r\n",
        "        \"\"\" Tokenize a string. \"\"\"\r\n",
        "        text = self.preprocess_text(text)\r\n",
        "\r\n",
        "        if not sample:\r\n",
        "            pieces = self.sp_model.EncodeAsPieces(text)\r\n",
        "        else:\r\n",
        "            pieces = self.sp_model.SampleEncodeAsPieces(text, 64, 0.1)\r\n",
        "        new_pieces = []\r\n",
        "        for piece in pieces:\r\n",
        "            if len(piece) > 1 and piece[-1] == str(\",\") and piece[-2].isdigit():\r\n",
        "                cur_pieces = self.sp_model.EncodeAsPieces(piece[:-1].replace(SPIECE_UNDERLINE, \"\"))\r\n",
        "                if piece[0] != SPIECE_UNDERLINE and cur_pieces[0][0] == SPIECE_UNDERLINE:\r\n",
        "                    if len(cur_pieces[0]) == 1:\r\n",
        "                        cur_pieces = cur_pieces[1:]\r\n",
        "                    else:\r\n",
        "                        cur_pieces[0] = cur_pieces[0][1:]\r\n",
        "                cur_pieces.append(piece[-1])\r\n",
        "                new_pieces.extend(cur_pieces)\r\n",
        "            else:\r\n",
        "                new_pieces.append(piece)\r\n",
        "\r\n",
        "        return new_pieces\r\n",
        "\r\n",
        "    def _convert_token_to_id(self, token):\r\n",
        "        \"\"\" Converts a token (str/unicode) in an id using the vocab. \"\"\"\r\n",
        "        return self.token2idx.get(token, self.token2idx[self.unk_token])\r\n",
        "\r\n",
        "    def _convert_id_to_token(self, index, return_unicode=True):\r\n",
        "        \"\"\"Converts an index (integer) in a token (string/unicode) using the vocab.\"\"\"\r\n",
        "        return self.idx2token[index]\r\n",
        "\r\n",
        "    def convert_tokens_to_string(self, tokens):\r\n",
        "        \"\"\"Converts a sequence of tokens (strings for sub-words) in a single string.\"\"\"\r\n",
        "        out_string = \"\".join(tokens).replace(SPIECE_UNDERLINE, \" \").strip()\r\n",
        "        return out_string\r\n",
        "\r\n",
        "    def build_inputs_with_special_tokens(self, token_ids_0, token_ids_1=None):\r\n",
        "        \"\"\"\r\n",
        "        Build model inputs from a sequence or a pair of sequence for sequence classification tasks\r\n",
        "        by concatenating and adding special tokens.\r\n",
        "        A KoBERT sequence has the following format:\r\n",
        "            single sequence: [CLS] X [SEP]\r\n",
        "            pair of sequences: [CLS] A [SEP] B [SEP]\r\n",
        "        \"\"\"\r\n",
        "        if token_ids_1 is None:\r\n",
        "            return [self.cls_token_id] + token_ids_0 + [self.sep_token_id]\r\n",
        "        cls = [self.cls_token_id]\r\n",
        "        sep = [self.sep_token_id]\r\n",
        "        return cls + token_ids_0 + sep + token_ids_1 + sep\r\n",
        "\r\n",
        "    def get_special_tokens_mask(self, token_ids_0, token_ids_1=None, already_has_special_tokens=False):\r\n",
        "        \"\"\"\r\n",
        "        Retrieves sequence ids from a token list that has no special tokens added. This method is called when adding\r\n",
        "        special tokens using the tokenizer ``prepare_for_model`` or ``encode_plus`` methods.\r\n",
        "        Args:\r\n",
        "            token_ids_0: list of ids (must not contain special tokens)\r\n",
        "            token_ids_1: Optional list of ids (must not contain special tokens), necessary when fetching sequence ids\r\n",
        "                for sequence pairs\r\n",
        "            already_has_special_tokens: (default False) Set to True if the token list is already formated with\r\n",
        "                special tokens for the model\r\n",
        "        Returns:\r\n",
        "            A list of integers in the range [0, 1]: 0 for a special token, 1 for a sequence token.\r\n",
        "        \"\"\"\r\n",
        "\r\n",
        "        if already_has_special_tokens:\r\n",
        "            if token_ids_1 is not None:\r\n",
        "                raise ValueError(\r\n",
        "                    \"You should not supply a second sequence if the provided sequence of \"\r\n",
        "                    \"ids is already formated with special tokens for the model.\"\r\n",
        "                )\r\n",
        "            return list(map(lambda x: 1 if x in [self.sep_token_id, self.cls_token_id] else 0, token_ids_0))\r\n",
        "\r\n",
        "        if token_ids_1 is not None:\r\n",
        "            return [1] + ([0] * len(token_ids_0)) + [1] + ([0] * len(token_ids_1)) + [1]\r\n",
        "        return [1] + ([0] * len(token_ids_0)) + [1]\r\n",
        "\r\n",
        "    def create_token_type_ids_from_sequences(self, token_ids_0, token_ids_1=None):\r\n",
        "        \"\"\"\r\n",
        "        Creates a mask from the two sequences passed to be used in a sequence-pair classification task.\r\n",
        "        A KoBERT sequence pair mask has the following format:\r\n",
        "        0 0 0 0 0 0 0 0 0 0 1 1 1 1 1 1 1 1 1 1 1\r\n",
        "        | first sequence    | second sequence\r\n",
        "        if token_ids_1 is None, only returns the first portion of the mask (0's).\r\n",
        "        \"\"\"\r\n",
        "        sep = [self.sep_token_id]\r\n",
        "        cls = [self.cls_token_id]\r\n",
        "        if token_ids_1 is None:\r\n",
        "            return len(cls + token_ids_0 + sep) * [0]\r\n",
        "        return len(cls + token_ids_0 + sep) * [0] + len(token_ids_1 + sep) * [1]\r\n",
        "\r\n",
        "    def save_vocabulary(self, save_directory):\r\n",
        "        \"\"\" Save the sentencepiece vocabulary (copy original file) and special tokens file\r\n",
        "            to a directory.\r\n",
        "        \"\"\"\r\n",
        "        if not os.path.isdir(save_directory):\r\n",
        "            logger.error(\"Vocabulary path ({}) should be a directory\".format(save_directory))\r\n",
        "            return\r\n",
        "\r\n",
        "        # 1. Save sentencepiece model\r\n",
        "        out_vocab_model = os.path.join(save_directory, VOCAB_FILES_NAMES[\"vocab_file\"])\r\n",
        "\r\n",
        "        if os.path.abspath(self.vocab_file) != os.path.abspath(out_vocab_model):\r\n",
        "            copyfile(self.vocab_file, out_vocab_model)\r\n",
        "\r\n",
        "        # 2. Save vocab.txt\r\n",
        "        index = 0\r\n",
        "        out_vocab_txt = os.path.join(save_directory, VOCAB_FILES_NAMES[\"vocab_txt\"])\r\n",
        "        with open(out_vocab_txt, \"w\", encoding=\"utf-8\") as writer:\r\n",
        "            for token, token_index in sorted(self.token2idx.items(), key=lambda kv: kv[1]):\r\n",
        "                if index != token_index:\r\n",
        "                    logger.warning(\r\n",
        "                        \"Saving vocabulary to {}: vocabulary indices are not consecutive.\"\r\n",
        "                        \" Please check that the vocabulary is not corrupted!\".format(out_vocab_txt)\r\n",
        "                    )\r\n",
        "                    index = token_index\r\n",
        "                writer.write(token + \"\\n\")\r\n",
        "                index += 1\r\n",
        "\r\n",
        "        return out_vocab_model, out_vocab_txt\r\n",
        "\r\n",
        "    def tokenize_wl(self,sentence,max_length=128):\r\n",
        "        tokens = ['[SOS]']+self.tokenize(sentence)+['[EOS]']\r\n",
        "        '''\r\n",
        "        if len(tokens) < max_length:\r\n",
        "            tokens += ['[PAD]' for i in range(max_length-len(tokens))]\r\n",
        "        else:\r\n",
        "            tokens = tokens[0:max_length]\r\n",
        "            tokens[max_length-1] = \"[EOS]\"\r\n",
        "        '''    \r\n",
        "        #print(len(tokens))\r\n",
        "        #print(tokens)\r\n",
        "        return tokens\r\n"
      ],
      "execution_count": 9,
      "outputs": []
    },
    {
      "cell_type": "code",
      "metadata": {
        "colab": {
          "base_uri": "https://localhost:8080/",
          "height": 116,
          "referenced_widgets": [
            "394d9e5e451e43379b88369b5de96ae5",
            "51060843a3a14294b772103d28bfe2c1",
            "ee393e5c39f1417bbfb09031da2fa67c",
            "5c10c2aa91e8476dafb5a6bfa131b259",
            "0bc77a924fb0446c89094bf1f3c1f974",
            "286368e71b8f4c2dad266f7c66dbcdae",
            "50fe3c100f0d41c7a93351b156af1d3c",
            "adcfe6829552437fafbe0c6d5e629b2f",
            "0496fc7b8c4e4b7184a5b82baa08227d",
            "b06430fc2414459c80244930a5870451",
            "b6abf203187840b9a2da7d79b22e12d1",
            "a688966fccad4485b7db6e4099e93788",
            "2b05e900fa764d108f7d67044c5e4b52",
            "2dc8566a3c034310882aa4dd299ec192",
            "41b6f239130840c88c60978e8b7c0198",
            "0ef71542687942b98164054dfe10afe3"
          ]
        },
        "id": "DkzG9Nraj0Wz",
        "outputId": "85150cc0-e568-4037-866d-b8be66b9f9d7"
      },
      "source": [
        "pretraoned_kobert_model_name='monologg/kobert'\r\n",
        "tokenizer = KoBertTokenizer.from_pretrained(pretraoned_kobert_model_name)"
      ],
      "execution_count": 10,
      "outputs": [
        {
          "output_type": "display_data",
          "data": {
            "application/vnd.jupyter.widget-view+json": {
              "model_id": "394d9e5e451e43379b88369b5de96ae5",
              "version_minor": 0,
              "version_major": 2
            },
            "text/plain": [
              "HBox(children=(FloatProgress(value=0.0, description='Downloading', max=371391.0, style=ProgressStyle(descripti…"
            ]
          },
          "metadata": {
            "tags": []
          }
        },
        {
          "output_type": "stream",
          "text": [
            "\n"
          ],
          "name": "stdout"
        },
        {
          "output_type": "display_data",
          "data": {
            "application/vnd.jupyter.widget-view+json": {
              "model_id": "0496fc7b8c4e4b7184a5b82baa08227d",
              "version_minor": 0,
              "version_major": 2
            },
            "text/plain": [
              "HBox(children=(FloatProgress(value=0.0, description='Downloading', max=77779.0, style=ProgressStyle(descriptio…"
            ]
          },
          "metadata": {
            "tags": []
          }
        },
        {
          "output_type": "stream",
          "text": [
            "\n"
          ],
          "name": "stdout"
        }
      ]
    },
    {
      "cell_type": "code",
      "metadata": {
        "id": "UPwSs7rsTAiu",
        "outputId": "12fbb772-f0e3-4467-ef50-2c8d6a5fed46",
        "colab": {
          "base_uri": "https://localhost:8080/"
        }
      },
      "source": [
        "print(tokenizer.get_vocab())"
      ],
      "execution_count": 11,
      "outputs": [
        {
          "output_type": "stream",
          "text": [
            "{'[UNK]': 0, '[PAD]': 1, '[CLS]': 2, '[SEP]': 3, '[MASK]': 4, '!': 5, \"!'\": 6, '!”': 7, '\"': 8, '#': 9, '$': 10, '%': 11, '%)': 12, '&': 13, '&#34;': 14, \"'\": 15, \"'(\": 16, \"',\": 17, '(': 18, '(0': 19, '(1': 20, '(10': 21, '(12': 22, '(15': 23, '(17': 24, '(18': 25, '(19': 26, '(2': 27, '(20': 28, '(23': 29, '(24': 30, '(25': 31, '(3': 32, '(4': 33, '(5': 34, '(6': 35, '(7': 36, '(8': 37, '(9': 38, '(?)': 39, ')': 40, \")'\": 41, '),': 42, ')’': 43, '*': 44, '+': 45, ',': 46, '-': 47, '----------------': 48, '-1': 49, '-2': 50, '-20': 51, '-3': 52, '-4': 53, '.': 54, '...': 55, '...\"': 56, \"...'\": 57, '...”': 58, '/': 59, '0': 60, '0%': 61, '0%)': 62, '0.0': 63, '0.00': 64, '0.1': 65, '0.1%': 66, '0.2%': 67, '0.3': 68, '0.3%': 69, '0.4%': 70, '0.5': 71, '0.5%': 72, '0.6': 73, '0.6%': 74, '0.7': 75, '0.7%': 76, '0.8': 77, '0.8%': 78, '00': 79, '000.0': 80, '00000': 81, '01': 82, '02': 83, '02-': 84, '03': 85, '04': 86, '05': 87, '06': 88, '07': 89, '08': 90, '09': 91, '0:00:00': 92, '1': 93, '1%': 94, '1%)': 95, '1)': 96, '1,000': 97, '1.3%': 98, '1.4%': 99, '1.5%': 100, '1.6': 101, '1.6%': 102, '1.7%': 103, '1.8': 104, '10': 105, '100': 106, '1000': 107, '11': 108, '12': 109, '13': 110, '14': 111, '15': 112, '16': 113, '17': 114, '18': 115, '19': 116, '1⁄2': 117, '1⁄4': 118, '2': 119, '2%': 120, '2)': 121, '2.0': 122, '2.3%': 123, '2.5': 124, '2.5%': 125, '2.8%': 126, '20': 127, '200': 128, '2000': 129, '2011': 130, '2012': 131, '2013': 132, '21': 133, '22': 134, '23': 135, '24': 136, '25': 137, '26': 138, '27': 139, '28': 140, '29': 141, '3': 142, '3%': 143, '30': 144, '300': 145, '3000': 146, '31': 147, '32': 148, '33': 149, '34': 150, '35': 151, '36': 152, '37': 153, '38': 154, '39': 155, '3⁄4': 156, '4': 157, '4%': 158, '4%)': 159, '40': 160, '400': 161, '4000': 162, '41': 163, '42': 164, '43': 165, '44': 166, '45': 167, '46': 168, '47': 169, '48': 170, '49': 171, '5': 172, '5%': 173, '5%)': 174, '5,000': 175, '50': 176, '500': 177, '5000': 178, '51': 179, '52': 180, '53': 181, '54': 182, '55': 183, '56': 184, '57': 185, '58': 186, '59': 187, '6': 188, '6%': 189, '60': 190, '600': 191, '6000': 192, '61': 193, '62': 194, '63': 195, '64': 196, '65': 197, '66': 198, '67': 199, '68': 200, '69': 201, '7': 202, '7%': 203, '7%)': 204, '7.0': 205, '7.5%': 206, '70': 207, '700': 208, '7000': 209, '71': 210, '72': 211, '73': 212, '74': 213, '75': 214, '76': 215, '77': 216, '78': 217, '79': 218, '8': 219, '8%': 220, '8%)': 221, '80': 222, '800': 223, '8000': 224, '81': 225, '82': 226, '83': 227, '84': 228, '85': 229, '86': 230, '87': 231, '88': 232, '89': 233, '9': 234, '9%': 235, '9%)': 236, '90': 237, '900': 238, '9000': 239, '91': 240, '92': 241, '93': 242, '94': 243, '95': 244, '96': 245, '97': 246, '98': 247, '99': 248, ':': 249, '://': 250, ':00': 251, ';': 252, '<': 253, '=': 254, '=\"\"': 255, '=\"\">': 256, '>': 257, '?': 258, '?\"': 259, '??': 260, '???': 261, '????': 262, '?”': 263, 'A': 264, 'AM': 265, 'AP': 266, 'AR': 267, 'AS': 268, 'AT': 269, 'B': 270, 'BC': 271, 'BO': 272, 'BS': 273, 'C': 274, 'CC': 275, 'CD': 276, 'CI': 277, 'D': 278, 'DB': 279, 'DC': 280, 'DI': 281, 'E': 282, 'ER': 283, 'EU': 284, 'F': 285, 'FC': 286, 'FI': 287, 'FIFA': 288, 'FTA': 289, 'G': 290, 'GB': 291, 'GDP': 292, 'GM': 293, 'H': 294, 'HD': 295, 'I': 296, 'IA': 297, 'IB': 298, 'IC': 299, 'II': 300, 'IM': 301, 'IN': 302, 'IP': 303, 'IS': 304, 'IT': 305, 'J': 306, 'K': 307, 'KB': 308, 'KBS': 309, 'KT': 310, 'L': 311, 'LED': 312, 'LG': 313, 'LPGA': 314, 'LS': 315, 'M': 316, 'MBC': 317, 'MBN': 318, 'MC': 319, 'MOU': 320, 'MS': 321, 'N': 322, 'NA': 323, 'NE': 324, 'NLL': 325, 'NS': 326, 'NTSB': 327, 'New': 328, 'O': 329, 'OC': 330, 'OS': 331, 'OSEN': 332, 'P': 333, 'PC': 334, 'PD': 335, 'PGA': 336, 'PI': 337, 'PM': 338, 'POP': 339, 'PS': 340, 'Q': 341, 'R': 342, 'S': 343, 'SBS': 344, 'SI': 345, 'SK': 346, 'SNS': 347, 'SP': 348, 'SS': 349, 'ST': 350, 'T': 351, 'TI': 352, 'TS': 353, 'TV': 354, 'The': 355, 'U': 356, 'V': 357, 'W': 358, 'X': 359, 'Y': 360, 'Z': 361, '[': 362, ']': 363, '^': 364, '_': 365, '`': 366, 'a': 367, 'ab': 368, 'ac': 369, 'ad': 370, 'al': 371, 'all': 372, 'am': 373, 'an': 374, 'ar': 375, 'as': 376, 'at': 377, 'ation': 378, 'ay': 379, 'b': 380, 'bp': 381, 'c': 382, 'ch': 383, 'cm': 384, 'co': 385, 'com': 386, 'ct': 387, 'd': 388, 'e': 389, 'ed': 390, 'el': 391, 'en': 392, 'ent': 393, 'er': 394, 'es': 395, 'est': 396, 'et': 397, 'f': 398, 'g': 399, 'go': 400, 'h': 401, 'ha': 402, 'ho': 403, 'http': 404, 'i': 405, 'ic': 406, 'id': 407, 'il': 408, 'in': 409, 'ing': 410, 'ir': 411, 'is': 412, 'it': 413, 'j': 414, 'k': 415, 'kW': 416, 'kg': 417, 'km': 418, 'kr': 419, 'l': 420, 'le': 421, 'lo': 422, 'm': 423, 'mm': 424, 'n': 425, 'net': 426, 'o': 427, 'ol': 428, 'on': 429, 'or': 430, 'ow': 431, 'p': 432, 'q': 433, 'quot': 434, 'r': 435, 'ra': 436, 're': 437, 'ri': 438, 'ro': 439, 's': 440, 'st': 441, 't': 442, 'ter': 443, 'th': 444, 'tion': 445, 'u': 446, 'ul': 447, 'um': 448, 'un': 449, 'ur': 450, 'us': 451, 'ut': 452, 'v': 453, 'ver': 454, 'w': 455, 'www': 456, 'x': 457, 'y': 458, 'z': 459, '{': 460, '|': 461, '}': 462, '~': 463, '~1': 464, '~20': 465, '~3': 466, '~5': 467, '~6': 468, '~8': 469, '¡': 470, '¤': 471, '§': 472, '\\xad': 473, '®': 474, '°': 475, '±': 476, '¶': 477, '·': 478, '¿': 479, 'Æ': 480, '×': 481, 'Ø': 482, 'ß': 483, 'æ': 484, '÷': 485, 'ø': 486, '́': 487, '̧': 488, 'μ': 489, 'ᄀ': 490, 'ᄋ': 491, 'ᄏ': 492, 'ᄒ': 493, 'ᅵ': 494, 'ᆞ': 495, '―': 496, '‘': 497, '’': 498, '’(': 499, '’,': 500, '“': 501, '”': 502, '”,': 503, '′': 504, '※': 505, '⁄': 506, '↑': 507, '→': 508, '↓': 509, '↓]': 510, '∼': 511, '─': 512, '───': 513, '│': 514, '├': 515, '┼': 516, '▁': 517, '▁\"': 518, '▁&': 519, \"▁'\": 520, \"▁'2013\": 521, '▁(': 522, '▁*': 523, '▁-': 524, '▁/': 525, '▁0': 526, '▁0.2': 527, '▁00:0': 528, '▁1': 529, '▁1%': 530, '▁1,2': 531, '▁1.5': 532, '▁10': 533, '▁10%': 534, '▁100': 535, '▁100%': 536, '▁1000': 537, '▁11': 538, '▁12': 539, '▁120': 540, '▁13': 541, '▁14': 542, '▁15': 543, '▁150': 544, '▁16': 545, '▁17': 546, '▁18': 547, '▁19': 548, '▁1990': 549, '▁1997': 550, '▁1998': 551, '▁1~2': 552, '▁2': 553, '▁20': 554, '▁20%': 555, '▁200': 556, '▁2000': 557, '▁2001': 558, '▁2002': 559, '▁2003': 560, '▁2004': 561, '▁2005': 562, '▁2006': 563, '▁2007': 564, '▁2008': 565, '▁2009': 566, '▁2010': 567, '▁2011': 568, '▁2012': 569, '▁2013': 570, '▁2013-0': 571, '▁2013.0': 572, '▁2013.07.1': 573, '▁2013.07.2': 574, '▁2014': 575, '▁2015': 576, '▁2016': 577, '▁2017': 578, '▁21': 579, '▁22': 580, '▁23': 581, '▁24': 582, '▁25': 583, '▁26': 584, '▁27': 585, '▁28': 586, '▁29': 587, '▁2~3': 588, '▁3': 589, '▁3.0': 590, '▁3.3': 591, '▁30': 592, '▁30%': 593, '▁300': 594, '▁3000': 595, '▁31': 596, '▁32': 597, '▁33': 598, '▁34': 599, '▁35': 600, '▁36': 601, '▁37': 602, '▁38': 603, '▁39': 604, '▁4': 605, '▁40': 606, '▁40%': 607, '▁400': 608, '▁45': 609, '▁48': 610, '▁5': 611, '▁50': 612, '▁50%': 613, '▁500': 614, '▁5000': 615, '▁55': 616, '▁6': 617, '▁60': 618, '▁60%': 619, '▁65': 620, '▁7': 621, '▁70': 622, '▁70%': 623, '▁8': 624, '▁80': 625, '▁80%': 626, '▁9': 627, '▁90': 628, '▁:': 629, '▁<': 630, '▁=': 631, '▁>': 632, '▁?': 633, '▁??': 634, '▁A': 635, '▁APP': 636, '▁B': 637, '▁C': 638, '▁CCTV': 639, '▁CEO': 640, '▁CES': 641, '▁CGV': 642, '▁CJ': 643, '▁D': 644, '▁E': 645, '▁ELS': 646, '▁ETF': 647, '▁F': 648, '▁FA': 649, '▁G': 650, '▁GS': 651, '▁H': 652, '▁HOT': 653, '▁Home': 654, '▁I': 655, '▁IT': 656, '▁J': 657, '▁JTBC': 658, '▁K': 659, '▁KB': 660, '▁KBO': 661, '▁KBS': 662, '▁KDB': 663, '▁KIA': 664, '▁KT': 665, '▁L': 666, '▁LA': 667, '▁LG': 668, '▁LIG': 669, '▁LTE': 670, '▁M': 671, '▁MBC': 672, '▁MC': 673, '▁Mnet': 674, '▁N': 675, '▁NC': 676, '▁NH': 677, '▁NHN': 678, '▁NLL': 679, '▁O': 680, '▁P': 681, '▁PC': 682, '▁PD': 683, '▁Q': 684, '▁QPR': 685, '▁R': 686, '▁S': 687, '▁SBS': 688, '▁SK': 689, '▁SM': 690, '▁SNS': 691, '▁STX': 692, '▁T': 693, '▁TV': 694, '▁U': 695, '▁US': 696, '▁V': 697, '▁VIP': 698, '▁W': 699, '▁XML': 700, '▁YG': 701, '▁[': 702, '▁`': 703, '▁and': 704, '▁c': 705, '▁for': 706, '▁of': 707, '▁the': 708, '▁to': 709, '▁tvN': 710, '▁|': 711, '▁‘': 712, '▁‘2013': 713, '▁“': 714, '▁“‘': 715, '▁│': 716, '▁■': 717, '▁▦': 718, '▁▲': 719, '▁△': 720, '▁▷': 721, '▁◀': 722, '▁◆': 723, '▁◇': 724, '▁【': 725, '▁中': 726, '▁美': 727, '▁가격': 728, '▁가격은': 729, '▁가격이': 730, '▁가계': 731, '▁가계부채': 732, '▁가구': 733, '▁가까운': 734, '▁가까이': 735, '▁가는': 736, '▁가능': 737, '▁가능성': 738, '▁가능성도': 739, '▁가능성을': 740, '▁가능성이': 741, '▁가능하다': 742, '▁가능한': 743, '▁가동': 744, '▁가득': 745, '▁가량': 746, '▁가려': 747, '▁가로': 748, '▁가르': 749, '▁가리': 750, '▁가맹점': 751, '▁가방': 752, '▁가수': 753, '▁가스': 754, '▁가슴': 755, '▁가시': 756, '▁가운데': 757, '▁가입': 758, '▁가입자': 759, '▁가장': 760, '▁가전': 761, '▁가정': 762, '▁가져': 763, '▁가졌다': 764, '▁가족': 765, '▁가족들': 766, '▁가지': 767, '▁가지고': 768, '▁가진': 769, '▁가짜': 770, '▁가치': 771, '▁가치를': 772, '▁각': 773, '▁각각': 774, '▁각자': 775, '▁각종': 776, '▁간': 777, '▁간담회': 778, '▁간부': 779, '▁간사': 780, '▁갈': 781, '▁갈등': 782, '▁갈수록': 783, '▁감': 784, '▁감각': 785, '▁감독': 786, '▁감독님': 787, '▁감독은': 788, '▁감독의': 789, '▁감독이': 790, '▁감동': 791, '▁감면': 792, '▁감사': 793, '▁감사원': 794, '▁감성': 795, '▁감소': 796, '▁감소한': 797, '▁감소했다': 798, '▁감시': 799, '▁감안': 800, '▁감안하면': 801, '▁감염': 802, '▁감정': 803, '▁감추지': 804, '▁감축': 805, '▁갑자기': 806, '▁강': 807, '▁강남': 808, '▁강남구': 809, '▁강력': 810, '▁강력한': 811, '▁강렬한': 812, '▁강릉': 813, '▁강세': 814, '▁강원': 815, '▁강원도': 816, '▁강제': 817, '▁강조': 818, '▁강조했다': 819, '▁강하게': 820, '▁강한': 821, '▁강행': 822, '▁강호동': 823, '▁강화': 824, '▁갖': 825, '▁갖고': 826, '▁갖추': 827, '▁갖춘': 828, '▁갖춰': 829, '▁같': 830, '▁같다': 831, '▁같아': 832, '▁같은': 833, '▁같이': 834, '▁개': 835, '▁개그맨': 836, '▁개념': 837, '▁개막': 838, '▁개발': 839, '▁개방': 840, '▁개별': 841, '▁개봉': 842, '▁개선': 843, '▁개설': 844, '▁개성': 845, '▁개성공단': 846, '▁개인': 847, '▁개인정보': 848, '▁개입': 849, '▁개장': 850, '▁개정': 851, '▁개정안': 852, '▁개척': 853, '▁개최': 854, '▁개최한다': 855, '▁개통': 856, '▁개편': 857, '▁개편안': 858, '▁개혁': 859, '▁객관적': 860, '▁갤럭시': 861, '▁거': 862, '▁거두': 863, '▁거둔': 864, '▁거뒀다': 865, '▁거듭': 866, '▁거래': 867, '▁거래되고': 868, '▁거래량': 869, '▁거론': 870, '▁거리': 871, '▁거부': 872, '▁거의': 873, '▁거절': 874, '▁거주': 875, '▁거짓말': 876, '▁거쳐': 877, '▁거치': 878, '▁거친': 879, '▁걱정': 880, '▁건': 881, '▁건강': 882, '▁건립': 883, '▁건물': 884, '▁건설': 885, '▁건설사': 886, '▁건축': 887, '▁걷': 888, '▁걸': 889, '▁걸그룹': 890, '▁걸린': 891, '▁걸스데이': 892, '▁걸어': 893, '▁걸쳐': 894, '▁검': 895, '▁검거': 896, '▁검사': 897, '▁검색': 898, '▁검증': 899, '▁검찰': 900, '▁검찰에': 901, '▁검찰은': 902, '▁검토': 903, '▁겁니다': 904, '▁것': 905, '▁것과': 906, '▁것도': 907, '▁것에': 908, '▁것으로': 909, '▁것은': 910, '▁것을': 911, '▁것이': 912, '▁것이다': 913, '▁것이라고': 914, '▁것이라는': 915, '▁것이란': 916, '▁것인가': 917, '▁것인지': 918, '▁것입니다': 919, '▁것처럼': 920, '▁게': 921, '▁게다가': 922, '▁게스트': 923, '▁게시물': 924, '▁게시판에': 925, '▁게임': 926, '▁게재': 927, '▁게재했다': 928, '▁겨냥': 929, '▁겨울': 930, '▁격': 931, '▁격려': 932, '▁격차': 933, '▁겪': 934, '▁겪고': 935, '▁견': 936, '▁결': 937, '▁결과': 938, '▁결과를': 939, '▁결국': 940, '▁결론': 941, '▁결별': 942, '▁결승': 943, '▁결심': 944, '▁결정': 945, '▁결정했다': 946, '▁결제': 947, '▁결코': 948, '▁결합': 949, '▁결혼': 950, '▁결혼식': 951, '▁겸': 952, '▁경': 953, '▁경계': 954, '▁경고': 955, '▁경기': 956, '▁경기가': 957, '▁경기도': 958, '▁경기를': 959, '▁경기에서': 960, '▁경기침체': 961, '▁경남': 962, '▁경력': 963, '▁경매': 964, '▁경북': 965, '▁경비': 966, '▁경영': 967, '▁경우': 968, '▁경우가': 969, '▁경쟁': 970, '▁경쟁력': 971, '▁경제': 972, '▁경제성장률': 973, '▁경제적': 974, '▁경찰': 975, '▁경찰관': 976, '▁경찰에': 977, '▁경찰은': 978, '▁경험': 979, '▁계': 980, '▁계기가': 981, '▁계기로': 982, '▁계산': 983, '▁계속': 984, '▁계약': 985, '▁계약을': 986, '▁계열사': 987, '▁계절': 988, '▁계좌': 989, '▁계획': 990, '▁계획을': 991, '▁계획이다': 992, '▁고': 993, '▁고객': 994, '▁고객들': 995, '▁고객에게': 996, '▁고교': 997, '▁고급': 998, '▁고려': 999, '▁고려해': 1000, '▁고령': 1001, '▁고민': 1002, '▁고발': 1003, '▁고백': 1004, '▁고백했다': 1005, '▁고소': 1006, '▁고스란히': 1007, '▁고양': 1008, '▁고영욱': 1009, '▁고용': 1010, '▁고위': 1011, '▁고통': 1012, '▁곡': 1013, '▁곧': 1014, '▁곧바로': 1015, '▁골': 1016, '▁골든': 1017, '▁골키퍼': 1018, '▁골프': 1019, '▁골프장': 1020, '▁곳': 1021, '▁곳이': 1022, '▁공': 1023, '▁공간': 1024, '▁공감': 1025, '▁공개': 1026, '▁공개됐다': 1027, '▁공개된': 1028, '▁공개했다': 1029, '▁공격': 1030, '▁공격수': 1031, '▁공공': 1032, '▁공공기관': 1033, '▁공급': 1034, '▁공단': 1035, '▁공동': 1036, '▁공략': 1037, '▁공모': 1038, '▁공무원': 1039, '▁공방': 1040, '▁공백': 1041, '▁공부': 1042, '▁공사': 1043, '▁공시': 1044, '▁공시했다': 1045, '▁공식': 1046, '▁공약': 1047, '▁공연': 1048, '▁공연을': 1049, '▁공유': 1050, '▁공장': 1051, '▁공정': 1052, '▁공정위': 1053, '▁공포': 1054, '▁공항': 1055, '▁공화당': 1056, '▁과감': 1057, '▁과거': 1058, '▁과도한': 1059, '▁과세': 1060, '▁과시': 1061, '▁과시했다': 1062, '▁과연': 1063, '▁과장': 1064, '▁과정': 1065, '▁과정에서': 1066, '▁과정을': 1067, '▁과제': 1068, '▁과징금': 1069, '▁과태료': 1070, '▁과학': 1071, '▁곽': 1072, '▁관': 1073, '▁관객': 1074, '▁관객들': 1075, '▁관계': 1076, '▁관계자': 1077, '▁관계자는': 1078, '▁관계자들': 1079, '▁관광': 1080, '▁관광객': 1081, '▁관람': 1082, '▁관련': 1083, '▁관련된': 1084, '▁관련사진': 1085, '▁관련한': 1086, '▁관련해': 1087, '▁관리': 1088, '▁관심': 1089, '▁관심을': 1090, '▁관심이': 1091, '▁관중': 1092, '▁관측': 1093, '▁관한': 1094, '▁관행': 1095, '▁광': 1096, '▁광고': 1097, '▁광주': 1098, '▁광주시': 1099, '▁괜찮': 1100, '▁괴': 1101, '▁굉장히': 1102, '▁교': 1103, '▁교과부': 1104, '▁교류': 1105, '▁교사': 1106, '▁교수': 1107, '▁교수는': 1108, '▁교육': 1109, '▁교육부': 1110, '▁교체': 1111, '▁교통': 1112, '▁교통사고': 1113, '▁교환': 1114, '▁구': 1115, '▁구간': 1116, '▁구글': 1117, '▁구단': 1118, '▁구매': 1119, '▁구성': 1120, '▁구성된': 1121, '▁구속': 1122, '▁구속기소': 1123, '▁구입': 1124, '▁구자철': 1125, '▁구조': 1126, '▁구조조정': 1127, '▁구체적으로': 1128, '▁구체적인': 1129, '▁구축': 1130, '▁구현': 1131, '▁국': 1132, '▁국가': 1133, '▁국가기록원': 1134, '▁국가대표': 1135, '▁국가안보': 1136, '▁국가정보원': 1137, '▁국내': 1138, '▁국내에서': 1139, '▁국내외': 1140, '▁국립': 1141, '▁국무총리': 1142, '▁국무회의': 1143, '▁국민': 1144, '▁국민들': 1145, '▁국민연금': 1146, '▁국민은행': 1147, '▁국민의': 1148, '▁국방': 1149, '▁국방부': 1150, '▁국세청': 1151, '▁국정': 1152, '▁국정원': 1153, '▁국정조사': 1154, '▁국제': 1155, '▁국제사회': 1156, '▁국조': 1157, '▁국채': 1158, '▁국토교통부': 1159, '▁국토부': 1160, '▁국토해양부': 1161, '▁국회': 1162, '▁국회에서': 1163, '▁국회의원': 1164, '▁군': 1165, '▁군부': 1166, '▁군사': 1167, '▁굴': 1168, '▁궁금': 1169, '▁권': 1170, '▁권력': 1171, '▁권리': 1172, '▁권한': 1173, '▁귀': 1174, '▁귀국': 1175, '▁귀여운': 1176, '▁귀엽': 1177, '▁규명': 1178, '▁규모': 1179, '▁규모로': 1180, '▁규모의': 1181, '▁규정': 1182, '▁규제': 1183, '▁균형': 1184, '▁그': 1185, '▁그가': 1186, '▁그간': 1187, '▁그것이': 1188, '▁그냥': 1189, '▁그녀': 1190, '▁그는': 1191, '▁그대로': 1192, '▁그동안': 1193, '▁그때': 1194, '▁그래서': 1195, '▁그래픽': 1196, '▁그랬': 1197, '▁그러': 1198, '▁그러나': 1199, '▁그러면서': 1200, '▁그런': 1201, '▁그런데': 1202, '▁그럼에도': 1203, '▁그렇게': 1204, '▁그렇지': 1205, '▁그려': 1206, '▁그려졌다': 1207, '▁그룹': 1208, '▁그리': 1209, '▁그리고': 1210, '▁그린': 1211, '▁그림': 1212, '▁그만큼': 1213, '▁그의': 1214, '▁그쳤다': 1215, '▁극': 1216, '▁극대화': 1217, '▁극복': 1218, '▁극중': 1219, '▁극찬': 1220, '▁근': 1221, '▁근거': 1222, '▁근로': 1223, '▁근로자': 1224, '▁근무': 1225, '▁근본': 1226, '▁근육': 1227, '▁근절': 1228, '▁근처': 1229, '▁근황': 1230, '▁글': 1231, '▁글과': 1232, '▁글로벌': 1233, '▁글을': 1234, '▁금': 1235, '▁금감원': 1236, '▁금리': 1237, '▁금메달': 1238, '▁금액': 1239, '▁금융': 1240, '▁금융감독원': 1241, '▁금융권': 1242, '▁금융기관': 1243, '▁금융당국': 1244, '▁금융위기': 1245, '▁금융투자': 1246, '▁금융회사': 1247, '▁금지': 1248, '▁금품을': 1249, '▁급': 1250, '▁급격': 1251, '▁급등': 1252, '▁급락': 1253, '▁급여': 1254, '▁급증': 1255, '▁긍정적': 1256, '▁긍정적인': 1257, '▁기': 1258, '▁기간': 1259, '▁기계': 1260, '▁기관': 1261, '▁기기': 1262, '▁기념': 1263, '▁기능': 1264, '▁기능을': 1265, '▁기다리': 1266, '▁기대': 1267, '▁기대감': 1268, '▁기대된다': 1269, '▁기대를': 1270, '▁기대하고': 1271, '▁기대한다': 1272, '▁기록': 1273, '▁기록하고': 1274, '▁기록하며': 1275, '▁기록한': 1276, '▁기록했다': 1277, '▁기반': 1278, '▁기반으로': 1279, '▁기본': 1280, '▁기부': 1281, '▁기분': 1282, '▁기사': 1283, '▁기사본문': 1284, '▁기상': 1285, '▁기성용': 1286, '▁기소': 1287, '▁기소된': 1288, '▁기술': 1289, '▁기아차': 1290, '▁기억': 1291, '▁기업': 1292, '▁기업들': 1293, '▁기업의': 1294, '▁기여': 1295, '▁기온': 1296, '▁기울': 1297, '▁기재부': 1298, '▁기조': 1299, '▁기존': 1300, '▁기준': 1301, '▁기준금리': 1302, '▁기준으로': 1303, '▁기초': 1304, '▁기초자산': 1305, '▁기타': 1306, '▁기회': 1307, '▁기회를': 1308, '▁기획': 1309, '▁기획재정부': 1310, '▁긴': 1311, '▁긴급': 1312, '▁긴장': 1313, '▁긴장감': 1314, '▁길': 1315, '▁김': 1316, '▁김기': 1317, '▁김동': 1318, '▁김모': 1319, '▁김민': 1320, '▁김성': 1321, '▁김씨': 1322, '▁김씨는': 1323, '▁김연경': 1324, '▁김연아': 1325, '▁김영': 1326, '▁김용': 1327, '▁김용준': 1328, '▁김재': 1329, '▁김정': 1330, '▁김종': 1331, '▁김종학': 1332, '▁김진': 1333, '▁김태': 1334, '▁김태희': 1335, '▁김한길': 1336, '▁김현': 1337, '▁깊은': 1338, '▁깊이': 1339, '▁깔': 1340, '▁깜짝': 1341, '▁깨': 1342, '▁깨끗': 1343, '▁꺼': 1344, '▁꺾고': 1345, '▁꼬리': 1346, '▁꼭': 1347, '▁꼽았다': 1348, '▁꼽히': 1349, '▁꼽힌다': 1350, '▁꽃': 1351, '▁꽃미남': 1352, '▁꾸': 1353, '▁꾸준한': 1354, '▁꾸준히': 1355, '▁꿈': 1356, '▁꿈꾸': 1357, '▁끈다': 1358, '▁끊임없': 1359, '▁끌고': 1360, '▁끌어': 1361, '▁끌었다': 1362, '▁끝': 1363, '▁끝까지': 1364, '▁끝나': 1365, '▁끝난': 1366, '▁끝내': 1367, '▁끝에': 1368, '▁끼': 1369, '▁나': 1370, '▁나가': 1371, '▁나갈': 1372, '▁나누': 1373, '▁나눠': 1374, '▁나는': 1375, '▁나라': 1376, '▁나란히': 1377, '▁나로호': 1378, '▁나머지': 1379, '▁나쁜': 1380, '▁나서': 1381, '▁나선': 1382, '▁나선다': 1383, '▁나설': 1384, '▁나섰': 1385, '▁나섰다': 1386, '▁나아가': 1387, '▁나오': 1388, '▁나오고': 1389, '▁나오는': 1390, '▁나온': 1391, '▁나온다': 1392, '▁나올': 1393, '▁나와': 1394, '▁나왔': 1395, '▁나왔다': 1396, '▁나이': 1397, '▁나중에': 1398, '▁나타나': 1399, '▁나타난': 1400, '▁나타났다': 1401, '▁나타내': 1402, '▁나타냈다': 1403, '▁낙': 1404, '▁낙찰': 1405, '▁난': 1406, '▁날': 1407, '▁날씨': 1408, '▁남': 1409, '▁남겨': 1410, '▁남겼다': 1411, '▁남긴': 1412, '▁남녀': 1413, '▁남다른': 1414, '▁남부': 1415, '▁남북': 1416, '▁남북관계': 1417, '▁남북정상회담': 1418, '▁남성': 1419, '▁남아': 1420, '▁남아있': 1421, '▁남은': 1422, '▁남자': 1423, '▁남자친구': 1424, '▁남편': 1425, '▁납부': 1426, '▁납치': 1427, '▁납품': 1428, '▁낮': 1429, '▁낮아': 1430, '▁낮은': 1431, '▁낮추': 1432, '▁낳': 1433, '▁내': 1434, '▁내가': 1435, '▁내내': 1436, '▁내년': 1437, '▁내놓': 1438, '▁내놨다': 1439, '▁내다봤다': 1440, '▁내달': 1441, '▁내려': 1442, '▁내렸다': 1443, '▁내리': 1444, '▁내린': 1445, '▁내부': 1446, '▁내수': 1447, '▁내야': 1448, '▁내용': 1449, '▁내용은': 1450, '▁내용을': 1451, '▁내용의': 1452, '▁내용이': 1453, '▁낸': 1454, '▁냈다': 1455, '▁냉': 1456, '▁너': 1457, '▁너무': 1458, '▁넓': 1459, '▁넘': 1460, '▁넘게': 1461, '▁넘겨': 1462, '▁넘기': 1463, '▁넘는': 1464, '▁넘어': 1465, '▁넘치는': 1466, '▁넣': 1467, '▁넣어': 1468, '▁네': 1469, '▁네이버': 1470, '▁네트워크': 1471, '▁네티즌': 1472, '▁네티즌들': 1473, '▁네티즌들은': 1474, '▁넥센': 1475, '▁노': 1476, '▁노동': 1477, '▁노동자': 1478, '▁노래': 1479, '▁노량진': 1480, '▁노력': 1481, '▁노력을': 1482, '▁노력하겠다': 1483, '▁노무현': 1484, '▁노사': 1485, '▁노선': 1486, '▁노인': 1487, '▁노조': 1488, '▁노출': 1489, '▁노트북': 1490, '▁노하우': 1491, '▁노홍철': 1492, '▁노후': 1493, '▁녹': 1494, '▁녹색': 1495, '▁녹음': 1496, '▁녹화': 1497, '▁논': 1498, '▁논란': 1499, '▁논란이': 1500, '▁논리': 1501, '▁논의': 1502, '▁논쟁': 1503, '▁놀': 1504, '▁놀라': 1505, '▁놀라게': 1506, '▁농': 1507, '▁농업': 1508, '▁농촌': 1509, '▁농협': 1510, '▁높': 1511, '▁높게': 1512, '▁높다': 1513, '▁높아': 1514, '▁높아졌다': 1515, '▁높아지고': 1516, '▁높았다': 1517, '▁높여': 1518, '▁높였다': 1519, '▁높은': 1520, '▁높이': 1521, '▁놓': 1522, '▁놓고': 1523, '▁뇌': 1524, '▁뇌물': 1525, '▁누': 1526, '▁누가': 1527, '▁누구': 1528, '▁누구나': 1529, '▁누군가': 1530, '▁누리꾼들': 1531, '▁누리꾼들은': 1532, '▁누적': 1533, '▁누출': 1534, '▁눈': 1535, '▁눈길을': 1536, '▁눈물': 1537, '▁눈물을': 1538, '▁눈빛': 1539, '▁눈에': 1540, '▁뉴': 1541, '▁뉴스': 1542, '▁뉴욕': 1543, '▁느껴': 1544, '▁느꼈': 1545, '▁느끼': 1546, '▁느낀': 1547, '▁느낄': 1548, '▁느낌': 1549, '▁늘': 1550, '▁늘려': 1551, '▁늘리': 1552, '▁늘어': 1553, '▁늘어나': 1554, '▁늘어난': 1555, '▁늘어날': 1556, '▁늘어났다': 1557, '▁늘었다': 1558, '▁능력': 1559, '▁능력을': 1560, '▁늦어': 1561, '▁다': 1562, '▁다녀': 1563, '▁다니': 1564, '▁다룬': 1565, '▁다르다': 1566, '▁다른': 1567, '▁다리': 1568, '▁다만': 1569, '▁다문화': 1570, '▁다섯': 1571, '▁다소': 1572, '▁다수': 1573, '▁다시': 1574, '▁다양한': 1575, '▁다운로드': 1576, '▁다음': 1577, '▁다음날': 1578, '▁다음달': 1579, '▁다이어트': 1580, '▁다저스': 1581, '▁다저스는': 1582, '▁다짐': 1583, '▁다하겠다': 1584, '▁단': 1585, '▁단계': 1586, '▁단기': 1587, '▁단독': 1588, '▁단말기': 1589, '▁단속': 1590, '▁단순': 1591, '▁단장': 1592, '▁단지': 1593, '▁단체': 1594, '▁단축': 1595, '▁단행': 1596, '▁달': 1597, '▁달라': 1598, '▁달러': 1599, '▁달려': 1600, '▁달리': 1601, '▁달성': 1602, '▁달아': 1603, '▁달하는': 1604, '▁달한다': 1605, '▁닮은': 1606, '▁담': 1607, '▁담겨': 1608, '▁담긴': 1609, '▁담당': 1610, '▁담배': 1611, '▁담보': 1612, '▁담아': 1613, '▁담은': 1614, '▁답': 1615, '▁답변': 1616, '▁답했다': 1617, '▁당': 1618, '▁당국': 1619, '▁당기순이익': 1620, '▁당부했다': 1621, '▁당분간': 1622, '▁당사자': 1623, '▁당선': 1624, '▁당선인': 1625, '▁당시': 1626, '▁당연히': 1627, '▁당장': 1628, '▁당첨': 1629, '▁당초': 1630, '▁당했다': 1631, '▁당황': 1632, '▁대': 1633, '▁대거': 1634, '▁대결': 1635, '▁대구': 1636, '▁대규모': 1637, '▁대기': 1638, '▁대기업': 1639, '▁대다수': 1640, '▁대단': 1641, '▁대답': 1642, '▁대리점': 1643, '▁대만': 1644, '▁대법원': 1645, '▁대변인': 1646, '▁대부분': 1647, '▁대북': 1648, '▁대비': 1649, '▁대사': 1650, '▁대상': 1651, '▁대상으로': 1652, '▁대상자': 1653, '▁대선': 1654, '▁대신': 1655, '▁대안': 1656, '▁대외': 1657, '▁대우': 1658, '▁대응': 1659, '▁대전': 1660, '▁대중': 1661, '▁대중교통': 1662, '▁대책': 1663, '▁대처': 1664, '▁대체': 1665, '▁대출': 1666, '▁대통령': 1667, '▁대통령은': 1668, '▁대통령의': 1669, '▁대통령이': 1670, '▁대통령직': 1671, '▁대통령직인수위원회': 1672, '▁대폭': 1673, '▁대표': 1674, '▁대표는': 1675, '▁대표단': 1676, '▁대표이사': 1677, '▁대표적인': 1678, '▁대표팀': 1679, '▁대학': 1680, '▁대학생': 1681, '▁대한': 1682, '▁대한민국': 1683, '▁대한항공': 1684, '▁대해': 1685, '▁대해서': 1686, '▁대해서는': 1687, '▁대해서도': 1688, '▁대해선': 1689, '▁대형': 1690, '▁대형마트': 1691, '▁대화': 1692, '▁대화록': 1693, '▁대회': 1694, '▁대회에서': 1695, '▁댄스': 1696, '▁댓글': 1697, '▁더': 1698, '▁더불어': 1699, '▁더욱': 1700, '▁덕': 1701, '▁덕분에': 1702, '▁던지': 1703, '▁덜': 1704, '▁덧붙였다': 1705, '▁데': 1706, '▁데뷔': 1707, '▁데이터': 1708, '▁데이트': 1709, '▁도내': 1710, '▁도로': 1711, '▁도발': 1712, '▁도시': 1713, '▁도심': 1714, '▁도약': 1715, '▁도와': 1716, '▁도움': 1717, '▁도움을': 1718, '▁도움이': 1719, '▁도입': 1720, '▁도전': 1721, '▁도중': 1722, '▁도착': 1723, '▁도쿄': 1724, '▁독': 1725, '▁독립': 1726, '▁독일': 1727, '▁독자': 1728, '▁독특한': 1729, '▁돈': 1730, '▁돈을': 1731, '▁돌': 1732, '▁돌려': 1733, '▁돌아': 1734, '▁돌아가': 1735, '▁돌아오': 1736, '▁돌아온': 1737, '▁돌입': 1738, '▁돌파': 1739, '▁돕는': 1740, '▁동': 1741, '▁동결': 1742, '▁동기': 1743, '▁동남아': 1744, '▁동료': 1745, '▁동물': 1746, '▁동반': 1747, '▁동반성장': 1748, '▁동부': 1749, '▁동생': 1750, '▁동시에': 1751, '▁동아시안컵': 1752, '▁동아제약': 1753, '▁동안': 1754, '▁동양': 1755, '▁동영상': 1756, '▁동원': 1757, '▁동의': 1758, '▁동작': 1759, '▁동참': 1760, '▁돼': 1761, '▁됐다': 1762, '▁되': 1763, '▁되고': 1764, '▁되는': 1765, '▁되면': 1766, '▁되어': 1767, '▁되지': 1768, '▁되찾': 1769, '▁된': 1770, '▁된다': 1771, '▁될': 1772, '▁두': 1773, '▁두고': 1774, '▁두드러': 1775, '▁두산': 1776, '▁둔': 1777, '▁둔화': 1778, '▁둘': 1779, '▁둘러': 1780, '▁둘러싼': 1781, '▁둘째': 1782, '▁뒤': 1783, '▁뒤늦게': 1784, '▁뒤집': 1785, '▁뒷': 1786, '▁뒷받침': 1787, '▁드': 1788, '▁드라마': 1789, '▁드러나': 1790, '▁드러난': 1791, '▁드러났다': 1792, '▁드러내': 1793, '▁드러낸': 1794, '▁드러냈다': 1795, '▁드레스': 1796, '▁득점': 1797, '▁든다': 1798, '▁듣': 1799, '▁듣고': 1800, '▁들': 1801, '▁들고': 1802, '▁들려': 1803, '▁들어': 1804, '▁들어가': 1805, '▁들어간': 1806, '▁들어갈': 1807, '▁들어갔다': 1808, '▁들어서': 1809, '▁들어오': 1810, '▁들었다': 1811, '▁들여': 1812, '▁듯': 1813, '▁듯한': 1814, '▁등': 1815, '▁등과': 1816, '▁등도': 1817, '▁등록': 1818, '▁등록금': 1819, '▁등에': 1820, '▁등에서': 1821, '▁등으로': 1822, '▁등은': 1823, '▁등을': 1824, '▁등의': 1825, '▁등이': 1826, '▁등이다': 1827, '▁등장': 1828, '▁등판': 1829, '▁디': 1830, '▁디자인': 1831, '▁디지털': 1832, '▁따': 1833, '▁따뜻한': 1834, '▁따라': 1835, '▁따라서': 1836, '▁따로': 1837, '▁따르면': 1838, '▁따른': 1839, '▁딸': 1840, '▁땅': 1841, '▁땅볼': 1842, '▁땅에': 1843, '▁때': 1844, '▁때까지': 1845, '▁때는': 1846, '▁때마다': 1847, '▁때문': 1848, '▁때문에': 1849, '▁때문이다': 1850, '▁때부터': 1851, '▁떠': 1852, '▁떠나': 1853, '▁떠난': 1854, '▁떠오르': 1855, '▁떨': 1856, '▁떨어져': 1857, '▁떨어졌다': 1858, '▁떨어지': 1859, '▁떨어진': 1860, '▁또': 1861, '▁또는': 1862, '▁또다시': 1863, '▁또한': 1864, '▁똑같': 1865, '▁뚜렷': 1866, '▁뛰': 1867, '▁뛰어': 1868, '▁뛰어난': 1869, '▁뛰어넘': 1870, '▁뜨거운': 1871, '▁뜻': 1872, '▁뜻을': 1873, '▁띠고': 1874, '▁라': 1875, '▁라디오': 1876, '▁라이벌': 1877, '▁라이브': 1878, '▁라인업': 1879, '▁랭킹': 1880, '▁러시아': 1881, '▁런던': 1882, '▁런던올림픽': 1883, '▁레': 1884, '▁레드카펫': 1885, '▁레알': 1886, '▁레이': 1887, '▁레전드': 1888, '▁로그인': 1889, '▁로비': 1890, '▁로이킴': 1891, '▁로켓': 1892, '▁롯데': 1893, '▁롯데마트': 1894, '▁루': 1895, '▁루머': 1896, '▁류': 1897, '▁류현진': 1898, '▁류현진은': 1899, '▁리': 1900, '▁리그': 1901, '▁리더': 1902, '▁리더십': 1903, '▁리베이트': 1904, '▁리스크': 1905, '▁리포트': 1906, '▁마': 1907, '▁마감': 1908, '▁마감했다': 1909, '▁마드리드': 1910, '▁마련': 1911, '▁마련했다': 1912, '▁마리': 1913, '▁마무리': 1914, '▁마운드': 1915, '▁마을': 1916, '▁마음': 1917, '▁마음을': 1918, '▁마지막': 1919, '▁마지막으로': 1920, '▁마찬가지': 1921, '▁마쳤다': 1922, '▁마치': 1923, '▁마치고': 1924, '▁마친': 1925, '▁마케팅': 1926, '▁막': 1927, '▁막기': 1928, '▁막아': 1929, '▁막판': 1930, '▁만': 1931, '▁만기': 1932, '▁만나': 1933, '▁만난': 1934, '▁만날': 1935, '▁만남': 1936, '▁만났다': 1937, '▁만드는': 1938, '▁만든': 1939, '▁만들': 1940, '▁만들고': 1941, '▁만들기': 1942, '▁만들어': 1943, '▁만들었다': 1944, '▁만약': 1945, '▁만에': 1946, '▁만족': 1947, '▁만큼': 1948, '▁만한': 1949, '▁많고': 1950, '▁많다': 1951, '▁많아': 1952, '▁많았': 1953, '▁많았다': 1954, '▁많은': 1955, '▁많이': 1956, '▁많지': 1957, '▁말': 1958, '▁말까지': 1959, '▁말레이시아': 1960, '▁말씀': 1961, '▁말을': 1962, '▁말이': 1963, '▁말한다': 1964, '▁말해': 1965, '▁말했다': 1966, '▁맛': 1967, '▁망': 1968, '▁망명': 1969, '▁맞': 1970, '▁맞는': 1971, '▁맞대결': 1972, '▁맞서': 1973, '▁맞아': 1974, '▁맞았다': 1975, '▁맞추': 1976, '▁맞춘': 1977, '▁맞춤형': 1978, '▁맞춰': 1979, '▁맡': 1980, '▁맡고': 1981, '▁맡아': 1982, '▁맡았': 1983, '▁맡았다': 1984, '▁맡은': 1985, '▁매': 1986, '▁매각': 1987, '▁매년': 1988, '▁매달': 1989, '▁매도': 1990, '▁매력': 1991, '▁매력을': 1992, '▁매매': 1993, '▁매수': 1994, '▁매우': 1995, '▁매일': 1996, '▁매입': 1997, '▁매장': 1998, '▁매주': 1999, '▁매체': 2000, '▁매출': 2001, '▁매출액': 2002, '▁매출이': 2003, '▁맨': 2004, '▁맨유': 2005, '▁맺': 2006, '▁머': 2007, '▁머리': 2008, '▁머물': 2009, '▁먹': 2010, '▁먹고': 2011, '▁먼저': 2012, '▁멀티': 2013, '▁멀티미디어': 2014, '▁멋진': 2015, '▁메': 2016, '▁메뉴': 2017, '▁메시지': 2018, '▁메시지를': 2019, '▁메이저': 2020, '▁메이저리그': 2021, '▁메이크업': 2022, '▁메인': 2023, '▁멕시코': 2024, '▁멘토': 2025, '▁멜로': 2026, '▁멤버': 2027, '▁멤버들': 2028, '▁면': 2029, '▁면담': 2030, '▁면모를': 2031, '▁면접': 2032, '▁면제': 2033, '▁명': 2034, '▁명단': 2035, '▁명령': 2036, '▁명예': 2037, '▁명의': 2038, '▁명이': 2039, '▁명칭': 2040, '▁명품': 2041, '▁명확': 2042, '▁몇': 2043, '▁모': 2044, '▁모니터링': 2045, '▁모델': 2046, '▁모두': 2047, '▁모든': 2048, '▁모르': 2049, '▁모르겠다': 2050, '▁모른다': 2051, '▁모멘텀': 2052, '▁모바일': 2053, '▁모비스': 2054, '▁모색': 2055, '▁모습': 2056, '▁모습으로': 2057, '▁모습을': 2058, '▁모습이': 2059, '▁모습이다': 2060, '▁모아': 2061, '▁모았다': 2062, '▁모양': 2063, '▁모여': 2064, '▁모으고': 2065, '▁모자': 2066, '▁모집': 2067, '▁목': 2068, '▁목격': 2069, '▁목동': 2070, '▁목록': 2071, '▁목사': 2072, '▁목소리': 2073, '▁목소리가': 2074, '▁목숨': 2075, '▁목적': 2076, '▁목적으로': 2077, '▁목표': 2078, '▁목표로': 2079, '▁목표주가': 2080, '▁몰': 2081, '▁몰려': 2082, '▁몰아': 2083, '▁몸': 2084, '▁몸매': 2085, '▁못': 2086, '▁못하고': 2087, '▁못하는': 2088, '▁못한': 2089, '▁못한다': 2090, '▁못할': 2091, '▁못해': 2092, '▁못했다': 2093, '▁묘': 2094, '▁무': 2095, '▁무게': 2096, '▁무기': 2097, '▁무대': 2098, '▁무대를': 2099, '▁무대에': 2100, '▁무더위': 2101, '▁무려': 2102, '▁무료': 2103, '▁무료로': 2104, '▁무르시': 2105, '▁무릎': 2106, '▁무리': 2107, '▁무산': 2108, '▁무상': 2109, '▁무슨': 2110, '▁무승부': 2111, '▁무실점': 2112, '▁무엇보다': 2113, '▁무역': 2114, '▁무이자': 2115, '▁무제한': 2116, '▁무조건': 2117, '▁무죄': 2118, '▁묶': 2119, '▁문': 2120, '▁문서': 2121, '▁문의': 2122, '▁문자': 2123, '▁문재인': 2124, '▁문제': 2125, '▁문제가': 2126, '▁문제는': 2127, '▁문제로': 2128, '▁문제를': 2129, '▁문제에': 2130, '▁문제점': 2131, '▁문화': 2132, '▁문화체육관광부': 2133, '▁묻': 2134, '▁물': 2135, '▁물가': 2136, '▁물건': 2137, '▁물놀이': 2138, '▁물량': 2139, '▁물론': 2140, '▁물류': 2141, '▁물리': 2142, '▁물어': 2143, '▁물품': 2144, '▁뭐': 2145, '▁뭔가': 2146, '▁뮤지컬': 2147, '▁뮤직비디오': 2148, '▁미': 2149, '▁미국': 2150, '▁미국의': 2151, '▁미니': 2152, '▁미드필더': 2153, '▁미디어': 2154, '▁미래': 2155, '▁미래부': 2156, '▁미래창조과학부': 2157, '▁미뤄': 2158, '▁미리': 2159, '▁미만': 2160, '▁미모': 2161, '▁미사일': 2162, '▁미소': 2163, '▁미얀마': 2164, '▁미치는': 2165, '▁미치지': 2166, '▁미칠': 2167, '▁미투데이': 2168, '▁민': 2169, '▁민간': 2170, '▁민낯': 2171, '▁민생': 2172, '▁민원': 2173, '▁민족': 2174, '▁민주': 2175, '▁민주당': 2176, '▁민주당은': 2177, '▁민주주의': 2178, '▁민주통합당': 2179, '▁믿고': 2180, '▁밀': 2181, '▁밀려': 2182, '▁밀어': 2183, '▁및': 2184, '▁밑': 2185, '▁바': 2186, '▁바꾸': 2187, '▁바꿔': 2188, '▁바뀌': 2189, '▁바뀐': 2190, '▁바다': 2191, '▁바닥': 2192, '▁바라': 2193, '▁바란다': 2194, '▁바람': 2195, '▁바로': 2196, '▁바이러스': 2197, '▁바탕으로': 2198, '▁박': 2199, '▁박근혜': 2200, '▁박명수': 2201, '▁박수': 2202, '▁박인비': 2203, '▁박지성': 2204, '▁밖에': 2205, '▁밖으로': 2206, '▁반': 2207, '▁반대': 2208, '▁반도체': 2209, '▁반드시': 2210, '▁반등': 2211, '▁반면': 2212, '▁반박했다': 2213, '▁반발': 2214, '▁반복': 2215, '▁반영': 2216, '▁반응': 2217, '▁반응을': 2218, '▁반전': 2219, '▁받': 2220, '▁받게': 2221, '▁받고': 2222, '▁받기': 2223, '▁받는': 2224, '▁받는다': 2225, '▁받아': 2226, '▁받아들여': 2227, '▁받아들이': 2228, '▁받았': 2229, '▁받았다': 2230, '▁받으며': 2231, '▁받은': 2232, '▁받을': 2233, '▁받지': 2234, '▁발': 2235, '▁발견': 2236, '▁발견됐다': 2237, '▁발굴': 2238, '▁발급': 2239, '▁발매': 2240, '▁발목': 2241, '▁발사': 2242, '▁발생': 2243, '▁발생한': 2244, '▁발생할': 2245, '▁발생했다': 2246, '▁발언': 2247, '▁발언을': 2248, '▁발전': 2249, '▁발탁': 2250, '▁발표': 2251, '▁발표한': 2252, '▁발표했다': 2253, '▁발행': 2254, '▁발효': 2255, '▁발휘': 2256, '▁밝은': 2257, '▁밝혀': 2258, '▁밝혀졌다': 2259, '▁밝혔': 2260, '▁밝혔다': 2261, '▁밝혔습니다': 2262, '▁밝히': 2263, '▁밝힌': 2264, '▁밤': 2265, '▁밥': 2266, '▁방': 2267, '▁방문': 2268, '▁방문해': 2269, '▁방법': 2270, '▁방북': 2271, '▁방송': 2272, '▁방송되는': 2273, '▁방송된': 2274, '▁방송된다': 2275, '▁방송에서': 2276, '▁방식': 2277, '▁방식으로': 2278, '▁방안': 2279, '▁방안을': 2280, '▁방지': 2281, '▁방침': 2282, '▁방침이다': 2283, '▁방통위': 2284, '▁방향': 2285, '▁방향으로': 2286, '▁배': 2287, '▁배경': 2288, '▁배경으로': 2289, '▁배당': 2290, '▁배려': 2291, '▁배우': 2292, '▁배우들': 2293, '▁배제': 2294, '▁배출': 2295, '▁배치': 2296, '▁배터리': 2297, '▁백': 2298, '▁백악관': 2299, '▁백지영': 2300, '▁백화점': 2301, '▁버': 2302, '▁버냉키': 2303, '▁버디': 2304, '▁버스': 2305, '▁버전': 2306, '▁번': 2307, '▁번째': 2308, '▁벌': 2309, '▁벌금': 2310, '▁벌써': 2311, '▁벌어지': 2312, '▁벌어진': 2313, '▁벌였다': 2314, '▁벌이고': 2315, '▁벌이는': 2316, '▁벌인': 2317, '▁범': 2318, '▁범위': 2319, '▁범죄': 2320, '▁범행': 2321, '▁법': 2322, '▁법률': 2323, '▁법무부': 2324, '▁법안': 2325, '▁법원': 2326, '▁법인': 2327, '▁법적': 2328, '▁법정': 2329, '▁법칙': 2330, '▁벗': 2331, '▁벗어나': 2332, '▁베': 2333, '▁베이징': 2334, '▁베트남': 2335, '▁벤': 2336, '▁벤처': 2337, '▁벽': 2338, '▁변': 2339, '▁변경': 2340, '▁변동': 2341, '▁변동성': 2342, '▁변수': 2343, '▁변신': 2344, '▁변호사': 2345, '▁변화': 2346, '▁변화를': 2347, '▁별': 2348, '▁별도로': 2349, '▁별도의': 2350, '▁병': 2351, '▁병역': 2352, '▁병원': 2353, '▁병행': 2354, '▁보': 2355, '▁보건': 2356, '▁보건복지부': 2357, '▁보고': 2358, '▁보고서': 2359, '▁보관': 2360, '▁보급': 2361, '▁보기': 2362, '▁보내': 2363, '▁보낸': 2364, '▁보냈다': 2365, '▁보는': 2366, '▁보니': 2367, '▁보다': 2368, '▁보도': 2369, '▁보도자료': 2370, '▁보도했다': 2371, '▁보면': 2372, '▁보상': 2373, '▁보수': 2374, '▁보안': 2375, '▁보여': 2376, '▁보여주': 2377, '▁보여준': 2378, '▁보여줄': 2379, '▁보여줬다': 2380, '▁보였다': 2381, '▁보완': 2382, '▁보유': 2383, '▁보유하고': 2384, '▁보유한': 2385, '▁보육': 2386, '▁보이': 2387, '▁보이고': 2388, '▁보이는': 2389, '▁보이며': 2390, '▁보이지': 2391, '▁보인다': 2392, '▁보장': 2393, '▁보조금': 2394, '▁보증': 2395, '▁보통': 2396, '▁보험': 2397, '▁보험료': 2398, '▁보험사': 2399, '▁보호': 2400, '▁복': 2401, '▁복귀': 2402, '▁복무': 2403, '▁복수': 2404, '▁복잡': 2405, '▁복지': 2406, '▁복합': 2407, '▁본': 2408, '▁본격': 2409, '▁본격적으로': 2410, '▁본격적인': 2411, '▁본격화': 2412, '▁본다': 2413, '▁본사': 2414, '▁본인': 2415, '▁본회의': 2416, '▁볼': 2417, '▁봉': 2418, '▁봉사활동': 2419, '▁봐': 2420, '▁봤': 2421, '▁봤다': 2422, '▁부': 2423, '▁부각': 2424, '▁부과': 2425, '▁부담': 2426, '▁부담을': 2427, '▁부담이': 2428, '▁부당': 2429, '▁부대': 2430, '▁부동산': 2431, '▁부르': 2432, '▁부모': 2433, '▁부모님': 2434, '▁부문': 2435, '▁부부': 2436, '▁부분': 2437, '▁부분이': 2438, '▁부사장': 2439, '▁부산': 2440, '▁부산시': 2441, '▁부상': 2442, '▁부서': 2443, '▁부실': 2444, '▁부여': 2445, '▁부위원장': 2446, '▁부인': 2447, '▁부작용': 2448, '▁부정': 2449, '▁부정적': 2450, '▁부족': 2451, '▁부족한': 2452, '▁부지': 2453, '▁부진': 2454, '▁부채': 2455, '▁부처': 2456, '▁부총리': 2457, '▁부탁': 2458, '▁부품': 2459, '▁부활': 2460, '▁부회장': 2461, '▁북': 2462, '▁북미': 2463, '▁북측': 2464, '▁북한': 2465, '▁북한의': 2466, '▁북한이': 2467, '▁분': 2468, '▁분노': 2469, '▁분당': 2470, '▁분들': 2471, '▁분류': 2472, '▁분리': 2473, '▁분명': 2474, '▁분명히': 2475, '▁분석': 2476, '▁분석이다': 2477, '▁분석했다': 2478, '▁분야': 2479, '▁분야에서': 2480, '▁분양': 2481, '▁분위기': 2482, '▁분위기를': 2483, '▁분쟁': 2484, '▁불': 2485, '▁불가능': 2486, '▁불가피': 2487, '▁불공정': 2488, '▁불과': 2489, '▁불과하다': 2490, '▁불구속': 2491, '▁불구하고': 2492, '▁불러': 2493, '▁불리는': 2494, '▁불만을': 2495, '▁불법': 2496, '▁불안': 2497, '▁불투명': 2498, '▁불편': 2499, '▁불확실성': 2500, '▁불황': 2501, '▁붕괴': 2502, '▁붙': 2503, '▁붙잡': 2504, '▁브': 2505, '▁브라운': 2506, '▁브라질': 2507, '▁브랜드': 2508, '▁브리핑': 2509, '▁블랙': 2510, '▁블랙박스': 2511, '▁블로그': 2512, '▁블루': 2513, '▁비': 2514, '▁비가': 2515, '▁비공개': 2516, '▁비과세': 2517, '▁비교': 2518, '▁비교적': 2519, '▁비교해': 2520, '▁비난': 2521, '▁비대위': 2522, '▁비대위원장': 2523, '▁비롯': 2524, '▁비롯한': 2525, '▁비롯해': 2526, '▁비리': 2527, '▁비밀': 2528, '▁비상': 2529, '▁비서실': 2530, '▁비서실장': 2531, '▁비스트': 2532, '▁비슷': 2533, '▁비슷한': 2534, '▁비용': 2535, '▁비율': 2536, '▁비자금': 2537, '▁비정규직': 2538, '▁비중': 2539, '▁비중이': 2540, '▁비즈니스': 2541, '▁비판': 2542, '▁비판했다': 2543, '▁비해': 2544, '▁비행기': 2545, '▁빅': 2546, '▁빈': 2547, '▁빈소': 2548, '▁빌': 2549, '▁빌려': 2550, '▁빙': 2551, '▁빚': 2552, '▁빛': 2553, '▁빠': 2554, '▁빠르게': 2555, '▁빠르고': 2556, '▁빠른': 2557, '▁빠져': 2558, '▁빠졌다': 2559, '▁빠지': 2560, '▁빠진': 2561, '▁빨': 2562, '▁빨리': 2563, '▁빼': 2564, '▁빼앗': 2565, '▁뽐내': 2566, '▁뽐냈다': 2567, '▁뽑': 2568, '▁뽑아': 2569, '▁뿌리': 2570, '▁뿐': 2571, '▁뿐만': 2572, '▁사': 2573, '▁사건': 2574, '▁사건을': 2575, '▁사고': 2576, '▁사고가': 2577, '▁사고로': 2578, '▁사과': 2579, '▁사기': 2580, '▁사나이': 2581, '▁사는': 2582, '▁사라지': 2583, '▁사람': 2584, '▁사람들': 2585, '▁사람들이': 2586, '▁사람은': 2587, '▁사람의': 2588, '▁사람이': 2589, '▁사랑': 2590, '▁사랑을': 2591, '▁사례': 2592, '▁사로잡': 2593, '▁사로잡았다': 2594, '▁사망': 2595, '▁사망자': 2596, '▁사면': 2597, '▁사명': 2598, '▁사무': 2599, '▁사무실': 2600, '▁사무총장': 2601, '▁사법': 2602, '▁사상': 2603, '▁사실': 2604, '▁사실상': 2605, '▁사실을': 2606, '▁사실이': 2607, '▁사안': 2608, '▁사업': 2609, '▁사업을': 2610, '▁사업자': 2611, '▁사연': 2612, '▁사용': 2613, '▁사용자': 2614, '▁사용하는': 2615, '▁사용할': 2616, '▁사유': 2617, '▁사이': 2618, '▁사이버': 2619, '▁사이에': 2620, '▁사이에서': 2621, '▁사이트': 2622, '▁사장': 2623, '▁사장은': 2624, '▁사전': 2625, '▁사정': 2626, '▁사진': 2627, '▁사진을': 2628, '▁사진이': 2629, '▁사태': 2630, '▁사퇴': 2631, '▁사항': 2632, '▁사회': 2633, '▁사회공헌': 2634, '▁사회복지': 2635, '▁사회적': 2636, '▁사흘': 2637, '▁삭감': 2638, '▁삭제': 2639, '▁산': 2640, '▁산업': 2641, '▁산하': 2642, '▁살': 2643, '▁살아': 2644, '▁살인': 2645, '▁살펴': 2646, '▁살펴보면': 2647, '▁살해': 2648, '▁삶': 2649, '▁삼': 2650, '▁삼성': 2651, '▁삼성생명': 2652, '▁삼성전자': 2653, '▁삼성전자는': 2654, '▁삼성화재': 2655, '▁삼진': 2656, '▁삼청동': 2657, '▁상': 2658, '▁상담': 2659, '▁상당': 2660, '▁상당수': 2661, '▁상당의': 2662, '▁상당한': 2663, '▁상대': 2664, '▁상대로': 2665, '▁상대적으로': 2666, '▁상무': 2667, '▁상반기': 2668, '▁상생': 2669, '▁상승': 2670, '▁상승세': 2671, '▁상승세를': 2672, '▁상승한': 2673, '▁상승했다': 2674, '▁상위': 2675, '▁상임위': 2676, '▁상장': 2677, '▁상징': 2678, '▁상처': 2679, '▁상태': 2680, '▁상태다': 2681, '▁상태에서': 2682, '▁상품': 2683, '▁상하이': 2684, '▁상한가': 2685, '▁상향': 2686, '▁상호': 2687, '▁상환': 2688, '▁상황': 2689, '▁상황에': 2690, '▁상황에서': 2691, '▁상황을': 2692, '▁상황이': 2693, '▁상황이다': 2694, '▁새': 2695, '▁새누리당': 2696, '▁새누리당은': 2697, '▁새로': 2698, '▁새로운': 2699, '▁새롭게': 2700, '▁새벽': 2701, '▁새해': 2702, '▁샌프란시스코': 2703, '▁생': 2704, '▁생각': 2705, '▁생각을': 2706, '▁생각이': 2707, '▁생각한다': 2708, '▁생각해': 2709, '▁생기': 2710, '▁생긴': 2711, '▁생명': 2712, '▁생방송': 2713, '▁생산': 2714, '▁생존': 2715, '▁생태계': 2716, '▁생활': 2717, '▁서': 2718, '▁서귀포': 2719, '▁서로': 2720, '▁서류': 2721, '▁서민': 2722, '▁서부': 2723, '▁서비스': 2724, '▁서비스를': 2725, '▁서울': 2726, '▁서울대': 2727, '▁서울시': 2728, '▁서울중앙지검': 2729, '▁서울중앙지법': 2730, '▁서초구': 2731, '▁석': 2732, '▁석유': 2733, '▁선': 2734, '▁선거': 2735, '▁선고': 2736, '▁선고받': 2737, '▁선고했다': 2738, '▁선두': 2739, '▁선물': 2740, '▁선박': 2741, '▁선발': 2742, '▁선발투수': 2743, '▁선배': 2744, '▁선보여': 2745, '▁선보였다': 2746, '▁선보이며': 2747, '▁선보인': 2748, '▁선보인다': 2749, '▁선보일': 2750, '▁선사': 2751, '▁선생님': 2752, '▁선수': 2753, '▁선수가': 2754, '▁선수단': 2755, '▁선수들': 2756, '▁선수들이': 2757, '▁선언': 2758, '▁선예': 2759, '▁선임': 2760, '▁선정': 2761, '▁선정됐다': 2762, '▁선정된': 2763, '▁선제골': 2764, '▁선진국': 2765, '▁선출': 2766, '▁선택': 2767, '▁선호': 2768, '▁설': 2769, '▁설계': 2770, '▁설득': 2771, '▁설립': 2772, '▁설명': 2773, '▁설명이다': 2774, '▁설명했다': 2775, '▁설문조사': 2776, '▁설비': 2777, '▁설정': 2778, '▁설치': 2779, '▁섬': 2780, '▁성': 2781, '▁성격': 2782, '▁성공': 2783, '▁성공했다': 2784, '▁성과': 2785, '▁성과를': 2786, '▁성남': 2787, '▁성능': 2788, '▁성동일': 2789, '▁성매매': 2790, '▁성명을': 2791, '▁성장': 2792, '▁성장률': 2793, '▁성장세': 2794, '▁성적': 2795, '▁성추행': 2796, '▁성폭력': 2797, '▁성폭행': 2798, '▁성향': 2799, '▁성형': 2800, '▁세': 2801, '▁세계': 2802, '▁세계적인': 2803, '▁세금': 2804, '▁세대': 2805, '▁세력': 2806, '▁세무조사': 2807, '▁세미나': 2808, '▁세부': 2809, '▁세븐': 2810, '▁세상': 2811, '▁세상을': 2812, '▁세우': 2813, '▁세워': 2814, '▁세웠다': 2815, '▁세종': 2816, '▁세종시': 2817, '▁세트': 2818, '▁섹시': 2819, '▁셀카': 2820, '▁셈이다': 2821, '▁소': 2822, '▁소감을': 2823, '▁소개': 2824, '▁소개했다': 2825, '▁소녀': 2826, '▁소녀시대': 2827, '▁소득': 2828, '▁소리': 2829, '▁소방': 2830, '▁소방당국': 2831, '▁소비': 2832, '▁소비자': 2833, '▁소비자들': 2834, '▁소설': 2835, '▁소셜': 2836, '▁소속': 2837, '▁소속사': 2838, '▁소송': 2839, '▁소식에': 2840, '▁소식을': 2841, '▁소식통': 2842, '▁소요': 2843, '▁소유': 2844, '▁소장': 2845, '▁소재': 2846, '▁소중한': 2847, '▁소지섭': 2848, '▁소집': 2849, '▁소통': 2850, '▁소폭': 2851, '▁소프트웨어': 2852, '▁소형': 2853, '▁소화': 2854, '▁소환': 2855, '▁속': 2856, '▁속도': 2857, '▁속에': 2858, '▁속에서': 2859, '▁손': 2860, '▁손님': 2861, '▁손실': 2862, '▁손연재': 2863, '▁손을': 2864, '▁손해배상': 2865, '▁손흥민': 2866, '▁솔로': 2867, '▁솔루션': 2868, '▁송': 2869, '▁쇼': 2870, '▁쇼핑': 2871, '▁수': 2872, '▁수급': 2873, '▁수도': 2874, '▁수도권': 2875, '▁수립': 2876, '▁수많은': 2877, '▁수목드라마': 2878, '▁수밖에': 2879, '▁수비': 2880, '▁수비수': 2881, '▁수사': 2882, '▁수사를': 2883, '▁수상': 2884, '▁수석': 2885, '▁수석대표': 2886, '▁수수료': 2887, '▁수술': 2888, '▁수십': 2889, '▁수업': 2890, '▁수영': 2891, '▁수요': 2892, '▁수요가': 2893, '▁수용': 2894, '▁수원': 2895, '▁수익': 2896, '▁수익률': 2897, '▁수익성': 2898, '▁수익을': 2899, '▁수입': 2900, '▁수정': 2901, '▁수주': 2902, '▁수준': 2903, '▁수준으로': 2904, '▁수준이다': 2905, '▁수출': 2906, '▁수치': 2907, '▁수치다': 2908, '▁수행': 2909, '▁수혜': 2910, '▁숙': 2911, '▁순': 2912, '▁순간': 2913, '▁순매도': 2914, '▁순매수': 2915, '▁순위': 2916, '▁순이익': 2917, '▁술': 2918, '▁숨': 2919, '▁숨졌다': 2920, '▁숨진': 2921, '▁숫자': 2922, '▁쉬': 2923, '▁쉽게': 2924, '▁쉽지': 2925, '▁슈': 2926, '▁슈팅': 2927, '▁슈퍼': 2928, '▁스': 2929, '▁스노든': 2930, '▁스마트': 2931, '▁스마트폰': 2932, '▁스몰캡': 2933, '▁스스로': 2934, '▁스위스': 2935, '▁스케줄': 2936, '▁스크린': 2937, '▁스타': 2938, '▁스타일': 2939, '▁스태프': 2940, '▁스토리': 2941, '▁스트레스': 2942, '▁스페셜올림픽': 2943, '▁스페인': 2944, '▁스포츠': 2945, '▁스포츠조선닷컴': 2946, '▁스피드': 2947, '▁슬': 2948, '▁승': 2949, '▁승객': 2950, '▁승리': 2951, '▁승리를': 2952, '▁승무원': 2953, '▁승부': 2954, '▁승부주': 2955, '▁승용차': 2956, '▁승인': 2957, '▁승진': 2958, '▁시': 2959, '▁시가총액': 2960, '▁시각': 2961, '▁시간': 2962, '▁시간을': 2963, '▁시간이': 2964, '▁시기': 2965, '▁시나리오': 2966, '▁시너지': 2967, '▁시는': 2968, '▁시달리': 2969, '▁시대': 2970, '▁시도': 2971, '▁시리아': 2972, '▁시리즈': 2973, '▁시민': 2974, '▁시민단체': 2975, '▁시민들': 2976, '▁시범': 2977, '▁시사': 2978, '▁시상식': 2979, '▁시선을': 2980, '▁시설': 2981, '▁시스템': 2982, '▁시스템을': 2983, '▁시신': 2984, '▁시위': 2985, '▁시작': 2986, '▁시작된': 2987, '▁시작으로': 2988, '▁시작한': 2989, '▁시작했다': 2990, '▁시장': 2991, '▁시장에': 2992, '▁시장에서': 2993, '▁시장은': 2994, '▁시장의': 2995, '▁시절': 2996, '▁시점': 2997, '▁시즌': 2998, '▁시청률': 2999, '▁시청자': 3000, '▁시청자들': 3001, '▁시청자들의': 3002, '▁시카고': 3003, '▁시행': 3004, '▁시험': 3005, '▁식': 3006, '▁식당': 3007, '▁식사': 3008, '▁식품': 3009, '▁신': 3010, '▁신경': 3011, '▁신고': 3012, '▁신곡': 3013, '▁신규': 3014, '▁신동엽': 3015, '▁신뢰': 3016, '▁신문': 3017, '▁신분': 3018, '▁신설': 3019, '▁신세계': 3020, '▁신속': 3021, '▁신시내티': 3022, '▁신용': 3023, '▁신용등급': 3024, '▁신용카드': 3025, '▁신인': 3026, '▁신임': 3027, '▁신제품': 3028, '▁신중': 3029, '▁신청': 3030, '▁신한금융투자': 3031, '▁신한은행': 3032, '▁신호': 3033, '▁신화': 3034, '▁신흥국': 3035, '▁실': 3036, '▁실내': 3037, '▁실력': 3038, '▁실망': 3039, '▁실무': 3040, '▁실무회담': 3041, '▁실수': 3042, '▁실시': 3043, '▁실시간': 3044, '▁실시한': 3045, '▁실시한다': 3046, '▁실적': 3047, '▁실적이': 3048, '▁실제': 3049, '▁실제로': 3050, '▁실종': 3051, '▁실질적인': 3052, '▁실천': 3053, '▁실태': 3054, '▁실패': 3055, '▁실행': 3056, '▁실험': 3057, '▁실현': 3058, '▁싫어': 3059, '▁심': 3060, '▁심각': 3061, '▁심각한': 3062, '▁심경': 3063, '▁심리': 3064, '▁심사': 3065, '▁심사위원': 3066, '▁심지어': 3067, '▁심판': 3068, '▁심화': 3069, '▁싱가포르': 3070, '▁싱글': 3071, '▁싶다': 3072, '▁싶어': 3073, '▁싶었': 3074, '▁싶은': 3075, '▁싸': 3076, '▁싸이': 3077, '▁쌍용차': 3078, '▁쌓': 3079, '▁써': 3080, '▁써니': 3081, '▁썼다': 3082, '▁쏟아': 3083, '▁쓰': 3084, '▁쓰레기': 3085, '▁쓴': 3086, '▁쓸': 3087, '▁씨': 3088, '▁씨가': 3089, '▁씨는': 3090, '▁씨스타': 3091, '▁씨엔블루': 3092, '▁아': 3093, '▁아끼': 3094, '▁아나운서': 3095, '▁아내': 3096, '▁아니': 3097, '▁아니냐': 3098, '▁아니냐는': 3099, '▁아니다': 3100, '▁아니라': 3101, '▁아니면': 3102, '▁아니었다': 3103, '▁아니지만': 3104, '▁아닌': 3105, '▁아동': 3106, '▁아들': 3107, '▁아래': 3108, '▁아름': 3109, '▁아름다운': 3110, '▁아무': 3111, '▁아버지': 3112, '▁아베': 3113, '▁아빠': 3114, '▁아쉬움': 3115, '▁아시아': 3116, '▁아시아나': 3117, '▁아시아나항공': 3118, '▁아예': 3119, '▁아울러': 3120, '▁아이': 3121, '▁아이돌': 3122, '▁아이들': 3123, '▁아이디어': 3124, '▁아이유': 3125, '▁아이템': 3126, '▁아이폰': 3127, '▁아주': 3128, '▁아직': 3129, '▁아침': 3130, '▁아파트': 3131, '▁아픔': 3132, '▁악': 3133, '▁악화': 3134, '▁안': 3135, '▁안내': 3136, '▁안보': 3137, '▁안에': 3138, '▁안전': 3139, '▁안정': 3140, '▁안정적인': 3141, '▁안타': 3142, '▁안타를': 3143, '▁안팎': 3144, '▁앉아': 3145, '▁않': 3146, '▁않게': 3147, '▁않겠다': 3148, '▁않고': 3149, '▁않기': 3150, '▁않는': 3151, '▁않는다': 3152, '▁않다': 3153, '▁않도록': 3154, '▁않아': 3155, '▁않았': 3156, '▁않았다': 3157, '▁않았던': 3158, '▁않았지만': 3159, '▁않으': 3160, '▁않으면': 3161, '▁않은': 3162, '▁않을': 3163, '▁않을까': 3164, '▁않지만': 3165, '▁알': 3166, '▁알게': 3167, '▁알고': 3168, '▁알려': 3169, '▁알려져': 3170, '▁알려졌다': 3171, '▁알려진': 3172, '▁알렸다': 3173, '▁알리': 3174, '▁알아': 3175, '▁알제리': 3176, '▁암': 3177, '▁압': 3178, '▁압도적': 3179, '▁압력': 3180, '▁압류': 3181, '▁압박': 3182, '▁압수수색': 3183, '▁앞': 3184, '▁앞두고': 3185, '▁앞둔': 3186, '▁앞서': 3187, '▁앞선': 3188, '▁앞세워': 3189, '▁앞에': 3190, '▁앞에서': 3191, '▁앞으로': 3192, '▁앞장서': 3193, '▁애': 3194, '▁애널리스트': 3195, '▁애니메이션': 3196, '▁애리조나': 3197, '▁애정': 3198, '▁애초': 3199, '▁애플': 3200, '▁애플리케이션': 3201, '▁액션': 3202, '▁앤': 3203, '▁앨범': 3204, '▁앱': 3205, '▁야': 3206, '▁야간': 3207, '▁야구': 3208, '▁야당': 3209, '▁야외': 3210, '▁약': 3211, '▁약세': 3212, '▁약속': 3213, '▁양': 3214, '▁양국': 3215, '▁양성': 3216, '▁양적완화': 3217, '▁양측': 3218, '▁얘기': 3219, '▁어': 3220, '▁어깨': 3221, '▁어느': 3222, '▁어디': 3223, '▁어떤': 3224, '▁어떻게': 3225, '▁어려운': 3226, '▁어려울': 3227, '▁어려움': 3228, '▁어려움을': 3229, '▁어려워': 3230, '▁어렵': 3231, '▁어렵다': 3232, '▁어린': 3233, '▁어린이': 3234, '▁어린이집': 3235, '▁어머니': 3236, '▁어울리': 3237, '▁어제': 3238, '▁억울': 3239, '▁억제': 3240, '▁언': 3241, '▁언급': 3242, '▁언급했다': 3243, '▁언론': 3244, '▁언제': 3245, '▁얻고': 3246, '▁얻어': 3247, '▁얻었다': 3248, '▁얻은': 3249, '▁얻을': 3250, '▁얼굴': 3251, '▁얼마': 3252, '▁얼마나': 3253, '▁얼음': 3254, '▁엄': 3255, '▁엄격': 3256, '▁엄마': 3257, '▁엄청난': 3258, '▁엄태웅': 3259, '▁업': 3260, '▁업계': 3261, '▁업그레이드': 3262, '▁업데이트': 3263, '▁업무': 3264, '▁업무를': 3265, '▁업무보고': 3266, '▁업종': 3267, '▁업체': 3268, '▁업체들': 3269, '▁없': 3270, '▁없고': 3271, '▁없는': 3272, '▁없다': 3273, '▁없다고': 3274, '▁없다는': 3275, '▁없도록': 3276, '▁없애': 3277, '▁없어': 3278, '▁없었': 3279, '▁없었다': 3280, '▁없었던': 3281, '▁없을': 3282, '▁없이': 3283, '▁없지만': 3284, '▁에너지': 3285, '▁에릭': 3286, '▁에스': 3287, '▁에어컨': 3288, '▁에이': 3289, '▁에이스': 3290, '▁에피소드': 3291, '▁엔': 3292, '▁엔진': 3293, '▁엔화': 3294, '▁엘': 3295, '▁엠': 3296, '▁엠넷': 3297, '▁여': 3298, '▁여객기': 3299, '▁여건': 3300, '▁여기': 3301, '▁여기에': 3302, '▁여당': 3303, '▁여러': 3304, '▁여러분': 3305, '▁여론': 3306, '▁여름': 3307, '▁여름철': 3308, '▁여배우': 3309, '▁여부': 3310, '▁여부를': 3311, '▁여성': 3312, '▁여성들': 3313, '▁여신': 3314, '▁여야': 3315, '▁여유': 3316, '▁여의도': 3317, '▁여자': 3318, '▁여자친구': 3319, '▁여전히': 3320, '▁여행': 3321, '▁역': 3322, '▁역대': 3323, '▁역량': 3324, '▁역사': 3325, '▁역사적': 3326, '▁역시': 3327, '▁역을': 3328, '▁역전': 3329, '▁역할': 3330, '▁역할을': 3331, '▁연': 3332, '▁연간': 3333, '▁연결': 3334, '▁연계': 3335, '▁연구': 3336, '▁연구개발': 3337, '▁연구원은': 3338, '▁연극': 3339, '▁연금': 3340, '▁연기': 3341, '▁연기를': 3342, '▁연락': 3343, '▁연령': 3344, '▁연말': 3345, '▁연방': 3346, '▁연봉': 3347, '▁연세대': 3348, '▁연속': 3349, '▁연습': 3350, '▁연애': 3351, '▁연예': 3352, '▁연예병사': 3353, '▁연예인': 3354, '▁연인': 3355, '▁연장': 3356, '▁연출': 3357, '▁열': 3358, '▁열고': 3359, '▁열람': 3360, '▁열렸다': 3361, '▁열리': 3362, '▁열리는': 3363, '▁열린': 3364, '▁열린다': 3365, '▁열릴': 3366, '▁열심히': 3367, '▁열애': 3368, '▁열애설': 3369, '▁열어': 3370, '▁열었다': 3371, '▁열정': 3372, '▁열차': 3373, '▁염': 3374, '▁염두에': 3375, '▁영': 3376, '▁영광': 3377, '▁영국': 3378, '▁영등포': 3379, '▁영상': 3380, '▁영어': 3381, '▁영업': 3382, '▁영업이익': 3383, '▁영업이익은': 3384, '▁영업익': 3385, '▁영업정지': 3386, '▁영역': 3387, '▁영입': 3388, '▁영하': 3389, '▁영향': 3390, '▁영향력': 3391, '▁영향으로': 3392, '▁영향을': 3393, '▁영화': 3394, '▁옆': 3395, '▁예': 3396, '▁예고': 3397, '▁예금': 3398, '▁예능': 3399, '▁예능프로그램': 3400, '▁예방': 3401, '▁예비': 3402, '▁예쁘': 3403, '▁예산': 3404, '▁예상': 3405, '▁예상되는': 3406, '▁예상된다': 3407, '▁예상치': 3408, '▁예상했다': 3409, '▁예술': 3410, '▁예약': 3411, '▁예전': 3412, '▁예정': 3413, '▁예정이다': 3414, '▁예측': 3415, '▁옛': 3416, '▁오': 3417, '▁오는': 3418, '▁오늘': 3419, '▁오늘의': 3420, '▁오디션': 3421, '▁오래': 3422, '▁오랜': 3423, '▁오랫동안': 3424, '▁오르': 3425, '▁오른': 3426, '▁오름세': 3427, '▁오바마': 3428, '▁오빠': 3429, '▁오연서': 3430, '▁오전': 3431, '▁오픈': 3432, '▁오피스텔': 3433, '▁오후': 3434, '▁오히려': 3435, '▁옥': 3436, '▁온': 3437, '▁온라인': 3438, '▁올': 3439, '▁올라': 3440, '▁올랐': 3441, '▁올랐다': 3442, '▁올려': 3443, '▁올렸다': 3444, '▁올리': 3445, '▁올린': 3446, '▁올림픽': 3447, '▁올스타': 3448, '▁올스타전': 3449, '▁올해': 3450, '▁올해부터': 3451, '▁옮겨': 3452, '▁옮기': 3453, '▁옷': 3454, '▁완': 3455, '▁완공': 3456, '▁완료': 3457, '▁완벽': 3458, '▁완벽한': 3459, '▁완성': 3460, '▁완전': 3461, '▁완전히': 3462, '▁완화': 3463, '▁왔다': 3464, '▁왕': 3465, '▁왜': 3466, '▁왜곡': 3467, '▁외': 3468, '▁외교': 3469, '▁외교부': 3470, '▁외국': 3471, '▁외국인': 3472, '▁외모': 3473, '▁외부': 3474, '▁외에': 3475, '▁외에도': 3476, '▁외환': 3477, '▁외환은행': 3478, '▁왼쪽': 3479, '▁요': 3480, '▁요구': 3481, '▁요구하는': 3482, '▁요구했다': 3483, '▁요금': 3484, '▁요금제': 3485, '▁요리': 3486, '▁요소': 3487, '▁요인': 3488, '▁요즘': 3489, '▁요청': 3490, '▁요청했다': 3491, '▁욕': 3492, '▁욕심': 3493, '▁용': 3494, '▁용산': 3495, '▁용의자': 3496, '▁용인': 3497, '▁우': 3498, '▁우려': 3499, '▁우려가': 3500, '▁우리': 3501, '▁우리가': 3502, '▁우리나라': 3503, '▁우리는': 3504, '▁우리은행': 3505, '▁우리투자증권': 3506, '▁우선': 3507, '▁우수': 3508, '▁우승': 3509, '▁우승을': 3510, '▁우주': 3511, '▁우즈': 3512, '▁운': 3513, '▁운동': 3514, '▁운명': 3515, '▁운송': 3516, '▁운영': 3517, '▁운영하는': 3518, '▁운용': 3519, '▁운전': 3520, '▁운전자': 3521, '▁운항': 3522, '▁운행': 3523, '▁울': 3524, '▁울산': 3525, '▁움직이': 3526, '▁움직임': 3527, '▁웃': 3528, '▁웃음을': 3529, '▁워': 3530, '▁워낙': 3531, '▁워싱턴': 3532, '▁원': 3533, '▁원내대변인': 3534, '▁원내대표': 3535, '▁원내대표는': 3536, '▁원래': 3537, '▁원인': 3538, '▁원장': 3539, '▁원전': 3540, '▁원정': 3541, '▁원정경기': 3542, '▁원칙': 3543, '▁원하는': 3544, '▁원화': 3545, '▁원활': 3546, '▁월드': 3547, '▁월드컵': 3548, '▁월화드라마': 3549, '▁웨딩': 3550, '▁웹': 3551, '▁위': 3552, '▁위기': 3553, '▁위로': 3554, '▁위반': 3555, '▁위안부': 3556, '▁위원': 3557, '▁위원장': 3558, '▁위원장은': 3559, '▁위조': 3560, '▁위촉': 3561, '▁위축': 3562, '▁위치': 3563, '▁위치한': 3564, '▁위탁': 3565, '▁위한': 3566, '▁위해': 3567, '▁위해서': 3568, '▁위해서는': 3569, '▁위헌': 3570, '▁위험': 3571, '▁위협': 3572, '▁윌리엄': 3573, '▁유': 3574, '▁유가증권시장': 3575, '▁유감': 3576, '▁유나이티드': 3577, '▁유니폼': 3578, '▁유도': 3579, '▁유동성': 3580, '▁유럽': 3581, '▁유력': 3582, '▁유로존': 3583, '▁유리': 3584, '▁유명': 3585, '▁유사': 3586, '▁유엔': 3587, '▁유일': 3588, '▁유입': 3589, '▁유재석': 3590, '▁유족': 3591, '▁유지': 3592, '▁유출': 3593, '▁유치': 3594, '▁유통': 3595, '▁유튜브': 3596, '▁육': 3597, '▁육군': 3598, '▁육박': 3599, '▁육성': 3600, '▁윤': 3601, '▁윤씨': 3602, '▁윤창중': 3603, '▁은퇴': 3604, '▁은행': 3605, '▁음': 3606, '▁음반': 3607, '▁음성': 3608, '▁음식': 3609, '▁음악': 3610, '▁음원': 3611, '▁응': 3612, '▁응급': 3613, '▁응답': 3614, '▁응답자': 3615, '▁응시': 3616, '▁응원': 3617, '▁의견': 3618, '▁의견을': 3619, '▁의견이': 3620, '▁의결': 3621, '▁의도': 3622, '▁의뢰': 3623, '▁의료': 3624, '▁의류': 3625, '▁의무': 3626, '▁의문': 3627, '▁의미': 3628, '▁의사': 3629, '▁의상': 3630, '▁의식': 3631, '▁의심': 3632, '▁의약품': 3633, '▁의원': 3634, '▁의원들': 3635, '▁의원은': 3636, '▁의원이': 3637, '▁의장': 3638, '▁의존': 3639, '▁의지': 3640, '▁의지를': 3641, '▁의한': 3642, '▁의해': 3643, '▁의혹': 3644, '▁의혹을': 3645, '▁의회': 3646, '▁이': 3647, '▁이같은': 3648, '▁이같이': 3649, '▁이것': 3650, '▁이곳': 3651, '▁이끄는': 3652, '▁이끌': 3653, '▁이끌어': 3654, '▁이끌었다': 3655, '▁이날': 3656, '▁이내': 3657, '▁이는': 3658, '▁이달': 3659, '▁이대호': 3660, '▁이데일리': 3661, '▁이동': 3662, '▁이동통신': 3663, '▁이동흡': 3664, '▁이들': 3665, '▁이들은': 3666, '▁이들의': 3667, '▁이들이': 3668, '▁이라크': 3669, '▁이래': 3670, '▁이러한': 3671, '▁이런': 3672, '▁이렇게': 3673, '▁이례적': 3674, '▁이로써': 3675, '▁이루': 3676, '▁이뤄': 3677, '▁이뤄졌다': 3678, '▁이뤄지': 3679, '▁이뤄진': 3680, '▁이뤄질': 3681, '▁이르는': 3682, '▁이르면': 3683, '▁이른다': 3684, '▁이른바': 3685, '▁이를': 3686, '▁이름': 3687, '▁이름을': 3688, '▁이마트': 3689, '▁이메일': 3690, '▁이명박': 3691, '▁이미': 3692, '▁이미지': 3693, '▁이미지를': 3694, '▁이민': 3695, '▁이밖에': 3696, '▁이번': 3697, '▁이번에': 3698, '▁이벤트': 3699, '▁이벤트를': 3700, '▁이병헌': 3701, '▁이사장': 3702, '▁이사회': 3703, '▁이상': 3704, '▁이상의': 3705, '▁이서진': 3706, '▁이수': 3707, '▁이슈': 3708, '▁이스라엘': 3709, '▁이슬람': 3710, '▁이승': 3711, '▁이승엽': 3712, '▁이시영': 3713, '▁이야기': 3714, '▁이야기를': 3715, '▁이어': 3716, '▁이어가고': 3717, '▁이어갔다': 3718, '▁이어졌다': 3719, '▁이어지고': 3720, '▁이어지는': 3721, '▁이어진': 3722, '▁이어질': 3723, '▁이에': 3724, '▁이와': 3725, '▁이용': 3726, '▁이용자': 3727, '▁이용한': 3728, '▁이용할': 3729, '▁이용해': 3730, '▁이웃': 3731, '▁이유': 3732, '▁이유는': 3733, '▁이유로': 3734, '▁이유를': 3735, '▁이익': 3736, '▁이재': 3737, '▁이적': 3738, '▁이전': 3739, '▁이정': 3740, '▁이정현': 3741, '▁이제': 3742, '▁이종': 3743, '▁이종석': 3744, '▁이준': 3745, '▁이중': 3746, '▁이집트': 3747, '▁이처럼': 3748, '▁이탈리아': 3749, '▁이틀': 3750, '▁이하': 3751, '▁이해': 3752, '▁이행': 3753, '▁이혼': 3754, '▁이효리': 3755, '▁이후': 3756, '▁익': 3757, '▁인': 3758, '▁인간': 3759, '▁인구': 3760, '▁인권': 3761, '▁인근': 3762, '▁인기': 3763, '▁인기를': 3764, '▁인도': 3765, '▁인도네시아': 3766, '▁인력': 3767, '▁인물': 3768, '▁인사': 3769, '▁인사들': 3770, '▁인사를': 3771, '▁인사청문회': 3772, '▁인상': 3773, '▁인생': 3774, '▁인선': 3775, '▁인쇄': 3776, '▁인수': 3777, '▁인수위': 3778, '▁인수위원': 3779, '▁인수위원회': 3780, '▁인식': 3781, '▁인연': 3782, '▁인원': 3783, '▁인재': 3784, '▁인정': 3785, '▁인정받': 3786, '▁인증': 3787, '▁인증샷': 3788, '▁인질': 3789, '▁인천': 3790, '▁인천공항': 3791, '▁인천시': 3792, '▁인터': 3793, '▁인터넷': 3794, '▁인터뷰': 3795, '▁인터뷰에서': 3796, '▁인턴기자': 3797, '▁인프라': 3798, '▁인피니트': 3799, '▁인하': 3800, '▁인한': 3801, '▁인해': 3802, '▁일': 3803, '▁일각에서는': 3804, '▁일단': 3805, '▁일대': 3806, '▁일반': 3807, '▁일방적': 3808, '▁일본': 3809, '▁일본의': 3810, '▁일부': 3811, '▁일상': 3812, '▁일어나': 3813, '▁일어난': 3814, '▁일으키': 3815, '▁일으킨': 3816, '▁일을': 3817, '▁일이': 3818, '▁일자리': 3819, '▁일정': 3820, '▁일제히': 3821, '▁일주일': 3822, '▁일환으로': 3823, '▁읽': 3824, '▁잃은': 3825, '▁임': 3826, '▁임금': 3827, '▁임기': 3828, '▁임대': 3829, '▁임명': 3830, '▁임시': 3831, '▁임시국회': 3832, '▁임신': 3833, '▁임원': 3834, '▁임직원': 3835, '▁입': 3836, '▁입건': 3837, '▁입고': 3838, '▁입단': 3839, '▁입력': 3840, '▁입법': 3841, '▁입원': 3842, '▁입은': 3843, '▁입장': 3844, '▁입장을': 3845, '▁입장이다': 3846, '▁입주': 3847, '▁입증': 3848, '▁입지': 3849, '▁입찰': 3850, '▁입학': 3851, '▁잇': 3852, '▁잇따라': 3853, '▁있': 3854, '▁있게': 3855, '▁있겠': 3856, '▁있고': 3857, '▁있기': 3858, '▁있느냐': 3859, '▁있는': 3860, '▁있는데': 3861, '▁있다': 3862, '▁있다고': 3863, '▁있다는': 3864, '▁있던': 3865, '▁있도록': 3866, '▁있습니다': 3867, '▁있어': 3868, '▁있어서': 3869, '▁있어야': 3870, '▁있었': 3871, '▁있었는데': 3872, '▁있었다': 3873, '▁있었던': 3874, '▁있었지만': 3875, '▁있으나': 3876, '▁있으니': 3877, '▁있으며': 3878, '▁있으면': 3879, '▁있을': 3880, '▁있을까': 3881, '▁있을지': 3882, '▁있음': 3883, '▁있지': 3884, '▁있지만': 3885, '▁자': 3886, '▁자격': 3887, '▁자극': 3888, '▁자금': 3889, '▁자기': 3890, '▁자녀': 3891, '▁자동': 3892, '▁자동차': 3893, '▁자랑': 3894, '▁자료': 3895, '▁자료를': 3896, '▁자리': 3897, '▁자리를': 3898, '▁자리에': 3899, '▁자리에서': 3900, '▁자발적': 3901, '▁자본': 3902, '▁자본시장': 3903, '▁자사': 3904, '▁자산': 3905, '▁자살': 3906, '▁자세': 3907, '▁자세한': 3908, '▁자신': 3909, '▁자신감': 3910, '▁자신들': 3911, '▁자신을': 3912, '▁자신의': 3913, '▁자신이': 3914, '▁자아냈다': 3915, '▁자연': 3916, '▁자연스럽게': 3917, '▁자원': 3918, '▁자원봉사': 3919, '▁자유': 3920, '▁자율': 3921, '▁자전거': 3922, '▁자존심': 3923, '▁자주': 3924, '▁자체': 3925, '▁자체가': 3926, '▁자칫': 3927, '▁자택': 3928, '▁자회사': 3929, '▁작': 3930, '▁작가': 3931, '▁작곡': 3932, '▁작년': 3933, '▁작동': 3934, '▁작성': 3935, '▁작업': 3936, '▁작업을': 3937, '▁작용': 3938, '▁작은': 3939, '▁작품': 3940, '▁잔': 3941, '▁잘': 3942, '▁잘못': 3943, '▁잘못된': 3944, '▁잠': 3945, '▁잠시': 3946, '▁잠실': 3947, '▁잠재': 3948, '▁잠정': 3949, '▁잡': 3950, '▁잡고': 3951, '▁잡아': 3952, '▁잡았다': 3953, '▁장': 3954, '▁장관': 3955, '▁장관은': 3956, '▁장기': 3957, '▁장난': 3958, '▁장르': 3959, '▁장면': 3960, '▁장비': 3961, '▁장소': 3962, '▁장애': 3963, '▁장애인': 3964, '▁장윤정': 3965, '▁장점': 3966, '▁장착': 3967, '▁장학금': 3968, '▁재': 3969, '▁재가동': 3970, '▁재개': 3971, '▁재건축': 3972, '▁재계약': 3973, '▁재난': 3974, '▁재능': 3975, '▁재무': 3976, '▁재미': 3977, '▁재미있': 3978, '▁재발': 3979, '▁재발방지': 3980, '▁재벌': 3981, '▁재산': 3982, '▁재원': 3983, '▁재정': 3984, '▁재정절벽': 3985, '▁재판': 3986, '▁재판부는': 3987, '▁재활': 3988, '▁쟁점': 3989, '▁저': 3990, '▁저녁': 3991, '▁저렴': 3992, '▁저소득층': 3993, '▁저장': 3994, '▁저지른': 3995, '▁적': 3996, '▁적극': 3997, '▁적극적으로': 3998, '▁적극적인': 3999, '▁적립': 4000, '▁적발': 4001, '▁적시타': 4002, '▁적어': 4003, '▁적용': 4004, '▁적은': 4005, '▁적응': 4006, '▁적이': 4007, '▁적자': 4008, '▁적절': 4009, '▁적지': 4010, '▁적합': 4011, '▁전': 4012, '▁전개': 4013, '▁전국': 4014, '▁전기': 4015, '▁전날': 4016, '▁전날보다': 4017, '▁전남': 4018, '▁전년': 4019, '▁전년대비': 4020, '▁전년동기': 4021, '▁전달': 4022, '▁전담': 4023, '▁전두환': 4024, '▁전략': 4025, '▁전력': 4026, '▁전망': 4027, '▁전망된다': 4028, '▁전망이다': 4029, '▁전망치': 4030, '▁전망했다': 4031, '▁전면': 4032, '▁전문': 4033, '▁전문가': 4034, '▁전문가들': 4035, '▁전문가들은': 4036, '▁전반': 4037, '▁전반기': 4038, '▁전부터': 4039, '▁전북': 4040, '▁전세': 4041, '▁전세계': 4042, '▁전시': 4043, '▁전액': 4044, '▁전에': 4045, '▁전역': 4046, '▁전용': 4047, '▁전원': 4048, '▁전자': 4049, '▁전쟁': 4050, '▁전주': 4051, '▁전지현': 4052, '▁전지훈련': 4053, '▁전체': 4054, '▁전체회의': 4055, '▁전통': 4056, '▁전투': 4057, '▁전파': 4058, '▁전해': 4059, '▁전해졌다': 4060, '▁전했다': 4061, '▁전혀': 4062, '▁전형': 4063, '▁전화': 4064, '▁전환': 4065, '▁전후': 4066, '▁절': 4067, '▁절감': 4068, '▁절대': 4069, '▁절반': 4070, '▁절차': 4071, '▁절차를': 4072, '▁젊은': 4073, '▁점': 4074, '▁점검': 4075, '▁점도': 4076, '▁점수': 4077, '▁점에서': 4078, '▁점유율': 4079, '▁점을': 4080, '▁점이': 4081, '▁점이다': 4082, '▁점점': 4083, '▁점차': 4084, '▁점포': 4085, '▁접': 4086, '▁접근': 4087, '▁접속': 4088, '▁접수': 4089, '▁접촉': 4090, '▁접한': 4091, '▁정': 4092, '▁정권': 4093, '▁정규': 4094, '▁정규직': 4095, '▁정기': 4096, '▁정당': 4097, '▁정당공천': 4098, '▁정도': 4099, '▁정도로': 4100, '▁정리': 4101, '▁정말': 4102, '▁정보': 4103, '▁정보를': 4104, '▁정보통신': 4105, '▁정부': 4106, '▁정부가': 4107, '▁정부는': 4108, '▁정부와': 4109, '▁정부의': 4110, '▁정부조직': 4111, '▁정비': 4112, '▁정상': 4113, '▁정상화': 4114, '▁정상회담': 4115, '▁정식': 4116, '▁정신': 4117, '▁정착': 4118, '▁정책': 4119, '▁정책을': 4120, '▁정체': 4121, '▁정치': 4122, '▁정치권': 4123, '▁정치적': 4124, '▁정확한': 4125, '▁정확히': 4126, '▁정황': 4127, '▁제': 4128, '▁제거': 4129, '▁제공': 4130, '▁제공하고': 4131, '▁제공하는': 4132, '▁제공한다': 4133, '▁제기': 4134, '▁제기되고': 4135, '▁제대로': 4136, '▁제도': 4137, '▁제목으로': 4138, '▁제시': 4139, '▁제시한': 4140, '▁제시했다': 4141, '▁제안': 4142, '▁제약': 4143, '▁제외': 4144, '▁제외한': 4145, '▁제임스': 4146, '▁제작': 4147, '▁제작발표회': 4148, '▁제작진': 4149, '▁제재': 4150, '▁제조': 4151, '▁제조업': 4152, '▁제조업체': 4153, '▁제주': 4154, '▁제주도': 4155, '▁제출': 4156, '▁제치고': 4157, '▁제품': 4158, '▁제품을': 4159, '▁제한': 4160, '▁제휴': 4161, '▁조': 4162, '▁조건': 4163, '▁조금': 4164, '▁조금씩': 4165, '▁조기': 4166, '▁조달': 4167, '▁조례': 4168, '▁조만간': 4169, '▁조명': 4170, '▁조사': 4171, '▁조사결과': 4172, '▁조사됐다': 4173, '▁조사를': 4174, '▁조사하고': 4175, '▁조선': 4176, '▁조성': 4177, '▁조성민': 4178, '▁조심': 4179, '▁조언': 4180, '▁조율': 4181, '▁조작': 4182, '▁조절': 4183, '▁조정': 4184, '▁조종사': 4185, '▁조직': 4186, '▁조직개편': 4187, '▁조치': 4188, '▁조치를': 4189, '▁조합원': 4190, '▁조항': 4191, '▁존': 4192, '▁존재': 4193, '▁존중': 4194, '▁졸업': 4195, '▁좀': 4196, '▁종': 4197, '▁종교': 4198, '▁종로구': 4199, '▁종료': 4200, '▁종류': 4201, '▁종목': 4202, '▁종합': 4203, '▁좋': 4204, '▁좋겠다': 4205, '▁좋다': 4206, '▁좋아': 4207, '▁좋았': 4208, '▁좋은': 4209, '▁좋지': 4210, '▁좌': 4211, '▁죄': 4212, '▁주': 4213, '▁주가': 4214, '▁주가가': 4215, '▁주거': 4216, '▁주고': 4217, '▁주관': 4218, '▁주는': 4219, '▁주도': 4220, '▁주력': 4221, '▁주로': 4222, '▁주말': 4223, '▁주말드라마': 4224, '▁주목': 4225, '▁주목된다': 4226, '▁주문': 4227, '▁주민': 4228, '▁주변': 4229, '▁주식': 4230, '▁주식시장': 4231, '▁주연': 4232, '▁주요': 4233, '▁주요뉴스': 4234, '▁주인공': 4235, '▁주장': 4236, '▁주장했다': 4237, '▁주재': 4238, '▁주제': 4239, '▁주제로': 4240, '▁주주': 4241, '▁주최': 4242, '▁주택': 4243, '▁죽': 4244, '▁죽음': 4245, '▁준': 4246, '▁준공': 4247, '▁준다': 4248, '▁준비': 4249, '▁준수': 4250, '▁준우승': 4251, '▁줄': 4252, '▁줄어든': 4253, '▁줄어들': 4254, '▁줄었다': 4255, '▁줄여': 4256, '▁중': 4257, '▁중간': 4258, '▁중국': 4259, '▁중국의': 4260, '▁중단': 4261, '▁중반': 4262, '▁중소': 4263, '▁중소기업': 4264, '▁중소형주': 4265, '▁중순': 4266, '▁중심': 4267, '▁중심으로': 4268, '▁중앙': 4269, '▁중요': 4270, '▁중요성': 4271, '▁중요하다': 4272, '▁중요한': 4273, '▁중이다': 4274, '▁중인': 4275, '▁중장기': 4276, '▁중점': 4277, '▁중흥': 4278, '▁즉': 4279, '▁즉각': 4280, '▁즉시': 4281, '▁즐거운': 4282, '▁즐기': 4283, '▁즐길': 4284, '▁증': 4285, '▁증가': 4286, '▁증가율': 4287, '▁증가한': 4288, '▁증가했다': 4289, '▁증거': 4290, '▁증권': 4291, '▁증권사': 4292, '▁증명': 4293, '▁증시': 4294, '▁증액': 4295, '▁증인': 4296, '▁지': 4297, '▁지구': 4298, '▁지금': 4299, '▁지금까지': 4300, '▁지금은': 4301, '▁지급': 4302, '▁지나': 4303, '▁지난': 4304, '▁지난달': 4305, '▁지난해': 4306, '▁지내': 4307, '▁지낸': 4308, '▁지닌': 4309, '▁지도': 4310, '▁지도부': 4311, '▁지도자': 4312, '▁지동원': 4313, '▁지명': 4314, '▁지목': 4315, '▁지방': 4316, '▁지방자치단체': 4317, '▁지배': 4318, '▁지분': 4319, '▁지사': 4320, '▁지속': 4321, '▁지속될': 4322, '▁지속적으로': 4323, '▁지속적인': 4324, '▁지수': 4325, '▁지시': 4326, '▁지식': 4327, '▁지식경제부': 4328, '▁지역': 4329, '▁지연': 4330, '▁지원': 4331, '▁지원을': 4332, '▁지원하는': 4333, '▁지원한다': 4334, '▁지자체': 4335, '▁지적': 4336, '▁지적했다': 4337, '▁지점': 4338, '▁지정': 4339, '▁지지': 4340, '▁지출': 4341, '▁지켜': 4342, '▁지켜보': 4343, '▁지키': 4344, '▁지표': 4345, '▁지하': 4346, '▁지하철': 4347, '▁지휘': 4348, '▁직': 4349, '▁직구': 4350, '▁직무': 4351, '▁직업': 4352, '▁직원': 4353, '▁직원들': 4354, '▁직장': 4355, '▁직장인': 4356, '▁직전': 4357, '▁직접': 4358, '▁직후': 4359, '▁진': 4360, '▁진단': 4361, '▁진료': 4362, '▁진보': 4363, '▁진술': 4364, '▁진실': 4365, '▁진입': 4366, '▁진주의료원': 4367, '▁진짜': 4368, '▁진출': 4369, '▁진행': 4370, '▁진행됐다': 4371, '▁진행되는': 4372, '▁진행된': 4373, '▁진행된다': 4374, '▁진행될': 4375, '▁진행하고': 4376, '▁진행한다': 4377, '▁진화': 4378, '▁질': 4379, '▁질문': 4380, '▁질문에': 4381, '▁질병': 4382, '▁짐': 4383, '▁집': 4384, '▁집계': 4385, '▁집계됐다': 4386, '▁집권': 4387, '▁집단': 4388, '▁집중': 4389, '▁집행': 4390, '▁집행유예': 4391, '▁집회': 4392, '▁짓': 4393, '▁징계': 4394, '▁징역': 4395, '▁짜': 4396, '▁짧은': 4397, '▁쪽': 4398, '▁쪽으로': 4399, '▁찍': 4400, '▁찍은': 4401, '▁차': 4402, '▁차관': 4403, '▁차기': 4404, '▁차단': 4405, '▁차량': 4406, '▁차례': 4407, '▁차별': 4408, '▁차별화된': 4409, '▁차세대': 4410, '▁차원에서': 4411, '▁차원의': 4412, '▁차이': 4413, '▁차이가': 4414, '▁차지': 4415, '▁차지하는': 4416, '▁차지한': 4417, '▁차지했다': 4418, '▁차질': 4419, '▁착': 4420, '▁착공': 4421, '▁착륙': 4422, '▁착수': 4423, '▁착용': 4424, '▁찬': 4425, '▁찬성': 4426, '▁참': 4427, '▁참가': 4428, '▁참가자들': 4429, '▁참고': 4430, '▁참석': 4431, '▁참석한': 4432, '▁참석해': 4433, '▁참석했다': 4434, '▁참여': 4435, '▁참여한': 4436, '▁참의원': 4437, '▁창': 4438, '▁창단': 4439, '▁창업': 4440, '▁창원': 4441, '▁창조': 4442, '▁창출': 4443, '▁찾기': 4444, '▁찾는': 4445, '▁찾아': 4446, '▁찾았다': 4447, '▁찾은': 4448, '▁찾을': 4449, '▁찾지': 4450, '▁채': 4451, '▁채권': 4452, '▁채널': 4453, '▁채무': 4454, '▁채용': 4455, '▁채택': 4456, '▁책': 4457, '▁책임': 4458, '▁책임을': 4459, '▁챔피언십': 4460, '▁챙겨': 4461, '▁챙기': 4462, '▁챙긴': 4463, '▁처': 4464, '▁처리': 4465, '▁처벌': 4466, '▁처분': 4467, '▁처음': 4468, '▁처음으로': 4469, '▁처음이다': 4470, '▁천': 4471, '▁천안': 4472, '▁철': 4473, '▁철강': 4474, '▁철거': 4475, '▁철저한': 4476, '▁철저히': 4477, '▁철학': 4478, '▁철회': 4479, '▁첨단': 4480, '▁첫': 4481, '▁첫날': 4482, '▁청': 4483, '▁청구': 4484, '▁청년': 4485, '▁청문회': 4486, '▁청소년': 4487, '▁청약': 4488, '▁청와대': 4489, '▁청주': 4490, '▁체': 4491, '▁체결': 4492, '▁체결했다': 4493, '▁체계적': 4494, '▁체력': 4495, '▁체제': 4496, '▁체크': 4497, '▁체포': 4498, '▁체험': 4499, '▁첼시': 4500, '▁초': 4501, '▁초과': 4502, '▁초기': 4503, '▁초대': 4504, '▁초등학교': 4505, '▁초반': 4506, '▁초점을': 4507, '▁초청': 4508, '▁촉구': 4509, '▁촉구했다': 4510, '▁촉진': 4511, '▁총': 4512, '▁총괄': 4513, '▁총기': 4514, '▁총리': 4515, '▁총장': 4516, '▁총재': 4517, '▁촬영': 4518, '▁최': 4519, '▁최강': 4520, '▁최강희': 4521, '▁최고': 4522, '▁최고위원': 4523, '▁최고의': 4524, '▁최근': 4525, '▁최다': 4526, '▁최대': 4527, '▁최대주주': 4528, '▁최대한': 4529, '▁최선을': 4530, '▁최소': 4531, '▁최소화': 4532, '▁최신': 4533, '▁최악': 4534, '▁최우선': 4535, '▁최우수': 4536, '▁최저': 4537, '▁최종': 4538, '▁최초': 4539, '▁최초로': 4540, '▁추': 4541, '▁추가': 4542, '▁추가로': 4543, '▁추격': 4544, '▁추구': 4545, '▁추락': 4546, '▁추산': 4547, '▁추세': 4548, '▁추신수': 4549, '▁추신수는': 4550, '▁추억': 4551, '▁추적': 4552, '▁추정': 4553, '▁추정된다': 4554, '▁추진': 4555, '▁추진하고': 4556, '▁추진할': 4557, '▁추징금': 4558, '▁추천': 4559, '▁추첨': 4560, '▁축': 4561, '▁축구': 4562, '▁축구협회': 4563, '▁축소': 4564, '▁축제': 4565, '▁축하': 4566, '▁춘천': 4567, '▁출': 4568, '▁출구전략': 4569, '▁출국': 4570, '▁출근': 4571, '▁출동': 4572, '▁출발': 4573, '▁출범': 4574, '▁출산': 4575, '▁출석': 4576, '▁출시': 4577, '▁출신': 4578, '▁출연': 4579, '▁출연한': 4580, '▁출연해': 4581, '▁출연했다': 4582, '▁출입': 4583, '▁출장': 4584, '▁출전': 4585, '▁출처': 4586, '▁출판': 4587, '▁충': 4588, '▁충격': 4589, '▁충남': 4590, '▁충돌': 4591, '▁충북': 4592, '▁충분': 4593, '▁충분히': 4594, '▁충실': 4595, '▁충족': 4596, '▁충청': 4597, '▁취': 4598, '▁취급': 4599, '▁취득': 4600, '▁취득세': 4601, '▁취소': 4602, '▁취약': 4603, '▁취업': 4604, '▁취임': 4605, '▁취임식': 4606, '▁취재': 4607, '▁취재진': 4608, '▁취지': 4609, '▁취하고': 4610, '▁측': 4611, '▁측근': 4612, '▁측면': 4613, '▁측면에서': 4614, '▁측은': 4615, '▁측정': 4616, '▁치': 4617, '▁치러': 4618, '▁치료': 4619, '▁치료를': 4620, '▁치르': 4621, '▁치른': 4622, '▁치솟': 4623, '▁치열': 4624, '▁치열한': 4625, '▁친': 4626, '▁친구': 4627, '▁친구들': 4628, '▁친환경': 4629, '▁침': 4630, '▁침수': 4631, '▁침체': 4632, '▁침해': 4633, '▁칭찬': 4634, '▁카': 4635, '▁카드': 4636, '▁카드사': 4637, '▁카리스마': 4638, '▁카메라': 4639, '▁카카오': 4640, '▁카페': 4641, '▁칼': 4642, '▁캐': 4643, '▁캐나다': 4644, '▁캐릭터': 4645, '▁캐스팅': 4646, '▁캘리포니아': 4647, '▁캠페인': 4648, '▁캠프': 4649, '▁캠핑': 4650, '▁캡처': 4651, '▁커': 4652, '▁커뮤니티': 4653, '▁커지고': 4654, '▁커플': 4655, '▁커피': 4656, '▁컨트롤': 4657, '▁컬러': 4658, '▁컴백': 4659, '▁컴퓨터': 4660, '▁컸다': 4661, '▁케': 4662, '▁케이': 4663, '▁케이블': 4664, '▁코': 4665, '▁코너': 4666, '▁코넥스': 4667, '▁코리아': 4668, '▁코미디': 4669, '▁코스': 4670, '▁코스닥': 4671, '▁코스피': 4672, '▁코스피지수': 4673, '▁코치': 4674, '▁콘': 4675, '▁콘서트': 4676, '▁콘셉트': 4677, '▁콘텐츠': 4678, '▁콜': 4679, '▁쿠': 4680, '▁크': 4681, '▁크게': 4682, '▁크기': 4683, '▁크다': 4684, '▁크로스': 4685, '▁크루즈': 4686, '▁크리스': 4687, '▁큰': 4688, '▁클': 4689, '▁클라라': 4690, '▁클래식': 4691, '▁클럽': 4692, '▁키': 4693, '▁키스': 4694, '▁키우': 4695, '▁키워': 4696, '▁키워드': 4697, '▁타': 4698, '▁타격': 4699, '▁타고': 4700, '▁타선': 4701, '▁타율': 4702, '▁타이': 4703, '▁타이틀': 4704, '▁타이틀곡': 4705, '▁타자': 4706, '▁탄': 4707, '▁탄력': 4708, '▁탄생': 4709, '▁탄탄한': 4710, '▁탈': 4711, '▁탈락': 4712, '▁탈출': 4713, '▁탐': 4714, '▁탑승': 4715, '▁탑재': 4716, '▁탓': 4717, '▁탓에': 4718, '▁탔다': 4719, '▁태': 4720, '▁태국': 4721, '▁태도': 4722, '▁태블릿': 4723, '▁태양': 4724, '▁태양광': 4725, '▁태어났다': 4726, '▁택시': 4727, '▁터': 4728, '▁터치': 4729, '▁터키': 4730, '▁털어놓': 4731, '▁털어놨다': 4732, '▁테': 4733, '▁테러': 4734, '▁테마': 4735, '▁테스트': 4736, '▁토': 4737, '▁토대로': 4738, '▁토론회': 4739, '▁토지': 4740, '▁토크쇼': 4741, '▁톱스타': 4742, '▁통': 4743, '▁통계': 4744, '▁통과': 4745, '▁통보': 4746, '▁통산': 4747, '▁통상': 4748, '▁통신': 4749, '▁통일': 4750, '▁통일부': 4751, '▁통제': 4752, '▁통증': 4753, '▁통한': 4754, '▁통합': 4755, '▁통해': 4756, '▁통행': 4757, '▁통화': 4758, '▁통화정책': 4759, '▁퇴': 4760, '▁퇴직': 4761, '▁투': 4762, '▁투구': 4763, '▁투명': 4764, '▁투수': 4765, '▁투어': 4766, '▁투입': 4767, '▁투자': 4768, '▁투자의견': 4769, '▁투자자': 4770, '▁투자자들': 4771, '▁투표': 4772, '▁트': 4773, '▁트렌드': 4774, '▁트위터': 4775, '▁트위터에': 4776, '▁특': 4777, '▁특별': 4778, '▁특별사면': 4779, '▁특별한': 4780, '▁특사': 4781, '▁특성': 4782, '▁특수': 4783, '▁특위': 4784, '▁특유': 4785, '▁특정': 4786, '▁특집': 4787, '▁특징': 4788, '▁특징이다': 4789, '▁특허': 4790, '▁특혜': 4791, '▁특히': 4792, '▁틀': 4793, '▁티아라': 4794, '▁티저': 4795, '▁티켓': 4796, '▁팀': 4797, '▁팀의': 4798, '▁파': 4799, '▁파견': 4800, '▁파괴': 4801, '▁파악': 4802, '▁파워': 4803, '▁파트너': 4804, '▁판': 4805, '▁판결': 4806, '▁판단': 4807, '▁판단했다': 4808, '▁판매': 4809, '▁판매량': 4810, '▁판문점': 4811, '▁판사': 4812, '▁판정': 4813, '▁팔': 4814, '▁패': 4815, '▁패널': 4816, '▁패배': 4817, '▁패션': 4818, '▁패스': 4819, '▁패키지': 4820, '▁팬': 4821, '▁팬들': 4822, '▁팬들에게': 4823, '▁팬들의': 4824, '▁팽팽': 4825, '▁퍼': 4826, '▁퍼포먼스': 4827, '▁펀드': 4828, '▁페': 4829, '▁페널티': 4830, '▁페이스북': 4831, '▁편': 4832, '▁편리하게': 4833, '▁편성': 4834, '▁편의점': 4835, '▁편집': 4836, '▁펼쳐': 4837, '▁펼쳤다': 4838, '▁펼치고': 4839, '▁펼칠': 4840, '▁평': 4841, '▁평가': 4842, '▁평가를': 4843, '▁평가했다': 4844, '▁평균': 4845, '▁평균자책점': 4846, '▁평생': 4847, '▁평소': 4848, '▁평창': 4849, '▁평택': 4850, '▁평화': 4851, '▁폐': 4852, '▁폐기': 4853, '▁폐쇄': 4854, '▁폐지': 4855, '▁포': 4856, '▁포기': 4857, '▁포스코': 4858, '▁포인트': 4859, '▁포즈를': 4860, '▁포착': 4861, '▁포털': 4862, '▁포토': 4863, '▁포함': 4864, '▁포함돼': 4865, '▁포함됐다': 4866, '▁포함된': 4867, '▁포함한': 4868, '▁포함해': 4869, '▁포항': 4870, '▁폭': 4871, '▁폭력': 4872, '▁폭로': 4873, '▁폭발': 4874, '▁폭염': 4875, '▁폭우': 4876, '▁폭풍': 4877, '▁폭행': 4878, '▁폴': 4879, '▁표': 4880, '▁표명': 4881, '▁표시': 4882, '▁표정': 4883, '▁표준': 4884, '▁표현': 4885, '▁푸': 4886, '▁푸이그': 4887, '▁풀': 4888, '▁풀어': 4889, '▁풀이된다': 4890, '▁품': 4891, '▁품목': 4892, '▁품질': 4893, '▁풍': 4894, '▁풍부한': 4895, '▁프랑스': 4896, '▁프로': 4897, '▁프로그램': 4898, '▁프로그램을': 4899, '▁프로모션': 4900, '▁프로야구': 4901, '▁프로젝트': 4902, '▁프로축구': 4903, '▁프리': 4904, '▁프리미어리그': 4905, '▁프리미엄': 4906, '▁플랫폼': 4907, '▁플레이': 4908, '▁피': 4909, '▁피부': 4910, '▁피의자': 4911, '▁피해': 4912, '▁피해가': 4913, '▁피해를': 4914, '▁피해자': 4915, '▁필': 4916, '▁필리핀': 4917, '▁필수': 4918, '▁필요': 4919, '▁필요가': 4920, '▁필요성': 4921, '▁필요하다': 4922, '▁필요한': 4923, '▁하': 4924, '▁하겠다': 4925, '▁하고': 4926, '▁하기': 4927, '▁하나': 4928, '▁하나로': 4929, '▁하는': 4930, '▁하는데': 4931, '▁하다': 4932, '▁하락': 4933, '▁하락세': 4934, '▁하락한': 4935, '▁하락했다': 4936, '▁하루': 4937, '▁하며': 4938, '▁하면': 4939, '▁하면서': 4940, '▁하반기': 4941, '▁하이': 4942, '▁하자': 4943, '▁하정우': 4944, '▁하지': 4945, '▁하지만': 4946, '▁하향': 4947, '▁학': 4948, '▁학교': 4949, '▁학교폭력': 4950, '▁학부모': 4951, '▁학생': 4952, '▁학생들': 4953, '▁학습': 4954, '▁한': 4955, '▁한강': 4956, '▁한계': 4957, '▁한국': 4958, '▁한국거래소': 4959, '▁한국은': 4960, '▁한국은행': 4961, '▁한국의': 4962, '▁한국인': 4963, '▁한국전력': 4964, '▁한다': 4965, '▁한다고': 4966, '▁한다는': 4967, '▁한때': 4968, '▁한마디': 4969, '▁한반도': 4970, '▁한번': 4971, '▁한층': 4972, '▁한파': 4973, '▁한편': 4974, '▁한혜진': 4975, '▁한화': 4976, '▁할': 4977, '▁할리우드': 4978, '▁할머니': 4979, '▁할부': 4980, '▁할인': 4981, '▁함': 4982, '▁함께': 4983, '▁합': 4984, '▁합격': 4985, '▁합니다': 4986, '▁합동': 4987, '▁합류': 4988, '▁합리적': 4989, '▁합병': 4990, '▁합의': 4991, '▁항': 4992, '▁항공': 4993, '▁항공기': 4994, '▁항목': 4995, '▁항상': 4996, '▁항소심': 4997, '▁해': 4998, '▁해결': 4999, '▁해당': 5000, '▁해당하는': 5001, '▁해도': 5002, '▁해명': 5003, '▁해명했다': 5004, '▁해병대': 5005, '▁해상': 5006, '▁해서': 5007, '▁해석': 5008, '▁해소': 5009, '▁해야': 5010, '▁해양': 5011, '▁해외': 5012, '▁해운대': 5013, '▁핵': 5014, '▁핵실험': 5015, '▁핵심': 5016, '▁했': 5017, '▁했는데': 5018, '▁했다': 5019, '▁했던': 5020, '▁했지만': 5021, '▁행': 5022, '▁행동': 5023, '▁행보': 5024, '▁행복': 5025, '▁행사': 5026, '▁행사를': 5027, '▁행사에': 5028, '▁행위': 5029, '▁행정': 5030, '▁행진': 5031, '▁향': 5032, '▁향상': 5033, '▁향한': 5034, '▁향해': 5035, '▁향후': 5036, '▁허': 5037, '▁허가': 5038, '▁허리': 5039, '▁허용': 5040, '▁허위': 5041, '▁헌': 5042, '▁헌법': 5043, '▁헌법재판소장': 5044, '▁헌재': 5045, '▁헤': 5046, '▁헤어': 5047, '▁혁신': 5048, '▁현': 5049, '▁현금': 5050, '▁현대': 5051, '▁현대건설': 5052, '▁현대모비스': 5053, '▁현대자동차': 5054, '▁현대중공업': 5055, '▁현대차': 5056, '▁현대캐피탈': 5057, '▁현상': 5058, '▁현실': 5059, '▁현안': 5060, '▁현역': 5061, '▁현장': 5062, '▁현장에서': 5063, '▁현재': 5064, '▁현재까지': 5065, '▁현지': 5066, '▁현행': 5067, '▁현황': 5068, '▁혈': 5069, '▁혐의': 5070, '▁혐의로': 5071, '▁혐의를': 5072, '▁협력': 5073, '▁협력업체': 5074, '▁협박': 5075, '▁협상': 5076, '▁협약': 5077, '▁협업': 5078, '▁협의': 5079, '▁협조': 5080, '▁형': 5081, '▁형사': 5082, '▁형성': 5083, '▁형식': 5084, '▁형제': 5085, '▁형태': 5086, '▁형태로': 5087, '▁혜택': 5088, '▁혜택을': 5089, '▁호': 5090, '▁호소': 5091, '▁호응': 5092, '▁호조': 5093, '▁호주': 5094, '▁호텔': 5095, '▁호투': 5096, '▁호평': 5097, '▁호흡': 5098, '▁혹은': 5099, '▁혼': 5100, '▁혼란': 5101, '▁혼자': 5102, '▁홀': 5103, '▁홈': 5104, '▁홈경기': 5105, '▁홈런': 5106, '▁홈페이지': 5107, '▁홍': 5108, '▁홍명보': 5109, '▁홍보': 5110, '▁홍콩': 5111, '▁화': 5112, '▁화려한': 5113, '▁화면': 5114, '▁화보': 5115, '▁화성': 5116, '▁화이트': 5117, '▁화장실': 5118, '▁화장품': 5119, '▁화재': 5120, '▁화제': 5121, '▁화제다': 5122, '▁화학': 5123, '▁확': 5124, '▁확대': 5125, '▁확보': 5126, '▁확산': 5127, '▁확실한': 5128, '▁확실히': 5129, '▁확인': 5130, '▁확인됐다': 5131, '▁확인할': 5132, '▁확장': 5133, '▁확정': 5134, '▁확충': 5135, '▁환': 5136, '▁환경': 5137, '▁환영': 5138, '▁환율': 5139, '▁환자': 5140, '▁활동': 5141, '▁활동을': 5142, '▁활발': 5143, '▁활성화': 5144, '▁활약': 5145, '▁활용': 5146, '▁활용해': 5147, '▁활주로': 5148, '▁황': 5149, '▁황금': 5150, '▁황우여': 5151, '▁회': 5152, '▁회계': 5153, '▁회담': 5154, '▁회복': 5155, '▁회사': 5156, '▁회사채': 5157, '▁회원': 5158, '▁회원가입': 5159, '▁회의': 5160, '▁회의록': 5161, '▁회의를': 5162, '▁회장': 5163, '▁회장은': 5164, '▁회장의': 5165, '▁회장이': 5166, '▁획득': 5167, '▁횡령': 5168, '▁효': 5169, '▁효과': 5170, '▁효과가': 5171, '▁효과를': 5172, '▁효과적': 5173, '▁효율성': 5174, '▁효율적': 5175, '▁후': 5176, '▁후문이다': 5177, '▁후반': 5178, '▁후반기': 5179, '▁후보': 5180, '▁후보자': 5181, '▁후속': 5182, '▁후원': 5183, '▁훈련': 5184, '▁훌륭': 5185, '▁훔친': 5186, '▁훨씬': 5187, '▁훼손': 5188, '▁휘': 5189, '▁휩쓸': 5190, '▁휴': 5191, '▁휴가': 5192, '▁휴대전화': 5193, '▁휴대폰': 5194, '▁휴식': 5195, '▁흐': 5196, '▁흐름': 5197, '▁흑자': 5198, '▁흔들': 5199, '▁흔적': 5200, '▁흘러': 5201, '▁흘리': 5202, '▁흡수': 5203, '▁흡연': 5204, '▁흥국생명': 5205, '▁흥미': 5206, '▁흥행': 5207, '▁희망': 5208, '▁희생': 5209, '▁히트': 5210, '▁힘': 5211, '▁힘든': 5212, '▁힘들': 5213, '▁힘을': 5214, '▁힘입어': 5215, '▁힙합': 5216, '■': 5217, '□': 5218, '▦': 5219, '▲': 5220, '△': 5221, '▶': 5222, '▷': 5223, '▼': 5224, '▽': 5225, '◀': 5226, '◆': 5227, '◇': 5228, '◈': 5229, '○': 5230, '★': 5231, '☎': 5232, '〃': 5233, '〈': 5234, '〉': 5235, '「': 5236, '」': 5237, '『': 5238, '』': 5239, '【': 5240, '】': 5241, '一': 5242, '三': 5243, '上': 5244, '下': 5245, '不': 5246, '中': 5247, '亞': 5248, '京': 5249, '人': 5250, '企': 5251, '倍': 5252, '先': 5253, '公': 5254, '前': 5255, '北': 5256, '南': 5257, '反': 5258, '史': 5259, '國': 5260, '報': 5261, '外': 5262, '大': 5263, '天': 5264, '女': 5265, '子': 5266, '安': 5267, '家': 5268, '對': 5269, '小': 5270, '山': 5271, '島': 5272, '州': 5273, '市': 5274, '平': 5275, '年': 5276, '弗': 5277, '心': 5278, '性': 5279, '故': 5280, '文': 5281, '新': 5282, '日': 5283, '晋': 5284, '朴': 5285, '李': 5286, '東': 5287, '株': 5288, '檢': 5289, '母': 5290, '比': 5291, '民': 5292, '江': 5293, '海': 5294, '無': 5295, '獨': 5296, '王': 5297, '生': 5298, '田': 5299, '甲': 5300, '男': 5301, '百': 5302, '盧': 5303, '知': 5304, '硏': 5305, '社': 5306, '美': 5307, '習': 5308, '胎': 5309, '與': 5310, '英': 5311, '草': 5312, '行': 5313, '西': 5314, '證': 5315, '車': 5316, '軍': 5317, '近': 5318, '道': 5319, '重': 5320, '野': 5321, '金': 5322, '銀': 5323, '電': 5324, '靑': 5325, '非': 5326, '韓': 5327, '高': 5328, '鬼': 5329, '가': 5330, '가격': 5331, '가구': 5332, '가량': 5333, '가족': 5334, '가지': 5335, '각': 5336, '간': 5337, '간다': 5338, '갇': 5339, '갈': 5340, '감': 5341, '감독': 5342, '감사': 5343, '감을': 5344, '갑': 5345, '값': 5346, '갓': 5347, '갔': 5348, '갔다': 5349, '강': 5350, '강남스타일': 5351, '강심장': 5352, '갖': 5353, '같': 5354, '같은': 5355, '갚': 5356, '개': 5357, '개국': 5358, '개그콘서트': 5359, '개로': 5360, '개를': 5361, '개발': 5362, '개사': 5363, '개선': 5364, '개성공단': 5365, '개월': 5366, '개월간': 5367, '개의': 5368, '개혁': 5369, '객': 5370, '갤': 5371, '갭': 5372, '갯': 5373, '갱': 5374, '갸': 5375, '걀': 5376, '거': 5377, '거나': 5378, '거래': 5379, '거래소': 5380, '거래일': 5381, '거리': 5382, '걱': 5383, '건': 5384, '건강': 5385, '건설': 5386, '건으로': 5387, '건전성': 5388, '걷': 5389, '걸': 5390, '걸음': 5391, '검': 5392, '검사': 5393, '검색': 5394, '검증': 5395, '검찰': 5396, '겁': 5397, '것': 5398, '겉': 5399, '게': 5400, '게임': 5401, '겐': 5402, '겔': 5403, '겟': 5404, '겠': 5405, '겠다': 5406, '겠다고': 5407, '겠다는': 5408, '겠습니다': 5409, '겠지만': 5410, '겨': 5411, '격': 5412, '겪': 5413, '견': 5414, '결': 5415, '결과': 5416, '결정': 5417, '결제': 5418, '결혼': 5419, '겸': 5420, '겹': 5421, '겼': 5422, '겼다': 5423, '경': 5424, '경기': 5425, '경기에서': 5426, '경영': 5427, '경쟁': 5428, '경쟁력': 5429, '경제': 5430, '경찰': 5431, '경찰서': 5432, '경찰서는': 5433, '경찰청': 5434, '곁': 5435, '계': 5436, '계약': 5437, '계획': 5438, '고': 5439, '고객': 5440, '고등학교': 5441, '고속도로': 5442, '곡': 5443, '곤': 5444, '곧': 5445, '골': 5446, '골을': 5447, '골프': 5448, '곰': 5449, '곱': 5450, '곳': 5451, '공': 5452, '공간': 5453, '공개': 5454, '공급': 5455, '공단': 5456, '공동체': 5457, '공무원': 5458, '공사': 5459, '공약': 5460, '공업': 5461, '공연': 5462, '공원': 5463, '공장': 5464, '공항': 5465, '공화국': 5466, '곶': 5467, '과': 5468, '과정': 5469, '과정에서': 5470, '과학': 5471, '과학기술': 5472, '곽': 5473, '관': 5474, '관계': 5475, '관광': 5476, '관련': 5477, '관리': 5478, '괄': 5479, '괌': 5480, '광': 5481, '광고': 5482, '광역시': 5483, '괜': 5484, '괴': 5485, '괴물': 5486, '굉': 5487, '교': 5488, '교사': 5489, '교섭': 5490, '교육': 5491, '교육청': 5492, '교통': 5493, '교회': 5494, '구': 5495, '구나': 5496, '구단': 5497, '구를': 5498, '구역': 5499, '구장에서': 5500, '구조': 5501, '구청장': 5502, '국': 5503, '국가': 5504, '국내': 5505, '국내외': 5506, '국민': 5507, '국장': 5508, '국정원': 5509, '국제': 5510, '국회': 5511, '군': 5512, '군은': 5513, '군의': 5514, '굳': 5515, '굴': 5516, '굵': 5517, '굶': 5518, '굽': 5519, '굿': 5520, '궁': 5521, '궂': 5522, '궈': 5523, '권': 5524, '권을': 5525, '궐': 5526, '궜': 5527, '궤': 5528, '귀': 5529, '귀태': 5530, '귄': 5531, '규': 5532, '규모': 5533, '규제': 5534, '규칙': 5535, '균': 5536, '귤': 5537, '그': 5538, '그동안': 5539, '그래': 5540, '그런': 5541, '그룹': 5542, '극': 5543, '극본': 5544, '극장': 5545, '근': 5546, '글': 5547, '글로벌': 5548, '긁': 5549, '금': 5550, '금리': 5551, '금속': 5552, '금액': 5553, '금융': 5554, '금융그룹': 5555, '금융지주': 5556, '금을': 5557, '급': 5558, '긋': 5559, '긍': 5560, '기': 5561, '기가': 5562, '기간': 5563, '기관': 5564, '기구': 5565, '기금': 5566, '기념': 5567, '기는': 5568, '기능': 5569, '기도': 5570, '기로': 5571, '기록': 5572, '기를': 5573, '기사': 5574, '기술': 5575, '기아차': 5576, '기업': 5577, '기업은행': 5578, '기에': 5579, '기자': 5580, '기준': 5581, '기지': 5582, '기획': 5583, '긴': 5584, '길': 5585, '김': 5586, '깁': 5587, '깃': 5588, '깅': 5589, '깊': 5590, '까': 5591, '까지': 5592, '깍': 5593, '깎': 5594, '깐': 5595, '깔': 5596, '깜': 5597, '깜찍': 5598, '깝': 5599, '깡': 5600, '깥': 5601, '깨': 5602, '깬': 5603, '꺼': 5604, '꺾': 5605, '껄': 5606, '껌': 5607, '껍': 5608, '껏': 5609, '껑': 5610, '께': 5611, '께서': 5612, '껴': 5613, '꼈': 5614, '꼬': 5615, '꼭': 5616, '꼴': 5617, '꼼': 5618, '꼽': 5619, '꽁': 5620, '꽂': 5621, '꽃': 5622, '꽃보다': 5623, '꽉': 5624, '꽝': 5625, '꽤': 5626, '꾀': 5627, '꾸': 5628, '꾼': 5629, '꿀': 5630, '꿇': 5631, '꿈': 5632, '꿋': 5633, '꿔': 5634, '꿨': 5635, '꿰': 5636, '뀌': 5637, '뀐': 5638, '뀔': 5639, '끄': 5640, '끄러': 5641, '끈': 5642, '끊': 5643, '끌': 5644, '끓': 5645, '끔': 5646, '끗': 5647, '끝': 5648, '끼': 5649, '끼리': 5650, '끽': 5651, '낀': 5652, '낄': 5653, '낌': 5654, '나': 5655, '나갈': 5656, '나갔다': 5657, '나는': 5658, '나라': 5659, '나무': 5660, '낙': 5661, '낚': 5662, '난': 5663, '날': 5664, '낡': 5665, '남': 5666, '남북': 5667, '남자': 5668, '납': 5669, '낫': 5670, '났': 5671, '났다': 5672, '낭': 5673, '낮': 5674, '낯': 5675, '낱': 5676, '낳': 5677, '내': 5678, '내가': 5679, '내기': 5680, '낵': 5681, '낸': 5682, '낼': 5683, '냄': 5684, '냅': 5685, '냈': 5686, '냈다': 5687, '냉': 5688, '냐': 5689, '냥': 5690, '너': 5691, '너목들': 5692, '넉': 5693, '넋': 5694, '넌': 5695, '널': 5696, '넓': 5697, '넘': 5698, '넛': 5699, '넝': 5700, '넣': 5701, '네': 5702, '네요': 5703, '네트워크': 5704, '넥': 5705, '넨': 5706, '넬': 5707, '넷': 5708, '넸': 5709, '녀': 5710, '녁': 5711, '년': 5712, '년간': 5713, '년까지': 5714, '년대': 5715, '년만에': 5716, '년부터': 5717, '년생': 5718, '년에': 5719, '년에는': 5720, '년째': 5721, '념': 5722, '녔': 5723, '녕': 5724, '노': 5725, '노동': 5726, '노조': 5727, '노컷': 5728, '노트': 5729, '녹': 5730, '논': 5731, '놀': 5732, '놈': 5733, '농': 5734, '농협': 5735, '높': 5736, '놓': 5737, '놓고': 5738, '놔': 5739, '놨': 5740, '뇌': 5741, '뇨': 5742, '누': 5743, '눅': 5744, '눈': 5745, '눌': 5746, '눔': 5747, '눕': 5748, '눠': 5749, '눴': 5750, '뉘': 5751, '뉜': 5752, '뉴': 5753, '뉴스': 5754, '뉴시스': 5755, '늄': 5756, '느': 5757, '느냐': 5758, '늑': 5759, '는': 5760, '는데': 5761, '늘': 5762, '늙': 5763, '늠': 5764, '능': 5765, '능력': 5766, '늦': 5767, '늪': 5768, '늬': 5769, '니': 5770, '니까': 5771, '니다': 5772, '니스': 5773, '니아': 5774, '닉': 5775, '닌': 5776, '닐': 5777, '님': 5778, '닙': 5779, '닛': 5780, '닝': 5781, '다': 5782, '다른': 5783, '다면': 5784, '다운': 5785, '닥': 5786, '닦': 5787, '단': 5788, '단계': 5789, '단지': 5790, '단체': 5791, '닫': 5792, '달': 5793, '달라': 5794, '달러': 5795, '닭': 5796, '닮': 5797, '담': 5798, '담당': 5799, '담보대출': 5800, '답': 5801, '닷': 5802, '닷컴': 5803, '당': 5804, '당국': 5805, '당선인': 5806, '닿': 5807, '대': 5808, '대가': 5809, '대강': 5810, '대교': 5811, '대로': 5812, '대를': 5813, '대비': 5814, '대사관': 5815, '대상': 5816, '대우증권': 5817, '대의': 5818, '대책': 5819, '대출': 5820, '대통령': 5821, '대표': 5822, '대표팀': 5823, '대학': 5824, '대학교': 5825, '대학원': 5826, '대한': 5827, '대화록': 5828, '대회': 5829, '댁': 5830, '댄': 5831, '댈': 5832, '댐': 5833, '댓': 5834, '댔': 5835, '댜': 5836, '더': 5837, '더니': 5838, '더라': 5839, '더라도': 5840, '덕': 5841, '던': 5842, '덜': 5843, '덟': 5844, '덤': 5845, '덥': 5846, '덧': 5847, '덩': 5848, '덮': 5849, '데': 5850, '데다': 5851, '데일리': 5852, '덱': 5853, '덴': 5854, '델': 5855, '뎀': 5856, '뎁': 5857, '뎌': 5858, '도': 5859, '도로': 5860, '도록': 5861, '도서관': 5862, '도시': 5863, '도지사': 5864, '독': 5865, '돈': 5866, '돋': 5867, '돌': 5868, '돔': 5869, '돕': 5870, '돗': 5871, '동': 5872, '동맹': 5873, '동안': 5874, '동향': 5875, '돼': 5876, '돼야': 5877, '됐': 5878, '됐고': 5879, '됐다': 5880, '됐던': 5881, '됐습니다': 5882, '됐으나': 5883, '됐으며': 5884, '됐지만': 5885, '되': 5886, '되고': 5887, '되기': 5888, '되는': 5889, '되도록': 5890, '되며': 5891, '되면': 5892, '되면서': 5893, '되어': 5894, '되었': 5895, '되었다': 5896, '되자': 5897, '되지': 5898, '된': 5899, '된다': 5900, '된다면': 5901, '될': 5902, '됨': 5903, '됨에': 5904, '됩': 5905, '됩니다': 5906, '두': 5907, '둑': 5908, '둔': 5909, '둘': 5910, '둠': 5911, '둡': 5912, '둥': 5913, '둬': 5914, '뒀': 5915, '뒤': 5916, '뒷': 5917, '듀': 5918, '듈': 5919, '드': 5920, '드는': 5921, '드라마': 5922, '드래곤': 5923, '드리': 5924, '드립니다': 5925, '득': 5926, '득점': 5927, '든': 5928, '든지': 5929, '듣': 5930, '들': 5931, '들과': 5932, '들도': 5933, '들어': 5934, '들에': 5935, '들에게': 5936, '들은': 5937, '들을': 5938, '들의': 5939, '들이': 5940, '듬': 5941, '듭': 5942, '듯': 5943, '등': 5944, '등급': 5945, '등록': 5946, '디': 5947, '디스크': 5948, '디스플레이': 5949, '디지털': 5950, '딕': 5951, '딘': 5952, '딛': 5953, '딜': 5954, '딤': 5955, '딧': 5956, '딩': 5957, '딪': 5958, '따': 5959, '딱': 5960, '딴': 5961, '딸': 5962, '땀': 5963, '땅': 5964, '때': 5965, '땐': 5966, '땠': 5967, '땡': 5968, '떠': 5969, '떡': 5970, '떤': 5971, '떨': 5972, '떳': 5973, '떴': 5974, '떻': 5975, '떼': 5976, '뗀': 5977, '뗄': 5978, '뗐': 5979, '또': 5980, '똑': 5981, '똘': 5982, '똥': 5983, '뚜': 5984, '뚝': 5985, '뚫': 5986, '뚱': 5987, '뛰': 5988, '뛴': 5989, '뛸': 5990, '뜨': 5991, '뜩': 5992, '뜬': 5993, '뜯': 5994, '뜰': 5995, '뜸': 5996, '뜻': 5997, '띄': 5998, '띈': 5999, '띔': 6000, '띠': 6001, '띤': 6002, '라': 6003, '라고': 6004, '라는': 6005, '라도': 6006, '라디오스타': 6007, '라며': 6008, '라면': 6009, '라운드': 6010, '라이': 6011, '라이트': 6012, '라이프': 6013, '라인': 6014, '락': 6015, '란': 6016, '랄': 6017, '람': 6018, '랍': 6019, '랏': 6020, '랐': 6021, '랑': 6022, '래': 6023, '랙': 6024, '랜': 6025, '랜드': 6026, '랠': 6027, '램': 6028, '랩': 6029, '랫': 6030, '랬': 6031, '랭': 6032, '랴': 6033, '략': 6034, '량': 6035, '량이': 6036, '러': 6037, '러스': 6038, '럭': 6039, '런': 6040, '런닝맨': 6041, '럴': 6042, '럼': 6043, '럽': 6044, '럿': 6045, '렀': 6046, '렀다': 6047, '렁': 6048, '렇': 6049, '레': 6050, '레드': 6051, '레미제라블': 6052, '레스': 6053, '레이': 6054, '렉': 6055, '렌': 6056, '렐': 6057, '렘': 6058, '렛': 6059, '려': 6060, '려고': 6061, '려는': 6062, '려면': 6063, '력': 6064, '력을': 6065, '력이': 6066, '련': 6067, '렬': 6068, '렴': 6069, '렵': 6070, '렷': 6071, '렸': 6072, '렸고': 6073, '렸다': 6074, '렸던': 6075, '렸지만': 6076, '령': 6077, '례': 6078, '로': 6079, '로부터': 6080, '로서': 6081, '로운': 6082, '록': 6083, '론': 6084, '롤': 6085, '롬': 6086, '롭': 6087, '롭게': 6088, '롯': 6089, '롯데': 6090, '롱': 6091, '뢰': 6092, '료': 6093, '룡': 6094, '루': 6095, '루타': 6096, '룩': 6097, '룬': 6098, '룰': 6099, '룸': 6100, '룹': 6101, '룻': 6102, '룽': 6103, '뤄': 6104, '뤘': 6105, '뤼': 6106, '류': 6107, '륙': 6108, '륜': 6109, '률': 6110, '륨': 6111, '륭': 6112, '르': 6113, '르트': 6114, '른': 6115, '를': 6116, '름': 6117, '릅': 6118, '릇': 6119, '릉': 6120, '릎': 6121, '리': 6122, '리그': 6123, '리는': 6124, '리를': 6125, '리바운드': 6126, '리스': 6127, '리스트': 6128, '리아': 6129, '리조트': 6130, '리지': 6131, '릭': 6132, '린': 6133, '린다': 6134, '릴': 6135, '림': 6136, '립': 6137, '릿': 6138, '링': 6139, '링크': 6140, '마': 6141, '마다': 6142, '마을': 6143, '마음': 6144, '마저': 6145, '마케팅': 6146, '마켓': 6147, '마트': 6148, '막': 6149, '만': 6150, '만달러': 6151, '만명': 6152, '만원': 6153, '만원으로': 6154, '만원을': 6155, '만으로': 6156, '만큼': 6157, '많': 6158, '맏': 6159, '말': 6160, '맑': 6161, '맘': 6162, '맙': 6163, '맛': 6164, '망': 6165, '맞': 6166, '맡': 6167, '매': 6168, '매매': 6169, '매출': 6170, '매치': 6171, '맥': 6172, '맨': 6173, '맴': 6174, '맵': 6175, '맷': 6176, '맹': 6177, '맺': 6178, '머': 6179, '머니': 6180, '머니투데이': 6181, '머리': 6182, '먹': 6183, '먼': 6184, '먼트': 6185, '멀': 6186, '멈': 6187, '멋': 6188, '멍': 6189, '메': 6190, '메이': 6191, '멕': 6192, '멘': 6193, '멜': 6194, '멤': 6195, '멧': 6196, '며': 6197, '면': 6198, '면서': 6199, '면서도': 6200, '면세점': 6201, '멸': 6202, '몄': 6203, '명': 6204, '명과': 6205, '명에게': 6206, '명으로': 6207, '명은': 6208, '명을': 6209, '명의': 6210, '명이': 6211, '몇': 6212, '모': 6213, '모델': 6214, '모바일': 6215, '모씨': 6216, '목': 6217, '목표': 6218, '몫': 6219, '몬': 6220, '몰': 6221, '몸': 6222, '몹': 6223, '못': 6224, '몽': 6225, '뫼': 6226, '묘': 6227, '무': 6228, '무릎팍도사': 6229, '무역': 6230, '무한도전': 6231, '묵': 6232, '묶': 6233, '문': 6234, '문을': 6235, '문제': 6236, '문학': 6237, '문화': 6238, '문화예술': 6239, '묻': 6240, '물': 6241, '물을': 6242, '물질': 6243, '뭄': 6244, '뭇': 6245, '뭉': 6246, '뭐': 6247, '뭔': 6248, '뭘': 6249, '뮌': 6250, '뮤': 6251, '뮤직': 6252, '뮬': 6253, '므': 6254, '미': 6255, '미국': 6256, '미디어': 6257, '미래': 6258, '미술관': 6259, '미스터': 6260, '믹': 6261, '믹스': 6262, '민': 6263, '민주': 6264, '민주당': 6265, '믿': 6266, '밀': 6267, '밋': 6268, '밌': 6269, '밍': 6270, '및': 6271, '밑': 6272, '바': 6273, '바다': 6274, '바람': 6275, '바르셀로나': 6276, '바이': 6277, '바이오': 6278, '바퀴': 6279, '박': 6280, '박근혜': 6281, '박람회': 6282, '박물관': 6283, '밖': 6284, '밖에': 6285, '반': 6286, '반도체': 6287, '받': 6288, '받고': 6289, '받는': 6290, '받아': 6291, '받았다': 6292, '받은': 6293, '받을': 6294, '발': 6295, '발굴': 6296, '발언': 6297, '발전': 6298, '발전소': 6299, '발표': 6300, '밝': 6301, '밟': 6302, '밤': 6303, '밥': 6304, '방': 6305, '방송': 6306, '방식': 6307, '방안': 6308, '방위': 6309, '방향': 6310, '밭': 6311, '배': 6312, '배우': 6313, '백': 6314, '백화점': 6315, '밴': 6316, '밴드': 6317, '밸': 6318, '뱀': 6319, '뱃': 6320, '뱅': 6321, '뱉': 6322, '버': 6323, '버리': 6324, '버린': 6325, '버스': 6326, '벅': 6327, '번': 6328, '번째': 6329, '번호': 6330, '번홀': 6331, '벌': 6332, '범': 6333, '범죄': 6334, '법': 6335, '법원': 6336, '법을': 6337, '법인': 6338, '벗': 6339, '벙': 6340, '베': 6341, '베르': 6342, '베를린': 6343, '베이': 6344, '베이스': 6345, '벡': 6346, '벤': 6347, '벤처': 6348, '벨': 6349, '벨트': 6350, '벳': 6351, '벵': 6352, '벼': 6353, '벽': 6354, '변': 6355, '별': 6356, '별로': 6357, '별로는': 6358, '볍': 6359, '볐': 6360, '병': 6361, '병원': 6362, '볕': 6363, '보': 6364, '보건': 6365, '보고': 6366, '보고서': 6367, '보기': 6368, '보는': 6369, '보니': 6370, '보다': 6371, '보다는': 6372, '보드': 6373, '보이': 6374, '보장': 6375, '보증': 6376, '보험': 6377, '보호': 6378, '복': 6379, '복지': 6380, '복합': 6381, '볶': 6382, '본': 6383, '본부': 6384, '본부장': 6385, '볼': 6386, '볼넷': 6387, '볼륨': 6388, '봄': 6389, '봅': 6390, '봇': 6391, '봉': 6392, '봐': 6393, '봐야': 6394, '봤': 6395, '봤다': 6396, '뵙': 6397, '부': 6398, '부가': 6399, '부는': 6400, '부담': 6401, '부동산': 6402, '부르크': 6403, '부문': 6404, '부산': 6405, '부장': 6406, '부장검사': 6407, '부장판사': 6408, '부처': 6409, '부터': 6410, '부품': 6411, '북': 6412, '북방한계선': 6413, '북부': 6414, '북한': 6415, '분': 6416, '분과': 6417, '분기': 6418, '분기에': 6419, '분께': 6420, '분석': 6421, '분야': 6422, '분쯤': 6423, '불': 6424, '붉': 6425, '붐': 6426, '붓': 6427, '붕': 6428, '붙': 6429, '뷔': 6430, '뷰': 6431, '브': 6432, '브라': 6433, '브랜드': 6434, '브레이크': 6435, '브리': 6436, '븐': 6437, '블': 6438, '블랙': 6439, '블록': 6440, '비': 6441, '비가': 6442, '비를': 6443, '비서관': 6444, '비아': 6445, '비용': 6446, '비율': 6447, '비치': 6448, '빅': 6449, '빈': 6450, '빌': 6451, '빌딩': 6452, '빔': 6453, '빕': 6454, '빗': 6455, '빙': 6456, '빚': 6457, '빛': 6458, '빠': 6459, '빡': 6460, '빨': 6461, '빴': 6462, '빵': 6463, '빼': 6464, '빽': 6465, '뺀': 6466, '뺏': 6467, '뺐': 6468, '뺑': 6469, '뺨': 6470, '뻐': 6471, '뻑': 6472, '뻔': 6473, '뻗': 6474, '뻤': 6475, '뻥': 6476, '뼈': 6477, '뽀': 6478, '뽐': 6479, '뽑': 6480, '뽕': 6481, '뾰': 6482, '뿌': 6483, '뿐': 6484, '뿐만': 6485, '뿔': 6486, '뿜': 6487, '쁘': 6488, '쁜': 6489, '쁠': 6490, '쁨': 6491, '삐': 6492, '사': 6493, '사가': 6494, '사건': 6495, '사고': 6496, '사는': 6497, '사람': 6498, '사랑': 6499, '사를': 6500, '사무소': 6501, '사실': 6502, '사업': 6503, '사업본부': 6504, '사업부': 6505, '사업자': 6506, '사와': 6507, '사의': 6508, '사이드': 6509, '사이트': 6510, '사진': 6511, '사진제공': 6512, '사항': 6513, '사회': 6514, '삭': 6515, '산': 6516, '산업': 6517, '산업단지': 6518, '살': 6519, '삶': 6520, '삼': 6521, '삼성': 6522, '삼성전자': 6523, '삽': 6524, '삿': 6525, '샀': 6526, '상': 6527, '상공회의소': 6528, '상담': 6529, '상당히': 6530, '상을': 6531, '상태': 6532, '상품': 6533, '상황': 6534, '샅': 6535, '새': 6536, '새누리당': 6537, '색': 6538, '샌': 6539, '샐': 6540, '샘': 6541, '생': 6542, '생명': 6543, '생산': 6544, '생활': 6545, '샤': 6546, '샬': 6547, '샴': 6548, '샵': 6549, '샷': 6550, '샹': 6551, '섀': 6552, '서': 6553, '서는': 6554, '서비스': 6555, '서울': 6556, '석': 6557, '섞': 6558, '선': 6559, '선거': 6560, '선물': 6561, '선수': 6562, '선수권대회': 6563, '선을': 6564, '섣': 6565, '설': 6566, '설국열차': 6567, '설명회': 6568, '섬': 6569, '섭': 6570, '섯': 6571, '섰': 6572, '성': 6573, '성과': 6574, '성은': 6575, '성을': 6576, '성이': 6577, '성장': 6578, '세': 6579, '세가': 6580, '세계': 6581, '세계일보': 6582, '세대': 6583, '세력': 6584, '세를': 6585, '세요': 6586, '세이브': 6587, '세트': 6588, '세포': 6589, '섹': 6590, '센': 6591, '센스': 6592, '센터': 6593, '센터에서': 6594, '센트': 6595, '셀': 6596, '셈': 6597, '셉': 6598, '셋': 6599, '셍': 6600, '셔': 6601, '션': 6602, '셜': 6603, '셨': 6604, '셰': 6605, '셸': 6606, '소': 6607, '소득': 6608, '소리': 6609, '소방서': 6610, '소비자': 6611, '소송': 6612, '소연': 6613, '소프트': 6614, '속': 6615, '손': 6616, '손해보험': 6617, '솔': 6618, '솜': 6619, '솟': 6620, '송': 6621, '솥': 6622, '쇄': 6623, '쇠': 6624, '쇼': 6625, '숀': 6626, '숍': 6627, '숏': 6628, '수': 6629, '수가': 6630, '수는': 6631, '수록': 6632, '수를': 6633, '수사': 6634, '수석': 6635, '수수료': 6636, '수술': 6637, '수원': 6638, '수익': 6639, '수익률': 6640, '수지': 6641, '숙': 6642, '순': 6643, '순위': 6644, '술': 6645, '숨': 6646, '숨어있': 6647, '숫': 6648, '숭': 6649, '숱': 6650, '숲': 6651, '쉐': 6652, '쉬': 6653, '쉰': 6654, '쉴': 6655, '쉼': 6656, '쉽': 6657, '슈': 6658, '슈퍼': 6659, '슈퍼스타': 6660, '슐': 6661, '슘': 6662, '슛': 6663, '스': 6664, '스가': 6665, '스는': 6666, '스러운': 6667, '스러워': 6668, '스럽': 6669, '스럽게': 6670, '스럽다': 6671, '스를': 6672, '스마트': 6673, '스와': 6674, '스완지시티': 6675, '스의': 6676, '스카': 6677, '스캔들': 6678, '스케': 6679, '스코': 6680, '스쿨': 6681, '스크': 6682, '스키': 6683, '스타': 6684, '스탠': 6685, '스터': 6686, '스턴': 6687, '스테': 6688, '스토리': 6689, '스토어': 6690, '스트': 6691, '스티': 6692, '스페셜': 6693, '스포츠': 6694, '스포츠조선': 6695, '슨': 6696, '슬': 6697, '슴': 6698, '습': 6699, '습니까': 6700, '습니다': 6701, '슷': 6702, '승': 6703, '승을': 6704, '시': 6705, '시간': 6706, '시께': 6707, '시대': 6708, '시리즈': 6709, '시민': 6710, '시부터': 6711, '시설': 6712, '시스템': 6713, '시아': 6714, '시의회': 6715, '시장': 6716, '시장에서': 6717, '시즌': 6718, '시청': 6719, '시켜': 6720, '시켰다': 6721, '시키': 6722, '시키고': 6723, '시키기': 6724, '시키는': 6725, '시킨': 6726, '시킬': 6727, '시티': 6728, '시험': 6729, '식': 6730, '식을': 6731, '식품': 6732, '신': 6733, '신도시': 6734, '신문': 6735, '신청': 6736, '싣': 6737, '실': 6738, '실리콘': 6739, '실에서': 6740, '실장': 6741, '실적': 6742, '실점': 6743, '싫': 6744, '심': 6745, '심리': 6746, '심사': 6747, '심을': 6748, '십': 6749, '싱': 6750, '싶': 6751, '싸': 6752, '싸움': 6753, '싹': 6754, '싼': 6755, '쌀': 6756, '쌈': 6757, '쌌': 6758, '쌍': 6759, '쌓': 6760, '써': 6761, '썩': 6762, '썬': 6763, '썰': 6764, '썸': 6765, '썹': 6766, '썼': 6767, '썽': 6768, '쎄': 6769, '쏘': 6770, '쏙': 6771, '쏜': 6772, '쏟': 6773, '쏠': 6774, '쏴': 6775, '쐐': 6776, '쑤': 6777, '쑥': 6778, '쓰': 6779, '쓴': 6780, '쓸': 6781, '씀': 6782, '씁': 6783, '씌': 6784, '씨': 6785, '씨가': 6786, '씨는': 6787, '씨를': 6788, '씨에게': 6789, '씨와': 6790, '씨의': 6791, '씩': 6792, '씬': 6793, '씹': 6794, '씻': 6795, '씽': 6796, '아': 6797, '아버지': 6798, '아빠': 6799, '아시아': 6800, '아시아경제': 6801, '아시아투데이': 6802, '아웃': 6803, '아이': 6804, '아일랜드': 6805, '아직': 6806, '아카데미': 6807, '아트': 6808, '아파트': 6809, '아프리카': 6810, '악': 6811, '안': 6812, '안드로이드': 6813, '안보': 6814, '안을': 6815, '안전': 6816, '안정': 6817, '안타': 6818, '앉': 6819, '않': 6820, '알': 6821, '알리미': 6822, '앓': 6823, '암': 6824, '압': 6825, '앗': 6826, '았': 6827, '았다': 6828, '았던': 6829, '았지만': 6830, '앙': 6831, '앞': 6832, '앞으로': 6833, '애': 6834, '액': 6835, '액은': 6836, '앤': 6837, '앨': 6838, '앰': 6839, '앱': 6840, '앳': 6841, '앵': 6842, '앵커멘트': 6843, '야': 6844, '야구': 6845, '약': 6846, '약품': 6847, '얀': 6848, '얄': 6849, '얇': 6850, '얌': 6851, '얏': 6852, '양': 6853, '얘': 6854, '어': 6855, '어야': 6856, '어요': 6857, '억': 6858, '억달러': 6859, '억여원': 6860, '억원': 6861, '억원으로': 6862, '억원을': 6863, '억원의': 6864, '언': 6865, '언더파': 6866, '언론': 6867, '얹': 6868, '얻': 6869, '얼': 6870, '얽': 6871, '엄': 6872, '업': 6873, '업계': 6874, '업무': 6875, '업소': 6876, '업자': 6877, '업종': 6878, '업체': 6879, '업체들': 6880, '없': 6881, '없는': 6882, '없이': 6883, '엇': 6884, '었': 6885, '었고': 6886, '었는데': 6887, '었다': 6888, '었던': 6889, '었습니다': 6890, '었으나': 6891, '었으며': 6892, '었지만': 6893, '엉': 6894, '엎': 6895, '에': 6896, '에게': 6897, '에게는': 6898, '에너지': 6899, '에는': 6900, '에도': 6901, '에만': 6902, '에서': 6903, '에서는': 6904, '에서도': 6905, '에선': 6906, '엑': 6907, '엑스': 6908, '엔': 6909, '엔지니어링': 6910, '엔터테인먼트': 6911, '엘': 6912, '엠': 6913, '엣': 6914, '엥': 6915, '여': 6916, '여개': 6917, '여건': 6918, '여름': 6919, '여명': 6920, '여명의': 6921, '여명이': 6922, '여성': 6923, '여자': 6924, '여행': 6925, '역': 6926, '엮': 6927, '연': 6928, '연구': 6929, '연구소': 6930, '연구원': 6931, '연금': 6932, '연맹': 6933, '연수원': 6934, '연승': 6935, '연예': 6936, '연패': 6937, '연합': 6938, '연합회': 6939, '열': 6940, '염': 6941, '엽': 6942, '엿': 6943, '였': 6944, '였고': 6945, '였다': 6946, '였던': 6947, '였습니다': 6948, '였으며': 6949, '였지만': 6950, '영': 6951, '영상': 6952, '영업': 6953, '영화': 6954, '영화제': 6955, '옆': 6956, '예': 6957, '예방': 6958, '예산': 6959, '예술': 6960, '옌': 6961, '옐': 6962, '옛': 6963, '오': 6964, '오는': 6965, '오늘': 6966, '오른쪽': 6967, '오토': 6968, '오픈': 6969, '옥': 6970, '온': 6971, '온라인': 6972, '올': 6973, '올림픽': 6974, '올해': 6975, '옮': 6976, '옳': 6977, '옴': 6978, '옵': 6979, '옵션': 6980, '옷': 6981, '옹': 6982, '와': 6983, '와의': 6984, '완': 6985, '왈': 6986, '왑': 6987, '왓': 6988, '왔': 6989, '왔다': 6990, '왔던': 6991, '왕': 6992, '왜': 6993, '왠': 6994, '외': 6995, '외국인': 6996, '왼': 6997, '왼쪽': 6998, '요': 6999, '요금': 7000, '욕': 7001, '욘': 7002, '용': 7003, '용품': 7004, '우': 7005, '우는': 7006, '우리': 7007, '우스': 7008, '욱': 7009, '운': 7010, '운동': 7011, '운영': 7012, '울': 7013, '움': 7014, '웃': 7015, '웃음': 7016, '웅': 7017, '워': 7018, '웍': 7019, '원': 7020, '원에': 7021, '원에서': 7022, '원으로': 7023, '원은': 7024, '원을': 7025, '원의': 7026, '원이': 7027, '월': 7028, '월까지': 7029, '월드': 7030, '월드컵': 7031, '월말': 7032, '월부터': 7033, '월에': 7034, '월에는': 7035, '웠': 7036, '웠다': 7037, '웨': 7038, '웨어': 7039, '웨이': 7040, '웬': 7041, '웰': 7042, '웹': 7043, '위': 7044, '위권': 7045, '위기': 7046, '위는': 7047, '위로': 7048, '위를': 7049, '위안': 7050, '위에': 7051, '위원': 7052, '위원장': 7053, '위원회': 7054, '위원회는': 7055, '위험': 7056, '윅': 7057, '윈': 7058, '윌': 7059, '윔': 7060, '윗': 7061, '윙': 7062, '유': 7063, '유럽': 7064, '유통': 7065, '유플러스': 7066, '육': 7067, '윤': 7068, '율': 7069, '율은': 7070, '율을': 7071, '율이': 7072, '융': 7073, '으': 7074, '으나': 7075, '으니': 7076, '으려': 7077, '으로': 7078, '으로부터': 7079, '으로서': 7080, '으로써': 7081, '으며': 7082, '으면': 7083, '으면서': 7084, '윽': 7085, '은': 7086, '은행': 7087, '을': 7088, '음': 7089, '음악': 7090, '음에도': 7091, '음을': 7092, '읍': 7093, '응': 7094, '의': 7095, '이': 7096, '이기도': 7097, '이나': 7098, '이닝': 7099, '이다': 7100, '이라': 7101, '이라고': 7102, '이라는': 7103, '이라도': 7104, '이라며': 7105, '이라면서': 7106, '이란': 7107, '이며': 7108, '이번': 7109, '이상': 7110, '이어서': 7111, '이었다': 7112, '이었던': 7113, '이익': 7114, '이자': 7115, '이지만': 7116, '이하': 7117, '익': 7118, '인': 7119, '인데': 7120, '인사': 7121, '인수위': 7122, '인지': 7123, '인터내셔널': 7124, '인터넷': 7125, '일': 7126, '일간': 7127, '일까지': 7128, '일반': 7129, '일보': 7130, '일본': 7131, '일부터': 7132, '일에는': 7133, '읽': 7134, '잃': 7135, '임': 7136, '임을': 7137, '입': 7138, '입니다': 7139, '잇': 7140, '있': 7141, '있는': 7142, '있다': 7143, '잉': 7144, '잊': 7145, '잎': 7146, '자': 7147, '자가': 7148, '자금': 7149, '자는': 7150, '자동차': 7151, '자들': 7152, '자들은': 7153, '자들의': 7154, '자들이': 7155, '자로': 7156, '자료': 7157, '자를': 7158, '자리': 7159, '자마자': 7160, '자본': 7161, '자산': 7162, '자산운용': 7163, '자에게': 7164, '자와': 7165, '자원': 7166, '자의': 7167, '자인': 7168, '자치': 7169, '작': 7170, '작업': 7171, '잔': 7172, '잖': 7173, '잘': 7174, '잠': 7175, '잡': 7176, '잣': 7177, '장': 7178, '장과': 7179, '장관': 7180, '장비': 7181, '장애': 7182, '장애인': 7183, '장에서': 7184, '장으로': 7185, '장은': 7186, '장을': 7187, '장이': 7188, '장치': 7189, '잦': 7190, '재': 7191, '재단': 7192, '재료': 7193, '재산': 7194, '재정': 7195, '재판': 7196, '잭': 7197, '쟁': 7198, '저': 7199, '저축': 7200, '저축은행': 7201, '적': 7202, '적으로': 7203, '적이고': 7204, '적이다': 7205, '적인': 7206, '전': 7207, '전략': 7208, '전문': 7209, '전에': 7210, '전에서': 7211, '전우치': 7212, '전을': 7213, '전자': 7214, '전쟁': 7215, '전환': 7216, '절': 7217, '절차': 7218, '젊': 7219, '점': 7220, '점검': 7221, '점으로': 7222, '점을': 7223, '점이': 7224, '접': 7225, '젓': 7226, '정': 7227, '정글의': 7228, '정보': 7229, '정부': 7230, '정책': 7231, '정치': 7232, '젖': 7233, '제': 7234, '제도': 7235, '제를': 7236, '제약': 7237, '제주': 7238, '제품': 7239, '젝': 7240, '젠': 7241, '젤': 7242, '젬': 7243, '젯': 7244, '져': 7245, '져야': 7246, '젼': 7247, '졌': 7248, '졌고': 7249, '졌다': 7250, '졌습니다': 7251, '졌지만': 7252, '조': 7253, '조건': 7254, '조사': 7255, '조선': 7256, '조선해양': 7257, '조원': 7258, '조정': 7259, '조직': 7260, '조차': 7261, '조치': 7262, '족': 7263, '존': 7264, '졸': 7265, '좀': 7266, '좁': 7267, '종': 7268, '종목': 7269, '종합': 7270, '좋': 7271, '좋은': 7272, '좌': 7273, '죄': 7274, '죠': 7275, '주': 7276, '주가': 7277, '주기': 7278, '주년': 7279, '주는': 7280, '주민': 7281, '주세요': 7282, '주식': 7283, '주의': 7284, '주의보': 7285, '주택': 7286, '죽': 7287, '준': 7288, '준비': 7289, '준호': 7290, '준희': 7291, '줄': 7292, '줌': 7293, '줍': 7294, '중': 7295, '중견기업': 7296, '중공업': 7297, '중국': 7298, '중소기업': 7299, '중심': 7300, '중앙': 7301, '중인': 7302, '줘': 7303, '줘야': 7304, '줬': 7305, '줬다': 7306, '쥐': 7307, '쥔': 7308, '쥬': 7309, '즈': 7310, '즉': 7311, '즌': 7312, '즐': 7313, '즘': 7314, '즙': 7315, '증': 7316, '증권': 7317, '지': 7318, '지가': 7319, '지검': 7320, '지고': 7321, '지구': 7322, '지금': 7323, '지나치게': 7324, '지난': 7325, '지난해': 7326, '지는': 7327, '지도': 7328, '지를': 7329, '지만': 7330, '지면서': 7331, '지방': 7332, '지방경찰청': 7333, '지법': 7334, '지수': 7335, '지수는': 7336, '지역': 7337, '지원': 7338, '지원센터': 7339, '지지': 7340, '지훈': 7341, '직': 7342, '직원': 7343, '진': 7344, '진다': 7345, '진영': 7346, '진짜': 7347, '진흥': 7348, '진흥원': 7349, '질': 7350, '질서': 7351, '질환': 7352, '짐': 7353, '집': 7354, '집행': 7355, '짓': 7356, '징': 7357, '짖': 7358, '짙': 7359, '짚': 7360, '짜': 7361, '짜리': 7362, '짝': 7363, '짠': 7364, '짤': 7365, '짧': 7366, '짬': 7367, '짱': 7368, '째': 7369, '쨌': 7370, '쩌': 7371, '쩍': 7372, '쩔': 7373, '쩡': 7374, '쪼': 7375, '쪽': 7376, '쫄': 7377, '쫓': 7378, '쭈': 7379, '쭉': 7380, '쯔': 7381, '쯤': 7382, '찌': 7383, '찍': 7384, '찐': 7385, '찔': 7386, '찜': 7387, '찢': 7388, '차': 7389, '차량': 7390, '차례': 7391, '차익': 7392, '차전': 7393, '착': 7394, '찬': 7395, '찮': 7396, '찰': 7397, '참': 7398, '참여': 7399, '찹': 7400, '찼': 7401, '창': 7402, '창업': 7403, '찾': 7404, '채': 7405, '채권': 7406, '채널': 7407, '책': 7408, '책을': 7409, '책임': 7410, '챈': 7411, '챌': 7412, '챔': 7413, '챔피언': 7414, '챙': 7415, '처': 7416, '처럼': 7417, '처리': 7418, '처분': 7419, '처음': 7420, '척': 7421, '천': 7422, '천만': 7423, '천만원': 7424, '천명': 7425, '천억원': 7426, '철': 7427, '첨': 7428, '첩': 7429, '첫': 7430, '청': 7431, '청담동': 7432, '청사': 7433, '청소년': 7434, '청은': 7435, '체': 7436, '체계': 7437, '체육': 7438, '체제': 7439, '체험': 7440, '첸': 7441, '첼': 7442, '쳐': 7443, '쳤': 7444, '쳤다': 7445, '초': 7446, '초등학교': 7447, '촉': 7448, '촌': 7449, '촘': 7450, '촛': 7451, '총': 7452, '총리': 7453, '총회': 7454, '촨': 7455, '촬': 7456, '촬영': 7457, '최': 7458, '최고': 7459, '최근': 7460, '추': 7461, '추진': 7462, '축': 7463, '축구': 7464, '축구연맹': 7465, '축제': 7466, '춘': 7467, '출': 7468, '춤': 7469, '춥': 7470, '춧': 7471, '충': 7472, '춰': 7473, '췄': 7474, '췌': 7475, '취': 7476, '츄': 7477, '츠': 7478, '측': 7479, '측은': 7480, '츰': 7481, '층': 7482, '치': 7483, '치고': 7484, '치는': 7485, '치료': 7486, '치를': 7487, '칙': 7488, '친': 7489, '칠': 7490, '침': 7491, '칩': 7492, '칫': 7493, '칭': 7494, '카': 7495, '카드': 7496, '카페': 7497, '칵': 7498, '칸': 7499, '칼': 7500, '캄': 7501, '캉': 7502, '캐': 7503, '캐피탈': 7504, '캔': 7505, '캘': 7506, '캠': 7507, '캠퍼스': 7508, '캠프': 7509, '캡': 7510, '캣': 7511, '커': 7512, '컥': 7513, '컨': 7514, '컨설팅': 7515, '컫': 7516, '컬': 7517, '컴': 7518, '컴퍼니': 7519, '컵': 7520, '컷': 7521, '컸': 7522, '케': 7523, '케미칼': 7524, '케이': 7525, '켄': 7526, '켈': 7527, '켐': 7528, '켓': 7529, '켜': 7530, '켠': 7531, '켰': 7532, '코': 7533, '코드': 7534, '코리아': 7535, '코스닥': 7536, '코스피': 7537, '콕': 7538, '콘': 7539, '콘서트': 7540, '콘텐츠': 7541, '콜': 7542, '콤': 7543, '콥': 7544, '콧': 7545, '콩': 7546, '콰': 7547, '쾌': 7548, '쿄': 7549, '쿠': 7550, '쿠키': 7551, '쿡': 7552, '쿤': 7553, '쿨': 7554, '쿵': 7555, '쿼': 7556, '쿼터': 7557, '퀄': 7558, '퀘': 7559, '퀴': 7560, '퀵': 7561, '퀸': 7562, '큐': 7563, '큘': 7564, '크': 7565, '크레': 7566, '큰': 7567, '클': 7568, '클라우드': 7569, '클럽': 7570, '클리': 7571, '큼': 7572, '키': 7573, '키로': 7574, '킥': 7575, '킨': 7576, '킬': 7577, '킴': 7578, '킷': 7579, '킹': 7580, '타': 7581, '타를': 7582, '타수': 7583, '타운': 7584, '타워': 7585, '타임': 7586, '타자': 7587, '타점': 7588, '탁': 7589, '탄': 7590, '탈': 7591, '탈삼진': 7592, '탐': 7593, '탑': 7594, '탓': 7595, '탔': 7596, '탕': 7597, '태': 7598, '태영': 7599, '태평양': 7600, '택': 7601, '탠': 7602, '탤': 7603, '탬': 7604, '탭': 7605, '탰': 7606, '탱': 7607, '탱크': 7608, '터': 7609, '터미널': 7610, '턱': 7611, '턴': 7612, '털': 7613, '텀': 7614, '텁': 7615, '텃': 7616, '텅': 7617, '테': 7618, '테크': 7619, '텍': 7620, '텐': 7621, '텔': 7622, '텔레콤': 7623, '템': 7624, '텝': 7625, '텨': 7626, '톈': 7627, '토': 7628, '토록': 7629, '토크': 7630, '톡': 7631, '톤': 7632, '톨': 7633, '톰': 7634, '톱': 7635, '통': 7636, '통신': 7637, '통합': 7638, '통화': 7639, '퇴': 7640, '투': 7641, '투데이': 7642, '투수': 7643, '투어': 7644, '투자': 7645, '투자증권': 7646, '투표': 7647, '툭': 7648, '툰': 7649, '툴': 7650, '툼': 7651, '퉁': 7652, '퉈': 7653, '튀': 7654, '튕': 7655, '튜': 7656, '튠': 7657, '튬': 7658, '트': 7659, '트랙': 7660, '트로': 7661, '트리': 7662, '특': 7663, '특별': 7664, '특위': 7665, '특징주': 7666, '특히': 7667, '튼': 7668, '튿': 7669, '틀': 7670, '틈': 7671, '틋': 7672, '티': 7673, '티브': 7674, '틱': 7675, '틴': 7676, '틸': 7677, '팀': 7678, '팀장': 7679, '팁': 7680, '팅': 7681, '파': 7682, '파운드': 7683, '파이어': 7684, '파크': 7685, '팍': 7686, '팎': 7687, '판': 7688, '판매': 7689, '팔': 7690, '팜': 7691, '팝': 7692, '팟': 7693, '팠': 7694, '팡': 7695, '팥': 7696, '패': 7697, '패밀리': 7698, '패션': 7699, '팩': 7700, '팬': 7701, '팬들': 7702, '팰': 7703, '팸': 7704, '팽': 7705, '퍼': 7706, '펀': 7707, '펀드': 7708, '펄': 7709, '펌': 7710, '펑': 7711, '페': 7712, '페스티벌': 7713, '페이스': 7714, '펙': 7715, '펜': 7716, '펠': 7717, '펫': 7718, '펴': 7719, '편': 7720, '펼': 7721, '폄': 7722, '폈': 7723, '평': 7724, '평가': 7725, '평균': 7726, '폐': 7727, '포': 7728, '포럼': 7729, '포스트': 7730, '포인트': 7731, '포토': 7732, '포트': 7733, '폭': 7734, '폭력': 7735, '폰': 7736, '폴': 7737, '폴리': 7738, '폼': 7739, '퐁': 7740, '표': 7741, '표를': 7742, '푸': 7743, '푸드': 7744, '푹': 7745, '푼': 7746, '풀': 7747, '품': 7748, '풋': 7749, '풍': 7750, '퓨': 7751, '퓰': 7752, '프': 7753, '프라': 7754, '프로': 7755, '프로골프': 7756, '프로그램': 7757, '프로야구': 7758, '프리': 7759, '픈': 7760, '플': 7761, '플라이': 7762, '플랜트': 7763, '플러스': 7764, '플레이': 7765, '픔': 7766, '피': 7767, '피스': 7768, '피아': 7769, '피안타': 7770, '피해': 7771, '픽': 7772, '핀': 7773, '필': 7774, '필드': 7775, '필름': 7776, '핌': 7777, '핍': 7778, '핏': 7779, '핑': 7780, '핑크': 7781, '하': 7782, '하거나': 7783, '하게': 7784, '하겠다': 7785, '하겠다고': 7786, '하겠다는': 7787, '하고': 7788, '하기': 7789, '하기도': 7790, '하기로': 7791, '하나': 7792, '하느냐': 7793, '하는': 7794, '하는데': 7795, '하늘': 7796, '하니': 7797, '하다': 7798, '하다고': 7799, '하다는': 7800, '하더라도': 7801, '하던': 7802, '하도록': 7803, '하라': 7804, '하라고': 7805, '하려': 7806, '하려고': 7807, '하려는': 7808, '하려면': 7809, '하며': 7810, '하면': 7811, '하면서': 7812, '하면서도': 7813, '하세요': 7814, '하여': 7815, '하우스': 7816, '하이닉스': 7817, '하자': 7818, '하지': 7819, '하지만': 7820, '학': 7821, '학과': 7822, '학교': 7823, '학년': 7824, '학생': 7825, '학습': 7826, '학원': 7827, '한': 7828, '한국': 7829, '한국시간': 7830, '한다': 7831, '한다고': 7832, '한다는': 7833, '한다면': 7834, '한테': 7835, '할': 7836, '함': 7837, '함께': 7838, '함에': 7839, '함으로써': 7840, '함을': 7841, '합': 7842, '합니다': 7843, '핫': 7844, '핫이슈': 7845, '항': 7846, '항공': 7847, '해': 7848, '해달라': 7849, '해서': 7850, '해수욕장': 7851, '해야': 7852, '해온': 7853, '해왔다': 7854, '해졌다': 7855, '해주고': 7856, '해주는': 7857, '해진': 7858, '핵': 7859, '핸': 7860, '핸드': 7861, '햄': 7862, '햇': 7863, '했': 7864, '했고': 7865, '했기': 7866, '했는데': 7867, '했는지': 7868, '했다': 7869, '했다고': 7870, '했다는': 7871, '했던': 7872, '했습니다': 7873, '했어요': 7874, '했었다': 7875, '했으나': 7876, '했으며': 7877, '했으면': 7878, '했을': 7879, '했지만': 7880, '행': 7881, '행복': 7882, '행사': 7883, '행위': 7884, '행정': 7885, '향': 7886, '허': 7887, '허가': 7888, '헉': 7889, '헌': 7890, '헐': 7891, '험': 7892, '헛': 7893, '헝': 7894, '헤': 7895, '헨': 7896, '헬': 7897, '헷': 7898, '혀': 7899, '혁': 7900, '혁명': 7901, '혁신': 7902, '현': 7903, '현대': 7904, '현장': 7905, '현재': 7906, '현지시각': 7907, '현지시간': 7908, '혈': 7909, '혐': 7910, '협': 7911, '협동조합': 7912, '협력': 7913, '협상': 7914, '협의체': 7915, '협의회': 7916, '협정': 7917, '협회': 7918, '혔': 7919, '혔다': 7920, '형': 7921, '혜': 7922, '혜진': 7923, '혜택': 7924, '호': 7925, '호는': 7926, '호선': 7927, '호텔': 7928, '호텔에서': 7929, '혹': 7930, '혼': 7931, '홀': 7932, '홀딩스': 7933, '홀에서': 7934, '홈': 7935, '홈런': 7936, '홈쇼핑': 7937, '홉': 7938, '홍': 7939, '홍보': 7940, '화': 7941, '화를': 7942, '화학': 7943, '확': 7944, '확인': 7945, '환': 7946, '환경': 7947, '활': 7948, '활동': 7949, '활동을': 7950, '황': 7951, '황금어장': 7952, '회': 7953, '회담': 7954, '회를': 7955, '회말': 7956, '회사': 7957, '회의를': 7958, '회의에서': 7959, '회장': 7960, '회초': 7961, '획': 7962, '횟': 7963, '횡': 7964, '효': 7965, '효과': 7966, '효율': 7967, '후': 7968, '후보': 7969, '훈': 7970, '훈련': 7971, '훌': 7972, '훔': 7973, '훗': 7974, '훙': 7975, '훤': 7976, '훨': 7977, '훼': 7978, '휘': 7979, '휠': 7980, '휩': 7981, '휴': 7982, '흉': 7983, '흐': 7984, '흑': 7985, '흔': 7986, '흘': 7987, '흙': 7988, '흠': 7989, '흡': 7990, '흥': 7991, '흩': 7992, '희': 7993, '희망': 7994, '흰': 7995, '히': 7996, '힌': 7997, '힐': 7998, '힐링캠프': 7999, '힘': 8000, '힙': 8001, '[SOS]': 8002, '[EOS]': 8003}\n"
          ],
          "name": "stdout"
        }
      ]
    },
    {
      "cell_type": "code",
      "metadata": {
        "colab": {
          "base_uri": "https://localhost:8080/"
        },
        "id": "9SE-LC1TkCEb",
        "outputId": "b2487b39-2ac4-4684-b473-41d6cd5b30c9"
      },
      "source": [
        "# Print the sentence split into tokens.\r\n",
        "toks = tokenizer.tokenize_wl(sentences[0])\r\n",
        "print('Tokenized: ', toks)\r\n",
        "# Print the sentence mapped to token ids.\r\n",
        "print('Token IDs: ', tokenizer.convert_tokens_to_ids(toks))"
      ],
      "execution_count": 12,
      "outputs": [
        {
          "output_type": "stream",
          "text": [
            "Tokenized:  ['[SOS]', '▁빌', '어', '먹', '을', '▁이제', '▁', '겨', '우', '▁18', '세', '인', '▁자신이', '▁벌써', '▁약', '혼', '을', '▁하고', '▁일', '▁', '년', '▁후', '▁결혼', '을', '▁해야', '▁하다', '니', '어', '이', '가', '없', '다', '[EOS]']\n",
            "Token IDs:  [8002, 2549, 6855, 6183, 7088, 3742, 517, 5411, 7005, 547, 6579, 7119, 3914, 2311, 3211, 7931, 7088, 4926, 3803, 517, 5712, 5176, 950, 7088, 5010, 4932, 5770, 6855, 7096, 5330, 6881, 5782, 8003]\n"
          ],
          "name": "stdout"
        }
      ]
    },
    {
      "cell_type": "code",
      "metadata": {
        "colab": {
          "base_uri": "https://localhost:8080/"
        },
        "id": "GuWVT8vXQF8M",
        "outputId": "8e2b8e1f-4e91-4cba-a93d-3714bb33be28"
      },
      "source": [
        "\r\n",
        "def extract_key(sentence,top_n=5):\r\n",
        "    #print(s)\r\n",
        "    keys = key_model.extract_keywords(sentence,top_n=top_n)\r\n",
        "    x= {}\r\n",
        "    for k,p in keys:\r\n",
        "        x[k] = sentence.find(k)\r\n",
        "    keys = list(dict(sorted(x.items(), key=lambda item: item[1])).keys())\r\n",
        "    return keys\r\n",
        "\r\n",
        "extract_key(sentences[100])"
      ],
      "execution_count": 13,
      "outputs": [
        {
          "output_type": "execute_result",
          "data": {
            "text/plain": [
              "['남편이', '청년의', '멍한태도는', '공주의', '거슬리게']"
            ]
          },
          "metadata": {
            "tags": []
          },
          "execution_count": 13
        }
      ]
    },
    {
      "cell_type": "code",
      "metadata": {
        "id": "eno9dC3RZpwL"
      },
      "source": [
        "device = torch.device('cuda' if torch.cuda.is_available() else 'cpu')"
      ],
      "execution_count": 14,
      "outputs": []
    },
    {
      "cell_type": "code",
      "metadata": {
        "colab": {
          "base_uri": "https://localhost:8080/"
        },
        "id": "CKdA9wbuCqD9",
        "outputId": "41653d64-dda0-4e31-b295-246ae1a1dc51"
      },
      "source": [
        "class Batch:\r\n",
        "  src = []\r\n",
        "  trg = []\r\n",
        "max_length = 100\r\n",
        "batch_size = 128 #4 # 64, 128\r\n",
        "dataset_iterator = []\r\n",
        "batch_counter = 0\r\n",
        "\r\n",
        "sentences2 = sentences #[0:1000]\r\n",
        "for i in range(0,len(sentences2),batch_size):\r\n",
        "#for i in range(0,1,batch_size):\r\n",
        "    nSRC = []\r\n",
        "    nTRG = []\r\n",
        "    src_max = 0\r\n",
        "    trg_max = 0\r\n",
        "    batch = Batch()\r\n",
        "    batch.src = []\r\n",
        "    batch.trg = []\r\n",
        "    \r\n",
        "    percent = (\"{0:.2f}\").format(100 * (i / float(len(sentences2))))\r\n",
        "    print(f'\\r {percent}% {i}/{str(len(sentences2))}', end=\"\", flush=True)\r\n",
        "    for j in range(i,i+batch_size):\r\n",
        "        try:\r\n",
        "            sentence = sentences2[j]+'.'\r\n",
        "            keys = extract_key(sentence)\r\n",
        "            srct = tokenizer.convert_tokens_to_ids(tokenizer.tokenize_wl((' '.join(keys)).strip()))\r\n",
        "            trgt = tokenizer.convert_tokens_to_ids(tokenizer.tokenize_wl(sentence))\r\n",
        "            if len(srct) < max_length and len(trgt) < max_length:\r\n",
        "                if len(trgt) > trg_max:\r\n",
        "                    trg_max = len(trgt)            \r\n",
        "                nTRG.append(trgt)\r\n",
        "                if len(srct) > src_max:\r\n",
        "                    src_max = len(srct)\r\n",
        "                nSRC.append(srct)\r\n",
        "\r\n",
        "        except Exception as e:\r\n",
        "            print('Error:',e)\r\n",
        "            break\r\n",
        "\r\n",
        "    for s in nSRC:\r\n",
        "        ss = s\r\n",
        "        if len(s) < src_max:\r\n",
        "            ss += [1 for i in range(src_max-len(s))]\r\n",
        "        batch.src.append(ss)\r\n",
        "\r\n",
        "    for t in nTRG:\r\n",
        "        tt = t\r\n",
        "        if len(t) < trg_max:        \r\n",
        "            tt += [1 for i in range(trg_max-len(t))]\r\n",
        "        batch.trg.append(tt)\r\n",
        "\r\n",
        "    #print(len(batch.src),len(batch.src[0]))\r\n",
        "    #print(len(batch.trg),len(batch.trg[0]))\r\n",
        "\r\n",
        "    batch.src = torch.tensor(batch.src).to(device)\r\n",
        "    batch.trg = torch.tensor(batch.trg).to(device)\r\n",
        "    dataset_iterator.append(batch)\r\n",
        "\r\n"
      ],
      "execution_count": 64,
      "outputs": [
        {
          "output_type": "stream",
          "text": [
            " 99.70% 23296/23365Error: list index out of range\n"
          ],
          "name": "stdout"
        }
      ]
    },
    {
      "cell_type": "code",
      "metadata": {
        "colab": {
          "base_uri": "https://localhost:8080/"
        },
        "id": "Srm8TuzEY55m",
        "outputId": "93897ff8-33eb-44ac-969f-11043965ba0d"
      },
      "source": [
        "#tokenizer.convert_tokens_to_ids\r\n",
        "#tokenizer.convert_ids_to_tokens\r\n",
        "\r\n",
        "for i, batch in list(enumerate(dataset_iterator))[0:1]:\r\n",
        "    src = batch.src\r\n",
        "    trg = batch.trg\r\n",
        "    print(src.shape)\r\n",
        "    print(trg.shape)\r\n",
        "    \r\n",
        "    for s,t in zip(src,trg):\r\n",
        "        #.detach().cpu().numpy()\r\n",
        "        print(tokenizer.convert_ids_to_tokens([int(i.detach().cpu().numpy()) for i in s]))\r\n",
        "        print(tokenizer.convert_ids_to_tokens([int(i.detach().cpu().numpy()) for i in t]))\r\n",
        "        #print([int(i.detach().cpu().numpy()) for i in s])"
      ],
      "execution_count": 95,
      "outputs": [
        {
          "output_type": "stream",
          "text": [
            "torch.Size([128, 30])\n",
            "torch.Size([128, 90])\n",
            "['[SOS]', '▁빌', '어', '먹', '을', '▁18', '세', '인', '▁벌써', '▁약', '혼', '을', '▁결혼', '을', '[EOS]', '[PAD]', '[PAD]', '[PAD]', '[PAD]', '[PAD]', '[PAD]', '[PAD]', '[PAD]', '[PAD]', '[PAD]', '[PAD]', '[PAD]', '[PAD]', '[PAD]', '[PAD]']\n",
            "['[SOS]', '▁빌', '어', '먹', '을', '▁이제', '▁', '겨', '우', '▁18', '세', '인', '▁자신이', '▁벌써', '▁약', '혼', '을', '▁하고', '▁일', '▁', '년', '▁후', '▁결혼', '을', '▁해야', '▁하다', '니', '어', '이', '가', '없', '다', '.', '[EOS]', '[PAD]', '[PAD]', '[PAD]', '[PAD]', '[PAD]', '[PAD]', '[PAD]', '[PAD]', '[PAD]', '[PAD]', '[PAD]', '[PAD]', '[PAD]', '[PAD]', '[PAD]', '[PAD]', '[PAD]', '[PAD]', '[PAD]', '[PAD]', '[PAD]', '[PAD]', '[PAD]', '[PAD]', '[PAD]', '[PAD]', '[PAD]', '[PAD]', '[PAD]', '[PAD]', '[PAD]', '[PAD]', '[PAD]', '[PAD]', '[PAD]', '[PAD]', '[PAD]', '[PAD]', '[PAD]', '[PAD]', '[PAD]', '[PAD]', '[PAD]', '[PAD]', '[PAD]', '[PAD]', '[PAD]', '[PAD]', '[PAD]', '[PAD]', '[PAD]', '[PAD]', '[PAD]', '[PAD]', '[PAD]', '[PAD]']\n",
            "['[SOS]', '▁미', '인', '들과', '의', '▁열애', '는', '▁그', '만', '두', '고', '▁포', '러스', '▁제', '국', '의', '제', '1', '공', '주', '인', '아', '레', '나', '[EOS]', '[PAD]', '[PAD]', '[PAD]', '[PAD]', '[PAD]']\n",
            "['[SOS]', '▁이제', '수', '많', '은', '▁미', '인', '들과', '의', '▁열애', '는', '▁그', '만', '두', '고', '▁이름', '도', '▁거', '룩', '한', '▁대', '▁포', '러스', '▁제', '국', '의', '제', '1', '공', '주', '인', '아', '레', '나', ',', '▁아', '레', '나', '▁에이', ',', '▁이름', '도', '▁모르겠다', '.', '[EOS]', '[PAD]', '[PAD]', '[PAD]', '[PAD]', '[PAD]', '[PAD]', '[PAD]', '[PAD]', '[PAD]', '[PAD]', '[PAD]', '[PAD]', '[PAD]', '[PAD]', '[PAD]', '[PAD]', '[PAD]', '[PAD]', '[PAD]', '[PAD]', '[PAD]', '[PAD]', '[PAD]', '[PAD]', '[PAD]', '[PAD]', '[PAD]', '[PAD]', '[PAD]', '[PAD]', '[PAD]', '[PAD]', '[PAD]', '[PAD]', '[PAD]', '[PAD]', '[PAD]', '[PAD]', '[PAD]', '[PAD]', '[PAD]', '[PAD]', '[PAD]', '[PAD]', '[PAD]']\n",
            "['[SOS]', '▁평생', '▁그', '년', '의', '▁보', '면서', '살', '아', '야', '▁판', '이', '니', '바람', '도', '▁못할', '[EOS]', '[PAD]', '[PAD]', '[PAD]', '[PAD]', '[PAD]', '[PAD]', '[PAD]', '[PAD]', '[PAD]', '[PAD]', '[PAD]', '[PAD]', '[PAD]']\n",
            "['[SOS]', '▁게다가', '▁평생', '▁그', '년', '의', '▁눈', '치를', '▁보', '면서', '살', '아', '야', '▁할', '▁판', '이', '니', '바람', '도', '▁제대로', '▁피', '우', '지', '▁못할', '▁것이다', '.', '[EOS]', '[PAD]', '[PAD]', '[PAD]', '[PAD]', '[PAD]', '[PAD]', '[PAD]', '[PAD]', '[PAD]', '[PAD]', '[PAD]', '[PAD]', '[PAD]', '[PAD]', '[PAD]', '[PAD]', '[PAD]', '[PAD]', '[PAD]', '[PAD]', '[PAD]', '[PAD]', '[PAD]', '[PAD]', '[PAD]', '[PAD]', '[PAD]', '[PAD]', '[PAD]', '[PAD]', '[PAD]', '[PAD]', '[PAD]', '[PAD]', '[PAD]', '[PAD]', '[PAD]', '[PAD]', '[PAD]', '[PAD]', '[PAD]', '[PAD]', '[PAD]', '[PAD]', '[PAD]', '[PAD]', '[PAD]', '[PAD]', '[PAD]', '[PAD]', '[PAD]', '[PAD]', '[PAD]', '[PAD]', '[PAD]', '[PAD]', '[PAD]', '[PAD]', '[PAD]', '[PAD]', '[PAD]', '[PAD]', '[PAD]']\n",
            "['[SOS]', '▁술', '을', '▁있던', '자', '신', '의', '호', '위기', '사', '인', '▁한', '스', '▁', '멕', '그', '리', '거', '가', '▁잔', '에', '[EOS]', '[PAD]', '[PAD]', '[PAD]', '[PAD]', '[PAD]', '[PAD]', '[PAD]', '[PAD]']\n",
            "['[SOS]', '▁그러', '자', '▁앞에서', '▁같이', '▁술', '을', '▁들고', '▁있던', '자', '신', '의', '호', '위기', '사', '인', '▁한', '스', '▁', '멕', '그', '리', '거', '가', '▁다', '▁이해', '한다는', '▁표정', '으로', '▁빈', '▁잔', '에', '▁술', '을', '▁따', '랐', '다', '.', '[EOS]', '[PAD]', '[PAD]', '[PAD]', '[PAD]', '[PAD]', '[PAD]', '[PAD]', '[PAD]', '[PAD]', '[PAD]', '[PAD]', '[PAD]', '[PAD]', '[PAD]', '[PAD]', '[PAD]', '[PAD]', '[PAD]', '[PAD]', '[PAD]', '[PAD]', '[PAD]', '[PAD]', '[PAD]', '[PAD]', '[PAD]', '[PAD]', '[PAD]', '[PAD]', '[PAD]', '[PAD]', '[PAD]', '[PAD]', '[PAD]', '[PAD]', '[PAD]', '[PAD]', '[PAD]', '[PAD]', '[PAD]', '[PAD]', '[PAD]', '[PAD]', '[PAD]', '[PAD]', '[PAD]', '[PAD]', '[PAD]', '[PAD]', '[PAD]', '[PAD]']\n",
            "['[SOS]', '▁창', '검', '을', '▁치', '켜', '든', '▁기', '마', '병', '들이', '▁마', '차', '▁짐', '마', '차', '가', '[EOS]', '[PAD]', '[PAD]', '[PAD]', '[PAD]', '[PAD]', '[PAD]', '[PAD]', '[PAD]', '[PAD]', '[PAD]', '[PAD]', '[PAD]']\n",
            "['[SOS]', '▁창', '검', '을', '▁치', '켜', '든', '▁기', '마', '병', '들이', '▁줄', '줄', '이', '이', '어', '나', '오', '고', '▁화려한', '▁마', '차', '▁하나', '와', '▁여러', '▁대', '의', '▁짐', '마', '차', '가', '▁뒤', '를', '▁따', '랐', '다', '.', '[EOS]', '[PAD]', '[PAD]', '[PAD]', '[PAD]', '[PAD]', '[PAD]', '[PAD]', '[PAD]', '[PAD]', '[PAD]', '[PAD]', '[PAD]', '[PAD]', '[PAD]', '[PAD]', '[PAD]', '[PAD]', '[PAD]', '[PAD]', '[PAD]', '[PAD]', '[PAD]', '[PAD]', '[PAD]', '[PAD]', '[PAD]', '[PAD]', '[PAD]', '[PAD]', '[PAD]', '[PAD]', '[PAD]', '[PAD]', '[PAD]', '[PAD]', '[PAD]', '[PAD]', '[PAD]', '[PAD]', '[PAD]', '[PAD]', '[PAD]', '[PAD]', '[PAD]', '[PAD]', '[PAD]', '[PAD]', '[PAD]', '[PAD]', '[PAD]', '[PAD]', '[PAD]']\n",
            "['[SOS]', '▁대', '충', '▁200', '명은', '▁비', '좁', '은', '▁산', '길', '을', '▁따라', '행', '군', '을', '하고', '[EOS]', '[PAD]', '[PAD]', '[PAD]', '[PAD]', '[PAD]', '[PAD]', '[PAD]', '[PAD]', '[PAD]', '[PAD]', '[PAD]', '[PAD]', '[PAD]']\n",
            "['[SOS]', '▁인원', '만', '▁봐', '도', '▁대', '충', '▁200', '명은', '▁될', '▁듯한', '▁인원', '이', '▁비', '좁', '은', '▁산', '길', '을', '▁따라', '행', '군', '을', '하고', '▁있었다', '.', '[EOS]', '[PAD]', '[PAD]', '[PAD]', '[PAD]', '[PAD]', '[PAD]', '[PAD]', '[PAD]', '[PAD]', '[PAD]', '[PAD]', '[PAD]', '[PAD]', '[PAD]', '[PAD]', '[PAD]', '[PAD]', '[PAD]', '[PAD]', '[PAD]', '[PAD]', '[PAD]', '[PAD]', '[PAD]', '[PAD]', '[PAD]', '[PAD]', '[PAD]', '[PAD]', '[PAD]', '[PAD]', '[PAD]', '[PAD]', '[PAD]', '[PAD]', '[PAD]', '[PAD]', '[PAD]', '[PAD]', '[PAD]', '[PAD]', '[PAD]', '[PAD]', '[PAD]', '[PAD]', '[PAD]', '[PAD]', '[PAD]', '[PAD]', '[PAD]', '[PAD]', '[PAD]', '[PAD]', '[PAD]', '[PAD]', '[PAD]', '[PAD]', '[PAD]', '[PAD]', '[PAD]', '[PAD]', '[PAD]', '[PAD]']\n",
            "['[SOS]', '▁마', '차', '의', '▁', '흰', '색', '▁태', '두', '리를', '황', '금', '으로', '마', '무', '리를', '▁보', '석', '으로', '▁치', '장', '했다', '[EOS]', '[PAD]', '[PAD]', '[PAD]', '[PAD]', '[PAD]', '[PAD]', '[PAD]']\n",
            "['[SOS]', '▁육', '두', '▁마', '차', '의', '▁본', '채', '는', '▁', '흰', '색', '▁바', '탕', '위에', '▁각', '▁태', '두', '리를', '황', '금', '으로', '마', '무', '리를', '▁하고', '▁', '첨', '첨', '이', '▁보', '석', '으로', '▁치', '장', '했다', '.', '[EOS]', '[PAD]', '[PAD]', '[PAD]', '[PAD]', '[PAD]', '[PAD]', '[PAD]', '[PAD]', '[PAD]', '[PAD]', '[PAD]', '[PAD]', '[PAD]', '[PAD]', '[PAD]', '[PAD]', '[PAD]', '[PAD]', '[PAD]', '[PAD]', '[PAD]', '[PAD]', '[PAD]', '[PAD]', '[PAD]', '[PAD]', '[PAD]', '[PAD]', '[PAD]', '[PAD]', '[PAD]', '[PAD]', '[PAD]', '[PAD]', '[PAD]', '[PAD]', '[PAD]', '[PAD]', '[PAD]', '[PAD]', '[PAD]', '[PAD]', '[PAD]', '[PAD]', '[PAD]', '[PAD]', '[PAD]', '[PAD]', '[PAD]', '[PAD]', '[PAD]', '[PAD]']\n",
            "['[SOS]', '▁화려한', '▁것은', '작', '은', '창', '으로', '▁아름다운', '▁여', '인', '의', '▁얼굴', '이었다', '[EOS]', '[PAD]', '[PAD]', '[PAD]', '[PAD]', '[PAD]', '[PAD]', '[PAD]', '[PAD]', '[PAD]', '[PAD]', '[PAD]', '[PAD]', '[PAD]', '[PAD]', '[PAD]', '[PAD]']\n",
            "['[SOS]', '▁그러나', '▁그', '▁중', '▁가장', '▁화려한', '▁것은', '작', '은', '창', '으로', '▁보이는', '▁아름다운', '▁여', '인', '의', '▁얼굴', '이었다', '.', '[EOS]', '[PAD]', '[PAD]', '[PAD]', '[PAD]', '[PAD]', '[PAD]', '[PAD]', '[PAD]', '[PAD]', '[PAD]', '[PAD]', '[PAD]', '[PAD]', '[PAD]', '[PAD]', '[PAD]', '[PAD]', '[PAD]', '[PAD]', '[PAD]', '[PAD]', '[PAD]', '[PAD]', '[PAD]', '[PAD]', '[PAD]', '[PAD]', '[PAD]', '[PAD]', '[PAD]', '[PAD]', '[PAD]', '[PAD]', '[PAD]', '[PAD]', '[PAD]', '[PAD]', '[PAD]', '[PAD]', '[PAD]', '[PAD]', '[PAD]', '[PAD]', '[PAD]', '[PAD]', '[PAD]', '[PAD]', '[PAD]', '[PAD]', '[PAD]', '[PAD]', '[PAD]', '[PAD]', '[PAD]', '[PAD]', '[PAD]', '[PAD]', '[PAD]', '[PAD]', '[PAD]', '[PAD]', '[PAD]', '[PAD]', '[PAD]', '[PAD]', '[PAD]', '[PAD]', '[PAD]', '[PAD]', '[PAD]']\n",
            "['[SOS]', '▁그녀', '의', '▁얼굴', '은', '▁슬', '픈', '기', '색', '이', '역', '력', '해서', '▁아름', '다', '움', '이', '▁퇴', '색', '하게', '[EOS]', '[PAD]', '[PAD]', '[PAD]', '[PAD]', '[PAD]', '[PAD]', '[PAD]', '[PAD]', '[PAD]']\n",
            "['[SOS]', '▁그러나', '▁그녀', '의', '▁얼굴', '은', '▁슬', '픈', '기', '색', '이', '역', '력', '해서', '▁그', '▁아름', '다', '움', '이', '▁다소', '▁퇴', '색', '하게', '▁하고', '▁있었다', '.', '[EOS]', '[PAD]', '[PAD]', '[PAD]', '[PAD]', '[PAD]', '[PAD]', '[PAD]', '[PAD]', '[PAD]', '[PAD]', '[PAD]', '[PAD]', '[PAD]', '[PAD]', '[PAD]', '[PAD]', '[PAD]', '[PAD]', '[PAD]', '[PAD]', '[PAD]', '[PAD]', '[PAD]', '[PAD]', '[PAD]', '[PAD]', '[PAD]', '[PAD]', '[PAD]', '[PAD]', '[PAD]', '[PAD]', '[PAD]', '[PAD]', '[PAD]', '[PAD]', '[PAD]', '[PAD]', '[PAD]', '[PAD]', '[PAD]', '[PAD]', '[PAD]', '[PAD]', '[PAD]', '[PAD]', '[PAD]', '[PAD]', '[PAD]', '[PAD]', '[PAD]', '[PAD]', '[PAD]', '[PAD]', '[PAD]', '[PAD]', '[PAD]', '[PAD]', '[PAD]', '[PAD]', '[PAD]', '[PAD]', '[PAD]']\n",
            "['[SOS]', '▁비', '록', '한', '살', '이지만', '▁남자', '와', '▁결혼', '한다는', '▁심', '적으로', '▁부담이', '[EOS]', '[PAD]', '[PAD]', '[PAD]', '[PAD]', '[PAD]', '[PAD]', '[PAD]', '[PAD]', '[PAD]', '[PAD]', '[PAD]', '[PAD]', '[PAD]', '[PAD]', '[PAD]', '[PAD]']\n",
            "['[SOS]', '▁게다가', '▁비', '록', '한', '살', '이지만', '▁자신', '보다', '▁연', '하', '의', '▁남자', '와', '▁결혼', '한다는', '▁것에', '▁심', '적으로', '▁부담이', '▁', '되었다', '.', '[EOS]', '[PAD]', '[PAD]', '[PAD]', '[PAD]', '[PAD]', '[PAD]', '[PAD]', '[PAD]', '[PAD]', '[PAD]', '[PAD]', '[PAD]', '[PAD]', '[PAD]', '[PAD]', '[PAD]', '[PAD]', '[PAD]', '[PAD]', '[PAD]', '[PAD]', '[PAD]', '[PAD]', '[PAD]', '[PAD]', '[PAD]', '[PAD]', '[PAD]', '[PAD]', '[PAD]', '[PAD]', '[PAD]', '[PAD]', '[PAD]', '[PAD]', '[PAD]', '[PAD]', '[PAD]', '[PAD]', '[PAD]', '[PAD]', '[PAD]', '[PAD]', '[PAD]', '[PAD]', '[PAD]', '[PAD]', '[PAD]', '[PAD]', '[PAD]', '[PAD]', '[PAD]', '[PAD]', '[PAD]', '[PAD]', '[PAD]', '[PAD]', '[PAD]', '[PAD]', '[PAD]', '[PAD]', '[PAD]', '[PAD]', '[PAD]', '[PAD]', '[PAD]']\n",
            "['[SOS]', '▁사랑', '하는', '▁결혼', '한다는', '▁꿈', '도', '▁못', '꾸', '겠지만', '그래', '도', '이', '건', '▁아니었다', '[EOS]', '[PAD]', '[PAD]', '[PAD]', '[PAD]', '[PAD]', '[PAD]', '[PAD]', '[PAD]', '[PAD]', '[PAD]', '[PAD]', '[PAD]', '[PAD]', '[PAD]']\n",
            "['[SOS]', '▁어', '차', '피', '▁자신의', '▁처', '지', '에', '▁사랑', '하는', '▁사람', '과', '▁결혼', '한다는', '▁것은', '▁꿈', '도', '▁못', '꾸', '겠지만', '그래', '도', '이', '건', '▁아니었다', '.', '[EOS]', '[PAD]', '[PAD]', '[PAD]', '[PAD]', '[PAD]', '[PAD]', '[PAD]', '[PAD]', '[PAD]', '[PAD]', '[PAD]', '[PAD]', '[PAD]', '[PAD]', '[PAD]', '[PAD]', '[PAD]', '[PAD]', '[PAD]', '[PAD]', '[PAD]', '[PAD]', '[PAD]', '[PAD]', '[PAD]', '[PAD]', '[PAD]', '[PAD]', '[PAD]', '[PAD]', '[PAD]', '[PAD]', '[PAD]', '[PAD]', '[PAD]', '[PAD]', '[PAD]', '[PAD]', '[PAD]', '[PAD]', '[PAD]', '[PAD]', '[PAD]', '[PAD]', '[PAD]', '[PAD]', '[PAD]', '[PAD]', '[PAD]', '[PAD]', '[PAD]', '[PAD]', '[PAD]', '[PAD]', '[PAD]', '[PAD]', '[PAD]', '[PAD]', '[PAD]', '[PAD]', '[PAD]', '[PAD]', '[PAD]']\n",
            "['[SOS]', '▁공', '작', '의', '▁유', '수', '의', '일반', '귀', '족', '만', '도', '▁', '의', '례', '적인', '신', '년', '행사', '에', '나', '▁공', '작', '이', '므', '로', '▁귀', '족', '과', '[EOS]']\n",
            "['[SOS]', '▁지', '위에', '▁있어서', '▁공', '작', '의', '▁지', '위', '라', '지만', '▁포', '러스', '▁제', '국', '▁유', '수', '의', '일반', '귀', '족', '만', '도', '▁못하고', ',', '▁명예', '에', '▁있어서', '도', '▁변', '방', '에', '▁위치', '해', '▁일', '년에', '▁단', '▁한', '차례', '▁', '의', '례', '적인', '신', '년', '행사', '에', '나', '▁찾아', '오는', '▁보도', '▁듯', '도', '▁못한', '▁공', '작', '이', '므', '로', '▁여', '타', '▁다른', '▁귀', '족', '과', '▁비교', '가', '되지', '않', '는', '다', '.', '[EOS]', '[PAD]', '[PAD]', '[PAD]', '[PAD]', '[PAD]', '[PAD]', '[PAD]', '[PAD]', '[PAD]', '[PAD]', '[PAD]', '[PAD]', '[PAD]', '[PAD]', '[PAD]', '[PAD]', '[PAD]']\n",
            "['[SOS]', '▁황', '태', '자의', '▁국', '왕', '이', '▁노력', '하는', '▁동생', '은', '▁황', '궁', '에서', '[EOS]', '[PAD]', '[PAD]', '[PAD]', '[PAD]', '[PAD]', '[PAD]', '[PAD]', '[PAD]', '[PAD]', '[PAD]', '[PAD]', '[PAD]', '[PAD]', '[PAD]', '[PAD]']\n",
            "['[SOS]', '▁황', '태', '자의', '▁신분', '으로', '▁차기', '▁국', '왕', '이', '▁', '되기', '위', '해', '열', '심', '히', '▁노력', '하는', '▁그녀', '의', '▁동생', '은', '▁황', '궁', '에서', '▁자신의', '▁위치', '를', '▁아직', '▁확', '고', '히', '▁', '굳', '히', '고', '있', '지', '못', '하', '였다', '.', '[EOS]', '[PAD]', '[PAD]', '[PAD]', '[PAD]', '[PAD]', '[PAD]', '[PAD]', '[PAD]', '[PAD]', '[PAD]', '[PAD]', '[PAD]', '[PAD]', '[PAD]', '[PAD]', '[PAD]', '[PAD]', '[PAD]', '[PAD]', '[PAD]', '[PAD]', '[PAD]', '[PAD]', '[PAD]', '[PAD]', '[PAD]', '[PAD]', '[PAD]', '[PAD]', '[PAD]', '[PAD]', '[PAD]', '[PAD]', '[PAD]', '[PAD]', '[PAD]', '[PAD]', '[PAD]', '[PAD]', '[PAD]', '[PAD]', '[PAD]', '[PAD]', '[PAD]', '[PAD]', '[PAD]']\n",
            "['[SOS]', '▁못해', '서', '▁힘', '도', '없', '고', '▁외', '조', '부', '의', '▁백', '작', '이라', '▁못한다', '[EOS]', '[PAD]', '[PAD]', '[PAD]', '[PAD]', '[PAD]', '[PAD]', '[PAD]', '[PAD]', '[PAD]', '[PAD]', '[PAD]', '[PAD]', '[PAD]', '[PAD]']\n",
            "['[SOS]', '▁나이', '가', '▁16', '세', '로', '▁아직', '▁성', '인', '식을', '▁올리', '지', '▁못해', '서', '▁외', '척', '의', '▁힘', '도', '없', '고', ',', '그', '렇', '다', '고', '▁외', '조', '부', '의', '▁힘을', '▁빌', '리', '자', '니', '▁역시', '▁변', '방', '의', '▁조', '그', '만', '▁영', '주의', '▁백', '작', '이라', '▁힘', '이', '되어', '주', '지', '▁못한다', '.', '[EOS]', '[PAD]', '[PAD]', '[PAD]', '[PAD]', '[PAD]', '[PAD]', '[PAD]', '[PAD]', '[PAD]', '[PAD]', '[PAD]', '[PAD]', '[PAD]', '[PAD]', '[PAD]', '[PAD]', '[PAD]', '[PAD]', '[PAD]', '[PAD]', '[PAD]', '[PAD]', '[PAD]', '[PAD]', '[PAD]', '[PAD]', '[PAD]', '[PAD]', '[PAD]', '[PAD]', '[PAD]', '[PAD]', '[PAD]', '[PAD]', '[PAD]']\n",
            "['[SOS]', '▁어머니', '가', '▁황', '후', '가', '▁황', '후', '는', '자', '신', '의', '아', '들', '인', '▁황', '태', '자로', '▁자신의', '본', '가', '인', '휠', '테', '른', '[EOS]', '[PAD]', '[PAD]', '[PAD]', '[PAD]']\n",
            "['[SOS]', '▁거', '기', '다', '▁어머니', '가', '▁돌아가', '신', '▁후', '▁현', '▁황', '후', '가', '▁된', '▁카', '발', '레', '타', '▁황', '후', '는', '자', '신', '의', '아', '들', '인', '▁제', '2', '황', '자', '▁나', '티', '엔', '을', '▁황', '태', '자로', '▁책', '봉', '하기', '▁위해', '▁혈', '안', '이', '▁되어', '▁자신의', '본', '가', '인', '휠', '테', '른', '▁후', '작', '가', '의', '▁힘을', '▁빌', '어', '▁막', '강', '한', '▁세력', '을', '▁', '굳', '히', '고', '▁있다', '.', '[EOS]', '[PAD]', '[PAD]', '[PAD]', '[PAD]', '[PAD]', '[PAD]', '[PAD]', '[PAD]', '[PAD]', '[PAD]', '[PAD]', '[PAD]', '[PAD]', '[PAD]', '[PAD]', '[PAD]', '[PAD]', '[PAD]']\n",
            "['[SOS]', '▁상황에서', '서', '로', '의', '지가', '▁되어', '주', '던', '▁그녀', '가', '▁떠나', '게', '▁고', '립', '될', '수', '밖에', '없', '다', '[EOS]', '[PAD]', '[PAD]', '[PAD]', '[PAD]', '[PAD]', '[PAD]', '[PAD]', '[PAD]', '[PAD]']\n",
            "['[SOS]', '▁이런', '▁상황에서', '서', '로', '의', '지가', '▁되어', '주', '던', '▁그녀', '가', '▁머', '나', '먼', '▁타', '지', '로', '▁떠나', '게', '▁', '되었', '으니', '▁더', '더', '욱', '▁고', '립', '될', '수', '밖에', '없', '다', '.', '[EOS]', '[PAD]', '[PAD]', '[PAD]', '[PAD]', '[PAD]', '[PAD]', '[PAD]', '[PAD]', '[PAD]', '[PAD]', '[PAD]', '[PAD]', '[PAD]', '[PAD]', '[PAD]', '[PAD]', '[PAD]', '[PAD]', '[PAD]', '[PAD]', '[PAD]', '[PAD]', '[PAD]', '[PAD]', '[PAD]', '[PAD]', '[PAD]', '[PAD]', '[PAD]', '[PAD]', '[PAD]', '[PAD]', '[PAD]', '[PAD]', '[PAD]', '[PAD]', '[PAD]', '[PAD]', '[PAD]', '[PAD]', '[PAD]', '[PAD]', '[PAD]', '[PAD]', '[PAD]', '[PAD]', '[PAD]', '[PAD]', '[PAD]', '[PAD]', '[PAD]', '[PAD]', '[PAD]', '[PAD]', '[PAD]']\n",
            "['[SOS]', '▁앉아', '▁', '궁', '정', '마', '법', '사', '인', '▁나', '사', '스가', '▁안', '스러운', '▁말을', '[EOS]', '[PAD]', '[PAD]', '[PAD]', '[PAD]', '[PAD]', '[PAD]', '[PAD]', '[PAD]', '[PAD]', '[PAD]', '[PAD]', '[PAD]', '[PAD]', '[PAD]']\n",
            "['[SOS]', '▁앞에', '▁앉아', '▁같이', '▁동', '행', '하던', '▁', '궁', '정', '마', '법', '사', '인', '▁나', '사', '스가', '▁안', '스러운', '▁눈빛', '으로', '▁말을', '▁건', '냈다', '.', '[EOS]', '[PAD]', '[PAD]', '[PAD]', '[PAD]', '[PAD]', '[PAD]', '[PAD]', '[PAD]', '[PAD]', '[PAD]', '[PAD]', '[PAD]', '[PAD]', '[PAD]', '[PAD]', '[PAD]', '[PAD]', '[PAD]', '[PAD]', '[PAD]', '[PAD]', '[PAD]', '[PAD]', '[PAD]', '[PAD]', '[PAD]', '[PAD]', '[PAD]', '[PAD]', '[PAD]', '[PAD]', '[PAD]', '[PAD]', '[PAD]', '[PAD]', '[PAD]', '[PAD]', '[PAD]', '[PAD]', '[PAD]', '[PAD]', '[PAD]', '[PAD]', '[PAD]', '[PAD]', '[PAD]', '[PAD]', '[PAD]', '[PAD]', '[PAD]', '[PAD]', '[PAD]', '[PAD]', '[PAD]', '[PAD]', '[PAD]', '[PAD]', '[PAD]', '[PAD]', '[PAD]', '[PAD]', '[PAD]', '[PAD]', '[PAD]']\n",
            "['[SOS]', '▁나', '사', '스는', '▁현', '자로', '▁실력', '자로', '▁알려져', '있는', '능력', '있는', '▁마', '법', '사', '다', '[EOS]', '[PAD]', '[PAD]', '[PAD]', '[PAD]', '[PAD]', '[PAD]', '[PAD]', '[PAD]', '[PAD]', '[PAD]', '[PAD]', '[PAD]', '[PAD]']\n",
            "['[SOS]', '▁나', '사', '스는', '▁7', '클', '레스', '의', '▁현', '자로', '▁현', '▁포', '러스', '▁제', '국', '에서', '▁세', '▁번째', '의', '▁실력', '자로', '▁알려져', '있는', '능력', '있는', '▁마', '법', '사', '다', '.', '[EOS]', '[PAD]', '[PAD]', '[PAD]', '[PAD]', '[PAD]', '[PAD]', '[PAD]', '[PAD]', '[PAD]', '[PAD]', '[PAD]', '[PAD]', '[PAD]', '[PAD]', '[PAD]', '[PAD]', '[PAD]', '[PAD]', '[PAD]', '[PAD]', '[PAD]', '[PAD]', '[PAD]', '[PAD]', '[PAD]', '[PAD]', '[PAD]', '[PAD]', '[PAD]', '[PAD]', '[PAD]', '[PAD]', '[PAD]', '[PAD]', '[PAD]', '[PAD]', '[PAD]', '[PAD]', '[PAD]', '[PAD]', '[PAD]', '[PAD]', '[PAD]', '[PAD]', '[PAD]', '[PAD]', '[PAD]', '[PAD]', '[PAD]', '[PAD]', '[PAD]', '[PAD]', '[PAD]', '[PAD]', '[PAD]', '[PAD]', '[PAD]', '[PAD]', '[PAD]']\n",
            "['[SOS]', '▁마', '법', '사가', '▁국', '왕', '의', '▁장', '녀', '라', '지만', '▁한', '갓', '중', '요', '하지', '도', '않', '은', '▁이상', '했다', '[EOS]', '[PAD]', '[PAD]', '[PAD]', '[PAD]', '[PAD]', '[PAD]', '[PAD]', '[PAD]']\n",
            "['[SOS]', '▁그런', '▁마', '법', '사가', '▁비', '록', '▁현', '▁국', '왕', '의', '▁장', '녀', '라', '지만', '▁한', '갓', '중', '요', '하지', '도', '않', '은', '▁호', '위', '임', '무', '를', '▁맡은', '▁것은', '▁어', '딘', '지', '▁이상', '했다', '.', '[EOS]', '[PAD]', '[PAD]', '[PAD]', '[PAD]', '[PAD]', '[PAD]', '[PAD]', '[PAD]', '[PAD]', '[PAD]', '[PAD]', '[PAD]', '[PAD]', '[PAD]', '[PAD]', '[PAD]', '[PAD]', '[PAD]', '[PAD]', '[PAD]', '[PAD]', '[PAD]', '[PAD]', '[PAD]', '[PAD]', '[PAD]', '[PAD]', '[PAD]', '[PAD]', '[PAD]', '[PAD]', '[PAD]', '[PAD]', '[PAD]', '[PAD]', '[PAD]', '[PAD]', '[PAD]', '[PAD]', '[PAD]', '[PAD]', '[PAD]', '[PAD]', '[PAD]', '[PAD]', '[PAD]', '[PAD]', '[PAD]', '[PAD]', '[PAD]', '[PAD]', '[PAD]', '[PAD]']\n",
            "['[SOS]', '▁대', '륙', '에서', '▁오래', '된', '▁왕', '국', '이자', '▁때는', '전', '대', '륙', '을', '통', '일', '했던', '▁대', '륙', '보다는', '[EOS]', '[PAD]', '[PAD]', '[PAD]', '[PAD]', '[PAD]', '[PAD]', '[PAD]', '[PAD]', '[PAD]']\n",
            "['[SOS]', '▁나', '사', '스는', '▁대', '륙', '에서', '▁가장', '▁오래', '된', '▁왕', '국', '이자', '▁한', '▁때는', '전', '대', '륙', '을', '통', '일', '했던', '-', '물', '론', '▁현재', '의', '▁대', '륙', '보다는', '▁작', '았다', '.', '[EOS]', '[PAD]', '[PAD]', '[PAD]', '[PAD]', '[PAD]', '[PAD]', '[PAD]', '[PAD]', '[PAD]', '[PAD]', '[PAD]', '[PAD]', '[PAD]', '[PAD]', '[PAD]', '[PAD]', '[PAD]', '[PAD]', '[PAD]', '[PAD]', '[PAD]', '[PAD]', '[PAD]', '[PAD]', '[PAD]', '[PAD]', '[PAD]', '[PAD]', '[PAD]', '[PAD]', '[PAD]', '[PAD]', '[PAD]', '[PAD]', '[PAD]', '[PAD]', '[PAD]', '[PAD]', '[PAD]', '[PAD]', '[PAD]', '[PAD]', '[PAD]', '[PAD]', '[PAD]', '[PAD]', '[PAD]', '[PAD]', '[PAD]', '[PAD]', '[PAD]', '[PAD]', '[PAD]', '[PAD]', '[PAD]', '[PAD]']\n",
            "['[SOS]', '▁7', '년', '▁갑자기', '나', '타', '나', '마', '탑', '에', '▁도전', '을', '▁마', '탑', '의', '▁마', '탑', '의', '장', '이나', '서', '서', '[EOS]', '[PAD]', '[PAD]', '[PAD]', '[PAD]', '[PAD]', '[PAD]', '[PAD]']\n",
            "['[SOS]', '▁7', '년', '▁전', ',', '어', '느', '날', '▁갑자기', '나', '타', '나', '마', '탑', '에', '▁도전', '을', '▁', '했고', ',', '▁이에', '▁마', '탑', '의', '▁마', '법', '사', '중', '▁가장', '▁실력', '이', '▁인정', '된', '▁현', '▁마', '탑', '의', '장', '이나', '서', '서', '▁나', '사', '스를', '▁물리', '쳤다', '.', '[EOS]', '[PAD]', '[PAD]', '[PAD]', '[PAD]', '[PAD]', '[PAD]', '[PAD]', '[PAD]', '[PAD]', '[PAD]', '[PAD]', '[PAD]', '[PAD]', '[PAD]', '[PAD]', '[PAD]', '[PAD]', '[PAD]', '[PAD]', '[PAD]', '[PAD]', '[PAD]', '[PAD]', '[PAD]', '[PAD]', '[PAD]', '[PAD]', '[PAD]', '[PAD]', '[PAD]', '[PAD]', '[PAD]', '[PAD]', '[PAD]', '[PAD]', '[PAD]', '[PAD]', '[PAD]', '[PAD]', '[PAD]', '[PAD]', '[PAD]']\n",
            "['[SOS]', '▁있었', '고', '마', '침', '내', '나', '사', '스는', '▁마', '탑', '의', '▁장', '인', '▁감', '복', '해', '▁제', '자가', '[EOS]', '[PAD]', '[PAD]', '[PAD]', '[PAD]', '[PAD]', '[PAD]', '[PAD]', '[PAD]', '[PAD]', '[PAD]']\n",
            "['[SOS]', '▁이렇게', '▁세', '월', '이', '▁흐', '르', '며', '▁세', '▁번', '의', '▁도전', '과', '▁응', '전', '이', '▁있었', '고', '마', '침', '내', '나', '사', '스는', '▁마', '탑', '의', '▁장', '인', '▁레', '미', '언', '▁', '샤', '를', '에게', '▁감', '복', '해', '▁레', '미', '언', '의', '▁제', '자가', '▁', '되었다', '.', '[EOS]', '[PAD]', '[PAD]', '[PAD]', '[PAD]', '[PAD]', '[PAD]', '[PAD]', '[PAD]', '[PAD]', '[PAD]', '[PAD]', '[PAD]', '[PAD]', '[PAD]', '[PAD]', '[PAD]', '[PAD]', '[PAD]', '[PAD]', '[PAD]', '[PAD]', '[PAD]', '[PAD]', '[PAD]', '[PAD]', '[PAD]', '[PAD]', '[PAD]', '[PAD]', '[PAD]', '[PAD]', '[PAD]', '[PAD]', '[PAD]', '[PAD]', '[PAD]', '[PAD]', '[PAD]', '[PAD]', '[PAD]', '[PAD]']\n",
            "['[SOS]', '▁그리고', '레', '미', '언', '의', '▁', '궁', '정', '마', '법', '사가', '▁되', '었지만', '▁', '궁', '중', '에서', '의', '▁그리', '신', '통', '하지', '못', '했다', '[EOS]', '[PAD]', '[PAD]', '[PAD]', '[PAD]']\n",
            "['[SOS]', '▁그리고', '레', '미', '언', '의', '▁추천', '으로', '▁', '궁', '정', '마', '법', '사가', '▁되', '었지만', '▁', '궁', '중', '에서', '의', '▁그의', '▁위치', '는', '▁그리', '신', '통', '하지', '못', '했다', '.', '[EOS]', '[PAD]', '[PAD]', '[PAD]', '[PAD]', '[PAD]', '[PAD]', '[PAD]', '[PAD]', '[PAD]', '[PAD]', '[PAD]', '[PAD]', '[PAD]', '[PAD]', '[PAD]', '[PAD]', '[PAD]', '[PAD]', '[PAD]', '[PAD]', '[PAD]', '[PAD]', '[PAD]', '[PAD]', '[PAD]', '[PAD]', '[PAD]', '[PAD]', '[PAD]', '[PAD]', '[PAD]', '[PAD]', '[PAD]', '[PAD]', '[PAD]', '[PAD]', '[PAD]', '[PAD]', '[PAD]', '[PAD]', '[PAD]', '[PAD]', '[PAD]', '[PAD]', '[PAD]', '[PAD]', '[PAD]', '[PAD]', '[PAD]', '[PAD]', '[PAD]', '[PAD]', '[PAD]', '[PAD]', '[PAD]', '[PAD]', '[PAD]', '[PAD]']\n",
            "['[SOS]', '▁타', '국', '인', '이라는', '▁', '치고', '▁망', '해서', '▁', '겨', '우', '▁', '[UNK]', '보는', '[EOS]', '[PAD]', '[PAD]', '[PAD]', '[PAD]', '[PAD]', '[PAD]', '[PAD]', '[PAD]', '[PAD]', '[PAD]', '[PAD]', '[PAD]', '[PAD]', '[PAD]']\n",
            "['[SOS]', '▁일단', '▁타', '국', '인', '이라는', '▁점', '은', '▁둘째', '로', '▁', '치고', '▁망', '해서', '▁', '겨', '우', '▁명', '맥', '만', '유', '지', '하고', '▁있는', '아', '라', '사', '▁출신', '이라는', '▁것이', '▁그', '를', '▁', '[UNK]', '보는', '▁결정', '적인', '▁이유', '가', '▁', '되었다', '.', '[EOS]', '[PAD]', '[PAD]', '[PAD]', '[PAD]', '[PAD]', '[PAD]', '[PAD]', '[PAD]', '[PAD]', '[PAD]', '[PAD]', '[PAD]', '[PAD]', '[PAD]', '[PAD]', '[PAD]', '[PAD]', '[PAD]', '[PAD]', '[PAD]', '[PAD]', '[PAD]', '[PAD]', '[PAD]', '[PAD]', '[PAD]', '[PAD]', '[PAD]', '[PAD]', '[PAD]', '[PAD]', '[PAD]', '[PAD]', '[PAD]', '[PAD]', '[PAD]', '[PAD]', '[PAD]', '[PAD]', '[PAD]', '[PAD]', '[PAD]', '[PAD]', '[PAD]', '[PAD]', '[PAD]', '[PAD]']\n",
            "['[SOS]', '▁처', '지', '에', '▁따뜻한', '▁말을', '▁아', '레', '나', '▁공', '주', '였다', '[EOS]', '[PAD]', '[PAD]', '[PAD]', '[PAD]', '[PAD]', '[PAD]', '[PAD]', '[PAD]', '[PAD]', '[PAD]', '[PAD]', '[PAD]', '[PAD]', '[PAD]', '[PAD]', '[PAD]', '[PAD]']\n",
            "['[SOS]', '▁이런', '▁처', '지', '에', '▁그', '에게', '▁따뜻한', '▁말을', '▁건', '낸', '▁이', '가', '▁있었', '으니', '▁바로', '▁아', '레', '나', '▁공', '주', '였다', '.', '[EOS]', '[PAD]', '[PAD]', '[PAD]', '[PAD]', '[PAD]', '[PAD]', '[PAD]', '[PAD]', '[PAD]', '[PAD]', '[PAD]', '[PAD]', '[PAD]', '[PAD]', '[PAD]', '[PAD]', '[PAD]', '[PAD]', '[PAD]', '[PAD]', '[PAD]', '[PAD]', '[PAD]', '[PAD]', '[PAD]', '[PAD]', '[PAD]', '[PAD]', '[PAD]', '[PAD]', '[PAD]', '[PAD]', '[PAD]', '[PAD]', '[PAD]', '[PAD]', '[PAD]', '[PAD]', '[PAD]', '[PAD]', '[PAD]', '[PAD]', '[PAD]', '[PAD]', '[PAD]', '[PAD]', '[PAD]', '[PAD]', '[PAD]', '[PAD]', '[PAD]', '[PAD]', '[PAD]', '[PAD]', '[PAD]', '[PAD]', '[PAD]', '[PAD]', '[PAD]', '[PAD]', '[PAD]', '[PAD]', '[PAD]', '[PAD]', '[PAD]', '[PAD]']\n",
            "['[SOS]', '▁물론', '아', '레', '나', '▁공', '주가', '▁자신', '에게', '▁황', '태', '자의', '▁불', '리', '기', '위', '해서', '[EOS]', '[PAD]', '[PAD]', '[PAD]', '[PAD]', '[PAD]', '[PAD]', '[PAD]', '[PAD]', '[PAD]', '[PAD]', '[PAD]', '[PAD]']\n",
            "['[SOS]', '▁물론', '아', '레', '나', '▁공', '주가', '▁자신', '에게', '▁접근', '한', '▁것이', '▁황', '태', '자의', '▁안', '위를', '▁위해', '▁세', '를', '▁불', '리', '기', '위', '해서', '▁', '라는', '것', '을', '▁모르', '는', '▁것은', '▁아니었다', '.', '[EOS]', '[PAD]', '[PAD]', '[PAD]', '[PAD]', '[PAD]', '[PAD]', '[PAD]', '[PAD]', '[PAD]', '[PAD]', '[PAD]', '[PAD]', '[PAD]', '[PAD]', '[PAD]', '[PAD]', '[PAD]', '[PAD]', '[PAD]', '[PAD]', '[PAD]', '[PAD]', '[PAD]', '[PAD]', '[PAD]', '[PAD]', '[PAD]', '[PAD]', '[PAD]', '[PAD]', '[PAD]', '[PAD]', '[PAD]', '[PAD]', '[PAD]', '[PAD]', '[PAD]', '[PAD]', '[PAD]', '[PAD]', '[PAD]', '[PAD]', '[PAD]', '[PAD]', '[PAD]', '[PAD]', '[PAD]', '[PAD]', '[PAD]', '[PAD]', '[PAD]', '[PAD]', '[PAD]', '[PAD]', '[PAD]']\n",
            "['[SOS]', '▁아름다운', '▁공', '주가', '▁진', '심', '에서', '우', '러', '나', '오는', '말', '을', '▁좋', '게', '만', '▁보였다', '[EOS]', '[PAD]', '[PAD]', '[PAD]', '[PAD]', '[PAD]', '[PAD]', '[PAD]', '[PAD]', '[PAD]', '[PAD]', '[PAD]', '[PAD]']\n",
            "['[SOS]', '▁그러나', '▁너무', '도', '▁아름다운', '▁공', '주가', '▁진', '심', '에서', '우', '러', '나', '오는', '말', '을', '▁하자', '▁모든', '▁것이', '▁좋', '게', '만', '▁보였다', '.', '[EOS]', '[PAD]', '[PAD]', '[PAD]', '[PAD]', '[PAD]', '[PAD]', '[PAD]', '[PAD]', '[PAD]', '[PAD]', '[PAD]', '[PAD]', '[PAD]', '[PAD]', '[PAD]', '[PAD]', '[PAD]', '[PAD]', '[PAD]', '[PAD]', '[PAD]', '[PAD]', '[PAD]', '[PAD]', '[PAD]', '[PAD]', '[PAD]', '[PAD]', '[PAD]', '[PAD]', '[PAD]', '[PAD]', '[PAD]', '[PAD]', '[PAD]', '[PAD]', '[PAD]', '[PAD]', '[PAD]', '[PAD]', '[PAD]', '[PAD]', '[PAD]', '[PAD]', '[PAD]', '[PAD]', '[PAD]', '[PAD]', '[PAD]', '[PAD]', '[PAD]', '[PAD]', '[PAD]', '[PAD]', '[PAD]', '[PAD]', '[PAD]', '[PAD]', '[PAD]', '[PAD]', '[PAD]', '[PAD]', '[PAD]', '[PAD]', '[PAD]']\n",
            "['[SOS]', '▁사랑', '의', '▁감정', '이', '▁매력', '이', '있는', '▁희망', '도', '▁야', '망', '을', '[EOS]', '[PAD]', '[PAD]', '[PAD]', '[PAD]', '[PAD]', '[PAD]', '[PAD]', '[PAD]', '[PAD]', '[PAD]', '[PAD]', '[PAD]', '[PAD]', '[PAD]', '[PAD]', '[PAD]']\n",
            "['[SOS]', '▁사랑', '의', '▁감정', '이', '▁아니', '더라도', '▁충분히', '좋', '아', '할', '▁만한', '▁매력', '이', '있는', '▁것은', '▁사실이', '었고', '▁어', '차', '피', '▁포', '러스', '▁제', '국', '으로', '▁넘어', '▁온', '▁이유', '도', '아', '무', '런', '▁희망', '도', '▁없는', '아', '라', '사는', '▁자신의', '▁야', '망', '을', '▁채', '워', '줄', '▁수', '▁없었', '기', '▁때문', '이었다', '.', '[EOS]', '[PAD]', '[PAD]', '[PAD]', '[PAD]', '[PAD]', '[PAD]', '[PAD]', '[PAD]', '[PAD]', '[PAD]', '[PAD]', '[PAD]', '[PAD]', '[PAD]', '[PAD]', '[PAD]', '[PAD]', '[PAD]', '[PAD]', '[PAD]', '[PAD]', '[PAD]', '[PAD]', '[PAD]', '[PAD]', '[PAD]', '[PAD]', '[PAD]', '[PAD]', '[PAD]', '[PAD]', '[PAD]', '[PAD]', '[PAD]', '[PAD]', '[PAD]', '[PAD]']\n",
            "['[SOS]', '▁게다가', '▁배', '척', '당', '하는', '▁쪽', '에', '▁들어', '어', '우', '러', '진다', '는', '▁좋았', '다', '[EOS]', '[PAD]', '[PAD]', '[PAD]', '[PAD]', '[PAD]', '[PAD]', '[PAD]', '[PAD]', '[PAD]', '[PAD]', '[PAD]', '[PAD]', '[PAD]']\n",
            "['[SOS]', '▁게다가', '▁자신의', '▁처', '지', '에서', '▁배', '척', '당', '하는', '▁것', '보다', '어', '느', '▁한', '▁쪽', '에', '▁들어', '어', '우', '러', '진다', '는', '▁것이', '▁좋았', '다', '.', '[EOS]', '[PAD]', '[PAD]', '[PAD]', '[PAD]', '[PAD]', '[PAD]', '[PAD]', '[PAD]', '[PAD]', '[PAD]', '[PAD]', '[PAD]', '[PAD]', '[PAD]', '[PAD]', '[PAD]', '[PAD]', '[PAD]', '[PAD]', '[PAD]', '[PAD]', '[PAD]', '[PAD]', '[PAD]', '[PAD]', '[PAD]', '[PAD]', '[PAD]', '[PAD]', '[PAD]', '[PAD]', '[PAD]', '[PAD]', '[PAD]', '[PAD]', '[PAD]', '[PAD]', '[PAD]', '[PAD]', '[PAD]', '[PAD]', '[PAD]', '[PAD]', '[PAD]', '[PAD]', '[PAD]', '[PAD]', '[PAD]', '[PAD]', '[PAD]', '[PAD]', '[PAD]', '[PAD]', '[PAD]', '[PAD]', '[PAD]', '[PAD]', '[PAD]', '[PAD]', '[PAD]', '[PAD]', '[PAD]']\n",
            "['[SOS]', '▁바', '램', '대로', '▁어느', '정', '도', '친', '분', '을', '▁다', '진', '▁사람', '도', '여', '럿', '▁건', '지', '게', '[EOS]', '[PAD]', '[PAD]', '[PAD]', '[PAD]', '[PAD]', '[PAD]', '[PAD]', '[PAD]', '[PAD]', '[PAD]']\n",
            "['[SOS]', '▁그리고', '▁그의', '▁바', '램', '대로', '▁어느', '정', '도', '친', '분', '을', '▁다', '진', '▁사람', '도', '여', '럿', '▁되', '었고', '▁마음을', '▁터', '놓', '을', '▁사람', '도', '▁하나', '▁건', '지', '게', '▁', '되었다', '.', '[EOS]', '[PAD]', '[PAD]', '[PAD]', '[PAD]', '[PAD]', '[PAD]', '[PAD]', '[PAD]', '[PAD]', '[PAD]', '[PAD]', '[PAD]', '[PAD]', '[PAD]', '[PAD]', '[PAD]', '[PAD]', '[PAD]', '[PAD]', '[PAD]', '[PAD]', '[PAD]', '[PAD]', '[PAD]', '[PAD]', '[PAD]', '[PAD]', '[PAD]', '[PAD]', '[PAD]', '[PAD]', '[PAD]', '[PAD]', '[PAD]', '[PAD]', '[PAD]', '[PAD]', '[PAD]', '[PAD]', '[PAD]', '[PAD]', '[PAD]', '[PAD]', '[PAD]', '[PAD]', '[PAD]', '[PAD]', '[PAD]', '[PAD]', '[PAD]', '[PAD]', '[PAD]', '[PAD]', '[PAD]', '[PAD]', '[PAD]']\n",
            "['[SOS]', '▁모', '을', '것', '인', '가', '부터', '에서', '사람', '을', '▁끌어', '들이', '는', '▁질문', '과', '▁조언', '이', '▁오', '고', '갔다', '[EOS]', '[PAD]', '[PAD]', '[PAD]', '[PAD]', '[PAD]', '[PAD]', '[PAD]', '[PAD]', '[PAD]']\n",
            "['[SOS]', '▁어떤', '▁사람', '을', '▁모', '을', '것', '인', '가', '부터', '에서', '사람', '을', '▁끌어', '들이', '는', '▁방법', '에', '▁이', '르', '기', '▁', '까지', '▁수많은', '▁질문', '과', '▁조언', '이', '▁오', '고', '갔다', '.', '[EOS]', '[PAD]', '[PAD]', '[PAD]', '[PAD]', '[PAD]', '[PAD]', '[PAD]', '[PAD]', '[PAD]', '[PAD]', '[PAD]', '[PAD]', '[PAD]', '[PAD]', '[PAD]', '[PAD]', '[PAD]', '[PAD]', '[PAD]', '[PAD]', '[PAD]', '[PAD]', '[PAD]', '[PAD]', '[PAD]', '[PAD]', '[PAD]', '[PAD]', '[PAD]', '[PAD]', '[PAD]', '[PAD]', '[PAD]', '[PAD]', '[PAD]', '[PAD]', '[PAD]', '[PAD]', '[PAD]', '[PAD]', '[PAD]', '[PAD]', '[PAD]', '[PAD]', '[PAD]', '[PAD]', '[PAD]', '[PAD]', '[PAD]', '[PAD]', '[PAD]', '[PAD]', '[PAD]', '[PAD]', '[PAD]', '[PAD]', '[PAD]']\n",
            "['[SOS]', '▁세력', '의', '▁이루', '어', '▁안', '심', '하고', '▁있을', '▁아', '레', '나', '공', '주의', '결혼', '발표', '가', '나', '오', '게', '[EOS]', '[PAD]', '[PAD]', '[PAD]', '[PAD]', '[PAD]', '[PAD]', '[PAD]', '[PAD]', '[PAD]']\n",
            "['[SOS]', '▁그리고', '어', '느', '정', '도', '▁세력', '의', '▁골', '격', '이', '▁이루', '어', '▁', '졌고', '▁안', '심', '하고', '▁있을', '▁때', '▁아', '레', '나', '공', '주의', '결혼', '발표', '가', '나', '오', '게', '▁된', '▁것이다', '.', '[EOS]', '[PAD]', '[PAD]', '[PAD]', '[PAD]', '[PAD]', '[PAD]', '[PAD]', '[PAD]', '[PAD]', '[PAD]', '[PAD]', '[PAD]', '[PAD]', '[PAD]', '[PAD]', '[PAD]', '[PAD]', '[PAD]', '[PAD]', '[PAD]', '[PAD]', '[PAD]', '[PAD]', '[PAD]', '[PAD]', '[PAD]', '[PAD]', '[PAD]', '[PAD]', '[PAD]', '[PAD]', '[PAD]', '[PAD]', '[PAD]', '[PAD]', '[PAD]', '[PAD]', '[PAD]', '[PAD]', '[PAD]', '[PAD]', '[PAD]', '[PAD]', '[PAD]', '[PAD]', '[PAD]', '[PAD]', '[PAD]', '[PAD]', '[PAD]', '[PAD]', '[PAD]', '[PAD]', '[PAD]', '[PAD]']\n",
            "['[SOS]', '▁황', '태', '자의', '세력', '이', '▁전에', '▁공', '주의', '▁제거', '를', '▁결혼', '이', '분', '명', '하', '였다', '[EOS]', '[PAD]', '[PAD]', '[PAD]', '[PAD]', '[PAD]', '[PAD]', '[PAD]', '[PAD]', '[PAD]', '[PAD]', '[PAD]', '[PAD]']\n",
            "['[SOS]', '▁황', '태', '자의', '세력', '이', '▁더', '▁커', '지', '기', '▁전에', '▁그', '▁주', '축', '인', '▁아', '레', '나', '▁공', '주의', '▁제거', '를', '▁목적으로', '이', '루', '어', '진', '▁결혼', '이', '분', '명', '하', '였다', '.', '[EOS]', '[PAD]', '[PAD]', '[PAD]', '[PAD]', '[PAD]', '[PAD]', '[PAD]', '[PAD]', '[PAD]', '[PAD]', '[PAD]', '[PAD]', '[PAD]', '[PAD]', '[PAD]', '[PAD]', '[PAD]', '[PAD]', '[PAD]', '[PAD]', '[PAD]', '[PAD]', '[PAD]', '[PAD]', '[PAD]', '[PAD]', '[PAD]', '[PAD]', '[PAD]', '[PAD]', '[PAD]', '[PAD]', '[PAD]', '[PAD]', '[PAD]', '[PAD]', '[PAD]', '[PAD]', '[PAD]', '[PAD]', '[PAD]', '[PAD]', '[PAD]', '[PAD]', '[PAD]', '[PAD]', '[PAD]', '[PAD]', '[PAD]', '[PAD]', '[PAD]', '[PAD]', '[PAD]', '[PAD]', '[PAD]']\n",
            "['[SOS]', '▁제', '국', '의', '▁동', '단', '▁그', '만', '없', '어', '도', '▁공', '작', '의', '자', '제', '에게', '▁시', '집', '을', '[EOS]', '[PAD]', '[PAD]', '[PAD]', '[PAD]', '[PAD]', '[PAD]', '[PAD]', '[PAD]', '[PAD]']\n",
            "['[SOS]', '▁그러', '기에', '▁제', '국', '의', '▁최', '▁동', '단', ',', '▁그', '것', '도', '▁있어', '도', '▁그', '만', '없', '어', '도', '▁그', '만', '인', '▁공', '작', '의', '자', '제', '에게', '▁시', '집', '을', '▁보내', '는', '▁것이다', '.', '[EOS]', '[PAD]', '[PAD]', '[PAD]', '[PAD]', '[PAD]', '[PAD]', '[PAD]', '[PAD]', '[PAD]', '[PAD]', '[PAD]', '[PAD]', '[PAD]', '[PAD]', '[PAD]', '[PAD]', '[PAD]', '[PAD]', '[PAD]', '[PAD]', '[PAD]', '[PAD]', '[PAD]', '[PAD]', '[PAD]', '[PAD]', '[PAD]', '[PAD]', '[PAD]', '[PAD]', '[PAD]', '[PAD]', '[PAD]', '[PAD]', '[PAD]', '[PAD]', '[PAD]', '[PAD]', '[PAD]', '[PAD]', '[PAD]', '[PAD]', '[PAD]', '[PAD]', '[PAD]', '[PAD]', '[PAD]', '[PAD]', '[PAD]', '[PAD]', '[PAD]', '[PAD]', '[PAD]']\n",
            "['[SOS]', '▁공', '작', '의', '▁', '의', '하면', '놀', '기', '▁좋아', '하고', '▁여자', '만', '▁카', '발', '레', '타', '황', '후', '가', '[EOS]', '[PAD]', '[PAD]', '[PAD]', '[PAD]', '[PAD]', '[PAD]', '[PAD]', '[PAD]', '[PAD]']\n",
            "['[SOS]', '▁공', '작', '의', '▁자', '제', '가', '▁좀', '▁괜찮', '으면', '몰', '라도', '▁소', '문', '에', '▁', '의', '하면', '놀', '기', '▁좋아', '하고', '▁여자', '만', '▁', '쫓', '아', '▁다니', '는', '▁망', '나', '니', '라', '니', '▁카', '발', '레', '타', '황', '후', '가', '▁제대로', '▁고', '른', '▁것은', '분', '명', '하', '였다', '.', '[EOS]', '[PAD]', '[PAD]', '[PAD]', '[PAD]', '[PAD]', '[PAD]', '[PAD]', '[PAD]', '[PAD]', '[PAD]', '[PAD]', '[PAD]', '[PAD]', '[PAD]', '[PAD]', '[PAD]', '[PAD]', '[PAD]', '[PAD]', '[PAD]', '[PAD]', '[PAD]', '[PAD]', '[PAD]', '[PAD]', '[PAD]', '[PAD]', '[PAD]', '[PAD]', '[PAD]', '[PAD]', '[PAD]', '[PAD]', '[PAD]', '[PAD]', '[PAD]', '[PAD]', '[PAD]', '[PAD]']\n",
            "['[SOS]', '▁걱정', '이', '▁', '궁', '중', '마', '법', '사', '자리', '를', '▁', '버리', '고', '▁아', '레', '나', '공', '주의', '▁마', '법', '사', '로', '[EOS]', '[PAD]', '[PAD]', '[PAD]', '[PAD]', '[PAD]', '[PAD]']\n",
            "['[SOS]', '▁그', '렇', '기에', '▁걱정', '이', '▁되어', '▁나', '사', '스가', '▁', '궁', '중', '마', '법', '사', '자리', '를', '▁', '버리', '고', '▁아', '레', '나', '공', '주의', '▁개인', '▁마', '법', '사', '로', '▁같이', '▁동', '행', '하게', '▁된', '▁것이다', '.', '[EOS]', '[PAD]', '[PAD]', '[PAD]', '[PAD]', '[PAD]', '[PAD]', '[PAD]', '[PAD]', '[PAD]', '[PAD]', '[PAD]', '[PAD]', '[PAD]', '[PAD]', '[PAD]', '[PAD]', '[PAD]', '[PAD]', '[PAD]', '[PAD]', '[PAD]', '[PAD]', '[PAD]', '[PAD]', '[PAD]', '[PAD]', '[PAD]', '[PAD]', '[PAD]', '[PAD]', '[PAD]', '[PAD]', '[PAD]', '[PAD]', '[PAD]', '[PAD]', '[PAD]', '[PAD]', '[PAD]', '[PAD]', '[PAD]', '[PAD]', '[PAD]', '[PAD]', '[PAD]', '[PAD]', '[PAD]', '[PAD]', '[PAD]', '[PAD]', '[PAD]']\n",
            "['[SOS]', '▁필요하다', '면서', '아', '레', '나', '▁공', '주의', '▁손을', '▁황', '제', '의', '▁지', '는', '[EOS]', '[PAD]', '[PAD]', '[PAD]', '[PAD]', '[PAD]', '[PAD]', '[PAD]', '[PAD]', '[PAD]', '[PAD]', '[PAD]', '[PAD]', '[PAD]', '[PAD]', '[PAD]']\n",
            "['[SOS]', '▁하나', '라도', '▁마음', '에', '맞', '는', '▁사람이', '▁필요하다', '면서', '아', '레', '나', '▁공', '주의', '▁손을', '▁', '쥐', '는', '▁황', '제', '의', '▁모습을', '▁보', '며', '▁어', '[UNK]', '저', '리', '도', '▁모', '를', '▁수', '▁있는', '지', '▁아', '님', '▁모', '른', '척', '▁하는', '▁건', '지', '▁알', '송', '달', '송', '해', '▁지', '는', '▁나', '사', '스', '였다', '.', '[EOS]', '[PAD]', '[PAD]', '[PAD]', '[PAD]', '[PAD]', '[PAD]', '[PAD]', '[PAD]', '[PAD]', '[PAD]', '[PAD]', '[PAD]', '[PAD]', '[PAD]', '[PAD]', '[PAD]', '[PAD]', '[PAD]', '[PAD]', '[PAD]', '[PAD]', '[PAD]', '[PAD]', '[PAD]', '[PAD]', '[PAD]', '[PAD]', '[PAD]', '[PAD]', '[PAD]', '[PAD]', '[PAD]', '[PAD]', '[PAD]']\n",
            "['[SOS]', '▁영', '지를', '▁가장', '▁명', '목', '상', '의', '▁크기', '일', '뿐', '실', '제', '로', '는', '그', '리', '▁영', '지는', '[EOS]', '[PAD]', '[PAD]', '[PAD]', '[PAD]', '[PAD]', '[PAD]', '[PAD]', '[PAD]', '[PAD]', '[PAD]']\n",
            "['[SOS]', '▁영', '지를', '▁따', '지', '자', '면', '현', '포', '러스', '▁제', '국', '에서', '▁가장', '▁큰', '▁영', '지', '이나', ',', '▁이는', '▁어디', '까지', '나', '▁명', '목', '상', '의', '▁크기', '일', '뿐', '실', '제', '로', '는', '그', '리', '▁큰', '▁영', '지는', '▁아', '닙', '니다', '.', '[EOS]', '[PAD]', '[PAD]', '[PAD]', '[PAD]', '[PAD]', '[PAD]', '[PAD]', '[PAD]', '[PAD]', '[PAD]', '[PAD]', '[PAD]', '[PAD]', '[PAD]', '[PAD]', '[PAD]', '[PAD]', '[PAD]', '[PAD]', '[PAD]', '[PAD]', '[PAD]', '[PAD]', '[PAD]', '[PAD]', '[PAD]', '[PAD]', '[PAD]', '[PAD]', '[PAD]', '[PAD]', '[PAD]', '[PAD]', '[PAD]', '[PAD]', '[PAD]', '[PAD]', '[PAD]', '[PAD]', '[PAD]', '[PAD]', '[PAD]', '[PAD]', '[PAD]', '[PAD]', '[PAD]']\n",
            "['[SOS]', '▁북', '으로', '는', '▁', '드래곤', '산', '맥', '으로', '▁막', '혀', '▁', '몬', '스터', '들', '▁못', '합니다', '[EOS]', '[PAD]', '[PAD]', '[PAD]', '[PAD]', '[PAD]', '[PAD]', '[PAD]', '[PAD]', '[PAD]', '[PAD]', '[PAD]', '[PAD]']\n",
            "['[SOS]', '▁북', '으로', '는', '▁', '드래곤', '산', '맥', '으로', '▁막', '혀', '▁있고', ',', '▁게다가', '그', '산', '자', '락', '에서', '▁나오는', '▁각종', '▁', '몬', '스터', '들', '▁때문에', '▁그', '▁근처', '에는', '▁', '얼', '씬', '도', '▁못', '합니다', '.', '[EOS]', '[PAD]', '[PAD]', '[PAD]', '[PAD]', '[PAD]', '[PAD]', '[PAD]', '[PAD]', '[PAD]', '[PAD]', '[PAD]', '[PAD]', '[PAD]', '[PAD]', '[PAD]', '[PAD]', '[PAD]', '[PAD]', '[PAD]', '[PAD]', '[PAD]', '[PAD]', '[PAD]', '[PAD]', '[PAD]', '[PAD]', '[PAD]', '[PAD]', '[PAD]', '[PAD]', '[PAD]', '[PAD]', '[PAD]', '[PAD]', '[PAD]', '[PAD]', '[PAD]', '[PAD]', '[PAD]', '[PAD]', '[PAD]', '[PAD]', '[PAD]', '[PAD]', '[PAD]', '[PAD]', '[PAD]', '[PAD]', '[PAD]', '[PAD]', '[PAD]', '[PAD]', '[PAD]']\n",
            "['[SOS]', '▁동', '쪽', '은', '사', '막', '지역', '으로', '▁부족', '들이', '▁상당수', '▁있는데', '이', '들이', '수', '시', '로', '▁침', '략', '해', '[EOS]', '[PAD]', '[PAD]', '[PAD]', '[PAD]', '[PAD]', '[PAD]', '[PAD]', '[PAD]', '[PAD]']\n",
            "['[SOS]', '▁동', '쪽', '은', '사', '막', '지역', '으로', '▁오', '아', '시', '스를', '▁중심으로', '▁유', '목', '을', '▁하는', '▁부족', '들이', '▁상당수', '▁있는데', '이', '들이', '수', '시', '로', '▁', '틸', '라', '크', '▁영', '지를', '▁침', '략', '해', '▁노', '략', '질', '을', '▁일', '삼', '고', '▁있습니다', '.', '[EOS]', '[PAD]', '[PAD]', '[PAD]', '[PAD]', '[PAD]', '[PAD]', '[PAD]', '[PAD]', '[PAD]', '[PAD]', '[PAD]', '[PAD]', '[PAD]', '[PAD]', '[PAD]', '[PAD]', '[PAD]', '[PAD]', '[PAD]', '[PAD]', '[PAD]', '[PAD]', '[PAD]', '[PAD]', '[PAD]', '[PAD]', '[PAD]', '[PAD]', '[PAD]', '[PAD]', '[PAD]', '[PAD]', '[PAD]', '[PAD]', '[PAD]', '[PAD]', '[PAD]', '[PAD]', '[PAD]', '[PAD]', '[PAD]', '[PAD]', '[PAD]', '[PAD]', '[PAD]']\n",
            "['[SOS]', '▁이', '길', '은', '사람', '이', '▁', '몬', '스터', '들이', '▁많았', '지만', '▁영', '지', '의', '수', '십', '년에', '걸', '친', '▁노력', '으로', '[EOS]', '[PAD]', '[PAD]', '[PAD]', '[PAD]', '[PAD]', '[PAD]', '[PAD]']\n",
            "['[SOS]', '▁처음', '만', '▁', '하더라도', '▁이', '길', '은', '사람', '이', '▁다', '닐', '▁수', '▁없을', '▁정도로', '▁', '몬', '스터', '들이', '▁많았', '지만', '▁자', '렌', '성과', '▁', '틸', '라', '크', '▁영', '지', '의', '수', '십', '년에', '걸', '친', '▁노력', '으로', '▁그', '나', '마', '▁이정', '도', '의', '▁안정', '된', '▁도로', '를', '▁확보', '할', '▁수', '▁있게', '▁되', '었습니다', '.', '[EOS]', '[PAD]', '[PAD]', '[PAD]', '[PAD]', '[PAD]', '[PAD]', '[PAD]', '[PAD]', '[PAD]', '[PAD]', '[PAD]', '[PAD]', '[PAD]', '[PAD]', '[PAD]', '[PAD]', '[PAD]', '[PAD]', '[PAD]', '[PAD]', '[PAD]', '[PAD]', '[PAD]', '[PAD]', '[PAD]', '[PAD]', '[PAD]', '[PAD]', '[PAD]', '[PAD]', '[PAD]', '[PAD]', '[PAD]', '[PAD]']\n",
            "['[SOS]', '▁없', '으면', '▁포', '러스', '국', '과', '의', '연', '계', '가', '끊', '기', '게', '▁고', '립', '될', '▁수밖에', '▁없', '으니', '[EOS]', '[PAD]', '[PAD]', '[PAD]', '[PAD]', '[PAD]', '[PAD]', '[PAD]', '[PAD]', '[PAD]']\n",
            "['[SOS]', '▁당장', '▁이', '길', '이', '▁없', '으면', '▁포', '러스', '국', '과', '의', '연', '계', '가', '끊', '기', '게', '▁되고', '▁', '틸', '라', '크', '▁영', '지는', '▁고', '립', '될', '▁수밖에', '▁없', '으니', '▁살', '기', '▁위해', '▁노력', '했다는', '것', '이', '정', '답', '일', '▁것입니다', '.', '[EOS]', '[PAD]', '[PAD]', '[PAD]', '[PAD]', '[PAD]', '[PAD]', '[PAD]', '[PAD]', '[PAD]', '[PAD]', '[PAD]', '[PAD]', '[PAD]', '[PAD]', '[PAD]', '[PAD]', '[PAD]', '[PAD]', '[PAD]', '[PAD]', '[PAD]', '[PAD]', '[PAD]', '[PAD]', '[PAD]', '[PAD]', '[PAD]', '[PAD]', '[PAD]', '[PAD]', '[PAD]', '[PAD]', '[PAD]', '[PAD]', '[PAD]', '[PAD]', '[PAD]', '[PAD]', '[PAD]', '[PAD]', '[PAD]', '[PAD]', '[PAD]', '[PAD]', '[PAD]', '[PAD]']\n",
            "['[SOS]', '▁영', '지는', '▁사', '막', '의', '부', '족', '들이', '가', '축', '을', '▁방', '목', '하고', '▁아무', '런', '주', '인', '도', '▁있던', '유', '목', '민', '의', '[EOS]', '[PAD]', '[PAD]', '[PAD]', '[PAD]']\n",
            "['[SOS]', '▁당시', '▁', '틸', '라', '크', '▁영', '지는', '▁사', '막', '의', '부', '족', '들이', '가', '축', '을', '▁방', '목', '하고', '▁있었', '기', '▁때문에', '▁', '틸', '라', '크', '▁공', '작', '은', '▁아직', '▁이', '지역', '이', '▁아무', '런', '주', '인', '도', '▁없는', '곳', '으로', '▁착', '각', '을', '▁', '하게', '▁되', '었는데', '▁이런', '▁생각을', '▁', '하게', '▁된', '▁결정', '적인', '▁이유', '가', '▁그', '지역', '에', '▁있던', '유', '목', '민', '의', '▁태도', '에', '▁있었', '습니다', '.', '[EOS]', '[PAD]', '[PAD]', '[PAD]', '[PAD]', '[PAD]', '[PAD]', '[PAD]', '[PAD]', '[PAD]', '[PAD]', '[PAD]', '[PAD]', '[PAD]', '[PAD]', '[PAD]', '[PAD]', '[PAD]', '[PAD]']\n",
            "['[SOS]', '▁대', '항', '하던', '▁그', '들이', '막', '상', '전', '투', '에서', '▁지', '니까', '▁공', '작', '을', '▁주', '인', '으로', '[EOS]', '[PAD]', '[PAD]', '[PAD]', '[PAD]', '[PAD]', '[PAD]', '[PAD]', '[PAD]', '[PAD]', '[PAD]']\n",
            "['[SOS]', '▁처음', '엔', '▁', '적으로', '▁간', '주', '하고', '▁대', '항', '하던', '▁그', '들이', '막', '상', '전', '투', '에서', '▁지', '니까', '▁모두', '▁', '틸', '라', '크', '▁공', '작', '을', '▁자신의', '▁주', '인', '으로', '▁삼', '는', '▁것이', '었습니다', '.', '[EOS]', '[PAD]', '[PAD]', '[PAD]', '[PAD]', '[PAD]', '[PAD]', '[PAD]', '[PAD]', '[PAD]', '[PAD]', '[PAD]', '[PAD]', '[PAD]', '[PAD]', '[PAD]', '[PAD]', '[PAD]', '[PAD]', '[PAD]', '[PAD]', '[PAD]', '[PAD]', '[PAD]', '[PAD]', '[PAD]', '[PAD]', '[PAD]', '[PAD]', '[PAD]', '[PAD]', '[PAD]', '[PAD]', '[PAD]', '[PAD]', '[PAD]', '[PAD]', '[PAD]', '[PAD]', '[PAD]', '[PAD]', '[PAD]', '[PAD]', '[PAD]', '[PAD]', '[PAD]', '[PAD]', '[PAD]', '[PAD]', '[PAD]', '[PAD]', '[PAD]', '[PAD]']\n",
            "['[SOS]', '▁사실', '과', '앞으로', '더', '나', '가', '겠다는', '▁전', '진', '해', '▁만들고', '▁기초', '공사', '를', '▁시작', '했습니다', '[EOS]', '[PAD]', '[PAD]', '[PAD]', '[PAD]', '[PAD]', '[PAD]', '[PAD]', '[PAD]', '[PAD]', '[PAD]', '[PAD]', '[PAD]']\n",
            "['[SOS]', '▁이에', '틸', '라', '크', '▁공', '작', '은', '▁우선', '▁포', '러스', '▁제', '국', '에', '▁신', '천', '지를', '▁발견', '했다는', '▁사실', '과', '앞으로', '더', '나', '가', '겠다는', '▁의사', '를', '▁전달', '하고', '▁계속', '▁전', '진', '해', '▁나가', '는', '▁한편', '▁현', '▁', '틸', '라', '크', '▁성', '이', '있는', '지역', '에', '▁물', '자를', '▁보급', '소', '를', '▁만들고', '▁성', '의', '▁기초', '공사', '를', '▁하기', '▁시작', '했습니다', '.', '[EOS]', '[PAD]', '[PAD]', '[PAD]', '[PAD]', '[PAD]', '[PAD]', '[PAD]', '[PAD]', '[PAD]', '[PAD]', '[PAD]', '[PAD]', '[PAD]', '[PAD]', '[PAD]', '[PAD]', '[PAD]', '[PAD]', '[PAD]', '[PAD]', '[PAD]', '[PAD]', '[PAD]', '[PAD]', '[PAD]', '[PAD]', '[PAD]']\n",
            "['[SOS]', '▁못', '차', '리', '다', '틸', '라', '크', '공', '작', '군', '에', '▁약', '해', '져', '▁회복', '하고', '▁난', '데', '없이', '갑', '자', '기', '▁지', '레', '[EOS]', '[PAD]', '[PAD]', '[PAD]', '[PAD]']\n",
            "['[SOS]', '▁당시', '▁휴', '노', '이', '▁군', '은', '▁사', '막', '부', '족', '의', '▁거', '센', '▁압력', '에', '▁정신', '을', '▁못', '차', '리', '다', '틸', '라', '크', '공', '작', '군', '에', '▁의해', '▁다소', '▁압력', '이', '▁약', '해', '져', '▁점차', '▁세력', '을', '▁회복', '하고', '▁있었는데', '▁난', '데', '없이', '갑', '자', '기', '▁또', '다른', '▁부대', '를', '▁보', '자', '▁지', '레', '▁', '겁', '을', '▁먹고', '▁화', '친', '을', '▁청', '하게', '▁되', '었습니다', '.', '[EOS]', '[PAD]', '[PAD]', '[PAD]', '[PAD]', '[PAD]', '[PAD]', '[PAD]', '[PAD]', '[PAD]', '[PAD]', '[PAD]', '[PAD]', '[PAD]', '[PAD]', '[PAD]', '[PAD]', '[PAD]', '[PAD]', '[PAD]', '[PAD]', '[PAD]']\n",
            "['[SOS]', '▁동', '쪽', '사', '막', '지역', '까지', '부터', '서', '쪽', '으로', '는', '▁산', '맥', '부터', '남', '으로', '▁베', '다', '강', '의', '▁끝까지', '가', '▁', '틸', '라', '크', '[EOS]', '[PAD]', '[PAD]']\n",
            "['[SOS]', '▁지도', '상', '으로', '는', '▁일단', '▁끝', '도', '▁없는', '▁동', '쪽', '사', '막', '지역', '까지', '부터', '서', '쪽', '으로', '는', '▁드', '베', '리아', '▁산', '맥', '의', '▁정상', '까지', ',', '▁북', '으로', '는', '▁', '드래곤', '▁산', '맥', '부터', '남', '으로', '▁화', '친', '시', '맺', '었던', '▁베', '다', '강', '의', '▁하', '류', '▁끝까지', '가', '▁', '틸', '라', '크', '▁영', '지', '입니다', '.', '[EOS]', '[PAD]', '[PAD]', '[PAD]', '[PAD]', '[PAD]', '[PAD]', '[PAD]', '[PAD]', '[PAD]', '[PAD]', '[PAD]', '[PAD]', '[PAD]', '[PAD]', '[PAD]', '[PAD]', '[PAD]', '[PAD]', '[PAD]', '[PAD]', '[PAD]', '[PAD]', '[PAD]', '[PAD]', '[PAD]', '[PAD]', '[PAD]', '[PAD]', '[PAD]']\n",
            "['[SOS]', '▁실제로', '는', '사', '막', '지역', '이나', '북', '쪽', '의', '▁있지', '않', '고', '▁50', '년', '▁전에', '▁빼앗', '겨', '사실', '상', '지도', '의', '[EOS]', '[PAD]', '[PAD]', '[PAD]', '[PAD]', '[PAD]', '[PAD]', '[PAD]']\n",
            "['[SOS]', '▁그러나', '▁실제로', '는', '사', '막', '지역', '이나', '북', '쪽', '의', '▁', '드래곤', '산', '맥', '은', '▁물론', '▁서', '쪽', '의', '▁드', '베', '리아', '▁산', '맥', '까지', '▁사람이', '▁살', '고', '▁있지', '않', '고', '▁있고', '남', '쪽', '으로', '는', '▁이미', '▁50', '년', '▁전에', '▁베', '다', '강', '의', '▁중', '류', '지역', '까지', '▁휴', '노', '이', '▁국', '에게', '▁빼앗', '겨', '사실', '상', '지도', '의', '▁', '십', '분', '지', '▁일정', '도', '에', '▁그', '칩', '니다', '.', '[EOS]', '[PAD]', '[PAD]', '[PAD]', '[PAD]', '[PAD]', '[PAD]', '[PAD]', '[PAD]', '[PAD]', '[PAD]', '[PAD]', '[PAD]', '[PAD]', '[PAD]', '[PAD]', '[PAD]', '[PAD]', '[PAD]']\n",
            "['[SOS]', '▁지원', '군', '이', '올', '▁때까지', '▁걸', '리는', '▁한', '달', '여', '▁큰', '기', '대를', '[EOS]', '[PAD]', '[PAD]', '[PAD]', '[PAD]', '[PAD]', '[PAD]', '[PAD]', '[PAD]', '[PAD]', '[PAD]', '[PAD]', '[PAD]', '[PAD]', '[PAD]', '[PAD]']\n",
            "['[SOS]', '▁지원', '군', '이', '올', '▁때까지', '▁걸', '리는', '▁시간이', '▁한', '달', '여', '▁', '되기', '▁때문에', '▁', '틸', '라', '크', '▁영', '주', '역', '시', '▁그리', '▁큰', '기', '대를', '▁하지', '않', '고', '▁있습니다', '.', '[EOS]', '[PAD]', '[PAD]', '[PAD]', '[PAD]', '[PAD]', '[PAD]', '[PAD]', '[PAD]', '[PAD]', '[PAD]', '[PAD]', '[PAD]', '[PAD]', '[PAD]', '[PAD]', '[PAD]', '[PAD]', '[PAD]', '[PAD]', '[PAD]', '[PAD]', '[PAD]', '[PAD]', '[PAD]', '[PAD]', '[PAD]', '[PAD]', '[PAD]', '[PAD]', '[PAD]', '[PAD]', '[PAD]', '[PAD]', '[PAD]', '[PAD]', '[PAD]', '[PAD]', '[PAD]', '[PAD]', '[PAD]', '[PAD]', '[PAD]', '[PAD]', '[PAD]', '[PAD]', '[PAD]', '[PAD]', '[PAD]', '[PAD]', '[PAD]', '[PAD]', '[PAD]', '[PAD]', '[PAD]', '[PAD]', '[PAD]', '[PAD]']\n",
            "['[SOS]', '▁따', '진다', '면', '3', '▁0', '00', '에', '달', '하는', '▁귀', '족', '은', '▁공', '작', '이', '▁유일', '할', '[EOS]', '[PAD]', '[PAD]', '[PAD]', '[PAD]', '[PAD]', '[PAD]', '[PAD]', '[PAD]', '[PAD]', '[PAD]', '[PAD]']\n",
            "['[SOS]', '▁아', '마', '▁사', '병', '수', '로', '▁따', '진다', '면', '3', ',', '0', '00', '에', '달', '하는', '▁사', '병', '을', '▁거', '느', '린', '▁귀', '족', '은', '▁', '틸', '라', '크', '▁공', '작', '이', '▁유일', '할', '▁겁니다', '.', '[EOS]', '[PAD]', '[PAD]', '[PAD]', '[PAD]', '[PAD]', '[PAD]', '[PAD]', '[PAD]', '[PAD]', '[PAD]', '[PAD]', '[PAD]', '[PAD]', '[PAD]', '[PAD]', '[PAD]', '[PAD]', '[PAD]', '[PAD]', '[PAD]', '[PAD]', '[PAD]', '[PAD]', '[PAD]', '[PAD]', '[PAD]', '[PAD]', '[PAD]', '[PAD]', '[PAD]', '[PAD]', '[PAD]', '[PAD]', '[PAD]', '[PAD]', '[PAD]', '[PAD]', '[PAD]', '[PAD]', '[PAD]', '[PAD]', '[PAD]', '[PAD]', '[PAD]', '[PAD]', '[PAD]', '[PAD]', '[PAD]', '[PAD]', '[PAD]', '[PAD]', '[PAD]']\n",
            "['[SOS]', '▁부', '유', '한', '▁귀', '족', '은', '▁더', '많', '은', '▁키', '울', '▁귀', '족', '을', '누', '르', '고', '각', '종', '[EOS]', '[PAD]', '[PAD]', '[PAD]', '[PAD]', '[PAD]', '[PAD]', '[PAD]', '[PAD]', '[PAD]']\n",
            "['[SOS]', '▁부', '유', '한', '▁귀', '족', '은', '▁더', '많', '은', ',', '그', '리', '고', '▁더', '▁실력', '있는', '▁사', '병', '을', '▁키', '울', '▁수', '▁있고', ',', '▁이는', '▁결과', '적으로', '▁지역', '▁귀', '족', '을', '누', '르', '고', '각', '종', '▁이', '권', '개', '입', '에', '▁결정', '적인', '▁역할을', '▁함', '으로', '▁사', '병', '키', '우', '기에', '▁돈을', '▁아끼', '지', '▁않았다', '.', '[EOS]', '[PAD]', '[PAD]', '[PAD]', '[PAD]', '[PAD]', '[PAD]', '[PAD]', '[PAD]', '[PAD]', '[PAD]', '[PAD]', '[PAD]', '[PAD]', '[PAD]', '[PAD]', '[PAD]', '[PAD]', '[PAD]', '[PAD]', '[PAD]', '[PAD]', '[PAD]', '[PAD]', '[PAD]', '[PAD]', '[PAD]', '[PAD]', '[PAD]', '[PAD]', '[PAD]', '[PAD]', '[PAD]']\n",
            "['[SOS]', '▁제한', '▁용', '도로', '▁쓰', '일', '▁있다는', '우', '려', '에', '의', '해', '▁법', '으로', '[EOS]', '[PAD]', '[PAD]', '[PAD]', '[PAD]', '[PAD]', '[PAD]', '[PAD]', '[PAD]', '[PAD]', '[PAD]', '[PAD]', '[PAD]', '[PAD]', '[PAD]', '[PAD]']\n",
            "['[SOS]', '▁그러나', '▁그', '▁수', '가', '▁제한', '▁되', '었는데', ',', '▁이는', '▁유사', '시', '▁다른', '▁용', '도로', '▁쓰', '일', '▁수', '▁있다는', '우', '려', '에', '의', '해', '▁법', '으로', '▁정', '한', '▁것이다', '.', '[EOS]', '[PAD]', '[PAD]', '[PAD]', '[PAD]', '[PAD]', '[PAD]', '[PAD]', '[PAD]', '[PAD]', '[PAD]', '[PAD]', '[PAD]', '[PAD]', '[PAD]', '[PAD]', '[PAD]', '[PAD]', '[PAD]', '[PAD]', '[PAD]', '[PAD]', '[PAD]', '[PAD]', '[PAD]', '[PAD]', '[PAD]', '[PAD]', '[PAD]', '[PAD]', '[PAD]', '[PAD]', '[PAD]', '[PAD]', '[PAD]', '[PAD]', '[PAD]', '[PAD]', '[PAD]', '[PAD]', '[PAD]', '[PAD]', '[PAD]', '[PAD]', '[PAD]', '[PAD]', '[PAD]', '[PAD]', '[PAD]', '[PAD]', '[PAD]', '[PAD]', '[PAD]', '[PAD]', '[PAD]', '[PAD]', '[PAD]', '[PAD]', '[PAD]', '[PAD]']\n",
            "['[SOS]', '▁전', '례', '가', '▁있었', '기에', '▁반', '란', '을', '진', '압', '하고', '부', '랴', '▁제', '정', '한', '▁법', '이었다', '[EOS]', '[PAD]', '[PAD]', '[PAD]', '[PAD]', '[PAD]', '[PAD]', '[PAD]', '[PAD]', '[PAD]', '[PAD]']\n",
            "['[SOS]', '▁물론', '▁당연히', '도', '▁그러', '한', '▁전', '례', '가', '▁있었', '기에', '▁반', '란', '을', '진', '압', '하고', '부', '랴', '▁부', '랴', '▁제', '정', '한', '▁법', '이었다', '.', '[EOS]', '[PAD]', '[PAD]', '[PAD]', '[PAD]', '[PAD]', '[PAD]', '[PAD]', '[PAD]', '[PAD]', '[PAD]', '[PAD]', '[PAD]', '[PAD]', '[PAD]', '[PAD]', '[PAD]', '[PAD]', '[PAD]', '[PAD]', '[PAD]', '[PAD]', '[PAD]', '[PAD]', '[PAD]', '[PAD]', '[PAD]', '[PAD]', '[PAD]', '[PAD]', '[PAD]', '[PAD]', '[PAD]', '[PAD]', '[PAD]', '[PAD]', '[PAD]', '[PAD]', '[PAD]', '[PAD]', '[PAD]', '[PAD]', '[PAD]', '[PAD]', '[PAD]', '[PAD]', '[PAD]', '[PAD]', '[PAD]', '[PAD]', '[PAD]', '[PAD]', '[PAD]', '[PAD]', '[PAD]', '[PAD]', '[PAD]', '[PAD]', '[PAD]', '[PAD]', '[PAD]', '[PAD]', '[PAD]']\n",
            "['[SOS]', '▁귀', '족', '이', '▁불만을', '▁그', '나', '마', '제', '한', '적', '이나', '마', '사', '병', '을', '▁안', '도', '의', '▁쉬', '었다', '[EOS]', '[PAD]', '[PAD]', '[PAD]', '[PAD]', '[PAD]', '[PAD]', '[PAD]', '[PAD]']\n",
            "['[SOS]', '▁대다수', '의', '▁귀', '족', '이', '▁이에', '▁불만을', '▁', '가', '졌지만', ',', '▁당시', '상황', '이', '반', '대', '▁의견을', '▁내', '면', '▁역', '적으로', '▁몰', '릴', '▁판', '이라', '▁감', '히', '▁반대', '를', '▁못하고', '▁그', '나', '마', '제', '한', '적', '이나', '마', '사', '병', '을', '▁키', '울', '▁수', '▁있다는', '▁것에', '▁내', '심', '▁안', '도', '의', '▁숨', '을', '▁쉬', '었다', '.', '[EOS]', '[PAD]', '[PAD]', '[PAD]', '[PAD]', '[PAD]', '[PAD]', '[PAD]', '[PAD]', '[PAD]', '[PAD]', '[PAD]', '[PAD]', '[PAD]', '[PAD]', '[PAD]', '[PAD]', '[PAD]', '[PAD]', '[PAD]', '[PAD]', '[PAD]', '[PAD]', '[PAD]', '[PAD]', '[PAD]', '[PAD]', '[PAD]', '[PAD]', '[PAD]', '[PAD]', '[PAD]', '[PAD]']\n",
            "['[SOS]', '▁사', '병', '이', '없', '다면', '황', '제', '의', '▁권력', '이', '▁너무', '▁커', '져', '▁귀', '족', '의', '[EOS]', '[PAD]', '[PAD]', '[PAD]', '[PAD]', '[PAD]', '[PAD]', '[PAD]', '[PAD]', '[PAD]', '[PAD]', '[PAD]', '[PAD]']\n",
            "['[SOS]', '▁만약', ',', '▁사', '병', '이', '없', '다면', '황', '제', '의', '▁권력', '이', '▁너무', '▁커', '져', '▁결과', '적으로', '▁귀', '족', '의', '▁입지', '가', '▁작', '아', '▁지', '게', '▁', '되기', '때', '문', '이다', '.', '[EOS]', '[PAD]', '[PAD]', '[PAD]', '[PAD]', '[PAD]', '[PAD]', '[PAD]', '[PAD]', '[PAD]', '[PAD]', '[PAD]', '[PAD]', '[PAD]', '[PAD]', '[PAD]', '[PAD]', '[PAD]', '[PAD]', '[PAD]', '[PAD]', '[PAD]', '[PAD]', '[PAD]', '[PAD]', '[PAD]', '[PAD]', '[PAD]', '[PAD]', '[PAD]', '[PAD]', '[PAD]', '[PAD]', '[PAD]', '[PAD]', '[PAD]', '[PAD]', '[PAD]', '[PAD]', '[PAD]', '[PAD]', '[PAD]', '[PAD]', '[PAD]', '[PAD]', '[PAD]', '[PAD]', '[PAD]', '[PAD]', '[PAD]', '[PAD]', '[PAD]', '[PAD]', '[PAD]', '[PAD]', '[PAD]', '[PAD]']\n",
            "['[SOS]', '▁높아', '야', '▁용', '병', '이나', '▁천', '금을', '주', '고', '▁귀', '족', '들에게', '▁유', '행', '하게', '[EOS]', '[PAD]', '[PAD]', '[PAD]', '[PAD]', '[PAD]', '[PAD]', '[PAD]', '[PAD]', '[PAD]', '[PAD]', '[PAD]', '[PAD]', '[PAD]']\n",
            "['[SOS]', '▁그래서', '▁양', '이', '▁아니면', '▁질', '이라도', '▁높아', '야', '▁한다', '며', '▁용', '병', '이나', '▁자유', '기사', '중', '실', '력', '자', '면', '▁천', '금을', '주', '고', '▁휘', '하', '에', '▁두', '려는', '게', '▁귀', '족', '들에게', '▁유', '행', '하게', '▁', '되었다', '.', '[EOS]', '[PAD]', '[PAD]', '[PAD]', '[PAD]', '[PAD]', '[PAD]', '[PAD]', '[PAD]', '[PAD]', '[PAD]', '[PAD]', '[PAD]', '[PAD]', '[PAD]', '[PAD]', '[PAD]', '[PAD]', '[PAD]', '[PAD]', '[PAD]', '[PAD]', '[PAD]', '[PAD]', '[PAD]', '[PAD]', '[PAD]', '[PAD]', '[PAD]', '[PAD]', '[PAD]', '[PAD]', '[PAD]', '[PAD]', '[PAD]', '[PAD]', '[PAD]', '[PAD]', '[PAD]', '[PAD]', '[PAD]', '[PAD]', '[PAD]', '[PAD]', '[PAD]', '[PAD]', '[PAD]', '[PAD]', '[PAD]', '[PAD]']\n",
            "['[SOS]', '▁평', '상', '시', '에는', '귀', '족', '간', '▁유', '흥', '을', '▁여', '타', '▁귀', '족', '을', '▁', '되기', '때', '문', '이다', '[EOS]', '[PAD]', '[PAD]', '[PAD]', '[PAD]', '[PAD]', '[PAD]', '[PAD]', '[PAD]']\n",
            "['[SOS]', '▁평', '상', '시', '에는', '귀', '족', '간', '▁화', '합', '에서', '대', '련', '을', '▁통해', '▁유', '흥', '을', '▁주고', ',', '▁유사', '시', '에는', '▁여', '타', '▁귀', '족', '을', '▁누', '를', '▁수', '▁있는', '수', '단', '이', '▁', '되기', '때', '문', '이다', '.', '[EOS]', '[PAD]', '[PAD]', '[PAD]', '[PAD]', '[PAD]', '[PAD]', '[PAD]', '[PAD]', '[PAD]', '[PAD]', '[PAD]', '[PAD]', '[PAD]', '[PAD]', '[PAD]', '[PAD]', '[PAD]', '[PAD]', '[PAD]', '[PAD]', '[PAD]', '[PAD]', '[PAD]', '[PAD]', '[PAD]', '[PAD]', '[PAD]', '[PAD]', '[PAD]', '[PAD]', '[PAD]', '[PAD]', '[PAD]', '[PAD]', '[PAD]', '[PAD]', '[PAD]', '[PAD]', '[PAD]', '[PAD]', '[PAD]', '[PAD]', '[PAD]', '[PAD]', '[PAD]', '[PAD]', '[PAD]', '[PAD]']\n",
            "['[SOS]', '▁군', '대가', '▁휴', '노', '이', '군의', '침', '략', '을', '▁막', '고', '▁강력한', '▁군', '이라고', '는', '[EOS]', '[PAD]', '[PAD]', '[PAD]', '[PAD]', '[PAD]', '[PAD]', '[PAD]', '[PAD]', '[PAD]', '[PAD]', '[PAD]', '[PAD]', '[PAD]']\n",
            "['[SOS]', '▁이', '▁군', '대가', '▁주로', '▁휴', '노', '이', '군의', '침', '략', '을', '▁막', '고', '▁있는데', ',', '▁그리', '▁강력한', '▁군', '이라고', '는', '▁볼', '▁수', '▁없었다', '.', '[EOS]', '[PAD]', '[PAD]', '[PAD]', '[PAD]', '[PAD]', '[PAD]', '[PAD]', '[PAD]', '[PAD]', '[PAD]', '[PAD]', '[PAD]', '[PAD]', '[PAD]', '[PAD]', '[PAD]', '[PAD]', '[PAD]', '[PAD]', '[PAD]', '[PAD]', '[PAD]', '[PAD]', '[PAD]', '[PAD]', '[PAD]', '[PAD]', '[PAD]', '[PAD]', '[PAD]', '[PAD]', '[PAD]', '[PAD]', '[PAD]', '[PAD]', '[PAD]', '[PAD]', '[PAD]', '[PAD]', '[PAD]', '[PAD]', '[PAD]', '[PAD]', '[PAD]', '[PAD]', '[PAD]', '[PAD]', '[PAD]', '[PAD]', '[PAD]', '[PAD]', '[PAD]', '[PAD]', '[PAD]', '[PAD]', '[PAD]', '[PAD]', '[PAD]', '[PAD]', '[PAD]', '[PAD]', '[PAD]', '[PAD]', '[PAD]']\n",
            "['[SOS]', '▁휴', '노', '이', '군', '이', '침', '락', '하면', '▁침', '략', '하', '므', '로', '▁', '보다는', '성', '곽', '을', '방', '패', '삼', '아', '▁지원', '군', '이', '▁방', '어', '에', '[EOS]']\n",
            "['[SOS]', '▁한번', '▁휴', '노', '이', '군', '이', '침', '락', '하면', '▁보통', '▁이', '만', '에서', '▁삼', '만', '의', '▁군', '이', '▁침', '략', '하', '므', '로', '▁적', '을', '▁섬', '멸', '하기', '▁', '보다는', '성', '곽', '을', '방', '패', '삼', '아', '▁지원', '군', '이', '▁올', '▁때', '▁', '까지', '▁방', '어', '에', '▁주력', '하는', '▁시간', '▁벌', '이', '▁구', '실', '을', '▁하는', '것', '이다', '.', '[EOS]', '[PAD]', '[PAD]', '[PAD]', '[PAD]', '[PAD]', '[PAD]', '[PAD]', '[PAD]', '[PAD]', '[PAD]', '[PAD]', '[PAD]', '[PAD]', '[PAD]', '[PAD]', '[PAD]', '[PAD]', '[PAD]', '[PAD]', '[PAD]', '[PAD]', '[PAD]', '[PAD]', '[PAD]', '[PAD]', '[PAD]', '[PAD]', '[PAD]', '[PAD]']\n",
            "['[SOS]', '▁동', '쪽', '의', '▁사', '막', '▁', '가', '을', '철', '▁', '몬', '스터', '▁없었다', '[EOS]', '[PAD]', '[PAD]', '[PAD]', '[PAD]', '[PAD]', '[PAD]', '[PAD]', '[PAD]', '[PAD]', '[PAD]', '[PAD]', '[PAD]', '[PAD]', '[PAD]', '[PAD]']\n",
            "['[SOS]', '▁이', '러', '다', '▁보니', '▁동', '쪽', '의', '▁사', '막', '▁부족', '의', '▁', '가', '을', '철', '▁노', '략', '이나', '▁북', '쪽', '의', '▁', '몬', '스터', '▁침', '입', '에는', '신', '경', '을', '쓸', '▁여', '력이', '▁없었다', '.', '[EOS]', '[PAD]', '[PAD]', '[PAD]', '[PAD]', '[PAD]', '[PAD]', '[PAD]', '[PAD]', '[PAD]', '[PAD]', '[PAD]', '[PAD]', '[PAD]', '[PAD]', '[PAD]', '[PAD]', '[PAD]', '[PAD]', '[PAD]', '[PAD]', '[PAD]', '[PAD]', '[PAD]', '[PAD]', '[PAD]', '[PAD]', '[PAD]', '[PAD]', '[PAD]', '[PAD]', '[PAD]', '[PAD]', '[PAD]', '[PAD]', '[PAD]', '[PAD]', '[PAD]', '[PAD]', '[PAD]', '[PAD]', '[PAD]', '[PAD]', '[PAD]', '[PAD]', '[PAD]', '[PAD]', '[PAD]', '[PAD]', '[PAD]', '[PAD]', '[PAD]', '[PAD]', '[PAD]']\n",
            "['[SOS]', '▁다', '해', '▁사', '병', '을', '▁키우', '고', '가', '을', '이', '면', '용', '병', '을', '▁대거', '▁고용', '하', '였다', '[EOS]', '[PAD]', '[PAD]', '[PAD]', '[PAD]', '[PAD]', '[PAD]', '[PAD]', '[PAD]', '[PAD]', '[PAD]']\n",
            "['[SOS]', '▁그래서', '▁', '틸', '라', '크', '▁공', '작', '은', '▁사', '력을', '▁다', '해', '▁사', '병', '을', '▁키우', '고', '가', '을', '이', '면', '용', '병', '을', '▁대거', '▁고용', '하', '였다', '.', '[EOS]', '[PAD]', '[PAD]', '[PAD]', '[PAD]', '[PAD]', '[PAD]', '[PAD]', '[PAD]', '[PAD]', '[PAD]', '[PAD]', '[PAD]', '[PAD]', '[PAD]', '[PAD]', '[PAD]', '[PAD]', '[PAD]', '[PAD]', '[PAD]', '[PAD]', '[PAD]', '[PAD]', '[PAD]', '[PAD]', '[PAD]', '[PAD]', '[PAD]', '[PAD]', '[PAD]', '[PAD]', '[PAD]', '[PAD]', '[PAD]', '[PAD]', '[PAD]', '[PAD]', '[PAD]', '[PAD]', '[PAD]', '[PAD]', '[PAD]', '[PAD]', '[PAD]', '[PAD]', '[PAD]', '[PAD]', '[PAD]', '[PAD]', '[PAD]', '[PAD]', '[PAD]', '[PAD]', '[PAD]', '[PAD]', '[PAD]', '[PAD]', '[PAD]', '[PAD]']\n",
            "['[SOS]', '▁세금', '을', '▁군', '에', '▁한계', '가', '3', '▁0', '00', '명의', '사', '병', '이', '▁고', '작', '이었다', '[EOS]', '[PAD]', '[PAD]', '[PAD]', '[PAD]', '[PAD]', '[PAD]', '[PAD]', '[PAD]', '[PAD]', '[PAD]', '[PAD]', '[PAD]']\n",
            "['[SOS]', '▁공', '작', '령', '에서', '▁나오는', '▁거의', '▁모든', '▁세금', '을', '▁군', '에', '▁쏟아', '▁부', '어', '도', '▁그', '▁최대', '▁한계', '가', '3', ',', '0', '00', '명의', '사', '병', '이', '▁고', '작', '이었다', '.', '[EOS]', '[PAD]', '[PAD]', '[PAD]', '[PAD]', '[PAD]', '[PAD]', '[PAD]', '[PAD]', '[PAD]', '[PAD]', '[PAD]', '[PAD]', '[PAD]', '[PAD]', '[PAD]', '[PAD]', '[PAD]', '[PAD]', '[PAD]', '[PAD]', '[PAD]', '[PAD]', '[PAD]', '[PAD]', '[PAD]', '[PAD]', '[PAD]', '[PAD]', '[PAD]', '[PAD]', '[PAD]', '[PAD]', '[PAD]', '[PAD]', '[PAD]', '[PAD]', '[PAD]', '[PAD]', '[PAD]', '[PAD]', '[PAD]', '[PAD]', '[PAD]', '[PAD]', '[PAD]', '[PAD]', '[PAD]', '[PAD]', '[PAD]', '[PAD]', '[PAD]', '[PAD]', '[PAD]', '[PAD]', '[PAD]', '[PAD]', '[PAD]']\n",
            "['[SOS]', '▁제', '국', '군', '이', '▁필요', '해서', '▁귀', '족', '이', '▁제', '국', '군의', '모', '든', '▁필요', '물', '자와', '[EOS]', '[PAD]', '[PAD]', '[PAD]', '[PAD]', '[PAD]', '[PAD]', '[PAD]', '[PAD]', '[PAD]', '[PAD]', '[PAD]']\n",
            "['[SOS]', '▁제', '국', '군', '이', '▁필요', '해서', '▁요청', '을', '▁하면', '▁그', '▁귀', '족', '이', '▁제', '국', '군의', '모', '든', '▁필요', '물', '자와', '▁비용', '을', '▁대', '야', '▁했다', '.', '[EOS]', '[PAD]', '[PAD]', '[PAD]', '[PAD]', '[PAD]', '[PAD]', '[PAD]', '[PAD]', '[PAD]', '[PAD]', '[PAD]', '[PAD]', '[PAD]', '[PAD]', '[PAD]', '[PAD]', '[PAD]', '[PAD]', '[PAD]', '[PAD]', '[PAD]', '[PAD]', '[PAD]', '[PAD]', '[PAD]', '[PAD]', '[PAD]', '[PAD]', '[PAD]', '[PAD]', '[PAD]', '[PAD]', '[PAD]', '[PAD]', '[PAD]', '[PAD]', '[PAD]', '[PAD]', '[PAD]', '[PAD]', '[PAD]', '[PAD]', '[PAD]', '[PAD]', '[PAD]', '[PAD]', '[PAD]', '[PAD]', '[PAD]', '[PAD]', '[PAD]', '[PAD]', '[PAD]', '[PAD]', '[PAD]', '[PAD]', '[PAD]', '[PAD]', '[PAD]', '[PAD]', '[PAD]']\n",
            "['[SOS]', '▁국방', '의', '▁황', '실', '의', '▁차', '출', '되었', '지만', '제', '국', '의', '입', '장에서', '▁', '틸', '라', '크', '▁영', '지는', '[EOS]', '[PAD]', '[PAD]', '[PAD]', '[PAD]', '[PAD]', '[PAD]', '[PAD]', '[PAD]']\n",
            "['[SOS]', '▁국방', '의', '▁경우', '는', '▁황', '실', '의', '▁제', '정', '에서', '▁차', '출', '되었', '지만', '제', '국', '의', '입', '장에서', '▁보', '자', '면', '▁', '틸', '라', '크', '▁영', '지는', '▁있어', '도', '▁그', '만', '▁없어', '도', '▁그', '만', '이었다', '.', '[EOS]', '[PAD]', '[PAD]', '[PAD]', '[PAD]', '[PAD]', '[PAD]', '[PAD]', '[PAD]', '[PAD]', '[PAD]', '[PAD]', '[PAD]', '[PAD]', '[PAD]', '[PAD]', '[PAD]', '[PAD]', '[PAD]', '[PAD]', '[PAD]', '[PAD]', '[PAD]', '[PAD]', '[PAD]', '[PAD]', '[PAD]', '[PAD]', '[PAD]', '[PAD]', '[PAD]', '[PAD]', '[PAD]', '[PAD]', '[PAD]', '[PAD]', '[PAD]', '[PAD]', '[PAD]', '[PAD]', '[PAD]', '[PAD]', '[PAD]', '[PAD]', '[PAD]', '[PAD]', '[PAD]', '[PAD]', '[PAD]', '[PAD]', '[PAD]']\n",
            "['[SOS]', '▁휴', '노', '이', '국', '은', '초', '원의', '▁패', '자', '라', '지만', '▁대다수', '가', '▁유', '목', '을', '▁않았다', '[EOS]', '[PAD]', '[PAD]', '[PAD]', '[PAD]', '[PAD]', '[PAD]', '[PAD]', '[PAD]', '[PAD]', '[PAD]', '[PAD]']\n",
            "['[SOS]', '▁휴', '노', '이', '국', '은', '초', '원의', '▁패', '자', '라', '지만', '▁국민', '▁대다수', '가', '▁유', '목', '을', '▁하', '므', '로', '▁그', '▁인구', '수가', '▁많지', '▁않았다', '.', '[EOS]', '[PAD]', '[PAD]', '[PAD]', '[PAD]', '[PAD]', '[PAD]', '[PAD]', '[PAD]', '[PAD]', '[PAD]', '[PAD]', '[PAD]', '[PAD]', '[PAD]', '[PAD]', '[PAD]', '[PAD]', '[PAD]', '[PAD]', '[PAD]', '[PAD]', '[PAD]', '[PAD]', '[PAD]', '[PAD]', '[PAD]', '[PAD]', '[PAD]', '[PAD]', '[PAD]', '[PAD]', '[PAD]', '[PAD]', '[PAD]', '[PAD]', '[PAD]', '[PAD]', '[PAD]', '[PAD]', '[PAD]', '[PAD]', '[PAD]', '[PAD]', '[PAD]', '[PAD]', '[PAD]', '[PAD]', '[PAD]', '[PAD]', '[PAD]', '[PAD]', '[PAD]', '[PAD]', '[PAD]', '[PAD]', '[PAD]', '[PAD]', '[PAD]', '[PAD]', '[PAD]', '[PAD]', '[PAD]']\n",
            "['[SOS]', '▁유', '목', '민', '이라', '▁군', '대를', '▁5', '만', '이', '▁', '잃', '더라도', '▁자', '렌', '성', '에서', '충', '분', '히', '방', '어', '를', '[EOS]', '[PAD]', '[PAD]', '[PAD]', '[PAD]', '[PAD]', '[PAD]']\n",
            "['[SOS]', '▁전체', '인', '구', '수를', '▁정확히', '는', '▁모르', '지만', '▁대', '략', '▁200', '만', '▁정도로', '▁추산', '되는', '데', '▁유', '목', '민', '이라', '▁여러', '지역', '을', '떠', '돌', '아', '▁다니', '므', '로', '▁군', '대를', '▁모아', '봐야', '▁기', '껏', '▁5', '만', '이', '▁한계', '라는', '▁것이', '▁제', '국', '의', '생', '각', '이', '고', ',', '이', '정', '도', '면', '▁', '틸', '라', '크', '▁영', '지를', '▁', '잃', '더라도', '▁드', '베', '리아', '▁산', '맥', '을', '▁방', '패', '삼', '아', '▁자', '렌', '성', '에서', '충', '분', '히', '방', '어', '를', '▁할', '▁수', '▁있다고', '▁보는', '▁것이다', '.', '[EOS]']\n",
            "['[SOS]', '▁영', '지는', '▁자원', '이나', '▁산', '물', '이', '없', '고', '▁곡', '물', '이', '▁아니었다', '[EOS]', '[PAD]', '[PAD]', '[PAD]', '[PAD]', '[PAD]', '[PAD]', '[PAD]', '[PAD]', '[PAD]', '[PAD]', '[PAD]', '[PAD]', '[PAD]', '[PAD]', '[PAD]']\n",
            "['[SOS]', '▁', '틸', '라', '크', '▁영', '지는', '▁특별한', '▁자원', '이나', '▁산', '물', '이', '없', '고', ',', '그', '렇', '다', '고', '▁곡', '물', '이', '▁많이', '▁생산', '되는', '▁것도', '▁아니었다', '.', '[EOS]', '[PAD]', '[PAD]', '[PAD]', '[PAD]', '[PAD]', '[PAD]', '[PAD]', '[PAD]', '[PAD]', '[PAD]', '[PAD]', '[PAD]', '[PAD]', '[PAD]', '[PAD]', '[PAD]', '[PAD]', '[PAD]', '[PAD]', '[PAD]', '[PAD]', '[PAD]', '[PAD]', '[PAD]', '[PAD]', '[PAD]', '[PAD]', '[PAD]', '[PAD]', '[PAD]', '[PAD]', '[PAD]', '[PAD]', '[PAD]', '[PAD]', '[PAD]', '[PAD]', '[PAD]', '[PAD]', '[PAD]', '[PAD]', '[PAD]', '[PAD]', '[PAD]', '[PAD]', '[PAD]', '[PAD]', '[PAD]', '[PAD]', '[PAD]', '[PAD]', '[PAD]', '[PAD]', '[PAD]', '[PAD]', '[PAD]', '[PAD]', '[PAD]', '[PAD]', '[PAD]']\n",
            "['[SOS]', '▁곡', '물을', '▁기', '름', '진', '땅', '은', '많', '았', '으나', '▁', '몬', '스터', '와', '▁침', '략', '이', '▁무', '서', '워', '[EOS]', '[PAD]', '[PAD]', '[PAD]', '[PAD]', '[PAD]', '[PAD]', '[PAD]', '[PAD]']\n",
            "['[SOS]', '▁물론', '▁곡', '물을', '▁생산', '할', '▁기', '름', '진', '땅', '은', '많', '았', '으나', '▁', '몬', '스터', '와', '▁휴', '노', '이', '▁군', '의', '▁침', '략', '이', '▁무', '서', '워', '▁개', '간', '을', '▁못하고', '▁있는', '▁것이다', '.', '[EOS]', '[PAD]', '[PAD]', '[PAD]', '[PAD]', '[PAD]', '[PAD]', '[PAD]', '[PAD]', '[PAD]', '[PAD]', '[PAD]', '[PAD]', '[PAD]', '[PAD]', '[PAD]', '[PAD]', '[PAD]', '[PAD]', '[PAD]', '[PAD]', '[PAD]', '[PAD]', '[PAD]', '[PAD]', '[PAD]', '[PAD]', '[PAD]', '[PAD]', '[PAD]', '[PAD]', '[PAD]', '[PAD]', '[PAD]', '[PAD]', '[PAD]', '[PAD]', '[PAD]', '[PAD]', '[PAD]', '[PAD]', '[PAD]', '[PAD]', '[PAD]', '[PAD]', '[PAD]', '[PAD]', '[PAD]', '[PAD]', '[PAD]', '[PAD]', '[PAD]', '[PAD]', '[PAD]']\n",
            "['[SOS]', '▁상황이다', '▁주', '둔', '하', '하고', '▁2', '개', '▁군', '단', '의', '▁물', '자와', '비용', '을', '대', '부', '분', '[EOS]', '[PAD]', '[PAD]', '[PAD]', '[PAD]', '[PAD]', '[PAD]', '[PAD]', '[PAD]', '[PAD]', '[PAD]', '[PAD]']\n",
            "['[SOS]', '▁이런', '▁상황이다', '▁보니', '▁', '틸', '라', '크', '▁공', '작', '쪽', '에서', '▁주', '둔', '하', '하고', '▁있는', '▁2', '개', '▁군', '단', '의', '▁물', '자와', '비용', '을', '대', '부', '분', '▁내', '게', '▁된', '▁것이다', '.', '[EOS]', '[PAD]', '[PAD]', '[PAD]', '[PAD]', '[PAD]', '[PAD]', '[PAD]', '[PAD]', '[PAD]', '[PAD]', '[PAD]', '[PAD]', '[PAD]', '[PAD]', '[PAD]', '[PAD]', '[PAD]', '[PAD]', '[PAD]', '[PAD]', '[PAD]', '[PAD]', '[PAD]', '[PAD]', '[PAD]', '[PAD]', '[PAD]', '[PAD]', '[PAD]', '[PAD]', '[PAD]', '[PAD]', '[PAD]', '[PAD]', '[PAD]', '[PAD]', '[PAD]', '[PAD]', '[PAD]', '[PAD]', '[PAD]', '[PAD]', '[PAD]', '[PAD]', '[PAD]', '[PAD]', '[PAD]', '[PAD]', '[PAD]', '[PAD]', '[PAD]', '[PAD]', '[PAD]', '[PAD]', '[PAD]']\n",
            "['[SOS]', '▁역할을', '▁비교적', '잘', '해', '주', '니', '▁돈', '이', '▁많이', '▁것이다', '[EOS]', '[PAD]', '[PAD]', '[PAD]', '[PAD]', '[PAD]', '[PAD]', '[PAD]', '[PAD]', '[PAD]', '[PAD]', '[PAD]', '[PAD]', '[PAD]', '[PAD]', '[PAD]', '[PAD]', '[PAD]', '[PAD]']\n",
            "['[SOS]', '▁그', '나', '마', '▁그', '▁역할을', '▁비교적', '잘', '해', '주', '니', '▁돈', '이', '▁많이', '▁들어', '도', '▁어', '쩔', '▁수', '▁없이', '▁이제', '까지', '▁이어', '온', '▁것이다', '.', '[EOS]', '[PAD]', '[PAD]', '[PAD]', '[PAD]', '[PAD]', '[PAD]', '[PAD]', '[PAD]', '[PAD]', '[PAD]', '[PAD]', '[PAD]', '[PAD]', '[PAD]', '[PAD]', '[PAD]', '[PAD]', '[PAD]', '[PAD]', '[PAD]', '[PAD]', '[PAD]', '[PAD]', '[PAD]', '[PAD]', '[PAD]', '[PAD]', '[PAD]', '[PAD]', '[PAD]', '[PAD]', '[PAD]', '[PAD]', '[PAD]', '[PAD]', '[PAD]', '[PAD]', '[PAD]', '[PAD]', '[PAD]', '[PAD]', '[PAD]', '[PAD]', '[PAD]', '[PAD]', '[PAD]', '[PAD]', '[PAD]', '[PAD]', '[PAD]', '[PAD]', '[PAD]', '[PAD]', '[PAD]', '[PAD]', '[PAD]', '[PAD]', '[PAD]', '[PAD]', '[PAD]', '[PAD]', '[PAD]', '[PAD]']\n",
            "['[SOS]', '▁포', '러스', '▁전쟁', '이', '▁전쟁', '인데', '▁전쟁', '이었던', '▁것이', '가', '나', '트', '국', '이', '[EOS]', '[PAD]', '[PAD]', '[PAD]', '[PAD]', '[PAD]', '[PAD]', '[PAD]', '[PAD]', '[PAD]', '[PAD]', '[PAD]', '[PAD]', '[PAD]', '[PAD]']\n",
            "['[SOS]', '▁이에', '▁우리', '▁포', '러스', '▁제', '국', '이', '응', '하지', '않', '아', '▁일어난', '▁전쟁', '이', '▁농', '노', '▁전쟁', '인데', '▁초반', '엔', '▁팽팽', '한', '▁전쟁', '이었던', '▁것이', '가', '나', '트', '국', '이', '▁남부', '연', '방', '국', '과', '▁손을', '▁잡', '는', '▁바람', '에', '▁급격', '히', '▁기울', '어', '▁', '가', '게', '▁되', '었습니다', '.', '[EOS]', '[PAD]', '[PAD]', '[PAD]', '[PAD]', '[PAD]', '[PAD]', '[PAD]', '[PAD]', '[PAD]', '[PAD]', '[PAD]', '[PAD]', '[PAD]', '[PAD]', '[PAD]', '[PAD]', '[PAD]', '[PAD]', '[PAD]', '[PAD]', '[PAD]', '[PAD]', '[PAD]', '[PAD]', '[PAD]', '[PAD]', '[PAD]', '[PAD]', '[PAD]', '[PAD]', '[PAD]', '[PAD]', '[PAD]', '[PAD]', '[PAD]', '[PAD]', '[PAD]', '[PAD]']\n",
            "['[SOS]', '▁구', '한', '것', '이', '▁공', '작', '의', '▁아버지', '가', '▁돌', '프', '레', '앙', '▁', '샤', '틀', '리', '에', '대', '공', '이', '십', '니다', '[EOS]', '[PAD]', '[PAD]', '[PAD]', '[PAD]', '[PAD]']\n",
            "['[SOS]', '▁이', '때', '이', '▁위기', '를', '▁구', '한', '것', '이', '▁현', '▁', '틸', '라', '크', '▁공', '작', '의', '▁아버지', '가', '▁되는', '▁돌', '프', '레', '앙', '▁', '샤', '틀', '리', '에', '대', '공', '이', '십', '니다', '.', '[EOS]', '[PAD]', '[PAD]', '[PAD]', '[PAD]', '[PAD]', '[PAD]', '[PAD]', '[PAD]', '[PAD]', '[PAD]', '[PAD]', '[PAD]', '[PAD]', '[PAD]', '[PAD]', '[PAD]', '[PAD]', '[PAD]', '[PAD]', '[PAD]', '[PAD]', '[PAD]', '[PAD]', '[PAD]', '[PAD]', '[PAD]', '[PAD]', '[PAD]', '[PAD]', '[PAD]', '[PAD]', '[PAD]', '[PAD]', '[PAD]', '[PAD]', '[PAD]', '[PAD]', '[PAD]', '[PAD]', '[PAD]', '[PAD]', '[PAD]', '[PAD]', '[PAD]', '[PAD]', '[PAD]', '[PAD]', '[PAD]', '[PAD]', '[PAD]', '[PAD]', '[PAD]', '[PAD]']\n",
            "['[SOS]', '▁끝나', '고', '▁한', '해서', '▁황', '실', '의', '▁', '샤', '틀', '리', '에', '를', '▁사', '사', '하', '셨', '기', '때', '문', '입니다', '[EOS]', '[PAD]', '[PAD]', '[PAD]', '[PAD]', '[PAD]', '[PAD]', '[PAD]']\n",
            "['[SOS]', '▁그', '건', '▁전쟁', '이', '▁끝나', '고', '▁그', '분', '▁일대', '에', '▁한', '해서', '▁황', '실', '의', '▁성', '인', '▁', '샤', '틀', '리', '에', '를', '▁사', '사', '하', '셨', '기', '때', '문', '입니다', '.', '[EOS]', '[PAD]', '[PAD]', '[PAD]', '[PAD]', '[PAD]', '[PAD]', '[PAD]', '[PAD]', '[PAD]', '[PAD]', '[PAD]', '[PAD]', '[PAD]', '[PAD]', '[PAD]', '[PAD]', '[PAD]', '[PAD]', '[PAD]', '[PAD]', '[PAD]', '[PAD]', '[PAD]', '[PAD]', '[PAD]', '[PAD]', '[PAD]', '[PAD]', '[PAD]', '[PAD]', '[PAD]', '[PAD]', '[PAD]', '[PAD]', '[PAD]', '[PAD]', '[PAD]', '[PAD]', '[PAD]', '[PAD]', '[PAD]', '[PAD]', '[PAD]', '[PAD]', '[PAD]', '[PAD]', '[PAD]', '[PAD]', '[PAD]', '[PAD]', '[PAD]', '[PAD]', '[PAD]', '[PAD]', '[PAD]', '[PAD]']\n",
            "['[SOS]', '▁전쟁', '에서', '▁나', '셨', '다면', '▁전투', '에서', '▁돌아가', '시', '는', '▁황', '실', '의', '[EOS]', '[PAD]', '[PAD]', '[PAD]', '[PAD]', '[PAD]', '[PAD]', '[PAD]', '[PAD]', '[PAD]', '[PAD]', '[PAD]', '[PAD]', '[PAD]', '[PAD]', '[PAD]']\n",
            "['[SOS]', '▁만약', '▁그', '▁전쟁', '에서', '▁그', '분', '이', '▁살아', '▁나', '셨', '다면', '▁모든', '▁이들이', '▁그', '분과', '틸', '라', '크', '공', '작', '가', '를', '▁기억', '할', '텐', '데', '▁마지막', '▁전투', '에서', '▁그', '만', '▁돌아가', '시', '는', '▁바람', '에', '▁그', '분', '이', '틸', '라', '크', '공', '작', '가', '가', '▁아니라', '▁황', '실', '의', '▁일', '원으로', '▁오', '해', '를', '▁', '하게', '된', '▁것입니다', '.', '[EOS]', '[PAD]', '[PAD]', '[PAD]', '[PAD]', '[PAD]', '[PAD]', '[PAD]', '[PAD]', '[PAD]', '[PAD]', '[PAD]', '[PAD]', '[PAD]', '[PAD]', '[PAD]', '[PAD]', '[PAD]', '[PAD]', '[PAD]', '[PAD]', '[PAD]', '[PAD]', '[PAD]', '[PAD]', '[PAD]', '[PAD]', '[PAD]', '[PAD]']\n",
            "['[SOS]', '▁명', '색', '이', '▁공', '작', '가', '니', '▁기회', '에', '▁진출', '하면', '▁어', '쩌', '나', '하는', '마음', '에서', '[EOS]', '[PAD]', '[PAD]', '[PAD]', '[PAD]', '[PAD]', '[PAD]', '[PAD]', '[PAD]', '[PAD]', '[PAD]', '[PAD]']\n",
            "['[SOS]', '▁', '그래', '도', '▁명', '색', '이', '▁공', '작', '가', '니', '▁이', '▁기회', '에', '▁정', '계', '에', '▁진출', '하면', '▁어', '쩌', '나', '하는', '마음', '에서', '▁그런', '겁', '니다', '.', '[EOS]', '[PAD]', '[PAD]', '[PAD]', '[PAD]', '[PAD]', '[PAD]', '[PAD]', '[PAD]', '[PAD]', '[PAD]', '[PAD]', '[PAD]', '[PAD]', '[PAD]', '[PAD]', '[PAD]', '[PAD]', '[PAD]', '[PAD]', '[PAD]', '[PAD]', '[PAD]', '[PAD]', '[PAD]', '[PAD]', '[PAD]', '[PAD]', '[PAD]', '[PAD]', '[PAD]', '[PAD]', '[PAD]', '[PAD]', '[PAD]', '[PAD]', '[PAD]', '[PAD]', '[PAD]', '[PAD]', '[PAD]', '[PAD]', '[PAD]', '[PAD]', '[PAD]', '[PAD]', '[PAD]', '[PAD]', '[PAD]', '[PAD]', '[PAD]', '[PAD]', '[PAD]', '[PAD]', '[PAD]', '[PAD]', '[PAD]', '[PAD]', '[PAD]', '[PAD]', '[PAD]']\n",
            "['[SOS]', '▁돌', '프', '레', '앙', '▁슬', '퍼', '한', '▁황', '제', '께', '선', '대', '공', '의', '장', '례', '식', '에서', '▁공', '작', '가', '와', '▁맺', '어', '주기', '로', '천명', '했습니다', '[EOS]']\n",
            "['[SOS]', '▁어', '쨌', '든', ',', '▁돌', '프', '레', '앙', '▁대', '공', '의', '▁죽음', '을', '▁슬', '퍼', '한', '▁선', '▁황', '제', '께', '선', '대', '공', '의', '장', '례', '식', '에서', '▁다음', '에', '▁태', '어', '나는', '▁아이', '를', '▁', '틸', '라', '크', '▁공', '작', '가', '와', '▁인연', '을', '▁맺', '어', '주기', '로', '천명', '했습니다', '.', '[EOS]', '[PAD]', '[PAD]', '[PAD]', '[PAD]', '[PAD]', '[PAD]', '[PAD]', '[PAD]', '[PAD]', '[PAD]', '[PAD]', '[PAD]', '[PAD]', '[PAD]', '[PAD]', '[PAD]', '[PAD]', '[PAD]', '[PAD]', '[PAD]', '[PAD]', '[PAD]', '[PAD]', '[PAD]', '[PAD]', '[PAD]', '[PAD]', '[PAD]', '[PAD]', '[PAD]', '[PAD]', '[PAD]', '[PAD]', '[PAD]', '[PAD]', '[PAD]']\n",
            "['[SOS]', '▁선', '황', '제', '께서', '▁황', '후', '파', '에서', '▁이를', '들어', '공', '주', '님', '을', '▁공', '작', '가', '에', '▁시', '집', '을', '[EOS]', '[PAD]', '[PAD]', '[PAD]', '[PAD]', '[PAD]', '[PAD]', '[PAD]']\n",
            "['[SOS]', '▁그렇게', '▁세', '월', '이', '▁흘러', '▁선', '황', '제', '께서', '▁돌아가', '시', '고', '모', '든', '▁것이', '▁유', '야', '무', '야', '▁되는', '가', '▁싶었', '는데', ',', '▁어떻게', '▁알', '았', '는', '지', '▁황', '후', '파', '에서', '▁이를', '들어', '공', '주', '님', '을', '▁', '틸', '라', '크', '▁공', '작', '가', '에', '▁시', '집', '을', '▁보내', '야', '▁한다고', '▁주장', '하게', '▁', '되었', '답', '니다', '.', '[EOS]', '[PAD]', '[PAD]', '[PAD]', '[PAD]', '[PAD]', '[PAD]', '[PAD]', '[PAD]', '[PAD]', '[PAD]', '[PAD]', '[PAD]', '[PAD]', '[PAD]', '[PAD]', '[PAD]', '[PAD]', '[PAD]', '[PAD]', '[PAD]', '[PAD]', '[PAD]', '[PAD]', '[PAD]', '[PAD]', '[PAD]', '[PAD]', '[PAD]']\n",
            "['[SOS]', '▁황', '제', '께', '선', '선', '황', '에', '▁대단', '하', '므', '로', '▁그', '전쟁', '에', '참여', '했던', '노', '신', '들이', '▁증', '언', '해', '▁', '믿', '지', '[EOS]', '[PAD]', '[PAD]', '[PAD]']\n",
            "['[SOS]', '▁황', '제', '께', '선', '선', '황', '에', '▁대한', '▁효', '심', '이', '▁대단', '하', '므', '로', '▁자신이', '▁들어', '보', '지는', '▁못', '했지만', '▁그', '전쟁', '에', '참여', '했던', '노', '신', '들이', '▁이를', '▁증', '언', '해', '▁주', '었', '으니', '▁더', '▁이상', '▁', '믿', '지', '▁않을', '▁', '도', '리', '가', '▁없었던', '▁듯', '합니다', '.', '[EOS]', '[PAD]', '[PAD]', '[PAD]', '[PAD]', '[PAD]', '[PAD]', '[PAD]', '[PAD]', '[PAD]', '[PAD]', '[PAD]', '[PAD]', '[PAD]', '[PAD]', '[PAD]', '[PAD]', '[PAD]', '[PAD]', '[PAD]', '[PAD]', '[PAD]', '[PAD]', '[PAD]', '[PAD]', '[PAD]', '[PAD]', '[PAD]', '[PAD]', '[PAD]', '[PAD]', '[PAD]', '[PAD]', '[PAD]', '[PAD]', '[PAD]', '[PAD]', '[PAD]', '[PAD]']\n",
            "['[SOS]', '▁장', '례', '식', '에', '▁참여', '했', '더라', '면', '▁알', '수', '있', '었', '을', '▁무', '인', '들', '▁출신', '이라', '아', '쉽', '게', '되었', '습니다', '[EOS]', '[PAD]', '[PAD]', '[PAD]', '[PAD]', '[PAD]']\n",
            "['[SOS]', '▁우리', '쪽', '▁사람', '중', '▁한', '▁사람이', '라도', '▁그', '▁장', '례', '식', '에', '▁참여', '했', '더라', '면', '▁정확한', '▁사실을', '▁알', '수', '있', '었', '을', '▁', '텐', '데', ',', '▁불', '행', '히', '도', '▁우리', '쪽', '▁사람은', '▁대부분', '▁젊은', '▁무', '인', '들', '▁출신', '이라', '아', '쉽', '게', '되었', '습니다', '.', '[EOS]', '[PAD]', '[PAD]', '[PAD]', '[PAD]', '[PAD]', '[PAD]', '[PAD]', '[PAD]', '[PAD]', '[PAD]', '[PAD]', '[PAD]', '[PAD]', '[PAD]', '[PAD]', '[PAD]', '[PAD]', '[PAD]', '[PAD]', '[PAD]', '[PAD]', '[PAD]', '[PAD]', '[PAD]', '[PAD]', '[PAD]', '[PAD]', '[PAD]', '[PAD]', '[PAD]', '[PAD]', '[PAD]', '[PAD]', '[PAD]', '[PAD]', '[PAD]', '[PAD]', '[PAD]', '[PAD]', '[PAD]', '[PAD]']\n",
            "['[SOS]', '▁', '틸', '라', '크', '▁공', '작', '가', '에서', '▁마', '스터', '는', '▁네', '명으로', '▁', '틸', '라', '크', '공', '작', '은', '아', '닙', '니다', '[EOS]', '[PAD]', '[PAD]', '[PAD]', '[PAD]', '[PAD]']\n",
            "['[SOS]', '▁', '틸', '라', '크', '▁공', '작', '가', '에서', '▁배출', '한', '▁소', '드', '▁마', '스터', '는', '▁총', '▁네', '명으로', '▁현', '▁', '틸', '라', '크', '공', '작', '은', '아', '닙', '니다', '.', '[EOS]', '[PAD]', '[PAD]', '[PAD]', '[PAD]', '[PAD]', '[PAD]', '[PAD]', '[PAD]', '[PAD]', '[PAD]', '[PAD]', '[PAD]', '[PAD]', '[PAD]', '[PAD]', '[PAD]', '[PAD]', '[PAD]', '[PAD]', '[PAD]', '[PAD]', '[PAD]', '[PAD]', '[PAD]', '[PAD]', '[PAD]', '[PAD]', '[PAD]', '[PAD]', '[PAD]', '[PAD]', '[PAD]', '[PAD]', '[PAD]', '[PAD]', '[PAD]', '[PAD]', '[PAD]', '[PAD]', '[PAD]', '[PAD]', '[PAD]', '[PAD]', '[PAD]', '[PAD]', '[PAD]', '[PAD]', '[PAD]', '[PAD]', '[PAD]', '[PAD]', '[PAD]', '[PAD]', '[PAD]', '[PAD]', '[PAD]', '[PAD]', '[PAD]']\n",
            "['[SOS]', '▁제', '국', '의', '▁4', '대', '▁공', '작', '님', '▁대', '공', '▁네', '분', '이', '[EOS]', '[PAD]', '[PAD]', '[PAD]', '[PAD]', '[PAD]', '[PAD]', '[PAD]', '[PAD]', '[PAD]', '[PAD]', '[PAD]', '[PAD]', '[PAD]', '[PAD]', '[PAD]']\n",
            "['[SOS]', '▁포', '러스', '▁제', '국', '의', '▁독립', '전쟁', '▁당시', '▁4', '대', '▁무', '장', '중', '▁한', '명', '이었던', '라', '케', '다', '이', '몬', '님', '과', '그', '의', '▁아', '드', '님', '▁이', '셨', '던', '▁타', '리', '안', '▁', '틸', '라', '크', '▁공', '작', '님', ',', '▁그리고', '▁백', '년', '전에', '▁한', '분과', '돌', '프', '레', '앙', '▁대', '공', ',', '이', '렇', '게', '▁네', '분', '이', '▁전', '부', '입니다', '.', '[EOS]', '[PAD]', '[PAD]', '[PAD]', '[PAD]', '[PAD]', '[PAD]', '[PAD]', '[PAD]', '[PAD]', '[PAD]', '[PAD]', '[PAD]', '[PAD]', '[PAD]', '[PAD]', '[PAD]', '[PAD]', '[PAD]', '[PAD]', '[PAD]', '[PAD]', '[PAD]', '[PAD]']\n",
            "['[SOS]', '▁그리고', '현', '▁공', '작', '이', '▁마', '스터', '는', '▁익', '스', '퍼', '트', '최', '상', '급', '에', '▁대단', '하다는', '[EOS]', '[PAD]', '[PAD]', '[PAD]', '[PAD]', '[PAD]', '[PAD]', '[PAD]', '[PAD]', '[PAD]', '[PAD]']\n",
            "['[SOS]', '▁그리고', '현', '▁', '틸', '라', '크', '▁공', '작', '이', '▁비', '록', '▁마', '스터', '는', '▁아니', '더라도', '▁소', '드', '▁익', '스', '퍼', '트', '최', '상', '급', '에', '▁근', '접', '한', '▁것', '같', '다', '는', '▁소', '식', '이', '▁들', '리는', '▁것을', '▁보면', '▁대단', '하다는', '▁생각', '입니다', '.', '[EOS]', '[PAD]', '[PAD]', '[PAD]', '[PAD]', '[PAD]', '[PAD]', '[PAD]', '[PAD]', '[PAD]', '[PAD]', '[PAD]', '[PAD]', '[PAD]', '[PAD]', '[PAD]', '[PAD]', '[PAD]', '[PAD]', '[PAD]', '[PAD]', '[PAD]', '[PAD]', '[PAD]', '[PAD]', '[PAD]', '[PAD]', '[PAD]', '[PAD]', '[PAD]', '[PAD]', '[PAD]', '[PAD]', '[PAD]', '[PAD]', '[PAD]', '[PAD]', '[PAD]', '[PAD]', '[PAD]', '[PAD]', '[PAD]', '[PAD]', '[PAD]']\n",
            "['[SOS]', '▁큰', '도', '움', '이', '▁안', '되', '겠지만', '▁차', '후', '에', '라도', '▁도움을', '▁있을', '것', '입니다', '[EOS]', '[PAD]', '[PAD]', '[PAD]', '[PAD]', '[PAD]', '[PAD]', '[PAD]', '[PAD]', '[PAD]', '[PAD]', '[PAD]', '[PAD]', '[PAD]']\n",
            "['[SOS]', '▁지금은', '▁그리', '▁큰', '도', '움', '이', '▁안', '되', '겠지만', '▁차', '후', '에', '라도', '▁분명', '▁도움을', '▁받을', '▁수', '▁있을', '것', '입니다', '.', '[EOS]', '[PAD]', '[PAD]', '[PAD]', '[PAD]', '[PAD]', '[PAD]', '[PAD]', '[PAD]', '[PAD]', '[PAD]', '[PAD]', '[PAD]', '[PAD]', '[PAD]', '[PAD]', '[PAD]', '[PAD]', '[PAD]', '[PAD]', '[PAD]', '[PAD]', '[PAD]', '[PAD]', '[PAD]', '[PAD]', '[PAD]', '[PAD]', '[PAD]', '[PAD]', '[PAD]', '[PAD]', '[PAD]', '[PAD]', '[PAD]', '[PAD]', '[PAD]', '[PAD]', '[PAD]', '[PAD]', '[PAD]', '[PAD]', '[PAD]', '[PAD]', '[PAD]', '[PAD]', '[PAD]', '[PAD]', '[PAD]', '[PAD]', '[PAD]', '[PAD]', '[PAD]', '[PAD]', '[PAD]', '[PAD]', '[PAD]', '[PAD]', '[PAD]', '[PAD]', '[PAD]', '[PAD]', '[PAD]', '[PAD]', '[PAD]', '[PAD]', '[PAD]', '[PAD]']\n",
            "['[SOS]', '▁놀', '기', '▁좋아', '하고', '성', '인', '식을', '치', '르', '기', '▁술', '집', '에', '▁나', '들이', '하기', '를', '좋', '아', '해', '▁공부', '고', '검', '술', '이', '고', '[EOS]', '[PAD]', '[PAD]']\n",
            "['[SOS]', '▁그가', '▁수', '집', '한', '▁정보', '에', '▁', '의', '하면', '▁놀', '기', '▁좋아', '하고', '성', '인', '식을', '치', '르', '기', '▁전부터', '▁술', '집', '에', '▁다니', '고', '▁여자', '를', '▁줄', '줄', '이', '▁거', '느', '리', '고', '▁나', '들이', '하기', '를', '좋', '아', '해', ',', '▁공부', '고', '검', '술', '이', '고', '▁영', '▁아니', '올', '시', '다', '▁', '이란', '다', '.', '[EOS]', '[PAD]', '[PAD]', '[PAD]', '[PAD]', '[PAD]', '[PAD]', '[PAD]', '[PAD]', '[PAD]', '[PAD]', '[PAD]', '[PAD]', '[PAD]', '[PAD]', '[PAD]', '[PAD]', '[PAD]', '[PAD]', '[PAD]', '[PAD]', '[PAD]', '[PAD]', '[PAD]', '[PAD]', '[PAD]', '[PAD]', '[PAD]', '[PAD]', '[PAD]', '[PAD]', '[PAD]']\n",
            "['[SOS]', '▁작년', '▁성', '인', '식을', '▁호', '통', '도', '▁공', '작', '이', '요', '즘', '에는', '▁두', '발', '다', '들', '었다', '는', '[EOS]', '[PAD]', '[PAD]', '[PAD]', '[PAD]', '[PAD]', '[PAD]', '[PAD]', '[PAD]', '[PAD]']\n",
            "['[SOS]', '▁게다가', '▁작년', '▁성', '인', '식을', '▁치', '룬', '후', '부터', '는', '▁아예', '▁대', '놓고', '주', '색', '잡', '기를', '▁', '하니', ',', '▁처음', '엔', '▁타이', '르', '고', '▁호', '통', '도', '▁치', '던', '▁공', '작', '이', '요', '즘', '에는', '▁두', '손', '▁두', '발', '다', '들', '었다', '는', '▁것이다', '.', '[EOS]', '[PAD]', '[PAD]', '[PAD]', '[PAD]', '[PAD]', '[PAD]', '[PAD]', '[PAD]', '[PAD]', '[PAD]', '[PAD]', '[PAD]', '[PAD]', '[PAD]', '[PAD]', '[PAD]', '[PAD]', '[PAD]', '[PAD]', '[PAD]', '[PAD]', '[PAD]', '[PAD]', '[PAD]', '[PAD]', '[PAD]', '[PAD]', '[PAD]', '[PAD]', '[PAD]', '[PAD]', '[PAD]', '[PAD]', '[PAD]', '[PAD]', '[PAD]', '[PAD]', '[PAD]', '[PAD]', '[PAD]', '[PAD]', '[PAD]']\n",
            "['[SOS]', '▁아버지', '인', '▁공', '작', '은', '▁어느', '정', '도', '황', '태', '자의', '도', '움', '을', '▁위', '안을', '▁창', '밖', '을', '[EOS]', '[PAD]', '[PAD]', '[PAD]', '[PAD]', '[PAD]', '[PAD]', '[PAD]', '[PAD]', '[PAD]']\n",
            "['[SOS]', '▁', '그래', '도', '▁그의', '▁아버지', '인', '▁', '틸', '라', '크', '▁공', '작', '은', '▁어느', '정', '도', '황', '태', '자의', '도', '움', '을', '▁줄', '수', '▁있', '으', '리', '란', '▁생각', '에', '▁위', '안을', '▁삼', '으며', '▁다시', '▁창', '밖', '을', '▁바라', '▁보', '았다', '.', '[EOS]', '[PAD]', '[PAD]', '[PAD]', '[PAD]', '[PAD]', '[PAD]', '[PAD]', '[PAD]', '[PAD]', '[PAD]', '[PAD]', '[PAD]', '[PAD]', '[PAD]', '[PAD]', '[PAD]', '[PAD]', '[PAD]', '[PAD]', '[PAD]', '[PAD]', '[PAD]', '[PAD]', '[PAD]', '[PAD]', '[PAD]', '[PAD]', '[PAD]', '[PAD]', '[PAD]', '[PAD]', '[PAD]', '[PAD]', '[PAD]', '[PAD]', '[PAD]', '[PAD]', '[PAD]', '[PAD]', '[PAD]', '[PAD]', '[PAD]', '[PAD]', '[PAD]', '[PAD]', '[PAD]']\n",
            "['[SOS]', '▁아', '마', '지', '▁2', '50', 'm', '▁정도', '▁말을', '▁3', '인', '이', '있', '었다', '[EOS]', '[PAD]', '[PAD]', '[PAD]', '[PAD]', '[PAD]', '[PAD]', '[PAD]', '[PAD]', '[PAD]', '[PAD]', '[PAD]', '[PAD]', '[PAD]', '[PAD]', '[PAD]']\n",
            "['[SOS]', '▁성', '문', '에서', '▁1', '▁아', '마', '지', '(', '약', '▁2', '50', 'm', ')', '정', '도', '▁떨어진', '▁곳', '에는', '▁멋진', '▁말을', '▁탄', '▁3', '인', '이', '있', '었다', '.', '[EOS]', '[PAD]', '[PAD]', '[PAD]', '[PAD]', '[PAD]', '[PAD]', '[PAD]', '[PAD]', '[PAD]', '[PAD]', '[PAD]', '[PAD]', '[PAD]', '[PAD]', '[PAD]', '[PAD]', '[PAD]', '[PAD]', '[PAD]', '[PAD]', '[PAD]', '[PAD]', '[PAD]', '[PAD]', '[PAD]', '[PAD]', '[PAD]', '[PAD]', '[PAD]', '[PAD]', '[PAD]', '[PAD]', '[PAD]', '[PAD]', '[PAD]', '[PAD]', '[PAD]', '[PAD]', '[PAD]', '[PAD]', '[PAD]', '[PAD]', '[PAD]', '[PAD]', '[PAD]', '[PAD]', '[PAD]', '[PAD]', '[PAD]', '[PAD]', '[PAD]', '[PAD]', '[PAD]', '[PAD]', '[PAD]', '[PAD]', '[PAD]', '[PAD]', '[PAD]', '[PAD]', '[PAD]']\n",
            "['[SOS]', '▁장', '대한', '▁거', '대한', '▁바', '스타', '드', '▁주', '시', '하는', '▁위', '압', '감을', '[EOS]', '[PAD]', '[PAD]', '[PAD]', '[PAD]', '[PAD]', '[PAD]', '[PAD]', '[PAD]', '[PAD]', '[PAD]', '[PAD]', '[PAD]', '[PAD]', '[PAD]', '[PAD]']\n",
            "['[SOS]', '▁검', '은', '▁머리', '에', '히', '끗', '한', '▁백', '발', '이', '▁', '섞', '여', '▁있고', '▁장', '대한', '▁체', '구', '에', '▁거', '대한', '▁바', '스타', '드', '▁소', '드', '를', '▁등에', '메', '고', '부', '리', '부', '리', '한', '▁눈', '으로', '▁앞', '을', '▁주', '시', '하는', '▁모습', '은', '▁확실히', '▁위', '압', '감을', '▁주', '기에', '▁충분', '했다', '.', '[EOS]', '[PAD]', '[PAD]', '[PAD]', '[PAD]', '[PAD]', '[PAD]', '[PAD]', '[PAD]', '[PAD]', '[PAD]', '[PAD]', '[PAD]', '[PAD]', '[PAD]', '[PAD]', '[PAD]', '[PAD]', '[PAD]', '[PAD]', '[PAD]', '[PAD]', '[PAD]', '[PAD]', '[PAD]', '[PAD]', '[PAD]', '[PAD]', '[PAD]', '[PAD]', '[PAD]', '[PAD]', '[PAD]', '[PAD]', '[PAD]', '[PAD]']\n",
            "['[SOS]', '▁예', '복', '에', '▁바', '스타', '드', '▁거', '슬', '리', '기는', '▁오히려', '그', '것', '이', '틸', '라', '크', '▁공', '작', '의', '[EOS]', '[PAD]', '[PAD]', '[PAD]', '[PAD]', '[PAD]', '[PAD]', '[PAD]', '[PAD]']\n",
            "['[SOS]', '▁다만', ',', '화', '려', '한', '▁예', '복', '에', '▁어울리', '지', '▁않는', '▁바', '스타', '드', '▁소', '드', '가', '▁좀', '▁거', '슬', '리', '기는', '▁하나', '▁오히려', '그', '것', '이', '틸', '라', '크', '▁공', '작', '의', '▁평소', '▁성격', '을', '▁나', '타', '낸', '▁듯', '▁했다', '.', '[EOS]', '[PAD]', '[PAD]', '[PAD]', '[PAD]', '[PAD]', '[PAD]', '[PAD]', '[PAD]', '[PAD]', '[PAD]', '[PAD]', '[PAD]', '[PAD]', '[PAD]', '[PAD]', '[PAD]', '[PAD]', '[PAD]', '[PAD]', '[PAD]', '[PAD]', '[PAD]', '[PAD]', '[PAD]', '[PAD]', '[PAD]', '[PAD]', '[PAD]', '[PAD]', '[PAD]', '[PAD]', '[PAD]', '[PAD]', '[PAD]', '[PAD]', '[PAD]', '[PAD]', '[PAD]', '[PAD]', '[PAD]', '[PAD]', '[PAD]', '[PAD]', '[PAD]', '[PAD]', '[PAD]']\n",
            "['[SOS]', '▁아버지', '를', '▁장', '대한', '▁어깨', '가', '▁아버지', '와', '는', '▁왜', '소', '하고', '[EOS]', '[PAD]', '[PAD]', '[PAD]', '[PAD]', '[PAD]', '[PAD]', '[PAD]', '[PAD]', '[PAD]', '[PAD]', '[PAD]', '[PAD]', '[PAD]', '[PAD]', '[PAD]', '[PAD]']\n",
            "['[SOS]', '▁역시', '▁화려한', '예', '복', '에', '롱', '소', '드', '를', '▁허리', '에', '▁차', '고', '▁있었는데', ',', '▁아버지', '를', '▁담아', '▁장', '대한', '▁체', '구를', '▁하고', '있', '었지만', '어', '[UNK]', '지', '▁어깨', '가', '▁축', '▁처', '진', '▁것이', '▁아버지', '와', '는', '▁달리', '▁왜', '소', '하고', '▁덜', '떨', '어', '져', '▁보이', '게', '했다', '.', '[EOS]', '[PAD]', '[PAD]', '[PAD]', '[PAD]', '[PAD]', '[PAD]', '[PAD]', '[PAD]', '[PAD]', '[PAD]', '[PAD]', '[PAD]', '[PAD]', '[PAD]', '[PAD]', '[PAD]', '[PAD]', '[PAD]', '[PAD]', '[PAD]', '[PAD]', '[PAD]', '[PAD]', '[PAD]', '[PAD]', '[PAD]', '[PAD]', '[PAD]', '[PAD]', '[PAD]', '[PAD]', '[PAD]', '[PAD]', '[PAD]', '[PAD]', '[PAD]', '[PAD]', '[PAD]', '[PAD]']\n",
            "['[SOS]', '▁지', '멘', '은', '대', '대로', '틸', '라', '크', '▁', '가', '신', '으로', '▁공', '작', '이', '▁누구', '보다', '도', '신', '뢰', '하는', '부', '하', '요', '▁동료', '였다', '[EOS]', '[PAD]', '[PAD]']\n",
            "['[SOS]', '▁지', '멘', '은', '대', '대로', '틸', '라', '크', '▁공', '작', '가', '에', '▁봉', '사', '해', '▁온', '▁', '가', '신', '으로', '▁현', '▁', '틸', '라', '크', '▁공', '작', '이', '▁그', '▁누구', '보다', '도', '신', '뢰', '하는', '부', '하', '요', ',', '▁동료', '였다', '.', '[EOS]', '[PAD]', '[PAD]', '[PAD]', '[PAD]', '[PAD]', '[PAD]', '[PAD]', '[PAD]', '[PAD]', '[PAD]', '[PAD]', '[PAD]', '[PAD]', '[PAD]', '[PAD]', '[PAD]', '[PAD]', '[PAD]', '[PAD]', '[PAD]', '[PAD]', '[PAD]', '[PAD]', '[PAD]', '[PAD]', '[PAD]', '[PAD]', '[PAD]', '[PAD]', '[PAD]', '[PAD]', '[PAD]', '[PAD]', '[PAD]', '[PAD]', '[PAD]', '[PAD]', '[PAD]', '[PAD]', '[PAD]', '[PAD]', '[PAD]', '[PAD]', '[PAD]', '[PAD]', '[PAD]']\n",
            "['[SOS]', '▁성', '문', '앞', '에', '▁포', '러스', '▁제', '국', '의', '제', '1', '황', '녀', '인', '아', '레', '나', '▁공', '주', '를', '▁맞', '이', '[EOS]', '[PAD]', '[PAD]', '[PAD]', '[PAD]', '[PAD]', '[PAD]']\n",
            "['[SOS]', '▁그', '들이', '▁이처럼', '▁성', '문', '앞', '에', '▁있는', '▁것은', '▁조금', '있', '으면', '▁당', '도', '할', '▁포', '러스', '▁제', '국', '의', '제', '1', '황', '녀', '인', '아', '레', '나', '▁', '샤', '틀', '리', '에', '▁공', '주', '를', '▁맞', '이', '▁하기', '▁위해서', '였다', '.', '[EOS]', '[PAD]', '[PAD]', '[PAD]', '[PAD]', '[PAD]', '[PAD]', '[PAD]', '[PAD]', '[PAD]', '[PAD]', '[PAD]', '[PAD]', '[PAD]', '[PAD]', '[PAD]', '[PAD]', '[PAD]', '[PAD]', '[PAD]', '[PAD]', '[PAD]', '[PAD]', '[PAD]', '[PAD]', '[PAD]', '[PAD]', '[PAD]', '[PAD]', '[PAD]', '[PAD]', '[PAD]', '[PAD]', '[PAD]', '[PAD]', '[PAD]', '[PAD]', '[PAD]', '[PAD]', '[PAD]', '[PAD]', '[PAD]', '[PAD]', '[PAD]', '[PAD]', '[PAD]', '[PAD]']\n",
            "['[SOS]', '▁맞', '이', '하기', '▁위해', '성', '내', '의', '▁모든', '주민', '을', '▁환영', '행사', '를', '▁준비', '하고', '[EOS]', '[PAD]', '[PAD]', '[PAD]', '[PAD]', '[PAD]', '[PAD]', '[PAD]', '[PAD]', '[PAD]', '[PAD]', '[PAD]', '[PAD]', '[PAD]']\n",
            "['[SOS]', '▁그녀', '를', '▁맞', '이', '하기', '▁위해', '성', '내', '의', '▁모든', '주민', '을', '▁동원', '해', '▁환영', '행사', '를', '▁준비', '하고', '▁', '며', '칠', '에', '▁걸쳐', '▁예', '행', '연', '습', '을', '▁하', '였다', '.', '[EOS]', '[PAD]', '[PAD]', '[PAD]', '[PAD]', '[PAD]', '[PAD]', '[PAD]', '[PAD]', '[PAD]', '[PAD]', '[PAD]', '[PAD]', '[PAD]', '[PAD]', '[PAD]', '[PAD]', '[PAD]', '[PAD]', '[PAD]', '[PAD]', '[PAD]', '[PAD]', '[PAD]', '[PAD]', '[PAD]', '[PAD]', '[PAD]', '[PAD]', '[PAD]', '[PAD]', '[PAD]', '[PAD]', '[PAD]', '[PAD]', '[PAD]', '[PAD]', '[PAD]', '[PAD]', '[PAD]', '[PAD]', '[PAD]', '[PAD]', '[PAD]', '[PAD]', '[PAD]', '[PAD]', '[PAD]', '[PAD]', '[PAD]', '[PAD]', '[PAD]', '[PAD]', '[PAD]', '[PAD]', '[PAD]', '[PAD]']\n",
            "['[SOS]', '▁받', '들어', '▁약속', '을', '▁기', '리', '며', '앞으로', '틸', '라', '크', '▁될', '거', '라고', '▁공', '작', '이었다', '[EOS]', '[PAD]', '[PAD]', '[PAD]', '[PAD]', '[PAD]', '[PAD]', '[PAD]', '[PAD]', '[PAD]', '[PAD]', '[PAD]']\n",
            "['[SOS]', '▁비', '록', '▁', '늦', '기는', '하', '였지만', '▁선', '황', '의', '▁뜻을', '▁받', '들어', '▁약속', '을', '▁지키', '신', '▁황', '제', '폐', '하', '의', '▁', '은', '혜', '를', '▁기', '리', '며', '앞으로', '틸', '라', '크', '▁영', '지도', '▁좀', '더', '▁나', '은', '▁상황이', '▁될', '거', '라고', '▁내', '심', '▁기대', '하는', '▁', '틸', '라', '크', '▁공', '작', '이었다', '.', '[EOS]', '[PAD]', '[PAD]', '[PAD]', '[PAD]', '[PAD]', '[PAD]', '[PAD]', '[PAD]', '[PAD]', '[PAD]', '[PAD]', '[PAD]', '[PAD]', '[PAD]', '[PAD]', '[PAD]', '[PAD]', '[PAD]', '[PAD]', '[PAD]', '[PAD]', '[PAD]', '[PAD]', '[PAD]', '[PAD]', '[PAD]', '[PAD]', '[PAD]', '[PAD]', '[PAD]', '[PAD]', '[PAD]', '[PAD]']\n",
            "['[SOS]', '▁성', '주민', '들의', '▁우', '레', '와', '▁함', '성을', '▁', '싣', '고', '틸', '라', '크', '공', '작', '이하', '▁아', '젝', '스와', '[EOS]', '[PAD]', '[PAD]', '[PAD]', '[PAD]', '[PAD]', '[PAD]', '[PAD]', '[PAD]']\n",
            "['[SOS]', '▁성', '주민', '들의', '▁우', '레', '와', '▁같은', '▁함', '성을', '▁', '싣', '고', '틸', '라', '크', '공', '작', '이하', '▁아', '젝', '스와', '▁지', '멘', '이', '▁뒤', '따', '라', '▁마', '중', '을', '▁나섰다', '.', '[EOS]', '[PAD]', '[PAD]', '[PAD]', '[PAD]', '[PAD]', '[PAD]', '[PAD]', '[PAD]', '[PAD]', '[PAD]', '[PAD]', '[PAD]', '[PAD]', '[PAD]', '[PAD]', '[PAD]', '[PAD]', '[PAD]', '[PAD]', '[PAD]', '[PAD]', '[PAD]', '[PAD]', '[PAD]', '[PAD]', '[PAD]', '[PAD]', '[PAD]', '[PAD]', '[PAD]', '[PAD]', '[PAD]', '[PAD]', '[PAD]', '[PAD]', '[PAD]', '[PAD]', '[PAD]', '[PAD]', '[PAD]', '[PAD]', '[PAD]', '[PAD]', '[PAD]', '[PAD]', '[PAD]', '[PAD]', '[PAD]', '[PAD]', '[PAD]', '[PAD]', '[PAD]', '[PAD]', '[PAD]', '[PAD]', '[PAD]']\n",
            "['[SOS]', '▁마', '차', '가', '서', '고', '▁시', '녀', '가', '내', '리', '고', '이', '윽', '고', '▁공', '주가', '▁', '걸음', '으로', '▁마', '차', '에', '[EOS]', '[PAD]', '[PAD]', '[PAD]', '[PAD]', '[PAD]', '[PAD]']\n",
            "['[SOS]', '▁마', '차', '가', '서', '고', '▁시', '녀', '가', '내', '리', '고', '이', '윽', '고', '▁공', '주가', '▁창', '분', '한', '▁', '걸음', '으로', '▁마', '차', '에', '▁내려', '▁주', '위를', '▁둘러', '▁보', '았다', '.', '[EOS]', '[PAD]', '[PAD]', '[PAD]', '[PAD]', '[PAD]', '[PAD]', '[PAD]', '[PAD]', '[PAD]', '[PAD]', '[PAD]', '[PAD]', '[PAD]', '[PAD]', '[PAD]', '[PAD]', '[PAD]', '[PAD]', '[PAD]', '[PAD]', '[PAD]', '[PAD]', '[PAD]', '[PAD]', '[PAD]', '[PAD]', '[PAD]', '[PAD]', '[PAD]', '[PAD]', '[PAD]', '[PAD]', '[PAD]', '[PAD]', '[PAD]', '[PAD]', '[PAD]', '[PAD]', '[PAD]', '[PAD]', '[PAD]', '[PAD]', '[PAD]', '[PAD]', '[PAD]', '[PAD]', '[PAD]', '[PAD]', '[PAD]', '[PAD]', '[PAD]', '[PAD]', '[PAD]', '[PAD]', '[PAD]', '[PAD]']\n",
            "['[SOS]', '▁중', '후', '한', '▁미소', '로', '다', '가', '오', '고', '오', '른', '편', '의', '▁젊은', '이', '는', '▁입', '을', '▁벌', '리', '고', '[EOS]', '[PAD]', '[PAD]', '[PAD]', '[PAD]', '[PAD]', '[PAD]', '[PAD]']\n",
            "['[SOS]', '▁가운데', '의', '▁인물', '은', '▁중', '후', '한', '▁미소', '로', '다', '가', '오', '고', '오', '른', '편', '의', '▁젊은', '이', '는', '▁', '멍', '한', '▁시', '선', '으로', '▁입', '을', '▁벌', '리', '고', '▁있었다', '.', '[EOS]', '[PAD]', '[PAD]', '[PAD]', '[PAD]', '[PAD]', '[PAD]', '[PAD]', '[PAD]', '[PAD]', '[PAD]', '[PAD]', '[PAD]', '[PAD]', '[PAD]', '[PAD]', '[PAD]', '[PAD]', '[PAD]', '[PAD]', '[PAD]', '[PAD]', '[PAD]', '[PAD]', '[PAD]', '[PAD]', '[PAD]', '[PAD]', '[PAD]', '[PAD]', '[PAD]', '[PAD]', '[PAD]', '[PAD]', '[PAD]', '[PAD]', '[PAD]', '[PAD]', '[PAD]', '[PAD]', '[PAD]', '[PAD]', '[PAD]', '[PAD]', '[PAD]', '[PAD]', '[PAD]', '[PAD]', '[PAD]', '[PAD]', '[PAD]', '[PAD]', '[PAD]', '[PAD]', '[PAD]', '[PAD]']\n",
            "['[SOS]', '▁', '왼', '편', '의', '기사', '는', '무', '표', '정', '한', '▁', '틸', '라', '크', '▁공', '작', '을', '▁떨어지', '지', '▁않았다', '[EOS]', '[PAD]', '[PAD]', '[PAD]', '[PAD]', '[PAD]', '[PAD]', '[PAD]', '[PAD]']\n",
            "['[SOS]', '▁그리고', '▁', '왼', '편', '의', '기사', '는', '무', '표', '정', '한', '▁모습으로', '▁', '틸', '라', '크', '▁공', '작', '을', '▁보', '필', '하', '듯', '이', '▁', '곁', '에서', '▁떨어지', '지', '▁않았다', '.', '[EOS]', '[PAD]', '[PAD]', '[PAD]', '[PAD]', '[PAD]', '[PAD]', '[PAD]', '[PAD]', '[PAD]', '[PAD]', '[PAD]', '[PAD]', '[PAD]', '[PAD]', '[PAD]', '[PAD]', '[PAD]', '[PAD]', '[PAD]', '[PAD]', '[PAD]', '[PAD]', '[PAD]', '[PAD]', '[PAD]', '[PAD]', '[PAD]', '[PAD]', '[PAD]', '[PAD]', '[PAD]', '[PAD]', '[PAD]', '[PAD]', '[PAD]', '[PAD]', '[PAD]', '[PAD]', '[PAD]', '[PAD]', '[PAD]', '[PAD]', '[PAD]', '[PAD]', '[PAD]', '[PAD]', '[PAD]', '[PAD]', '[PAD]', '[PAD]', '[PAD]', '[PAD]', '[PAD]', '[PAD]', '[PAD]', '[PAD]', '[PAD]']\n",
            "['[SOS]', '▁영', '지', '에', '▁오', '신', '▁모든', '▁영', '지', '민', '이', '▁합니다', '[EOS]', '[PAD]', '[PAD]', '[PAD]', '[PAD]', '[PAD]', '[PAD]', '[PAD]', '[PAD]', '[PAD]', '[PAD]', '[PAD]', '[PAD]', '[PAD]', '[PAD]', '[PAD]', '[PAD]', '[PAD]']\n",
            "['[SOS]', '▁', '틸', '라', '크', '▁영', '지', '에', '▁오', '신', '▁것을', '▁그', '라', '시', '스', '▁', '틸', '라', '크', '▁이하', '▁모든', '▁영', '지', '민', '이', '▁환영', '을', '▁합니다', '.', '[EOS]', '[PAD]', '[PAD]', '[PAD]', '[PAD]', '[PAD]', '[PAD]', '[PAD]', '[PAD]', '[PAD]', '[PAD]', '[PAD]', '[PAD]', '[PAD]', '[PAD]', '[PAD]', '[PAD]', '[PAD]', '[PAD]', '[PAD]', '[PAD]', '[PAD]', '[PAD]', '[PAD]', '[PAD]', '[PAD]', '[PAD]', '[PAD]', '[PAD]', '[PAD]', '[PAD]', '[PAD]', '[PAD]', '[PAD]', '[PAD]', '[PAD]', '[PAD]', '[PAD]', '[PAD]', '[PAD]', '[PAD]', '[PAD]', '[PAD]', '[PAD]', '[PAD]', '[PAD]', '[PAD]', '[PAD]', '[PAD]', '[PAD]', '[PAD]', '[PAD]', '[PAD]', '[PAD]', '[PAD]', '[PAD]', '[PAD]', '[PAD]', '[PAD]', '[PAD]', '[PAD]']\n",
            "['[SOS]', '▁공', '주는', '▁여', '느', '귀', '족', '처럼', '화', '려', '한', '▁수', '식', '어', '를', '▁공', '작', '을', '▁귀', '족', '임을', '인', '정', '해야', '[EOS]', '[PAD]', '[PAD]', '[PAD]', '[PAD]', '[PAD]']\n",
            "['[SOS]', '▁아', '레', '나', '▁공', '주는', '▁여', '느', '귀', '족', '처럼', '화', '려', '한', '▁수', '식', '어', '를', '▁사용', '하지', '▁않는', '▁공', '작', '을', '▁보', '며', '▁역시', '▁변', '방', '의', '▁귀', '족', '임을', '인', '정', '해야', '▁했다', '.', '[EOS]', '[PAD]', '[PAD]', '[PAD]', '[PAD]', '[PAD]', '[PAD]', '[PAD]', '[PAD]', '[PAD]', '[PAD]', '[PAD]', '[PAD]', '[PAD]', '[PAD]', '[PAD]', '[PAD]', '[PAD]', '[PAD]', '[PAD]', '[PAD]', '[PAD]', '[PAD]', '[PAD]', '[PAD]', '[PAD]', '[PAD]', '[PAD]', '[PAD]', '[PAD]', '[PAD]', '[PAD]', '[PAD]', '[PAD]', '[PAD]', '[PAD]', '[PAD]', '[PAD]', '[PAD]', '[PAD]', '[PAD]', '[PAD]', '[PAD]', '[PAD]', '[PAD]', '[PAD]', '[PAD]', '[PAD]', '[PAD]', '[PAD]', '[PAD]', '[PAD]']\n",
            "['[SOS]', '▁남편', '이', '▁청년', '의', '▁', '멍', '한', '태', '도', '는', '▁공', '주의', '▁거', '슬', '리', '게', '[EOS]', '[PAD]', '[PAD]', '[PAD]', '[PAD]', '[PAD]', '[PAD]', '[PAD]', '[PAD]', '[PAD]', '[PAD]', '[PAD]', '[PAD]']\n",
            "['[SOS]', '▁게다가', '▁', '곁', '에', '▁있는', ',', '▁아', '마', '도', '▁자신의', '▁남편', '이', '▁될', '▁것이', '▁확실한', '아', '젝', '스', '라는', '▁청년', '의', '▁', '멍', '한', '태', '도', '는', '▁아', '레', '나', '▁공', '주의', '▁심', '기를', '▁', '상당히', '▁거', '슬', '리', '게', '▁했다', '.', '[EOS]', '[PAD]', '[PAD]', '[PAD]', '[PAD]', '[PAD]', '[PAD]', '[PAD]', '[PAD]', '[PAD]', '[PAD]', '[PAD]', '[PAD]', '[PAD]', '[PAD]', '[PAD]', '[PAD]', '[PAD]', '[PAD]', '[PAD]', '[PAD]', '[PAD]', '[PAD]', '[PAD]', '[PAD]', '[PAD]', '[PAD]', '[PAD]', '[PAD]', '[PAD]', '[PAD]', '[PAD]', '[PAD]', '[PAD]', '[PAD]', '[PAD]', '[PAD]', '[PAD]', '[PAD]', '[PAD]', '[PAD]', '[PAD]', '[PAD]', '[PAD]', '[PAD]', '[PAD]', '[PAD]']\n",
            "['[SOS]', '▁차', '갑', '게', '▁공', '주의', '▁일', '어', '서', '려', '던', '▁그', '라', '시', '그', '▁공', '작', '이', '잠', '시', '주', '춤', '했다', '[EOS]', '[PAD]', '[PAD]', '[PAD]', '[PAD]', '[PAD]', '[PAD]']\n",
            "['[SOS]', '▁차', '갑', '게', '▁나오는', '▁아', '레', '나', '▁공', '주의', '▁말', '투', '에', '▁일', '어', '서', '려', '던', '▁그', '라', '시', '그', '▁', '틸', '라', '크', '▁공', '작', '이', '잠', '시', '주', '춤', '했다', '.', '[EOS]', '[PAD]', '[PAD]', '[PAD]', '[PAD]', '[PAD]', '[PAD]', '[PAD]', '[PAD]', '[PAD]', '[PAD]', '[PAD]', '[PAD]', '[PAD]', '[PAD]', '[PAD]', '[PAD]', '[PAD]', '[PAD]', '[PAD]', '[PAD]', '[PAD]', '[PAD]', '[PAD]', '[PAD]', '[PAD]', '[PAD]', '[PAD]', '[PAD]', '[PAD]', '[PAD]', '[PAD]', '[PAD]', '[PAD]', '[PAD]', '[PAD]', '[PAD]', '[PAD]', '[PAD]', '[PAD]', '[PAD]', '[PAD]', '[PAD]', '[PAD]', '[PAD]', '[PAD]', '[PAD]', '[PAD]', '[PAD]', '[PAD]', '[PAD]', '[PAD]', '[PAD]', '[PAD]', '[PAD]']\n",
            "['[SOS]', '▁', '웃음', '짓', '던', '틸', '라', '크', '공', '작', '의', '▁얼굴', '은', '▁', '삽', '시간', '에', '▁', '굳', '은', '▁뒤', '돌', '아', '[EOS]', '[PAD]', '[PAD]', '[PAD]', '[PAD]', '[PAD]', '[PAD]']\n",
            "['[SOS]', '▁그러', '자', '▁', '웃음', '짓', '던', '틸', '라', '크', '공', '작', '의', '▁얼굴', '은', '▁', '삽', '시간', '에', '▁', '굳', '은', '▁표정', '이', '▁되어', '▁뒤', '돌', '아', '▁', '섰', '다', '.', '[EOS]', '[PAD]', '[PAD]', '[PAD]', '[PAD]', '[PAD]', '[PAD]', '[PAD]', '[PAD]', '[PAD]', '[PAD]', '[PAD]', '[PAD]', '[PAD]', '[PAD]', '[PAD]', '[PAD]', '[PAD]', '[PAD]', '[PAD]', '[PAD]', '[PAD]', '[PAD]', '[PAD]', '[PAD]', '[PAD]', '[PAD]', '[PAD]', '[PAD]', '[PAD]', '[PAD]', '[PAD]', '[PAD]', '[PAD]', '[PAD]', '[PAD]', '[PAD]', '[PAD]', '[PAD]', '[PAD]', '[PAD]', '[PAD]', '[PAD]', '[PAD]', '[PAD]', '[PAD]', '[PAD]', '[PAD]', '[PAD]', '[PAD]', '[PAD]', '[PAD]', '[PAD]', '[PAD]', '[PAD]', '[PAD]', '[PAD]', '[PAD]']\n",
            "['[SOS]', '▁공', '주는', '▁보', '지', '못', '했지만', '▁공', '작', '의', '▁', '씁', '스', '레', '하니', '▁구', '겼다', '[EOS]', '[PAD]', '[PAD]', '[PAD]', '[PAD]', '[PAD]', '[PAD]', '[PAD]', '[PAD]', '[PAD]', '[PAD]', '[PAD]', '[PAD]']\n",
            "['[SOS]', '▁공', '주는', '▁보', '지', '못', '했지만', '▁그', '곁', '에', '▁있던', '▁나', '사', '스는', '▁공', '작', '의', '▁모습을', '▁보', '며', '▁', '씁', '스', '레', '하니', '▁인상', '을', '▁구', '겼다', '.', '[EOS]', '[PAD]', '[PAD]', '[PAD]', '[PAD]', '[PAD]', '[PAD]', '[PAD]', '[PAD]', '[PAD]', '[PAD]', '[PAD]', '[PAD]', '[PAD]', '[PAD]', '[PAD]', '[PAD]', '[PAD]', '[PAD]', '[PAD]', '[PAD]', '[PAD]', '[PAD]', '[PAD]', '[PAD]', '[PAD]', '[PAD]', '[PAD]', '[PAD]', '[PAD]', '[PAD]', '[PAD]', '[PAD]', '[PAD]', '[PAD]', '[PAD]', '[PAD]', '[PAD]', '[PAD]', '[PAD]', '[PAD]', '[PAD]', '[PAD]', '[PAD]', '[PAD]', '[PAD]', '[PAD]', '[PAD]', '[PAD]', '[PAD]', '[PAD]', '[PAD]', '[PAD]', '[PAD]', '[PAD]', '[PAD]', '[PAD]', '[PAD]', '[PAD]', '[PAD]']\n",
            "['[SOS]', '▁그때', '까지', '아', '젝', '스는', '멍', '한', '▁마', '차', '를', '▁보다', '▁급', '히', '▁뒤', '따', '랐', '다', '[EOS]', '[PAD]', '[PAD]', '[PAD]', '[PAD]', '[PAD]', '[PAD]', '[PAD]', '[PAD]', '[PAD]', '[PAD]', '[PAD]']\n",
            "['[SOS]', '▁그때', '까지', '아', '젝', '스는', '멍', '한', '▁눈', '으로', '▁마', '차', '를', '▁보다', '▁정신', '을', '▁차', '리', '고', '▁급', '히', '▁마', '차', '를', '▁뒤', '따', '랐', '다', '.', '[EOS]', '[PAD]', '[PAD]', '[PAD]', '[PAD]', '[PAD]', '[PAD]', '[PAD]', '[PAD]', '[PAD]', '[PAD]', '[PAD]', '[PAD]', '[PAD]', '[PAD]', '[PAD]', '[PAD]', '[PAD]', '[PAD]', '[PAD]', '[PAD]', '[PAD]', '[PAD]', '[PAD]', '[PAD]', '[PAD]', '[PAD]', '[PAD]', '[PAD]', '[PAD]', '[PAD]', '[PAD]', '[PAD]', '[PAD]', '[PAD]', '[PAD]', '[PAD]', '[PAD]', '[PAD]', '[PAD]', '[PAD]', '[PAD]', '[PAD]', '[PAD]', '[PAD]', '[PAD]', '[PAD]', '[PAD]', '[PAD]', '[PAD]', '[PAD]', '[PAD]', '[PAD]', '[PAD]', '[PAD]', '[PAD]', '[PAD]', '[PAD]', '[PAD]', '[PAD]', '[PAD]']\n",
            "['[SOS]', '▁', '틸', '라', '크', '▁조', '그', '만', '▁연', '무', '장은', '▁때', '아', '닌', '▁', '먼', '지', '바람', '이', '일', '었다', '[EOS]', '[PAD]', '[PAD]', '[PAD]', '[PAD]', '[PAD]', '[PAD]', '[PAD]', '[PAD]']\n",
            "['[SOS]', '▁', '틸', '라', '크', '▁공', '작', '가', '의', '▁한', '▁귀', '퉁', '이', '에', '▁마련', '된', '▁조', '그', '만', '▁연', '무', '장은', '▁오늘', '▁때', '아', '닌', '▁', '먼', '지', '바람', '이', '일', '었다', '.', '[EOS]', '[PAD]', '[PAD]', '[PAD]', '[PAD]', '[PAD]', '[PAD]', '[PAD]', '[PAD]', '[PAD]', '[PAD]', '[PAD]', '[PAD]', '[PAD]', '[PAD]', '[PAD]', '[PAD]', '[PAD]', '[PAD]', '[PAD]', '[PAD]', '[PAD]', '[PAD]', '[PAD]', '[PAD]', '[PAD]', '[PAD]', '[PAD]', '[PAD]', '[PAD]', '[PAD]', '[PAD]', '[PAD]', '[PAD]', '[PAD]', '[PAD]', '[PAD]', '[PAD]', '[PAD]', '[PAD]', '[PAD]', '[PAD]', '[PAD]', '[PAD]', '[PAD]', '[PAD]', '[PAD]', '[PAD]', '[PAD]', '[PAD]', '[PAD]', '[PAD]', '[PAD]', '[PAD]', '[PAD]', '[PAD]']\n",
            "['[SOS]', '▁주', '범', '은', '▁한', '스', '▁주', '먹', '과', '▁놀', '리', '고', '▁아', '젝', '스', '[EOS]', '[PAD]', '[PAD]', '[PAD]', '[PAD]', '[PAD]', '[PAD]', '[PAD]', '[PAD]', '[PAD]', '[PAD]', '[PAD]', '[PAD]', '[PAD]', '[PAD]']\n",
            "['[SOS]', '▁', '먼', '지를', '▁일으키', '는', '▁주', '범', '은', '▁한', '스', '▁', '멕', '그', '리', '거', '라는', '▁힘', '없는', '▁기사', '요', ',', '▁그', '원', '인', '은', '지금', '도', '▁주', '먹', '과', '▁발', '을', '▁열심히', '▁놀', '리', '고', '▁있', '은', '▁아', '젝', '스', '▁', '틸', '라', '크', '에', '▁있었다', '.', '[EOS]', '[PAD]', '[PAD]', '[PAD]', '[PAD]', '[PAD]', '[PAD]', '[PAD]', '[PAD]', '[PAD]', '[PAD]', '[PAD]', '[PAD]', '[PAD]', '[PAD]', '[PAD]', '[PAD]', '[PAD]', '[PAD]', '[PAD]', '[PAD]', '[PAD]', '[PAD]', '[PAD]', '[PAD]', '[PAD]', '[PAD]', '[PAD]', '[PAD]', '[PAD]', '[PAD]', '[PAD]', '[PAD]', '[PAD]', '[PAD]', '[PAD]', '[PAD]', '[PAD]', '[PAD]', '[PAD]', '[PAD]']\n",
            "['[SOS]', '▁방', '으로', '▁한', '스는', '▁아', '젝', '스를', '▁따', '르', '며', '후', '련', '하다는', '눈', '빛', '을', '▁아', '젝', '스를', '따', '랐', '다', '[EOS]', '[PAD]', '[PAD]', '[PAD]', '[PAD]', '[PAD]', '[PAD]']\n",
            "['[SOS]', '▁아', '젝', '스는', '▁뒤', '돌', '아', '▁자신의', '▁방', '으로', '▁향', '했고', ',', '▁한', '스는', '▁아', '젝', '스를', '▁따', '르', '며', '후', '련', '하다는', '눈', '빛', '을', '▁', '앙', '리', '에게', '▁보', '냈', '고', ',', '▁', '앙', '리는', '▁잠시', '▁방', '심', '한', '▁자신을', '▁후', '회', '하며', '▁아', '젝', '스를', '따', '랐', '다', '.', '[EOS]', '[PAD]', '[PAD]', '[PAD]', '[PAD]', '[PAD]', '[PAD]', '[PAD]', '[PAD]', '[PAD]', '[PAD]', '[PAD]', '[PAD]', '[PAD]', '[PAD]', '[PAD]', '[PAD]', '[PAD]', '[PAD]', '[PAD]', '[PAD]', '[PAD]', '[PAD]', '[PAD]', '[PAD]', '[PAD]', '[PAD]', '[PAD]', '[PAD]', '[PAD]', '[PAD]', '[PAD]', '[PAD]', '[PAD]', '[PAD]', '[PAD]', '[PAD]']\n",
            "['[SOS]', '▁석', '양', '의', '▁', '햇', '살', '을', '▁공', '주는', '▁테', '라', '스', '에서', '▁잠시', '성', '밖', '을', '[EOS]', '[PAD]', '[PAD]', '[PAD]', '[PAD]', '[PAD]', '[PAD]', '[PAD]', '[PAD]', '[PAD]', '[PAD]', '[PAD]']\n",
            "['[SOS]', '▁들어오', '는', '▁석', '양', '의', '▁', '햇', '살', '을', '▁받으며', '▁아', '레', '나', '▁공', '주는', '▁테', '라', '스', '에서', '▁잠시', '성', '밖', '을', '▁둘러', '▁보', '았다', '.', '[EOS]', '[PAD]', '[PAD]', '[PAD]', '[PAD]', '[PAD]', '[PAD]', '[PAD]', '[PAD]', '[PAD]', '[PAD]', '[PAD]', '[PAD]', '[PAD]', '[PAD]', '[PAD]', '[PAD]', '[PAD]', '[PAD]', '[PAD]', '[PAD]', '[PAD]', '[PAD]', '[PAD]', '[PAD]', '[PAD]', '[PAD]', '[PAD]', '[PAD]', '[PAD]', '[PAD]', '[PAD]', '[PAD]', '[PAD]', '[PAD]', '[PAD]', '[PAD]', '[PAD]', '[PAD]', '[PAD]', '[PAD]', '[PAD]', '[PAD]', '[PAD]', '[PAD]', '[PAD]', '[PAD]', '[PAD]', '[PAD]', '[PAD]', '[PAD]', '[PAD]', '[PAD]', '[PAD]', '[PAD]', '[PAD]', '[PAD]', '[PAD]', '[PAD]', '[PAD]', '[PAD]', '[PAD]']\n",
            "['[SOS]', '▁아니었다', '면', '▁아름다운', '▁석', '양', '을', '▁배경으로', '한', '목', '가', '의', '▁풍', '경', '을', '[EOS]', '[PAD]', '[PAD]', '[PAD]', '[PAD]', '[PAD]', '[PAD]', '[PAD]', '[PAD]', '[PAD]', '[PAD]', '[PAD]', '[PAD]', '[PAD]', '[PAD]']\n",
            "['[SOS]', '▁지금', '▁상황이', '▁아니었다', '면', ',', '▁아', '마', '▁아름다운', '▁석', '양', '을', '▁배경으로', '한', '목', '가', '의', '▁풍', '경', '을', '▁정', '겨', '운', '▁눈', '으로', '▁바라', '보고', '▁있었', '을', '▁것이다', '.', '[EOS]', '[PAD]', '[PAD]', '[PAD]', '[PAD]', '[PAD]', '[PAD]', '[PAD]', '[PAD]', '[PAD]', '[PAD]', '[PAD]', '[PAD]', '[PAD]', '[PAD]', '[PAD]', '[PAD]', '[PAD]', '[PAD]', '[PAD]', '[PAD]', '[PAD]', '[PAD]', '[PAD]', '[PAD]', '[PAD]', '[PAD]', '[PAD]', '[PAD]', '[PAD]', '[PAD]', '[PAD]', '[PAD]', '[PAD]', '[PAD]', '[PAD]', '[PAD]', '[PAD]', '[PAD]', '[PAD]', '[PAD]', '[PAD]', '[PAD]', '[PAD]', '[PAD]', '[PAD]', '[PAD]', '[PAD]', '[PAD]', '[PAD]', '[PAD]', '[PAD]', '[PAD]', '[PAD]', '[PAD]', '[PAD]', '[PAD]', '[PAD]', '[PAD]']\n",
            "['[SOS]', '▁귀', '족', '과', '▁황', '족', '간', '의', '암', '투', '속', '에서', '▁살아', '온', '▁동', '경', '하던', '▁것', '이었다', '[EOS]', '[PAD]', '[PAD]', '[PAD]', '[PAD]', '[PAD]', '[PAD]', '[PAD]', '[PAD]', '[PAD]', '[PAD]']\n",
            "['[SOS]', '▁연', '일', '▁귀', '족', '과', '▁황', '족', '간', '의', '암', '투', '속', '에서', '▁살아', '온', '▁자신이', '▁늘', '▁동', '경', '하던', '▁모습이', '▁이런', '▁것', '이었다', '.', '[EOS]', '[PAD]', '[PAD]', '[PAD]', '[PAD]', '[PAD]', '[PAD]', '[PAD]', '[PAD]', '[PAD]', '[PAD]', '[PAD]', '[PAD]', '[PAD]', '[PAD]', '[PAD]', '[PAD]', '[PAD]', '[PAD]', '[PAD]', '[PAD]', '[PAD]', '[PAD]', '[PAD]', '[PAD]', '[PAD]', '[PAD]', '[PAD]', '[PAD]', '[PAD]', '[PAD]', '[PAD]', '[PAD]', '[PAD]', '[PAD]', '[PAD]', '[PAD]', '[PAD]', '[PAD]', '[PAD]', '[PAD]', '[PAD]', '[PAD]', '[PAD]', '[PAD]', '[PAD]', '[PAD]', '[PAD]', '[PAD]', '[PAD]', '[PAD]', '[PAD]', '[PAD]', '[PAD]', '[PAD]', '[PAD]', '[PAD]', '[PAD]', '[PAD]', '[PAD]', '[PAD]', '[PAD]', '[PAD]', '[PAD]']\n",
            "['[SOS]', '▁만', '찬', '에', '▁연', '회', '에서', '▁모든', '▁귀', '족', '들이', '▁참석', '할', '[EOS]', '[PAD]', '[PAD]', '[PAD]', '[PAD]', '[PAD]', '[PAD]', '[PAD]', '[PAD]', '[PAD]', '[PAD]', '[PAD]', '[PAD]', '[PAD]', '[PAD]', '[PAD]', '[PAD]']\n",
            "['[SOS]', '▁오늘', '▁만', '찬', '에', '▁이', '은', '▁연', '회', '에서', '▁이곳', '▁', '틸', '라', '크', '영', '지', '의', '▁모든', '▁귀', '족', '들이', '▁참석', '할', '▁것입니다', '.', '[EOS]', '[PAD]', '[PAD]', '[PAD]', '[PAD]', '[PAD]', '[PAD]', '[PAD]', '[PAD]', '[PAD]', '[PAD]', '[PAD]', '[PAD]', '[PAD]', '[PAD]', '[PAD]', '[PAD]', '[PAD]', '[PAD]', '[PAD]', '[PAD]', '[PAD]', '[PAD]', '[PAD]', '[PAD]', '[PAD]', '[PAD]', '[PAD]', '[PAD]', '[PAD]', '[PAD]', '[PAD]', '[PAD]', '[PAD]', '[PAD]', '[PAD]', '[PAD]', '[PAD]', '[PAD]', '[PAD]', '[PAD]', '[PAD]', '[PAD]', '[PAD]', '[PAD]', '[PAD]', '[PAD]', '[PAD]', '[PAD]', '[PAD]', '[PAD]', '[PAD]', '[PAD]', '[PAD]', '[PAD]', '[PAD]', '[PAD]', '[PAD]', '[PAD]', '[PAD]', '[PAD]', '[PAD]', '[PAD]', '[PAD]']\n",
            "['[SOS]', '▁만나', '보고', '▁인재', '를', '▁공', '주', '님', '께', '▁향', '하도록', '▁하', '셔', '야', '[EOS]', '[PAD]', '[PAD]', '[PAD]', '[PAD]', '[PAD]', '[PAD]', '[PAD]', '[PAD]', '[PAD]', '[PAD]', '[PAD]', '[PAD]', '[PAD]', '[PAD]', '[PAD]']\n",
            "['[SOS]', '▁그', '들을', '▁만나', '보고', '▁인재', '를', '▁얻고', ',', '▁그', '들의', '마음', '을', '▁공', '주', '님', '께', '▁향', '하도록', '▁하', '셔', '야', '▁합니다', '.', '[EOS]', '[PAD]', '[PAD]', '[PAD]', '[PAD]', '[PAD]', '[PAD]', '[PAD]', '[PAD]', '[PAD]', '[PAD]', '[PAD]', '[PAD]', '[PAD]', '[PAD]', '[PAD]', '[PAD]', '[PAD]', '[PAD]', '[PAD]', '[PAD]', '[PAD]', '[PAD]', '[PAD]', '[PAD]', '[PAD]', '[PAD]', '[PAD]', '[PAD]', '[PAD]', '[PAD]', '[PAD]', '[PAD]', '[PAD]', '[PAD]', '[PAD]', '[PAD]', '[PAD]', '[PAD]', '[PAD]', '[PAD]', '[PAD]', '[PAD]', '[PAD]', '[PAD]', '[PAD]', '[PAD]', '[PAD]', '[PAD]', '[PAD]', '[PAD]', '[PAD]', '[PAD]', '[PAD]', '[PAD]', '[PAD]', '[PAD]', '[PAD]', '[PAD]', '[PAD]', '[PAD]', '[PAD]', '[PAD]', '[PAD]', '[PAD]', '[PAD]']\n",
            "['[SOS]', '▁아', '까', '▁공', '작', '과', '의', '▁보여', '이상', '히', '▁여', '겼', '는데', '▁이제', '야', '[EOS]', '[PAD]', '[PAD]', '[PAD]', '[PAD]', '[PAD]', '[PAD]', '[PAD]', '[PAD]', '[PAD]', '[PAD]', '[PAD]', '[PAD]', '[PAD]', '[PAD]']\n",
            "['[SOS]', '▁아', '까', '▁', '틸', '라', '크', '▁공', '작', '과', '의', '▁첫', '▁대', '면', '에서', '▁평소', '와', '▁다른', '▁모습을', '▁보여', '이상', '히', '▁여', '겼', '는데', '▁이제', '야', '▁이해', '가', '▁', '갑', '니다', '.', '[EOS]', '[PAD]', '[PAD]', '[PAD]', '[PAD]', '[PAD]', '[PAD]', '[PAD]', '[PAD]', '[PAD]', '[PAD]', '[PAD]', '[PAD]', '[PAD]', '[PAD]', '[PAD]', '[PAD]', '[PAD]', '[PAD]', '[PAD]', '[PAD]', '[PAD]', '[PAD]', '[PAD]', '[PAD]', '[PAD]', '[PAD]', '[PAD]', '[PAD]', '[PAD]', '[PAD]', '[PAD]', '[PAD]', '[PAD]', '[PAD]', '[PAD]', '[PAD]', '[PAD]', '[PAD]', '[PAD]', '[PAD]', '[PAD]', '[PAD]', '[PAD]', '[PAD]', '[PAD]', '[PAD]', '[PAD]', '[PAD]', '[PAD]', '[PAD]', '[PAD]', '[PAD]', '[PAD]', '[PAD]', '[PAD]', '[PAD]']\n",
            "['[SOS]', '▁충', '성을', '▁귀', '족', '보다', '▁이들이', '황', '태', '자', '▁전', '하', '께', '▁필요', '하', '십', '니다', '[EOS]', '[PAD]', '[PAD]', '[PAD]', '[PAD]', '[PAD]', '[PAD]', '[PAD]', '[PAD]', '[PAD]', '[PAD]', '[PAD]', '[PAD]']\n",
            "['[SOS]', '▁자신의', '▁이익', '▁때문에', '▁이', '리', '저', '리', '▁따', '지', '며', '▁충', '성을', '▁', '맹', '세', '하는', '▁여', '타', '의', '▁귀', '족', '보다', '▁마음', '으로', '▁충', '성을', '▁', '맹', '세', '하는', '▁이들이', '황', '태', '자', '▁전', '하', '께', '▁더', '▁필요', '하', '십', '니다', '.', '[EOS]', '[PAD]', '[PAD]', '[PAD]', '[PAD]', '[PAD]', '[PAD]', '[PAD]', '[PAD]', '[PAD]', '[PAD]', '[PAD]', '[PAD]', '[PAD]', '[PAD]', '[PAD]', '[PAD]', '[PAD]', '[PAD]', '[PAD]', '[PAD]', '[PAD]', '[PAD]', '[PAD]', '[PAD]', '[PAD]', '[PAD]', '[PAD]', '[PAD]', '[PAD]', '[PAD]', '[PAD]', '[PAD]', '[PAD]', '[PAD]', '[PAD]', '[PAD]', '[PAD]', '[PAD]', '[PAD]', '[PAD]', '[PAD]', '[PAD]', '[PAD]', '[PAD]', '[PAD]']\n",
            "['[SOS]', '▁자신의', '▁이익', '▁공', '주', '를', '▁도와', '▁속', '물', '에', '지', '나', '지', '[EOS]', '[PAD]', '[PAD]', '[PAD]', '[PAD]', '[PAD]', '[PAD]', '[PAD]', '[PAD]', '[PAD]', '[PAD]', '[PAD]', '[PAD]', '[PAD]', '[PAD]', '[PAD]', '[PAD]']\n",
            "['[SOS]', '▁저', '▁역시', '▁제', '▁자신의', '▁이익', '▁때문에', '▁공', '주', '를', '▁도와', '▁드', '리는', '▁속', '물', '에', '지', '나', '지', '▁않', '습니다', '.', '[EOS]', '[PAD]', '[PAD]', '[PAD]', '[PAD]', '[PAD]', '[PAD]', '[PAD]', '[PAD]', '[PAD]', '[PAD]', '[PAD]', '[PAD]', '[PAD]', '[PAD]', '[PAD]', '[PAD]', '[PAD]', '[PAD]', '[PAD]', '[PAD]', '[PAD]', '[PAD]', '[PAD]', '[PAD]', '[PAD]', '[PAD]', '[PAD]', '[PAD]', '[PAD]', '[PAD]', '[PAD]', '[PAD]', '[PAD]', '[PAD]', '[PAD]', '[PAD]', '[PAD]', '[PAD]', '[PAD]', '[PAD]', '[PAD]', '[PAD]', '[PAD]', '[PAD]', '[PAD]', '[PAD]', '[PAD]', '[PAD]', '[PAD]', '[PAD]', '[PAD]', '[PAD]', '[PAD]', '[PAD]', '[PAD]', '[PAD]', '[PAD]', '[PAD]', '[PAD]', '[PAD]', '[PAD]', '[PAD]', '[PAD]', '[PAD]', '[PAD]', '[PAD]', '[PAD]']\n",
            "['[SOS]', '▁', '탁', '자의', '▁공', '작', '과', '▁공', '작', '▁공', '작', '부', '인', '이', '▁기사', '[EOS]', '[PAD]', '[PAD]', '[PAD]', '[PAD]', '[PAD]', '[PAD]', '[PAD]', '[PAD]', '[PAD]', '[PAD]', '[PAD]', '[PAD]', '[PAD]', '[PAD]']\n",
            "['[SOS]', '▁중앙', '▁', '탁', '자의', '▁상', '석', '에는', '▁', '틸', '라', '크', '▁공', '작', '과', '▁공', '작', '부', '인', '이', '▁앉아', '▁있었', '고', ',', '▁좌', '측', '에는', '▁', '낯', '선', '여', '인', '이', '▁둘', ',', '▁우', '측', '에는', '▁낮', '에', '▁보', '았던', '▁덜', '떨', '어', '진', '▁공', '작', '▁자', '제', '와', '▁기사', '▁단장', '이', '▁앉아', '▁있었다', '.', '[EOS]', '[PAD]', '[PAD]', '[PAD]', '[PAD]', '[PAD]', '[PAD]', '[PAD]', '[PAD]', '[PAD]', '[PAD]', '[PAD]', '[PAD]', '[PAD]', '[PAD]', '[PAD]', '[PAD]', '[PAD]', '[PAD]', '[PAD]', '[PAD]', '[PAD]', '[PAD]', '[PAD]', '[PAD]', '[PAD]', '[PAD]', '[PAD]', '[PAD]', '[PAD]', '[PAD]', '[PAD]', '[PAD]']\n",
            "['[SOS]', '▁아', '젝', '스는', '▁공', '주', '를', '▁낮', '에서', '와', '▁', '멍', '한', '▁여', '념', '이', '없', '었다', '[EOS]', '[PAD]', '[PAD]', '[PAD]', '[PAD]', '[PAD]', '[PAD]', '[PAD]', '[PAD]', '[PAD]', '[PAD]', '[PAD]']\n",
            "['[SOS]', '▁아', '젝', '스는', '▁공', '주', '를', '▁보', '자', '▁낮', '에서', '와', '▁마', '찬', '▁가지', '로', '▁', '멍', '한', '▁눈', '길', '로', '▁공', '주', '를', '▁보기', '에', '▁여', '념', '이', '없', '었다', '.', '[EOS]', '[PAD]', '[PAD]', '[PAD]', '[PAD]', '[PAD]', '[PAD]', '[PAD]', '[PAD]', '[PAD]', '[PAD]', '[PAD]', '[PAD]', '[PAD]', '[PAD]', '[PAD]', '[PAD]', '[PAD]', '[PAD]', '[PAD]', '[PAD]', '[PAD]', '[PAD]', '[PAD]', '[PAD]', '[PAD]', '[PAD]', '[PAD]', '[PAD]', '[PAD]', '[PAD]', '[PAD]', '[PAD]', '[PAD]', '[PAD]', '[PAD]', '[PAD]', '[PAD]', '[PAD]', '[PAD]', '[PAD]', '[PAD]', '[PAD]', '[PAD]', '[PAD]', '[PAD]', '[PAD]', '[PAD]', '[PAD]', '[PAD]', '[PAD]', '[PAD]', '[PAD]', '[PAD]', '[PAD]', '[PAD]', '[PAD]']\n",
            "['[SOS]', '▁공', '주가', '▁모두', '▁일어나', '▁공', '주', '에게', '▁인사를', '던', '졌다', '[EOS]', '[PAD]', '[PAD]', '[PAD]', '[PAD]', '[PAD]', '[PAD]', '[PAD]', '[PAD]', '[PAD]', '[PAD]', '[PAD]', '[PAD]', '[PAD]', '[PAD]', '[PAD]', '[PAD]', '[PAD]', '[PAD]']\n",
            "['[SOS]', '▁그', '를', '▁제외한', '▁나머지', '▁이들은', '▁공', '주가', '▁보이', '자', '▁모두', '▁일어나', '▁공', '주', '에게', '▁인사를', '던', '졌다', '.', '[EOS]', '[PAD]', '[PAD]', '[PAD]', '[PAD]', '[PAD]', '[PAD]', '[PAD]', '[PAD]', '[PAD]', '[PAD]', '[PAD]', '[PAD]', '[PAD]', '[PAD]', '[PAD]', '[PAD]', '[PAD]', '[PAD]', '[PAD]', '[PAD]', '[PAD]', '[PAD]', '[PAD]', '[PAD]', '[PAD]', '[PAD]', '[PAD]', '[PAD]', '[PAD]', '[PAD]', '[PAD]', '[PAD]', '[PAD]', '[PAD]', '[PAD]', '[PAD]', '[PAD]', '[PAD]', '[PAD]', '[PAD]', '[PAD]', '[PAD]', '[PAD]', '[PAD]', '[PAD]', '[PAD]', '[PAD]', '[PAD]', '[PAD]', '[PAD]', '[PAD]', '[PAD]', '[PAD]', '[PAD]', '[PAD]', '[PAD]', '[PAD]', '[PAD]', '[PAD]', '[PAD]', '[PAD]', '[PAD]', '[PAD]', '[PAD]', '[PAD]', '[PAD]', '[PAD]', '[PAD]', '[PAD]', '[PAD]']\n",
            "['[SOS]', '▁하', '녀', '의', '▁안내', '를', '▁공', '주', '와', '▁공', '작', '의', '▁자리에', '앉', '았다', '[EOS]', '[PAD]', '[PAD]', '[PAD]', '[PAD]', '[PAD]', '[PAD]', '[PAD]', '[PAD]', '[PAD]', '[PAD]', '[PAD]', '[PAD]', '[PAD]', '[PAD]']\n",
            "['[SOS]', '▁나', '사', '스는', '▁하', '녀', '의', '▁안내', '를', '▁따라', '▁아', '레', '나', '▁공', '주', '와', '▁함께', '▁', '틸', '라', '크', '▁공', '작', '의', '▁맞', '은', '편', '▁자리에', '앉', '았다', '.', '[EOS]', '[PAD]', '[PAD]', '[PAD]', '[PAD]', '[PAD]', '[PAD]', '[PAD]', '[PAD]', '[PAD]', '[PAD]', '[PAD]', '[PAD]', '[PAD]', '[PAD]', '[PAD]', '[PAD]', '[PAD]', '[PAD]', '[PAD]', '[PAD]', '[PAD]', '[PAD]', '[PAD]', '[PAD]', '[PAD]', '[PAD]', '[PAD]', '[PAD]', '[PAD]', '[PAD]', '[PAD]', '[PAD]', '[PAD]', '[PAD]', '[PAD]', '[PAD]', '[PAD]', '[PAD]', '[PAD]', '[PAD]', '[PAD]', '[PAD]', '[PAD]', '[PAD]', '[PAD]', '[PAD]', '[PAD]', '[PAD]', '[PAD]', '[PAD]', '[PAD]', '[PAD]', '[PAD]', '[PAD]', '[PAD]', '[PAD]', '[PAD]', '[PAD]']\n",
            "['[SOS]', '▁나', '사', '스는', '▁', '틸', '라', '크', '▁공', '작', '의', '▁말을', '▁듣고', '[EOS]', '[PAD]', '[PAD]', '[PAD]', '[PAD]', '[PAD]', '[PAD]', '[PAD]', '[PAD]', '[PAD]', '[PAD]', '[PAD]', '[PAD]', '[PAD]', '[PAD]', '[PAD]', '[PAD]']\n",
            "['[SOS]', '▁나', '사', '스는', '▁', '틸', '라', '크', '▁공', '작', '의', '▁말을', '▁듣고', '▁그의', '▁심', '기가', '▁그리', '▁편', '치', '▁않다', '는', '▁것을', '▁느꼈', '다', '.', '[EOS]', '[PAD]', '[PAD]', '[PAD]', '[PAD]', '[PAD]', '[PAD]', '[PAD]', '[PAD]', '[PAD]', '[PAD]', '[PAD]', '[PAD]', '[PAD]', '[PAD]', '[PAD]', '[PAD]', '[PAD]', '[PAD]', '[PAD]', '[PAD]', '[PAD]', '[PAD]', '[PAD]', '[PAD]', '[PAD]', '[PAD]', '[PAD]', '[PAD]', '[PAD]', '[PAD]', '[PAD]', '[PAD]', '[PAD]', '[PAD]', '[PAD]', '[PAD]', '[PAD]', '[PAD]', '[PAD]', '[PAD]', '[PAD]', '[PAD]', '[PAD]', '[PAD]', '[PAD]', '[PAD]', '[PAD]', '[PAD]', '[PAD]', '[PAD]', '[PAD]', '[PAD]', '[PAD]', '[PAD]', '[PAD]', '[PAD]', '[PAD]', '[PAD]', '[PAD]', '[PAD]', '[PAD]', '[PAD]', '[PAD]', '[PAD]']\n",
            "['[SOS]', '▁평소', '▁벌', '일', '▁음식', '을', '▁마련', '했는데', '▁', '며', '칠', '만', '기', '다', '려', '[EOS]', '[PAD]', '[PAD]', '[PAD]', '[PAD]', '[PAD]', '[PAD]', '[PAD]', '[PAD]', '[PAD]', '[PAD]', '[PAD]', '[PAD]', '[PAD]', '[PAD]']\n",
            "['[SOS]', '▁그래서', '▁평소', '▁', '틸', '라', '크', '에서', '연', '회를', '▁벌', '일', '▁때', '▁만드는', '▁음식', '을', '▁마련', '했는데', ',', '▁마음', '에', '▁드', '시', '지', '▁않으', '시', '더라도', '▁', '며', '칠', '만', '기', '다', '려', '▁주', '시', '기', '▁바', '랍', '니다', '.', '[EOS]', '[PAD]', '[PAD]', '[PAD]', '[PAD]', '[PAD]', '[PAD]', '[PAD]', '[PAD]', '[PAD]', '[PAD]', '[PAD]', '[PAD]', '[PAD]', '[PAD]', '[PAD]', '[PAD]', '[PAD]', '[PAD]', '[PAD]', '[PAD]', '[PAD]', '[PAD]', '[PAD]', '[PAD]', '[PAD]', '[PAD]', '[PAD]', '[PAD]', '[PAD]', '[PAD]', '[PAD]', '[PAD]', '[PAD]', '[PAD]', '[PAD]', '[PAD]', '[PAD]', '[PAD]', '[PAD]', '[PAD]', '[PAD]', '[PAD]', '[PAD]', '[PAD]', '[PAD]', '[PAD]', '[PAD]', '[PAD]']\n",
            "['[SOS]', '▁공', '작', '의', '▁공', '작', '부', '인', '이', '▁부', '연', '설', '명을', '▁나', '사', '스는', '▁공', '작', '의', '태', '도', '가', '[EOS]', '[PAD]', '[PAD]', '[PAD]', '[PAD]', '[PAD]', '[PAD]', '[PAD]']\n",
            "['[SOS]', '▁', '틸', '라', '크', '▁공', '작', '의', '▁옆', '에', '▁앉아', '▁있는', '▁공', '작', '부', '인', '이', '▁부', '연', '설', '명을', '▁하고', '서', '야', '▁나', '사', '스는', '▁공', '작', '의', '태', '도', '가', '▁이해', '가', '▁', '갔다', '.', '[EOS]', '[PAD]', '[PAD]', '[PAD]', '[PAD]', '[PAD]', '[PAD]', '[PAD]', '[PAD]', '[PAD]', '[PAD]', '[PAD]', '[PAD]', '[PAD]', '[PAD]', '[PAD]', '[PAD]', '[PAD]', '[PAD]', '[PAD]', '[PAD]', '[PAD]', '[PAD]', '[PAD]', '[PAD]', '[PAD]', '[PAD]', '[PAD]', '[PAD]', '[PAD]', '[PAD]', '[PAD]', '[PAD]', '[PAD]', '[PAD]', '[PAD]', '[PAD]', '[PAD]', '[PAD]', '[PAD]', '[PAD]', '[PAD]', '[PAD]', '[PAD]', '[PAD]', '[PAD]', '[PAD]', '[PAD]', '[PAD]', '[PAD]', '[PAD]', '[PAD]']\n",
            "['[SOS]', '▁예전', '부터', '이', '음', '식', '의', '▁맛', '이', '▁훌륭', '하다는', '▁많이', '▁들', '었습니다', '[EOS]', '[PAD]', '[PAD]', '[PAD]', '[PAD]', '[PAD]', '[PAD]', '[PAD]', '[PAD]', '[PAD]', '[PAD]', '[PAD]', '[PAD]', '[PAD]', '[PAD]', '[PAD]']\n",
            "['[SOS]', '▁이름', '은', '▁정확히', '▁모르', '나', '▁예전', '부터', '이', '음', '식', '의', '▁맛', '이', '▁훌륭', '하다는', '▁말', '은', '▁많이', '▁들', '었습니다', '.', '[EOS]', '[PAD]', '[PAD]', '[PAD]', '[PAD]', '[PAD]', '[PAD]', '[PAD]', '[PAD]', '[PAD]', '[PAD]', '[PAD]', '[PAD]', '[PAD]', '[PAD]', '[PAD]', '[PAD]', '[PAD]', '[PAD]', '[PAD]', '[PAD]', '[PAD]', '[PAD]', '[PAD]', '[PAD]', '[PAD]', '[PAD]', '[PAD]', '[PAD]', '[PAD]', '[PAD]', '[PAD]', '[PAD]', '[PAD]', '[PAD]', '[PAD]', '[PAD]', '[PAD]', '[PAD]', '[PAD]', '[PAD]', '[PAD]', '[PAD]', '[PAD]', '[PAD]', '[PAD]', '[PAD]', '[PAD]', '[PAD]', '[PAD]', '[PAD]', '[PAD]', '[PAD]', '[PAD]', '[PAD]', '[PAD]', '[PAD]', '[PAD]', '[PAD]', '[PAD]', '[PAD]', '[PAD]', '[PAD]', '[PAD]', '[PAD]', '[PAD]', '[PAD]', '[PAD]']\n",
            "['[SOS]', '▁공', '주는', '▁화', '가', '났', '지만', '▁조', '용', '히', '▁음식', '을', '▁먹', '기', '[EOS]', '[PAD]', '[PAD]', '[PAD]', '[PAD]', '[PAD]', '[PAD]', '[PAD]', '[PAD]', '[PAD]', '[PAD]', '[PAD]', '[PAD]', '[PAD]', '[PAD]', '[PAD]']\n",
            "['[SOS]', '▁공', '주는', '▁이러한', '▁모습', '에', '▁내', '심', '▁화', '가', '났', '지만', '▁나', '사', '스의', '▁조언', '을', '▁생각해', '서', '▁조', '용', '히', '▁음식', '을', '▁먹', '기', '▁시작했다', '.', '[EOS]', '[PAD]', '[PAD]', '[PAD]', '[PAD]', '[PAD]', '[PAD]', '[PAD]', '[PAD]', '[PAD]', '[PAD]', '[PAD]', '[PAD]', '[PAD]', '[PAD]', '[PAD]', '[PAD]', '[PAD]', '[PAD]', '[PAD]', '[PAD]', '[PAD]', '[PAD]', '[PAD]', '[PAD]', '[PAD]', '[PAD]', '[PAD]', '[PAD]', '[PAD]', '[PAD]', '[PAD]', '[PAD]', '[PAD]', '[PAD]', '[PAD]', '[PAD]', '[PAD]', '[PAD]', '[PAD]', '[PAD]', '[PAD]', '[PAD]', '[PAD]', '[PAD]', '[PAD]', '[PAD]', '[PAD]', '[PAD]', '[PAD]', '[PAD]', '[PAD]', '[PAD]', '[PAD]', '[PAD]', '[PAD]', '[PAD]', '[PAD]', '[PAD]', '[PAD]', '[PAD]', '[PAD]']\n",
            "['[SOS]', '▁음식', '이', '▁절반', '이', '상을', '▁대부분', '▁', '과', '일', '과', '▁채', '소', '류', '가', '[EOS]', '[PAD]', '[PAD]', '[PAD]', '[PAD]', '[PAD]', '[PAD]', '[PAD]', '[PAD]', '[PAD]', '[PAD]', '[PAD]', '[PAD]', '[PAD]', '[PAD]']\n",
            "['[SOS]', '▁생', '전', '▁보도', '▁듣', '도', '▁못한', '▁음식', '이', '▁절반', '이', '상을', '▁차지', '하고', '▁그', '나', '마', '▁눈에', '▁보이는', '▁것은', '▁대부분', '▁', '과', '일', '과', '▁채', '소', '류', '가', '▁대부분', '이었다', '.', '[EOS]', '[PAD]', '[PAD]', '[PAD]', '[PAD]', '[PAD]', '[PAD]', '[PAD]', '[PAD]', '[PAD]', '[PAD]', '[PAD]', '[PAD]', '[PAD]', '[PAD]', '[PAD]', '[PAD]', '[PAD]', '[PAD]', '[PAD]', '[PAD]', '[PAD]', '[PAD]', '[PAD]', '[PAD]', '[PAD]', '[PAD]', '[PAD]', '[PAD]', '[PAD]', '[PAD]', '[PAD]', '[PAD]', '[PAD]', '[PAD]', '[PAD]', '[PAD]', '[PAD]', '[PAD]', '[PAD]', '[PAD]', '[PAD]', '[PAD]', '[PAD]', '[PAD]', '[PAD]', '[PAD]', '[PAD]', '[PAD]', '[PAD]', '[PAD]', '[PAD]', '[PAD]', '[PAD]', '[PAD]', '[PAD]', '[PAD]', '[PAD]']\n",
            "['[SOS]', '▁못한', '음', '식을', '▁먹', '었는데', '▁먹', '을', '▁따', '져', '가', '며', '▁먹', '는', '[EOS]', '[PAD]', '[PAD]', '[PAD]', '[PAD]', '[PAD]', '[PAD]', '[PAD]', '[PAD]', '[PAD]', '[PAD]', '[PAD]', '[PAD]', '[PAD]', '[PAD]', '[PAD]']\n",
            "['[SOS]', '▁반면', '▁나', '사', '스는', '▁주로', '▁보도', '▁듣', '도', '▁못한', '음', '식을', '▁주로', '▁먹', '었는데', '▁먹', '을', '▁때마다', '▁이', '리', '저', '리', '▁따', '져', '가', '며', '▁먹', '는', '▁듯', '▁했다', '.', '[EOS]', '[PAD]', '[PAD]', '[PAD]', '[PAD]', '[PAD]', '[PAD]', '[PAD]', '[PAD]', '[PAD]', '[PAD]', '[PAD]', '[PAD]', '[PAD]', '[PAD]', '[PAD]', '[PAD]', '[PAD]', '[PAD]', '[PAD]', '[PAD]', '[PAD]', '[PAD]', '[PAD]', '[PAD]', '[PAD]', '[PAD]', '[PAD]', '[PAD]', '[PAD]', '[PAD]', '[PAD]', '[PAD]', '[PAD]', '[PAD]', '[PAD]', '[PAD]', '[PAD]', '[PAD]', '[PAD]', '[PAD]', '[PAD]', '[PAD]', '[PAD]', '[PAD]', '[PAD]', '[PAD]', '[PAD]', '[PAD]', '[PAD]', '[PAD]', '[PAD]', '[PAD]', '[PAD]', '[PAD]', '[PAD]', '[PAD]', '[PAD]', '[PAD]']\n",
            "['[SOS]', '▁공', '주는', '▁주', '저', '하다', '가', '▁', '롤', '인', '가', '▁음식', '을', '▁먹', '어', '보', '았다', '[EOS]', '[PAD]', '[PAD]', '[PAD]', '[PAD]', '[PAD]', '[PAD]', '[PAD]', '[PAD]', '[PAD]', '[PAD]', '[PAD]', '[PAD]']\n",
            "['[SOS]', '▁그런', '나', '사', '스를', '▁보', '며', '▁아', '레', '나', '▁공', '주는', '▁잠시', '▁주', '저', '하다', '가', '▁', '롤', '인', '가', '▁하는', '▁음식', '을', '▁먹', '어', '보', '았다', '.', '[EOS]', '[PAD]', '[PAD]', '[PAD]', '[PAD]', '[PAD]', '[PAD]', '[PAD]', '[PAD]', '[PAD]', '[PAD]', '[PAD]', '[PAD]', '[PAD]', '[PAD]', '[PAD]', '[PAD]', '[PAD]', '[PAD]', '[PAD]', '[PAD]', '[PAD]', '[PAD]', '[PAD]', '[PAD]', '[PAD]', '[PAD]', '[PAD]', '[PAD]', '[PAD]', '[PAD]', '[PAD]', '[PAD]', '[PAD]', '[PAD]', '[PAD]', '[PAD]', '[PAD]', '[PAD]', '[PAD]', '[PAD]', '[PAD]', '[PAD]', '[PAD]', '[PAD]', '[PAD]', '[PAD]', '[PAD]', '[PAD]', '[PAD]', '[PAD]', '[PAD]', '[PAD]', '[PAD]', '[PAD]', '[PAD]', '[PAD]', '[PAD]', '[PAD]', '[PAD]', '[PAD]']\n"
          ],
          "name": "stdout"
        }
      ]
    },
    {
      "cell_type": "markdown",
      "metadata": {
        "id": "DaaEpra3KEnS"
      },
      "source": [
        "# Building the Model --> 실행"
      ]
    },
    {
      "cell_type": "markdown",
      "metadata": {
        "id": "IQntx79IdEGp"
      },
      "source": [
        "# Train 준비"
      ]
    },
    {
      "cell_type": "code",
      "metadata": {
        "id": "6Z8Z8q_fcL1B"
      },
      "source": [
        "INPUT_DIM = tokenizer.vocab_size\r\n",
        "OUTPUT_DIM = tokenizer.vocab_size\r\n",
        "HID_DIM = 256\r\n",
        "ENC_LAYERS = 3\r\n",
        "DEC_LAYERS = 3\r\n",
        "ENC_HEADS = 8\r\n",
        "DEC_HEADS = 8\r\n",
        "ENC_PF_DIM = 512\r\n",
        "DEC_PF_DIM = 512\r\n",
        "ENC_DROPOUT = 0.1\r\n",
        "DEC_DROPOUT = 0.1\r\n",
        "\r\n",
        "enc = Encoder(INPUT_DIM, \r\n",
        "              HID_DIM, \r\n",
        "              ENC_LAYERS, \r\n",
        "              ENC_HEADS, \r\n",
        "              ENC_PF_DIM, \r\n",
        "              ENC_DROPOUT, \r\n",
        "              device)\r\n",
        "\r\n",
        "dec = Decoder(OUTPUT_DIM, \r\n",
        "              HID_DIM, \r\n",
        "              DEC_LAYERS, \r\n",
        "              DEC_HEADS, \r\n",
        "              DEC_PF_DIM, \r\n",
        "              DEC_DROPOUT, \r\n",
        "              device)"
      ],
      "execution_count": 24,
      "outputs": []
    },
    {
      "cell_type": "code",
      "metadata": {
        "id": "UD8VBiXFc2uo"
      },
      "source": [
        "SRC_PAD_IDX = tokenizer.pad_token_id\r\n",
        "TRG_PAD_IDX = tokenizer.pad_token_id\r\n",
        "\r\n",
        "model = Seq2Seq(enc, dec, SRC_PAD_IDX, TRG_PAD_IDX, device).to(device)"
      ],
      "execution_count": 25,
      "outputs": []
    },
    {
      "cell_type": "code",
      "metadata": {
        "colab": {
          "base_uri": "https://localhost:8080/"
        },
        "id": "qyFRjDzpdJ76",
        "outputId": "b770cb5e-381e-4cf2-fb09-a9069a3bc7cb"
      },
      "source": [
        "def count_parameters(model):\r\n",
        "    return sum(p.numel() for p in model.parameters() if p.requires_grad)\r\n",
        "\r\n",
        "print(f'The model has {count_parameters(model):,} trainable parameters')"
      ],
      "execution_count": 26,
      "outputs": [
        {
          "output_type": "stream",
          "text": [
            "The model has 10,159,940 trainable parameters\n"
          ],
          "name": "stdout"
        }
      ]
    },
    {
      "cell_type": "code",
      "metadata": {
        "id": "QucNKWCBdUC0"
      },
      "source": [
        "def initialize_weights(m):\r\n",
        "    if hasattr(m, 'weight') and m.weight.dim() > 1:\r\n",
        "        nn.init.xavier_uniform_(m.weight.data)\r\n",
        "\r\n",
        "model.apply(initialize_weights);"
      ],
      "execution_count": 27,
      "outputs": []
    },
    {
      "cell_type": "code",
      "metadata": {
        "id": "yNBgedENdeRY"
      },
      "source": [
        "LEARNING_RATE = 0.0005\r\n",
        "\r\n",
        "optimizer = torch.optim.Adam(model.parameters(), lr = LEARNING_RATE)\r\n",
        "\r\n",
        "criterion = nn.CrossEntropyLoss(ignore_index = TRG_PAD_IDX)"
      ],
      "execution_count": 28,
      "outputs": []
    },
    {
      "cell_type": "code",
      "metadata": {
        "id": "6G6OgbLfdoJN"
      },
      "source": [
        "def train(model, iterator, optimizer, criterion, clip):\r\n",
        "    \r\n",
        "    model.train()\r\n",
        "    \r\n",
        "    epoch_loss = 0\r\n",
        "    \r\n",
        "    for i, batch in enumerate(iterator):\r\n",
        "        \r\n",
        "        src = batch.src\r\n",
        "        trg = batch.trg\r\n",
        "        \r\n",
        "        optimizer.zero_grad()\r\n",
        "        \r\n",
        "        ##print(src.shape)\r\n",
        "        ##print(trg.shape)\r\n",
        "        output, _ = model(src, trg[:,:-1])\r\n",
        "        ##print(output.shape)\r\n",
        "        #output = [batch size, trg len - 1, output dim]\r\n",
        "        #trg = [batch size, trg len]\r\n",
        "            \r\n",
        "        output_dim = output.shape[-1]\r\n",
        "            \r\n",
        "        output = output.contiguous().view(-1, output_dim)\r\n",
        "        trg = trg[:,1:].contiguous().view(-1)\r\n",
        "                \r\n",
        "        #output = [batch size * trg len - 1, output dim]\r\n",
        "        #trg = [batch size * trg len - 1]\r\n",
        "            \r\n",
        "        loss = criterion(output, trg)\r\n",
        "        \r\n",
        "        loss.backward()\r\n",
        "        \r\n",
        "        ##print('loss',loss)\r\n",
        "        torch.nn.utils.clip_grad_norm_(model.parameters(), clip)\r\n",
        "        \r\n",
        "        optimizer.step()\r\n",
        "        \r\n",
        "        epoch_loss += loss.item()\r\n",
        "        ##print('epoch_loss',epoch_loss)\r\n",
        "    return epoch_loss / len(iterator)"
      ],
      "execution_count": 35,
      "outputs": []
    },
    {
      "cell_type": "code",
      "metadata": {
        "id": "GdfEmlNHdvkX"
      },
      "source": [
        "def evaluate(model, iterator, criterion):\r\n",
        "    \r\n",
        "    model.eval()\r\n",
        "    \r\n",
        "    epoch_loss = 0\r\n",
        "    \r\n",
        "    with torch.no_grad():\r\n",
        "    \r\n",
        "        for i, batch in enumerate(iterator):\r\n",
        "\r\n",
        "            src = batch.src\r\n",
        "            trg = batch.trg\r\n",
        "\r\n",
        "            output, _ = model(src, trg[:,:-1])\r\n",
        "            \r\n",
        "            #output = [batch size, trg len - 1, output dim]\r\n",
        "            #trg = [batch size, trg len]\r\n",
        "            \r\n",
        "            output_dim = output.shape[-1]\r\n",
        "            \r\n",
        "            output = output.contiguous().view(-1, output_dim)\r\n",
        "            trg = trg[:,1:].contiguous().view(-1)\r\n",
        "            \r\n",
        "            #output = [batch size * trg len - 1, output dim]\r\n",
        "            #trg = [batch size * trg len - 1]\r\n",
        "            \r\n",
        "            loss = criterion(output, trg)\r\n",
        "\r\n",
        "            epoch_loss += loss.item()\r\n",
        "        \r\n",
        "    return epoch_loss / len(iterator)"
      ],
      "execution_count": 30,
      "outputs": []
    },
    {
      "cell_type": "code",
      "metadata": {
        "id": "hsdX1KJHd9LI"
      },
      "source": [
        "def epoch_time(start_time, end_time):\r\n",
        "    elapsed_time = end_time - start_time\r\n",
        "    elapsed_mins = int(elapsed_time / 60)\r\n",
        "    elapsed_secs = int(elapsed_time - (elapsed_mins * 60))\r\n",
        "    return elapsed_mins, elapsed_secs"
      ],
      "execution_count": 31,
      "outputs": []
    },
    {
      "cell_type": "markdown",
      "metadata": {
        "id": "EEZ2o1g6dIh-"
      },
      "source": [
        "# Train !!!!"
      ]
    },
    {
      "cell_type": "code",
      "metadata": {
        "colab": {
          "base_uri": "https://localhost:8080/"
        },
        "id": "S8ZsADe2e3av",
        "outputId": "962a5549-38e5-4d88-a63e-eecd1314d6da"
      },
      "source": [
        "bcnt = len(dataset_iterator)\r\n",
        "print(bcnt)\r\n",
        "train_iterator = dataset_iterator[0:bcnt-int(bcnt/10)]\r\n",
        "valid_iterator = dataset_iterator[bcnt-int(bcnt/10):bcnt]\r\n",
        "\r\n",
        "print('train',len(train_iterator))\r\n",
        "print('valid',len(valid_iterator))"
      ],
      "execution_count": 67,
      "outputs": [
        {
          "output_type": "stream",
          "text": [
            "183\n",
            "train 165\n",
            "valid 18\n"
          ],
          "name": "stdout"
        }
      ]
    },
    {
      "cell_type": "code",
      "metadata": {
        "colab": {
          "base_uri": "https://localhost:8080/"
        },
        "id": "po1OXs3sgmvI",
        "outputId": "ede5851f-19eb-4ac5-d134-0ccd432373d3"
      },
      "source": [
        "train_iterator[0].src"
      ],
      "execution_count": 68,
      "outputs": [
        {
          "output_type": "execute_result",
          "data": {
            "text/plain": [
              "tensor([[8002, 2549, 6855,  ...,    1,    1,    1],\n",
              "        [8002, 2149, 7119,  ...,    1,    1,    1],\n",
              "        [8002, 4847, 1185,  ...,    1,    1,    1],\n",
              "        ...,\n",
              "        [8002, 3609, 7096,  ...,    1,    1,    1],\n",
              "        [8002, 2089, 7089,  ...,    1,    1,    1],\n",
              "        [8002, 1023, 7280,  ...,    1,    1,    1]], device='cuda:0')"
            ]
          },
          "metadata": {
            "tags": []
          },
          "execution_count": 68
        }
      ]
    },
    {
      "cell_type": "code",
      "metadata": {
        "colab": {
          "base_uri": "https://localhost:8080/"
        },
        "id": "Y6lxOV5jd_id",
        "outputId": "2cceada4-32c7-4698-ccf4-bf15f1d8a277"
      },
      "source": [
        "\r\n",
        "N_EPOCHS = 50\r\n",
        "CLIP = 1\r\n",
        "\r\n",
        "best_valid_loss = float('inf')\r\n",
        "\r\n",
        "for epoch in range(N_EPOCHS):\r\n",
        "    \r\n",
        "    start_time = time.time()\r\n",
        "    \r\n",
        "    train_loss = train(model, train_iterator, optimizer, criterion, CLIP)\r\n",
        "    valid_loss = evaluate(model, valid_iterator, criterion)\r\n",
        "    \r\n",
        "    end_time = time.time()\r\n",
        "    \r\n",
        "    epoch_mins, epoch_secs = epoch_time(start_time, end_time)\r\n",
        "    \r\n",
        "    if valid_loss < best_valid_loss:\r\n",
        "        best_valid_loss = valid_loss\r\n",
        "        torch.save(model.state_dict(), 'tut6-model.pt')\r\n",
        "    \r\n",
        "    print(f'Epoch: {epoch+1:02} | Time: {epoch_mins}m {epoch_secs}s')\r\n",
        "    print(f'\\tTrain Loss: {train_loss:.3f} | Train PPL: {math.exp(train_loss):7.3f}')\r\n",
        "    print(f'\\t Val. Loss: {valid_loss:.3f} |  Val. PPL: {math.exp(valid_loss):7.3f}')"
      ],
      "execution_count": 85,
      "outputs": [
        {
          "output_type": "stream",
          "text": [
            "Epoch: 01 | Time: 0m 29s\n",
            "\tTrain Loss: 5.107 | Train PPL: 165.145\n",
            "\t Val. Loss: 5.282 |  Val. PPL: 196.691\n",
            "Epoch: 02 | Time: 0m 28s\n",
            "\tTrain Loss: 5.067 | Train PPL: 158.633\n",
            "\t Val. Loss: 5.270 |  Val. PPL: 194.462\n",
            "Epoch: 03 | Time: 0m 28s\n",
            "\tTrain Loss: 5.030 | Train PPL: 152.891\n",
            "\t Val. Loss: 5.257 |  Val. PPL: 191.975\n",
            "Epoch: 04 | Time: 0m 28s\n",
            "\tTrain Loss: 4.994 | Train PPL: 147.577\n",
            "\t Val. Loss: 5.251 |  Val. PPL: 190.803\n",
            "Epoch: 05 | Time: 0m 28s\n",
            "\tTrain Loss: 4.963 | Train PPL: 142.956\n",
            "\t Val. Loss: 5.248 |  Val. PPL: 190.264\n",
            "Epoch: 06 | Time: 0m 28s\n",
            "\tTrain Loss: 4.932 | Train PPL: 138.591\n",
            "\t Val. Loss: 5.240 |  Val. PPL: 188.663\n",
            "Epoch: 07 | Time: 0m 28s\n",
            "\tTrain Loss: 4.900 | Train PPL: 134.353\n",
            "\t Val. Loss: 5.239 |  Val. PPL: 188.395\n",
            "Epoch: 08 | Time: 0m 28s\n",
            "\tTrain Loss: 4.868 | Train PPL: 130.103\n",
            "\t Val. Loss: 5.232 |  Val. PPL: 187.191\n",
            "Epoch: 09 | Time: 0m 28s\n",
            "\tTrain Loss: 4.839 | Train PPL: 126.313\n",
            "\t Val. Loss: 5.231 |  Val. PPL: 186.962\n",
            "Epoch: 10 | Time: 0m 28s\n",
            "\tTrain Loss: 4.809 | Train PPL: 122.615\n",
            "\t Val. Loss: 5.222 |  Val. PPL: 185.297\n",
            "Epoch: 11 | Time: 0m 28s\n",
            "\tTrain Loss: 4.779 | Train PPL: 118.988\n",
            "\t Val. Loss: 5.222 |  Val. PPL: 185.380\n",
            "Epoch: 12 | Time: 0m 28s\n",
            "\tTrain Loss: 4.751 | Train PPL: 115.738\n",
            "\t Val. Loss: 5.220 |  Val. PPL: 184.869\n",
            "Epoch: 13 | Time: 0m 28s\n",
            "\tTrain Loss: 4.725 | Train PPL: 112.708\n",
            "\t Val. Loss: 5.217 |  Val. PPL: 184.469\n",
            "Epoch: 14 | Time: 0m 28s\n",
            "\tTrain Loss: 4.701 | Train PPL: 110.078\n",
            "\t Val. Loss: 5.222 |  Val. PPL: 185.242\n",
            "Epoch: 15 | Time: 0m 28s\n",
            "\tTrain Loss: 4.677 | Train PPL: 107.492\n",
            "\t Val. Loss: 5.225 |  Val. PPL: 185.932\n",
            "Epoch: 16 | Time: 0m 28s\n",
            "\tTrain Loss: 4.653 | Train PPL: 104.896\n",
            "\t Val. Loss: 5.229 |  Val. PPL: 186.672\n",
            "Epoch: 17 | Time: 0m 28s\n",
            "\tTrain Loss: 4.633 | Train PPL: 102.833\n",
            "\t Val. Loss: 5.224 |  Val. PPL: 185.670\n",
            "Epoch: 18 | Time: 0m 28s\n",
            "\tTrain Loss: 4.613 | Train PPL: 100.823\n",
            "\t Val. Loss: 5.225 |  Val. PPL: 185.871\n",
            "Epoch: 19 | Time: 0m 28s\n",
            "\tTrain Loss: 4.600 | Train PPL:  99.516\n",
            "\t Val. Loss: 5.223 |  Val. PPL: 185.458\n",
            "Epoch: 20 | Time: 0m 28s\n",
            "\tTrain Loss: 4.588 | Train PPL:  98.293\n",
            "\t Val. Loss: 5.222 |  Val. PPL: 185.296\n",
            "Epoch: 21 | Time: 0m 28s\n",
            "\tTrain Loss: 4.573 | Train PPL:  96.864\n",
            "\t Val. Loss: 5.222 |  Val. PPL: 185.293\n",
            "Epoch: 22 | Time: 0m 28s\n",
            "\tTrain Loss: 4.558 | Train PPL:  95.436\n",
            "\t Val. Loss: 5.234 |  Val. PPL: 187.540\n",
            "Epoch: 23 | Time: 0m 28s\n",
            "\tTrain Loss: 4.548 | Train PPL:  94.401\n",
            "\t Val. Loss: 5.234 |  Val. PPL: 187.487\n",
            "Epoch: 24 | Time: 0m 28s\n",
            "\tTrain Loss: 4.537 | Train PPL:  93.429\n",
            "\t Val. Loss: 5.252 |  Val. PPL: 190.891\n",
            "Epoch: 25 | Time: 0m 28s\n",
            "\tTrain Loss: 4.527 | Train PPL:  92.454\n",
            "\t Val. Loss: 5.251 |  Val. PPL: 190.677\n",
            "Epoch: 26 | Time: 0m 28s\n",
            "\tTrain Loss: 4.518 | Train PPL:  91.684\n",
            "\t Val. Loss: 5.251 |  Val. PPL: 190.807\n",
            "Epoch: 27 | Time: 0m 28s\n",
            "\tTrain Loss: 4.510 | Train PPL:  90.898\n",
            "\t Val. Loss: 5.250 |  Val. PPL: 190.500\n",
            "Epoch: 28 | Time: 0m 28s\n",
            "\tTrain Loss: 4.496 | Train PPL:  89.689\n",
            "\t Val. Loss: 5.249 |  Val. PPL: 190.361\n",
            "Epoch: 29 | Time: 0m 28s\n",
            "\tTrain Loss: 4.483 | Train PPL:  88.478\n",
            "\t Val. Loss: 5.252 |  Val. PPL: 190.895\n",
            "Epoch: 30 | Time: 0m 28s\n",
            "\tTrain Loss: 4.469 | Train PPL:  87.260\n",
            "\t Val. Loss: 5.248 |  Val. PPL: 190.168\n",
            "Epoch: 31 | Time: 0m 28s\n",
            "\tTrain Loss: 4.457 | Train PPL:  86.230\n",
            "\t Val. Loss: 5.251 |  Val. PPL: 190.718\n",
            "Epoch: 32 | Time: 0m 28s\n",
            "\tTrain Loss: 4.446 | Train PPL:  85.247\n",
            "\t Val. Loss: 5.246 |  Val. PPL: 189.846\n",
            "Epoch: 33 | Time: 0m 28s\n",
            "\tTrain Loss: 4.437 | Train PPL:  84.562\n",
            "\t Val. Loss: 5.244 |  Val. PPL: 189.390\n",
            "Epoch: 34 | Time: 0m 28s\n",
            "\tTrain Loss: 4.427 | Train PPL:  83.702\n",
            "\t Val. Loss: 5.245 |  Val. PPL: 189.666\n",
            "Epoch: 35 | Time: 0m 28s\n",
            "\tTrain Loss: 4.413 | Train PPL:  82.545\n",
            "\t Val. Loss: 5.252 |  Val. PPL: 191.010\n",
            "Epoch: 36 | Time: 0m 28s\n",
            "\tTrain Loss: 4.405 | Train PPL:  81.824\n",
            "\t Val. Loss: 5.254 |  Val. PPL: 191.351\n",
            "Epoch: 37 | Time: 0m 28s\n",
            "\tTrain Loss: 4.395 | Train PPL:  81.035\n",
            "\t Val. Loss: 5.254 |  Val. PPL: 191.357\n",
            "Epoch: 38 | Time: 0m 28s\n",
            "\tTrain Loss: 4.388 | Train PPL:  80.444\n",
            "\t Val. Loss: 5.259 |  Val. PPL: 192.383\n",
            "Epoch: 39 | Time: 0m 28s\n",
            "\tTrain Loss: 4.380 | Train PPL:  79.863\n",
            "\t Val. Loss: 5.258 |  Val. PPL: 192.110\n",
            "Epoch: 40 | Time: 0m 28s\n",
            "\tTrain Loss: 4.365 | Train PPL:  78.617\n",
            "\t Val. Loss: 5.263 |  Val. PPL: 193.008\n",
            "Epoch: 41 | Time: 0m 28s\n",
            "\tTrain Loss: 4.355 | Train PPL:  77.882\n",
            "\t Val. Loss: 5.262 |  Val. PPL: 192.798\n",
            "Epoch: 42 | Time: 0m 28s\n",
            "\tTrain Loss: 4.351 | Train PPL:  77.545\n",
            "\t Val. Loss: 5.261 |  Val. PPL: 192.681\n",
            "Epoch: 43 | Time: 0m 28s\n",
            "\tTrain Loss: 4.352 | Train PPL:  77.627\n",
            "\t Val. Loss: 5.261 |  Val. PPL: 192.667\n",
            "Epoch: 44 | Time: 0m 28s\n",
            "\tTrain Loss: 4.346 | Train PPL:  77.143\n",
            "\t Val. Loss: 5.264 |  Val. PPL: 193.343\n",
            "Epoch: 45 | Time: 0m 28s\n",
            "\tTrain Loss: 4.341 | Train PPL:  76.796\n",
            "\t Val. Loss: 5.262 |  Val. PPL: 192.935\n",
            "Epoch: 46 | Time: 0m 28s\n",
            "\tTrain Loss: 4.333 | Train PPL:  76.177\n",
            "\t Val. Loss: 5.270 |  Val. PPL: 194.354\n",
            "Epoch: 47 | Time: 0m 28s\n",
            "\tTrain Loss: 4.332 | Train PPL:  76.111\n",
            "\t Val. Loss: 5.265 |  Val. PPL: 193.535\n",
            "Epoch: 48 | Time: 0m 28s\n",
            "\tTrain Loss: 4.324 | Train PPL:  75.505\n",
            "\t Val. Loss: 5.267 |  Val. PPL: 193.842\n",
            "Epoch: 49 | Time: 0m 28s\n",
            "\tTrain Loss: 4.317 | Train PPL:  74.996\n",
            "\t Val. Loss: 5.261 |  Val. PPL: 192.586\n",
            "Epoch: 50 | Time: 0m 28s\n",
            "\tTrain Loss: 4.309 | Train PPL:  74.363\n",
            "\t Val. Loss: 5.257 |  Val. PPL: 191.872\n"
          ],
          "name": "stdout"
        }
      ]
    },
    {
      "cell_type": "code",
      "metadata": {
        "id": "jXsqseyMlPzB"
      },
      "source": [
        "def complete_sentence(sentence, model, device, max_len = 50):\r\n",
        "    \r\n",
        "    model.eval()\r\n",
        "    '''\r\n",
        "    if isinstance(sentence, str):\r\n",
        "        nlp = spacy.load('de_core_news_sm')\r\n",
        "        tokens = [token.text.lower() for token in nlp(sentence)]\r\n",
        "    else:\r\n",
        "        tokens = [token.lower() for token in sentence]\r\n",
        "    '''\r\n",
        "    tokens = tokenizer.tokenize_wl(sentence)\r\n",
        "    #tokens = [tokenizer.bos_token] + tokens + [tokenizer.eos_token]\r\n",
        "\r\n",
        "    src_indexes = [tokenizer.convert_tokens_to_ids(token) for token in tokens]\r\n",
        "    print(src_indexes)\r\n",
        "    src_tensor = torch.LongTensor(src_indexes).unsqueeze(0).to(device)\r\n",
        "    print(src_tensor)\r\n",
        "    src_mask = model.make_src_mask(src_tensor)\r\n",
        "    \r\n",
        "    with torch.no_grad():\r\n",
        "        enc_src = model.encoder(src_tensor, src_mask)\r\n",
        "\r\n",
        "    trg_indexes = [tokenizer.bos_token_id]\r\n",
        "\r\n",
        "    for i in range(max_len):\r\n",
        "\r\n",
        "        trg_tensor = torch.LongTensor(trg_indexes).unsqueeze(0).to(device)\r\n",
        "\r\n",
        "        trg_mask = model.make_trg_mask(trg_tensor)\r\n",
        "        \r\n",
        "        with torch.no_grad():\r\n",
        "            output, attention = model.decoder(trg_tensor, enc_src, trg_mask, src_mask)\r\n",
        "        \r\n",
        "        pred_token = output.argmax(2)[:,-1].item()\r\n",
        "        \r\n",
        "        trg_indexes.append(pred_token)\r\n",
        "\r\n",
        "        if pred_token == tokenizer.eos_token_id: # trg_field.vocab.stoi[trg_field.eos_token]:\r\n",
        "            break\r\n",
        "    \r\n",
        "    trg_tokens = [tokenizer.convert_ids_to_tokens(i) for i in trg_indexes]\r\n",
        "    \r\n",
        "    return trg_tokens[1:], attention"
      ],
      "execution_count": 94,
      "outputs": []
    },
    {
      "cell_type": "code",
      "metadata": {
        "id": "guSK6Fasm8rC",
        "outputId": "05a94515-2e47-4e92-ceda-5066ce10e633",
        "colab": {
          "base_uri": "https://localhost:8080/"
        }
      },
      "source": [
        "trg, _ = complete_sentence('신데렐라 신발 뛰어 벗겨',model,device)"
      ],
      "execution_count": 92,
      "outputs": [
        {
          "output_type": "stream",
          "text": [
            "[8002, 3010, 5850, 6057, 6003, 3010, 6295, 1868, 2331, 5411, 8003]\n",
            "tensor([[8002, 3010, 5850, 6057, 6003, 3010, 6295, 1868, 2331, 5411, 8003]],\n",
            "       device='cuda:0')\n"
          ],
          "name": "stdout"
        }
      ]
    },
    {
      "cell_type": "code",
      "metadata": {
        "id": "u7bUE-sNnL97",
        "outputId": "f68fee31-2601-476d-d5c9-9c8a1450db2e",
        "colab": {
          "base_uri": "https://localhost:8080/"
        }
      },
      "source": [
        "print(''.join(trg))"
      ],
      "execution_count": 93,
      "outputs": [
        {
          "output_type": "stream",
          "text": [
            "▁」▁「그럼,▁」▁「그럼,▁「그럼,▁」▁「그럼,▁「그럼,▁「그럼,▁」▁「그럼,▁「그럼,▁「그럼,▁「그럼,▁「그럼,▁「그럼,▁「그럼,▁「그럼,▁「그럼,▁「그럼,▁「그럼,▁「그럼,▁「\n"
          ],
          "name": "stdout"
        }
      ]
    },
    {
      "cell_type": "code",
      "metadata": {
        "id": "G1g-rZK5nkEE",
        "outputId": "b5012e2d-8812-4c77-a172-b8f167b6f3a0",
        "colab": {
          "base_uri": "https://localhost:8080/"
        }
      },
      "source": [
        "extract_key(sentences[101])"
      ],
      "execution_count": 62,
      "outputs": [
        {
          "output_type": "execute_result",
          "data": {
            "text/plain": [
              "['차갑게', '공주의', '일어서려던', '그라시그', '공작이잠시주춤했다']"
            ]
          },
          "metadata": {
            "tags": []
          },
          "execution_count": 62
        }
      ]
    },
    {
      "cell_type": "code",
      "metadata": {
        "id": "alNmLf1bnnDc",
        "outputId": "d145bcb9-24c9-4460-f39e-0beadc74267f",
        "colab": {
          "base_uri": "https://localhost:8080/"
        }
      },
      "source": [
        "trg, _ = complete_sentence('차갑게 공주의 일어서려던 그라시그 공작이잠시주춤했다',model,device)\r\n",
        "print(''.join(trg))"
      ],
      "execution_count": 88,
      "outputs": [
        {
          "output_type": "stream",
          "text": [
            "[8002, 4402, 5345, 5400, 1023, 7284, 3803, 6855, 6553, 6060, 5842, 1185, 6003, 6705, 5538, 1023, 7170, 7096, 7175, 6705, 7276, 7469, 7869, 8003]\n",
            "tensor([[8002, 4402, 5345, 5400, 1023, 7284, 3803, 6855, 6553, 6060, 5842, 1185,\n",
            "         6003, 6705, 5538, 1023, 7170, 7096, 7175, 6705, 7276, 7469, 7869, 8003]],\n",
            "       device='cuda:0')\n",
            "▁」▁「그럼,▁」▁「그럼,▁「그럼,▁」▁「그럼,▁「그럼,▁「그럼,▁」▁「그럼,▁「그럼,▁「\n"
          ],
          "name": "stdout"
        }
      ]
    }
  ]
}