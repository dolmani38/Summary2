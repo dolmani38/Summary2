{
  "nbformat": 4,
  "nbformat_minor": 0,
  "metadata": {
    "colab": {
      "name": "Untitled22.ipynb",
      "provenance": [],
      "authorship_tag": "ABX9TyOdpsFBlncuklrxvYnWx+0A",
      "include_colab_link": true
    },
    "kernelspec": {
      "name": "python3",
      "display_name": "Python 3"
    }
  },
  "cells": [
    {
      "cell_type": "markdown",
      "metadata": {
        "id": "view-in-github",
        "colab_type": "text"
      },
      "source": [
        "<a href=\"https://colab.research.google.com/github/dolmani38/Summary2/blob/main/%ED%95%9C%EA%B8%80%EB%AC%B8%EC%9E%A5%EC%88%98%EC%A7%91.ipynb\" target=\"_parent\"><img src=\"https://colab.research.google.com/assets/colab-badge.svg\" alt=\"Open In Colab\"/></a>"
      ]
    },
    {
      "cell_type": "code",
      "metadata": {
        "colab": {
          "base_uri": "https://localhost:8080/"
        },
        "id": "_oxj7pivHf32",
        "outputId": "fb62b53d-88c9-42b3-b804-d186608d0b6f"
      },
      "source": [
        "import urllib.request\n",
        "import nltk\n",
        "nltk.download('punkt')\n",
        "\n",
        "urls = ['https://raw.githubusercontent.com/dolmani38/Summary/master/data/%EC%95%A0%EA%B1%B0%EC%84%9C%ED%81%AC%EB%A6%AC%EC%8A%A4%ED%8B%B0-ABC%20%EC%82%B4%EC%9D%B8%EC%82%AC%EA%B1%B4.txt',\n",
        "        'https://raw.githubusercontent.com/dolmani38/Summary/master/data/%EC%95%A0%EA%B1%B0%EC%84%9C%ED%81%AC%EB%A6%AC%EC%8A%A4%ED%8B%B0-%EA%B7%B8%EB%A6%AC%EA%B3%A0%20%EC%95%84%EB%AC%B4%EB%8F%84%20%EC%97%86%EC%97%88%EB%8B%A4.txt',\n",
        "        'https://raw.githubusercontent.com/dolmani38/Summary/master/data/%EC%95%A0%EA%B1%B0%EC%84%9C%ED%81%AC%EB%A6%AC%EC%8A%A4%ED%8B%B0-%EB%82%98%EC%9D%BC%EA%B0%95%EC%9D%98%20%EC%A3%BD%EC%9D%8C.txt',\n",
        "        'https://raw.githubusercontent.com/dolmani38/Summary/master/data/%EC%95%A0%EA%B1%B0%EC%84%9C%ED%81%AC%EB%A6%AC%EC%8A%A4%ED%8B%B0-%EB%A7%8C%EC%B0%AC%ED%9A%8C%EC%9D%98%2013%EC%9D%B8.txt',\n",
        "        'https://raw.githubusercontent.com/dolmani38/Summary/master/data/%EC%95%A0%EA%B1%B0%EC%84%9C%ED%81%AC%EB%A6%AC%EC%8A%A4%ED%8B%B0-%EB%A9%94%EC%86%8C%ED%8F%AC%ED%83%80%EB%AF%B8%EC%95%84%EC%9D%98%20%EC%A3%BD%EC%9D%8C.txt',\n",
        "        'https://raw.githubusercontent.com/dolmani38/Summary/master/data/%EC%95%A0%EA%B1%B0%EC%84%9C%ED%81%AC%EB%A6%AC%EC%8A%A4%ED%8B%B0-%EB%AA%A9%EC%82%AC%EA%B4%80%EC%82%B4%EC%9D%B8.txt',\n",
        "        'https://raw.githubusercontent.com/dolmani38/Summary/master/data/%EC%95%A0%EA%B1%B0%EC%84%9C%ED%81%AC%EB%A6%AC%EC%8A%A4%ED%8B%B0-%EB%B2%99%EC%96%B4%EB%A6%AC%20%EB%AA%A9%EA%B2%A9%EC%9E%90.txt',\n",
        "        'https://raw.githubusercontent.com/dolmani38/Summary/master/data/%EC%95%A0%EA%B1%B0%EC%84%9C%ED%81%AC%EB%A6%AC%EC%8A%A4%ED%8B%B0-%EB%B9%84%EB%B0%80%20%EC%84%9C%EB%A5%98%EB%A5%BC%20%EB%85%B8%EB%A0%A4%EB%9D%BC.txt',\n",
        "        'https://raw.githubusercontent.com/dolmani38/Summary/master/data/%EC%95%A0%EA%B1%B0%EC%84%9C%ED%81%AC%EB%A6%AC%EC%8A%A4%ED%8B%B0-%EC%8A%A4%ED%8E%98%EC%9D%B8%EA%B6%A4%EC%A7%9D%EC%9D%98%20%EB%B9%84%EB%B0%80.txt',\n",
        "        'https://raw.githubusercontent.com/dolmani38/Summary/master/data/%EC%95%A0%EA%B1%B0%EC%84%9C%ED%81%AC%EB%A6%AC%EC%8A%A4%ED%8B%B0-%EC%95%84%ED%8C%8C%ED%8A%B8%EC%97%90%20%EB%82%98%ED%83%80%EB%82%9C%20%EC%9A%94%EC%A0%95.txt',\n",
        "        'https://raw.githubusercontent.com/dolmani38/Summary/master/data/%EC%95%A0%EA%B1%B0%EC%84%9C%ED%81%AC%EB%A6%AC%EC%8A%A4%ED%8B%B0-%EC%95%A0%ED%81%AC%EB%A1%9C%EC%9D%B4%EB%93%9C%20%EC%82%B4%EC%9D%B8%20%EC%82%AC%EA%B1%B4.txt',\n",
        "        'https://raw.githubusercontent.com/dolmani38/Summary/master/data/%EC%95%A0%EA%B1%B0%EC%84%9C%ED%81%AC%EB%A6%AC%EC%8A%A4%ED%8B%B0-%EC%98%88%EA%B3%A0%20%EC%82%B4%EC%9D%B8.txt',\n",
        "        'https://raw.githubusercontent.com/dolmani38/Summary/master/data/%EC%95%A0%EA%B1%B0%EC%84%9C%ED%81%AC%EB%A6%AC%EC%8A%A4%ED%8B%B0-%EC%A5%90%EB%8D%AB.txt',\n",
        "        'https://raw.githubusercontent.com/dolmani38/Summary/master/data/%EC%95%A0%EA%B1%B0%EC%84%9C%ED%81%AC%EB%A6%AC%EC%8A%A4%ED%8B%B0-%EC%BB%A4%ED%8A%BC.txt',\n",
        "        'https://raw.githubusercontent.com/dolmani38/Summary/master/data/%EC%95%A0%EA%B1%B0%EC%84%9C%ED%81%AC%EB%A6%AC%EC%8A%A4%ED%8B%B0-%ED%81%AC%EB%A6%AC%EC%8A%A4%EB%A7%88%EC%8A%A4%20%ED%91%B8%EB%94%A9%EC%9D%98%20%EB%AA%A8%ED%97%98.txt',\n",
        "        'https://raw.githubusercontent.com/dolmani38/Summary/master/data/%EC%95%A0%EA%B1%B0%EC%84%9C%ED%81%AC%EB%A6%AC%EC%8A%A4%ED%8B%B0-%ED%91%B8%EB%A5%B8%EC%97%B4%EC%B0%A8%EC%9D%98%EC%A3%BD%EC%9D%8C.txt',\n",
        "        'https://raw.githubusercontent.com/dolmani38/Summary/master/data/%EC%95%A0%EA%B1%B0%EC%84%9C%ED%81%AC%EB%A6%AC%EC%8A%A4%ED%8B%B0-%ED%99%94%EC%9A%94%EC%9D%BC%20%ED%81%B4%EB%9F%BD%EC%9D%98%20%EC%82%B4%EC%9D%B8.txt']\n",
        "\n",
        "# 간단한 전처리\n",
        "def clean_text(txt):\n",
        "    txt = txt.replace('\\n',' ')\n",
        "    txt = txt.replace('\\r',' ')    \n",
        "    txt = txt.replace('=','')\n",
        "    txt = txt.replace('\\\"','')   \n",
        "    txt = txt.replace('\\'','')\n",
        "    txt = txt.replace(',','')\n",
        "    txt = txt.replace('..','')\n",
        "    txt = txt.replace('...','')\n",
        "    #txt = txt.replace('.','. ')\n",
        "    txt = txt.replace('.','. ')\n",
        "    txt = txt.replace('  ',' ')\n",
        "    txt = txt.replace('  ',' ')    \n",
        "    txt = txt.replace('  ',' ')   \n",
        "    txt = txt.replace('  ',' ')           \n",
        "    txt = txt.replace('  ',' ')\n",
        "    txt = txt.replace('  ',' ')    \n",
        "    txt = txt.replace('  ',' ')   \n",
        "    txt = txt.replace('  ',' ')             \n",
        "    return txt.strip()\n",
        "\n",
        "def collect_korean_sentences(source_urls=[]):\n",
        "    ko_sentences_dataset = []\n",
        "    for url in source_urls:\n",
        "        raw_text = urllib.request.urlopen(url).read().decode('utf-8')\n",
        "        ko_sentences_dataset += nltk.sent_tokenize(clean_text(raw_text))\n",
        "\n",
        "    sentences = []\n",
        "    for txt in ko_sentences_dataset:\n",
        "        txt = txt.strip()\n",
        "        if len(txt) > 40:\n",
        "            sentences.append(txt)\n",
        "\n",
        "    return sentences"
      ],
      "execution_count": null,
      "outputs": [
        {
          "output_type": "stream",
          "text": [
            "[nltk_data] Downloading package punkt to /root/nltk_data...\n",
            "[nltk_data]   Unzipping tokenizers/punkt.zip.\n"
          ],
          "name": "stdout"
        }
      ]
    },
    {
      "cell_type": "code",
      "metadata": {
        "id": "kCdexUUnI0fZ"
      },
      "source": [
        "korean_sentences = collect_korean_sentences(urls)"
      ],
      "execution_count": null,
      "outputs": []
    },
    {
      "cell_type": "code",
      "metadata": {
        "colab": {
          "base_uri": "https://localhost:8080/"
        },
        "id": "eOgR8yl2JJRc",
        "outputId": "7f8a6cf5-3332-4c69-9ceb-21690c3c0af4"
      },
      "source": [
        "len(korean_sentences)"
      ],
      "execution_count": null,
      "outputs": [
        {
          "output_type": "execute_result",
          "data": {
            "text/plain": [
              "18036"
            ]
          },
          "metadata": {
            "tags": []
          },
          "execution_count": 7
        }
      ]
    },
    {
      "cell_type": "code",
      "metadata": {
        "colab": {
          "base_uri": "https://localhost:8080/",
          "height": 36
        },
        "id": "gcWLGtO3JMqr",
        "outputId": "d164bbd9-0291-4347-d9d9-29748c011f37"
      },
      "source": [
        "korean_sentences[100]"
      ],
      "execution_count": null,
      "outputs": [
        {
          "output_type": "execute_result",
          "data": {
            "application/vnd.google.colaboratory.intrinsic+json": {
              "type": "string"
            },
            "text/plain": [
              "'그러나 당신이 받으셨다는 그 이상한 편지도 고려해 보고 싶습니다, 포아로 씨.'"
            ]
          },
          "metadata": {
            "tags": []
          },
          "execution_count": 8
        }
      ]
    },
    {
      "cell_type": "markdown",
      "metadata": {
        "id": "20LUFunskl89"
      },
      "source": [
        "# 한글 뉴스 크롤러"
      ]
    },
    {
      "cell_type": "code",
      "metadata": {
        "id": "YbnthNhikpMA",
        "colab": {
          "base_uri": "https://localhost:8080/"
        },
        "outputId": "9da8369a-377d-4cf3-99a9-b8aa2ceb6d08"
      },
      "source": [
        "if True:\n",
        "    from google.colab import drive\n",
        "    drive.mount('/content/drive')"
      ],
      "execution_count": null,
      "outputs": [
        {
          "output_type": "stream",
          "text": [
            "Mounted at /content/drive\n"
          ],
          "name": "stdout"
        }
      ]
    },
    {
      "cell_type": "code",
      "metadata": {
        "id": "E1gk6vJdoJHO"
      },
      "source": [
        "if False:\n",
        "    f = open(\"/content/drive/MyDrive/Colab Notebooks/summary/korean_news_corpus.csv\", \"a\")\n",
        "    f.write(\"title,contents\\r\\n\")\n",
        "    f.close() "
      ],
      "execution_count": null,
      "outputs": []
    },
    {
      "cell_type": "code",
      "metadata": {
        "id": "DbGS6FLsLml0"
      },
      "source": [
        "import sys\n",
        "import requests\n",
        "import pandas as pd\n",
        "import datetime\n",
        "import requests\n",
        "import re\n",
        "from bs4 import BeautifulSoup\n",
        "from tqdm import tqdm_notebook\n",
        "from multiprocessing import Pool\n",
        "\n",
        "client_id = \"waXxTjNdGjzj8xtT3nbF\" #1.에서 취득한 아이디 넣기\n",
        "client_secret = \"H6mejnkuYx\"  #1. 에서 취득한 키 넣기\n",
        "\n",
        "\n",
        "# 간단한 전처리\n",
        "def clean_text(txt):\n",
        "    txt = txt.replace('\\n',' ')\n",
        "    txt = txt.replace('\\r',' ')    \n",
        "    txt = txt.replace('=','')\n",
        "    txt = txt.replace('\\\"','')   \n",
        "    txt = txt.replace('\\'','')\n",
        "    txt = txt.replace(',','')\n",
        "    txt = txt.replace('..','')\n",
        "    txt = txt.replace('...','')\n",
        "    txt = txt.replace('”','')\n",
        "    txt = txt.replace('.','. ')\n",
        "    txt = txt.replace('  ',' ')\n",
        "    txt = txt.replace('  ',' ')    \n",
        "    txt = txt.replace('  ',' ')   \n",
        "    txt = txt.replace('  ',' ')           \n",
        "    txt = txt.replace('  ',' ')\n",
        "    txt = txt.replace('  ',' ')    \n",
        "    txt = txt.replace('  ',' ')   \n",
        "    txt = txt.replace('  ',' ')             \n",
        "    return txt.strip()\n",
        "\n",
        "def clean_html(x):\n",
        "    x = re.sub(\"\\&\\w*\\;\",\"\",x)\n",
        "    x = re.sub(\"<.*?>\",\"\",x)\n",
        "    return x\n",
        "\n",
        "def get_news_urls(search_word = '코로나',max_display = 100):\n",
        "    encode_type = 'json' #출력 방식 json 또는 xml\n",
        "    #max_display = 100 #출력 뉴스 수\n",
        "    sort = 'date' #결과값의 정렬기준 시간순 date, 관련도 순 sim\n",
        "    start = 1 # 출력 위치\n",
        "\n",
        "    url = f\"https://openapi.naver.com/v1/search/news.{encode_type}?query={search_word}&display={str(int(max_display))}&start={str(int(start))}&sort={sort}\"\n",
        "\n",
        "    #print(url)\n",
        "    #헤더에 아이디와 키 정보 넣기\n",
        "    headers = {'X-Naver-Client-Id' : client_id,\n",
        "            'X-Naver-Client-Secret':client_secret\n",
        "            }\n",
        "\n",
        "    df = None\n",
        "    #HTTP요청 보내기\n",
        "    r = requests.get(url, headers=headers)\n",
        "    if r.status_code == 200:\n",
        "        #요청 결과 보기 200 이면 정상적으로 요청 완료\n",
        "        df = pd.DataFrame(r.json()['items'])\n",
        "        df['title'] = df['title'].apply(lambda x: clean_html(x))\n",
        "        df['description'] = df['description'].apply(lambda x: clean_html(x))\n",
        "    return df\n",
        "\n",
        "def get_news_title_contents(url):\n",
        "    headers = {'User-Agent':'Chrome/66.0.3359.181'}\n",
        "    main_news = []\n",
        "    result = requests.get(url,headers=headers)\n",
        "    if result.status_code == 200:\n",
        "        bs_obj = BeautifulSoup(result.content, \"html.parser\")\n",
        "        #print(bs_obj)\n",
        "        try:\n",
        "            title = bs_obj.find(\"h3\",{\"id\":\"articleTitle\"}).text\n",
        "            body = bs_obj.find(\"div\",{\"class\":\"_article_body_contents\"}).get_text(\"\\n\").replace(\"// flash 오류를 우회하기 위한 함수 추가\",\"\").replace(\"function _flash_removeCallback() {}\",\"\")\n",
        "            #aid = bs_obj.find(\"div\",{\"class\":\"article_header\"}).find(\"img\")[\"title\"]\n",
        "            main_news = [clean_text(title),clean_text(body)]\n",
        "        except:\n",
        "            pass\n",
        "            #print(\"Unexpected error:\", sys.exc_info()[0])\n",
        "    return main_news    "
      ],
      "execution_count": null,
      "outputs": []
    },
    {
      "cell_type": "code",
      "metadata": {
        "id": "I5_baFy0MA9c"
      },
      "source": [
        "def make_corpus(search_word = '코로나'):\n",
        "    f = open(\"/content/drive/MyDrive/Colab Notebooks/summary/korean_news_corpus.csv\", \"a\")\n",
        "    df = get_news_urls(search_word = search_word,max_display = 100)\n",
        "    if df is not None:\n",
        "        for url in df['link']:\n",
        "            if url.startswith('https://news.naver.com/'):\n",
        "                #print(url)\n",
        "                news = get_news_title_contents(url)\n",
        "                if (len(news) == 2):\n",
        "                    print('\\rtitle:',news[0],end=\"\", flush=True)\n",
        "                    f.write(news[0] + \",\" + news[1] + \"\\r\\n\")\n",
        "    f.close() "
      ],
      "execution_count": null,
      "outputs": []
    },
    {
      "cell_type": "code",
      "metadata": {
        "id": "ZFBFu4kHonnE"
      },
      "source": [
        " if False:\n",
        "    keywords = ['뉴스','속보','스포츠','광명','금융','자동','인터뷰','대출','신도시','바이오','경쟁','공무원','재난','신도시','청약','주문','협력','교회','충성','요양','병원','백신']\n",
        "    keywords += ['택시','유족','방치','DNA','중대본','공수처','검찰','서울','시장','단일화','시간표','야권','협상','여론','중도','특검','포비아','구토','수도권','증강현실','게임','선물','시계','장사','거리','허탈','IPO','상견례','결정','악재','외국계','희소식','배터리','질주']\n",
        "    keywords += ['미세먼지','봄비','전국','소식','강원','우산','미나리','뉴욕','미국','출연','배우','아카네미','기생충','오스카','방탄','소년','BTS','앨범','판매','누리꾼','클릭','차트','음반','폭스바겐','아틀라스','유지','비용','세단','화사','궁궐','왕릉','유적','개화','절정','4월','문화재','조선','헤드','라인','국가','대표']\n",
        "    keywords += ['접종','중단']\n",
        "    keywords += ['유럽','국가','예방','선업','특정','태국','연기','혈전','관계','확인','차원','혈액','응고','총리','접종','취소','부작용','갈등','발화','홍콩','보고','입법부','인사','자리','선거','개편','배척','통과','투표','버튼','미소','시진핑']\n",
        "    for word in keywords:\n",
        "        print('keyword:',word)\n",
        "        make_corpus(search_word = word)"
      ],
      "execution_count": null,
      "outputs": []
    },
    {
      "cell_type": "code",
      "metadata": {
        "id": "g7a1NgHR966E",
        "colab": {
          "base_uri": "https://localhost:8080/"
        },
        "outputId": "94166426-8f3a-4078-a65a-5aacb8a16caf"
      },
      "source": [
        "import random\n",
        "source = \"\"\"\n",
        "영국 과학자들이 모든 신종 코로나바이러스 감염증(COVID-10·코로나19)을 유발하는 사스코로나바이러스-2(SARS-CoV-2)의 변이바이러스에 효과가 있는 항바이러스 치료제 후보물질을 개발했다영국 브리스톨대 과학자들이 설립한 바이오기업 헤일로쎄라퓨틱스는 모든 코로나19 변이바이러스에 효과가 있는 치료제 후보물질을 개발하고 조만간 임상에 나선다고 13일(현지시간) 밝혔다코로나바이러스가 인체에 침입할 때 인간 세포 수용체와 결합하는 스파이크 단백질의 모양을 변화시켜 바이러스의 감염 능력을 억제하는 분자를 활용한 항바이러스 치료 후보물질이다브리스톨대 연구진은 앞서 국제학술지 ‘사이언스’에 새로운 코로나19 치료전략을 제시한 논문을 발표했다. 불포화지방산의 일종인 ‘리놀레산’에 코로나바이러스를 노출시키면 바이러스 표면에 돌기 모양으로 생긴 스파이크 단백질이 닫히면서 감염되기 어려운 형태로 바뀐다는 사실을 발견한 연구논문이다임상을 진행하기 전 실험실에서 진행한 연구에서 연구진이 개발한 치료후보물질은 코와 인후, 폐의 세포에 코로나바이러스가 침투하는 것을 막는 것으로 나타났다. 특히 영국과 남아프리카공화국, 브라질 변이바이러스에서도 동일한 효과를 보였다. 헤일로쎄라퓨틱스는 비강 스프레이와 천식 환자들이 사용하는 흡입기 형태로도 치료제 임상을 진행할 계획이다새로운 치료전략을 토대로 한 코로나19 항바이러스 치료제 개발을 위해 브리스톨대 연구진은 생명공학기업 헤일로쎄라퓨틱스를 설립했다. 현재 헤일로쎄라퓨틱스는 치료후보물질의 임상시험을 준비중이다. 임상 승인에 이어 임상에 성공하게 되면 전세계 코로나19 환자가 사용할 수 있는 항바이러스 치료제가 나올 것으로 기대된다헤일로쎄라퓨틱스는 “임상에 성공할 경우 코로나19 환자의 바이러스 증식을 억제하는 것은 물론 감염자와 밀접 접촉한 사람들에 대한 바이러스 추가 전파를 막을 수 있는 항바이러스 치료제로 활용될 수 있을 것으로 예상된다”고 밝혔다치료제 개발 연구를 이끌고 있는 임레 버거 막스플랑크-브리스톨 소형생물학센터 교수는 “우리가 개발한 치료제의 목적은 체내로 유입되는 바이러스의 양을 크게 줄이고 억제하는 것”이라며 “바이러스에 노출되거나 감염돼도 바이러스가 폐나 다른 인체 장기로 증식하는 것을 막을 수 있다”고 말했다애덤 핀 브로스톨의과대학 교수는 “변이바이러스의 위협으로 현재 사용 가능한 백신의 예방 효과가 떨어지고 변이바이러스 재감염 사례가 늘어나는 실질적인 위험이 생길 수 있다”며 “모든 변이바이러스 균주에 걸쳐 효과가 있는 항바이러스 치료제로 백신을 보완할 수 있을 것”이라고 기대했다.\n",
        "\"\"\"\n",
        "\n",
        "source = source.replace(\" \",\"\")\n",
        "source = source.replace(\".\",\"\")\n",
        "for i in range(1000):\n",
        "    keyword = random.choice(source)+random.choice(source)\n",
        "    try:\n",
        "        make_corpus(search_word = keyword)\n",
        "    except KeyboardInterrupt as ki:\n",
        "        raise ki        \n",
        "    except:\n",
        "        print(\"Unexpected error:\", sys.exc_info()[0])        "
      ],
      "execution_count": null,
      "outputs": [
        {
          "output_type": "stream",
          "text": [
            "title: LH가 불붙였다···8년만에 국회 첫 문턱 넘은 이해충돌방지법Unexpected error: <class 'KeyError'>\n",
            "title: 中 反美의 축(axis of anti-US) 구축Unexpected error: <class 'KeyError'>\n",
            "title: 미 경찰 총격 용의자 성 중독 가능성. 증오범죄 판단 일러Unexpected error: <class 'KeyError'>\n",
            "title: 파티 중 하늘서 ‘인분 벼락’…美 항공청 조사Unexpected error: <class 'KeyError'>\n",
            "title: 한수원 신재생에너지 투자 확대…지역경제·일자리에도 일조Unexpected error: <class 'KeyError'>\n",
            "title: 난치성 뇌암 ‘교모세포종’ 새 치료법 개발 길 텄다Unexpected error: <class 'KeyError'>\n",
            "title: IAEA 핵연료 새 공동감시체제 검토Unexpected error: <class 'KeyError'>\n",
            "title: 전공노 청주시지부 충북도 방역지원단 파견 맹비난Unexpected error: <class 'KeyError'>\n",
            "title: 바이든 파견 美대표단 대만서 차이잉원·고위관료 만날 듯Unexpected error: <class 'KeyError'>\n",
            "title: [월간중앙] 창간특집Ⅱ | 관상으로 보는 대권 잠룡 10인의 운명Unexpected error: <class 'KeyError'>\n",
            "title: 계룡시청 펜싱팀 김은수 감독 젊은 리더십으로 변화와 성장할 것Unexpected error: <class 'KeyError'>\n",
            "title: 민주당 탄핵소추안 초안 내주초 완성·…실무작업 속도Unexpected error: <class 'KeyError'>\n",
            "Unexpected error: <class 'KeyError'>\n",
            "title: 美 오바마자리 스캔들 배후 주역 기소Unexpected error: <class 'KeyError'>\n",
            "title: 관세청 FTA 체결하면 교역량 확대된다Unexpected error: <class 'KeyError'>\n",
            "title: [PB 비하인드 스토리 | 신세계百의 ‘오노마’] 시코르 타고 K뷰티 시장에 안착할까?Unexpected error: <class 'KeyError'>\n",
            "title: 美 고위급 방한 하루 전 나온 김여정 담화…2+2 회담 노렸나Unexpected error: <class 'KeyError'>\n",
            "title: SK㈜ C&C SMB 겨냥한 토털 클라우드 공략 본격화Unexpected error: <class 'KeyError'>\n",
            "title: [공시] 남광토건 스페이시스원으로부터 225억원 규모 공사 수주Unexpected error: <class 'KeyError'>\n",
            "title: 증시 폭락‥투자자 망연자실Unexpected error: <class 'KeyError'>\n",
            "title: 스포츠조선 제1회 전국 배드민턴 대회 가족한마당 축제 속 성료Unexpected error: <class 'KeyError'>\n",
            "title: [공기업혁신] 고객서비스가 민간기업 못지않네!Unexpected error: <class 'KeyError'>\n",
            "title: [新 실크로드 열전] ⑩ 오타니 고즈이와 오타니 탐험대의 수집품Unexpected error: <class 'UnicodeEncodeError'>\n",
            "title: IAEA 日 찬성 아니라는데…IAEA 8년전 “방류 검토하라 제안Unexpected error: <class 'KeyError'>\n",
            "title: ‘자가격리 기간에 생일파티’ 유튜버 국가비 기소유예Unexpected error: <class 'KeyError'>\n",
            "title: [비즈니스 포커스] 식품 업계 숨은 강자 오뚜기의 ‘이기는 습관’Unexpected error: <class 'KeyError'>\n",
            "title: 성희롱 논란 박나래 뒤늦은 사과. 재미없고 불편 비난 계속 [전문]Unexpected error: <class 'KeyError'>\n",
            "title: 부산·수도권 이어 대구에서도 낚시박람회 개최. 침체 속 낚시산업 재도약 기대Unexpected error: <class 'KeyError'>\n",
            "Unexpected error: <class 'KeyError'>\n",
            "title: 70년 만에 찾은 아버지 뼛조각…이제 죽어도 여한 없어Unexpected error: <class 'KeyError'>\n",
            "title: 미중 대결로 리더십 공백시 대공황 촉발Unexpected error: <class 'KeyError'>\n",
            "title: [주경철의 히스토리아 노바] [7] ‘이슬람과 맹렬한 전투’ 스페인 엘시드 영웅담은 가짜다Unexpected error: <class 'KeyError'>\n",
            "title: ‘손흥민 4호 도움’ 토트넘 C. 팰리스와 1-1 무승부… 선두 ‘위태’Unexpected error: <class 'KeyError'>\n",
            "title: 대구 한 고교서 2년간 거꾸로 매달고 땅에 묻고 성추행조폭 뺨친 학교폭력 ‘끔찍한 대물림’Unexpected error: <class 'KeyError'>\n",
            "title: 입구에 800개 쌓고 ‘배송완료’ 문자… 고덕동 대란 상황Unexpected error: <class 'KeyError'>\n",
            "title: 4월 학평 국어·수학 평이하고 영어 쉬워…선택과목 난이도 변수로Unexpected error: <class 'KeyError'>\n",
            "title: 미래를 보고 싶다면 송도로 오세요Unexpected error: <class 'KeyError'>\n",
            "title: [기업공시 1월 6일]피씨엘 유럽 기업에 43억 규모 의료기기 공급계약 체결 등Unexpected error: <class 'KeyError'>\n",
            "title: 페트병이 옷으로…봄 패션 친환경을 입다Unexpected error: <class 'KeyError'>\n",
            "Unexpected error: <class 'KeyError'>\n",
            "title: 바다 위 봉우리들 사이로 뜨는 해…옛사람들도 감탄했을까Unexpected error: <class 'KeyError'>\n",
            "title: 88올림픽 2주년 기념행사 성대히 거행Unexpected error: <class 'KeyError'>\n",
            "title: DL건설 합리적 분양가 책정 e편한세상 울산역 어반스퀘어 분양"
          ],
          "name": "stdout"
        }
      ]
    },
    {
      "cell_type": "code",
      "metadata": {
        "id": "x2SVFolz3A3B",
        "colab": {
          "base_uri": "https://localhost:8080/",
          "height": 407
        },
        "outputId": "46198402-96f4-4ae6-d972-a641011569e1"
      },
      "source": [
        "df = pd.read_csv('/content/drive/MyDrive/Colab Notebooks/summary/korean_news_corpus.csv')\n",
        "df"
      ],
      "execution_count": null,
      "outputs": [
        {
          "output_type": "execute_result",
          "data": {
            "text/html": [
              "<div>\n",
              "<style scoped>\n",
              "    .dataframe tbody tr th:only-of-type {\n",
              "        vertical-align: middle;\n",
              "    }\n",
              "\n",
              "    .dataframe tbody tr th {\n",
              "        vertical-align: top;\n",
              "    }\n",
              "\n",
              "    .dataframe thead th {\n",
              "        text-align: right;\n",
              "    }\n",
              "</style>\n",
              "<table border=\"1\" class=\"dataframe\">\n",
              "  <thead>\n",
              "    <tr style=\"text-align: right;\">\n",
              "      <th></th>\n",
              "      <th>title</th>\n",
              "      <th>contents</th>\n",
              "    </tr>\n",
              "  </thead>\n",
              "  <tbody>\n",
              "    <tr>\n",
              "      <th>0</th>\n",
              "      <td>문 대통령 변창흠 국토장관 사의표명 사실상 수용</td>\n",
              "      <td>정만호 국민소통수석이 12일 오후 청와대 춘추관 대브리핑룸에서 변창흠 국토부 장관 ...</td>\n",
              "    </tr>\n",
              "    <tr>\n",
              "      <th>1</th>\n",
              "      <td>계급장 수여하는 문 대통령</td>\n",
              "      <td>(아산뉴스1) 이광호 기자 문재인 대통령이 12일 오후 충남 아산시 경찰대학에서 열...</td>\n",
              "    </tr>\n",
              "    <tr>\n",
              "      <th>2</th>\n",
              "      <td>계급장 수여하는 문 대통령</td>\n",
              "      <td>(아산뉴스1) 이광호 기자 문재인 대통령이 12일 오후 충남 아산시 경찰대학에서 열...</td>\n",
              "    </tr>\n",
              "    <tr>\n",
              "      <th>3</th>\n",
              "      <td>수상자 메달 걸어주는 문 대통령</td>\n",
              "      <td>(아산뉴스1) 이광호 기자 문재인 대통령이 12일 오후 충남 아산시 경찰대학에서 열...</td>\n",
              "    </tr>\n",
              "    <tr>\n",
              "      <th>4</th>\n",
              "      <td>정몽구 서울아산병원에 50억 쾌척</td>\n",
              "      <td>인재 양성·소외 계층 지원 등 계획 “부친 질병·가난 악순환 끊기 원해 국내 최고 ...</td>\n",
              "    </tr>\n",
              "    <tr>\n",
              "      <th>...</th>\n",
              "      <td>...</td>\n",
              "      <td>...</td>\n",
              "    </tr>\n",
              "    <tr>\n",
              "      <th>37227</th>\n",
              "      <td>이런 광경 얼마 만인지…쏟아진 中 관광객에 웃은 면세점</td>\n",
              "      <td>한한령 이후 최대 규모 5000명 인센티브 관광 중국인 관광객 증가 터닝포인트 되길...</td>\n",
              "    </tr>\n",
              "    <tr>\n",
              "      <th>37228</th>\n",
              "      <td>文 투기와의 전쟁에서 지지 않을 것… 고강도 규제 예고편?</td>\n",
              "      <td>부동산 시장 안정 실수요자 보호 투기 억제에 대한 정부의 의지는 확고 풍선효과 계속...</td>\n",
              "    </tr>\n",
              "    <tr>\n",
              "      <th>37229</th>\n",
              "      <td>그룹 신화 멤버 김동완씨 덕분에 만나게 된 외국인 독자</td>\n",
              "      <td>[내가 만난 독자] 소년의 레시피를 읽고 쓰고 일본어로 옮기는 기쿠치 미유키씨 [오...</td>\n",
              "    </tr>\n",
              "    <tr>\n",
              "      <th>37230</th>\n",
              "      <td>[여의도 사사건건] 내일부터 21대 총선 예비후보 등록…선거법 어디로?</td>\n",
              "      <td>- 낙후된 지역 SOC 신규 사업 예산 확보는 잘한 일…그래야 균형 발전 - 4+1...</td>\n",
              "    </tr>\n",
              "    <tr>\n",
              "      <th>37231</th>\n",
              "      <td>[여의도 사사건건] 박지원 “내가 비례 석패율로 올라간다? 있을 수 없어</td>\n",
              "      <td>- 낙후된 지역 SOC 신규 사업 예산 확보는 잘한 일…그래야 균형 발전 - 4+1...</td>\n",
              "    </tr>\n",
              "  </tbody>\n",
              "</table>\n",
              "<p>37232 rows × 2 columns</p>\n",
              "</div>"
            ],
            "text/plain": [
              "                                          title                                           contents\n",
              "0                    문 대통령 변창흠 국토장관 사의표명 사실상 수용  정만호 국민소통수석이 12일 오후 청와대 춘추관 대브리핑룸에서 변창흠 국토부 장관 ...\n",
              "1                                계급장 수여하는 문 대통령  (아산뉴스1) 이광호 기자 문재인 대통령이 12일 오후 충남 아산시 경찰대학에서 열...\n",
              "2                                계급장 수여하는 문 대통령  (아산뉴스1) 이광호 기자 문재인 대통령이 12일 오후 충남 아산시 경찰대학에서 열...\n",
              "3                             수상자 메달 걸어주는 문 대통령  (아산뉴스1) 이광호 기자 문재인 대통령이 12일 오후 충남 아산시 경찰대학에서 열...\n",
              "4                            정몽구 서울아산병원에 50억 쾌척  인재 양성·소외 계층 지원 등 계획 “부친 질병·가난 악순환 끊기 원해 국내 최고 ...\n",
              "...                                         ...                                                ...\n",
              "37227            이런 광경 얼마 만인지…쏟아진 中 관광객에 웃은 면세점  한한령 이후 최대 규모 5000명 인센티브 관광 중국인 관광객 증가 터닝포인트 되길...\n",
              "37228          文 투기와의 전쟁에서 지지 않을 것… 고강도 규제 예고편?  부동산 시장 안정 실수요자 보호 투기 억제에 대한 정부의 의지는 확고 풍선효과 계속...\n",
              "37229            그룹 신화 멤버 김동완씨 덕분에 만나게 된 외국인 독자  [내가 만난 독자] 소년의 레시피를 읽고 쓰고 일본어로 옮기는 기쿠치 미유키씨 [오...\n",
              "37230   [여의도 사사건건] 내일부터 21대 총선 예비후보 등록…선거법 어디로?  - 낙후된 지역 SOC 신규 사업 예산 확보는 잘한 일…그래야 균형 발전 - 4+1...\n",
              "37231  [여의도 사사건건] 박지원 “내가 비례 석패율로 올라간다? 있을 수 없어  - 낙후된 지역 SOC 신규 사업 예산 확보는 잘한 일…그래야 균형 발전 - 4+1...\n",
              "\n",
              "[37232 rows x 2 columns]"
            ]
          },
          "metadata": {
            "tags": []
          },
          "execution_count": 9
        }
      ]
    },
    {
      "cell_type": "code",
      "metadata": {
        "id": "SLd-yRUk7Zlc",
        "colab": {
          "base_uri": "https://localhost:8080/",
          "height": 139
        },
        "outputId": "f84ab7a9-c056-453d-c3e1-6d8907553285"
      },
      "source": [
        "df['contents'][100]"
      ],
      "execution_count": null,
      "outputs": [
        {
          "output_type": "execute_result",
          "data": {
            "application/vnd.google.colaboratory.intrinsic+json": {
              "type": "string"
            },
            "text/plain": [
              "'전북서 본부장으로 일할 때 바람직하지 않은 일 했다 3월3일 오후 경남 진주시 충무공동 한국토지주택공사(LH) 본사 앞에 빨간 신호등이 켜 있다. 문재인 대통령은 이날 LH 직원들의 100억원대 광명·시흥 신도시 투기 의혹에 대해 철저한 조사를 지시했다. ⓒ 연합뉴스 직원들의 광명·시흥 3기 신도시 지역 투기 의혹에 휩싸인 한국토지주택공사(LH)의\\xa0고위 간부가 12일 스스로 목숨을 끊었다. 경기남부경찰청 등에 따르면 이날 오전 9시40분께 경기도 성남시 분당의 한 아파트 화단에서 LH 현직 고위 간부 A씨가 쓰러진 채로 발견됐다. A씨는 병원으로 이송됐지만 사망했다. \\xa0 A씨는 전북에서 본부장으로 근무할 때 바람직하지 않은 일을 했다. 괴롭다. 국민에게 죄송하다는 내용의 유서를 남긴 것으로 전해졌다. 경찰은\\xa0아파트 주변 폐쇄(CCTV)회로 등을 조사한 결과 현재까지 범죄 혐의점은 발견되지 않았으며 사망 원인 등에 대한 추가 조사를 벌이고 있다고 밝혔다. \\xa0 ※ 우울감 등 말하기 어려운 고민이 있거나 주변에 이런 어려움을 겪는 가족·지인이 있으면 자살 예방 핫라인 ☎1577-0199 희망의 전화 ☎129 생명의 전화 ☎1588-9191 청소년 전화 ☎1388 등에서 24시간 전문가의 상담을 받을 수 있습니다. 이혜영 기자 zero@sisajournal. com <저작권자 ⓒ 시사저널 무단 전재 및 재배포 금지> ☞ 네이버에서 시사저널 뉴스를 받아 보세요 ▶ 시사저널 최신호 보기'"
            ]
          },
          "metadata": {
            "tags": []
          },
          "execution_count": 7
        }
      ]
    },
    {
      "cell_type": "code",
      "metadata": {
        "id": "OlsBVk2X1p2o"
      },
      "source": [
        "# 검사...\n",
        "pattens = [\"[34569][0-9]{3}[\\;.\\;-\\; ][0-9]{4}[\\;.\\;-\\; ][0-9]{4}[\\;.\\;-\\; ][0-9]{4}\",\n",
        "           \"[0-9]{2,3}[\\:\\s\\;.\\;,\\;-;)][0-9]{3,4}[\\:\\s\\;.\\;,\\;-][0-9]{4}\",\n",
        "           \"[0-9]{1}[0-9]{1}[\\W]?[0-1]{1}[0-9]{1}[\\W]?[0-3]{1}[\\W]?[0-9]{1}[\\W]?[1-4]{1}[\\W]?[0-9]{1}[\\W]?[0-9]{1}[\\W]?[0-9]{1}[\\W]?[0-9]{1}[\\W]?[0-9]{1}[\\W]?[0-9]{1}\",\n",
        "           \"[0-9]{2}[\\:\\s\\;.\\;,\\;-][0-9]{2}[\\:\\s\\;.\\;,\\;-][0-9]{6}|[0-9]{3}[\\:\\s\\;.\\;,\\;-]([0-9]{5,6}[\\:\\s\\;.\\;,\\;-][0-9]{3}|[0-9]{6}[\\:\\s\\;.\\;,\\;-][0-9]{5}|[0-9]{2,3}[\\:\\s\\;.\\;,\\;-][0-9]{6}|[0-9]{2}[\\:\\s\\;.\\;,\\;-][0-9]{7}|[0-9]{2}[\\:\\s\\;.\\;,\\;-][0-9]{4,6}[\\:\\s\\;.\\;,\\;-][0-9]|[0-9]{5}[\\:\\s\\;.\\;,\\;-][0-9]{3}[\\:\\s\\;.\\;,\\;-][0-9]{2}|[0-9]{2}[\\:\\s\\;.\\;,\\;-][0-9]{5}[\\:\\s\\;.\\;,\\;-][0-9]{3}|[0-9]{4}[\\:\\s\\;.\\;,\\;-][0-9]{4}[\\:\\s\\;.\\;,\\;-][0-9]{3}|[0-9]{6}[\\:\\s\\;.\\;,\\;-][0-9]{2}[\\:\\s\\;.\\;,\\;-][0-9]{3}|[0-9]{2}[\\:\\s\\;.\\;,\\;-][0-9]{2}[\\:\\s\\;.\\;,\\;-][0-9]{7})|[0-9]{4}[\\:\\s\\;.\\;,\\;-]([0-9]{3}[\\:\\s\\;.\\;,\\;-][0-9]{6}|[0-9]{2}[\\:\\s\\;.\\;,\\;-][0-9]{6}[\\:\\s\\;.\\;,\\;-][0-9])|[0-9]{5}[\\:\\s\\;.\\;,\\;-][0-9]{2}[\\:\\s\\;.\\;,\\;-][0-9]{6}|[0-9]{6}[\\:\\s\\;.\\;,\\;-][0-9]{2}[\\:\\s\\;.\\;,\\;-][0-9]{5,6}\"\n",
        "           ]\n",
        "\n",
        "filters = []\n",
        "for p in pattens:\n",
        "    filters.append(re.compile(p))\n"
      ],
      "execution_count": null,
      "outputs": []
    },
    {
      "cell_type": "code",
      "metadata": {
        "id": "mmfosYAiy7Md",
        "colab": {
          "base_uri": "https://localhost:8080/"
        },
        "outputId": "4f35f93f-47d5-4439-b09f-d17fcc88db52"
      },
      "source": [
        "sentences = []\n",
        "\n",
        "for raw_text in df['contents']:\n",
        "    try:\n",
        "        docs = nltk.sent_tokenize(clean_text(raw_text))\n",
        "        for txt in docs:\n",
        "            if txt.find('▶') > -1 or txt.find('@') > -1 or txt.find('ⓒ') > -1: \n",
        "                pass\n",
        "            else:\n",
        "                txt = txt.strip()\n",
        "                if len(txt) > 40:\n",
        "                    #ok = True\n",
        "                    #for f in filters:\n",
        "                    #    if len(f.findall(txt)) > 0:\n",
        "                    #        ok = False\n",
        "                    #        print('fitered:',txt)\n",
        "                    #if ok:\n",
        "                    if any(chr.isdigit() for chr in txt):\n",
        "                        pass\n",
        "                    else:\n",
        "                        sentences.append(txt)\n",
        "    except KeyboardInterrupt as ki:\n",
        "        raise ki        \n",
        "    except:\n",
        "        print(\"Unexpected error:\", sys.exc_info()[0])                         "
      ],
      "execution_count": null,
      "outputs": [
        {
          "output_type": "stream",
          "text": [
            "Unexpected error: <class 'AttributeError'>\n",
            "Unexpected error: <class 'AttributeError'>\n",
            "Unexpected error: <class 'AttributeError'>\n",
            "Unexpected error: <class 'AttributeError'>\n",
            "Unexpected error: <class 'AttributeError'>\n",
            "Unexpected error: <class 'AttributeError'>\n",
            "Unexpected error: <class 'AttributeError'>\n"
          ],
          "name": "stdout"
        }
      ]
    },
    {
      "cell_type": "code",
      "metadata": {
        "id": "v07gsWo88f2K",
        "colab": {
          "base_uri": "https://localhost:8080/"
        },
        "outputId": "0e8d50fd-3230-4a72-ba82-f84f61ded583"
      },
      "source": [
        "len(sentences)"
      ],
      "execution_count": null,
      "outputs": [
        {
          "output_type": "execute_result",
          "data": {
            "text/plain": [
              "407555"
            ]
          },
          "metadata": {
            "tags": []
          },
          "execution_count": 12
        }
      ]
    },
    {
      "cell_type": "code",
      "metadata": {
        "id": "F4COcJOH9cDu",
        "colab": {
          "base_uri": "https://localhost:8080/",
          "height": 34
        },
        "outputId": "113db0e5-a5f2-42ea-ae5c-a0fe55cba15b"
      },
      "source": [
        "sentences[254157]"
      ],
      "execution_count": null,
      "outputs": [
        {
          "output_type": "execute_result",
          "data": {
            "application/vnd.google.colaboratory.intrinsic+json": {
              "type": "string"
            },
            "text/plain": [
              "'축산물 공판장에서 무더기로 확진자가 나온 데다 어린이집 병원 목욕탕·사우나 제조업장 등에서도 신규 감염이 잇따르고 있습니다.'"
            ]
          },
          "metadata": {
            "tags": []
          },
          "execution_count": 13
        }
      ]
    },
    {
      "cell_type": "code",
      "metadata": {
        "id": "7oboUizDzKam"
      },
      "source": [
        "df1 = pd.DataFrame({'sentence':sentences})"
      ],
      "execution_count": null,
      "outputs": []
    },
    {
      "cell_type": "code",
      "metadata": {
        "colab": {
          "base_uri": "https://localhost:8080/",
          "height": 407
        },
        "id": "QSsIX7p74w1P",
        "outputId": "abdc98da-9155-4084-db59-3a16aa3cc6f6"
      },
      "source": [
        "df1"
      ],
      "execution_count": null,
      "outputs": [
        {
          "output_type": "execute_result",
          "data": {
            "text/html": [
              "<div>\n",
              "<style scoped>\n",
              "    .dataframe tbody tr th:only-of-type {\n",
              "        vertical-align: middle;\n",
              "    }\n",
              "\n",
              "    .dataframe tbody tr th {\n",
              "        vertical-align: top;\n",
              "    }\n",
              "\n",
              "    .dataframe thead th {\n",
              "        text-align: right;\n",
              "    }\n",
              "</style>\n",
              "<table border=\"1\" class=\"dataframe\">\n",
              "  <thead>\n",
              "    <tr style=\"text-align: right;\">\n",
              "      <th></th>\n",
              "      <th>sentence</th>\n",
              "    </tr>\n",
              "  </thead>\n",
              "  <tbody>\n",
              "    <tr>\n",
              "      <th>0</th>\n",
              "      <td>연합뉴스 문재인 대통령이 변창흠 국토교통부 장관의 사의 표명을 사실상 수용했다.</td>\n",
              "    </tr>\n",
              "    <tr>\n",
              "      <th>1</th>\n",
              "      <td>문 대통령은 변 장관의 사의 표명에 책임지는 모습을 보일 수밖에 없다고 밝혔다.</td>\n",
              "    </tr>\n",
              "    <tr>\n",
              "      <th>2</th>\n",
              "      <td>이에 앞서 변창흠 국토교통부 장관은 LH 땅 투기 의혹 사건과 관련한 책임론에 대해...</td>\n",
              "    </tr>\n",
              "    <tr>\n",
              "      <th>3</th>\n",
              "      <td>변 장관은 이날 국회 국토교통위원회 전체회의에 참석해 “LH 사태로 국민들이 걱정하...</td>\n",
              "    </tr>\n",
              "    <tr>\n",
              "      <th>4</th>\n",
              "      <td>인재 양성·소외 계층 지원 등 계획 “부친 질병·가난 악순환 끊기 원해 국내 최고 ...</td>\n",
              "    </tr>\n",
              "    <tr>\n",
              "      <th>...</th>\n",
              "      <td>...</td>\n",
              "    </tr>\n",
              "    <tr>\n",
              "      <th>407550</th>\n",
              "      <td>마무리를 해야 하는데 만약에 선거법 올린다고 해도 필리버스터가 있기 때문에 쉽지 않...</td>\n",
              "    </tr>\n",
              "    <tr>\n",
              "      <th>407551</th>\n",
              "      <td>의사 진행권은 의장한테 있기 때문에 회기 정하는 것은 필리버스터에 적용 안 된다고 ...</td>\n",
              "    </tr>\n",
              "    <tr>\n",
              "      <th>407552</th>\n",
              "      <td>JC 중앙회장도 하고 굉장히 똑똑한 친구인데 아버지 뒤를 이어서 자기가 아버지가 공...</td>\n",
              "    </tr>\n",
              "    <tr>\n",
              "      <th>407553</th>\n",
              "      <td>그리고 의정부에서 출마한다는데 의정부 시민들도 문희상 의장의 아들이 출마하는지 안 ...</td>\n",
              "    </tr>\n",
              "    <tr>\n",
              "      <th>407554</th>\n",
              "      <td>그런데 한국당에서 저렇게 이름을 알려주니까 의정부 시민들은 다 이제 문희상 의장 아...</td>\n",
              "    </tr>\n",
              "  </tbody>\n",
              "</table>\n",
              "<p>407555 rows × 1 columns</p>\n",
              "</div>"
            ],
            "text/plain": [
              "                                                 sentence\n",
              "0            연합뉴스 문재인 대통령이 변창흠 국토교통부 장관의 사의 표명을 사실상 수용했다.\n",
              "1            문 대통령은 변 장관의 사의 표명에 책임지는 모습을 보일 수밖에 없다고 밝혔다.\n",
              "2       이에 앞서 변창흠 국토교통부 장관은 LH 땅 투기 의혹 사건과 관련한 책임론에 대해...\n",
              "3       변 장관은 이날 국회 국토교통위원회 전체회의에 참석해 “LH 사태로 국민들이 걱정하...\n",
              "4       인재 양성·소외 계층 지원 등 계획 “부친 질병·가난 악순환 끊기 원해 국내 최고 ...\n",
              "...                                                   ...\n",
              "407550  마무리를 해야 하는데 만약에 선거법 올린다고 해도 필리버스터가 있기 때문에 쉽지 않...\n",
              "407551  의사 진행권은 의장한테 있기 때문에 회기 정하는 것은 필리버스터에 적용 안 된다고 ...\n",
              "407552  JC 중앙회장도 하고 굉장히 똑똑한 친구인데 아버지 뒤를 이어서 자기가 아버지가 공...\n",
              "407553  그리고 의정부에서 출마한다는데 의정부 시민들도 문희상 의장의 아들이 출마하는지 안 ...\n",
              "407554  그런데 한국당에서 저렇게 이름을 알려주니까 의정부 시민들은 다 이제 문희상 의장 아...\n",
              "\n",
              "[407555 rows x 1 columns]"
            ]
          },
          "metadata": {
            "tags": []
          },
          "execution_count": 15
        }
      ]
    },
    {
      "cell_type": "code",
      "metadata": {
        "id": "WPYyrpF531-i"
      },
      "source": [
        "df1.to_csv('/content/drive/MyDrive/Colab Notebooks/summary/korean_sentences.csv')"
      ],
      "execution_count": null,
      "outputs": []
    }
  ]
}