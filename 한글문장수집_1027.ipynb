{
  "nbformat": 4,
  "nbformat_minor": 0,
  "metadata": {
    "colab": {
      "name": "Untitled22.ipynb",
      "provenance": [],
      "authorship_tag": "ABX9TyNhfOKHyKaH4jWakQdJ4R/X",
      "include_colab_link": true
    },
    "kernelspec": {
      "name": "python3",
      "display_name": "Python 3"
    }
  },
  "cells": [
    {
      "cell_type": "markdown",
      "metadata": {
        "id": "view-in-github",
        "colab_type": "text"
      },
      "source": [
        "<a href=\"https://colab.research.google.com/github/dolmani38/Summary2/blob/main/%ED%95%9C%EA%B8%80%EB%AC%B8%EC%9E%A5%EC%88%98%EC%A7%91_1027.ipynb\" target=\"_parent\"><img src=\"https://colab.research.google.com/assets/colab-badge.svg\" alt=\"Open In Colab\"/></a>"
      ]
    },
    {
      "cell_type": "markdown",
      "metadata": {
        "id": "20LUFunskl89"
      },
      "source": [
        "# 한글 뉴스 크롤러"
      ]
    },
    {
      "cell_type": "code",
      "metadata": {
        "id": "DbGS6FLsLml0"
      },
      "source": [
        "import sys\n",
        "import requests\n",
        "import pandas as pd\n",
        "import datetime\n",
        "import requests\n",
        "import re\n",
        "from bs4 import BeautifulSoup\n",
        "from tqdm import tqdm_notebook\n",
        "from multiprocessing import Pool\n",
        "\n",
        "client_id = \"waXxTjNdGjzj8xtT3nbF\" #1.에서 취득한 아이디 넣기\n",
        "client_secret = \"H6mejnkuYx\"  #1. 에서 취득한 키 넣기\n",
        "\n",
        "\n",
        "# 간단한 전처리\n",
        "def clean_text(txt):\n",
        "    txt = txt.replace('\\n',' ')\n",
        "    txt = txt.replace('\\r',' ')    \n",
        "    txt = txt.replace('=','')\n",
        "    txt = txt.replace('\\\"','')   \n",
        "    txt = txt.replace('\\'','')\n",
        "    txt = txt.replace(',','')\n",
        "    txt = txt.replace('..','')\n",
        "    txt = txt.replace('...','')\n",
        "    txt = txt.replace('”','')\n",
        "    txt = txt.replace('.','. ')\n",
        "    txt = txt.replace('  ',' ')\n",
        "    txt = txt.replace('  ',' ')    \n",
        "    txt = txt.replace('  ',' ')   \n",
        "    txt = txt.replace('  ',' ')           \n",
        "    txt = txt.replace('  ',' ')\n",
        "    txt = txt.replace('  ',' ')    \n",
        "    txt = txt.replace('  ',' ')   \n",
        "    txt = txt.replace('  ',' ')             \n",
        "    return txt.strip()\n",
        "\n",
        "def clean_html(x):\n",
        "    x = re.sub(\"\\&\\w*\\;\",\"\",x)\n",
        "    x = re.sub(\"<.*?>\",\"\",x)\n",
        "    return x\n",
        "\n",
        "def get_news_urls(search_word = '코로나',max_display = 100):\n",
        "    encode_type = 'json' #출력 방식 json 또는 xml\n",
        "    #max_display = 100 #출력 뉴스 수\n",
        "    sort = 'date' #결과값의 정렬기준 시간순 date, 관련도 순 sim\n",
        "    start = 1 # 출력 위치\n",
        "\n",
        "    url = f\"https://openapi.naver.com/v1/search/news.{encode_type}?query={search_word}&display={str(int(max_display))}&start={str(int(start))}&sort={sort}\"\n",
        "\n",
        "    #print(url)\n",
        "    #헤더에 아이디와 키 정보 넣기\n",
        "    headers = {'X-Naver-Client-Id' : client_id,\n",
        "            'X-Naver-Client-Secret':client_secret\n",
        "            }\n",
        "\n",
        "    df = None\n",
        "    #HTTP요청 보내기\n",
        "    r = requests.get(url, headers=headers)\n",
        "    if r.status_code == 200:\n",
        "        #요청 결과 보기 200 이면 정상적으로 요청 완료\n",
        "        df = pd.DataFrame(r.json()['items'])\n",
        "        df['title'] = df['title'].apply(lambda x: clean_html(x))\n",
        "        df['description'] = df['description'].apply(lambda x: clean_html(x))\n",
        "    return df\n",
        "\n",
        "def get_news_title_contents(url):\n",
        "    headers = {'User-Agent':'Chrome/66.0.3359.181'}\n",
        "    main_news = []\n",
        "    result = requests.get(url,headers=headers)\n",
        "    if result.status_code == 200:\n",
        "        bs_obj = BeautifulSoup(result.content, \"html.parser\")\n",
        "        #print(bs_obj)\n",
        "        try:\n",
        "            title = bs_obj.find(\"h2\",{\"class\":\"end_tit\"}).text\n",
        "            body = bs_obj.find(\"div\",{\"class\":\"article_body\"}).get_text(\"\\n\").replace(\"// flash 오류를 우회하기 위한 함수 추가\",\"\").replace(\"function _flash_removeCallback() {}\",\"\")\n",
        "            #aid = bs_obj.find(\"div\",{\"class\":\"article_header\"}).find(\"img\")[\"title\"]\n",
        "            main_news = [clean_text(title),clean_text(body)]\n",
        "        except:\n",
        "            pass\n",
        "            #print(\"Unexpected error:\", sys.exc_info()[0])\n",
        "    return main_news    "
      ],
      "execution_count": 29,
      "outputs": []
    },
    {
      "cell_type": "code",
      "metadata": {
        "id": "I5_baFy0MA9c"
      },
      "source": [
        "def make_corpus(search_word = '코로나'):\n",
        "    f = open(\"korean_news_corpus.csv\", \"a\")\n",
        "    df = get_news_urls(search_word = search_word,max_display = 100)\n",
        "    if df is not None:\n",
        "        for url in df['link']:\n",
        "            if url.startswith('https://n.news.naver.com/mnews/'):\n",
        "                \n",
        "                news = get_news_title_contents(url)\n",
        "                print(news)\n",
        "                if (len(news) == 2):\n",
        "                    print('\\rtitle:',news[0],end=\"\", flush=True)\n",
        "                    f.write(news[0] + \",\" + news[1] + \"\\r\\n\")\n",
        "    f.close() "
      ],
      "execution_count": 30,
      "outputs": []
    },
    {
      "cell_type": "code",
      "metadata": {
        "id": "g7a1NgHR966E"
      },
      "source": [
        "import random\n",
        "\n",
        "# 여기에다가 필요한 분야의 키워드를 나열한다!\n",
        "\n",
        "source = \"\"\"\n",
        "트와이스 안다라수마나라 안유진\n",
        "\"\"\"\n",
        "source = clean_text(source)\n",
        "source = source.split(' ')\n",
        "\n",
        "\n",
        "while(True):\n",
        "    keyword = random.choice(source)\n",
        "    try:\n",
        "        make_corpus(search_word = keyword)\n",
        "    except KeyboardInterrupt as ki:\n",
        "        raise ki        \n",
        "    except:\n",
        "        print(\"Unexpected error:\", sys.exc_info()[0])     \n"
      ],
      "execution_count": null,
      "outputs": []
    },
    {
      "cell_type": "code",
      "metadata": {
        "id": "x2SVFolz3A3B",
        "outputId": "cee32f42-7b6a-4e1d-f86e-aa9dfa94679c",
        "colab": {
          "base_uri": "https://localhost:8080/",
          "height": 488
        }
      },
      "source": [
        "df = pd.read_csv('korean_news_corpus.csv')\n",
        "df.columns = ['title','contents']\n",
        "df"
      ],
      "execution_count": 36,
      "outputs": [
        {
          "output_type": "execute_result",
          "data": {
            "text/plain": [
              "                                           title  \\\n",
              "0                    트와이스 정연 스타랭킹 女 아이돌 3주 연속 정상   \n",
              "1                      트와이스 지효 동생 화보 공개 “제니랑 똑같네   \n",
              "2                  강남부자 강종현 결별 박민영 2022 AAA 출격한다   \n",
              "3                      아이브 장원영 얼굴 천재·무대 천재·MC 천재   \n",
              "4                           안유진 하트 뿅뿅 부르는 가을 여신美   \n",
              "5                      아이브 장원영 2년 연속 ‘AAA’ MC 확정   \n",
              "6                     아이브 안유진 흰티+청바지…심쿵 유발하는 여신미   \n",
              "7              대세 아이브 장원영… 2년 연속 2022 AAA MC 맡는다   \n",
              "8                     장원영 2년 연속 AAA MC 발탁…다방면 활약   \n",
              "9        MZ 아이콘 아이브 장원영 2년 연속 AAA MC 확정활약 기대[공식]   \n",
              "10                     아이브 안유진 노을에 더해진 이쁨. 귀염 뽀작   \n",
              "11                              안유진 뷰티 브랜드 모델 발탁   \n",
              "12           안유진 흰 티에 청바지만 입었는데. 일상이 화보 [M+★SNS]   \n",
              "13  [종합] 유퀴즈 진선규 박보경과 결혼 생활→이대호 은퇴 후 심경. 3일간 울기도   \n",
              "\n",
              "                                             contents  \n",
              "0   /사진스타랭킹 그룹 트와이스 정연이 스타랭킹 여자 아이돌 부문 1위를 차지했다. 정...  \n",
              "1   최근 패션 브랜드 화보를 찍은 모델 박지영. 럭스 엘에프 인스타그램 캡처. 그룹 트...  \n",
              "2   [텐아시아류예지 기자] 독보적인 비주얼과 연기력으로 사랑받는 배우들이 ‘2022 A...  \n",
              "3   스타쉽엔터테인먼트 제공 [OSEN장우영 기자] MZ 워너비 아이콘 아이브(IVE :...  \n",
              "4   아이브 안유진. /사진안유진 인스타그램 그룹 아이브(IVE) 멤버 안유진이 근황을 ...  \n",
              "5   아이브 장원영 프로필. 스타쉽엔터테인먼트 제공 걸그룹 아이브(IVE : 안유진 가을...  \n",
              "6   그룹 아이브(IVE) 안유진이 청순한 비주얼을 자랑했다. 사진안유진 인스타그램 지난...  \n",
              "7   아이브(IVE : 안유진 가을 레이 장원영 리즈 이서)의 멤버 장원영이 2년 연속으...  \n",
              "8   아이브 장원영ⓒ 뉴스1 (서울뉴스1) 황미현 기자 아이브(IVE : 안유진 가을 레...  \n",
              "9   /사진제공스타쉽엔터테인먼트 MZ 워너비 아이콘 아이브(IVE 안유진 가을 레이 장원...  \n",
              "10  [텐아시아조준원 기자] 그룹 아이브 멤버 안유진이 근황을 전했다. 안유진은 27일 ...  \n",
              "11  록시땅 제공. 그룹 아이브(IVE) 안유진이 대세로서의 행보를 이어간다. 27일 한...  \n",
              "12  아이브 안유진이 꾸안꾸 매려을 선보였다. 사진안유진 SNS 아이브 안유진이 꾸안꾸 ...  \n",
              "13  유퀴즈 이대호가 은퇴 심경을 전했다. 26일 방송된 tvN 예능프로그램 유 퀴즈 온...  "
            ],
            "text/html": [
              "\n",
              "  <div id=\"df-4ee1ae8d-6659-4b4d-8106-449d63d972e9\">\n",
              "    <div class=\"colab-df-container\">\n",
              "      <div>\n",
              "<style scoped>\n",
              "    .dataframe tbody tr th:only-of-type {\n",
              "        vertical-align: middle;\n",
              "    }\n",
              "\n",
              "    .dataframe tbody tr th {\n",
              "        vertical-align: top;\n",
              "    }\n",
              "\n",
              "    .dataframe thead th {\n",
              "        text-align: right;\n",
              "    }\n",
              "</style>\n",
              "<table border=\"1\" class=\"dataframe\">\n",
              "  <thead>\n",
              "    <tr style=\"text-align: right;\">\n",
              "      <th></th>\n",
              "      <th>title</th>\n",
              "      <th>contents</th>\n",
              "    </tr>\n",
              "  </thead>\n",
              "  <tbody>\n",
              "    <tr>\n",
              "      <th>0</th>\n",
              "      <td>트와이스 정연 스타랭킹 女 아이돌 3주 연속 정상</td>\n",
              "      <td>/사진스타랭킹 그룹 트와이스 정연이 스타랭킹 여자 아이돌 부문 1위를 차지했다. 정...</td>\n",
              "    </tr>\n",
              "    <tr>\n",
              "      <th>1</th>\n",
              "      <td>트와이스 지효 동생 화보 공개 “제니랑 똑같네</td>\n",
              "      <td>최근 패션 브랜드 화보를 찍은 모델 박지영. 럭스 엘에프 인스타그램 캡처. 그룹 트...</td>\n",
              "    </tr>\n",
              "    <tr>\n",
              "      <th>2</th>\n",
              "      <td>강남부자 강종현 결별 박민영 2022 AAA 출격한다</td>\n",
              "      <td>[텐아시아류예지 기자] 독보적인 비주얼과 연기력으로 사랑받는 배우들이 ‘2022 A...</td>\n",
              "    </tr>\n",
              "    <tr>\n",
              "      <th>3</th>\n",
              "      <td>아이브 장원영 얼굴 천재·무대 천재·MC 천재</td>\n",
              "      <td>스타쉽엔터테인먼트 제공 [OSEN장우영 기자] MZ 워너비 아이콘 아이브(IVE :...</td>\n",
              "    </tr>\n",
              "    <tr>\n",
              "      <th>4</th>\n",
              "      <td>안유진 하트 뿅뿅 부르는 가을 여신美</td>\n",
              "      <td>아이브 안유진. /사진안유진 인스타그램 그룹 아이브(IVE) 멤버 안유진이 근황을 ...</td>\n",
              "    </tr>\n",
              "    <tr>\n",
              "      <th>5</th>\n",
              "      <td>아이브 장원영 2년 연속 ‘AAA’ MC 확정</td>\n",
              "      <td>아이브 장원영 프로필. 스타쉽엔터테인먼트 제공 걸그룹 아이브(IVE : 안유진 가을...</td>\n",
              "    </tr>\n",
              "    <tr>\n",
              "      <th>6</th>\n",
              "      <td>아이브 안유진 흰티+청바지…심쿵 유발하는 여신미</td>\n",
              "      <td>그룹 아이브(IVE) 안유진이 청순한 비주얼을 자랑했다. 사진안유진 인스타그램 지난...</td>\n",
              "    </tr>\n",
              "    <tr>\n",
              "      <th>7</th>\n",
              "      <td>대세 아이브 장원영… 2년 연속 2022 AAA MC 맡는다</td>\n",
              "      <td>아이브(IVE : 안유진 가을 레이 장원영 리즈 이서)의 멤버 장원영이 2년 연속으...</td>\n",
              "    </tr>\n",
              "    <tr>\n",
              "      <th>8</th>\n",
              "      <td>장원영 2년 연속 AAA MC 발탁…다방면 활약</td>\n",
              "      <td>아이브 장원영ⓒ 뉴스1 (서울뉴스1) 황미현 기자 아이브(IVE : 안유진 가을 레...</td>\n",
              "    </tr>\n",
              "    <tr>\n",
              "      <th>9</th>\n",
              "      <td>MZ 아이콘 아이브 장원영 2년 연속 AAA MC 확정활약 기대[공식]</td>\n",
              "      <td>/사진제공스타쉽엔터테인먼트 MZ 워너비 아이콘 아이브(IVE 안유진 가을 레이 장원...</td>\n",
              "    </tr>\n",
              "    <tr>\n",
              "      <th>10</th>\n",
              "      <td>아이브 안유진 노을에 더해진 이쁨. 귀염 뽀작</td>\n",
              "      <td>[텐아시아조준원 기자] 그룹 아이브 멤버 안유진이 근황을 전했다. 안유진은 27일 ...</td>\n",
              "    </tr>\n",
              "    <tr>\n",
              "      <th>11</th>\n",
              "      <td>안유진 뷰티 브랜드 모델 발탁</td>\n",
              "      <td>록시땅 제공. 그룹 아이브(IVE) 안유진이 대세로서의 행보를 이어간다. 27일 한...</td>\n",
              "    </tr>\n",
              "    <tr>\n",
              "      <th>12</th>\n",
              "      <td>안유진 흰 티에 청바지만 입었는데. 일상이 화보 [M+★SNS]</td>\n",
              "      <td>아이브 안유진이 꾸안꾸 매려을 선보였다. 사진안유진 SNS 아이브 안유진이 꾸안꾸 ...</td>\n",
              "    </tr>\n",
              "    <tr>\n",
              "      <th>13</th>\n",
              "      <td>[종합] 유퀴즈 진선규 박보경과 결혼 생활→이대호 은퇴 후 심경. 3일간 울기도</td>\n",
              "      <td>유퀴즈 이대호가 은퇴 심경을 전했다. 26일 방송된 tvN 예능프로그램 유 퀴즈 온...</td>\n",
              "    </tr>\n",
              "  </tbody>\n",
              "</table>\n",
              "</div>\n",
              "      <button class=\"colab-df-convert\" onclick=\"convertToInteractive('df-4ee1ae8d-6659-4b4d-8106-449d63d972e9')\"\n",
              "              title=\"Convert this dataframe to an interactive table.\"\n",
              "              style=\"display:none;\">\n",
              "        \n",
              "  <svg xmlns=\"http://www.w3.org/2000/svg\" height=\"24px\"viewBox=\"0 0 24 24\"\n",
              "       width=\"24px\">\n",
              "    <path d=\"M0 0h24v24H0V0z\" fill=\"none\"/>\n",
              "    <path d=\"M18.56 5.44l.94 2.06.94-2.06 2.06-.94-2.06-.94-.94-2.06-.94 2.06-2.06.94zm-11 1L8.5 8.5l.94-2.06 2.06-.94-2.06-.94L8.5 2.5l-.94 2.06-2.06.94zm10 10l.94 2.06.94-2.06 2.06-.94-2.06-.94-.94-2.06-.94 2.06-2.06.94z\"/><path d=\"M17.41 7.96l-1.37-1.37c-.4-.4-.92-.59-1.43-.59-.52 0-1.04.2-1.43.59L10.3 9.45l-7.72 7.72c-.78.78-.78 2.05 0 2.83L4 21.41c.39.39.9.59 1.41.59.51 0 1.02-.2 1.41-.59l7.78-7.78 2.81-2.81c.8-.78.8-2.07 0-2.86zM5.41 20L4 18.59l7.72-7.72 1.47 1.35L5.41 20z\"/>\n",
              "  </svg>\n",
              "      </button>\n",
              "      \n",
              "  <style>\n",
              "    .colab-df-container {\n",
              "      display:flex;\n",
              "      flex-wrap:wrap;\n",
              "      gap: 12px;\n",
              "    }\n",
              "\n",
              "    .colab-df-convert {\n",
              "      background-color: #E8F0FE;\n",
              "      border: none;\n",
              "      border-radius: 50%;\n",
              "      cursor: pointer;\n",
              "      display: none;\n",
              "      fill: #1967D2;\n",
              "      height: 32px;\n",
              "      padding: 0 0 0 0;\n",
              "      width: 32px;\n",
              "    }\n",
              "\n",
              "    .colab-df-convert:hover {\n",
              "      background-color: #E2EBFA;\n",
              "      box-shadow: 0px 1px 2px rgba(60, 64, 67, 0.3), 0px 1px 3px 1px rgba(60, 64, 67, 0.15);\n",
              "      fill: #174EA6;\n",
              "    }\n",
              "\n",
              "    [theme=dark] .colab-df-convert {\n",
              "      background-color: #3B4455;\n",
              "      fill: #D2E3FC;\n",
              "    }\n",
              "\n",
              "    [theme=dark] .colab-df-convert:hover {\n",
              "      background-color: #434B5C;\n",
              "      box-shadow: 0px 1px 3px 1px rgba(0, 0, 0, 0.15);\n",
              "      filter: drop-shadow(0px 1px 2px rgba(0, 0, 0, 0.3));\n",
              "      fill: #FFFFFF;\n",
              "    }\n",
              "  </style>\n",
              "\n",
              "      <script>\n",
              "        const buttonEl =\n",
              "          document.querySelector('#df-4ee1ae8d-6659-4b4d-8106-449d63d972e9 button.colab-df-convert');\n",
              "        buttonEl.style.display =\n",
              "          google.colab.kernel.accessAllowed ? 'block' : 'none';\n",
              "\n",
              "        async function convertToInteractive(key) {\n",
              "          const element = document.querySelector('#df-4ee1ae8d-6659-4b4d-8106-449d63d972e9');\n",
              "          const dataTable =\n",
              "            await google.colab.kernel.invokeFunction('convertToInteractive',\n",
              "                                                     [key], {});\n",
              "          if (!dataTable) return;\n",
              "\n",
              "          const docLinkHtml = 'Like what you see? Visit the ' +\n",
              "            '<a target=\"_blank\" href=https://colab.research.google.com/notebooks/data_table.ipynb>data table notebook</a>'\n",
              "            + ' to learn more about interactive tables.';\n",
              "          element.innerHTML = '';\n",
              "          dataTable['output_type'] = 'display_data';\n",
              "          await google.colab.output.renderOutput(dataTable, element);\n",
              "          const docLink = document.createElement('div');\n",
              "          docLink.innerHTML = docLinkHtml;\n",
              "          element.appendChild(docLink);\n",
              "        }\n",
              "      </script>\n",
              "    </div>\n",
              "  </div>\n",
              "  "
            ]
          },
          "metadata": {},
          "execution_count": 36
        }
      ]
    },
    {
      "cell_type": "code",
      "metadata": {
        "id": "SLd-yRUk7Zlc",
        "outputId": "afaadede-67a5-45a8-f5b6-9e71a573d0f2",
        "colab": {
          "base_uri": "https://localhost:8080/"
        }
      },
      "source": [
        "df['contents']"
      ],
      "execution_count": 37,
      "outputs": [
        {
          "output_type": "execute_result",
          "data": {
            "text/plain": [
              "0     /사진스타랭킹 그룹 트와이스 정연이 스타랭킹 여자 아이돌 부문 1위를 차지했다. 정...\n",
              "1     최근 패션 브랜드 화보를 찍은 모델 박지영. 럭스 엘에프 인스타그램 캡처. 그룹 트...\n",
              "2     [텐아시아류예지 기자] 독보적인 비주얼과 연기력으로 사랑받는 배우들이 ‘2022 A...\n",
              "3     스타쉽엔터테인먼트 제공 [OSEN장우영 기자] MZ 워너비 아이콘 아이브(IVE :...\n",
              "4     아이브 안유진. /사진안유진 인스타그램 그룹 아이브(IVE) 멤버 안유진이 근황을 ...\n",
              "5     아이브 장원영 프로필. 스타쉽엔터테인먼트 제공 걸그룹 아이브(IVE : 안유진 가을...\n",
              "6     그룹 아이브(IVE) 안유진이 청순한 비주얼을 자랑했다. 사진안유진 인스타그램 지난...\n",
              "7     아이브(IVE : 안유진 가을 레이 장원영 리즈 이서)의 멤버 장원영이 2년 연속으...\n",
              "8     아이브 장원영ⓒ 뉴스1 (서울뉴스1) 황미현 기자 아이브(IVE : 안유진 가을 레...\n",
              "9     /사진제공스타쉽엔터테인먼트 MZ 워너비 아이콘 아이브(IVE 안유진 가을 레이 장원...\n",
              "10    [텐아시아조준원 기자] 그룹 아이브 멤버 안유진이 근황을 전했다. 안유진은 27일 ...\n",
              "11    록시땅 제공. 그룹 아이브(IVE) 안유진이 대세로서의 행보를 이어간다. 27일 한...\n",
              "12    아이브 안유진이 꾸안꾸 매려을 선보였다. 사진안유진 SNS 아이브 안유진이 꾸안꾸 ...\n",
              "13    유퀴즈 이대호가 은퇴 심경을 전했다. 26일 방송된 tvN 예능프로그램 유 퀴즈 온...\n",
              "Name: contents, dtype: object"
            ]
          },
          "metadata": {},
          "execution_count": 37
        }
      ]
    },
    {
      "cell_type": "code",
      "metadata": {
        "id": "OlsBVk2X1p2o"
      },
      "source": [
        "# 검사...\n",
        "pattens = [\"[34569][0-9]{3}[\\;.\\;-\\; ][0-9]{4}[\\;.\\;-\\; ][0-9]{4}[\\;.\\;-\\; ][0-9]{4}\",\n",
        "           \"[0-9]{2,3}[\\:\\s\\;.\\;,\\;-;)][0-9]{3,4}[\\:\\s\\;.\\;,\\;-][0-9]{4}\",\n",
        "           \"[0-9]{1}[0-9]{1}[\\W]?[0-1]{1}[0-9]{1}[\\W]?[0-3]{1}[\\W]?[0-9]{1}[\\W]?[1-4]{1}[\\W]?[0-9]{1}[\\W]?[0-9]{1}[\\W]?[0-9]{1}[\\W]?[0-9]{1}[\\W]?[0-9]{1}[\\W]?[0-9]{1}\",\n",
        "           \"[0-9]{2}[\\:\\s\\;.\\;,\\;-][0-9]{2}[\\:\\s\\;.\\;,\\;-][0-9]{6}|[0-9]{3}[\\:\\s\\;.\\;,\\;-]([0-9]{5,6}[\\:\\s\\;.\\;,\\;-][0-9]{3}|[0-9]{6}[\\:\\s\\;.\\;,\\;-][0-9]{5}|[0-9]{2,3}[\\:\\s\\;.\\;,\\;-][0-9]{6}|[0-9]{2}[\\:\\s\\;.\\;,\\;-][0-9]{7}|[0-9]{2}[\\:\\s\\;.\\;,\\;-][0-9]{4,6}[\\:\\s\\;.\\;,\\;-][0-9]|[0-9]{5}[\\:\\s\\;.\\;,\\;-][0-9]{3}[\\:\\s\\;.\\;,\\;-][0-9]{2}|[0-9]{2}[\\:\\s\\;.\\;,\\;-][0-9]{5}[\\:\\s\\;.\\;,\\;-][0-9]{3}|[0-9]{4}[\\:\\s\\;.\\;,\\;-][0-9]{4}[\\:\\s\\;.\\;,\\;-][0-9]{3}|[0-9]{6}[\\:\\s\\;.\\;,\\;-][0-9]{2}[\\:\\s\\;.\\;,\\;-][0-9]{3}|[0-9]{2}[\\:\\s\\;.\\;,\\;-][0-9]{2}[\\:\\s\\;.\\;,\\;-][0-9]{7})|[0-9]{4}[\\:\\s\\;.\\;,\\;-]([0-9]{3}[\\:\\s\\;.\\;,\\;-][0-9]{6}|[0-9]{2}[\\:\\s\\;.\\;,\\;-][0-9]{6}[\\:\\s\\;.\\;,\\;-][0-9])|[0-9]{5}[\\:\\s\\;.\\;,\\;-][0-9]{2}[\\:\\s\\;.\\;,\\;-][0-9]{6}|[0-9]{6}[\\:\\s\\;.\\;,\\;-][0-9]{2}[\\:\\s\\;.\\;,\\;-][0-9]{5,6}\"\n",
        "           ]\n",
        "\n",
        "filters = []\n",
        "for p in pattens:\n",
        "    filters.append(re.compile(p))\n"
      ],
      "execution_count": 38,
      "outputs": []
    },
    {
      "cell_type": "code",
      "source": [
        "import nltk\n",
        "nltk.download('punkt')"
      ],
      "metadata": {
        "id": "3_ZQohwadcfu",
        "outputId": "5a666d75-2ca8-416f-f9a2-60b0158e77e3",
        "colab": {
          "base_uri": "https://localhost:8080/"
        }
      },
      "execution_count": 46,
      "outputs": [
        {
          "output_type": "stream",
          "name": "stderr",
          "text": [
            "[nltk_data] Downloading package punkt to /root/nltk_data...\n",
            "[nltk_data]   Unzipping tokenizers/punkt.zip.\n"
          ]
        },
        {
          "output_type": "execute_result",
          "data": {
            "text/plain": [
              "True"
            ]
          },
          "metadata": {},
          "execution_count": 46
        }
      ]
    },
    {
      "cell_type": "code",
      "metadata": {
        "id": "mmfosYAiy7Md"
      },
      "source": [
        "\n",
        "sentences = []\n",
        "\n",
        "for raw_text in df['contents']:\n",
        "    try:\n",
        "        docs = nltk.sent_tokenize(clean_text(raw_text))\n",
        "        #print(docs)\n",
        "        for txt in docs:\n",
        "            if txt.find('▶') > -1 or txt.find('@') > -1 or txt.find('ⓒ') > -1: \n",
        "                pass\n",
        "            else:\n",
        "                txt = txt.strip()\n",
        "                if len(txt) > 40:\n",
        "                    #ok = True\n",
        "                    #for f in filters:\n",
        "                    #    if len(f.findall(txt)) > 0:\n",
        "                    #        ok = False\n",
        "                    #        print('fitered:',txt)\n",
        "                    #if ok:\n",
        "                    if any(chr.isdigit() for chr in txt):\n",
        "                        pass\n",
        "                    else:\n",
        "                        sentences.append(txt)\n",
        "    except KeyboardInterrupt as ki:\n",
        "        raise ki        \n",
        "    except:\n",
        "        print(\"Unexpected error:\", sys.exc_info()[0])                         "
      ],
      "execution_count": 53,
      "outputs": []
    },
    {
      "cell_type": "code",
      "metadata": {
        "id": "v07gsWo88f2K",
        "outputId": "7fa590d2-4381-4f67-920e-4e797497d984",
        "colab": {
          "base_uri": "https://localhost:8080/"
        }
      },
      "source": [
        "len(sentences)"
      ],
      "execution_count": 54,
      "outputs": [
        {
          "output_type": "execute_result",
          "data": {
            "text/plain": [
              "63"
            ]
          },
          "metadata": {},
          "execution_count": 54
        }
      ]
    },
    {
      "cell_type": "code",
      "metadata": {
        "id": "F4COcJOH9cDu",
        "outputId": "eab4f228-aeec-4a27-c14b-99a521796a87",
        "colab": {
          "base_uri": "https://localhost:8080/",
          "height": 35
        }
      },
      "source": [
        "sentences[60]"
      ],
      "execution_count": 55,
      "outputs": [
        {
          "output_type": "execute_result",
          "data": {
            "text/plain": [
              "'이대호는 은퇴 투어 당시 감정으로 올스타저으로 시작됐는데 눈물을 좀 흘렸다.'"
            ],
            "application/vnd.google.colaboratory.intrinsic+json": {
              "type": "string"
            }
          },
          "metadata": {},
          "execution_count": 55
        }
      ]
    },
    {
      "cell_type": "code",
      "metadata": {
        "id": "7oboUizDzKam"
      },
      "source": [
        "df1 = pd.DataFrame({'sentence':sentences})"
      ],
      "execution_count": 50,
      "outputs": []
    },
    {
      "cell_type": "code",
      "metadata": {
        "id": "QSsIX7p74w1P",
        "outputId": "5a1413ba-295d-42ba-b906-8b0b009b0c4a",
        "colab": {
          "base_uri": "https://localhost:8080/",
          "height": 424
        }
      },
      "source": [
        "df1"
      ],
      "execution_count": 51,
      "outputs": [
        {
          "output_type": "execute_result",
          "data": {
            "text/plain": [
              "                                             sentence\n",
              "0     한편 스타랭킹은 팬들이 직접 자신의 최애 스타에 투표해 순위를 결정하는 랭킹 투표다.\n",
              "1   최근 네이트판을 비롯한 각종 온라인 커뮤니티에선 지효 동생 박지영의 미모가 누리꾼들...\n",
              "2        공개된 화보에는 비니와 검은색 구두를 멋스럽게 소화한 박지영의 모습이 담겨있다.\n",
              "3   누리꾼들은 “와 진짜 이쁘다 “제니랑 닮은 것 같다 “귀엽다 등의 반응을 보이며 감...\n",
              "4   대한민국 대표 로코퀸 박민영은 올해에도 JTBC 드라마 ‘기상청 사람들 : 사내연애...\n",
              "..                                                ...\n",
              "58  생각도 많이 했었고 제가 스무 살 때 (바꿨다)며 타자로 바꾼 것도 전지훈련에서 어...\n",
              "59     타자 권유했을 때 해보고 싶다고 한 것이 운이 좋게 맞아떨어졌던 것 같다고 말했다.\n",
              "60         이대호는 은퇴 투어 당시 감정으로 올스타저으로 시작됐는데 눈물을 좀 흘렸다.\n",
              "61  제가 어릴 때는 많이 울었지만 프로 생활하면서 독하게 살다 보니까 눈물을 잘 안 흘...\n",
              "62  한편 tvN 예능프로그램 유 퀴즈 온 더 블럭은 큰 자기 유재석과 아기자기 조세호의...\n",
              "\n",
              "[63 rows x 1 columns]"
            ],
            "text/html": [
              "\n",
              "  <div id=\"df-50734b9d-fc91-40a8-94dd-e139868a5e35\">\n",
              "    <div class=\"colab-df-container\">\n",
              "      <div>\n",
              "<style scoped>\n",
              "    .dataframe tbody tr th:only-of-type {\n",
              "        vertical-align: middle;\n",
              "    }\n",
              "\n",
              "    .dataframe tbody tr th {\n",
              "        vertical-align: top;\n",
              "    }\n",
              "\n",
              "    .dataframe thead th {\n",
              "        text-align: right;\n",
              "    }\n",
              "</style>\n",
              "<table border=\"1\" class=\"dataframe\">\n",
              "  <thead>\n",
              "    <tr style=\"text-align: right;\">\n",
              "      <th></th>\n",
              "      <th>sentence</th>\n",
              "    </tr>\n",
              "  </thead>\n",
              "  <tbody>\n",
              "    <tr>\n",
              "      <th>0</th>\n",
              "      <td>한편 스타랭킹은 팬들이 직접 자신의 최애 스타에 투표해 순위를 결정하는 랭킹 투표다.</td>\n",
              "    </tr>\n",
              "    <tr>\n",
              "      <th>1</th>\n",
              "      <td>최근 네이트판을 비롯한 각종 온라인 커뮤니티에선 지효 동생 박지영의 미모가 누리꾼들...</td>\n",
              "    </tr>\n",
              "    <tr>\n",
              "      <th>2</th>\n",
              "      <td>공개된 화보에는 비니와 검은색 구두를 멋스럽게 소화한 박지영의 모습이 담겨있다.</td>\n",
              "    </tr>\n",
              "    <tr>\n",
              "      <th>3</th>\n",
              "      <td>누리꾼들은 “와 진짜 이쁘다 “제니랑 닮은 것 같다 “귀엽다 등의 반응을 보이며 감...</td>\n",
              "    </tr>\n",
              "    <tr>\n",
              "      <th>4</th>\n",
              "      <td>대한민국 대표 로코퀸 박민영은 올해에도 JTBC 드라마 ‘기상청 사람들 : 사내연애...</td>\n",
              "    </tr>\n",
              "    <tr>\n",
              "      <th>...</th>\n",
              "      <td>...</td>\n",
              "    </tr>\n",
              "    <tr>\n",
              "      <th>58</th>\n",
              "      <td>생각도 많이 했었고 제가 스무 살 때 (바꿨다)며 타자로 바꾼 것도 전지훈련에서 어...</td>\n",
              "    </tr>\n",
              "    <tr>\n",
              "      <th>59</th>\n",
              "      <td>타자 권유했을 때 해보고 싶다고 한 것이 운이 좋게 맞아떨어졌던 것 같다고 말했다.</td>\n",
              "    </tr>\n",
              "    <tr>\n",
              "      <th>60</th>\n",
              "      <td>이대호는 은퇴 투어 당시 감정으로 올스타저으로 시작됐는데 눈물을 좀 흘렸다.</td>\n",
              "    </tr>\n",
              "    <tr>\n",
              "      <th>61</th>\n",
              "      <td>제가 어릴 때는 많이 울었지만 프로 생활하면서 독하게 살다 보니까 눈물을 잘 안 흘...</td>\n",
              "    </tr>\n",
              "    <tr>\n",
              "      <th>62</th>\n",
              "      <td>한편 tvN 예능프로그램 유 퀴즈 온 더 블럭은 큰 자기 유재석과 아기자기 조세호의...</td>\n",
              "    </tr>\n",
              "  </tbody>\n",
              "</table>\n",
              "<p>63 rows × 1 columns</p>\n",
              "</div>\n",
              "      <button class=\"colab-df-convert\" onclick=\"convertToInteractive('df-50734b9d-fc91-40a8-94dd-e139868a5e35')\"\n",
              "              title=\"Convert this dataframe to an interactive table.\"\n",
              "              style=\"display:none;\">\n",
              "        \n",
              "  <svg xmlns=\"http://www.w3.org/2000/svg\" height=\"24px\"viewBox=\"0 0 24 24\"\n",
              "       width=\"24px\">\n",
              "    <path d=\"M0 0h24v24H0V0z\" fill=\"none\"/>\n",
              "    <path d=\"M18.56 5.44l.94 2.06.94-2.06 2.06-.94-2.06-.94-.94-2.06-.94 2.06-2.06.94zm-11 1L8.5 8.5l.94-2.06 2.06-.94-2.06-.94L8.5 2.5l-.94 2.06-2.06.94zm10 10l.94 2.06.94-2.06 2.06-.94-2.06-.94-.94-2.06-.94 2.06-2.06.94z\"/><path d=\"M17.41 7.96l-1.37-1.37c-.4-.4-.92-.59-1.43-.59-.52 0-1.04.2-1.43.59L10.3 9.45l-7.72 7.72c-.78.78-.78 2.05 0 2.83L4 21.41c.39.39.9.59 1.41.59.51 0 1.02-.2 1.41-.59l7.78-7.78 2.81-2.81c.8-.78.8-2.07 0-2.86zM5.41 20L4 18.59l7.72-7.72 1.47 1.35L5.41 20z\"/>\n",
              "  </svg>\n",
              "      </button>\n",
              "      \n",
              "  <style>\n",
              "    .colab-df-container {\n",
              "      display:flex;\n",
              "      flex-wrap:wrap;\n",
              "      gap: 12px;\n",
              "    }\n",
              "\n",
              "    .colab-df-convert {\n",
              "      background-color: #E8F0FE;\n",
              "      border: none;\n",
              "      border-radius: 50%;\n",
              "      cursor: pointer;\n",
              "      display: none;\n",
              "      fill: #1967D2;\n",
              "      height: 32px;\n",
              "      padding: 0 0 0 0;\n",
              "      width: 32px;\n",
              "    }\n",
              "\n",
              "    .colab-df-convert:hover {\n",
              "      background-color: #E2EBFA;\n",
              "      box-shadow: 0px 1px 2px rgba(60, 64, 67, 0.3), 0px 1px 3px 1px rgba(60, 64, 67, 0.15);\n",
              "      fill: #174EA6;\n",
              "    }\n",
              "\n",
              "    [theme=dark] .colab-df-convert {\n",
              "      background-color: #3B4455;\n",
              "      fill: #D2E3FC;\n",
              "    }\n",
              "\n",
              "    [theme=dark] .colab-df-convert:hover {\n",
              "      background-color: #434B5C;\n",
              "      box-shadow: 0px 1px 3px 1px rgba(0, 0, 0, 0.15);\n",
              "      filter: drop-shadow(0px 1px 2px rgba(0, 0, 0, 0.3));\n",
              "      fill: #FFFFFF;\n",
              "    }\n",
              "  </style>\n",
              "\n",
              "      <script>\n",
              "        const buttonEl =\n",
              "          document.querySelector('#df-50734b9d-fc91-40a8-94dd-e139868a5e35 button.colab-df-convert');\n",
              "        buttonEl.style.display =\n",
              "          google.colab.kernel.accessAllowed ? 'block' : 'none';\n",
              "\n",
              "        async function convertToInteractive(key) {\n",
              "          const element = document.querySelector('#df-50734b9d-fc91-40a8-94dd-e139868a5e35');\n",
              "          const dataTable =\n",
              "            await google.colab.kernel.invokeFunction('convertToInteractive',\n",
              "                                                     [key], {});\n",
              "          if (!dataTable) return;\n",
              "\n",
              "          const docLinkHtml = 'Like what you see? Visit the ' +\n",
              "            '<a target=\"_blank\" href=https://colab.research.google.com/notebooks/data_table.ipynb>data table notebook</a>'\n",
              "            + ' to learn more about interactive tables.';\n",
              "          element.innerHTML = '';\n",
              "          dataTable['output_type'] = 'display_data';\n",
              "          await google.colab.output.renderOutput(dataTable, element);\n",
              "          const docLink = document.createElement('div');\n",
              "          docLink.innerHTML = docLinkHtml;\n",
              "          element.appendChild(docLink);\n",
              "        }\n",
              "      </script>\n",
              "    </div>\n",
              "  </div>\n",
              "  "
            ]
          },
          "metadata": {},
          "execution_count": 51
        }
      ]
    },
    {
      "cell_type": "code",
      "metadata": {
        "id": "WPYyrpF531-i"
      },
      "source": [
        "df1.to_csv('korean_sentences.csv')"
      ],
      "execution_count": 52,
      "outputs": []
    }
  ]
}