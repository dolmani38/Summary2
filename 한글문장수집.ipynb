{
  "nbformat": 4,
  "nbformat_minor": 0,
  "metadata": {
    "colab": {
      "name": "Untitled22.ipynb",
      "provenance": [],
      "authorship_tag": "ABX9TyPisy+wv73qVcWEOwpHcYml",
      "include_colab_link": true
    },
    "kernelspec": {
      "name": "python3",
      "display_name": "Python 3"
    }
  },
  "cells": [
    {
      "cell_type": "markdown",
      "metadata": {
        "id": "view-in-github",
        "colab_type": "text"
      },
      "source": [
        "<a href=\"https://colab.research.google.com/github/dolmani38/Summary2/blob/main/%ED%95%9C%EA%B8%80%EB%AC%B8%EC%9E%A5%EC%88%98%EC%A7%91.ipynb\" target=\"_parent\"><img src=\"https://colab.research.google.com/assets/colab-badge.svg\" alt=\"Open In Colab\"/></a>"
      ]
    },
    {
      "cell_type": "code",
      "metadata": {
        "colab": {
          "base_uri": "https://localhost:8080/"
        },
        "id": "_oxj7pivHf32",
        "outputId": "0f00ecf5-7580-45b2-fe88-1a2944c3b32c"
      },
      "source": [
        "import urllib.request\r\n",
        "import nltk\r\n",
        "nltk.download('punkt')\r\n",
        "\r\n",
        "urls = ['https://raw.githubusercontent.com/dolmani38/Summary/master/data/%EC%95%A0%EA%B1%B0%EC%84%9C%ED%81%AC%EB%A6%AC%EC%8A%A4%ED%8B%B0-ABC%20%EC%82%B4%EC%9D%B8%EC%82%AC%EA%B1%B4.txt',\r\n",
        "        'https://raw.githubusercontent.com/dolmani38/Summary/master/data/%EC%95%A0%EA%B1%B0%EC%84%9C%ED%81%AC%EB%A6%AC%EC%8A%A4%ED%8B%B0-%EA%B7%B8%EB%A6%AC%EA%B3%A0%20%EC%95%84%EB%AC%B4%EB%8F%84%20%EC%97%86%EC%97%88%EB%8B%A4.txt',\r\n",
        "        'https://raw.githubusercontent.com/dolmani38/Summary/master/data/%EC%95%A0%EA%B1%B0%EC%84%9C%ED%81%AC%EB%A6%AC%EC%8A%A4%ED%8B%B0-%EB%82%98%EC%9D%BC%EA%B0%95%EC%9D%98%20%EC%A3%BD%EC%9D%8C.txt',\r\n",
        "        'https://raw.githubusercontent.com/dolmani38/Summary/master/data/%EC%95%A0%EA%B1%B0%EC%84%9C%ED%81%AC%EB%A6%AC%EC%8A%A4%ED%8B%B0-%EB%A7%8C%EC%B0%AC%ED%9A%8C%EC%9D%98%2013%EC%9D%B8.txt',\r\n",
        "        'https://raw.githubusercontent.com/dolmani38/Summary/master/data/%EC%95%A0%EA%B1%B0%EC%84%9C%ED%81%AC%EB%A6%AC%EC%8A%A4%ED%8B%B0-%EB%A9%94%EC%86%8C%ED%8F%AC%ED%83%80%EB%AF%B8%EC%95%84%EC%9D%98%20%EC%A3%BD%EC%9D%8C.txt',\r\n",
        "        'https://raw.githubusercontent.com/dolmani38/Summary/master/data/%EC%95%A0%EA%B1%B0%EC%84%9C%ED%81%AC%EB%A6%AC%EC%8A%A4%ED%8B%B0-%EB%AA%A9%EC%82%AC%EA%B4%80%EC%82%B4%EC%9D%B8.txt',\r\n",
        "        'https://raw.githubusercontent.com/dolmani38/Summary/master/data/%EC%95%A0%EA%B1%B0%EC%84%9C%ED%81%AC%EB%A6%AC%EC%8A%A4%ED%8B%B0-%EB%B2%99%EC%96%B4%EB%A6%AC%20%EB%AA%A9%EA%B2%A9%EC%9E%90.txt',\r\n",
        "        'https://raw.githubusercontent.com/dolmani38/Summary/master/data/%EC%95%A0%EA%B1%B0%EC%84%9C%ED%81%AC%EB%A6%AC%EC%8A%A4%ED%8B%B0-%EB%B9%84%EB%B0%80%20%EC%84%9C%EB%A5%98%EB%A5%BC%20%EB%85%B8%EB%A0%A4%EB%9D%BC.txt',\r\n",
        "        'https://raw.githubusercontent.com/dolmani38/Summary/master/data/%EC%95%A0%EA%B1%B0%EC%84%9C%ED%81%AC%EB%A6%AC%EC%8A%A4%ED%8B%B0-%EC%8A%A4%ED%8E%98%EC%9D%B8%EA%B6%A4%EC%A7%9D%EC%9D%98%20%EB%B9%84%EB%B0%80.txt',\r\n",
        "        'https://raw.githubusercontent.com/dolmani38/Summary/master/data/%EC%95%A0%EA%B1%B0%EC%84%9C%ED%81%AC%EB%A6%AC%EC%8A%A4%ED%8B%B0-%EC%95%84%ED%8C%8C%ED%8A%B8%EC%97%90%20%EB%82%98%ED%83%80%EB%82%9C%20%EC%9A%94%EC%A0%95.txt',\r\n",
        "        'https://raw.githubusercontent.com/dolmani38/Summary/master/data/%EC%95%A0%EA%B1%B0%EC%84%9C%ED%81%AC%EB%A6%AC%EC%8A%A4%ED%8B%B0-%EC%95%A0%ED%81%AC%EB%A1%9C%EC%9D%B4%EB%93%9C%20%EC%82%B4%EC%9D%B8%20%EC%82%AC%EA%B1%B4.txt',\r\n",
        "        'https://raw.githubusercontent.com/dolmani38/Summary/master/data/%EC%95%A0%EA%B1%B0%EC%84%9C%ED%81%AC%EB%A6%AC%EC%8A%A4%ED%8B%B0-%EC%98%88%EA%B3%A0%20%EC%82%B4%EC%9D%B8.txt',\r\n",
        "        'https://raw.githubusercontent.com/dolmani38/Summary/master/data/%EC%95%A0%EA%B1%B0%EC%84%9C%ED%81%AC%EB%A6%AC%EC%8A%A4%ED%8B%B0-%EC%A5%90%EB%8D%AB.txt',\r\n",
        "        'https://raw.githubusercontent.com/dolmani38/Summary/master/data/%EC%95%A0%EA%B1%B0%EC%84%9C%ED%81%AC%EB%A6%AC%EC%8A%A4%ED%8B%B0-%EC%BB%A4%ED%8A%BC.txt',\r\n",
        "        'https://raw.githubusercontent.com/dolmani38/Summary/master/data/%EC%95%A0%EA%B1%B0%EC%84%9C%ED%81%AC%EB%A6%AC%EC%8A%A4%ED%8B%B0-%ED%81%AC%EB%A6%AC%EC%8A%A4%EB%A7%88%EC%8A%A4%20%ED%91%B8%EB%94%A9%EC%9D%98%20%EB%AA%A8%ED%97%98.txt',\r\n",
        "        'https://raw.githubusercontent.com/dolmani38/Summary/master/data/%EC%95%A0%EA%B1%B0%EC%84%9C%ED%81%AC%EB%A6%AC%EC%8A%A4%ED%8B%B0-%ED%91%B8%EB%A5%B8%EC%97%B4%EC%B0%A8%EC%9D%98%EC%A3%BD%EC%9D%8C.txt',\r\n",
        "        'https://raw.githubusercontent.com/dolmani38/Summary/master/data/%EC%95%A0%EA%B1%B0%EC%84%9C%ED%81%AC%EB%A6%AC%EC%8A%A4%ED%8B%B0-%ED%99%94%EC%9A%94%EC%9D%BC%20%ED%81%B4%EB%9F%BD%EC%9D%98%20%EC%82%B4%EC%9D%B8.txt']\r\n",
        "\r\n",
        "# 간단한 전처리\r\n",
        "def clean_text(txt):\r\n",
        "    txt = txt.replace('\\n',' ')\r\n",
        "    txt = txt.replace('\\r',' ')    \r\n",
        "    txt = txt.replace('=','')\r\n",
        "    txt = txt.replace('\\\"','')   \r\n",
        "    txt = txt.replace('\\'','')\r\n",
        "    txt = txt.replace(',','')\r\n",
        "    txt = txt.replace('..','')\r\n",
        "    txt = txt.replace('...','')\r\n",
        "    #txt = txt.replace('.','. ')\r\n",
        "    txt = txt.replace('.','. ')\r\n",
        "    txt = txt.replace('  ',' ')\r\n",
        "    txt = txt.replace('  ',' ')    \r\n",
        "    txt = txt.replace('  ',' ')   \r\n",
        "    txt = txt.replace('  ',' ')           \r\n",
        "    txt = txt.replace('  ',' ')\r\n",
        "    txt = txt.replace('  ',' ')    \r\n",
        "    txt = txt.replace('  ',' ')   \r\n",
        "    txt = txt.replace('  ',' ')             \r\n",
        "    return txt.strip()\r\n",
        "\r\n",
        "def collect_korean_sentences(source_urls=[]):\r\n",
        "    ko_sentences_dataset = []\r\n",
        "    for url in source_urls:\r\n",
        "        raw_text = urllib.request.urlopen(url).read().decode('utf-8')\r\n",
        "        ko_sentences_dataset += nltk.sent_tokenize(clean_text(raw_text))\r\n",
        "\r\n",
        "    sentences = []\r\n",
        "    for txt in ko_sentences_dataset:\r\n",
        "        txt = txt.strip()\r\n",
        "        if len(txt) > 40:\r\n",
        "            sentences.append(txt)\r\n",
        "\r\n",
        "    return sentences"
      ],
      "execution_count": 38,
      "outputs": [
        {
          "output_type": "stream",
          "text": [
            "[nltk_data] Downloading package punkt to /root/nltk_data...\n",
            "[nltk_data]   Package punkt is already up-to-date!\n"
          ],
          "name": "stdout"
        }
      ]
    },
    {
      "cell_type": "code",
      "metadata": {
        "id": "kCdexUUnI0fZ"
      },
      "source": [
        "korean_sentences = collect_korean_sentences(urls)"
      ],
      "execution_count": null,
      "outputs": []
    },
    {
      "cell_type": "code",
      "metadata": {
        "colab": {
          "base_uri": "https://localhost:8080/"
        },
        "id": "eOgR8yl2JJRc",
        "outputId": "7f8a6cf5-3332-4c69-9ceb-21690c3c0af4"
      },
      "source": [
        "len(korean_sentences)"
      ],
      "execution_count": null,
      "outputs": [
        {
          "output_type": "execute_result",
          "data": {
            "text/plain": [
              "18036"
            ]
          },
          "metadata": {
            "tags": []
          },
          "execution_count": 7
        }
      ]
    },
    {
      "cell_type": "code",
      "metadata": {
        "colab": {
          "base_uri": "https://localhost:8080/",
          "height": 36
        },
        "id": "gcWLGtO3JMqr",
        "outputId": "d164bbd9-0291-4347-d9d9-29748c011f37"
      },
      "source": [
        "korean_sentences[100]"
      ],
      "execution_count": null,
      "outputs": [
        {
          "output_type": "execute_result",
          "data": {
            "application/vnd.google.colaboratory.intrinsic+json": {
              "type": "string"
            },
            "text/plain": [
              "'그러나 당신이 받으셨다는 그 이상한 편지도 고려해 보고 싶습니다, 포아로 씨.'"
            ]
          },
          "metadata": {
            "tags": []
          },
          "execution_count": 8
        }
      ]
    },
    {
      "cell_type": "markdown",
      "metadata": {
        "id": "20LUFunskl89"
      },
      "source": [
        "# 한글 뉴스 크롤러"
      ]
    },
    {
      "cell_type": "code",
      "metadata": {
        "id": "YbnthNhikpMA",
        "outputId": "830b40f0-9d3a-418d-f996-73c34a00e463",
        "colab": {
          "base_uri": "https://localhost:8080/"
        }
      },
      "source": [
        "if True:\r\n",
        "    from google.colab import drive\r\n",
        "    drive.mount('/content/drive')"
      ],
      "execution_count": 41,
      "outputs": [
        {
          "output_type": "stream",
          "text": [
            "Mounted at /content/drive\n"
          ],
          "name": "stdout"
        }
      ]
    },
    {
      "cell_type": "code",
      "metadata": {
        "id": "E1gk6vJdoJHO"
      },
      "source": [
        "f = open(\"/content/drive/MyDrive/Colab Notebooks/summary/korean_news_corpus.csv\", \"a\")\r\n",
        "f.write(\"title,contents\\r\\n\")\r\n",
        "f.close() "
      ],
      "execution_count": 52,
      "outputs": []
    },
    {
      "cell_type": "code",
      "metadata": {
        "id": "DbGS6FLsLml0"
      },
      "source": [
        "import requests\r\n",
        "import pandas as pd\r\n",
        "import datetime\r\n",
        "import requests\r\n",
        "from bs4 import BeautifulSoup\r\n",
        "from tqdm import tqdm_notebook\r\n",
        "from multiprocessing import Pool\r\n",
        "\r\n",
        "client_id = \"waXxTjNdGjzj8xtT3nbF\" #1.에서 취득한 아이디 넣기\r\n",
        "client_secret = \"H6mejnkuYx\"  #1. 에서 취득한 키 넣기\r\n",
        "\r\n",
        "def clean_html(x):\r\n",
        "    x = re.sub(\"\\&\\w*\\;\",\"\",x)\r\n",
        "    x = re.sub(\"<.*?>\",\"\",x)\r\n",
        "    return x\r\n",
        "\r\n",
        "def get_news_urls(search_word = '코로나',max_display = 100):\r\n",
        "    encode_type = 'json' #출력 방식 json 또는 xml\r\n",
        "    #max_display = 100 #출력 뉴스 수\r\n",
        "    sort = 'date' #결과값의 정렬기준 시간순 date, 관련도 순 sim\r\n",
        "    start = 1 # 출력 위치\r\n",
        "\r\n",
        "    url = f\"https://openapi.naver.com/v1/search/news.{encode_type}?query={search_word}&display={str(int(max_display))}&start={str(int(start))}&sort={sort}\"\r\n",
        "\r\n",
        "    #헤더에 아이디와 키 정보 넣기\r\n",
        "    headers = {'X-Naver-Client-Id' : client_id,\r\n",
        "            'X-Naver-Client-Secret':client_secret\r\n",
        "            }\r\n",
        "\r\n",
        "    #HTTP요청 보내기\r\n",
        "    r = requests.get(url, headers=headers)\r\n",
        "    #요청 결과 보기 200 이면 정상적으로 요청 완료\r\n",
        "    df = pd.DataFrame(r.json()['items'])\r\n",
        "    df['title'] = df['title'].apply(lambda x: clean_html(x))\r\n",
        "    df['description'] = df['description'].apply(lambda x: clean_html(x))\r\n",
        "\r\n",
        "    return df\r\n",
        "\r\n",
        "def get_news_title_contents(url):\r\n",
        "    headers = {'User-Agent':'Chrome/66.0.3359.181'}\r\n",
        "    result = requests.get(url,headers=headers)\r\n",
        "    bs_obj = BeautifulSoup(result.content, \"html.parser\")\r\n",
        "    main_news = []\r\n",
        "\r\n",
        "    #print(bs_obj)\r\n",
        "    try:\r\n",
        "        title = bs_obj.find(\"h3\",{\"id\":\"articleTitle\"}).text\r\n",
        "        body = bs_obj.find(\"div\",{\"class\":\"_article_body_contents\"}).get_text(\"\\n\").replace(\"// flash 오류를 우회하기 위한 함수 추가\",\"\").replace(\"function _flash_removeCallback() {}\",\"\")\r\n",
        "        aid = bs_obj.find(\"div\",{\"class\":\"article_header\"}).find(\"img\")[\"title\"]\r\n",
        "        main_news = [clean_text(title),clean_text(body)]\r\n",
        "    except:\r\n",
        "        a=1\r\n",
        "    return main_news    "
      ],
      "execution_count": 46,
      "outputs": []
    },
    {
      "cell_type": "code",
      "metadata": {
        "id": "I5_baFy0MA9c"
      },
      "source": [
        "def make_corpus(search_word = '코로나'):\r\n",
        "    f = open(\"/content/drive/MyDrive/Colab Notebooks/summary/korean_news_corpus.csv\", \"a\")\r\n",
        "    df = get_news_urls(search_word = search_word,max_display = 10000)\r\n",
        "    for url in df['link']:\r\n",
        "        if url.startswith('https://news.naver.com/'):\r\n",
        "            news = get_news_title_contents(url)\r\n",
        "            if (len(news) == 2):\r\n",
        "                f.write(news[0] + \",\" + news[1] + \"\\r\\n\")\r\n",
        "    f.close() "
      ],
      "execution_count": 53,
      "outputs": []
    },
    {
      "cell_type": "code",
      "metadata": {
        "id": "ZFBFu4kHonnE"
      },
      "source": [
        "keywords = ['뉴스','속보','스포츠','광명','금융','자동','인터뷰','대출','신도시','바이오','경쟁','공무원','재난','신도시','청약','주문','협력','교회','충성','요양','병원','백신']"
      ],
      "execution_count": 54,
      "outputs": []
    },
    {
      "cell_type": "code",
      "metadata": {
        "id": "aLEIE0Ohpt_T"
      },
      "source": [
        "for word in keywords:\r\n",
        "    make_corpus(word)"
      ],
      "execution_count": 55,
      "outputs": []
    },
    {
      "cell_type": "code",
      "metadata": {
        "id": "x2SVFolz3A3B"
      },
      "source": [
        "df = pd.read_csv('/content/drive/MyDrive/Colab Notebooks/summary/korean_news_corpus.csv')"
      ],
      "execution_count": 56,
      "outputs": []
    },
    {
      "cell_type": "code",
      "metadata": {
        "id": "-xrsIDUA3KZS",
        "outputId": "9cc5525e-4a02-409a-ddd9-513895574665",
        "colab": {
          "base_uri": "https://localhost:8080/",
          "height": 71
        }
      },
      "source": [
        "df['contents'][510]"
      ],
      "execution_count": 67,
      "outputs": [
        {
          "output_type": "execute_result",
          "data": {
            "application/vnd.google.colaboratory.intrinsic+json": {
              "type": "string"
            },
            "text/plain": [
              "'(서울뉴스1) 김현모 문화재청장이 10일 오전 대전광역시 문화재청사 9층 대회의실에서 열린 ‘더더더 정부혁신 적극행정 어벤져스 토론회’에서 인사말을 하고 있다. 이번 토론회는 문화재청 신규공무원을 중심으로 국민 입장과 시각에서 바라본 정부혁신 과제에 대한 의견을 나누는 자리로 마련되었다. (문화재청 제공) 2021. 3. 10/뉴스1 photo@news1. kr ▶ 네이버 메인에서 [뉴스1] 구독하기! ▶ 뉴스1&BBC 한글 뉴스 ▶ 터닝포인트 2021 © 뉴스1코리아( news1. kr ) 무단 전재 및 재배포 금지'"
            ]
          },
          "metadata": {
            "tags": []
          },
          "execution_count": 67
        }
      ]
    }
  ]
}